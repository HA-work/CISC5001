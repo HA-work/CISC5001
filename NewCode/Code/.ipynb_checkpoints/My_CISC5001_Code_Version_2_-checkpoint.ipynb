{
 "cells": [
  {
   "cell_type": "code",
   "execution_count": 49,
   "metadata": {
    "colab": {
     "base_uri": "https://localhost:8080/"
    },
    "id": "NLJjkG-qsQ_A",
    "outputId": "584aa72b-e4a3-4e22-bc94-77d335d0d30f"
   },
   "outputs": [
    {
     "name": "stdout",
     "output_type": "stream",
     "text": [
      "['My_CISC5001_Code_Version_1_.ipynb', '.stay', 'featMatVersion7.csv', 'My_CISC5001_Code_Version_2_.ipynb', '.ipynb_checkpoints']\n"
     ]
    }
   ],
   "source": [
    "import numpy as np # linear algebra\n",
    "import pandas as pd # data processing, CSV file I/O (e.g. pd.read_csv)\n",
    "import tensorflow as tf\n",
    "\n",
    "import matplotlib.pyplot as plt\n",
    "import matplotlib\n",
    "\n",
    "%matplotlib inline\n",
    "matplotlib.style.use('ggplot') \n",
    "\n",
    "from sklearn import datasets\n",
    "from sklearn import preprocessing\n",
    "from sklearn.model_selection import train_test_split\n",
    "from sklearn.decomposition import PCA\n",
    "from sklearn.neighbors import KNeighborsClassifier\n",
    "from sklearn.datasets import load_digits\n",
    "from sklearn.linear_model import LogisticRegression\n",
    "from sklearn.preprocessing import StandardScaler\n",
    "from sklearn.linear_model import LinearRegression\n",
    "\n",
    "\n",
    "\n",
    "import sys\n",
    "\n",
    "import seaborn as sns\n",
    "from sklearn import metrics\n",
    "\n",
    "#Based on Eddie Lam's code\n",
    "\n",
    "'''\n",
    "Reusing code:\n",
    "https://stackabuse.com/k-nearest-neighbors-algorithm-in-python-and-scikit-learn/\n",
    "\n",
    "Explaining result:\n",
    "https://datascience.stackexchange.com/questions/65839/macro-average-and-weighted-average-meaning-in-classification-report\n",
    "\n",
    "\n",
    "Test_fearMat_Clean: 4168\n",
    "    Before edit: 4231 rows × 34 columns\n",
    "    After edit: 4168 rows × 34 columns\n",
    "    \n",
    "    #removed 6 to 7\n",
    "    total = 3749         (20% = 750; 80% = 2,999)\n",
    "    \n",
    "\n",
    "Train_fearMat_Clean: 16680\n",
    "    Before edit: 16927 rows × 34 columns\n",
    "    After edit: 16680 rows × 34 columns\n",
    "    \n",
    "    #removed 6 to 7\n",
    "    total = 15045         (20% = 3,009; 80% = 12,036)\n",
    "\n",
    "'''\n",
    "\n",
    "import os\n",
    "\n",
    "\n",
    "print(os.listdir(r\".\"))         #print out what's in the file/directory\n",
    "#train = pd.read_csv(r\"featMatVersion0.csv\")\n",
    "#This is the unedited file from Eddie\n",
    "\n",
    "#train = pd.read_csv(r\"featMatVersion1.csv\")\n",
    "\n",
    "#train = pd.read_csv(r\"featMatVersion2.csv\")\n",
    "\n",
    "\n",
    "#/content/featMatVersion2.csv\n",
    "\n",
    "#train = pd.read_csv(r\"featMatVersion3.csv\")\n",
    "\n",
    "#train = pd.read_csv(r\"featMatVersion4.csv\")\n",
    "#Same as original but no comunns 2 and 13\n",
    "\n",
    "\n",
    "#train = pd.read_csv(r\"featMatVersion5.csv\")\n",
    "#Same as version1 but no comunns 2 and 13\n",
    "\n",
    "\n",
    "#train = pd.read_csv(r\"featMatVersion6.csv\")\n",
    "#Same as version2 but no comunns 2 and 13\n",
    "\n",
    "\n",
    "train = pd.read_csv(r\"featMatVersion7.csv\")\n",
    "#Same as version3 but no comunns 2 and 13\n",
    "\n",
    "\n",
    "#Find out how to randomize dataset\n",
    "\n",
    "#Version Orginal is the unmodified dataset from Eddie\n",
    "\n",
    "# This Version1 uses one authentic user with a class ID of 1\n",
    "# The rest have a class ID of 0\n",
    "\n",
    "#Version 2 has sessions 6 and 7 removed\n",
    "\n",
    "#Version 3 has sessions 6 and 7 removed and authentic user with class 1 and rest 0\n",
    "\n",
    "#clean up the negative values for interstroke?\n",
    "\n",
    "#compare only 2 people?\n",
    "\n",
    "#remove columns 2 and 13?\n",
    "\n",
    "#Make a second code for the ones with the removed columns\n",
    "\n",
    "#Too much data to clean up\n",
    "\n",
    "#Should try randomizing\n",
    "\n",
    "#upload the csv to google colab\n",
    "#for some reason need to do this each time\n",
    "#need to find a way to store and acces from drive\n",
    "\n",
    "#pd.read_csv('/My Drive/Collab Notebooks/featMatVersionOriginal.csv')\n",
    "\n",
    "#Try to get data from google drive instead of manually importing it\n",
    "\n",
    "#Maybe try removing sessions 6 and 7"
   ]
  },
  {
   "cell_type": "code",
   "execution_count": 50,
   "metadata": {
    "colab": {
     "base_uri": "https://localhost:8080/",
     "height": 360
    },
    "id": "ea2c4gqwsQ_I",
    "outputId": "0450a3be-87ed-4732-baea-f00a77f06d34"
   },
   "outputs": [
    {
     "data": {
      "text/html": [
       "<div>\n",
       "<style scoped>\n",
       "    .dataframe tbody tr th:only-of-type {\n",
       "        vertical-align: middle;\n",
       "    }\n",
       "\n",
       "    .dataframe tbody tr th {\n",
       "        vertical-align: top;\n",
       "    }\n",
       "\n",
       "    .dataframe thead th {\n",
       "        text-align: right;\n",
       "    }\n",
       "</style>\n",
       "<table border=\"1\" class=\"dataframe\">\n",
       "  <thead>\n",
       "    <tr style=\"text-align: right;\">\n",
       "      <th></th>\n",
       "      <th>User_ID</th>\n",
       "      <th>Inter-Stroke time</th>\n",
       "      <th>Stroke Duration</th>\n",
       "      <th>Start X</th>\n",
       "      <th>Start Y</th>\n",
       "      <th>Stop X</th>\n",
       "      <th>Stop Y</th>\n",
       "      <th>Direct end-to-end Distance</th>\n",
       "      <th>Mean resulant length</th>\n",
       "      <th>WSAD Flag</th>\n",
       "      <th>...</th>\n",
       "      <th>Average Direction</th>\n",
       "      <th>Length of Trajectory</th>\n",
       "      <th>Ratio dist and length of trajectory</th>\n",
       "      <th>Average velocity</th>\n",
       "      <th>Median acceleration at first 5 pts</th>\n",
       "      <th>Mid-Stroke pressure</th>\n",
       "      <th>Mid-Stroke area covered</th>\n",
       "      <th>Mid-Stroke finger orientation</th>\n",
       "      <th>Change of finger orientation</th>\n",
       "      <th>Phone orientation</th>\n",
       "    </tr>\n",
       "  </thead>\n",
       "  <tbody>\n",
       "    <tr>\n",
       "      <th>0</th>\n",
       "      <td>1</td>\n",
       "      <td>17.832</td>\n",
       "      <td>0.230</td>\n",
       "      <td>16.788</td>\n",
       "      <td>-51.454</td>\n",
       "      <td>18.532</td>\n",
       "      <td>-55.270</td>\n",
       "      <td>4.1952</td>\n",
       "      <td>0.90732</td>\n",
       "      <td>1</td>\n",
       "      <td>...</td>\n",
       "      <td>-0.94145</td>\n",
       "      <td>4.2232</td>\n",
       "      <td>0.99337</td>\n",
       "      <td>18.362</td>\n",
       "      <td>827.900</td>\n",
       "      <td>0.35</td>\n",
       "      <td>0.088889</td>\n",
       "      <td>0.0</td>\n",
       "      <td>0</td>\n",
       "      <td>1</td>\n",
       "    </tr>\n",
       "    <tr>\n",
       "      <th>1</th>\n",
       "      <td>1</td>\n",
       "      <td>0.489</td>\n",
       "      <td>0.069</td>\n",
       "      <td>28.779</td>\n",
       "      <td>-34.448</td>\n",
       "      <td>28.779</td>\n",
       "      <td>-34.448</td>\n",
       "      <td>0.0000</td>\n",
       "      <td>1.00000</td>\n",
       "      <td>2</td>\n",
       "      <td>...</td>\n",
       "      <td>0.00000</td>\n",
       "      <td>0.0000</td>\n",
       "      <td>0.92400</td>\n",
       "      <td>0.000</td>\n",
       "      <td>7819.644</td>\n",
       "      <td>0.27</td>\n",
       "      <td>0.088889</td>\n",
       "      <td>0.0</td>\n",
       "      <td>0</td>\n",
       "      <td>1</td>\n",
       "    </tr>\n",
       "    <tr>\n",
       "      <th>2</th>\n",
       "      <td>1</td>\n",
       "      <td>3.850</td>\n",
       "      <td>1.434</td>\n",
       "      <td>26.381</td>\n",
       "      <td>-34.993</td>\n",
       "      <td>23.656</td>\n",
       "      <td>-19.186</td>\n",
       "      <td>16.0400</td>\n",
       "      <td>0.80749</td>\n",
       "      <td>3</td>\n",
       "      <td>...</td>\n",
       "      <td>1.54540</td>\n",
       "      <td>16.4800</td>\n",
       "      <td>0.97329</td>\n",
       "      <td>11.493</td>\n",
       "      <td>-115.440</td>\n",
       "      <td>0.68</td>\n",
       "      <td>0.200000</td>\n",
       "      <td>0.0</td>\n",
       "      <td>0</td>\n",
       "      <td>1</td>\n",
       "    </tr>\n",
       "    <tr>\n",
       "      <th>3</th>\n",
       "      <td>1</td>\n",
       "      <td>1.949</td>\n",
       "      <td>1.253</td>\n",
       "      <td>29.652</td>\n",
       "      <td>-32.922</td>\n",
       "      <td>26.817</td>\n",
       "      <td>-17.878</td>\n",
       "      <td>15.3080</td>\n",
       "      <td>0.89276</td>\n",
       "      <td>3</td>\n",
       "      <td>...</td>\n",
       "      <td>1.66020</td>\n",
       "      <td>15.6930</td>\n",
       "      <td>0.97551</td>\n",
       "      <td>12.524</td>\n",
       "      <td>51.968</td>\n",
       "      <td>0.50</td>\n",
       "      <td>0.155560</td>\n",
       "      <td>0.0</td>\n",
       "      <td>0</td>\n",
       "      <td>1</td>\n",
       "    </tr>\n",
       "    <tr>\n",
       "      <th>4</th>\n",
       "      <td>1</td>\n",
       "      <td>2.185</td>\n",
       "      <td>1.226</td>\n",
       "      <td>30.415</td>\n",
       "      <td>-30.633</td>\n",
       "      <td>27.798</td>\n",
       "      <td>-17.115</td>\n",
       "      <td>13.7680</td>\n",
       "      <td>0.84416</td>\n",
       "      <td>3</td>\n",
       "      <td>...</td>\n",
       "      <td>1.60360</td>\n",
       "      <td>14.1660</td>\n",
       "      <td>0.97194</td>\n",
       "      <td>11.555</td>\n",
       "      <td>1060.600</td>\n",
       "      <td>0.56</td>\n",
       "      <td>0.133330</td>\n",
       "      <td>0.0</td>\n",
       "      <td>0</td>\n",
       "      <td>1</td>\n",
       "    </tr>\n",
       "  </tbody>\n",
       "</table>\n",
       "<p>5 rows × 32 columns</p>\n",
       "</div>"
      ],
      "text/plain": [
       "   User_ID  Inter-Stroke time  Stroke Duration  Start X  Start Y  Stop X  \\\n",
       "0        1             17.832            0.230   16.788  -51.454  18.532   \n",
       "1        1              0.489            0.069   28.779  -34.448  28.779   \n",
       "2        1              3.850            1.434   26.381  -34.993  23.656   \n",
       "3        1              1.949            1.253   29.652  -32.922  26.817   \n",
       "4        1              2.185            1.226   30.415  -30.633  27.798   \n",
       "\n",
       "   Stop Y  Direct end-to-end Distance  Mean resulant length  WSAD Flag  ...  \\\n",
       "0 -55.270                      4.1952               0.90732          1  ...   \n",
       "1 -34.448                      0.0000               1.00000          2  ...   \n",
       "2 -19.186                     16.0400               0.80749          3  ...   \n",
       "3 -17.878                     15.3080               0.89276          3  ...   \n",
       "4 -17.115                     13.7680               0.84416          3  ...   \n",
       "\n",
       "   Average Direction  Length of Trajectory  \\\n",
       "0           -0.94145                4.2232   \n",
       "1            0.00000                0.0000   \n",
       "2            1.54540               16.4800   \n",
       "3            1.66020               15.6930   \n",
       "4            1.60360               14.1660   \n",
       "\n",
       "   Ratio dist and length of trajectory  Average velocity  \\\n",
       "0                              0.99337            18.362   \n",
       "1                              0.92400             0.000   \n",
       "2                              0.97329            11.493   \n",
       "3                              0.97551            12.524   \n",
       "4                              0.97194            11.555   \n",
       "\n",
       "   Median acceleration at first 5 pts  Mid-Stroke pressure  \\\n",
       "0                             827.900                 0.35   \n",
       "1                            7819.644                 0.27   \n",
       "2                            -115.440                 0.68   \n",
       "3                              51.968                 0.50   \n",
       "4                            1060.600                 0.56   \n",
       "\n",
       "   Mid-Stroke area covered  Mid-Stroke finger orientation  \\\n",
       "0                 0.088889                            0.0   \n",
       "1                 0.088889                            0.0   \n",
       "2                 0.200000                            0.0   \n",
       "3                 0.155560                            0.0   \n",
       "4                 0.133330                            0.0   \n",
       "\n",
       "   Change of finger orientation  Phone orientation  \n",
       "0                             0                  1  \n",
       "1                             0                  1  \n",
       "2                             0                  1  \n",
       "3                             0                  1  \n",
       "4                             0                  1  \n",
       "\n",
       "[5 rows x 32 columns]"
      ]
     },
     "execution_count": 50,
     "metadata": {},
     "output_type": "execute_result"
    }
   ],
   "source": [
    "#print\n",
    "train.head()"
   ]
  },
  {
   "cell_type": "code",
   "execution_count": 51,
   "metadata": {
    "colab": {
     "base_uri": "https://localhost:8080/"
    },
    "id": "N_7dnDX4sQ_U",
    "outputId": "2487f683-63d2-41c3-ed4e-e45828687c9a"
   },
   "outputs": [
    {
     "data": {
      "text/plain": [
       "False"
      ]
     },
     "execution_count": 51,
     "metadata": {},
     "output_type": "execute_result"
    }
   ],
   "source": [
    "np.any(np.isnan(train))"
   ]
  },
  {
   "cell_type": "code",
   "execution_count": 52,
   "metadata": {
    "colab": {
     "base_uri": "https://localhost:8080/"
    },
    "id": "iTCHhsEtsQ_m",
    "outputId": "8bcf8344-7902-4751-81f2-4f4eccec09a2"
   },
   "outputs": [
    {
     "data": {
      "text/plain": [
       "True"
      ]
     },
     "execution_count": 52,
     "metadata": {},
     "output_type": "execute_result"
    }
   ],
   "source": [
    "np.all(np.isfinite(train))"
   ]
  },
  {
   "cell_type": "code",
   "execution_count": 53,
   "metadata": {
    "colab": {
     "base_uri": "https://localhost:8080/"
    },
    "id": "SEotZNcssQ_1",
    "outputId": "ae97d8be-4c4d-4105-eb06-45d1ac1641cb"
   },
   "outputs": [
    {
     "data": {
      "text/plain": [
       "Index(['User_ID', 'Inter-Stroke time', 'Stroke Duration', 'Start X', 'Start Y',\n",
       "       'Stop X', 'Stop Y', 'Direct end-to-end Distance',\n",
       "       'Mean resulant length', 'WSAD Flag', 'Direction of end-to-end Time',\n",
       "       '20 per pairwise velocity', '50 per pairwise velocity',\n",
       "       '80 per pairwise velocity', '20 per pairwise acc',\n",
       "       '50 per pairwise acc', '80 per pairwise acc',\n",
       "       'Median velocity at last 3pts',\n",
       "       'Largest deviation from end-to-end line', '20 per dev line',\n",
       "       '50 per dev line', '80 per dev line', 'Average Direction',\n",
       "       'Length of Trajectory', 'Ratio dist and length of trajectory',\n",
       "       'Average velocity', 'Median acceleration at first 5 pts',\n",
       "       'Mid-Stroke pressure', 'Mid-Stroke area covered',\n",
       "       'Mid-Stroke finger orientation', 'Change of finger orientation',\n",
       "       'Phone orientation'],\n",
       "      dtype='object')"
      ]
     },
     "execution_count": 53,
     "metadata": {},
     "output_type": "execute_result"
    }
   ],
   "source": [
    "#print out the columns\n",
    "train.columns"
   ]
  },
  {
   "cell_type": "code",
   "execution_count": 54,
   "metadata": {
    "colab": {
     "base_uri": "https://localhost:8080/"
    },
    "id": "DfpEDfbasQ_4",
    "outputId": "130ac1fb-f423-439c-96a4-f228cd9d5334"
   },
   "outputs": [
    {
     "data": {
      "text/plain": [
       "0    18691\n",
       "1      401\n",
       "Name: User_ID, dtype: int64"
      ]
     },
     "execution_count": 54,
     "metadata": {},
     "output_type": "execute_result"
    }
   ],
   "source": [
    "#prints the amount of users in 'User_ID'\n",
    "train['User_ID'].value_counts()"
   ]
  },
  {
   "cell_type": "code",
   "execution_count": 55,
   "metadata": {
    "id": "Uxa7-b7TsQ_8"
   },
   "outputs": [],
   "source": [
    "#Choosing the columns for X\n",
    "#Not using 'User_ID', 'Doc_ID', or 'Phone_ID'\n",
    "X = train[['Inter-Stroke time', 'Stroke Duration', 'Start X', 'Start Y', 'Stop X', 'Stop Y', 'Direct end-to-end Distance',\n",
    "        'Mean resulant length', 'WSAD Flag', 'Direction of end-to-end Time', '20 per pairwise velocity', \n",
    "        '50 per pairwise velocity', '80 per pairwise velocity', '20 per pairwise acc', '50 per pairwise acc', \n",
    "        '80 per pairwise acc', 'Median velocity at last 3pts', 'Largest deviation from end-to-end line', '20 per dev line',\n",
    "        '50 per dev line', '80 per dev line', 'Average Direction', 'Length of Trajectory', \n",
    "        'Ratio dist and length of trajectory', 'Average velocity', 'Median acceleration at first 5 pts',\n",
    "        'Mid-Stroke pressure', 'Mid-Stroke area covered', 'Mid-Stroke finger orientation', 'Change of finger orientation',\n",
    "        'Phone orientation']].values"
   ]
  },
  {
   "cell_type": "code",
   "execution_count": 56,
   "metadata": {
    "id": "5beQNhkvsRAA"
   },
   "outputs": [],
   "source": [
    "#Choosing the lables for y\n",
    "y = train['User_ID'].values"
   ]
  },
  {
   "cell_type": "code",
   "execution_count": 57,
   "metadata": {
    "id": "ui3CfitGsRAE"
   },
   "outputs": [],
   "source": [
    "#Train and test split\n",
    "#80% train, 20% test\n",
    "#splitting the data into test and train dataset\n",
    "\n",
    "from sklearn.model_selection import train_test_split\n",
    "X_train, X_test, y_train, y_test = train_test_split(X, y, test_size=0.20)"
   ]
  },
  {
   "cell_type": "code",
   "execution_count": 58,
   "metadata": {
    "id": "vprauDHCsRAG"
   },
   "outputs": [],
   "source": [
    "#Feature Scaling\n",
    "from sklearn.preprocessing import StandardScaler\n",
    "scaler = StandardScaler()\n",
    "scaler.fit(X_train)\n",
    "\n",
    "X_train = scaler.transform(X_train)\n",
    "X_test = scaler.transform(X_test)"
   ]
  },
  {
   "cell_type": "code",
   "execution_count": 59,
   "metadata": {
    "colab": {
     "base_uri": "https://localhost:8080/"
    },
    "id": "kLjdCUPPsRAI",
    "outputId": "009dc0fe-bec3-495c-ae72-566d64c89ec2"
   },
   "outputs": [
    {
     "data": {
      "text/plain": [
       "KNeighborsClassifier(algorithm='auto', leaf_size=30, metric='minkowski',\n",
       "                     metric_params=None, n_jobs=None, n_neighbors=5, p=2,\n",
       "                     weights='uniform')"
      ]
     },
     "execution_count": 59,
     "metadata": {},
     "output_type": "execute_result"
    }
   ],
   "source": [
    "#Training and Prediction\n",
    "from sklearn.neighbors import KNeighborsClassifier\n",
    "classifier = KNeighborsClassifier(n_neighbors=5)         #value for k\n",
    "classifier.fit(X_train, y_train)\n",
    "\n",
    "#Sometimes gets an error for no reason \n",
    "#Run again to fix\n",
    "\n",
    "#The k value is guessed at first and then changed depending on the data\n",
    "#5 is used by convention but is usually a guess\n",
    "#Might want to change to 7 as when I did for K values up to 100 7 seemed smaller\n",
    "#on the smaller graph though 5 seems to be the best answer\n",
    "#The graph fluctuates with each run\n",
    "# 6 and 5 seem to be good choices\n",
    "\n",
    "\n",
    "#For the 0 and 1 dataset the better k values are 4, 7 and 9\n",
    "#Might want to make 2 seperate files\n",
    "\n",
    "#What does leaf size mean"
   ]
  },
  {
   "cell_type": "code",
   "execution_count": 60,
   "metadata": {
    "id": "S4b_wAWWsRAL"
   },
   "outputs": [],
   "source": [
    "#Make prediction on the test data\n",
    "y_pred = classifier.predict(X_test)"
   ]
  },
  {
   "cell_type": "code",
   "execution_count": 61,
   "metadata": {
    "colab": {
     "base_uri": "https://localhost:8080/"
    },
    "id": "n3wPzHvLsRAN",
    "outputId": "13b8c80c-34cd-4610-f9ea-1fc858497cf6"
   },
   "outputs": [
    {
     "name": "stdout",
     "output_type": "stream",
     "text": [
      "[[3738   13]\n",
      " [  27   41]]\n",
      "              precision    recall  f1-score   support\n",
      "\n",
      "           0       0.99      1.00      0.99      3751\n",
      "           1       0.76      0.60      0.67        68\n",
      "\n",
      "    accuracy                           0.99      3819\n",
      "   macro avg       0.88      0.80      0.83      3819\n",
      "weighted avg       0.99      0.99      0.99      3819\n",
      "\n"
     ]
    }
   ],
   "source": [
    "#Evaluating the Algorithm\n",
    "from sklearn.metrics import classification_report, confusion_matrix\n",
    "print(confusion_matrix(y_test, y_pred))\n",
    "print(classification_report(y_test, y_pred))"
   ]
  },
  {
   "cell_type": "code",
   "execution_count": 62,
   "metadata": {
    "colab": {
     "base_uri": "https://localhost:8080/"
    },
    "id": "AfTYQwOosRAP",
    "outputId": "9bac3fce-d1de-4043-897f-0a5c6faf4e4e"
   },
   "outputs": [
    {
     "name": "stdout",
     "output_type": "stream",
     "text": [
      "[[3738   13]\n",
      " [  27   41]]\n"
     ]
    }
   ],
   "source": [
    "#prints the entire confusion matrix\n",
    "#however, it doesnn't fit the entire row and loops around\n",
    "np.set_printoptions(threshold=sys.maxsize)\n",
    "resultCM = (confusion_matrix(y_test, y_pred))\n",
    "print(resultCM)"
   ]
  },
  {
   "cell_type": "code",
   "execution_count": 63,
   "metadata": {
    "colab": {
     "base_uri": "https://localhost:8080/"
    },
    "id": "TR-wa43BsRAS",
    "outputId": "de9d35f2-af82-425d-8494-798c68173168"
   },
   "outputs": [
    {
     "name": "stdout",
     "output_type": "stream",
     "text": [
      "              precision    recall  f1-score   support\n",
      "\n",
      "           0       0.99      1.00      0.99      3751\n",
      "           1       0.76      0.60      0.67        68\n",
      "\n",
      "    accuracy                           0.99      3819\n",
      "   macro avg       0.88      0.80      0.83      3819\n",
      "weighted avg       0.99      0.99      0.99      3819\n",
      "\n"
     ]
    }
   ],
   "source": [
    "resultCR = (classification_report(y_test, y_pred))\n",
    "print(resultCR)"
   ]
  },
  {
   "cell_type": "code",
   "execution_count": null,
   "metadata": {
    "id": "HmAaWoGyDQrX"
   },
   "outputs": [],
   "source": [
    "error = []\n",
    "\n",
    "# Calculating error for K values between 1 and 40\n",
    "#Takes a long time to load\n",
    "# Commented out as it takes a long time\n",
    "\n",
    "for i in range(1, 40):\n",
    "    knn = KNeighborsClassifier(n_neighbors=i)\n",
    "    knn.fit(X_train, y_train)\n",
    "    pred_i = knn.predict(X_test)\n",
    "    error.append(np.mean(pred_i != y_test))"
   ]
  },
  {
   "cell_type": "code",
   "execution_count": null,
   "metadata": {
    "colab": {
     "base_uri": "https://localhost:8080/",
     "height": 425
    },
    "id": "vrf9-TYADgK7",
    "outputId": "6f675bdc-244e-4b74-bc38-ae510b129427"
   },
   "outputs": [],
   "source": [
    "#Commented out as it relies on the above\n",
    "\n",
    "plt.figure(figsize=(12, 6))\n",
    "plt.plot(range(1, 40), error, color='red', linestyle='dashed', marker='o',\n",
    "         markerfacecolor='blue', markersize=10)\n",
    "plt.title('Error Rate K Value')\n",
    "plt.xlabel('K Value')\n",
    "plt.ylabel('Mean Error')"
   ]
  },
  {
   "cell_type": "code",
   "execution_count": null,
   "metadata": {
    "id": "OLX_hpdCuiOL"
   },
   "outputs": [],
   "source": [
    "# all parameters not specified are set to their defaults\n",
    "logisticRegr = LogisticRegression()"
   ]
  },
  {
   "cell_type": "code",
   "execution_count": null,
   "metadata": {
    "colab": {
     "base_uri": "https://localhost:8080/"
    },
    "id": "vFPRZBY-umir",
    "outputId": "94280355-c0e5-4235-9f64-9000951ca5bf"
   },
   "outputs": [],
   "source": [
    "logisticRegr.fit(X_train, y_train)"
   ]
  },
  {
   "cell_type": "code",
   "execution_count": null,
   "metadata": {
    "colab": {
     "base_uri": "https://localhost:8080/"
    },
    "id": "sWq3z1jtuuJ6",
    "outputId": "62847287-ae12-4431-cd5d-68404d0fbc4a"
   },
   "outputs": [],
   "source": [
    "# Returns a NumPy Array\n",
    "# Predict for One Observation (image)\n",
    "logisticRegr.predict(X_test[0].reshape(1,-1))"
   ]
  },
  {
   "cell_type": "code",
   "execution_count": null,
   "metadata": {
    "colab": {
     "base_uri": "https://localhost:8080/"
    },
    "id": "8AhBvTIDvegm",
    "outputId": "c5fe7d13-2fc4-43cc-d82b-89dc665060ba"
   },
   "outputs": [],
   "source": [
    "logisticRegr.predict(X_test[0:10])"
   ]
  },
  {
   "cell_type": "code",
   "execution_count": null,
   "metadata": {
    "id": "derkWsE_vlKR"
   },
   "outputs": [],
   "source": [
    "predictions = logisticRegr.predict(X_test)"
   ]
  },
  {
   "cell_type": "code",
   "execution_count": null,
   "metadata": {
    "colab": {
     "base_uri": "https://localhost:8080/"
    },
    "id": "gPEUOg_3vrVA",
    "outputId": "14d6cfd0-2f03-45e3-dfa7-46f0678ca79f"
   },
   "outputs": [],
   "source": [
    "# Use score method to get accuracy of model\n",
    "score = logisticRegr.score(X_test, y_test)\n",
    "print(score)"
   ]
  },
  {
   "cell_type": "code",
   "execution_count": null,
   "metadata": {
    "colab": {
     "base_uri": "https://localhost:8080/"
    },
    "id": "lHVNc64-vvws",
    "outputId": "d7a260b6-bd44-4dcd-8e41-53a6f6fb49c9"
   },
   "outputs": [],
   "source": [
    "cm = metrics.confusion_matrix(y_test, predictions)\n",
    "print(cm)"
   ]
  },
  {
   "cell_type": "code",
   "execution_count": null,
   "metadata": {
    "colab": {
     "base_uri": "https://localhost:8080/",
     "height": 520
    },
    "id": "_2FbDXtSwBRB",
    "outputId": "adaedda5-a43e-47f9-b470-58703f146a68"
   },
   "outputs": [],
   "source": [
    "plt.figure(figsize=(9,9))\n",
    "sns.heatmap(cm, annot=True, fmt=\".3f\", linewidths=.5, square = True, cmap = 'Blues_r');\n",
    "plt.ylabel('Actual label');\n",
    "plt.xlabel('Predicted label');\n",
    "all_sample_title = 'Accuracy Score: {0}'.format(score)\n",
    "plt.title(all_sample_title, size = 15);"
   ]
  },
  {
   "cell_type": "code",
   "execution_count": null,
   "metadata": {
    "colab": {
     "base_uri": "https://localhost:8080/",
     "height": 657
    },
    "id": "ymDm0grfwEHG",
    "outputId": "c29a5445-a30b-45b6-ecfa-acf2f1f6e257"
   },
   "outputs": [],
   "source": [
    "plt.figure(figsize=(9,9))\n",
    "plt.imshow(cm, interpolation='nearest', cmap='Pastel1')\n",
    "plt.title('Confusion matrix', size = 15)\n",
    "plt.colorbar()\n",
    "tick_marks = np.arange(10)\n",
    "plt.xticks(tick_marks, [\"0\", \"1\", \"2\", \"3\", \"4\", \"5\", \"6\", \"7\", \"8\", \"9\"], rotation=45, size = 10)\n",
    "plt.yticks(tick_marks, [\"0\", \"1\", \"2\", \"3\", \"4\", \"5\", \"6\", \"7\", \"8\", \"9\"], size = 10)\n",
    "plt.tight_layout()\n",
    "plt.ylabel('Actual label', size = 15)\n",
    "plt.xlabel('Predicted label', size = 15)\n",
    "width, height = cm.shape\n",
    "for x in range(width):\n",
    " for y in range(height):\n",
    "  plt.annotate(str(cm[x][y]), xy=(y, x), \n",
    "  horizontalalignment='center',\n",
    "  verticalalignment='center')"
   ]
  },
  {
   "cell_type": "code",
   "execution_count": null,
   "metadata": {
    "id": "omdM-22lx8s6"
   },
   "outputs": [],
   "source": [
    "scaler = preprocessing.MinMaxScaler()\n",
    "X = scaler.fit_transform(X)"
   ]
  },
  {
   "cell_type": "code",
   "execution_count": null,
   "metadata": {
    "colab": {
     "base_uri": "https://localhost:8080/"
    },
    "id": "mevvLu4byjNt",
    "outputId": "ace0888f-a521-466e-c716-80438c387ca3"
   },
   "outputs": [],
   "source": [
    "pca_model = PCA(n_components=2)\n",
    "pca_model.fit(X_train)\n",
    "X_train = pca_model.transform(X_train)\n",
    "X_test = pca_model.transform(X_test)\n",
    "\n",
    "# 2-Dimensions\n",
    "X_train[:5]"
   ]
  },
  {
   "cell_type": "code",
   "execution_count": null,
   "metadata": {
    "id": "1gFbH4NazCig"
   },
   "outputs": [],
   "source": [
    "knn_model = KNeighborsClassifier(n_neighbors=5)\n",
    "knn_model.fit(X_train, y_train) \n",
    "k = 5"
   ]
  },
  {
   "cell_type": "code",
   "execution_count": null,
   "metadata": {
    "colab": {
     "base_uri": "https://localhost:8080/"
    },
    "id": "xJmmD3lmzOlU",
    "outputId": "d9ef42a5-29ea-4a91-8dd9-7a6073f8811b"
   },
   "outputs": [],
   "source": [
    "y_predict = knn_model.predict(X_test)\n",
    "y_predict\n"
   ]
  },
  {
   "cell_type": "code",
   "execution_count": null,
   "metadata": {
    "colab": {
     "base_uri": "https://localhost:8080/",
     "height": 391
    },
    "id": "uWmwHY0yzdax",
    "outputId": "945439fb-81ce-4aaf-c8ed-af42d007c4a7"
   },
   "outputs": [],
   "source": [
    "fig = plt.figure(figsize=(8, 6))\n",
    "ax = fig.add_subplot(111)\n",
    "padding = 0.1\n",
    "resolution = 0.1\n",
    "\n",
    "colors = {0: 'white', 1: 'indigo', 2: 'palegreen'}\n",
    "x_min, x_max = X_train[:, 0].min(), X_train[:, 0].max()\n",
    "y_min, y_max = X_train[:, 1].min(), X_train[:, 1].max()\n",
    "x_range = x_max - x_min\n",
    "y_range = y_max - y_min\n",
    "x_min -= x_range * padding\n",
    "y_min -= y_range * padding\n",
    "x_max += x_range * padding\n",
    "y_max += y_range * padding\n",
    "\n",
    "# Get decision boundaries from model\n",
    "xx, yy = np.meshgrid(np.arange(x_min, x_max, resolution),\n",
    "                     np.arange(y_min, y_max, resolution))\n",
    "\n",
    "Z = knn_model.predict(np.c_[xx.ravel(), yy.ravel()])\n",
    "Z = Z.reshape(xx.shape)\n",
    "\n",
    "# Plot the contour map\n",
    "plt.contourf(xx, yy, Z, cmap=plt.cm.PRGn)\n",
    "plt.axis('tight')\n",
    "\n",
    "# Plot your testing points as wel\n",
    "for label in np.unique(y_test):\n",
    "    indices = np.where(y_test == label)\n",
    "    plt.scatter(X_test[indices, 0], X_test[indices, 1], c=colors[label], alpha=0.8, \n",
    "                label='User ID {}'.format(label))\n",
    "\n",
    "plt.legend(loc='lower right')\n",
    "plt.title('K = {}'.format(k))\n",
    "plt.show()"
   ]
  },
  {
   "cell_type": "code",
   "execution_count": null,
   "metadata": {
    "id": "qAsLRC4l0xJW"
   },
   "outputs": [],
   "source": [
    "# Read in csv file\n",
    "# File: https://github.com/mGalarnyk/Python_Tutorials/blob/master/Python_Basics/Linear_Regression/linear.csv\n",
    "\n",
    "\n",
    "#raw_data= pd.read_csv(r\"featMatVersion0.csv\")\n",
    "#This is the unedited file from Eddie\n",
    "\n",
    "#raw_data = pd.read_csv(r\"featMatVersion1.csv\")\n",
    "\n",
    "#raw_data = pd.read_csv(r\"featMatVersion2.csv\")\n",
    "\n",
    "\n",
    "#/content/featMatVersion2.csv\n",
    "\n",
    "#raw_data = pd.read_csv(r\"featMatVersion3.csv\")\n",
    "\n",
    "#raw_data = pd.read_csv(r\"featMatVersion4.csv\")\n",
    "#Same as original but no comunns 2 and 13\n",
    "\n",
    "\n",
    "#raw_data= pd.read_csv(r\"featMatVersion5.csv\")\n",
    "#Same as version1 but no comunns 2 and 13\n",
    "\n",
    "\n",
    "#raw_data = pd.read_csv(r\"featMatVersion6.csv\")\n",
    "#Same as version2 but no comunns 2 and 13\n",
    "\n",
    "\n",
    "raw_data = pd.read_csv(r\"featMatVersion7.csv\")\n",
    "#Same as version3 but no comunns 2 and 13\n",
    "\n",
    "\n",
    "\n"
   ]
  },
  {
   "cell_type": "code",
   "execution_count": null,
   "metadata": {
    "colab": {
     "base_uri": "https://localhost:8080/",
     "height": 360
    },
    "id": "CvEII4Qt-i30",
    "outputId": "ed96dc0f-0a42-4da1-83f6-15965dd2832a"
   },
   "outputs": [],
   "source": [
    "raw_data.head()"
   ]
  },
  {
   "cell_type": "code",
   "execution_count": null,
   "metadata": {
    "colab": {
     "base_uri": "https://localhost:8080/",
     "height": 360
    },
    "id": "CZ-ukd0s9r_R",
    "outputId": "157d4fe7-e653-44e3-f4a8-4cc72aa5eaf3"
   },
   "outputs": [],
   "source": [
    "\n",
    "\n",
    "\n",
    "# Removes rows with NaN in them\n",
    "filtered_data = raw_data[~np.isnan(raw_data)] \n",
    "\n",
    "# how to clean up data?\n",
    "\n",
    "x_y = np.array(filtered_data)\n",
    "x, y = x_y[:,0], x_y[:,1]\n",
    "\n",
    "# Reshaping\n",
    "x, y = x.reshape(-1,1), y.reshape(-1, 1)\n",
    "\n",
    "filtered_data.head()\n",
    "\n"
   ]
  },
  {
   "cell_type": "code",
   "execution_count": null,
   "metadata": {
    "colab": {
     "base_uri": "https://localhost:8080/",
     "height": 293
    },
    "id": "r3-R9fDV-J_L",
    "outputId": "166f9266-ee20-4425-bca2-a5549de388ed"
   },
   "outputs": [],
   "source": [
    "# Linear Regression Object \n",
    "lin_regression = LinearRegression()\n",
    "\n",
    "# Fitting linear model to the data\n",
    "lin_regression.fit(x,y)\n",
    "\n",
    "# Get slope of fitted line\n",
    "m = lin_regression.coef_\n",
    "\n",
    "# Get y-Intercept of the Line\n",
    "b = lin_regression.intercept_\n",
    "\n",
    "# Get Predictions for original x values\n",
    "# you can also get predictions for new data\n",
    "predictions = lin_regression.predict(x)\n",
    "\n",
    "# following slope intercept form \n",
    "print ( \"formula: y = {0}x + {1}\".format(m, b) )\n",
    "\n",
    "# Plot the Original Model (Black) and Predictions (Blue)\n",
    "plt.scatter(x, y,  color='black')\n",
    "plt.plot(x, predictions, color='blue',linewidth=3)\n",
    "plt.show()"
   ]
  },
  {
   "cell_type": "code",
   "execution_count": null,
   "metadata": {
    "colab": {
     "base_uri": "https://localhost:8080/",
     "height": 360
    },
    "id": "vpuTy24tA9VT",
    "outputId": "ab0bd098-2fc0-4f64-f30e-cfb2ec510c66"
   },
   "outputs": [],
   "source": [
    "#df = pd.read_csv(url, names=['sepal length','sepal width','petal length','petal width','target'])\n",
    "#train = pd.read_csv(r\"featMatVersion0.csv\")\n",
    "#This is the unedited file from Eddie\n",
    "\n",
    "#df = pd.read_csv(r\"featMatVersion1.csv\")\n",
    "\n",
    "#df = pd.read_csv(r\"featMatVersion2.csv\")\n",
    "\n",
    "\n",
    "#/content/featMatVersion2.csv\n",
    "\n",
    "#df = pd.read_csv(r\"featMatVersion3.csv\")\n",
    "\n",
    "#df = pd.read_csv(r\"featMatVersion4.csv\")\n",
    "#Same as original but no comunns 2 and 13\n",
    "\n",
    "\n",
    "#df = pd.read_csv(r\"featMatVersion5.csv\")\n",
    "#Same as version1 but no comunns 2 and 13\n",
    "\n",
    "\n",
    "#df = pd.read_csv(r\"featMatVersion6.csv\")\n",
    "#Same as version2 but no comunns 2 and 13\n",
    "\n",
    "df = pd.read_csv(r\"featMatVersion7.csv\")\n",
    "\n",
    "\n",
    "#df = pd.read_csv(r\"featMatVersion7.csv\",names=['User_ID', 'Inter-Stroke time', 'Stroke Duration', 'Start X', 'Start Y',\n",
    " #      'Stop X', 'Stop Y', 'Direct end-to-end Distance',\n",
    "  #     'Mean resulant length', 'WSAD Flag', 'Direction of end-to-end Time',\n",
    "   #    '20 per pairwise velocity', '50 per pairwise velocity',\n",
    "    #   '80 per pairwise velocity', '20 per pairwise acc',\n",
    "     #  '50 per pairwise acc', '80 per pairwise acc',\n",
    "      # 'Median velocity at last 3pts',\n",
    "       #'Largest deviation from end-to-end line', '20 per dev line',\n",
    "       #'50 per dev line', '80 per dev line', 'Average Direction',\n",
    "       #'Length of Trajectory', 'Ratio dist and length of trajectory',\n",
    "       #'Average velocity', 'Median acceleration at first 5 pts',\n",
    "       #'Mid-Stroke pressure', 'Mid-Stroke area covered',\n",
    "       #'Mid-Stroke finger orientation', 'Change of finger orientation',\n",
    "       #'Phone orientation'] )\n",
    "#Same as version3 but no comunns 2 and 13\n",
    "\n",
    "\n",
    "df.head()\n"
   ]
  },
  {
   "cell_type": "code",
   "execution_count": null,
   "metadata": {
    "id": "4dr1ExyJAuFY"
   },
   "outputs": [],
   "source": [
    "\n",
    "\n",
    "features=[ 'Inter-Stroke time', 'Stroke Duration', 'Start X', 'Start Y',\n",
    "       'Stop X', 'Stop Y', 'Direct end-to-end Distance',\n",
    "       'Mean resulant length', 'WSAD Flag', 'Direction of end-to-end Time',\n",
    "       '20 per pairwise velocity', '50 per pairwise velocity',\n",
    "       '80 per pairwise velocity', '20 per pairwise acc',\n",
    "       '50 per pairwise acc', '80 per pairwise acc',\n",
    "       'Median velocity at last 3pts',\n",
    "       'Largest deviation from end-to-end line', '20 per dev line',\n",
    "       '50 per dev line', '80 per dev line', 'Average Direction',\n",
    "       'Length of Trajectory', 'Ratio dist and length of trajectory',\n",
    "       'Average velocity', 'Median acceleration at first 5 pts',\n",
    "       'Mid-Stroke pressure', 'Mid-Stroke area covered',\n",
    "       'Mid-Stroke finger orientation', 'Change of finger orientation',\n",
    "       'Phone orientation']\n",
    "\n"
   ]
  },
  {
   "cell_type": "code",
   "execution_count": null,
   "metadata": {
    "id": "OqeNut1lCiAf"
   },
   "outputs": [],
   "source": [
    "\n",
    "# Separating out the features\n",
    "x = df.loc[:, features].values\n",
    "# Separating out the target\n",
    "y = df.loc[:,['User_ID']].values\n",
    "# Standardizing the features\n",
    "x = StandardScaler().fit_transform(x)\n",
    "\n"
   ]
  },
  {
   "cell_type": "code",
   "execution_count": null,
   "metadata": {
    "colab": {
     "base_uri": "https://localhost:8080/",
     "height": 204
    },
    "id": "TIHqgPNEGDXC",
    "outputId": "33e43c79-aab1-4fa9-c32c-42c3f1ff5f3c"
   },
   "outputs": [],
   "source": [
    "pca = PCA(n_components=2)\n",
    "principalComponents = pca.fit_transform(x)\n",
    "principalDf = pd.DataFrame(data = principalComponents\n",
    "             , columns = ['principal component 1', 'principal component 2'])\n",
    "\n",
    "principalDf.head()"
   ]
  },
  {
   "cell_type": "code",
   "execution_count": null,
   "metadata": {
    "colab": {
     "base_uri": "https://localhost:8080/",
     "height": 204
    },
    "id": "49ojIcOKGR0L",
    "outputId": "f3bc9cbf-9d1c-4a40-f9aa-6c56ae5e8e94"
   },
   "outputs": [],
   "source": [
    "finalDf = pd.concat([principalDf, df[['User_ID']]], axis = 1)\n",
    "\n",
    "finalDf.head()\n"
   ]
  },
  {
   "cell_type": "code",
   "execution_count": null,
   "metadata": {
    "colab": {
     "base_uri": "https://localhost:8080/",
     "height": 523
    },
    "id": "qJCpOMvMGbZU",
    "outputId": "f642daba-b492-4d62-edd9-1286760b6c56"
   },
   "outputs": [],
   "source": [
    "fig = plt.figure(figsize = (8,8))\n",
    "ax = fig.add_subplot(1,1,1) \n",
    "ax.set_xlabel('Principal Component 1', fontsize = 15)\n",
    "ax.set_ylabel('Principal Component 2', fontsize = 15)\n",
    "ax.set_title('2 component PCA', fontsize = 20)\n",
    "targets = [0, 1]\n",
    "colors = ['r', 'g']\n",
    "for target, color in zip(targets,colors):\n",
    "    indicesToKeep = finalDf['User_ID'] == target\n",
    "    ax.scatter(finalDf.loc[indicesToKeep, 'principal component 1']\n",
    "               , finalDf.loc[indicesToKeep, 'principal component 2']\n",
    "               , c = color\n",
    "               , s = 50)\n",
    "ax.legend(targets)\n",
    "ax.grid()\n",
    "\n",
    "#is not plotting anything?"
   ]
  },
  {
   "cell_type": "code",
   "execution_count": null,
   "metadata": {
    "colab": {
     "base_uri": "https://localhost:8080/"
    },
    "id": "0jxN8JaUI8_7",
    "outputId": "298df320-69b9-4ced-b769-bef9dddff861"
   },
   "outputs": [],
   "source": [
    "pca.explained_variance_ratio_"
   ]
  },
  {
   "cell_type": "code",
   "execution_count": null,
   "metadata": {},
   "outputs": [],
   "source": []
  }
 ],
 "metadata": {
  "colab": {
   "name": "My CISC5001 Code Version 2 .ipynb",
   "provenance": []
  },
  "kernelspec": {
   "display_name": "Python 3",
   "language": "python",
   "name": "python3"
  },
  "language_info": {
   "codemirror_mode": {
    "name": "ipython",
    "version": 3
   },
   "file_extension": ".py",
   "mimetype": "text/x-python",
   "name": "python",
   "nbconvert_exporter": "python",
   "pygments_lexer": "ipython3",
   "version": "3.6.7"
  }
 },
 "nbformat": 4,
 "nbformat_minor": 1
}
