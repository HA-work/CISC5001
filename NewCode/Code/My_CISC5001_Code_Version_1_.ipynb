{
  "nbformat": 4,
  "nbformat_minor": 0,
  "metadata": {
    "kernelspec": {
      "display_name": "Python 3",
      "language": "python",
      "name": "python3"
    },
    "language_info": {
      "codemirror_mode": {
        "name": "ipython",
        "version": 3
      },
      "file_extension": ".py",
      "mimetype": "text/x-python",
      "name": "python",
      "nbconvert_exporter": "python",
      "pygments_lexer": "ipython3",
      "version": "3.8.3"
    },
    "colab": {
      "name": "My CISC5001 Code Version 1 .ipynb",
      "provenance": []
    }
  },
  "cells": [
    {
      "cell_type": "code",
      "metadata": {
        "id": "NLJjkG-qsQ_A",
        "outputId": "6f45d523-ffad-4582-95b2-30fd97c25833",
        "colab": {
          "base_uri": "https://localhost:8080/"
        }
      },
      "source": [
        "import numpy as np # linear algebra\n",
        "import pandas as pd # data processing, CSV file I/O (e.g. pd.read_csv)\n",
        "import tensorflow as tf\n",
        "\n",
        "import matplotlib.pyplot as plt\n",
        "import matplotlib\n",
        "\n",
        "%matplotlib inline\n",
        "matplotlib.style.use('ggplot') \n",
        "\n",
        "from sklearn import datasets\n",
        "from sklearn import preprocessing\n",
        "from sklearn.model_selection import train_test_split\n",
        "from sklearn.decomposition import PCA\n",
        "from sklearn.neighbors import KNeighborsClassifier\n",
        "from sklearn.datasets import load_digits\n",
        "from sklearn.linear_model import LogisticRegression\n",
        "from sklearn.preprocessing import StandardScaler\n",
        "from sklearn.linear_model import LinearRegression\n",
        "\n",
        "\n",
        "\n",
        "import sys\n",
        "\n",
        "import seaborn as sns\n",
        "from sklearn import metrics\n",
        "\n",
        "#Based on Eddie Lam's code\n",
        "\n",
        "'''\n",
        "Reusing code:\n",
        "https://stackabuse.com/k-nearest-neighbors-algorithm-in-python-and-scikit-learn/\n",
        "\n",
        "Explaining result:\n",
        "https://datascience.stackexchange.com/questions/65839/macro-average-and-weighted-average-meaning-in-classification-report\n",
        "\n",
        "\n",
        "Test_fearMat_Clean: 4168\n",
        "    Before edit: 4231 rows × 34 columns\n",
        "    After edit: 4168 rows × 34 columns\n",
        "    \n",
        "    #removed 6 to 7\n",
        "    total = 3749         (20% = 750; 80% = 2,999)\n",
        "    \n",
        "\n",
        "Train_fearMat_Clean: 16680\n",
        "    Before edit: 16927 rows × 34 columns\n",
        "    After edit: 16680 rows × 34 columns\n",
        "    \n",
        "    #removed 6 to 7\n",
        "    total = 15045         (20% = 3,009; 80% = 12,036)\n",
        "\n",
        "'''\n",
        "\n",
        "import os\n",
        "\n",
        "\n",
        "print(os.listdir(r\".\"))         #print out what's in the file/directory\n",
        "#train = pd.read_csv(r\"featMatVersion0.csv\")\n",
        "#This is the unedited file from Eddie\n",
        "\n",
        "#train = pd.read_csv(r\"featMatVersion1.csv\")\n",
        "\n",
        "#train = pd.read_csv(r\"featMatVersion2.csv\")\n",
        "\n",
        "\n",
        "#/content/featMatVersion2.csv\n",
        "\n",
        "#train = pd.read_csv(r\"featMatVersion3.csv\")\n",
        "\n",
        "#train = pd.read_csv(r\"featMatVersion4.csv\")\n",
        "#Same as original but no comunns 2 and 13\n",
        "\n",
        "\n",
        "#train = pd.read_csv(r\"featMatVersion5.csv\")\n",
        "#Same as version1 but no comunns 2 and 13\n",
        "\n",
        "\n",
        "#train = pd.read_csv(r\"featMatVersion6.csv\")\n",
        "#Same as version2 but no comunns 2 and 13\n",
        "\n",
        "\n",
        "train = pd.read_csv(r\"featMatVersion7.csv\")\n",
        "#Same as version3 but no comunns 2 and 13\n",
        "\n",
        "\n",
        "#Find out how to randomize dataset\n",
        "\n",
        "#Version Orginal is the unmodified dataset from Eddie\n",
        "\n",
        "# This Version1 uses one authentic user with a class ID of 1\n",
        "# The rest have a class ID of 0\n",
        "\n",
        "#Version 2 has sessions 6 and 7 removed\n",
        "\n",
        "#Version 3 has sessions 6 and 7 removed and authentic user with class 1 and rest 0\n",
        "\n",
        "#clean up the negative values for interstroke?\n",
        "\n",
        "#compare only 2 people?\n",
        "\n",
        "#remove columns 2 and 13?\n",
        "\n",
        "#Make a second code for the ones with the removed columns\n",
        "\n",
        "#Too much data to clean up\n",
        "\n",
        "#Should try randomizing\n",
        "\n",
        "#upload the csv to google colab\n",
        "#for some reason need to do this each time\n",
        "#need to find a way to store and acces from drive\n",
        "\n",
        "#pd.read_csv('/My Drive/Collab Notebooks/featMatVersionOriginal.csv')\n",
        "\n",
        "#Try to get data from google drive instead of manually importing it\n",
        "\n",
        "#Maybe try removing sessions 6 and 7"
      ],
      "execution_count": 202,
      "outputs": [
        {
          "output_type": "stream",
          "text": [
            "['.config', 'featMatVersion7.csv', 'sample_data']\n"
          ],
          "name": "stdout"
        }
      ]
    },
    {
      "cell_type": "code",
      "metadata": {
        "id": "ea2c4gqwsQ_I",
        "outputId": "a41c234d-b0f8-4e2c-d42e-802daec16d3a",
        "colab": {
          "base_uri": "https://localhost:8080/",
          "height": 360
        }
      },
      "source": [
        "#print\n",
        "train.head()"
      ],
      "execution_count": 203,
      "outputs": [
        {
          "output_type": "execute_result",
          "data": {
            "text/html": [
              "<div>\n",
              "<style scoped>\n",
              "    .dataframe tbody tr th:only-of-type {\n",
              "        vertical-align: middle;\n",
              "    }\n",
              "\n",
              "    .dataframe tbody tr th {\n",
              "        vertical-align: top;\n",
              "    }\n",
              "\n",
              "    .dataframe thead th {\n",
              "        text-align: right;\n",
              "    }\n",
              "</style>\n",
              "<table border=\"1\" class=\"dataframe\">\n",
              "  <thead>\n",
              "    <tr style=\"text-align: right;\">\n",
              "      <th></th>\n",
              "      <th>User_ID</th>\n",
              "      <th>Inter-Stroke time</th>\n",
              "      <th>Stroke Duration</th>\n",
              "      <th>Start X</th>\n",
              "      <th>Start Y</th>\n",
              "      <th>Stop X</th>\n",
              "      <th>Stop Y</th>\n",
              "      <th>Direct end-to-end Distance</th>\n",
              "      <th>Mean resulant length</th>\n",
              "      <th>WSAD Flag</th>\n",
              "      <th>Direction of end-to-end Time</th>\n",
              "      <th>20 per pairwise velocity</th>\n",
              "      <th>50 per pairwise velocity</th>\n",
              "      <th>80 per pairwise velocity</th>\n",
              "      <th>20 per pairwise acc</th>\n",
              "      <th>50 per pairwise acc</th>\n",
              "      <th>80 per pairwise acc</th>\n",
              "      <th>Median velocity at last 3pts</th>\n",
              "      <th>Largest deviation from end-to-end line</th>\n",
              "      <th>20 per dev line</th>\n",
              "      <th>50 per dev line</th>\n",
              "      <th>80 per dev line</th>\n",
              "      <th>Average Direction</th>\n",
              "      <th>Length of Trajectory</th>\n",
              "      <th>Ratio dist and length of trajectory</th>\n",
              "      <th>Average velocity</th>\n",
              "      <th>Median acceleration at first 5 pts</th>\n",
              "      <th>Mid-Stroke pressure</th>\n",
              "      <th>Mid-Stroke area covered</th>\n",
              "      <th>Mid-Stroke finger orientation</th>\n",
              "      <th>Change of finger orientation</th>\n",
              "      <th>Phone orientation</th>\n",
              "    </tr>\n",
              "  </thead>\n",
              "  <tbody>\n",
              "    <tr>\n",
              "      <th>0</th>\n",
              "      <td>1</td>\n",
              "      <td>17.832</td>\n",
              "      <td>0.230</td>\n",
              "      <td>16.788</td>\n",
              "      <td>-51.454</td>\n",
              "      <td>18.532</td>\n",
              "      <td>-55.270</td>\n",
              "      <td>4.1952</td>\n",
              "      <td>0.90732</td>\n",
              "      <td>1</td>\n",
              "      <td>-1.1420</td>\n",
              "      <td>2.8439</td>\n",
              "      <td>12.4230</td>\n",
              "      <td>329.010</td>\n",
              "      <td>-7304.900</td>\n",
              "      <td>827.900</td>\n",
              "      <td>225780.000</td>\n",
              "      <td>45.036</td>\n",
              "      <td>-0.11614</td>\n",
              "      <td>-0.07280</td>\n",
              "      <td>-2.220000e-16</td>\n",
              "      <td>0.001416</td>\n",
              "      <td>-0.94145</td>\n",
              "      <td>4.2232</td>\n",
              "      <td>0.99337</td>\n",
              "      <td>18.362</td>\n",
              "      <td>827.900</td>\n",
              "      <td>0.35</td>\n",
              "      <td>0.088889</td>\n",
              "      <td>0.0</td>\n",
              "      <td>0</td>\n",
              "      <td>1</td>\n",
              "    </tr>\n",
              "    <tr>\n",
              "      <th>1</th>\n",
              "      <td>1</td>\n",
              "      <td>0.489</td>\n",
              "      <td>0.069</td>\n",
              "      <td>28.779</td>\n",
              "      <td>-34.448</td>\n",
              "      <td>28.779</td>\n",
              "      <td>-34.448</td>\n",
              "      <td>0.0000</td>\n",
              "      <td>1.00000</td>\n",
              "      <td>2</td>\n",
              "      <td>0.0000</td>\n",
              "      <td>0.0000</td>\n",
              "      <td>0.0000</td>\n",
              "      <td>0.000</td>\n",
              "      <td>-37629.047</td>\n",
              "      <td>6438.205</td>\n",
              "      <td>142169.447</td>\n",
              "      <td>0.000</td>\n",
              "      <td>0.00000</td>\n",
              "      <td>0.00000</td>\n",
              "      <td>0.000000e+00</td>\n",
              "      <td>0.000000</td>\n",
              "      <td>0.00000</td>\n",
              "      <td>0.0000</td>\n",
              "      <td>0.92400</td>\n",
              "      <td>0.000</td>\n",
              "      <td>7819.644</td>\n",
              "      <td>0.27</td>\n",
              "      <td>0.088889</td>\n",
              "      <td>0.0</td>\n",
              "      <td>0</td>\n",
              "      <td>1</td>\n",
              "    </tr>\n",
              "    <tr>\n",
              "      <th>2</th>\n",
              "      <td>1</td>\n",
              "      <td>3.850</td>\n",
              "      <td>1.434</td>\n",
              "      <td>26.381</td>\n",
              "      <td>-34.993</td>\n",
              "      <td>23.656</td>\n",
              "      <td>-19.186</td>\n",
              "      <td>16.0400</td>\n",
              "      <td>0.80749</td>\n",
              "      <td>3</td>\n",
              "      <td>1.7415</td>\n",
              "      <td>4.1494</td>\n",
              "      <td>8.8246</td>\n",
              "      <td>28.907</td>\n",
              "      <td>-537.580</td>\n",
              "      <td>-29.738</td>\n",
              "      <td>333.510</td>\n",
              "      <td>11.708</td>\n",
              "      <td>-0.42971</td>\n",
              "      <td>-0.30006</td>\n",
              "      <td>-2.074500e-01</td>\n",
              "      <td>-0.053714</td>\n",
              "      <td>1.54540</td>\n",
              "      <td>16.4800</td>\n",
              "      <td>0.97329</td>\n",
              "      <td>11.493</td>\n",
              "      <td>-115.440</td>\n",
              "      <td>0.68</td>\n",
              "      <td>0.200000</td>\n",
              "      <td>0.0</td>\n",
              "      <td>0</td>\n",
              "      <td>1</td>\n",
              "    </tr>\n",
              "    <tr>\n",
              "      <th>3</th>\n",
              "      <td>1</td>\n",
              "      <td>1.949</td>\n",
              "      <td>1.253</td>\n",
              "      <td>29.652</td>\n",
              "      <td>-32.922</td>\n",
              "      <td>26.817</td>\n",
              "      <td>-17.878</td>\n",
              "      <td>15.3080</td>\n",
              "      <td>0.89276</td>\n",
              "      <td>3</td>\n",
              "      <td>1.7570</td>\n",
              "      <td>8.1866</td>\n",
              "      <td>12.8270</td>\n",
              "      <td>25.590</td>\n",
              "      <td>-809.400</td>\n",
              "      <td>-71.049</td>\n",
              "      <td>785.760</td>\n",
              "      <td>13.157</td>\n",
              "      <td>-0.22357</td>\n",
              "      <td>-0.13042</td>\n",
              "      <td>-5.123500e-02</td>\n",
              "      <td>0.034157</td>\n",
              "      <td>1.66020</td>\n",
              "      <td>15.6930</td>\n",
              "      <td>0.97551</td>\n",
              "      <td>12.524</td>\n",
              "      <td>51.968</td>\n",
              "      <td>0.50</td>\n",
              "      <td>0.155560</td>\n",
              "      <td>0.0</td>\n",
              "      <td>0</td>\n",
              "      <td>1</td>\n",
              "    </tr>\n",
              "    <tr>\n",
              "      <th>4</th>\n",
              "      <td>1</td>\n",
              "      <td>2.185</td>\n",
              "      <td>1.226</td>\n",
              "      <td>30.415</td>\n",
              "      <td>-30.633</td>\n",
              "      <td>27.798</td>\n",
              "      <td>-17.115</td>\n",
              "      <td>13.7680</td>\n",
              "      <td>0.84416</td>\n",
              "      <td>3</td>\n",
              "      <td>1.7620</td>\n",
              "      <td>5.8969</td>\n",
              "      <td>11.5410</td>\n",
              "      <td>18.225</td>\n",
              "      <td>-353.630</td>\n",
              "      <td>25.143</td>\n",
              "      <td>593.290</td>\n",
              "      <td>15.377</td>\n",
              "      <td>-0.44882</td>\n",
              "      <td>-0.31521</td>\n",
              "      <td>-2.554800e-01</td>\n",
              "      <td>-0.200240</td>\n",
              "      <td>1.60360</td>\n",
              "      <td>14.1660</td>\n",
              "      <td>0.97194</td>\n",
              "      <td>11.555</td>\n",
              "      <td>1060.600</td>\n",
              "      <td>0.56</td>\n",
              "      <td>0.133330</td>\n",
              "      <td>0.0</td>\n",
              "      <td>0</td>\n",
              "      <td>1</td>\n",
              "    </tr>\n",
              "  </tbody>\n",
              "</table>\n",
              "</div>"
            ],
            "text/plain": [
              "   User_ID  Inter-Stroke time  ...  Change of finger orientation  Phone orientation\n",
              "0        1             17.832  ...                             0                  1\n",
              "1        1              0.489  ...                             0                  1\n",
              "2        1              3.850  ...                             0                  1\n",
              "3        1              1.949  ...                             0                  1\n",
              "4        1              2.185  ...                             0                  1\n",
              "\n",
              "[5 rows x 32 columns]"
            ]
          },
          "metadata": {
            "tags": []
          },
          "execution_count": 203
        }
      ]
    },
    {
      "cell_type": "code",
      "metadata": {
        "id": "N_7dnDX4sQ_U",
        "outputId": "7b6e9673-282d-4e8b-eab1-c38a6038e8c0",
        "colab": {
          "base_uri": "https://localhost:8080/"
        }
      },
      "source": [
        "np.any(np.isnan(train))"
      ],
      "execution_count": 204,
      "outputs": [
        {
          "output_type": "execute_result",
          "data": {
            "text/plain": [
              "False"
            ]
          },
          "metadata": {
            "tags": []
          },
          "execution_count": 204
        }
      ]
    },
    {
      "cell_type": "code",
      "metadata": {
        "id": "iTCHhsEtsQ_m",
        "outputId": "3b6a8edd-ff6a-4ed0-d35b-d0fcf5bfbe08",
        "colab": {
          "base_uri": "https://localhost:8080/"
        }
      },
      "source": [
        "np.all(np.isfinite(train))"
      ],
      "execution_count": 205,
      "outputs": [
        {
          "output_type": "execute_result",
          "data": {
            "text/plain": [
              "True"
            ]
          },
          "metadata": {
            "tags": []
          },
          "execution_count": 205
        }
      ]
    },
    {
      "cell_type": "code",
      "metadata": {
        "id": "SEotZNcssQ_1",
        "outputId": "4e46ad6c-2fbf-4372-a1ea-5ec2fc9d9b2a",
        "colab": {
          "base_uri": "https://localhost:8080/"
        }
      },
      "source": [
        "#print out the columns\n",
        "train.columns"
      ],
      "execution_count": 206,
      "outputs": [
        {
          "output_type": "execute_result",
          "data": {
            "text/plain": [
              "Index(['User_ID', 'Inter-Stroke time', 'Stroke Duration', 'Start X', 'Start Y',\n",
              "       'Stop X', 'Stop Y', 'Direct end-to-end Distance',\n",
              "       'Mean resulant length', 'WSAD Flag', 'Direction of end-to-end Time',\n",
              "       '20 per pairwise velocity', '50 per pairwise velocity',\n",
              "       '80 per pairwise velocity', '20 per pairwise acc',\n",
              "       '50 per pairwise acc', '80 per pairwise acc',\n",
              "       'Median velocity at last 3pts',\n",
              "       'Largest deviation from end-to-end line', '20 per dev line',\n",
              "       '50 per dev line', '80 per dev line', 'Average Direction',\n",
              "       'Length of Trajectory', 'Ratio dist and length of trajectory',\n",
              "       'Average velocity', 'Median acceleration at first 5 pts',\n",
              "       'Mid-Stroke pressure', 'Mid-Stroke area covered',\n",
              "       'Mid-Stroke finger orientation', 'Change of finger orientation',\n",
              "       'Phone orientation'],\n",
              "      dtype='object')"
            ]
          },
          "metadata": {
            "tags": []
          },
          "execution_count": 206
        }
      ]
    },
    {
      "cell_type": "code",
      "metadata": {
        "id": "DfpEDfbasQ_4",
        "outputId": "09062832-18fc-4230-eca8-e7f2a4e626c9",
        "colab": {
          "base_uri": "https://localhost:8080/"
        }
      },
      "source": [
        "#prints the amount of users in 'User_ID'\n",
        "train['User_ID'].value_counts()"
      ],
      "execution_count": 207,
      "outputs": [
        {
          "output_type": "execute_result",
          "data": {
            "text/plain": [
              "0    18691\n",
              "1      401\n",
              "Name: User_ID, dtype: int64"
            ]
          },
          "metadata": {
            "tags": []
          },
          "execution_count": 207
        }
      ]
    },
    {
      "cell_type": "code",
      "metadata": {
        "id": "Uxa7-b7TsQ_8"
      },
      "source": [
        "#Choosing the columns for X\n",
        "#Not using 'User_ID', 'Doc_ID', or 'Phone_ID'\n",
        "X = train[['Inter-Stroke time', 'Stroke Duration', 'Start X', 'Start Y', 'Stop X', 'Stop Y', 'Direct end-to-end Distance',\n",
        "        'Mean resulant length', 'WSAD Flag', 'Direction of end-to-end Time', '20 per pairwise velocity', \n",
        "        '50 per pairwise velocity', '80 per pairwise velocity', '20 per pairwise acc', '50 per pairwise acc', \n",
        "        '80 per pairwise acc', 'Median velocity at last 3pts', 'Largest deviation from end-to-end line', '20 per dev line',\n",
        "        '50 per dev line', '80 per dev line', 'Average Direction', 'Length of Trajectory', \n",
        "        'Ratio dist and length of trajectory', 'Average velocity', 'Median acceleration at first 5 pts',\n",
        "        'Mid-Stroke pressure', 'Mid-Stroke area covered', 'Mid-Stroke finger orientation', 'Change of finger orientation',\n",
        "        'Phone orientation']].values"
      ],
      "execution_count": 208,
      "outputs": []
    },
    {
      "cell_type": "code",
      "metadata": {
        "id": "5beQNhkvsRAA"
      },
      "source": [
        "#Choosing the lables for y\n",
        "y = train['User_ID'].values"
      ],
      "execution_count": 209,
      "outputs": []
    },
    {
      "cell_type": "code",
      "metadata": {
        "id": "ui3CfitGsRAE"
      },
      "source": [
        "#Train and test split\n",
        "#80% train, 20% test\n",
        "#splitting the data into test and train dataset\n",
        "\n",
        "from sklearn.model_selection import train_test_split\n",
        "X_train, X_test, y_train, y_test = train_test_split(X, y, test_size=0.20)"
      ],
      "execution_count": 210,
      "outputs": []
    },
    {
      "cell_type": "code",
      "metadata": {
        "id": "vprauDHCsRAG"
      },
      "source": [
        "#Feature Scaling\n",
        "from sklearn.preprocessing import StandardScaler\n",
        "scaler = StandardScaler()\n",
        "scaler.fit(X_train)\n",
        "\n",
        "X_train = scaler.transform(X_train)\n",
        "X_test = scaler.transform(X_test)"
      ],
      "execution_count": 211,
      "outputs": []
    },
    {
      "cell_type": "code",
      "metadata": {
        "id": "kLjdCUPPsRAI",
        "outputId": "95c1561b-7bd0-41af-edf0-1ae3ad7d6aa9",
        "colab": {
          "base_uri": "https://localhost:8080/"
        }
      },
      "source": [
        "#Training and Prediction\n",
        "from sklearn.neighbors import KNeighborsClassifier\n",
        "classifier = KNeighborsClassifier(n_neighbors=5)         #value for k\n",
        "classifier.fit(X_train, y_train)\n",
        "\n",
        "#Sometimes gets an error for no reason \n",
        "#Run again to fix\n",
        "\n",
        "#The k value is guessed at first and then changed depending on the data\n",
        "#5 is used by convention but is usually a guess\n",
        "#Might want to change to 7 as when I did for K values up to 100 7 seemed smaller\n",
        "#on the smaller graph though 5 seems to be the best answer\n",
        "#The graph fluctuates with each run\n",
        "# 6 and 5 seem to be good choices\n",
        "\n",
        "\n",
        "#For the 0 and 1 dataset the better k values are 4, 7 and 9\n",
        "#Might want to make 2 seperate files\n",
        "\n",
        "#What does leaf size mean"
      ],
      "execution_count": 212,
      "outputs": [
        {
          "output_type": "execute_result",
          "data": {
            "text/plain": [
              "KNeighborsClassifier(algorithm='auto', leaf_size=30, metric='minkowski',\n",
              "                     metric_params=None, n_jobs=None, n_neighbors=5, p=2,\n",
              "                     weights='uniform')"
            ]
          },
          "metadata": {
            "tags": []
          },
          "execution_count": 212
        }
      ]
    },
    {
      "cell_type": "code",
      "metadata": {
        "id": "S4b_wAWWsRAL"
      },
      "source": [
        "#Make prediction on the test data\n",
        "y_pred = classifier.predict(X_test)"
      ],
      "execution_count": 213,
      "outputs": []
    },
    {
      "cell_type": "code",
      "metadata": {
        "id": "n3wPzHvLsRAN",
        "outputId": "65b42e60-865f-442f-f1f8-c6d67d7c86ac",
        "colab": {
          "base_uri": "https://localhost:8080/"
        }
      },
      "source": [
        "#Evaluating the Algorithm\n",
        "from sklearn.metrics import classification_report, confusion_matrix\n",
        "print(confusion_matrix(y_test, y_pred))\n",
        "print(classification_report(y_test, y_pred))"
      ],
      "execution_count": 214,
      "outputs": [
        {
          "output_type": "stream",
          "text": [
            "[[3726   10]\n",
            " [  26   57]]\n",
            "              precision    recall  f1-score   support\n",
            "\n",
            "           0       0.99      1.00      1.00      3736\n",
            "           1       0.85      0.69      0.76        83\n",
            "\n",
            "    accuracy                           0.99      3819\n",
            "   macro avg       0.92      0.84      0.88      3819\n",
            "weighted avg       0.99      0.99      0.99      3819\n",
            "\n"
          ],
          "name": "stdout"
        }
      ]
    },
    {
      "cell_type": "code",
      "metadata": {
        "id": "AfTYQwOosRAP",
        "outputId": "36a76c6d-8ccc-419d-f4a9-d91f9d0306d4",
        "colab": {
          "base_uri": "https://localhost:8080/"
        }
      },
      "source": [
        "#prints the entire confusion matrix\n",
        "#however, it doesnn't fit the entire row and loops around\n",
        "np.set_printoptions(threshold=sys.maxsize)\n",
        "resultCM = (confusion_matrix(y_test, y_pred))\n",
        "print(resultCM)"
      ],
      "execution_count": 215,
      "outputs": [
        {
          "output_type": "stream",
          "text": [
            "[[3726   10]\n",
            " [  26   57]]\n"
          ],
          "name": "stdout"
        }
      ]
    },
    {
      "cell_type": "code",
      "metadata": {
        "id": "TR-wa43BsRAS",
        "outputId": "093ebe80-2afd-4989-ee21-9c74c2f34d17",
        "colab": {
          "base_uri": "https://localhost:8080/"
        }
      },
      "source": [
        "resultCR = (classification_report(y_test, y_pred))\n",
        "print(resultCR)"
      ],
      "execution_count": 216,
      "outputs": [
        {
          "output_type": "stream",
          "text": [
            "              precision    recall  f1-score   support\n",
            "\n",
            "           0       0.99      1.00      1.00      3736\n",
            "           1       0.85      0.69      0.76        83\n",
            "\n",
            "    accuracy                           0.99      3819\n",
            "   macro avg       0.92      0.84      0.88      3819\n",
            "weighted avg       0.99      0.99      0.99      3819\n",
            "\n"
          ],
          "name": "stdout"
        }
      ]
    },
    {
      "cell_type": "code",
      "metadata": {
        "id": "HmAaWoGyDQrX"
      },
      "source": [
        "#error = []\n",
        "\n",
        "# Calculating error for K values between 1 and 40\n",
        "#Takes a long time to load\n",
        "# Commented out as it takes a long time\n",
        "\n",
        "#for i in range(1, 40):\n",
        "    #knn = KNeighborsClassifier(n_neighbors=i)\n",
        "    #knn.fit(X_train, y_train)\n",
        "    #pred_i = knn.predict(X_test)\n",
        "    #error.append(np.mean(pred_i != y_test))"
      ],
      "execution_count": 217,
      "outputs": []
    },
    {
      "cell_type": "code",
      "metadata": {
        "id": "vrf9-TYADgK7"
      },
      "source": [
        "#Commented out as it relies on the above\n",
        "\n",
        "#plt.figure(figsize=(12, 6))\n",
        "#plt.plot(range(1, 40), error, color='red', linestyle='dashed', marker='o',\n",
        "#         markerfacecolor='blue', markersize=10)\n",
        "#plt.title('Error Rate K Value')\n",
        "#plt.xlabel('K Value')\n",
        "#plt.ylabel('Mean Error')"
      ],
      "execution_count": 218,
      "outputs": []
    },
    {
      "cell_type": "code",
      "metadata": {
        "id": "OLX_hpdCuiOL"
      },
      "source": [
        "# all parameters not specified are set to their defaults\n",
        "logisticRegr = LogisticRegression()"
      ],
      "execution_count": 219,
      "outputs": []
    },
    {
      "cell_type": "code",
      "metadata": {
        "id": "vFPRZBY-umir",
        "outputId": "7e0acee3-7a92-4a82-b454-7ae40356eeba",
        "colab": {
          "base_uri": "https://localhost:8080/"
        }
      },
      "source": [
        "logisticRegr.fit(X_train, y_train)"
      ],
      "execution_count": 220,
      "outputs": [
        {
          "output_type": "execute_result",
          "data": {
            "text/plain": [
              "LogisticRegression(C=1.0, class_weight=None, dual=False, fit_intercept=True,\n",
              "                   intercept_scaling=1, l1_ratio=None, max_iter=100,\n",
              "                   multi_class='auto', n_jobs=None, penalty='l2',\n",
              "                   random_state=None, solver='lbfgs', tol=0.0001, verbose=0,\n",
              "                   warm_start=False)"
            ]
          },
          "metadata": {
            "tags": []
          },
          "execution_count": 220
        }
      ]
    },
    {
      "cell_type": "code",
      "metadata": {
        "id": "sWq3z1jtuuJ6",
        "outputId": "27ec58ff-5f34-47f4-dc5f-8102a36c674f",
        "colab": {
          "base_uri": "https://localhost:8080/"
        }
      },
      "source": [
        "# Returns a NumPy Array\n",
        "# Predict for One Observation (image)\n",
        "logisticRegr.predict(X_test[0].reshape(1,-1))"
      ],
      "execution_count": 221,
      "outputs": [
        {
          "output_type": "execute_result",
          "data": {
            "text/plain": [
              "array([0])"
            ]
          },
          "metadata": {
            "tags": []
          },
          "execution_count": 221
        }
      ]
    },
    {
      "cell_type": "code",
      "metadata": {
        "id": "8AhBvTIDvegm",
        "outputId": "e6e65127-3a03-41f0-b630-c4d18d25c821",
        "colab": {
          "base_uri": "https://localhost:8080/"
        }
      },
      "source": [
        "logisticRegr.predict(X_test[0:10])"
      ],
      "execution_count": 222,
      "outputs": [
        {
          "output_type": "execute_result",
          "data": {
            "text/plain": [
              "array([0, 0, 0, 0, 0, 0, 0, 0, 0, 0])"
            ]
          },
          "metadata": {
            "tags": []
          },
          "execution_count": 222
        }
      ]
    },
    {
      "cell_type": "code",
      "metadata": {
        "id": "derkWsE_vlKR"
      },
      "source": [
        "predictions = logisticRegr.predict(X_test)"
      ],
      "execution_count": 223,
      "outputs": []
    },
    {
      "cell_type": "code",
      "metadata": {
        "id": "gPEUOg_3vrVA",
        "outputId": "33b2ac1c-d57b-4c96-a4ab-7c4f196e837c",
        "colab": {
          "base_uri": "https://localhost:8080/"
        }
      },
      "source": [
        "# Use score method to get accuracy of model\n",
        "score = logisticRegr.score(X_test, y_test)\n",
        "print(score)"
      ],
      "execution_count": 224,
      "outputs": [
        {
          "output_type": "stream",
          "text": [
            "0.9827179890023566\n"
          ],
          "name": "stdout"
        }
      ]
    },
    {
      "cell_type": "code",
      "metadata": {
        "id": "lHVNc64-vvws",
        "outputId": "b6967110-4d7f-4a22-b147-e214f1f6efd5",
        "colab": {
          "base_uri": "https://localhost:8080/"
        }
      },
      "source": [
        "cm = metrics.confusion_matrix(y_test, predictions)\n",
        "print(cm)"
      ],
      "execution_count": 225,
      "outputs": [
        {
          "output_type": "stream",
          "text": [
            "[[3727    9]\n",
            " [  57   26]]\n"
          ],
          "name": "stdout"
        }
      ]
    },
    {
      "cell_type": "code",
      "metadata": {
        "id": "_2FbDXtSwBRB",
        "outputId": "c8ed86fc-8579-4114-bc8d-9e27bbb2c6c1",
        "colab": {
          "base_uri": "https://localhost:8080/",
          "height": 520
        }
      },
      "source": [
        "plt.figure(figsize=(9,9))\n",
        "sns.heatmap(cm, annot=True, fmt=\".3f\", linewidths=.5, square = True, cmap = 'Blues_r');\n",
        "plt.ylabel('Actual label');\n",
        "plt.xlabel('Predicted label');\n",
        "all_sample_title = 'Accuracy Score: {0}'.format(score)\n",
        "plt.title(all_sample_title, size = 15);"
      ],
      "execution_count": 226,
      "outputs": [
        {
          "output_type": "display_data",
          "data": {
            "image/png": "[encoded data removed]",
            "text/plain": [
              "<Figure size 648x648 with 2 Axes>"
            ]
          },
          "metadata": {
            "tags": []
          }
        }
      ]
    },
    {
      "cell_type": "code",
      "metadata": {
        "id": "ymDm0grfwEHG",
        "outputId": "63f67dae-8038-4e53-d3d5-e21d28beee06",
        "colab": {
          "base_uri": "https://localhost:8080/",
          "height": 657
        }
      },
      "source": [
        "plt.figure(figsize=(9,9))\n",
        "plt.imshow(cm, interpolation='nearest', cmap='Pastel1')\n",
        "plt.title('Confusion matrix', size = 15)\n",
        "plt.colorbar()\n",
        "tick_marks = np.arange(10)\n",
        "plt.xticks(tick_marks, [\"0\", \"1\", \"2\", \"3\", \"4\", \"5\", \"6\", \"7\", \"8\", \"9\"], rotation=45, size = 10)\n",
        "plt.yticks(tick_marks, [\"0\", \"1\", \"2\", \"3\", \"4\", \"5\", \"6\", \"7\", \"8\", \"9\"], size = 10)\n",
        "plt.tight_layout()\n",
        "plt.ylabel('Actual label', size = 15)\n",
        "plt.xlabel('Predicted label', size = 15)\n",
        "width, height = cm.shape\n",
        "for x in range(width):\n",
        " for y in range(height):\n",
        "  plt.annotate(str(cm[x][y]), xy=(y, x), \n",
        "  horizontalalignment='center',\n",
        "  verticalalignment='center')"
      ],
      "execution_count": 227,
      "outputs": [
        {
          "output_type": "display_data",
          "data": {
            "image/png": "[encoded data removed]",
            "text/plain": [
              "<Figure size 648x648 with 2 Axes>"
            ]
          },
          "metadata": {
            "tags": []
          }
        }
      ]
    },
    {
      "cell_type": "code",
      "metadata": {
        "id": "omdM-22lx8s6"
      },
      "source": [
        "scaler = preprocessing.MinMaxScaler()\n",
        "X = scaler.fit_transform(X)"
      ],
      "execution_count": 228,
      "outputs": []
    },
    {
      "cell_type": "code",
      "metadata": {
        "id": "mevvLu4byjNt",
        "outputId": "8a1fd8cc-10a5-4bfd-88c9-537c38843d1a",
        "colab": {
          "base_uri": "https://localhost:8080/"
        }
      },
      "source": [
        "pca_model = PCA(n_components=2)\n",
        "pca_model.fit(X_train)\n",
        "X_train = pca_model.transform(X_train)\n",
        "X_test = pca_model.transform(X_test)\n",
        "\n",
        "# 2-Dimensions\n",
        "X_train[:5]"
      ],
      "execution_count": 229,
      "outputs": [
        {
          "output_type": "execute_result",
          "data": {
            "text/plain": [
              "array([[-1.1317964 , -0.00827954],\n",
              "       [ 2.18599165, -1.03614991],\n",
              "       [-1.78343371,  0.91783401],\n",
              "       [-0.98984135,  1.09171582],\n",
              "       [-1.91377543,  1.30353771]])"
            ]
          },
          "metadata": {
            "tags": []
          },
          "execution_count": 229
        }
      ]
    },
    {
      "cell_type": "code",
      "metadata": {
        "id": "1gFbH4NazCig"
      },
      "source": [
        "knn_model = KNeighborsClassifier(n_neighbors=5)\n",
        "knn_model.fit(X_train, y_train) \n",
        "k = 5"
      ],
      "execution_count": 230,
      "outputs": []
    },
    {
      "cell_type": "code",
      "metadata": {
        "id": "xJmmD3lmzOlU",
        "outputId": "92c977b6-5042-4a7c-8242-5b3f75f551d9",
        "colab": {
          "base_uri": "https://localhost:8080/"
        }
      },
      "source": [
        "y_predict = knn_model.predict(X_test)\n",
        "y_predict\n"
      ],
      "execution_count": 231,
      "outputs": [
        {
          "output_type": "execute_result",
          "data": {
            "text/plain": [
              "array([0, 0, 0, 0, 0, 0, 0, 0, 0, 0, 0, 0, 0, 0, 0, 0, 0, 0, 0, 0, 0, 0,\n",
              "       0, 0, 0, 0, 0, 0, 0, 0, 0, 0, 0, 0, 0, 0, 0, 0, 0, 0, 0, 0, 0, 0,\n",
              "       0, 0, 0, 0, 0, 0, 0, 0, 0, 0, 0, 0, 0, 0, 0, 0, 0, 0, 0, 0, 0, 0,\n",
              "       0, 0, 0, 0, 0, 0, 0, 0, 0, 0, 0, 0, 0, 0, 0, 0, 0, 0, 0, 0, 0, 0,\n",
              "       0, 0, 0, 0, 0, 0, 0, 0, 0, 0, 0, 0, 0, 0, 0, 0, 0, 0, 0, 0, 0, 0,\n",
              "       0, 0, 0, 0, 0, 0, 0, 0, 0, 0, 0, 0, 0, 0, 0, 0, 0, 0, 0, 0, 0, 0,\n",
              "       0, 0, 0, 0, 0, 0, 0, 0, 0, 0, 0, 0, 0, 0, 0, 0, 0, 0, 0, 0, 0, 0,\n",
              "       0, 0, 0, 0, 0, 0, 0, 0, 0, 0, 0, 0, 0, 0, 0, 0, 0, 0, 0, 0, 0, 0,\n",
              "       0, 0, 0, 0, 0, 0, 0, 0, 0, 0, 0, 0, 0, 0, 0, 0, 0, 0, 0, 0, 0, 0,\n",
              "       0, 0, 0, 0, 0, 0, 0, 0, 0, 0, 0, 0, 0, 0, 0, 0, 0, 0, 0, 0, 0, 0,\n",
              "       0, 0, 0, 0, 0, 0, 0, 0, 0, 0, 0, 0, 0, 0, 0, 0, 0, 0, 0, 0, 0, 0,\n",
              "       0, 0, 0, 0, 0, 0, 0, 0, 0, 0, 0, 0, 0, 0, 0, 0, 0, 0, 0, 0, 0, 0,\n",
              "       0, 0, 0, 0, 0, 0, 0, 1, 0, 0, 0, 0, 0, 0, 0, 0, 0, 0, 0, 0, 0, 0,\n",
              "       0, 0, 0, 0, 0, 0, 0, 0, 0, 0, 0, 0, 0, 0, 0, 0, 0, 0, 0, 0, 0, 0,\n",
              "       0, 0, 0, 0, 0, 0, 0, 0, 0, 0, 0, 0, 0, 0, 0, 0, 0, 0, 0, 0, 0, 0,\n",
              "       0, 0, 0, 0, 0, 0, 0, 0, 0, 0, 0, 0, 0, 0, 0, 0, 0, 0, 0, 0, 0, 0,\n",
              "       0, 0, 0, 0, 0, 0, 0, 0, 0, 0, 0, 0, 0, 0, 0, 0, 0, 0, 0, 0, 0, 0,\n",
              "       0, 0, 0, 0, 0, 0, 0, 0, 0, 0, 0, 0, 0, 0, 0, 0, 0, 0, 0, 0, 0, 0,\n",
              "       0, 0, 0, 0, 0, 0, 0, 0, 0, 0, 0, 0, 0, 0, 0, 0, 0, 0, 0, 0, 0, 0,\n",
              "       0, 0, 0, 0, 0, 0, 0, 0, 0, 0, 0, 0, 0, 0, 0, 0, 0, 0, 0, 0, 0, 0,\n",
              "       0, 0, 0, 0, 0, 0, 0, 0, 0, 0, 0, 0, 0, 0, 0, 0, 0, 0, 0, 0, 0, 0,\n",
              "       0, 0, 0, 0, 0, 0, 0, 0, 0, 0, 0, 0, 0, 0, 0, 0, 0, 0, 0, 0, 0, 0,\n",
              "       0, 0, 0, 0, 0, 0, 0, 0, 0, 0, 0, 0, 0, 0, 0, 0, 0, 0, 0, 0, 0, 0,\n",
              "       0, 0, 0, 0, 0, 0, 0, 0, 0, 0, 0, 0, 0, 0, 0, 0, 0, 0, 0, 0, 0, 0,\n",
              "       0, 0, 0, 0, 0, 0, 0, 0, 0, 0, 0, 0, 0, 0, 0, 0, 0, 0, 0, 0, 0, 0,\n",
              "       0, 0, 0, 0, 0, 0, 0, 0, 0, 0, 0, 0, 0, 0, 0, 0, 0, 0, 0, 0, 0, 0,\n",
              "       0, 0, 0, 0, 0, 0, 0, 0, 0, 0, 0, 0, 0, 0, 0, 0, 0, 0, 0, 0, 0, 0,\n",
              "       0, 0, 0, 0, 0, 0, 0, 0, 0, 0, 0, 0, 0, 0, 0, 0, 0, 0, 0, 0, 0, 0,\n",
              "       0, 0, 0, 0, 0, 0, 0, 0, 0, 0, 0, 0, 0, 0, 0, 0, 0, 0, 0, 0, 0, 0,\n",
              "       0, 0, 0, 0, 0, 0, 0, 0, 0, 0, 0, 0, 0, 0, 0, 0, 0, 0, 0, 0, 0, 0,\n",
              "       0, 0, 0, 0, 0, 0, 0, 0, 0, 0, 0, 0, 0, 0, 0, 0, 0, 0, 0, 0, 0, 0,\n",
              "       0, 0, 0, 0, 0, 0, 0, 0, 0, 0, 0, 0, 0, 0, 0, 0, 0, 0, 0, 0, 0, 0,\n",
              "       0, 0, 0, 0, 0, 0, 0, 0, 0, 0, 0, 0, 0, 0, 0, 0, 0, 0, 0, 0, 0, 0,\n",
              "       0, 0, 0, 0, 0, 0, 0, 0, 0, 0, 0, 0, 0, 0, 0, 0, 0, 0, 0, 0, 0, 0,\n",
              "       0, 0, 0, 0, 0, 0, 0, 0, 0, 0, 0, 0, 0, 0, 0, 0, 0, 0, 0, 0, 0, 0,\n",
              "       0, 0, 0, 0, 0, 0, 0, 0, 0, 0, 0, 0, 0, 0, 0, 0, 0, 0, 0, 0, 0, 0,\n",
              "       0, 0, 0, 0, 0, 0, 0, 0, 0, 0, 0, 0, 0, 0, 0, 0, 0, 0, 0, 0, 0, 0,\n",
              "       0, 0, 0, 0, 0, 0, 0, 0, 0, 0, 0, 0, 0, 0, 0, 0, 0, 0, 0, 0, 0, 0,\n",
              "       0, 0, 0, 0, 0, 0, 0, 0, 0, 0, 0, 0, 0, 0, 0, 0, 0, 0, 0, 0, 0, 0,\n",
              "       0, 0, 0, 0, 0, 0, 0, 0, 0, 0, 0, 0, 0, 0, 0, 0, 0, 0, 0, 0, 0, 0,\n",
              "       0, 0, 0, 0, 0, 0, 0, 0, 0, 0, 0, 0, 0, 0, 0, 0, 0, 0, 0, 0, 0, 0,\n",
              "       0, 0, 0, 0, 0, 0, 0, 0, 0, 0, 0, 0, 0, 0, 0, 0, 0, 0, 0, 0, 0, 0,\n",
              "       0, 0, 0, 0, 0, 0, 0, 0, 0, 0, 0, 0, 0, 0, 0, 0, 0, 0, 0, 0, 0, 0,\n",
              "       0, 0, 0, 0, 0, 0, 0, 0, 0, 0, 0, 0, 0, 0, 0, 0, 0, 0, 0, 0, 0, 0,\n",
              "       0, 0, 0, 0, 0, 0, 0, 0, 0, 0, 0, 0, 0, 0, 0, 0, 0, 0, 0, 0, 0, 0,\n",
              "       0, 0, 0, 0, 0, 0, 0, 0, 0, 0, 0, 0, 0, 0, 0, 0, 0, 0, 0, 0, 0, 0,\n",
              "       0, 0, 0, 0, 0, 0, 0, 0, 0, 0, 0, 0, 0, 0, 0, 0, 0, 0, 0, 0, 0, 0,\n",
              "       0, 0, 0, 0, 0, 0, 0, 0, 0, 0, 0, 0, 0, 0, 0, 0, 0, 0, 0, 0, 0, 0,\n",
              "       0, 0, 0, 0, 0, 0, 0, 0, 0, 0, 0, 0, 0, 0, 0, 0, 0, 0, 0, 0, 0, 0,\n",
              "       0, 0, 0, 0, 0, 0, 0, 0, 0, 0, 0, 0, 0, 0, 0, 0, 0, 0, 0, 0, 0, 0,\n",
              "       0, 0, 0, 0, 0, 0, 0, 0, 0, 0, 0, 0, 0, 0, 0, 0, 0, 0, 0, 0, 0, 0,\n",
              "       0, 0, 0, 0, 0, 0, 0, 0, 0, 0, 0, 0, 0, 0, 0, 0, 0, 0, 0, 0, 0, 0,\n",
              "       0, 0, 0, 0, 0, 0, 0, 0, 0, 0, 0, 0, 0, 0, 0, 0, 0, 0, 0, 0, 0, 0,\n",
              "       0, 0, 0, 0, 0, 0, 0, 0, 0, 0, 0, 0, 0, 0, 0, 0, 0, 0, 0, 0, 0, 0,\n",
              "       0, 0, 0, 0, 0, 0, 0, 0, 0, 0, 0, 0, 0, 0, 0, 0, 0, 0, 0, 0, 0, 0,\n",
              "       0, 0, 0, 0, 0, 0, 0, 0, 0, 0, 0, 0, 0, 0, 0, 0, 0, 0, 0, 0, 0, 0,\n",
              "       0, 0, 0, 0, 0, 0, 0, 0, 0, 0, 0, 0, 0, 0, 0, 0, 0, 0, 0, 0, 0, 0,\n",
              "       0, 0, 0, 0, 0, 0, 0, 0, 0, 0, 0, 0, 0, 0, 0, 0, 0, 0, 0, 0, 0, 0,\n",
              "       0, 0, 0, 0, 0, 0, 0, 0, 0, 0, 0, 0, 0, 0, 0, 0, 0, 0, 0, 0, 0, 0,\n",
              "       0, 0, 0, 0, 0, 0, 0, 0, 0, 0, 0, 0, 0, 0, 0, 0, 0, 0, 0, 0, 0, 0,\n",
              "       0, 0, 0, 0, 0, 0, 0, 0, 0, 0, 0, 0, 0, 0, 0, 0, 0, 0, 0, 0, 0, 0,\n",
              "       0, 0, 0, 0, 0, 0, 0, 0, 0, 0, 0, 0, 0, 0, 0, 0, 0, 0, 0, 0, 0, 0,\n",
              "       0, 0, 0, 0, 0, 0, 0, 0, 0, 0, 0, 0, 0, 0, 0, 0, 0, 0, 0, 0, 0, 0,\n",
              "       0, 0, 0, 0, 0, 0, 0, 0, 0, 0, 0, 0, 0, 0, 0, 0, 0, 0, 0, 0, 0, 0,\n",
              "       0, 0, 0, 0, 0, 0, 0, 0, 0, 0, 0, 0, 0, 0, 0, 0, 0, 0, 0, 0, 0, 0,\n",
              "       0, 0, 0, 0, 0, 0, 0, 0, 0, 0, 0, 0, 0, 0, 0, 0, 0, 0, 0, 0, 0, 0,\n",
              "       0, 0, 0, 0, 0, 0, 0, 0, 0, 0, 0, 0, 0, 0, 0, 0, 0, 0, 0, 0, 0, 0,\n",
              "       0, 0, 0, 0, 0, 0, 0, 0, 0, 0, 0, 0, 0, 0, 0, 0, 0, 0, 0, 0, 0, 0,\n",
              "       0, 0, 0, 0, 0, 0, 0, 0, 0, 0, 0, 0, 0, 0, 0, 0, 0, 0, 0, 0, 0, 0,\n",
              "       0, 0, 0, 0, 0, 0, 0, 0, 0, 0, 0, 0, 0, 0, 0, 0, 0, 0, 0, 0, 0, 0,\n",
              "       0, 0, 0, 0, 0, 0, 0, 0, 0, 0, 0, 0, 0, 0, 0, 0, 0, 0, 0, 0, 0, 0,\n",
              "       0, 0, 0, 0, 0, 0, 0, 0, 0, 0, 0, 0, 0, 0, 0, 0, 0, 0, 0, 0, 0, 0,\n",
              "       0, 0, 0, 0, 0, 0, 0, 0, 0, 0, 0, 0, 0, 0, 0, 0, 0, 0, 0, 0, 0, 0,\n",
              "       0, 0, 0, 0, 0, 0, 0, 0, 0, 0, 0, 0, 0, 0, 0, 0, 0, 0, 0, 0, 0, 0,\n",
              "       0, 0, 0, 0, 0, 0, 0, 0, 0, 0, 0, 0, 0, 0, 0, 0, 0, 0, 0, 0, 0, 0,\n",
              "       0, 0, 0, 0, 0, 0, 0, 0, 0, 0, 0, 0, 0, 0, 0, 0, 0, 0, 0, 0, 0, 0,\n",
              "       0, 0, 0, 0, 0, 0, 0, 0, 0, 0, 0, 0, 0, 0, 0, 0, 0, 0, 0, 0, 0, 0,\n",
              "       0, 0, 0, 0, 0, 0, 0, 0, 0, 0, 0, 0, 0, 0, 0, 0, 0, 0, 0, 0, 0, 0,\n",
              "       0, 0, 0, 0, 0, 0, 0, 0, 0, 0, 0, 0, 0, 0, 0, 0, 0, 0, 0, 0, 0, 0,\n",
              "       0, 0, 0, 0, 0, 0, 0, 0, 0, 0, 0, 0, 0, 0, 0, 0, 0, 0, 0, 0, 0, 0,\n",
              "       0, 0, 0, 0, 0, 0, 0, 0, 0, 0, 0, 0, 0, 0, 0, 0, 0, 0, 0, 0, 0, 0,\n",
              "       0, 0, 0, 0, 0, 0, 0, 0, 0, 0, 0, 0, 0, 0, 0, 0, 0, 0, 0, 0, 0, 0,\n",
              "       0, 0, 0, 0, 0, 0, 0, 0, 0, 0, 0, 0, 0, 0, 0, 0, 0, 0, 0, 0, 0, 0,\n",
              "       0, 0, 0, 0, 0, 0, 0, 0, 0, 0, 0, 0, 0, 0, 0, 0, 0, 0, 0, 0, 0, 0,\n",
              "       0, 0, 0, 0, 0, 0, 0, 0, 0, 0, 0, 0, 0, 0, 0, 0, 0, 0, 0, 0, 0, 0,\n",
              "       0, 0, 0, 0, 0, 0, 0, 0, 0, 0, 0, 0, 0, 0, 0, 0, 0, 0, 0, 0, 0, 0,\n",
              "       0, 0, 0, 0, 0, 0, 0, 0, 0, 0, 0, 0, 0, 0, 0, 0, 0, 0, 0, 0, 0, 0,\n",
              "       0, 0, 0, 0, 0, 0, 0, 0, 0, 0, 0, 0, 0, 0, 0, 0, 0, 0, 0, 0, 0, 0,\n",
              "       0, 0, 0, 0, 0, 0, 0, 0, 0, 0, 0, 0, 0, 0, 0, 0, 0, 0, 0, 0, 0, 0,\n",
              "       0, 0, 0, 0, 0, 0, 0, 0, 0, 0, 0, 0, 0, 0, 0, 0, 0, 0, 0, 0, 0, 0,\n",
              "       0, 0, 0, 0, 0, 0, 0, 0, 0, 0, 0, 0, 0, 0, 0, 0, 0, 0, 0, 0, 0, 0,\n",
              "       0, 0, 0, 0, 0, 0, 0, 0, 0, 0, 0, 0, 0, 0, 0, 0, 0, 0, 0, 0, 0, 0,\n",
              "       0, 0, 0, 0, 0, 0, 0, 0, 0, 0, 0, 0, 0, 0, 0, 0, 0, 0, 0, 0, 0, 0,\n",
              "       0, 0, 0, 0, 0, 0, 0, 0, 0, 0, 0, 0, 0, 0, 0, 0, 0, 0, 0, 0, 0, 0,\n",
              "       0, 0, 0, 0, 0, 0, 0, 0, 0, 0, 0, 0, 0, 0, 0, 0, 0, 0, 0, 0, 0, 0,\n",
              "       0, 0, 0, 0, 0, 0, 0, 0, 0, 0, 0, 0, 0, 0, 0, 0, 0, 0, 0, 0, 0, 0,\n",
              "       0, 0, 0, 0, 0, 0, 0, 0, 0, 0, 0, 0, 0, 0, 0, 0, 0, 0, 0, 0, 0, 0,\n",
              "       0, 0, 0, 0, 0, 0, 0, 0, 0, 0, 0, 0, 0, 0, 0, 0, 0, 0, 0, 0, 0, 0,\n",
              "       0, 0, 0, 0, 0, 0, 0, 0, 0, 0, 0, 0, 0, 0, 0, 0, 0, 0, 0, 0, 0, 0,\n",
              "       0, 0, 0, 0, 0, 0, 0, 0, 0, 0, 0, 0, 0, 0, 0, 0, 0, 0, 0, 0, 0, 0,\n",
              "       0, 0, 0, 0, 0, 0, 0, 0, 0, 0, 0, 0, 0, 0, 0, 0, 0, 0, 0, 0, 0, 0,\n",
              "       0, 0, 0, 0, 0, 0, 0, 0, 0, 0, 0, 0, 0, 0, 0, 0, 0, 0, 0, 0, 0, 0,\n",
              "       0, 0, 0, 0, 0, 0, 0, 0, 0, 0, 0, 0, 0, 0, 0, 0, 0, 0, 0, 0, 0, 0,\n",
              "       0, 0, 0, 0, 0, 0, 0, 0, 0, 0, 0, 0, 0, 0, 0, 0, 0, 0, 0, 0, 0, 0,\n",
              "       0, 0, 0, 0, 0, 0, 0, 0, 0, 0, 0, 0, 0, 0, 0, 0, 0, 0, 0, 0, 0, 0,\n",
              "       0, 0, 0, 0, 0, 0, 0, 0, 0, 0, 0, 0, 0, 0, 0, 0, 0, 0, 0, 0, 0, 0,\n",
              "       0, 0, 0, 0, 0, 0, 0, 0, 0, 0, 0, 0, 0, 0, 0, 0, 0, 0, 0, 0, 0, 0,\n",
              "       0, 0, 0, 0, 0, 0, 0, 0, 0, 0, 0, 0, 0, 0, 0, 0, 0, 0, 0, 0, 0, 0,\n",
              "       0, 0, 0, 0, 0, 0, 0, 0, 0, 0, 0, 0, 0, 0, 0, 0, 0, 0, 0, 0, 0, 0,\n",
              "       0, 0, 0, 0, 0, 0, 0, 0, 0, 0, 0, 0, 0, 0, 0, 0, 0, 0, 0, 0, 0, 0,\n",
              "       0, 0, 0, 0, 0, 0, 0, 0, 0, 0, 0, 0, 0, 0, 0, 0, 0, 0, 0, 0, 0, 0,\n",
              "       0, 0, 0, 0, 0, 0, 0, 0, 0, 0, 0, 0, 0, 0, 0, 0, 0, 0, 0, 0, 0, 0,\n",
              "       0, 0, 0, 0, 0, 0, 0, 0, 0, 0, 0, 0, 0, 0, 0, 0, 0, 0, 0, 0, 0, 0,\n",
              "       0, 0, 0, 0, 0, 0, 0, 0, 0, 0, 0, 0, 0, 0, 0, 0, 0, 0, 0, 0, 0, 0,\n",
              "       0, 0, 0, 0, 0, 0, 0, 0, 0, 0, 0, 0, 0, 0, 0, 0, 0, 0, 0, 0, 0, 0,\n",
              "       0, 0, 0, 0, 0, 0, 0, 0, 0, 0, 0, 0, 0, 0, 0, 0, 0, 0, 0, 0, 0, 0,\n",
              "       0, 0, 0, 0, 0, 0, 0, 0, 0, 0, 0, 0, 0, 0, 0, 0, 0, 0, 0, 0, 0, 0,\n",
              "       0, 0, 0, 0, 0, 0, 0, 0, 0, 0, 0, 0, 0, 0, 0, 0, 0, 0, 0, 0, 0, 0,\n",
              "       0, 0, 0, 0, 0, 0, 0, 0, 0, 0, 0, 0, 0, 0, 0, 0, 0, 0, 0, 0, 0, 0,\n",
              "       0, 0, 0, 0, 0, 0, 0, 0, 0, 0, 0, 0, 0, 0, 0, 0, 0, 0, 0, 0, 0, 0,\n",
              "       0, 0, 0, 0, 0, 0, 0, 0, 0, 0, 0, 0, 0, 0, 0, 0, 0, 0, 0, 0, 0, 0,\n",
              "       0, 0, 0, 0, 0, 0, 0, 0, 0, 0, 0, 0, 0, 0, 0, 0, 0, 0, 0, 0, 0, 0,\n",
              "       0, 0, 0, 0, 0, 0, 0, 0, 0, 0, 0, 0, 0, 0, 0, 0, 0, 0, 0, 0, 0, 0,\n",
              "       0, 0, 0, 0, 0, 0, 0, 0, 0, 0, 0, 0, 0, 0, 0, 0, 0, 0, 0, 0, 0, 0,\n",
              "       0, 0, 0, 0, 0, 0, 0, 0, 0, 0, 0, 0, 0, 0, 0, 0, 0, 0, 0, 0, 0, 0,\n",
              "       0, 0, 0, 0, 0, 0, 0, 0, 0, 0, 0, 0, 0, 0, 0, 0, 0, 0, 0, 0, 0, 0,\n",
              "       0, 0, 0, 0, 0, 0, 0, 0, 0, 0, 0, 0, 0, 0, 0, 0, 0, 0, 0, 0, 0, 0,\n",
              "       0, 0, 0, 0, 0, 0, 0, 0, 0, 0, 0, 0, 0, 0, 0, 0, 0, 0, 0, 0, 0, 0,\n",
              "       0, 0, 0, 0, 0, 0, 0, 0, 0, 0, 0, 0, 0, 0, 0, 0, 0, 0, 0, 0, 0, 0,\n",
              "       0, 0, 0, 0, 0, 0, 0, 0, 0, 0, 0, 0, 0, 0, 0, 0, 0, 0, 0, 0, 0, 0,\n",
              "       0, 0, 0, 0, 0, 0, 0, 0, 0, 0, 0, 0, 0, 0, 0, 0, 0, 0, 0, 0, 0, 0,\n",
              "       0, 0, 0, 0, 0, 0, 0, 0, 0, 0, 0, 0, 0, 0, 0, 0, 0, 0, 0, 0, 0, 0,\n",
              "       0, 0, 0, 0, 0, 0, 0, 0, 0, 0, 0, 0, 0, 0, 0, 0, 0, 0, 0, 0, 0, 0,\n",
              "       0, 0, 0, 0, 0, 0, 0, 0, 0, 0, 0, 0, 0, 0, 0, 0, 0, 0, 0, 0, 0, 0,\n",
              "       0, 0, 0, 0, 0, 0, 0, 0, 0, 0, 0, 0, 0, 0, 0, 0, 0, 0, 0, 0, 0, 0,\n",
              "       0, 0, 0, 0, 0, 0, 0, 0, 0, 0, 0, 0, 0, 0, 0, 0, 0, 0, 0, 0, 0, 0,\n",
              "       0, 0, 0, 0, 0, 0, 0, 0, 0, 0, 0, 0, 0, 0, 0, 0, 0, 0, 0, 0, 0, 0,\n",
              "       0, 0, 0, 0, 0, 0, 0, 0, 0, 0, 0, 0, 0, 0, 0, 0, 0, 0, 0, 0, 0, 0,\n",
              "       0, 0, 0, 0, 0, 0, 0, 0, 0, 0, 0, 0, 0, 0, 0, 0, 0, 0, 0, 0, 0, 0,\n",
              "       0, 0, 0, 0, 0, 0, 0, 0, 0, 0, 0, 0, 0, 0, 0, 0, 0, 0, 0, 0, 0, 0,\n",
              "       0, 0, 0, 0, 0, 0, 0, 0, 0, 0, 0, 0, 0, 0, 0, 0, 0, 0, 0, 0, 0, 0,\n",
              "       0, 0, 0, 0, 0, 0, 0, 0, 0, 0, 0, 0, 0, 0, 0, 0, 0, 0, 0, 0, 0, 0,\n",
              "       0, 0, 0, 0, 0, 0, 0, 0, 0, 0, 0, 0, 0, 0, 0, 0, 0, 0, 0, 0, 0, 0,\n",
              "       0, 0, 0, 0, 0, 0, 0, 0, 0, 0, 0, 0, 0, 0, 0, 0, 0, 0, 0, 0, 0, 0,\n",
              "       0, 0, 0, 0, 0, 0, 0, 0, 0, 0, 0, 0, 0, 0, 0, 0, 0, 0, 0, 0, 0, 0,\n",
              "       0, 0, 0, 0, 0, 0, 0, 0, 0, 0, 0, 0, 0, 0, 0, 0, 0, 0, 0, 0, 0, 0,\n",
              "       0, 0, 0, 0, 0, 0, 0, 0, 0, 0, 0, 0, 0, 0, 0, 0, 0, 0, 0, 0, 0, 0,\n",
              "       0, 0, 0, 0, 0, 0, 0, 0, 0, 0, 0, 0, 0, 0, 0, 0, 0, 0, 0, 0, 0, 0,\n",
              "       0, 0, 0, 0, 0, 0, 0, 0, 0, 0, 0, 0, 0, 0, 0, 0, 0, 0, 0, 0, 0, 0,\n",
              "       0, 0, 0, 0, 0, 0, 0, 0, 0, 0, 0, 0, 0, 0, 0, 0, 0, 0, 0, 0, 0, 0,\n",
              "       0, 0, 0, 0, 0, 0, 0, 0, 0, 0, 0, 0, 0, 0, 0, 0, 0, 0, 0, 0, 0, 0,\n",
              "       0, 0, 0, 0, 0, 0, 0, 0, 0, 0, 0, 0, 0, 0, 0, 0, 0, 0, 0, 0, 0, 0,\n",
              "       0, 0, 0, 0, 0, 0, 0, 0, 0, 0, 0, 0, 0, 0, 0, 0, 0, 0, 0, 0, 0, 0,\n",
              "       0, 0, 0, 0, 0, 0, 0, 0, 0, 0, 0, 0, 0, 0, 0, 0, 0, 0, 0, 0, 0, 0,\n",
              "       0, 0, 0, 0, 0, 0, 0, 0, 0, 0, 0, 0, 0, 0, 0, 0, 0, 0, 0, 0, 0, 0,\n",
              "       0, 0, 0, 0, 0, 0, 0, 0, 0, 0, 0, 0, 0, 0, 0, 0, 0, 0, 0, 0, 0, 0,\n",
              "       0, 0, 0, 0, 0, 0, 0, 0, 0, 0, 0, 0, 0, 0, 0, 0, 0, 0, 0, 0, 0, 0,\n",
              "       0, 0, 0, 0, 0, 0, 0, 0, 0, 0, 0, 0, 0, 0, 0, 0, 0, 0, 0, 0, 0, 0,\n",
              "       0, 0, 0, 0, 0, 0, 0, 0, 0, 0, 0, 0, 0, 0, 0, 0, 0, 0, 0, 0, 0, 0,\n",
              "       0, 0, 0, 0, 0, 0, 0, 0, 0, 0, 0, 0, 0, 0, 0, 0, 0, 0, 0, 0, 0, 0,\n",
              "       0, 0, 0, 0, 0, 0, 0, 0, 0, 0, 0, 0, 0, 0, 0, 0, 0, 0, 0, 0, 0, 0,\n",
              "       0, 0, 0, 0, 0, 0, 0, 0, 0, 0, 0, 0, 0, 0, 0, 0, 0, 0, 0, 0, 0, 0,\n",
              "       0, 0, 0, 0, 0, 0, 0, 0, 0, 0, 0, 0, 0, 0, 0, 0, 0, 0, 0, 0, 0, 0,\n",
              "       0, 0, 0, 0, 0, 0, 0, 0, 0, 0, 0, 0, 0, 0, 0, 0, 0, 0, 0, 0, 0, 0,\n",
              "       0, 0, 0, 0, 0, 0, 0, 0, 0, 0, 0, 0, 0, 0, 0, 0, 0, 0, 0, 0, 0, 0,\n",
              "       0, 0, 0, 0, 0, 0, 0, 0, 0, 0, 0, 0, 0, 0, 0, 0, 0, 0, 0, 0, 0, 0,\n",
              "       0, 0, 0, 0, 0, 0, 0, 0, 0, 0, 0, 0, 0, 0, 0, 0, 0, 0, 0, 0, 0, 0,\n",
              "       0, 0, 0, 0, 0, 0, 0, 0, 0, 0, 0, 0, 0, 0, 0, 0, 0, 0, 0, 0, 0, 0,\n",
              "       0, 0, 0, 0, 0, 0, 0, 0, 0, 0, 0, 0, 0, 0, 0, 0, 0, 0, 0, 0, 0, 0,\n",
              "       0, 0, 0, 0, 0, 0, 0, 0, 0, 0, 0, 0, 0, 0, 0, 0, 0, 0, 0, 0, 0, 0,\n",
              "       0, 0, 0, 0, 0, 0, 0, 0, 0, 0, 0, 0, 0, 0, 0, 0, 0, 0, 0, 0, 0, 0,\n",
              "       0, 0, 0, 0, 0, 0, 0, 0, 0, 0, 0, 0, 0, 0, 0, 0, 0, 0, 0, 0, 0, 0,\n",
              "       0, 0, 0, 0, 0, 0, 0, 0, 0, 0, 0, 0, 0, 0, 0, 0, 0, 0, 0, 0, 0, 0,\n",
              "       0, 0, 0, 0, 0, 0, 0, 0, 0, 0, 0, 0, 0])"
            ]
          },
          "metadata": {
            "tags": []
          },
          "execution_count": 231
        }
      ]
    },
    {
      "cell_type": "code",
      "metadata": {
        "id": "uWmwHY0yzdax",
        "outputId": "6fb27505-7065-48b2-fdd8-b1034e36a66a",
        "colab": {
          "base_uri": "https://localhost:8080/",
          "height": 391
        }
      },
      "source": [
        "fig = plt.figure(figsize=(8, 6))\n",
        "ax = fig.add_subplot(111)\n",
        "padding = 0.1\n",
        "resolution = 0.1\n",
        "\n",
        "colors = {0: 'violet', 1: 'indigo', 2: 'palegreen'}\n",
        "x_min, x_max = X_train[:, 0].min(), X_train[:, 0].max()\n",
        "y_min, y_max = X_train[:, 1].min(), X_train[:, 1].max()\n",
        "x_range = x_max - x_min\n",
        "y_range = y_max - y_min\n",
        "x_min -= x_range * padding\n",
        "y_min -= y_range * padding\n",
        "x_max += x_range * padding\n",
        "y_max += y_range * padding\n",
        "\n",
        "# Get decision boundaries from model\n",
        "xx, yy = np.meshgrid(np.arange(x_min, x_max, resolution),\n",
        "                     np.arange(y_min, y_max, resolution))\n",
        "\n",
        "Z = knn_model.predict(np.c_[xx.ravel(), yy.ravel()])\n",
        "Z = Z.reshape(xx.shape)\n",
        "\n",
        "# Plot the contour map\n",
        "plt.contourf(xx, yy, Z, cmap=plt.cm.PRGn)\n",
        "plt.axis('tight')\n",
        "\n",
        "# Plot your testing points as wel\n",
        "for label in np.unique(y_test):\n",
        "    indices = np.where(y_test == label)\n",
        "    plt.scatter(X_test[indices, 0], X_test[indices, 1], c=colors[label], alpha=0.8, \n",
        "                label='User ID {}'.format(label))\n",
        "\n",
        "plt.legend(loc='lower right')\n",
        "plt.title('K = {}'.format(k))\n",
        "plt.show()"
      ],
      "execution_count": 232,
      "outputs": [
        {
          "output_type": "display_data",
          "data": {
            "image/png": "[encoded data removed]",
            "text/plain": [
              "<Figure size 576x432 with 1 Axes>"
            ]
          },
          "metadata": {
            "tags": []
          }
        }
      ]
    },
    {
      "cell_type": "code",
      "metadata": {
        "id": "qAsLRC4l0xJW"
      },
      "source": [
        "# Read in csv file\n",
        "# File: https://github.com/mGalarnyk/Python_Tutorials/blob/master/Python_Basics/Linear_Regression/linear.csv\n",
        "\n",
        "\n",
        "#raw_data= pd.read_csv(r\"featMatVersion0.csv\")\n",
        "#This is the unedited file from Eddie\n",
        "\n",
        "#raw_data = pd.read_csv(r\"featMatVersion1.csv\")\n",
        "\n",
        "#raw_data = pd.read_csv(r\"featMatVersion2.csv\")\n",
        "\n",
        "\n",
        "#/content/featMatVersion2.csv\n",
        "\n",
        "#raw_data = pd.read_csv(r\"featMatVersion3.csv\")\n",
        "\n",
        "#raw_data = pd.read_csv(r\"featMatVersion4.csv\")\n",
        "#Same as original but no comunns 2 and 13\n",
        "\n",
        "\n",
        "#raw_data= pd.read_csv(r\"featMatVersion5.csv\")\n",
        "#Same as version1 but no comunns 2 and 13\n",
        "\n",
        "\n",
        "#raw_data = pd.read_csv(r\"featMatVersion6.csv\")\n",
        "#Same as version2 but no comunns 2 and 13\n",
        "\n",
        "\n",
        "raw_data = pd.read_csv(r\"featMatVersion7.csv\")\n",
        "#Same as version3 but no comunns 2 and 13\n",
        "\n",
        "\n",
        "\n"
      ],
      "execution_count": 233,
      "outputs": []
    },
    {
      "cell_type": "code",
      "metadata": {
        "id": "CvEII4Qt-i30",
        "outputId": "6ef97469-7940-4c3c-a9c0-c1400022a4b3",
        "colab": {
          "base_uri": "https://localhost:8080/",
          "height": 360
        }
      },
      "source": [
        "raw_data.head()"
      ],
      "execution_count": 293,
      "outputs": [
        {
          "output_type": "execute_result",
          "data": {
            "text/html": [
              "<div>\n",
              "<style scoped>\n",
              "    .dataframe tbody tr th:only-of-type {\n",
              "        vertical-align: middle;\n",
              "    }\n",
              "\n",
              "    .dataframe tbody tr th {\n",
              "        vertical-align: top;\n",
              "    }\n",
              "\n",
              "    .dataframe thead th {\n",
              "        text-align: right;\n",
              "    }\n",
              "</style>\n",
              "<table border=\"1\" class=\"dataframe\">\n",
              "  <thead>\n",
              "    <tr style=\"text-align: right;\">\n",
              "      <th></th>\n",
              "      <th>User_ID</th>\n",
              "      <th>Inter-Stroke time</th>\n",
              "      <th>Stroke Duration</th>\n",
              "      <th>Start X</th>\n",
              "      <th>Start Y</th>\n",
              "      <th>Stop X</th>\n",
              "      <th>Stop Y</th>\n",
              "      <th>Direct end-to-end Distance</th>\n",
              "      <th>Mean resulant length</th>\n",
              "      <th>WSAD Flag</th>\n",
              "      <th>Direction of end-to-end Time</th>\n",
              "      <th>20 per pairwise velocity</th>\n",
              "      <th>50 per pairwise velocity</th>\n",
              "      <th>80 per pairwise velocity</th>\n",
              "      <th>20 per pairwise acc</th>\n",
              "      <th>50 per pairwise acc</th>\n",
              "      <th>80 per pairwise acc</th>\n",
              "      <th>Median velocity at last 3pts</th>\n",
              "      <th>Largest deviation from end-to-end line</th>\n",
              "      <th>20 per dev line</th>\n",
              "      <th>50 per dev line</th>\n",
              "      <th>80 per dev line</th>\n",
              "      <th>Average Direction</th>\n",
              "      <th>Length of Trajectory</th>\n",
              "      <th>Ratio dist and length of trajectory</th>\n",
              "      <th>Average velocity</th>\n",
              "      <th>Median acceleration at first 5 pts</th>\n",
              "      <th>Mid-Stroke pressure</th>\n",
              "      <th>Mid-Stroke area covered</th>\n",
              "      <th>Mid-Stroke finger orientation</th>\n",
              "      <th>Change of finger orientation</th>\n",
              "      <th>Phone orientation</th>\n",
              "    </tr>\n",
              "  </thead>\n",
              "  <tbody>\n",
              "    <tr>\n",
              "      <th>0</th>\n",
              "      <td>1</td>\n",
              "      <td>17.832</td>\n",
              "      <td>0.230</td>\n",
              "      <td>16.788</td>\n",
              "      <td>-51.454</td>\n",
              "      <td>18.532</td>\n",
              "      <td>-55.270</td>\n",
              "      <td>4.1952</td>\n",
              "      <td>0.90732</td>\n",
              "      <td>1</td>\n",
              "      <td>-1.1420</td>\n",
              "      <td>2.8439</td>\n",
              "      <td>12.4230</td>\n",
              "      <td>329.010</td>\n",
              "      <td>-7304.900</td>\n",
              "      <td>827.900</td>\n",
              "      <td>225780.000</td>\n",
              "      <td>45.036</td>\n",
              "      <td>-0.11614</td>\n",
              "      <td>-0.07280</td>\n",
              "      <td>-2.220000e-16</td>\n",
              "      <td>0.001416</td>\n",
              "      <td>-0.94145</td>\n",
              "      <td>4.2232</td>\n",
              "      <td>0.99337</td>\n",
              "      <td>18.362</td>\n",
              "      <td>827.900</td>\n",
              "      <td>0.35</td>\n",
              "      <td>0.088889</td>\n",
              "      <td>0.0</td>\n",
              "      <td>0</td>\n",
              "      <td>1</td>\n",
              "    </tr>\n",
              "    <tr>\n",
              "      <th>1</th>\n",
              "      <td>1</td>\n",
              "      <td>0.489</td>\n",
              "      <td>0.069</td>\n",
              "      <td>28.779</td>\n",
              "      <td>-34.448</td>\n",
              "      <td>28.779</td>\n",
              "      <td>-34.448</td>\n",
              "      <td>0.0000</td>\n",
              "      <td>1.00000</td>\n",
              "      <td>2</td>\n",
              "      <td>0.0000</td>\n",
              "      <td>0.0000</td>\n",
              "      <td>0.0000</td>\n",
              "      <td>0.000</td>\n",
              "      <td>-37629.047</td>\n",
              "      <td>6438.205</td>\n",
              "      <td>142169.447</td>\n",
              "      <td>0.000</td>\n",
              "      <td>0.00000</td>\n",
              "      <td>0.00000</td>\n",
              "      <td>0.000000e+00</td>\n",
              "      <td>0.000000</td>\n",
              "      <td>0.00000</td>\n",
              "      <td>0.0000</td>\n",
              "      <td>0.92400</td>\n",
              "      <td>0.000</td>\n",
              "      <td>7819.644</td>\n",
              "      <td>0.27</td>\n",
              "      <td>0.088889</td>\n",
              "      <td>0.0</td>\n",
              "      <td>0</td>\n",
              "      <td>1</td>\n",
              "    </tr>\n",
              "    <tr>\n",
              "      <th>2</th>\n",
              "      <td>1</td>\n",
              "      <td>3.850</td>\n",
              "      <td>1.434</td>\n",
              "      <td>26.381</td>\n",
              "      <td>-34.993</td>\n",
              "      <td>23.656</td>\n",
              "      <td>-19.186</td>\n",
              "      <td>16.0400</td>\n",
              "      <td>0.80749</td>\n",
              "      <td>3</td>\n",
              "      <td>1.7415</td>\n",
              "      <td>4.1494</td>\n",
              "      <td>8.8246</td>\n",
              "      <td>28.907</td>\n",
              "      <td>-537.580</td>\n",
              "      <td>-29.738</td>\n",
              "      <td>333.510</td>\n",
              "      <td>11.708</td>\n",
              "      <td>-0.42971</td>\n",
              "      <td>-0.30006</td>\n",
              "      <td>-2.074500e-01</td>\n",
              "      <td>-0.053714</td>\n",
              "      <td>1.54540</td>\n",
              "      <td>16.4800</td>\n",
              "      <td>0.97329</td>\n",
              "      <td>11.493</td>\n",
              "      <td>-115.440</td>\n",
              "      <td>0.68</td>\n",
              "      <td>0.200000</td>\n",
              "      <td>0.0</td>\n",
              "      <td>0</td>\n",
              "      <td>1</td>\n",
              "    </tr>\n",
              "    <tr>\n",
              "      <th>3</th>\n",
              "      <td>1</td>\n",
              "      <td>1.949</td>\n",
              "      <td>1.253</td>\n",
              "      <td>29.652</td>\n",
              "      <td>-32.922</td>\n",
              "      <td>26.817</td>\n",
              "      <td>-17.878</td>\n",
              "      <td>15.3080</td>\n",
              "      <td>0.89276</td>\n",
              "      <td>3</td>\n",
              "      <td>1.7570</td>\n",
              "      <td>8.1866</td>\n",
              "      <td>12.8270</td>\n",
              "      <td>25.590</td>\n",
              "      <td>-809.400</td>\n",
              "      <td>-71.049</td>\n",
              "      <td>785.760</td>\n",
              "      <td>13.157</td>\n",
              "      <td>-0.22357</td>\n",
              "      <td>-0.13042</td>\n",
              "      <td>-5.123500e-02</td>\n",
              "      <td>0.034157</td>\n",
              "      <td>1.66020</td>\n",
              "      <td>15.6930</td>\n",
              "      <td>0.97551</td>\n",
              "      <td>12.524</td>\n",
              "      <td>51.968</td>\n",
              "      <td>0.50</td>\n",
              "      <td>0.155560</td>\n",
              "      <td>0.0</td>\n",
              "      <td>0</td>\n",
              "      <td>1</td>\n",
              "    </tr>\n",
              "    <tr>\n",
              "      <th>4</th>\n",
              "      <td>1</td>\n",
              "      <td>2.185</td>\n",
              "      <td>1.226</td>\n",
              "      <td>30.415</td>\n",
              "      <td>-30.633</td>\n",
              "      <td>27.798</td>\n",
              "      <td>-17.115</td>\n",
              "      <td>13.7680</td>\n",
              "      <td>0.84416</td>\n",
              "      <td>3</td>\n",
              "      <td>1.7620</td>\n",
              "      <td>5.8969</td>\n",
              "      <td>11.5410</td>\n",
              "      <td>18.225</td>\n",
              "      <td>-353.630</td>\n",
              "      <td>25.143</td>\n",
              "      <td>593.290</td>\n",
              "      <td>15.377</td>\n",
              "      <td>-0.44882</td>\n",
              "      <td>-0.31521</td>\n",
              "      <td>-2.554800e-01</td>\n",
              "      <td>-0.200240</td>\n",
              "      <td>1.60360</td>\n",
              "      <td>14.1660</td>\n",
              "      <td>0.97194</td>\n",
              "      <td>11.555</td>\n",
              "      <td>1060.600</td>\n",
              "      <td>0.56</td>\n",
              "      <td>0.133330</td>\n",
              "      <td>0.0</td>\n",
              "      <td>0</td>\n",
              "      <td>1</td>\n",
              "    </tr>\n",
              "  </tbody>\n",
              "</table>\n",
              "</div>"
            ],
            "text/plain": [
              "   User_ID  Inter-Stroke time  ...  Change of finger orientation  Phone orientation\n",
              "0        1             17.832  ...                             0                  1\n",
              "1        1              0.489  ...                             0                  1\n",
              "2        1              3.850  ...                             0                  1\n",
              "3        1              1.949  ...                             0                  1\n",
              "4        1              2.185  ...                             0                  1\n",
              "\n",
              "[5 rows x 32 columns]"
            ]
          },
          "metadata": {
            "tags": []
          },
          "execution_count": 293
        }
      ]
    },
    {
      "cell_type": "code",
      "metadata": {
        "id": "CZ-ukd0s9r_R",
        "outputId": "003377bb-8bbc-496c-d547-0dab27a1315b",
        "colab": {
          "base_uri": "https://localhost:8080/",
          "height": 360
        }
      },
      "source": [
        "\n",
        "\n",
        "\n",
        "# Removes rows with NaN in them\n",
        "filtered_data = raw_data[~np.isnan(raw_data)] \n",
        "\n",
        "# how to clean up data?\n",
        "\n",
        "x_y = np.array(filtered_data)\n",
        "x, y = x_y[:,0], x_y[:,1]\n",
        "\n",
        "# Reshaping\n",
        "x, y = x.reshape(-1,1), y.reshape(-1, 1)\n",
        "\n",
        "filtered_data.head()\n",
        "\n"
      ],
      "execution_count": 294,
      "outputs": [
        {
          "output_type": "execute_result",
          "data": {
            "text/html": [
              "<div>\n",
              "<style scoped>\n",
              "    .dataframe tbody tr th:only-of-type {\n",
              "        vertical-align: middle;\n",
              "    }\n",
              "\n",
              "    .dataframe tbody tr th {\n",
              "        vertical-align: top;\n",
              "    }\n",
              "\n",
              "    .dataframe thead th {\n",
              "        text-align: right;\n",
              "    }\n",
              "</style>\n",
              "<table border=\"1\" class=\"dataframe\">\n",
              "  <thead>\n",
              "    <tr style=\"text-align: right;\">\n",
              "      <th></th>\n",
              "      <th>User_ID</th>\n",
              "      <th>Inter-Stroke time</th>\n",
              "      <th>Stroke Duration</th>\n",
              "      <th>Start X</th>\n",
              "      <th>Start Y</th>\n",
              "      <th>Stop X</th>\n",
              "      <th>Stop Y</th>\n",
              "      <th>Direct end-to-end Distance</th>\n",
              "      <th>Mean resulant length</th>\n",
              "      <th>WSAD Flag</th>\n",
              "      <th>Direction of end-to-end Time</th>\n",
              "      <th>20 per pairwise velocity</th>\n",
              "      <th>50 per pairwise velocity</th>\n",
              "      <th>80 per pairwise velocity</th>\n",
              "      <th>20 per pairwise acc</th>\n",
              "      <th>50 per pairwise acc</th>\n",
              "      <th>80 per pairwise acc</th>\n",
              "      <th>Median velocity at last 3pts</th>\n",
              "      <th>Largest deviation from end-to-end line</th>\n",
              "      <th>20 per dev line</th>\n",
              "      <th>50 per dev line</th>\n",
              "      <th>80 per dev line</th>\n",
              "      <th>Average Direction</th>\n",
              "      <th>Length of Trajectory</th>\n",
              "      <th>Ratio dist and length of trajectory</th>\n",
              "      <th>Average velocity</th>\n",
              "      <th>Median acceleration at first 5 pts</th>\n",
              "      <th>Mid-Stroke pressure</th>\n",
              "      <th>Mid-Stroke area covered</th>\n",
              "      <th>Mid-Stroke finger orientation</th>\n",
              "      <th>Change of finger orientation</th>\n",
              "      <th>Phone orientation</th>\n",
              "    </tr>\n",
              "  </thead>\n",
              "  <tbody>\n",
              "    <tr>\n",
              "      <th>0</th>\n",
              "      <td>1</td>\n",
              "      <td>17.832</td>\n",
              "      <td>0.230</td>\n",
              "      <td>16.788</td>\n",
              "      <td>-51.454</td>\n",
              "      <td>18.532</td>\n",
              "      <td>-55.270</td>\n",
              "      <td>4.1952</td>\n",
              "      <td>0.90732</td>\n",
              "      <td>1</td>\n",
              "      <td>-1.1420</td>\n",
              "      <td>2.8439</td>\n",
              "      <td>12.4230</td>\n",
              "      <td>329.010</td>\n",
              "      <td>-7304.900</td>\n",
              "      <td>827.900</td>\n",
              "      <td>225780.000</td>\n",
              "      <td>45.036</td>\n",
              "      <td>-0.11614</td>\n",
              "      <td>-0.07280</td>\n",
              "      <td>-2.220000e-16</td>\n",
              "      <td>0.001416</td>\n",
              "      <td>-0.94145</td>\n",
              "      <td>4.2232</td>\n",
              "      <td>0.99337</td>\n",
              "      <td>18.362</td>\n",
              "      <td>827.900</td>\n",
              "      <td>0.35</td>\n",
              "      <td>0.088889</td>\n",
              "      <td>0.0</td>\n",
              "      <td>0</td>\n",
              "      <td>1</td>\n",
              "    </tr>\n",
              "    <tr>\n",
              "      <th>1</th>\n",
              "      <td>1</td>\n",
              "      <td>0.489</td>\n",
              "      <td>0.069</td>\n",
              "      <td>28.779</td>\n",
              "      <td>-34.448</td>\n",
              "      <td>28.779</td>\n",
              "      <td>-34.448</td>\n",
              "      <td>0.0000</td>\n",
              "      <td>1.00000</td>\n",
              "      <td>2</td>\n",
              "      <td>0.0000</td>\n",
              "      <td>0.0000</td>\n",
              "      <td>0.0000</td>\n",
              "      <td>0.000</td>\n",
              "      <td>-37629.047</td>\n",
              "      <td>6438.205</td>\n",
              "      <td>142169.447</td>\n",
              "      <td>0.000</td>\n",
              "      <td>0.00000</td>\n",
              "      <td>0.00000</td>\n",
              "      <td>0.000000e+00</td>\n",
              "      <td>0.000000</td>\n",
              "      <td>0.00000</td>\n",
              "      <td>0.0000</td>\n",
              "      <td>0.92400</td>\n",
              "      <td>0.000</td>\n",
              "      <td>7819.644</td>\n",
              "      <td>0.27</td>\n",
              "      <td>0.088889</td>\n",
              "      <td>0.0</td>\n",
              "      <td>0</td>\n",
              "      <td>1</td>\n",
              "    </tr>\n",
              "    <tr>\n",
              "      <th>2</th>\n",
              "      <td>1</td>\n",
              "      <td>3.850</td>\n",
              "      <td>1.434</td>\n",
              "      <td>26.381</td>\n",
              "      <td>-34.993</td>\n",
              "      <td>23.656</td>\n",
              "      <td>-19.186</td>\n",
              "      <td>16.0400</td>\n",
              "      <td>0.80749</td>\n",
              "      <td>3</td>\n",
              "      <td>1.7415</td>\n",
              "      <td>4.1494</td>\n",
              "      <td>8.8246</td>\n",
              "      <td>28.907</td>\n",
              "      <td>-537.580</td>\n",
              "      <td>-29.738</td>\n",
              "      <td>333.510</td>\n",
              "      <td>11.708</td>\n",
              "      <td>-0.42971</td>\n",
              "      <td>-0.30006</td>\n",
              "      <td>-2.074500e-01</td>\n",
              "      <td>-0.053714</td>\n",
              "      <td>1.54540</td>\n",
              "      <td>16.4800</td>\n",
              "      <td>0.97329</td>\n",
              "      <td>11.493</td>\n",
              "      <td>-115.440</td>\n",
              "      <td>0.68</td>\n",
              "      <td>0.200000</td>\n",
              "      <td>0.0</td>\n",
              "      <td>0</td>\n",
              "      <td>1</td>\n",
              "    </tr>\n",
              "    <tr>\n",
              "      <th>3</th>\n",
              "      <td>1</td>\n",
              "      <td>1.949</td>\n",
              "      <td>1.253</td>\n",
              "      <td>29.652</td>\n",
              "      <td>-32.922</td>\n",
              "      <td>26.817</td>\n",
              "      <td>-17.878</td>\n",
              "      <td>15.3080</td>\n",
              "      <td>0.89276</td>\n",
              "      <td>3</td>\n",
              "      <td>1.7570</td>\n",
              "      <td>8.1866</td>\n",
              "      <td>12.8270</td>\n",
              "      <td>25.590</td>\n",
              "      <td>-809.400</td>\n",
              "      <td>-71.049</td>\n",
              "      <td>785.760</td>\n",
              "      <td>13.157</td>\n",
              "      <td>-0.22357</td>\n",
              "      <td>-0.13042</td>\n",
              "      <td>-5.123500e-02</td>\n",
              "      <td>0.034157</td>\n",
              "      <td>1.66020</td>\n",
              "      <td>15.6930</td>\n",
              "      <td>0.97551</td>\n",
              "      <td>12.524</td>\n",
              "      <td>51.968</td>\n",
              "      <td>0.50</td>\n",
              "      <td>0.155560</td>\n",
              "      <td>0.0</td>\n",
              "      <td>0</td>\n",
              "      <td>1</td>\n",
              "    </tr>\n",
              "    <tr>\n",
              "      <th>4</th>\n",
              "      <td>1</td>\n",
              "      <td>2.185</td>\n",
              "      <td>1.226</td>\n",
              "      <td>30.415</td>\n",
              "      <td>-30.633</td>\n",
              "      <td>27.798</td>\n",
              "      <td>-17.115</td>\n",
              "      <td>13.7680</td>\n",
              "      <td>0.84416</td>\n",
              "      <td>3</td>\n",
              "      <td>1.7620</td>\n",
              "      <td>5.8969</td>\n",
              "      <td>11.5410</td>\n",
              "      <td>18.225</td>\n",
              "      <td>-353.630</td>\n",
              "      <td>25.143</td>\n",
              "      <td>593.290</td>\n",
              "      <td>15.377</td>\n",
              "      <td>-0.44882</td>\n",
              "      <td>-0.31521</td>\n",
              "      <td>-2.554800e-01</td>\n",
              "      <td>-0.200240</td>\n",
              "      <td>1.60360</td>\n",
              "      <td>14.1660</td>\n",
              "      <td>0.97194</td>\n",
              "      <td>11.555</td>\n",
              "      <td>1060.600</td>\n",
              "      <td>0.56</td>\n",
              "      <td>0.133330</td>\n",
              "      <td>0.0</td>\n",
              "      <td>0</td>\n",
              "      <td>1</td>\n",
              "    </tr>\n",
              "  </tbody>\n",
              "</table>\n",
              "</div>"
            ],
            "text/plain": [
              "   User_ID  Inter-Stroke time  ...  Change of finger orientation  Phone orientation\n",
              "0        1             17.832  ...                             0                  1\n",
              "1        1              0.489  ...                             0                  1\n",
              "2        1              3.850  ...                             0                  1\n",
              "3        1              1.949  ...                             0                  1\n",
              "4        1              2.185  ...                             0                  1\n",
              "\n",
              "[5 rows x 32 columns]"
            ]
          },
          "metadata": {
            "tags": []
          },
          "execution_count": 294
        }
      ]
    },
    {
      "cell_type": "code",
      "metadata": {
        "id": "r3-R9fDV-J_L",
        "outputId": "03e9adce-445e-48c5-cbdd-7279305d745e",
        "colab": {
          "base_uri": "https://localhost:8080/",
          "height": 293
        }
      },
      "source": [
        "# Linear Regression Object \n",
        "lin_regression = LinearRegression()\n",
        "\n",
        "# Fitting linear model to the data\n",
        "lin_regression.fit(x,y)\n",
        "\n",
        "# Get slope of fitted line\n",
        "m = lin_regression.coef_\n",
        "\n",
        "# Get y-Intercept of the Line\n",
        "b = lin_regression.intercept_\n",
        "\n",
        "# Get Predictions for original x values\n",
        "# you can also get predictions for new data\n",
        "predictions = lin_regression.predict(x)\n",
        "\n",
        "# following slope intercept form \n",
        "print ( \"formula: y = {0}x + {1}\".format(m, b) )\n",
        "\n",
        "# Plot the Original Model (Black) and Predictions (Blue)\n",
        "plt.scatter(x, y,  color='black')\n",
        "plt.plot(x, predictions, color='blue',linewidth=3)\n",
        "plt.show()"
      ],
      "execution_count": 236,
      "outputs": [
        {
          "output_type": "stream",
          "text": [
            "formula: y = [[-832.69751505]]x + [832.08444273]\n"
          ],
          "name": "stdout"
        },
        {
          "output_type": "display_data",
          "data": {
            "image/png": "[encoded data removed]",
            "text/plain": [
              "<Figure size 432x288 with 1 Axes>"
            ]
          },
          "metadata": {
            "tags": []
          }
        }
      ]
    },
    {
      "cell_type": "code",
      "metadata": {
        "id": "vpuTy24tA9VT",
        "outputId": "d1c961e3-572b-469b-87eb-00f792476863",
        "colab": {
          "base_uri": "https://localhost:8080/",
          "height": 360
        }
      },
      "source": [
        "#df = pd.read_csv(url, names=['sepal length','sepal width','petal length','petal width','target'])\n",
        "#train = pd.read_csv(r\"featMatVersion0.csv\")\n",
        "#This is the unedited file from Eddie\n",
        "\n",
        "#df = pd.read_csv(r\"featMatVersion1.csv\")\n",
        "\n",
        "#df = pd.read_csv(r\"featMatVersion2.csv\")\n",
        "\n",
        "\n",
        "#/content/featMatVersion2.csv\n",
        "\n",
        "#df = pd.read_csv(r\"featMatVersion3.csv\")\n",
        "\n",
        "#df = pd.read_csv(r\"featMatVersion4.csv\")\n",
        "#Same as original but no comunns 2 and 13\n",
        "\n",
        "\n",
        "#df = pd.read_csv(r\"featMatVersion5.csv\")\n",
        "#Same as version1 but no comunns 2 and 13\n",
        "\n",
        "\n",
        "#df = pd.read_csv(r\"featMatVersion6.csv\")\n",
        "#Same as version2 but no comunns 2 and 13\n",
        "\n",
        "df = pd.read_csv(r\"featMatVersion7.csv\")\n",
        "\n",
        "\n",
        "#df = pd.read_csv(r\"featMatVersion7.csv\",names=['User_ID', 'Inter-Stroke time', 'Stroke Duration', 'Start X', 'Start Y',\n",
        " #      'Stop X', 'Stop Y', 'Direct end-to-end Distance',\n",
        "  #     'Mean resulant length', 'WSAD Flag', 'Direction of end-to-end Time',\n",
        "   #    '20 per pairwise velocity', '50 per pairwise velocity',\n",
        "    #   '80 per pairwise velocity', '20 per pairwise acc',\n",
        "     #  '50 per pairwise acc', '80 per pairwise acc',\n",
        "      # 'Median velocity at last 3pts',\n",
        "       #'Largest deviation from end-to-end line', '20 per dev line',\n",
        "       #'50 per dev line', '80 per dev line', 'Average Direction',\n",
        "       #'Length of Trajectory', 'Ratio dist and length of trajectory',\n",
        "       #'Average velocity', 'Median acceleration at first 5 pts',\n",
        "       #'Mid-Stroke pressure', 'Mid-Stroke area covered',\n",
        "       #'Mid-Stroke finger orientation', 'Change of finger orientation',\n",
        "       #'Phone orientation'] )\n",
        "#Same as version3 but no comunns 2 and 13\n",
        "\n",
        "\n",
        "df.head()\n"
      ],
      "execution_count": 292,
      "outputs": [
        {
          "output_type": "execute_result",
          "data": {
            "text/html": [
              "<div>\n",
              "<style scoped>\n",
              "    .dataframe tbody tr th:only-of-type {\n",
              "        vertical-align: middle;\n",
              "    }\n",
              "\n",
              "    .dataframe tbody tr th {\n",
              "        vertical-align: top;\n",
              "    }\n",
              "\n",
              "    .dataframe thead th {\n",
              "        text-align: right;\n",
              "    }\n",
              "</style>\n",
              "<table border=\"1\" class=\"dataframe\">\n",
              "  <thead>\n",
              "    <tr style=\"text-align: right;\">\n",
              "      <th></th>\n",
              "      <th>User_ID</th>\n",
              "      <th>Inter-Stroke time</th>\n",
              "      <th>Stroke Duration</th>\n",
              "      <th>Start X</th>\n",
              "      <th>Start Y</th>\n",
              "      <th>Stop X</th>\n",
              "      <th>Stop Y</th>\n",
              "      <th>Direct end-to-end Distance</th>\n",
              "      <th>Mean resulant length</th>\n",
              "      <th>WSAD Flag</th>\n",
              "      <th>Direction of end-to-end Time</th>\n",
              "      <th>20 per pairwise velocity</th>\n",
              "      <th>50 per pairwise velocity</th>\n",
              "      <th>80 per pairwise velocity</th>\n",
              "      <th>20 per pairwise acc</th>\n",
              "      <th>50 per pairwise acc</th>\n",
              "      <th>80 per pairwise acc</th>\n",
              "      <th>Median velocity at last 3pts</th>\n",
              "      <th>Largest deviation from end-to-end line</th>\n",
              "      <th>20 per dev line</th>\n",
              "      <th>50 per dev line</th>\n",
              "      <th>80 per dev line</th>\n",
              "      <th>Average Direction</th>\n",
              "      <th>Length of Trajectory</th>\n",
              "      <th>Ratio dist and length of trajectory</th>\n",
              "      <th>Average velocity</th>\n",
              "      <th>Median acceleration at first 5 pts</th>\n",
              "      <th>Mid-Stroke pressure</th>\n",
              "      <th>Mid-Stroke area covered</th>\n",
              "      <th>Mid-Stroke finger orientation</th>\n",
              "      <th>Change of finger orientation</th>\n",
              "      <th>Phone orientation</th>\n",
              "    </tr>\n",
              "  </thead>\n",
              "  <tbody>\n",
              "    <tr>\n",
              "      <th>0</th>\n",
              "      <td>1</td>\n",
              "      <td>17.832</td>\n",
              "      <td>0.230</td>\n",
              "      <td>16.788</td>\n",
              "      <td>-51.454</td>\n",
              "      <td>18.532</td>\n",
              "      <td>-55.270</td>\n",
              "      <td>4.1952</td>\n",
              "      <td>0.90732</td>\n",
              "      <td>1</td>\n",
              "      <td>-1.1420</td>\n",
              "      <td>2.8439</td>\n",
              "      <td>12.4230</td>\n",
              "      <td>329.010</td>\n",
              "      <td>-7304.900</td>\n",
              "      <td>827.900</td>\n",
              "      <td>225780.000</td>\n",
              "      <td>45.036</td>\n",
              "      <td>-0.11614</td>\n",
              "      <td>-0.07280</td>\n",
              "      <td>-2.220000e-16</td>\n",
              "      <td>0.001416</td>\n",
              "      <td>-0.94145</td>\n",
              "      <td>4.2232</td>\n",
              "      <td>0.99337</td>\n",
              "      <td>18.362</td>\n",
              "      <td>827.900</td>\n",
              "      <td>0.35</td>\n",
              "      <td>0.088889</td>\n",
              "      <td>0.0</td>\n",
              "      <td>0</td>\n",
              "      <td>1</td>\n",
              "    </tr>\n",
              "    <tr>\n",
              "      <th>1</th>\n",
              "      <td>1</td>\n",
              "      <td>0.489</td>\n",
              "      <td>0.069</td>\n",
              "      <td>28.779</td>\n",
              "      <td>-34.448</td>\n",
              "      <td>28.779</td>\n",
              "      <td>-34.448</td>\n",
              "      <td>0.0000</td>\n",
              "      <td>1.00000</td>\n",
              "      <td>2</td>\n",
              "      <td>0.0000</td>\n",
              "      <td>0.0000</td>\n",
              "      <td>0.0000</td>\n",
              "      <td>0.000</td>\n",
              "      <td>-37629.047</td>\n",
              "      <td>6438.205</td>\n",
              "      <td>142169.447</td>\n",
              "      <td>0.000</td>\n",
              "      <td>0.00000</td>\n",
              "      <td>0.00000</td>\n",
              "      <td>0.000000e+00</td>\n",
              "      <td>0.000000</td>\n",
              "      <td>0.00000</td>\n",
              "      <td>0.0000</td>\n",
              "      <td>0.92400</td>\n",
              "      <td>0.000</td>\n",
              "      <td>7819.644</td>\n",
              "      <td>0.27</td>\n",
              "      <td>0.088889</td>\n",
              "      <td>0.0</td>\n",
              "      <td>0</td>\n",
              "      <td>1</td>\n",
              "    </tr>\n",
              "    <tr>\n",
              "      <th>2</th>\n",
              "      <td>1</td>\n",
              "      <td>3.850</td>\n",
              "      <td>1.434</td>\n",
              "      <td>26.381</td>\n",
              "      <td>-34.993</td>\n",
              "      <td>23.656</td>\n",
              "      <td>-19.186</td>\n",
              "      <td>16.0400</td>\n",
              "      <td>0.80749</td>\n",
              "      <td>3</td>\n",
              "      <td>1.7415</td>\n",
              "      <td>4.1494</td>\n",
              "      <td>8.8246</td>\n",
              "      <td>28.907</td>\n",
              "      <td>-537.580</td>\n",
              "      <td>-29.738</td>\n",
              "      <td>333.510</td>\n",
              "      <td>11.708</td>\n",
              "      <td>-0.42971</td>\n",
              "      <td>-0.30006</td>\n",
              "      <td>-2.074500e-01</td>\n",
              "      <td>-0.053714</td>\n",
              "      <td>1.54540</td>\n",
              "      <td>16.4800</td>\n",
              "      <td>0.97329</td>\n",
              "      <td>11.493</td>\n",
              "      <td>-115.440</td>\n",
              "      <td>0.68</td>\n",
              "      <td>0.200000</td>\n",
              "      <td>0.0</td>\n",
              "      <td>0</td>\n",
              "      <td>1</td>\n",
              "    </tr>\n",
              "    <tr>\n",
              "      <th>3</th>\n",
              "      <td>1</td>\n",
              "      <td>1.949</td>\n",
              "      <td>1.253</td>\n",
              "      <td>29.652</td>\n",
              "      <td>-32.922</td>\n",
              "      <td>26.817</td>\n",
              "      <td>-17.878</td>\n",
              "      <td>15.3080</td>\n",
              "      <td>0.89276</td>\n",
              "      <td>3</td>\n",
              "      <td>1.7570</td>\n",
              "      <td>8.1866</td>\n",
              "      <td>12.8270</td>\n",
              "      <td>25.590</td>\n",
              "      <td>-809.400</td>\n",
              "      <td>-71.049</td>\n",
              "      <td>785.760</td>\n",
              "      <td>13.157</td>\n",
              "      <td>-0.22357</td>\n",
              "      <td>-0.13042</td>\n",
              "      <td>-5.123500e-02</td>\n",
              "      <td>0.034157</td>\n",
              "      <td>1.66020</td>\n",
              "      <td>15.6930</td>\n",
              "      <td>0.97551</td>\n",
              "      <td>12.524</td>\n",
              "      <td>51.968</td>\n",
              "      <td>0.50</td>\n",
              "      <td>0.155560</td>\n",
              "      <td>0.0</td>\n",
              "      <td>0</td>\n",
              "      <td>1</td>\n",
              "    </tr>\n",
              "    <tr>\n",
              "      <th>4</th>\n",
              "      <td>1</td>\n",
              "      <td>2.185</td>\n",
              "      <td>1.226</td>\n",
              "      <td>30.415</td>\n",
              "      <td>-30.633</td>\n",
              "      <td>27.798</td>\n",
              "      <td>-17.115</td>\n",
              "      <td>13.7680</td>\n",
              "      <td>0.84416</td>\n",
              "      <td>3</td>\n",
              "      <td>1.7620</td>\n",
              "      <td>5.8969</td>\n",
              "      <td>11.5410</td>\n",
              "      <td>18.225</td>\n",
              "      <td>-353.630</td>\n",
              "      <td>25.143</td>\n",
              "      <td>593.290</td>\n",
              "      <td>15.377</td>\n",
              "      <td>-0.44882</td>\n",
              "      <td>-0.31521</td>\n",
              "      <td>-2.554800e-01</td>\n",
              "      <td>-0.200240</td>\n",
              "      <td>1.60360</td>\n",
              "      <td>14.1660</td>\n",
              "      <td>0.97194</td>\n",
              "      <td>11.555</td>\n",
              "      <td>1060.600</td>\n",
              "      <td>0.56</td>\n",
              "      <td>0.133330</td>\n",
              "      <td>0.0</td>\n",
              "      <td>0</td>\n",
              "      <td>1</td>\n",
              "    </tr>\n",
              "  </tbody>\n",
              "</table>\n",
              "</div>"
            ],
            "text/plain": [
              "   User_ID  Inter-Stroke time  ...  Change of finger orientation  Phone orientation\n",
              "0        1             17.832  ...                             0                  1\n",
              "1        1              0.489  ...                             0                  1\n",
              "2        1              3.850  ...                             0                  1\n",
              "3        1              1.949  ...                             0                  1\n",
              "4        1              2.185  ...                             0                  1\n",
              "\n",
              "[5 rows x 32 columns]"
            ]
          },
          "metadata": {
            "tags": []
          },
          "execution_count": 292
        }
      ]
    },
    {
      "cell_type": "code",
      "metadata": {
        "id": "4dr1ExyJAuFY"
      },
      "source": [
        "\n",
        "\n",
        "features=[ 'Inter-Stroke time', 'Stroke Duration', 'Start X', 'Start Y',\n",
        "       'Stop X', 'Stop Y', 'Direct end-to-end Distance',\n",
        "       'Mean resulant length', 'WSAD Flag', 'Direction of end-to-end Time',\n",
        "       '20 per pairwise velocity', '50 per pairwise velocity',\n",
        "       '80 per pairwise velocity', '20 per pairwise acc',\n",
        "       '50 per pairwise acc', '80 per pairwise acc',\n",
        "       'Median velocity at last 3pts',\n",
        "       'Largest deviation from end-to-end line', '20 per dev line',\n",
        "       '50 per dev line', '80 per dev line', 'Average Direction',\n",
        "       'Length of Trajectory', 'Ratio dist and length of trajectory',\n",
        "       'Average velocity', 'Median acceleration at first 5 pts',\n",
        "       'Mid-Stroke pressure', 'Mid-Stroke area covered',\n",
        "       'Mid-Stroke finger orientation', 'Change of finger orientation',\n",
        "       'Phone orientation']\n",
        "\n"
      ],
      "execution_count": 253,
      "outputs": []
    },
    {
      "cell_type": "code",
      "metadata": {
        "id": "OqeNut1lCiAf"
      },
      "source": [
        "\n",
        "# Separating out the features\n",
        "x = df.loc[:, features].values\n",
        "# Separating out the target\n",
        "y = df.loc[:,['User_ID']].values\n",
        "# Standardizing the features\n",
        "x = StandardScaler().fit_transform(x)\n",
        "\n"
      ],
      "execution_count": 297,
      "outputs": []
    },
    {
      "cell_type": "code",
      "metadata": {
        "id": "TIHqgPNEGDXC",
        "outputId": "e55f2d38-668a-4785-c2fb-a474057407e0",
        "colab": {
          "base_uri": "https://localhost:8080/",
          "height": 204
        }
      },
      "source": [
        "pca = PCA(n_components=2)\n",
        "principalComponents = pca.fit_transform(x)\n",
        "principalDf = pd.DataFrame(data = principalComponents\n",
        "             , columns = ['principal component 1', 'principal component 2'])\n",
        "\n",
        "principalDf.head()"
      ],
      "execution_count": 299,
      "outputs": [
        {
          "output_type": "execute_result",
          "data": {
            "text/html": [
              "<div>\n",
              "<style scoped>\n",
              "    .dataframe tbody tr th:only-of-type {\n",
              "        vertical-align: middle;\n",
              "    }\n",
              "\n",
              "    .dataframe tbody tr th {\n",
              "        vertical-align: top;\n",
              "    }\n",
              "\n",
              "    .dataframe thead th {\n",
              "        text-align: right;\n",
              "    }\n",
              "</style>\n",
              "<table border=\"1\" class=\"dataframe\">\n",
              "  <thead>\n",
              "    <tr style=\"text-align: right;\">\n",
              "      <th></th>\n",
              "      <th>principal component 1</th>\n",
              "      <th>principal component 2</th>\n",
              "    </tr>\n",
              "  </thead>\n",
              "  <tbody>\n",
              "    <tr>\n",
              "      <th>0</th>\n",
              "      <td>-0.007388</td>\n",
              "      <td>0.200444</td>\n",
              "    </tr>\n",
              "    <tr>\n",
              "      <th>1</th>\n",
              "      <td>-1.233862</td>\n",
              "      <td>0.059209</td>\n",
              "    </tr>\n",
              "    <tr>\n",
              "      <th>2</th>\n",
              "      <td>-1.641037</td>\n",
              "      <td>0.385821</td>\n",
              "    </tr>\n",
              "    <tr>\n",
              "      <th>3</th>\n",
              "      <td>-1.567817</td>\n",
              "      <td>0.324842</td>\n",
              "    </tr>\n",
              "    <tr>\n",
              "      <th>4</th>\n",
              "      <td>-1.698282</td>\n",
              "      <td>0.555375</td>\n",
              "    </tr>\n",
              "  </tbody>\n",
              "</table>\n",
              "</div>"
            ],
            "text/plain": [
              "   principal component 1  principal component 2\n",
              "0              -0.007388               0.200444\n",
              "1              -1.233862               0.059209\n",
              "2              -1.641037               0.385821\n",
              "3              -1.567817               0.324842\n",
              "4              -1.698282               0.555375"
            ]
          },
          "metadata": {
            "tags": []
          },
          "execution_count": 299
        }
      ]
    },
    {
      "cell_type": "code",
      "metadata": {
        "id": "49ojIcOKGR0L",
        "outputId": "c7dedb1a-a9e2-41c5-d11d-01198641cade",
        "colab": {
          "base_uri": "https://localhost:8080/",
          "height": 204
        }
      },
      "source": [
        "finalDf = pd.concat([principalDf, df[['User_ID']]], axis = 1)\n",
        "\n",
        "finalDf.head()\n"
      ],
      "execution_count": 300,
      "outputs": [
        {
          "output_type": "execute_result",
          "data": {
            "text/html": [
              "<div>\n",
              "<style scoped>\n",
              "    .dataframe tbody tr th:only-of-type {\n",
              "        vertical-align: middle;\n",
              "    }\n",
              "\n",
              "    .dataframe tbody tr th {\n",
              "        vertical-align: top;\n",
              "    }\n",
              "\n",
              "    .dataframe thead th {\n",
              "        text-align: right;\n",
              "    }\n",
              "</style>\n",
              "<table border=\"1\" class=\"dataframe\">\n",
              "  <thead>\n",
              "    <tr style=\"text-align: right;\">\n",
              "      <th></th>\n",
              "      <th>principal component 1</th>\n",
              "      <th>principal component 2</th>\n",
              "      <th>User_ID</th>\n",
              "    </tr>\n",
              "  </thead>\n",
              "  <tbody>\n",
              "    <tr>\n",
              "      <th>0</th>\n",
              "      <td>-0.007388</td>\n",
              "      <td>0.200444</td>\n",
              "      <td>1</td>\n",
              "    </tr>\n",
              "    <tr>\n",
              "      <th>1</th>\n",
              "      <td>-1.233862</td>\n",
              "      <td>0.059209</td>\n",
              "      <td>1</td>\n",
              "    </tr>\n",
              "    <tr>\n",
              "      <th>2</th>\n",
              "      <td>-1.641037</td>\n",
              "      <td>0.385821</td>\n",
              "      <td>1</td>\n",
              "    </tr>\n",
              "    <tr>\n",
              "      <th>3</th>\n",
              "      <td>-1.567817</td>\n",
              "      <td>0.324842</td>\n",
              "      <td>1</td>\n",
              "    </tr>\n",
              "    <tr>\n",
              "      <th>4</th>\n",
              "      <td>-1.698282</td>\n",
              "      <td>0.555375</td>\n",
              "      <td>1</td>\n",
              "    </tr>\n",
              "  </tbody>\n",
              "</table>\n",
              "</div>"
            ],
            "text/plain": [
              "   principal component 1  principal component 2  User_ID\n",
              "0              -0.007388               0.200444        1\n",
              "1              -1.233862               0.059209        1\n",
              "2              -1.641037               0.385821        1\n",
              "3              -1.567817               0.324842        1\n",
              "4              -1.698282               0.555375        1"
            ]
          },
          "metadata": {
            "tags": []
          },
          "execution_count": 300
        }
      ]
    },
    {
      "cell_type": "code",
      "metadata": {
        "id": "qJCpOMvMGbZU",
        "outputId": "dc2bf94b-b9ee-4a2d-e681-b0cc86ee1cf9",
        "colab": {
          "base_uri": "https://localhost:8080/",
          "height": 523
        }
      },
      "source": [
        "fig = plt.figure(figsize = (8,8))\n",
        "ax = fig.add_subplot(1,1,1) \n",
        "ax.set_xlabel('Principal Component 1', fontsize = 15)\n",
        "ax.set_ylabel('Principal Component 2', fontsize = 15)\n",
        "ax.set_title('2 component PCA', fontsize = 20)\n",
        "targets = [0, 1]\n",
        "colors = ['r', 'g']\n",
        "for target, color in zip(targets,colors):\n",
        "    indicesToKeep = finalDf['User_ID'] == target\n",
        "    ax.scatter(finalDf.loc[indicesToKeep, 'principal component 1']\n",
        "               , finalDf.loc[indicesToKeep, 'principal component 2']\n",
        "               , c = color\n",
        "               , s = 50)\n",
        "ax.legend(targets)\n",
        "ax.grid()\n",
        "\n",
        "#is not plotting anything?"
      ],
      "execution_count": 310,
      "outputs": [
        {
          "output_type": "display_data",
          "data": {
            "image/png": "[encoded data removed]",
            "text/plain": [
              "<Figure size 576x576 with 1 Axes>"
            ]
          },
          "metadata": {
            "tags": []
          }
        }
      ]
    },
    {
      "cell_type": "code",
      "metadata": {
        "id": "0jxN8JaUI8_7",
        "outputId": "520a6341-1e38-4611-98b8-52fb50bacefb",
        "colab": {
          "base_uri": "https://localhost:8080/"
        }
      },
      "source": [
        "pca.explained_variance_ratio_"
      ],
      "execution_count": 275,
      "outputs": [
        {
          "output_type": "execute_result",
          "data": {
            "text/plain": [
              "array([0.16595172, 0.11745091])"
            ]
          },
          "metadata": {
            "tags": []
          },
          "execution_count": 275
        }
      ]
    }
  ]
}