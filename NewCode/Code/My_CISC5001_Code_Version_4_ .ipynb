{
 "cells": [
  {
   "cell_type": "code",
   "execution_count": 4,
   "metadata": {
    "colab": {
     "base_uri": "https://localhost:8080/"
    },
    "id": "NLJjkG-qsQ_A",
    "outputId": "7dc45c41-241d-456e-8d1d-9b4bd89ac214"
   },
   "outputs": [
    {
     "name": "stdout",
     "output_type": "stream",
     "text": [
      "['My_CISC5001_Code_Version_3_.ipynb', 'My_CISC5001_Code_Version_1_.ipynb', 'My_CISC5001_Code_Version_4_ .ipynb', '.stay', 'featMatVersion7.csv', 'My_CISC5001_Code_Version_2_.ipynb', '.ipynb_checkpoints']\n"
     ]
    }
   ],
   "source": [
    "import numpy as np # linear algebra\n",
    "import pandas as pd # data processing, CSV file I/O (e.g. pd.read_csv)\n",
    "import tensorflow as tf\n",
    "\n",
    "import matplotlib.pyplot as plt\n",
    "import matplotlib\n",
    "\n",
    "%matplotlib inline\n",
    "matplotlib.style.use('ggplot') \n",
    "\n",
    "from sklearn import datasets\n",
    "from sklearn import preprocessing\n",
    "from sklearn.model_selection import train_test_split\n",
    "from sklearn.decomposition import PCA\n",
    "from sklearn.neighbors import KNeighborsClassifier\n",
    "from sklearn.datasets import load_digits\n",
    "from sklearn.linear_model import LogisticRegression\n",
    "from sklearn.preprocessing import StandardScaler\n",
    "from sklearn.linear_model import LinearRegression\n",
    "\n",
    "\n",
    "\n",
    "import sys\n",
    "\n",
    "import seaborn as sns\n",
    "from sklearn import metrics\n",
    "\n",
    "#Based on Eddie Lam's code\n",
    "\n",
    "'''\n",
    "Reusing code:\n",
    "https://stackabuse.com/k-nearest-neighbors-algorithm-in-python-and-scikit-learn/\n",
    "\n",
    "Explaining result:\n",
    "https://datascience.stackexchange.com/questions/65839/macro-average-and-weighted-average-meaning-in-classification-report\n",
    "\n",
    "\n",
    "Test_fearMat_Clean: 4168\n",
    "    Before edit: 4231 rows × 34 columns\n",
    "    After edit: 4168 rows × 34 columns\n",
    "    \n",
    "    #removed 6 to 7\n",
    "    total = 3749         (20% = 750; 80% = 2,999)\n",
    "    \n",
    "\n",
    "Train_fearMat_Clean: 16680\n",
    "    Before edit: 16927 rows × 34 columns\n",
    "    After edit: 16680 rows × 34 columns\n",
    "    \n",
    "    #removed 6 to 7\n",
    "    total = 15045         (20% = 3,009; 80% = 12,036)\n",
    "\n",
    "'''\n",
    "\n",
    "import os\n",
    "\n",
    "\n",
    "print(os.listdir(r\".\"))         #print out what's in the file/directory\n",
    "#train = pd.read_csv(r\"featMatVersion0.csv\")\n",
    "#This is the unedited file from Eddie\n",
    "\n",
    "#train = pd.read_csv(r\"featMatVersion1.csv\")\n",
    "\n",
    "#train = pd.read_csv(r\"featMatVersion2.csv\")\n",
    "\n",
    "\n",
    "#/content/featMatVersion2.csv\n",
    "\n",
    "#train = pd.read_csv(r\"featMatVersion3.csv\")\n",
    "\n",
    "#train = pd.read_csv(r\"featMatVersion4.csv\")\n",
    "#Same as original but no comunns 2 and 13\n",
    "\n",
    "\n",
    "#train = pd.read_csv(r\"featMatVersion5.csv\")\n",
    "#Same as version1 but no comunns 2 and 13\n",
    "\n",
    "\n",
    "#train = pd.read_csv(r\"featMatVersion6.csv\")\n",
    "#Same as version2 but no comunns 2 and 13\n",
    "\n",
    "\n",
    "#train = pd.read_csv(r\"featMatVersion7.csv\")\n",
    "#Same as version3 but no comunns 2 and 13\n",
    "\n",
    "\n",
    "\n",
    "\n",
    "\n",
    "train = pd.read_csv(r\"../Data Sets/featMatVersion8.csv\")\n",
    "#Same as version0 but only 2 users\n",
    "#has only 2 users\n",
    "#Uses 1 and 2\n",
    "#still sizable difference between users\n",
    "#need to find 2 users w\n",
    "\n",
    "\n",
    "\n",
    "\n",
    "\n",
    "\n",
    "#Find out how to randomize dataset\n",
    "\n",
    "#Version Orginal is the unmodified dataset from Eddie\n",
    "\n",
    "# This Version1 uses one authentic user with a class ID of 1\n",
    "# The rest have a class ID of 0\n",
    "\n",
    "#Version 2 has sessions 6 and 7 removed\n",
    "\n",
    "#Version 3 has sessions 6 and 7 removed and authentic user with class 1 and rest 0\n",
    "\n",
    "#clean up the negative values for interstroke?\n",
    "\n",
    "#compare only 2 people?\n",
    "\n",
    "#remove columns 2 and 13?\n",
    "\n",
    "#Make a second code for the ones with the removed columns\n",
    "\n",
    "#Too much data to clean up\n",
    "\n",
    "#Should try randomizing\n",
    "\n",
    "#upload the csv to google colab\n",
    "#for some reason need to do this each time\n",
    "#need to find a way to store and acces from drive\n",
    "\n",
    "#pd.read_csv('/My Drive/Collab Notebooks/featMatVersionOriginal.csv')\n",
    "\n",
    "#Try to get data from google drive instead of manually importing it\n",
    "\n",
    "#Maybe try removing sessions 6 and 7\n",
    "\n",
    "\n",
    "\n",
    "\n",
    "\n",
    "#Create a file that has only 2 users\n",
    "\n",
    "\n"
   ]
  },
  {
   "cell_type": "code",
   "execution_count": 5,
   "metadata": {
    "colab": {
     "base_uri": "https://localhost:8080/",
     "height": 292
    },
    "id": "ea2c4gqwsQ_I",
    "outputId": "bf2619e7-52a3-498b-d7f8-c5d77f5c7627"
   },
   "outputs": [
    {
     "data": {
      "text/html": [
       "<div>\n",
       "<style scoped>\n",
       "    .dataframe tbody tr th:only-of-type {\n",
       "        vertical-align: middle;\n",
       "    }\n",
       "\n",
       "    .dataframe tbody tr th {\n",
       "        vertical-align: top;\n",
       "    }\n",
       "\n",
       "    .dataframe thead th {\n",
       "        text-align: right;\n",
       "    }\n",
       "</style>\n",
       "<table border=\"1\" class=\"dataframe\">\n",
       "  <thead>\n",
       "    <tr style=\"text-align: right;\">\n",
       "      <th></th>\n",
       "      <th>User_ID</th>\n",
       "      <th>Doc_ID</th>\n",
       "      <th>Inter-Stroke time</th>\n",
       "      <th>Stroke Duration</th>\n",
       "      <th>Start X</th>\n",
       "      <th>Start Y</th>\n",
       "      <th>Stop X</th>\n",
       "      <th>Stop Y</th>\n",
       "      <th>Direct end-to-end Distance</th>\n",
       "      <th>Mean resulant length</th>\n",
       "      <th>...</th>\n",
       "      <th>Average Direction</th>\n",
       "      <th>Length of Trajectory</th>\n",
       "      <th>Ratio dist and length of trajectory</th>\n",
       "      <th>Average velocity</th>\n",
       "      <th>Median acceleration at first 5 pts</th>\n",
       "      <th>Mid-Stroke pressure</th>\n",
       "      <th>Mid-Stroke area covered</th>\n",
       "      <th>Mid-Stroke finger orientation</th>\n",
       "      <th>Change of finger orientation</th>\n",
       "      <th>Phone orientation</th>\n",
       "    </tr>\n",
       "  </thead>\n",
       "  <tbody>\n",
       "    <tr>\n",
       "      <th>0</th>\n",
       "      <td>1</td>\n",
       "      <td>4</td>\n",
       "      <td>0.913</td>\n",
       "      <td>0.320</td>\n",
       "      <td>27.7980</td>\n",
       "      <td>-35.647</td>\n",
       "      <td>5.8867</td>\n",
       "      <td>-36.737</td>\n",
       "      <td>21.939</td>\n",
       "      <td>0.83553</td>\n",
       "      <td>...</td>\n",
       "      <td>-3.07500</td>\n",
       "      <td>22.310</td>\n",
       "      <td>0.98337</td>\n",
       "      <td>69.718</td>\n",
       "      <td>456.16</td>\n",
       "      <td>0.64</td>\n",
       "      <td>0.17778</td>\n",
       "      <td>0</td>\n",
       "      <td>0</td>\n",
       "      <td>1</td>\n",
       "    </tr>\n",
       "    <tr>\n",
       "      <th>1</th>\n",
       "      <td>1</td>\n",
       "      <td>4</td>\n",
       "      <td>10.818</td>\n",
       "      <td>0.172</td>\n",
       "      <td>27.5800</td>\n",
       "      <td>-31.069</td>\n",
       "      <td>4.5785</td>\n",
       "      <td>-36.737</td>\n",
       "      <td>23.690</td>\n",
       "      <td>0.77926</td>\n",
       "      <td>...</td>\n",
       "      <td>-2.83590</td>\n",
       "      <td>24.629</td>\n",
       "      <td>0.96188</td>\n",
       "      <td>143.190</td>\n",
       "      <td>747.36</td>\n",
       "      <td>0.66</td>\n",
       "      <td>0.22222</td>\n",
       "      <td>0</td>\n",
       "      <td>0</td>\n",
       "      <td>1</td>\n",
       "    </tr>\n",
       "    <tr>\n",
       "      <th>2</th>\n",
       "      <td>1</td>\n",
       "      <td>4</td>\n",
       "      <td>0.759</td>\n",
       "      <td>0.277</td>\n",
       "      <td>5.0146</td>\n",
       "      <td>-40.553</td>\n",
       "      <td>34.4480</td>\n",
       "      <td>-32.486</td>\n",
       "      <td>30.519</td>\n",
       "      <td>0.91959</td>\n",
       "      <td>...</td>\n",
       "      <td>0.51158</td>\n",
       "      <td>31.574</td>\n",
       "      <td>0.96657</td>\n",
       "      <td>113.990</td>\n",
       "      <td>1965.30</td>\n",
       "      <td>0.65</td>\n",
       "      <td>0.22222</td>\n",
       "      <td>0</td>\n",
       "      <td>0</td>\n",
       "      <td>1</td>\n",
       "    </tr>\n",
       "    <tr>\n",
       "      <th>3</th>\n",
       "      <td>1</td>\n",
       "      <td>4</td>\n",
       "      <td>1.143</td>\n",
       "      <td>0.250</td>\n",
       "      <td>3.5974</td>\n",
       "      <td>-37.391</td>\n",
       "      <td>34.5570</td>\n",
       "      <td>-30.415</td>\n",
       "      <td>31.736</td>\n",
       "      <td>0.96025</td>\n",
       "      <td>...</td>\n",
       "      <td>0.25501</td>\n",
       "      <td>32.084</td>\n",
       "      <td>0.98916</td>\n",
       "      <td>128.340</td>\n",
       "      <td>-788.47</td>\n",
       "      <td>0.77</td>\n",
       "      <td>0.24444</td>\n",
       "      <td>0</td>\n",
       "      <td>0</td>\n",
       "      <td>1</td>\n",
       "    </tr>\n",
       "    <tr>\n",
       "      <th>4</th>\n",
       "      <td>1</td>\n",
       "      <td>4</td>\n",
       "      <td>0.528</td>\n",
       "      <td>0.261</td>\n",
       "      <td>31.0690</td>\n",
       "      <td>-29.215</td>\n",
       "      <td>3.8155</td>\n",
       "      <td>-38.045</td>\n",
       "      <td>28.648</td>\n",
       "      <td>0.62760</td>\n",
       "      <td>...</td>\n",
       "      <td>-2.34940</td>\n",
       "      <td>32.598</td>\n",
       "      <td>0.87881</td>\n",
       "      <td>124.900</td>\n",
       "      <td>1384.20</td>\n",
       "      <td>0.70</td>\n",
       "      <td>0.28889</td>\n",
       "      <td>0</td>\n",
       "      <td>0</td>\n",
       "      <td>1</td>\n",
       "    </tr>\n",
       "  </tbody>\n",
       "</table>\n",
       "<p>5 rows × 34 columns</p>\n",
       "</div>"
      ],
      "text/plain": [
       "   User_ID  Doc_ID  Inter-Stroke time  Stroke Duration  Start X  Start Y  \\\n",
       "0        1       4              0.913            0.320  27.7980  -35.647   \n",
       "1        1       4             10.818            0.172  27.5800  -31.069   \n",
       "2        1       4              0.759            0.277   5.0146  -40.553   \n",
       "3        1       4              1.143            0.250   3.5974  -37.391   \n",
       "4        1       4              0.528            0.261  31.0690  -29.215   \n",
       "\n",
       "    Stop X  Stop Y  Direct end-to-end Distance  Mean resulant length  ...  \\\n",
       "0   5.8867 -36.737                      21.939               0.83553  ...   \n",
       "1   4.5785 -36.737                      23.690               0.77926  ...   \n",
       "2  34.4480 -32.486                      30.519               0.91959  ...   \n",
       "3  34.5570 -30.415                      31.736               0.96025  ...   \n",
       "4   3.8155 -38.045                      28.648               0.62760  ...   \n",
       "\n",
       "   Average Direction  Length of Trajectory  \\\n",
       "0           -3.07500                22.310   \n",
       "1           -2.83590                24.629   \n",
       "2            0.51158                31.574   \n",
       "3            0.25501                32.084   \n",
       "4           -2.34940                32.598   \n",
       "\n",
       "   Ratio dist and length of trajectory  Average velocity  \\\n",
       "0                              0.98337            69.718   \n",
       "1                              0.96188           143.190   \n",
       "2                              0.96657           113.990   \n",
       "3                              0.98916           128.340   \n",
       "4                              0.87881           124.900   \n",
       "\n",
       "   Median acceleration at first 5 pts  Mid-Stroke pressure  \\\n",
       "0                              456.16                 0.64   \n",
       "1                              747.36                 0.66   \n",
       "2                             1965.30                 0.65   \n",
       "3                             -788.47                 0.77   \n",
       "4                             1384.20                 0.70   \n",
       "\n",
       "   Mid-Stroke area covered  Mid-Stroke finger orientation  \\\n",
       "0                  0.17778                              0   \n",
       "1                  0.22222                              0   \n",
       "2                  0.22222                              0   \n",
       "3                  0.24444                              0   \n",
       "4                  0.28889                              0   \n",
       "\n",
       "   Change of finger orientation  Phone orientation  \n",
       "0                             0                  1  \n",
       "1                             0                  1  \n",
       "2                             0                  1  \n",
       "3                             0                  1  \n",
       "4                             0                  1  \n",
       "\n",
       "[5 rows x 34 columns]"
      ]
     },
     "execution_count": 5,
     "metadata": {},
     "output_type": "execute_result"
    }
   ],
   "source": [
    "#print\n",
    "train.head()"
   ]
  },
  {
   "cell_type": "code",
   "execution_count": 6,
   "metadata": {
    "colab": {
     "base_uri": "https://localhost:8080/"
    },
    "id": "N_7dnDX4sQ_U",
    "outputId": "a46b4dc1-58c8-4c7f-bd8e-b853ce717c72"
   },
   "outputs": [
    {
     "data": {
      "text/plain": [
       "False"
      ]
     },
     "execution_count": 6,
     "metadata": {},
     "output_type": "execute_result"
    }
   ],
   "source": [
    "np.any(np.isnan(train))"
   ]
  },
  {
   "cell_type": "code",
   "execution_count": 7,
   "metadata": {
    "colab": {
     "base_uri": "https://localhost:8080/"
    },
    "id": "iTCHhsEtsQ_m",
    "outputId": "fac1c6aa-688e-4bf1-ada3-bdc4f96049f2"
   },
   "outputs": [
    {
     "data": {
      "text/plain": [
       "True"
      ]
     },
     "execution_count": 7,
     "metadata": {},
     "output_type": "execute_result"
    }
   ],
   "source": [
    "np.all(np.isfinite(train))"
   ]
  },
  {
   "cell_type": "code",
   "execution_count": 8,
   "metadata": {
    "colab": {
     "base_uri": "https://localhost:8080/"
    },
    "id": "SEotZNcssQ_1",
    "outputId": "341bec93-0ce0-4fed-e69e-3101465381ad"
   },
   "outputs": [
    {
     "data": {
      "text/plain": [
       "Index(['User_ID', 'Doc_ID', 'Inter-Stroke time', 'Stroke Duration', 'Start X',\n",
       "       'Start Y', 'Stop X', 'Stop Y', 'Direct end-to-end Distance',\n",
       "       'Mean resulant length', 'WSAD Flag', 'Direction of end-to-end Time',\n",
       "       'Phone_ID', '20 per pairwise velocity', '50 per pairwise velocity',\n",
       "       '80 per pairwise velocity', '20 per pairwise acc',\n",
       "       '50 per pairwise acc', '80 per pairwise acc',\n",
       "       'Median velocity at last 3pts',\n",
       "       'Largest deviation from end-to-end line', '20 per dev line',\n",
       "       '50 per dev line', '80 per dev line', 'Average Direction',\n",
       "       'Length of Trajectory', 'Ratio dist and length of trajectory',\n",
       "       'Average velocity', 'Median acceleration at first 5 pts',\n",
       "       'Mid-Stroke pressure', 'Mid-Stroke area covered',\n",
       "       'Mid-Stroke finger orientation', 'Change of finger orientation',\n",
       "       'Phone orientation'],\n",
       "      dtype='object')"
      ]
     },
     "execution_count": 8,
     "metadata": {},
     "output_type": "execute_result"
    }
   ],
   "source": [
    "#print out the columns\n",
    "train.columns"
   ]
  },
  {
   "cell_type": "code",
   "execution_count": 9,
   "metadata": {
    "colab": {
     "base_uri": "https://localhost:8080/"
    },
    "id": "DfpEDfbasQ_4",
    "outputId": "611abfa8-a295-4635-f85c-d417e59998e3"
   },
   "outputs": [
    {
     "data": {
      "text/plain": [
       "1    401\n",
       "0    401\n",
       "Name: User_ID, dtype: int64"
      ]
     },
     "execution_count": 9,
     "metadata": {},
     "output_type": "execute_result"
    }
   ],
   "source": [
    "#prints the amount of users in 'User_ID'\n",
    "train['User_ID'].value_counts()"
   ]
  },
  {
   "cell_type": "code",
   "execution_count": 10,
   "metadata": {
    "id": "Uxa7-b7TsQ_8"
   },
   "outputs": [],
   "source": [
    "#Choosing the columns for X\n",
    "#Not using 'User_ID', 'Doc_ID', or 'Phone_ID'\n",
    "X = train[['Inter-Stroke time', 'Stroke Duration', 'Start X', 'Start Y', 'Stop X', 'Stop Y', 'Direct end-to-end Distance',\n",
    "        'Mean resulant length', 'WSAD Flag', 'Direction of end-to-end Time', '20 per pairwise velocity', \n",
    "        '50 per pairwise velocity', '80 per pairwise velocity', '20 per pairwise acc', '50 per pairwise acc', \n",
    "        '80 per pairwise acc', 'Median velocity at last 3pts', 'Largest deviation from end-to-end line', '20 per dev line',\n",
    "        '50 per dev line', '80 per dev line', 'Average Direction', 'Length of Trajectory', \n",
    "        'Ratio dist and length of trajectory', 'Average velocity', 'Median acceleration at first 5 pts',\n",
    "        'Mid-Stroke pressure', 'Mid-Stroke area covered', 'Mid-Stroke finger orientation', 'Change of finger orientation',\n",
    "        'Phone orientation']].values"
   ]
  },
  {
   "cell_type": "code",
   "execution_count": 11,
   "metadata": {
    "id": "5beQNhkvsRAA"
   },
   "outputs": [],
   "source": [
    "#Choosing the lables for y\n",
    "y = train['User_ID'].values"
   ]
  },
  {
   "cell_type": "code",
   "execution_count": 12,
   "metadata": {
    "id": "ui3CfitGsRAE"
   },
   "outputs": [],
   "source": [
    "#Train and test split\n",
    "#80% train, 20% test\n",
    "#splitting the data into test and train dataset\n",
    "\n",
    "from sklearn.model_selection import train_test_split\n",
    "X_train, X_test, y_train, y_test = train_test_split(X, y, test_size=0.20)\n",
    "\n",
    "#should probably randomize data better"
   ]
  },
  {
   "cell_type": "code",
   "execution_count": 13,
   "metadata": {
    "id": "vprauDHCsRAG"
   },
   "outputs": [],
   "source": [
    "#Feature Scaling\n",
    "from sklearn.preprocessing import StandardScaler\n",
    "scaler = StandardScaler()\n",
    "scaler.fit(X_train)\n",
    "\n",
    "X_train = scaler.transform(X_train)\n",
    "X_test = scaler.transform(X_test)"
   ]
  },
  {
   "cell_type": "code",
   "execution_count": 14,
   "metadata": {
    "colab": {
     "base_uri": "https://localhost:8080/"
    },
    "id": "kLjdCUPPsRAI",
    "outputId": "fe3fcba9-bf2e-47ec-9747-1d02102ef56a"
   },
   "outputs": [
    {
     "data": {
      "text/plain": [
       "KNeighborsClassifier(algorithm='auto', leaf_size=30, metric='minkowski',\n",
       "                     metric_params=None, n_jobs=None, n_neighbors=5, p=2,\n",
       "                     weights='uniform')"
      ]
     },
     "execution_count": 14,
     "metadata": {},
     "output_type": "execute_result"
    }
   ],
   "source": [
    "#Training and Prediction\n",
    "from sklearn.neighbors import KNeighborsClassifier\n",
    "classifier = KNeighborsClassifier(n_neighbors=5)         #value for k\n",
    "classifier.fit(X_train, y_train)\n",
    "\n",
    "#Sometimes gets an error for no reason \n",
    "#Run again to fix\n",
    "\n",
    "#The k value is guessed at first and then changed depending on the data\n",
    "#5 is used by convention but is usually a guess\n",
    "#Might want to change to 7 as when I did for K values up to 100 7 seemed smaller\n",
    "#on the smaller graph though 5 seems to be the best answer\n",
    "#The graph fluctuates with each run\n",
    "# 6 and 5 seem to be good choices\n",
    "\n",
    "\n",
    "#For the 0 and 1 dataset the better k values are 4, 7 and 9\n",
    "#Might want to make 2 seperate files\n",
    "\n"
   ]
  },
  {
   "cell_type": "code",
   "execution_count": 15,
   "metadata": {
    "id": "S4b_wAWWsRAL"
   },
   "outputs": [],
   "source": [
    "#Make prediction on the test data\n",
    "y_pred = classifier.predict(X_test)"
   ]
  },
  {
   "cell_type": "code",
   "execution_count": 16,
   "metadata": {
    "colab": {
     "base_uri": "https://localhost:8080/"
    },
    "id": "n3wPzHvLsRAN",
    "outputId": "00292e08-43d9-429a-b71a-bcde34239fa7"
   },
   "outputs": [
    {
     "name": "stdout",
     "output_type": "stream",
     "text": [
      "[[75  0]\n",
      " [ 3 83]]\n",
      "              precision    recall  f1-score   support\n",
      "\n",
      "           0       0.96      1.00      0.98        75\n",
      "           1       1.00      0.97      0.98        86\n",
      "\n",
      "    accuracy                           0.98       161\n",
      "   macro avg       0.98      0.98      0.98       161\n",
      "weighted avg       0.98      0.98      0.98       161\n",
      "\n"
     ]
    }
   ],
   "source": [
    "#Evaluating the Algorithm\n",
    "from sklearn.metrics import classification_report, confusion_matrix\n",
    "print(confusion_matrix(y_test, y_pred))\n",
    "print(classification_report(y_test, y_pred))"
   ]
  },
  {
   "cell_type": "code",
   "execution_count": 17,
   "metadata": {
    "colab": {
     "base_uri": "https://localhost:8080/"
    },
    "id": "AfTYQwOosRAP",
    "outputId": "a729c091-7bed-4676-95d1-f52a63e33b53"
   },
   "outputs": [
    {
     "name": "stdout",
     "output_type": "stream",
     "text": [
      "[[75  0]\n",
      " [ 3 83]]\n"
     ]
    }
   ],
   "source": [
    "#prints the entire confusion matrix\n",
    "#however, it doesnn't fit the entire row and loops around\n",
    "np.set_printoptions(threshold=sys.maxsize)\n",
    "resultCM = (confusion_matrix(y_test, y_pred))\n",
    "print(resultCM)"
   ]
  },
  {
   "cell_type": "code",
   "execution_count": 18,
   "metadata": {
    "colab": {
     "base_uri": "https://localhost:8080/"
    },
    "id": "TR-wa43BsRAS",
    "outputId": "03effb15-9c98-4eb8-ca03-e7236b306894"
   },
   "outputs": [
    {
     "name": "stdout",
     "output_type": "stream",
     "text": [
      "              precision    recall  f1-score   support\n",
      "\n",
      "           0       0.96      1.00      0.98        75\n",
      "           1       1.00      0.97      0.98        86\n",
      "\n",
      "    accuracy                           0.98       161\n",
      "   macro avg       0.98      0.98      0.98       161\n",
      "weighted avg       0.98      0.98      0.98       161\n",
      "\n"
     ]
    }
   ],
   "source": [
    "resultCR = (classification_report(y_test, y_pred))\n",
    "print(resultCR)"
   ]
  },
  {
   "cell_type": "code",
   "execution_count": 19,
   "metadata": {
    "id": "OLX_hpdCuiOL"
   },
   "outputs": [],
   "source": [
    "# all parameters not specified are set to their defaults\n",
    "logisticRegr = LogisticRegression()"
   ]
  },
  {
   "cell_type": "code",
   "execution_count": 20,
   "metadata": {
    "colab": {
     "base_uri": "https://localhost:8080/"
    },
    "id": "vFPRZBY-umir",
    "outputId": "610e8840-ad71-4cf9-fc35-e5559bf5f26f"
   },
   "outputs": [
    {
     "data": {
      "text/plain": [
       "LogisticRegression(C=1.0, class_weight=None, dual=False, fit_intercept=True,\n",
       "                   intercept_scaling=1, l1_ratio=None, max_iter=100,\n",
       "                   multi_class='auto', n_jobs=None, penalty='l2',\n",
       "                   random_state=None, solver='lbfgs', tol=0.0001, verbose=0,\n",
       "                   warm_start=False)"
      ]
     },
     "execution_count": 20,
     "metadata": {},
     "output_type": "execute_result"
    }
   ],
   "source": [
    "logisticRegr.fit(X_train, y_train)"
   ]
  },
  {
   "cell_type": "code",
   "execution_count": 21,
   "metadata": {
    "colab": {
     "base_uri": "https://localhost:8080/"
    },
    "id": "sWq3z1jtuuJ6",
    "outputId": "49bc4cb0-f542-44ad-c991-d9c8c442d772"
   },
   "outputs": [
    {
     "data": {
      "text/plain": [
       "array([0])"
      ]
     },
     "execution_count": 21,
     "metadata": {},
     "output_type": "execute_result"
    }
   ],
   "source": [
    "# Returns a NumPy Array\n",
    "# Predict for One Observation (image)\n",
    "logisticRegr.predict(X_test[0].reshape(1,-1))"
   ]
  },
  {
   "cell_type": "code",
   "execution_count": 22,
   "metadata": {
    "colab": {
     "base_uri": "https://localhost:8080/"
    },
    "id": "8AhBvTIDvegm",
    "outputId": "643c8709-e360-4e18-94de-25963b3a7b44"
   },
   "outputs": [
    {
     "data": {
      "text/plain": [
       "array([0, 0, 0, 0, 0, 0, 1, 1, 0, 1])"
      ]
     },
     "execution_count": 22,
     "metadata": {},
     "output_type": "execute_result"
    }
   ],
   "source": [
    "logisticRegr.predict(X_test[0:10])"
   ]
  },
  {
   "cell_type": "code",
   "execution_count": 23,
   "metadata": {
    "id": "derkWsE_vlKR"
   },
   "outputs": [],
   "source": [
    "predictions = logisticRegr.predict(X_test)"
   ]
  },
  {
   "cell_type": "code",
   "execution_count": 24,
   "metadata": {
    "colab": {
     "base_uri": "https://localhost:8080/"
    },
    "id": "gPEUOg_3vrVA",
    "outputId": "7337d98e-12c4-4e27-82bf-8bdc7e3282c1"
   },
   "outputs": [
    {
     "name": "stdout",
     "output_type": "stream",
     "text": [
      "0.9565217391304348\n"
     ]
    }
   ],
   "source": [
    "# Use score method to get accuracy of model\n",
    "score = logisticRegr.score(X_test, y_test)\n",
    "print(score)"
   ]
  },
  {
   "cell_type": "code",
   "execution_count": 25,
   "metadata": {
    "colab": {
     "base_uri": "https://localhost:8080/"
    },
    "id": "lHVNc64-vvws",
    "outputId": "9533a9b6-f8cf-413d-8118-bac1f5551dd4"
   },
   "outputs": [
    {
     "name": "stdout",
     "output_type": "stream",
     "text": [
      "[[72  3]\n",
      " [ 4 82]]\n"
     ]
    }
   ],
   "source": [
    "cm = metrics.confusion_matrix(y_test, predictions)\n",
    "print(cm)"
   ]
  },
  {
   "cell_type": "code",
   "execution_count": 26,
   "metadata": {
    "colab": {
     "base_uri": "https://localhost:8080/",
     "height": 520
    },
    "id": "_2FbDXtSwBRB",
    "outputId": "460314b3-fe4b-415f-e949-361b7d0568e9"
   },
   "outputs": [
    {
     "data": {
      "image/png": "[encoded data removed]",
      "text/plain": [
       "<Figure size 648x648 with 2 Axes>"
      ]
     },
     "metadata": {},
     "output_type": "display_data"
    }
   ],
   "source": [
    "plt.figure(figsize=(9,9))\n",
    "sns.heatmap(cm, annot=True, fmt=\".3f\", linewidths=.5, square = True, cmap = 'Blues_r');\n",
    "plt.ylabel('Actual label');\n",
    "plt.xlabel('Predicted label');\n",
    "all_sample_title = 'Accuracy Score: {0}'.format(score)\n",
    "plt.title(all_sample_title, size = 15);"
   ]
  },
  {
   "cell_type": "code",
   "execution_count": 27,
   "metadata": {
    "colab": {
     "base_uri": "https://localhost:8080/",
     "height": 657
    },
    "id": "ymDm0grfwEHG",
    "outputId": "e03ae274-c66d-4a29-f67f-20e15871085c"
   },
   "outputs": [
    {
     "data": {
      "image/png": "[encoded data removed]",
      "text/plain": [
       "<Figure size 648x648 with 2 Axes>"
      ]
     },
     "metadata": {},
     "output_type": "display_data"
    }
   ],
   "source": [
    "plt.figure(figsize=(9,9))\n",
    "plt.imshow(cm, interpolation='nearest', cmap='Pastel1')\n",
    "plt.title('Confusion matrix', size = 15)\n",
    "plt.colorbar()\n",
    "tick_marks = np.arange(10)\n",
    "plt.xticks(tick_marks, [\"0\", \"1\", \"2\", \"3\", \"4\", \"5\", \"6\", \"7\", \"8\", \"9\"], rotation=45, size = 10)\n",
    "plt.yticks(tick_marks, [\"0\", \"1\", \"2\", \"3\", \"4\", \"5\", \"6\", \"7\", \"8\", \"9\"], size = 10)\n",
    "plt.tight_layout()\n",
    "plt.ylabel('Actual label', size = 15)\n",
    "plt.xlabel('Predicted label', size = 15)\n",
    "width, height = cm.shape\n",
    "for x in range(width):\n",
    " for y in range(height):\n",
    "  plt.annotate(str(cm[x][y]), xy=(y, x), \n",
    "  horizontalalignment='center',\n",
    "  verticalalignment='center')"
   ]
  },
  {
   "cell_type": "code",
   "execution_count": 28,
   "metadata": {
    "id": "qAsLRC4l0xJW"
   },
   "outputs": [
    {
     "ename": "FileNotFoundError",
     "evalue": "[Errno 2] File featMatVersion8.csv does not exist: 'featMatVersion8.csv'",
     "output_type": "error",
     "traceback": [
      "\u001b[0;31m---------------------------------------------------------------------------\u001b[0m",
      "\u001b[0;31mFileNotFoundError\u001b[0m                         Traceback (most recent call last)",
      "\u001b[0;32m<ipython-input-28-cd2bfd3ca1ad>\u001b[0m in \u001b[0;36m<module>\u001b[0;34m\u001b[0m\n\u001b[1;32m     31\u001b[0m \u001b[0;34m\u001b[0m\u001b[0m\n\u001b[1;32m     32\u001b[0m \u001b[0;34m\u001b[0m\u001b[0m\n\u001b[0;32m---> 33\u001b[0;31m \u001b[0mraw_data\u001b[0m \u001b[0;34m=\u001b[0m \u001b[0mpd\u001b[0m\u001b[0;34m.\u001b[0m\u001b[0mread_csv\u001b[0m\u001b[0;34m(\u001b[0m\u001b[0;34mr\"featMatVersion8.csv\"\u001b[0m\u001b[0;34m)\u001b[0m\u001b[0;34m\u001b[0m\u001b[0;34m\u001b[0m\u001b[0m\n\u001b[0m\u001b[1;32m     34\u001b[0m \u001b[0;31m#Same as version0 but only 2 users\u001b[0m\u001b[0;34m\u001b[0m\u001b[0;34m\u001b[0m\u001b[0;34m\u001b[0m\u001b[0m\n\u001b[1;32m     35\u001b[0m \u001b[0;31m#has only 2 users\u001b[0m\u001b[0;34m\u001b[0m\u001b[0;34m\u001b[0m\u001b[0;34m\u001b[0m\u001b[0m\n",
      "\u001b[0;32m/Library/Frameworks/Python.framework/Versions/3.6/lib/python3.6/site-packages/pandas/io/parsers.py\u001b[0m in \u001b[0;36mparser_f\u001b[0;34m(filepath_or_buffer, sep, delimiter, header, names, index_col, usecols, squeeze, prefix, mangle_dupe_cols, dtype, engine, converters, true_values, false_values, skipinitialspace, skiprows, skipfooter, nrows, na_values, keep_default_na, na_filter, verbose, skip_blank_lines, parse_dates, infer_datetime_format, keep_date_col, date_parser, dayfirst, cache_dates, iterator, chunksize, compression, thousands, decimal, lineterminator, quotechar, quoting, doublequote, escapechar, comment, encoding, dialect, error_bad_lines, warn_bad_lines, delim_whitespace, low_memory, memory_map, float_precision)\u001b[0m\n\u001b[1;32m    674\u001b[0m         )\n\u001b[1;32m    675\u001b[0m \u001b[0;34m\u001b[0m\u001b[0m\n\u001b[0;32m--> 676\u001b[0;31m         \u001b[0;32mreturn\u001b[0m \u001b[0m_read\u001b[0m\u001b[0;34m(\u001b[0m\u001b[0mfilepath_or_buffer\u001b[0m\u001b[0;34m,\u001b[0m \u001b[0mkwds\u001b[0m\u001b[0;34m)\u001b[0m\u001b[0;34m\u001b[0m\u001b[0;34m\u001b[0m\u001b[0m\n\u001b[0m\u001b[1;32m    677\u001b[0m \u001b[0;34m\u001b[0m\u001b[0m\n\u001b[1;32m    678\u001b[0m     \u001b[0mparser_f\u001b[0m\u001b[0;34m.\u001b[0m\u001b[0m__name__\u001b[0m \u001b[0;34m=\u001b[0m \u001b[0mname\u001b[0m\u001b[0;34m\u001b[0m\u001b[0;34m\u001b[0m\u001b[0m\n",
      "\u001b[0;32m/Library/Frameworks/Python.framework/Versions/3.6/lib/python3.6/site-packages/pandas/io/parsers.py\u001b[0m in \u001b[0;36m_read\u001b[0;34m(filepath_or_buffer, kwds)\u001b[0m\n\u001b[1;32m    446\u001b[0m \u001b[0;34m\u001b[0m\u001b[0m\n\u001b[1;32m    447\u001b[0m     \u001b[0;31m# Create the parser.\u001b[0m\u001b[0;34m\u001b[0m\u001b[0;34m\u001b[0m\u001b[0;34m\u001b[0m\u001b[0m\n\u001b[0;32m--> 448\u001b[0;31m     \u001b[0mparser\u001b[0m \u001b[0;34m=\u001b[0m \u001b[0mTextFileReader\u001b[0m\u001b[0;34m(\u001b[0m\u001b[0mfp_or_buf\u001b[0m\u001b[0;34m,\u001b[0m \u001b[0;34m**\u001b[0m\u001b[0mkwds\u001b[0m\u001b[0;34m)\u001b[0m\u001b[0;34m\u001b[0m\u001b[0;34m\u001b[0m\u001b[0m\n\u001b[0m\u001b[1;32m    449\u001b[0m \u001b[0;34m\u001b[0m\u001b[0m\n\u001b[1;32m    450\u001b[0m     \u001b[0;32mif\u001b[0m \u001b[0mchunksize\u001b[0m \u001b[0;32mor\u001b[0m \u001b[0miterator\u001b[0m\u001b[0;34m:\u001b[0m\u001b[0;34m\u001b[0m\u001b[0;34m\u001b[0m\u001b[0m\n",
      "\u001b[0;32m/Library/Frameworks/Python.framework/Versions/3.6/lib/python3.6/site-packages/pandas/io/parsers.py\u001b[0m in \u001b[0;36m__init__\u001b[0;34m(self, f, engine, **kwds)\u001b[0m\n\u001b[1;32m    878\u001b[0m             \u001b[0mself\u001b[0m\u001b[0;34m.\u001b[0m\u001b[0moptions\u001b[0m\u001b[0;34m[\u001b[0m\u001b[0;34m\"has_index_names\"\u001b[0m\u001b[0;34m]\u001b[0m \u001b[0;34m=\u001b[0m \u001b[0mkwds\u001b[0m\u001b[0;34m[\u001b[0m\u001b[0;34m\"has_index_names\"\u001b[0m\u001b[0;34m]\u001b[0m\u001b[0;34m\u001b[0m\u001b[0;34m\u001b[0m\u001b[0m\n\u001b[1;32m    879\u001b[0m \u001b[0;34m\u001b[0m\u001b[0m\n\u001b[0;32m--> 880\u001b[0;31m         \u001b[0mself\u001b[0m\u001b[0;34m.\u001b[0m\u001b[0m_make_engine\u001b[0m\u001b[0;34m(\u001b[0m\u001b[0mself\u001b[0m\u001b[0;34m.\u001b[0m\u001b[0mengine\u001b[0m\u001b[0;34m)\u001b[0m\u001b[0;34m\u001b[0m\u001b[0;34m\u001b[0m\u001b[0m\n\u001b[0m\u001b[1;32m    881\u001b[0m \u001b[0;34m\u001b[0m\u001b[0m\n\u001b[1;32m    882\u001b[0m     \u001b[0;32mdef\u001b[0m \u001b[0mclose\u001b[0m\u001b[0;34m(\u001b[0m\u001b[0mself\u001b[0m\u001b[0;34m)\u001b[0m\u001b[0;34m:\u001b[0m\u001b[0;34m\u001b[0m\u001b[0;34m\u001b[0m\u001b[0m\n",
      "\u001b[0;32m/Library/Frameworks/Python.framework/Versions/3.6/lib/python3.6/site-packages/pandas/io/parsers.py\u001b[0m in \u001b[0;36m_make_engine\u001b[0;34m(self, engine)\u001b[0m\n\u001b[1;32m   1112\u001b[0m     \u001b[0;32mdef\u001b[0m \u001b[0m_make_engine\u001b[0m\u001b[0;34m(\u001b[0m\u001b[0mself\u001b[0m\u001b[0;34m,\u001b[0m \u001b[0mengine\u001b[0m\u001b[0;34m=\u001b[0m\u001b[0;34m\"c\"\u001b[0m\u001b[0;34m)\u001b[0m\u001b[0;34m:\u001b[0m\u001b[0;34m\u001b[0m\u001b[0;34m\u001b[0m\u001b[0m\n\u001b[1;32m   1113\u001b[0m         \u001b[0;32mif\u001b[0m \u001b[0mengine\u001b[0m \u001b[0;34m==\u001b[0m \u001b[0;34m\"c\"\u001b[0m\u001b[0;34m:\u001b[0m\u001b[0;34m\u001b[0m\u001b[0;34m\u001b[0m\u001b[0m\n\u001b[0;32m-> 1114\u001b[0;31m             \u001b[0mself\u001b[0m\u001b[0;34m.\u001b[0m\u001b[0m_engine\u001b[0m \u001b[0;34m=\u001b[0m \u001b[0mCParserWrapper\u001b[0m\u001b[0;34m(\u001b[0m\u001b[0mself\u001b[0m\u001b[0;34m.\u001b[0m\u001b[0mf\u001b[0m\u001b[0;34m,\u001b[0m \u001b[0;34m**\u001b[0m\u001b[0mself\u001b[0m\u001b[0;34m.\u001b[0m\u001b[0moptions\u001b[0m\u001b[0;34m)\u001b[0m\u001b[0;34m\u001b[0m\u001b[0;34m\u001b[0m\u001b[0m\n\u001b[0m\u001b[1;32m   1115\u001b[0m         \u001b[0;32melse\u001b[0m\u001b[0;34m:\u001b[0m\u001b[0;34m\u001b[0m\u001b[0;34m\u001b[0m\u001b[0m\n\u001b[1;32m   1116\u001b[0m             \u001b[0;32mif\u001b[0m \u001b[0mengine\u001b[0m \u001b[0;34m==\u001b[0m \u001b[0;34m\"python\"\u001b[0m\u001b[0;34m:\u001b[0m\u001b[0;34m\u001b[0m\u001b[0;34m\u001b[0m\u001b[0m\n",
      "\u001b[0;32m/Library/Frameworks/Python.framework/Versions/3.6/lib/python3.6/site-packages/pandas/io/parsers.py\u001b[0m in \u001b[0;36m__init__\u001b[0;34m(self, src, **kwds)\u001b[0m\n\u001b[1;32m   1889\u001b[0m         \u001b[0mkwds\u001b[0m\u001b[0;34m[\u001b[0m\u001b[0;34m\"usecols\"\u001b[0m\u001b[0;34m]\u001b[0m \u001b[0;34m=\u001b[0m \u001b[0mself\u001b[0m\u001b[0;34m.\u001b[0m\u001b[0musecols\u001b[0m\u001b[0;34m\u001b[0m\u001b[0;34m\u001b[0m\u001b[0m\n\u001b[1;32m   1890\u001b[0m \u001b[0;34m\u001b[0m\u001b[0m\n\u001b[0;32m-> 1891\u001b[0;31m         \u001b[0mself\u001b[0m\u001b[0;34m.\u001b[0m\u001b[0m_reader\u001b[0m \u001b[0;34m=\u001b[0m \u001b[0mparsers\u001b[0m\u001b[0;34m.\u001b[0m\u001b[0mTextReader\u001b[0m\u001b[0;34m(\u001b[0m\u001b[0msrc\u001b[0m\u001b[0;34m,\u001b[0m \u001b[0;34m**\u001b[0m\u001b[0mkwds\u001b[0m\u001b[0;34m)\u001b[0m\u001b[0;34m\u001b[0m\u001b[0;34m\u001b[0m\u001b[0m\n\u001b[0m\u001b[1;32m   1892\u001b[0m         \u001b[0mself\u001b[0m\u001b[0;34m.\u001b[0m\u001b[0munnamed_cols\u001b[0m \u001b[0;34m=\u001b[0m \u001b[0mself\u001b[0m\u001b[0;34m.\u001b[0m\u001b[0m_reader\u001b[0m\u001b[0;34m.\u001b[0m\u001b[0munnamed_cols\u001b[0m\u001b[0;34m\u001b[0m\u001b[0;34m\u001b[0m\u001b[0m\n\u001b[1;32m   1893\u001b[0m \u001b[0;34m\u001b[0m\u001b[0m\n",
      "\u001b[0;32mpandas/_libs/parsers.pyx\u001b[0m in \u001b[0;36mpandas._libs.parsers.TextReader.__cinit__\u001b[0;34m()\u001b[0m\n",
      "\u001b[0;32mpandas/_libs/parsers.pyx\u001b[0m in \u001b[0;36mpandas._libs.parsers.TextReader._setup_parser_source\u001b[0;34m()\u001b[0m\n",
      "\u001b[0;31mFileNotFoundError\u001b[0m: [Errno 2] File featMatVersion8.csv does not exist: 'featMatVersion8.csv'"
     ]
    }
   ],
   "source": [
    "# Read in csv file\n",
    "# File: https://github.com/mGalarnyk/Python_Tutorials/blob/master/Python_Basics/Linear_Regression/linear.csv\n",
    "\n",
    "\n",
    "#raw_data= pd.read_csv(r\"featMatVersion0.csv\")\n",
    "#This is the unedited file from Eddie\n",
    "\n",
    "#raw_data = pd.read_csv(r\"featMatVersion1.csv\")\n",
    "\n",
    "#raw_data = pd.read_csv(r\"featMatVersion2.csv\")\n",
    "\n",
    "\n",
    "#/content/featMatVersion2.csv\n",
    "\n",
    "#raw_data = pd.read_csv(r\"featMatVersion3.csv\")\n",
    "\n",
    "#raw_data = pd.read_csv(r\"featMatVersion4.csv\")\n",
    "#Same as original but no comunns 2 and 13\n",
    "\n",
    "\n",
    "#raw_data= pd.read_csv(r\"featMatVersion5.csv\")\n",
    "#Same as version1 but no comunns 2 and 13\n",
    "\n",
    "\n",
    "#raw_data = pd.read_csv(r\"featMatVersion6.csv\")\n",
    "#Same as version2 but no comunns 2 and 13\n",
    "\n",
    "\n",
    "#raw_data = pd.read_csv(r\"featMatVersion7.csv\")\n",
    "#Same as version3 but no comunns 2 and 13\n",
    "\n",
    "\n",
    "raw_data = pd.read_csv(r\"featMatVersion8.csv\")\n",
    "#Same as version0 but only 2 users\n",
    "#has only 2 users\n",
    "\n",
    "\n",
    "\n",
    "\n"
   ]
  },
  {
   "cell_type": "code",
   "execution_count": 29,
   "metadata": {
    "colab": {
     "base_uri": "https://localhost:8080/",
     "height": 292
    },
    "id": "CvEII4Qt-i30",
    "outputId": "1f6729cc-c31c-482f-b93d-0d0fa3265ce5"
   },
   "outputs": [
    {
     "ename": "NameError",
     "evalue": "name 'raw_data' is not defined",
     "output_type": "error",
     "traceback": [
      "\u001b[0;31m---------------------------------------------------------------------------\u001b[0m",
      "\u001b[0;31mNameError\u001b[0m                                 Traceback (most recent call last)",
      "\u001b[0;32m<ipython-input-29-0216eb7368e0>\u001b[0m in \u001b[0;36m<module>\u001b[0;34m\u001b[0m\n\u001b[0;32m----> 1\u001b[0;31m \u001b[0mraw_data\u001b[0m\u001b[0;34m.\u001b[0m\u001b[0mhead\u001b[0m\u001b[0;34m(\u001b[0m\u001b[0;34m)\u001b[0m\u001b[0;34m\u001b[0m\u001b[0;34m\u001b[0m\u001b[0m\n\u001b[0m",
      "\u001b[0;31mNameError\u001b[0m: name 'raw_data' is not defined"
     ]
    }
   ],
   "source": [
    "raw_data.head()"
   ]
  },
  {
   "cell_type": "code",
   "execution_count": 30,
   "metadata": {
    "colab": {
     "base_uri": "https://localhost:8080/",
     "height": 292
    },
    "id": "CZ-ukd0s9r_R",
    "outputId": "11bf8192-f098-456c-f71d-8fa62bf47d08"
   },
   "outputs": [
    {
     "ename": "NameError",
     "evalue": "name 'raw_data' is not defined",
     "output_type": "error",
     "traceback": [
      "\u001b[0;31m---------------------------------------------------------------------------\u001b[0m",
      "\u001b[0;31mNameError\u001b[0m                                 Traceback (most recent call last)",
      "\u001b[0;32m<ipython-input-30-6b4a5a7787d2>\u001b[0m in \u001b[0;36m<module>\u001b[0;34m\u001b[0m\n\u001b[1;32m      1\u001b[0m \u001b[0;31m# Removes rows with NaN in them\u001b[0m\u001b[0;34m\u001b[0m\u001b[0;34m\u001b[0m\u001b[0;34m\u001b[0m\u001b[0m\n\u001b[0;32m----> 2\u001b[0;31m \u001b[0mfiltered_data\u001b[0m \u001b[0;34m=\u001b[0m \u001b[0mraw_data\u001b[0m\u001b[0;34m[\u001b[0m\u001b[0;34m~\u001b[0m\u001b[0mnp\u001b[0m\u001b[0;34m.\u001b[0m\u001b[0misnan\u001b[0m\u001b[0;34m(\u001b[0m\u001b[0mraw_data\u001b[0m\u001b[0;34m)\u001b[0m\u001b[0;34m]\u001b[0m\u001b[0;34m\u001b[0m\u001b[0;34m\u001b[0m\u001b[0m\n\u001b[0m\u001b[1;32m      3\u001b[0m \u001b[0;34m\u001b[0m\u001b[0m\n\u001b[1;32m      4\u001b[0m \u001b[0;31m# how to clean up data?\u001b[0m\u001b[0;34m\u001b[0m\u001b[0;34m\u001b[0m\u001b[0;34m\u001b[0m\u001b[0m\n\u001b[1;32m      5\u001b[0m \u001b[0;34m\u001b[0m\u001b[0m\n",
      "\u001b[0;31mNameError\u001b[0m: name 'raw_data' is not defined"
     ]
    }
   ],
   "source": [
    "\n",
    "\n",
    "\n",
    "# Removes rows with NaN in them\n",
    "filtered_data = raw_data[~np.isnan(raw_data)] \n",
    "\n",
    "# how to clean up data?\n",
    "\n",
    "x_y = np.array(filtered_data)\n",
    "x, y = x_y[:,0], x_y[:,1]\n",
    "\n",
    "# Reshaping\n",
    "x, y = x.reshape(-1,1), y.reshape(-1, 1)\n",
    "\n",
    "filtered_data.head()\n",
    "\n"
   ]
  },
  {
   "cell_type": "code",
   "execution_count": 31,
   "metadata": {
    "colab": {
     "base_uri": "https://localhost:8080/",
     "height": 282
    },
    "id": "r3-R9fDV-J_L",
    "outputId": "006869e5-99ae-41d9-e56e-d02f3e95c865"
   },
   "outputs": [
    {
     "ename": "ValueError",
     "evalue": "Expected 2D array, got scalar array instead:\narray=1.\nReshape your data either using array.reshape(-1, 1) if your data has a single feature or array.reshape(1, -1) if it contains a single sample.",
     "output_type": "error",
     "traceback": [
      "\u001b[0;31m---------------------------------------------------------------------------\u001b[0m",
      "\u001b[0;31mValueError\u001b[0m                                Traceback (most recent call last)",
      "\u001b[0;32m<ipython-input-31-09f81a574854>\u001b[0m in \u001b[0;36m<module>\u001b[0;34m\u001b[0m\n\u001b[1;32m      3\u001b[0m \u001b[0;34m\u001b[0m\u001b[0m\n\u001b[1;32m      4\u001b[0m \u001b[0;31m# Fitting linear model to the data\u001b[0m\u001b[0;34m\u001b[0m\u001b[0;34m\u001b[0m\u001b[0;34m\u001b[0m\u001b[0m\n\u001b[0;32m----> 5\u001b[0;31m \u001b[0mlin_regression\u001b[0m\u001b[0;34m.\u001b[0m\u001b[0mfit\u001b[0m\u001b[0;34m(\u001b[0m\u001b[0mx\u001b[0m\u001b[0;34m,\u001b[0m\u001b[0my\u001b[0m\u001b[0;34m)\u001b[0m\u001b[0;34m\u001b[0m\u001b[0;34m\u001b[0m\u001b[0m\n\u001b[0m\u001b[1;32m      6\u001b[0m \u001b[0;34m\u001b[0m\u001b[0m\n\u001b[1;32m      7\u001b[0m \u001b[0;31m# Get slope of fitted line\u001b[0m\u001b[0;34m\u001b[0m\u001b[0;34m\u001b[0m\u001b[0;34m\u001b[0m\u001b[0m\n",
      "\u001b[0;32m/Library/Frameworks/Python.framework/Versions/3.6/lib/python3.6/site-packages/sklearn/linear_model/_base.py\u001b[0m in \u001b[0;36mfit\u001b[0;34m(self, X, y, sample_weight)\u001b[0m\n\u001b[1;32m    490\u001b[0m         \u001b[0mn_jobs_\u001b[0m \u001b[0;34m=\u001b[0m \u001b[0mself\u001b[0m\u001b[0;34m.\u001b[0m\u001b[0mn_jobs\u001b[0m\u001b[0;34m\u001b[0m\u001b[0;34m\u001b[0m\u001b[0m\n\u001b[1;32m    491\u001b[0m         X, y = check_X_y(X, y, accept_sparse=['csr', 'csc', 'coo'],\n\u001b[0;32m--> 492\u001b[0;31m                          y_numeric=True, multi_output=True)\n\u001b[0m\u001b[1;32m    493\u001b[0m \u001b[0;34m\u001b[0m\u001b[0m\n\u001b[1;32m    494\u001b[0m         \u001b[0;32mif\u001b[0m \u001b[0msample_weight\u001b[0m \u001b[0;32mis\u001b[0m \u001b[0;32mnot\u001b[0m \u001b[0;32mNone\u001b[0m\u001b[0;34m:\u001b[0m\u001b[0;34m\u001b[0m\u001b[0;34m\u001b[0m\u001b[0m\n",
      "\u001b[0;32m/Library/Frameworks/Python.framework/Versions/3.6/lib/python3.6/site-packages/sklearn/utils/validation.py\u001b[0m in \u001b[0;36mcheck_X_y\u001b[0;34m(X, y, accept_sparse, accept_large_sparse, dtype, order, copy, force_all_finite, ensure_2d, allow_nd, multi_output, ensure_min_samples, ensure_min_features, y_numeric, warn_on_dtype, estimator)\u001b[0m\n\u001b[1;32m    753\u001b[0m                     \u001b[0mensure_min_features\u001b[0m\u001b[0;34m=\u001b[0m\u001b[0mensure_min_features\u001b[0m\u001b[0;34m,\u001b[0m\u001b[0;34m\u001b[0m\u001b[0;34m\u001b[0m\u001b[0m\n\u001b[1;32m    754\u001b[0m                     \u001b[0mwarn_on_dtype\u001b[0m\u001b[0;34m=\u001b[0m\u001b[0mwarn_on_dtype\u001b[0m\u001b[0;34m,\u001b[0m\u001b[0;34m\u001b[0m\u001b[0;34m\u001b[0m\u001b[0m\n\u001b[0;32m--> 755\u001b[0;31m                     estimator=estimator)\n\u001b[0m\u001b[1;32m    756\u001b[0m     \u001b[0;32mif\u001b[0m \u001b[0mmulti_output\u001b[0m\u001b[0;34m:\u001b[0m\u001b[0;34m\u001b[0m\u001b[0;34m\u001b[0m\u001b[0m\n\u001b[1;32m    757\u001b[0m         y = check_array(y, 'csr', force_all_finite=True, ensure_2d=False,\n",
      "\u001b[0;32m/Library/Frameworks/Python.framework/Versions/3.6/lib/python3.6/site-packages/sklearn/utils/validation.py\u001b[0m in \u001b[0;36mcheck_array\u001b[0;34m(array, accept_sparse, accept_large_sparse, dtype, order, copy, force_all_finite, ensure_2d, allow_nd, ensure_min_samples, ensure_min_features, warn_on_dtype, estimator)\u001b[0m\n\u001b[1;32m    547\u001b[0m                     \u001b[0;34m\"Reshape your data either using array.reshape(-1, 1) if \"\u001b[0m\u001b[0;34m\u001b[0m\u001b[0;34m\u001b[0m\u001b[0m\n\u001b[1;32m    548\u001b[0m                     \u001b[0;34m\"your data has a single feature or array.reshape(1, -1) \"\u001b[0m\u001b[0;34m\u001b[0m\u001b[0;34m\u001b[0m\u001b[0m\n\u001b[0;32m--> 549\u001b[0;31m                     \"if it contains a single sample.\".format(array))\n\u001b[0m\u001b[1;32m    550\u001b[0m             \u001b[0;31m# If input is 1D raise error\u001b[0m\u001b[0;34m\u001b[0m\u001b[0;34m\u001b[0m\u001b[0;34m\u001b[0m\u001b[0m\n\u001b[1;32m    551\u001b[0m             \u001b[0;32mif\u001b[0m \u001b[0marray\u001b[0m\u001b[0;34m.\u001b[0m\u001b[0mndim\u001b[0m \u001b[0;34m==\u001b[0m \u001b[0;36m1\u001b[0m\u001b[0;34m:\u001b[0m\u001b[0;34m\u001b[0m\u001b[0;34m\u001b[0m\u001b[0m\n",
      "\u001b[0;31mValueError\u001b[0m: Expected 2D array, got scalar array instead:\narray=1.\nReshape your data either using array.reshape(-1, 1) if your data has a single feature or array.reshape(1, -1) if it contains a single sample."
     ]
    }
   ],
   "source": [
    "# Linear Regression Object \n",
    "lin_regression = LinearRegression()\n",
    "\n",
    "# Fitting linear model to the data\n",
    "lin_regression.fit(x,y)\n",
    "\n",
    "# Get slope of fitted line\n",
    "m = lin_regression.coef_\n",
    "\n",
    "# Get y-Intercept of the Line\n",
    "b = lin_regression.intercept_\n",
    "\n",
    "# Get Predictions for original x values\n",
    "# you can also get predictions for new data\n",
    "predictions = lin_regression.predict(x)\n",
    "\n",
    "# following slope intercept form \n",
    "print ( \"formula: y = {0}x + {1}\".format(m, b) )\n",
    "\n",
    "# Plot the Original Model (Black) and Predictions (Blue)\n",
    "plt.scatter(x, y,  color='black')\n",
    "plt.plot(x, predictions, color='blue',linewidth=3)\n",
    "plt.show()"
   ]
  },
  {
   "cell_type": "code",
   "execution_count": 33,
   "metadata": {
    "colab": {
     "base_uri": "https://localhost:8080/",
     "height": 292
    },
    "id": "vpuTy24tA9VT",
    "outputId": "0b166b4f-24a4-4d45-99fe-992613be4505"
   },
   "outputs": [
    {
     "data": {
      "text/html": [
       "<div>\n",
       "<style scoped>\n",
       "    .dataframe tbody tr th:only-of-type {\n",
       "        vertical-align: middle;\n",
       "    }\n",
       "\n",
       "    .dataframe tbody tr th {\n",
       "        vertical-align: top;\n",
       "    }\n",
       "\n",
       "    .dataframe thead th {\n",
       "        text-align: right;\n",
       "    }\n",
       "</style>\n",
       "<table border=\"1\" class=\"dataframe\">\n",
       "  <thead>\n",
       "    <tr style=\"text-align: right;\">\n",
       "      <th></th>\n",
       "      <th>User_ID</th>\n",
       "      <th>Doc_ID</th>\n",
       "      <th>Inter-Stroke time</th>\n",
       "      <th>Stroke Duration</th>\n",
       "      <th>Start X</th>\n",
       "      <th>Start Y</th>\n",
       "      <th>Stop X</th>\n",
       "      <th>Stop Y</th>\n",
       "      <th>Direct end-to-end Distance</th>\n",
       "      <th>Mean resulant length</th>\n",
       "      <th>...</th>\n",
       "      <th>Average Direction</th>\n",
       "      <th>Length of Trajectory</th>\n",
       "      <th>Ratio dist and length of trajectory</th>\n",
       "      <th>Average velocity</th>\n",
       "      <th>Median acceleration at first 5 pts</th>\n",
       "      <th>Mid-Stroke pressure</th>\n",
       "      <th>Mid-Stroke area covered</th>\n",
       "      <th>Mid-Stroke finger orientation</th>\n",
       "      <th>Change of finger orientation</th>\n",
       "      <th>Phone orientation</th>\n",
       "    </tr>\n",
       "  </thead>\n",
       "  <tbody>\n",
       "    <tr>\n",
       "      <th>0</th>\n",
       "      <td>1</td>\n",
       "      <td>4</td>\n",
       "      <td>0.913</td>\n",
       "      <td>0.320</td>\n",
       "      <td>27.7980</td>\n",
       "      <td>-35.647</td>\n",
       "      <td>5.8867</td>\n",
       "      <td>-36.737</td>\n",
       "      <td>21.939</td>\n",
       "      <td>0.83553</td>\n",
       "      <td>...</td>\n",
       "      <td>-3.07500</td>\n",
       "      <td>22.310</td>\n",
       "      <td>0.98337</td>\n",
       "      <td>69.718</td>\n",
       "      <td>456.16</td>\n",
       "      <td>0.64</td>\n",
       "      <td>0.17778</td>\n",
       "      <td>0</td>\n",
       "      <td>0</td>\n",
       "      <td>1</td>\n",
       "    </tr>\n",
       "    <tr>\n",
       "      <th>1</th>\n",
       "      <td>1</td>\n",
       "      <td>4</td>\n",
       "      <td>10.818</td>\n",
       "      <td>0.172</td>\n",
       "      <td>27.5800</td>\n",
       "      <td>-31.069</td>\n",
       "      <td>4.5785</td>\n",
       "      <td>-36.737</td>\n",
       "      <td>23.690</td>\n",
       "      <td>0.77926</td>\n",
       "      <td>...</td>\n",
       "      <td>-2.83590</td>\n",
       "      <td>24.629</td>\n",
       "      <td>0.96188</td>\n",
       "      <td>143.190</td>\n",
       "      <td>747.36</td>\n",
       "      <td>0.66</td>\n",
       "      <td>0.22222</td>\n",
       "      <td>0</td>\n",
       "      <td>0</td>\n",
       "      <td>1</td>\n",
       "    </tr>\n",
       "    <tr>\n",
       "      <th>2</th>\n",
       "      <td>1</td>\n",
       "      <td>4</td>\n",
       "      <td>0.759</td>\n",
       "      <td>0.277</td>\n",
       "      <td>5.0146</td>\n",
       "      <td>-40.553</td>\n",
       "      <td>34.4480</td>\n",
       "      <td>-32.486</td>\n",
       "      <td>30.519</td>\n",
       "      <td>0.91959</td>\n",
       "      <td>...</td>\n",
       "      <td>0.51158</td>\n",
       "      <td>31.574</td>\n",
       "      <td>0.96657</td>\n",
       "      <td>113.990</td>\n",
       "      <td>1965.30</td>\n",
       "      <td>0.65</td>\n",
       "      <td>0.22222</td>\n",
       "      <td>0</td>\n",
       "      <td>0</td>\n",
       "      <td>1</td>\n",
       "    </tr>\n",
       "    <tr>\n",
       "      <th>3</th>\n",
       "      <td>1</td>\n",
       "      <td>4</td>\n",
       "      <td>1.143</td>\n",
       "      <td>0.250</td>\n",
       "      <td>3.5974</td>\n",
       "      <td>-37.391</td>\n",
       "      <td>34.5570</td>\n",
       "      <td>-30.415</td>\n",
       "      <td>31.736</td>\n",
       "      <td>0.96025</td>\n",
       "      <td>...</td>\n",
       "      <td>0.25501</td>\n",
       "      <td>32.084</td>\n",
       "      <td>0.98916</td>\n",
       "      <td>128.340</td>\n",
       "      <td>-788.47</td>\n",
       "      <td>0.77</td>\n",
       "      <td>0.24444</td>\n",
       "      <td>0</td>\n",
       "      <td>0</td>\n",
       "      <td>1</td>\n",
       "    </tr>\n",
       "    <tr>\n",
       "      <th>4</th>\n",
       "      <td>1</td>\n",
       "      <td>4</td>\n",
       "      <td>0.528</td>\n",
       "      <td>0.261</td>\n",
       "      <td>31.0690</td>\n",
       "      <td>-29.215</td>\n",
       "      <td>3.8155</td>\n",
       "      <td>-38.045</td>\n",
       "      <td>28.648</td>\n",
       "      <td>0.62760</td>\n",
       "      <td>...</td>\n",
       "      <td>-2.34940</td>\n",
       "      <td>32.598</td>\n",
       "      <td>0.87881</td>\n",
       "      <td>124.900</td>\n",
       "      <td>1384.20</td>\n",
       "      <td>0.70</td>\n",
       "      <td>0.28889</td>\n",
       "      <td>0</td>\n",
       "      <td>0</td>\n",
       "      <td>1</td>\n",
       "    </tr>\n",
       "  </tbody>\n",
       "</table>\n",
       "<p>5 rows × 34 columns</p>\n",
       "</div>"
      ],
      "text/plain": [
       "   User_ID  Doc_ID  Inter-Stroke time  Stroke Duration  Start X  Start Y  \\\n",
       "0        1       4              0.913            0.320  27.7980  -35.647   \n",
       "1        1       4             10.818            0.172  27.5800  -31.069   \n",
       "2        1       4              0.759            0.277   5.0146  -40.553   \n",
       "3        1       4              1.143            0.250   3.5974  -37.391   \n",
       "4        1       4              0.528            0.261  31.0690  -29.215   \n",
       "\n",
       "    Stop X  Stop Y  Direct end-to-end Distance  Mean resulant length  ...  \\\n",
       "0   5.8867 -36.737                      21.939               0.83553  ...   \n",
       "1   4.5785 -36.737                      23.690               0.77926  ...   \n",
       "2  34.4480 -32.486                      30.519               0.91959  ...   \n",
       "3  34.5570 -30.415                      31.736               0.96025  ...   \n",
       "4   3.8155 -38.045                      28.648               0.62760  ...   \n",
       "\n",
       "   Average Direction  Length of Trajectory  \\\n",
       "0           -3.07500                22.310   \n",
       "1           -2.83590                24.629   \n",
       "2            0.51158                31.574   \n",
       "3            0.25501                32.084   \n",
       "4           -2.34940                32.598   \n",
       "\n",
       "   Ratio dist and length of trajectory  Average velocity  \\\n",
       "0                              0.98337            69.718   \n",
       "1                              0.96188           143.190   \n",
       "2                              0.96657           113.990   \n",
       "3                              0.98916           128.340   \n",
       "4                              0.87881           124.900   \n",
       "\n",
       "   Median acceleration at first 5 pts  Mid-Stroke pressure  \\\n",
       "0                              456.16                 0.64   \n",
       "1                              747.36                 0.66   \n",
       "2                             1965.30                 0.65   \n",
       "3                             -788.47                 0.77   \n",
       "4                             1384.20                 0.70   \n",
       "\n",
       "   Mid-Stroke area covered  Mid-Stroke finger orientation  \\\n",
       "0                  0.17778                              0   \n",
       "1                  0.22222                              0   \n",
       "2                  0.22222                              0   \n",
       "3                  0.24444                              0   \n",
       "4                  0.28889                              0   \n",
       "\n",
       "   Change of finger orientation  Phone orientation  \n",
       "0                             0                  1  \n",
       "1                             0                  1  \n",
       "2                             0                  1  \n",
       "3                             0                  1  \n",
       "4                             0                  1  \n",
       "\n",
       "[5 rows x 34 columns]"
      ]
     },
     "execution_count": 33,
     "metadata": {},
     "output_type": "execute_result"
    }
   ],
   "source": [
    "#df = pd.read_csv(url, names=['sepal length','sepal width','petal length','petal width','target'])\n",
    "#train = pd.read_csv(r\"featMatVersion0.csv\")\n",
    "#This is the unedited file from Eddie\n",
    "\n",
    "#df = pd.read_csv(r\"featMatVersion1.csv\")\n",
    "\n",
    "#df = pd.read_csv(r\"featMatVersion2.csv\")\n",
    "\n",
    "\n",
    "#/content/featMatVersion2.csv\n",
    "\n",
    "#df = pd.read_csv(r\"featMatVersion3.csv\")\n",
    "\n",
    "#df = pd.read_csv(r\"featMatVersion4.csv\")\n",
    "#Same as original but no comunns 2 and 13\n",
    "\n",
    "\n",
    "#df = pd.read_csv(r\"featMatVersion5.csv\")\n",
    "#Same as version1 but no comunns 2 and 13\n",
    "\n",
    "\n",
    "#df = pd.read_csv(r\"featMatVersion6.csv\")\n",
    "#Same as version2 but no comunns 2 and 13\n",
    "\n",
    "#df = pd.read_csv(r\"featMatVersion7.csv\")\n",
    "\n",
    "\n",
    "df = pd.read_csv(r\"../Data Sets/featMatVersion8.csv\")\n",
    "#Same as version0 but only 2 users\n",
    "#has only 2 users\n",
    "\n",
    "\n",
    "\n",
    "#df = pd.read_csv(r\"featMatVersion7.csv\",names=['User_ID', 'Inter-Stroke time', 'Stroke Duration', 'Start X', 'Start Y',\n",
    " #      'Stop X', 'Stop Y', 'Direct end-to-end Distance',\n",
    "  #     'Mean resulant length', 'WSAD Flag', 'Direction of end-to-end Time',\n",
    "   #    '20 per pairwise velocity', '50 per pairwise velocity',\n",
    "    #   '80 per pairwise velocity', '20 per pairwise acc',\n",
    "     #  '50 per pairwise acc', '80 per pairwise acc',\n",
    "      # 'Median velocity at last 3pts',\n",
    "       #'Largest deviation from end-to-end line', '20 per dev line',\n",
    "       #'50 per dev line', '80 per dev line', 'Average Direction',\n",
    "       #'Length of Trajectory', 'Ratio dist and length of trajectory',\n",
    "       #'Average velocity', 'Median acceleration at first 5 pts',\n",
    "       #'Mid-Stroke pressure', 'Mid-Stroke area covered',\n",
    "       #'Mid-Stroke finger orientation', 'Change of finger orientation',\n",
    "       #'Phone orientation'] )\n",
    "#Same as version3 but no comunns 2 and 13\n",
    "\n",
    "\n",
    "df.head()\n"
   ]
  },
  {
   "cell_type": "code",
   "execution_count": 34,
   "metadata": {
    "id": "4dr1ExyJAuFY"
   },
   "outputs": [],
   "source": [
    "\n",
    "\n",
    "features=[ 'Inter-Stroke time', 'Stroke Duration', 'Start X', 'Start Y',\n",
    "       'Stop X', 'Stop Y', 'Direct end-to-end Distance',\n",
    "       'Mean resulant length', 'WSAD Flag', 'Direction of end-to-end Time',\n",
    "       '20 per pairwise velocity', '50 per pairwise velocity',\n",
    "       '80 per pairwise velocity', '20 per pairwise acc',\n",
    "       '50 per pairwise acc', '80 per pairwise acc',\n",
    "       'Median velocity at last 3pts',\n",
    "       'Largest deviation from end-to-end line', '20 per dev line',\n",
    "       '50 per dev line', '80 per dev line', 'Average Direction',\n",
    "       'Length of Trajectory', 'Ratio dist and length of trajectory',\n",
    "       'Average velocity', 'Median acceleration at first 5 pts',\n",
    "       'Mid-Stroke pressure', 'Mid-Stroke area covered',\n",
    "       'Mid-Stroke finger orientation', 'Change of finger orientation',\n",
    "       'Phone orientation']\n",
    "\n"
   ]
  },
  {
   "cell_type": "code",
   "execution_count": 35,
   "metadata": {
    "id": "OqeNut1lCiAf"
   },
   "outputs": [],
   "source": [
    "\n",
    "# Separating out the features\n",
    "x = df.loc[:, features].values\n",
    "# Separating out the target\n",
    "y = df.loc[:,['User_ID']].values\n",
    "# Standardizing the features\n",
    "x = StandardScaler().fit_transform(x)\n",
    "\n"
   ]
  },
  {
   "cell_type": "code",
   "execution_count": 36,
   "metadata": {
    "colab": {
     "base_uri": "https://localhost:8080/",
     "height": 238
    },
    "id": "TIHqgPNEGDXC",
    "outputId": "510c3597-e77e-4ba1-9f81-ea63faf723c8"
   },
   "outputs": [
    {
     "data": {
      "text/html": [
       "<div>\n",
       "<style scoped>\n",
       "    .dataframe tbody tr th:only-of-type {\n",
       "        vertical-align: middle;\n",
       "    }\n",
       "\n",
       "    .dataframe tbody tr th {\n",
       "        vertical-align: top;\n",
       "    }\n",
       "\n",
       "    .dataframe thead th {\n",
       "        text-align: right;\n",
       "    }\n",
       "</style>\n",
       "<table border=\"1\" class=\"dataframe\">\n",
       "  <thead>\n",
       "    <tr style=\"text-align: right;\">\n",
       "      <th></th>\n",
       "      <th>principal component 1</th>\n",
       "      <th>principal component 2</th>\n",
       "      <th>principal component 3</th>\n",
       "      <th>principal component 4</th>\n",
       "      <th>principal component 5</th>\n",
       "      <th>principal component 6</th>\n",
       "      <th>principal component 7</th>\n",
       "      <th>principal component 8</th>\n",
       "      <th>principal component 9</th>\n",
       "      <th>principal component 10</th>\n",
       "    </tr>\n",
       "  </thead>\n",
       "  <tbody>\n",
       "    <tr>\n",
       "      <th>0</th>\n",
       "      <td>3.444470</td>\n",
       "      <td>1.011339</td>\n",
       "      <td>2.078522</td>\n",
       "      <td>-0.526091</td>\n",
       "      <td>1.074556</td>\n",
       "      <td>1.066955</td>\n",
       "      <td>-0.730111</td>\n",
       "      <td>-1.547998</td>\n",
       "      <td>0.078280</td>\n",
       "      <td>1.496702</td>\n",
       "    </tr>\n",
       "    <tr>\n",
       "      <th>1</th>\n",
       "      <td>6.104657</td>\n",
       "      <td>1.837333</td>\n",
       "      <td>3.310439</td>\n",
       "      <td>-0.801726</td>\n",
       "      <td>1.028294</td>\n",
       "      <td>0.350754</td>\n",
       "      <td>-0.305139</td>\n",
       "      <td>-1.161727</td>\n",
       "      <td>0.106894</td>\n",
       "      <td>0.344863</td>\n",
       "    </tr>\n",
       "    <tr>\n",
       "      <th>2</th>\n",
       "      <td>2.992949</td>\n",
       "      <td>-3.957357</td>\n",
       "      <td>-1.221998</td>\n",
       "      <td>-2.646784</td>\n",
       "      <td>0.940336</td>\n",
       "      <td>-2.090723</td>\n",
       "      <td>0.708093</td>\n",
       "      <td>-0.042913</td>\n",
       "      <td>-0.036268</td>\n",
       "      <td>0.710301</td>\n",
       "    </tr>\n",
       "    <tr>\n",
       "      <th>3</th>\n",
       "      <td>3.382927</td>\n",
       "      <td>-3.275446</td>\n",
       "      <td>-0.079905</td>\n",
       "      <td>-2.262077</td>\n",
       "      <td>-0.001473</td>\n",
       "      <td>-2.549546</td>\n",
       "      <td>0.739518</td>\n",
       "      <td>0.069628</td>\n",
       "      <td>-0.134668</td>\n",
       "      <td>0.856024</td>\n",
       "    </tr>\n",
       "    <tr>\n",
       "      <th>4</th>\n",
       "      <td>4.900001</td>\n",
       "      <td>2.805449</td>\n",
       "      <td>6.015542</td>\n",
       "      <td>0.746695</td>\n",
       "      <td>1.531649</td>\n",
       "      <td>-0.341584</td>\n",
       "      <td>0.529582</td>\n",
       "      <td>-0.776314</td>\n",
       "      <td>0.056023</td>\n",
       "      <td>1.602927</td>\n",
       "    </tr>\n",
       "  </tbody>\n",
       "</table>\n",
       "</div>"
      ],
      "text/plain": [
       "   principal component 1  principal component 2  principal component 3  \\\n",
       "0               3.444470               1.011339               2.078522   \n",
       "1               6.104657               1.837333               3.310439   \n",
       "2               2.992949              -3.957357              -1.221998   \n",
       "3               3.382927              -3.275446              -0.079905   \n",
       "4               4.900001               2.805449               6.015542   \n",
       "\n",
       "   principal component 4  principal component 5  principal component 6  \\\n",
       "0              -0.526091               1.074556               1.066955   \n",
       "1              -0.801726               1.028294               0.350754   \n",
       "2              -2.646784               0.940336              -2.090723   \n",
       "3              -2.262077              -0.001473              -2.549546   \n",
       "4               0.746695               1.531649              -0.341584   \n",
       "\n",
       "   principal component 7  principal component 8  principal component 9  \\\n",
       "0              -0.730111              -1.547998               0.078280   \n",
       "1              -0.305139              -1.161727               0.106894   \n",
       "2               0.708093              -0.042913              -0.036268   \n",
       "3               0.739518               0.069628              -0.134668   \n",
       "4               0.529582              -0.776314               0.056023   \n",
       "\n",
       "   principal component 10  \n",
       "0                1.496702  \n",
       "1                0.344863  \n",
       "2                0.710301  \n",
       "3                0.856024  \n",
       "4                1.602927  "
      ]
     },
     "execution_count": 36,
     "metadata": {},
     "output_type": "execute_result"
    }
   ],
   "source": [
    "pca = PCA(n_components=10)\n",
    "principalComponents = pca.fit_transform(x)\n",
    "# a way to loop and make column names?\n",
    "#Change from 1 to 31\n",
    "\n",
    "#1 is worse\n",
    "#2 is worse than using all\n",
    "#3 is better than 2\n",
    "\n",
    "#More seems to be more accurate\n",
    "#How to compare all PCA values in an easy way?\n",
    "\n",
    "principalDf = pd.DataFrame(data = principalComponents\n",
    "             , columns = ['principal component 1', 'principal component 2', 'principal component 3',\n",
    "                           'principal component 4', 'principal component 5', 'principal component 6',\n",
    "                           'principal component 7', 'principal component 8' , 'principal component 9',\n",
    "                           'principal component 10'])\n",
    "\n",
    "\n",
    "#, 'principal component 2'\n",
    "\n",
    "principalDf.head()"
   ]
  },
  {
   "cell_type": "code",
   "execution_count": 37,
   "metadata": {
    "colab": {
     "base_uri": "https://localhost:8080/",
     "height": 238
    },
    "id": "49ojIcOKGR0L",
    "outputId": "217ce170-545d-4f55-bd83-6525cef95c51"
   },
   "outputs": [
    {
     "data": {
      "text/html": [
       "<div>\n",
       "<style scoped>\n",
       "    .dataframe tbody tr th:only-of-type {\n",
       "        vertical-align: middle;\n",
       "    }\n",
       "\n",
       "    .dataframe tbody tr th {\n",
       "        vertical-align: top;\n",
       "    }\n",
       "\n",
       "    .dataframe thead th {\n",
       "        text-align: right;\n",
       "    }\n",
       "</style>\n",
       "<table border=\"1\" class=\"dataframe\">\n",
       "  <thead>\n",
       "    <tr style=\"text-align: right;\">\n",
       "      <th></th>\n",
       "      <th>principal component 1</th>\n",
       "      <th>principal component 2</th>\n",
       "      <th>principal component 3</th>\n",
       "      <th>principal component 4</th>\n",
       "      <th>principal component 5</th>\n",
       "      <th>principal component 6</th>\n",
       "      <th>principal component 7</th>\n",
       "      <th>principal component 8</th>\n",
       "      <th>principal component 9</th>\n",
       "      <th>principal component 10</th>\n",
       "      <th>User_ID</th>\n",
       "    </tr>\n",
       "  </thead>\n",
       "  <tbody>\n",
       "    <tr>\n",
       "      <th>0</th>\n",
       "      <td>3.444470</td>\n",
       "      <td>1.011339</td>\n",
       "      <td>2.078522</td>\n",
       "      <td>-0.526091</td>\n",
       "      <td>1.074556</td>\n",
       "      <td>1.066955</td>\n",
       "      <td>-0.730111</td>\n",
       "      <td>-1.547998</td>\n",
       "      <td>0.078280</td>\n",
       "      <td>1.496702</td>\n",
       "      <td>1</td>\n",
       "    </tr>\n",
       "    <tr>\n",
       "      <th>1</th>\n",
       "      <td>6.104657</td>\n",
       "      <td>1.837333</td>\n",
       "      <td>3.310439</td>\n",
       "      <td>-0.801726</td>\n",
       "      <td>1.028294</td>\n",
       "      <td>0.350754</td>\n",
       "      <td>-0.305139</td>\n",
       "      <td>-1.161727</td>\n",
       "      <td>0.106894</td>\n",
       "      <td>0.344863</td>\n",
       "      <td>1</td>\n",
       "    </tr>\n",
       "    <tr>\n",
       "      <th>2</th>\n",
       "      <td>2.992949</td>\n",
       "      <td>-3.957357</td>\n",
       "      <td>-1.221998</td>\n",
       "      <td>-2.646784</td>\n",
       "      <td>0.940336</td>\n",
       "      <td>-2.090723</td>\n",
       "      <td>0.708093</td>\n",
       "      <td>-0.042913</td>\n",
       "      <td>-0.036268</td>\n",
       "      <td>0.710301</td>\n",
       "      <td>1</td>\n",
       "    </tr>\n",
       "    <tr>\n",
       "      <th>3</th>\n",
       "      <td>3.382927</td>\n",
       "      <td>-3.275446</td>\n",
       "      <td>-0.079905</td>\n",
       "      <td>-2.262077</td>\n",
       "      <td>-0.001473</td>\n",
       "      <td>-2.549546</td>\n",
       "      <td>0.739518</td>\n",
       "      <td>0.069628</td>\n",
       "      <td>-0.134668</td>\n",
       "      <td>0.856024</td>\n",
       "      <td>1</td>\n",
       "    </tr>\n",
       "    <tr>\n",
       "      <th>4</th>\n",
       "      <td>4.900001</td>\n",
       "      <td>2.805449</td>\n",
       "      <td>6.015542</td>\n",
       "      <td>0.746695</td>\n",
       "      <td>1.531649</td>\n",
       "      <td>-0.341584</td>\n",
       "      <td>0.529582</td>\n",
       "      <td>-0.776314</td>\n",
       "      <td>0.056023</td>\n",
       "      <td>1.602927</td>\n",
       "      <td>1</td>\n",
       "    </tr>\n",
       "  </tbody>\n",
       "</table>\n",
       "</div>"
      ],
      "text/plain": [
       "   principal component 1  principal component 2  principal component 3  \\\n",
       "0               3.444470               1.011339               2.078522   \n",
       "1               6.104657               1.837333               3.310439   \n",
       "2               2.992949              -3.957357              -1.221998   \n",
       "3               3.382927              -3.275446              -0.079905   \n",
       "4               4.900001               2.805449               6.015542   \n",
       "\n",
       "   principal component 4  principal component 5  principal component 6  \\\n",
       "0              -0.526091               1.074556               1.066955   \n",
       "1              -0.801726               1.028294               0.350754   \n",
       "2              -2.646784               0.940336              -2.090723   \n",
       "3              -2.262077              -0.001473              -2.549546   \n",
       "4               0.746695               1.531649              -0.341584   \n",
       "\n",
       "   principal component 7  principal component 8  principal component 9  \\\n",
       "0              -0.730111              -1.547998               0.078280   \n",
       "1              -0.305139              -1.161727               0.106894   \n",
       "2               0.708093              -0.042913              -0.036268   \n",
       "3               0.739518               0.069628              -0.134668   \n",
       "4               0.529582              -0.776314               0.056023   \n",
       "\n",
       "   principal component 10  User_ID  \n",
       "0                1.496702        1  \n",
       "1                0.344863        1  \n",
       "2                0.710301        1  \n",
       "3                0.856024        1  \n",
       "4                1.602927        1  "
      ]
     },
     "execution_count": 37,
     "metadata": {},
     "output_type": "execute_result"
    }
   ],
   "source": [
    "finalDf = pd.concat([principalDf, df[['User_ID']]], axis = 1)\n",
    "\n",
    "finalDf.head()\n"
   ]
  },
  {
   "cell_type": "code",
   "execution_count": 38,
   "metadata": {
    "colab": {
     "base_uri": "https://localhost:8080/"
    },
    "id": "0jxN8JaUI8_7",
    "outputId": "62903bab-1383-4842-860a-04a979c25c61"
   },
   "outputs": [
    {
     "data": {
      "text/plain": [
       "array([0.24338383, 0.16856221, 0.10878472, 0.09506603, 0.07360869,\n",
       "       0.05155831, 0.03874568, 0.03710972, 0.03561516, 0.02928562])"
      ]
     },
     "execution_count": 38,
     "metadata": {},
     "output_type": "execute_result"
    }
   ],
   "source": [
    "pca.explained_variance_ratio_"
   ]
  },
  {
   "cell_type": "code",
   "execution_count": 39,
   "metadata": {
    "colab": {
     "base_uri": "https://localhost:8080/"
    },
    "id": "T-uuuUVYA4iE",
    "outputId": "e0950c60-0fab-472e-8b0f-a8852e06d5cc"
   },
   "outputs": [
    {
     "name": "stdout",
     "output_type": "stream",
     "text": [
      "[[-7.09554284e-03 -1.28919237e-01  1.21314688e-01  7.10633077e-02\n",
      "   8.34940479e-02 -4.01687149e-02  2.76394045e-01  3.65730309e-02\n",
      "   4.70933834e-02 -2.81401257e-01  2.99410385e-01  3.31130420e-01\n",
      "   2.83654489e-01 -1.30356562e-01  1.26822332e-01  2.21856053e-01\n",
      "   3.21926390e-01  7.24278028e-02 -3.70781650e-02  2.91123009e-02\n",
      "   1.25612339e-01 -2.71421129e-01  2.56426809e-01  1.03293569e-01\n",
      "   3.44493789e-01  1.31835222e-01  1.08381044e-01  9.49278092e-02\n",
      "  -0.00000000e+00 -0.00000000e+00 -0.00000000e+00]\n",
      " [ 1.31497166e-02 -1.44610767e-01 -1.93189821e-01 -2.37765442e-01\n",
      "  -3.24166085e-01 -3.12668486e-01 -1.37761013e-01 -8.63764115e-02\n",
      "   1.12715161e-01 -1.24460438e-01  1.33874267e-03  1.06105451e-02\n",
      "   2.83945259e-02 -4.79524958e-02  8.27864962e-03  2.43596037e-02\n",
      "   1.95854516e-03  3.51181610e-01  3.44564776e-01  3.45262935e-01\n",
      "   2.97111315e-01 -1.26770311e-01 -1.57726281e-01  2.18348567e-02\n",
      "   1.90579233e-02  1.11023069e-02 -2.70259152e-01 -2.43327729e-01\n",
      "   0.00000000e+00  0.00000000e+00  0.00000000e+00]\n",
      " [ 2.84777412e-03  1.62632088e-01  2.62478154e-01  1.90598822e-01\n",
      "   2.29509940e-02  2.10540174e-01  1.82713616e-01 -8.24667015e-02\n",
      "   2.41040875e-01 -2.64365533e-02  6.27654784e-02 -9.15152827e-02\n",
      "  -2.33430642e-01  1.18648127e-01 -2.26676339e-01 -2.22958883e-01\n",
      "  -1.16816230e-01  2.97830642e-01  1.89798595e-01  2.75498738e-01\n",
      "   3.28854220e-01 -3.19323828e-02  1.87622427e-01 -4.52575480e-02\n",
      "  -4.16652635e-02 -2.20076204e-01  2.72393825e-01  2.39690519e-01\n",
      "  -0.00000000e+00 -0.00000000e+00 -0.00000000e+00]\n",
      " [-5.62684435e-04  1.94769357e-01  1.39801424e-01  1.46138781e-01\n",
      "  -5.10035074e-02  1.83060673e-01 -1.20193332e-01 -2.54237959e-01\n",
      "   2.05261244e-01  9.70326007e-02 -2.06944040e-01 -1.14524553e-01\n",
      "   2.76168246e-01 -1.20773447e-01  4.44372021e-01  2.84101558e-01\n",
      "  -8.27140449e-02  9.81175646e-02  1.04634782e-01  8.55728506e-02\n",
      "   6.68079265e-02  7.33943149e-02 -9.22417394e-02 -1.41718166e-01\n",
      "  -1.67088928e-01  4.42472426e-01  1.45237727e-01  1.07080119e-01\n",
      "  -0.00000000e+00 -0.00000000e+00 -0.00000000e+00]\n",
      " [-2.86293062e-02  1.97215693e-01 -1.17469870e-01 -2.42610573e-01\n",
      "  -2.93852266e-01 -2.73242120e-01  3.72000397e-02 -4.85639826e-01\n",
      "   2.10009792e-01 -1.23911343e-01  3.80741604e-02 -1.71709091e-02\n",
      "  -4.83690453e-02 -2.92844710e-02 -7.13482527e-02 -5.79063357e-02\n",
      "  -2.83416412e-03 -1.35348823e-01 -3.07419161e-01 -2.07967915e-01\n",
      "  -1.92868744e-02 -1.69102802e-01  1.58972378e-01 -4.10014299e-01\n",
      "   2.08839993e-02 -6.89273243e-02  8.54084840e-02  1.60079856e-01\n",
      "  -0.00000000e+00 -0.00000000e+00 -0.00000000e+00]\n",
      " [-7.21533352e-02 -1.10338847e-01  4.03595382e-01  3.89631545e-01\n",
      "   9.66684115e-02  1.23629277e-01 -2.59527712e-01 -2.29660401e-01\n",
      "   1.15090055e-01 -3.09125481e-01 -5.23350294e-02  3.34494698e-03\n",
      "  -5.39975129e-02 -1.31212812e-01 -1.18318193e-01 -5.35706940e-02\n",
      "  -2.00702149e-02 -4.28519221e-02 -6.77768030e-02 -1.13619911e-01\n",
      "  -8.54910903e-02 -3.32543251e-01 -2.25881986e-01 -8.92033560e-02\n",
      "   7.61781006e-03 -1.11543952e-01 -2.36296865e-01 -3.31182051e-01\n",
      "  -0.00000000e+00 -0.00000000e+00 -0.00000000e+00]\n",
      " [-6.11532737e-02  1.34673595e-01 -9.63889656e-02  1.41759271e-01\n",
      "   1.84769631e-01 -9.10128191e-04 -2.40580068e-02 -1.95026931e-02\n",
      "  -5.33418154e-01 -9.12328830e-02  2.59219933e-02  6.33178338e-02\n",
      "  -5.55290180e-02  4.24851539e-01  1.73428046e-01 -1.08994603e-01\n",
      "   2.24077929e-02 -1.29425846e-02  4.02739627e-02  1.49913267e-01\n",
      "   1.86388448e-01 -1.19108790e-01  1.24329477e-01 -4.95014812e-01\n",
      "   2.63189523e-02  1.70910919e-01 -9.30253837e-02 -1.33456064e-01\n",
      "   0.00000000e+00  0.00000000e+00  0.00000000e+00]\n",
      " [ 4.59558749e-02  2.19363768e-01 -7.54829649e-02  7.64761479e-03\n",
      "   1.76739951e-01  3.65211868e-02 -6.78633021e-02 -1.07577151e-02\n",
      "  -2.69618373e-01  1.25697292e-01 -9.70362619e-02  1.96334494e-02\n",
      "   1.40310547e-01 -5.87729484e-01 -2.98678796e-01  2.69042068e-01\n",
      "   1.86808218e-01  1.14815971e-02  1.09936116e-01  1.26576339e-01\n",
      "   9.84433108e-02  1.10987965e-01  1.38138864e-02 -3.16504201e-01\n",
      "   4.87100355e-03 -3.09421726e-01  1.79993474e-02 -1.08221050e-02\n",
      "   0.00000000e+00  0.00000000e+00  0.00000000e+00]\n",
      " [ 9.92049248e-01 -2.91021354e-02  2.01617427e-02  4.67776710e-02\n",
      "  -1.52280580e-02  2.03727205e-02 -1.39625750e-02 -1.41802451e-02\n",
      "   8.14604796e-03 -2.60589433e-02  1.50559010e-02  6.34911792e-03\n",
      "  -9.37708966e-03  4.16523473e-02  1.42540357e-02 -1.97487127e-02\n",
      "  -6.19669998e-03 -1.73497036e-02 -3.27177030e-02 -1.55200822e-02\n",
      "   5.29264792e-03 -2.65154196e-02  8.03084054e-03 -5.97685932e-02\n",
      "   8.19056763e-03  1.49212390e-02 -2.58230946e-02 -3.08241514e-02\n",
      "   0.00000000e+00  0.00000000e+00  0.00000000e+00]\n",
      " [ 1.66539138e-02 -5.40668995e-02  1.79865418e-03 -3.84186331e-02\n",
      "  -3.26960379e-02 -1.43489189e-01  1.18873077e-01  2.60778298e-01\n",
      "  -3.02837377e-01 -3.75214587e-01 -1.51553855e-01 -3.79581239e-01\n",
      "  -3.29280776e-02 -3.47189046e-01  8.73348901e-02 -5.41933935e-02\n",
      "  -3.60824439e-01  6.45971648e-03 -5.90441218e-02  5.01910885e-03\n",
      "   2.06187051e-02 -3.41588736e-01  1.12519991e-01  8.69239868e-02\n",
      "  -1.91406090e-01  1.00337053e-01  1.02046742e-01  1.77766289e-01\n",
      "  -0.00000000e+00 -0.00000000e+00 -0.00000000e+00]]\n"
     ]
    }
   ],
   "source": [
    "print (pca.components_)"
   ]
  },
  {
   "cell_type": "code",
   "execution_count": 40,
   "metadata": {
    "id": "joadxTiIBF9b"
   },
   "outputs": [],
   "source": [
    "pca2 = PCA(.95)"
   ]
  },
  {
   "cell_type": "code",
   "execution_count": 41,
   "metadata": {
    "colab": {
     "base_uri": "https://localhost:8080/"
    },
    "id": "c73RtdHNBy3h",
    "outputId": "711abcaa-45c4-4735-c31e-8d1820fdd5c4"
   },
   "outputs": [
    {
     "data": {
      "text/plain": [
       "PCA(copy=True, iterated_power='auto', n_components=0.95, random_state=None,\n",
       "    svd_solver='auto', tol=0.0, whiten=False)"
      ]
     },
     "execution_count": 41,
     "metadata": {},
     "output_type": "execute_result"
    }
   ],
   "source": [
    "pca2.fit(X_train)"
   ]
  },
  {
   "cell_type": "code",
   "execution_count": 42,
   "metadata": {
    "id": "HJsLz70bCaie"
   },
   "outputs": [],
   "source": [
    "X_train = pca2.transform(X_train)\n",
    "X_test = pca2.transform(X_test)"
   ]
  },
  {
   "cell_type": "code",
   "execution_count": 43,
   "metadata": {
    "id": "pwfgLlnjDhn3"
   },
   "outputs": [],
   "source": [
    "logisticRegr = LogisticRegression(solver = 'lbfgs')"
   ]
  },
  {
   "cell_type": "code",
   "execution_count": 44,
   "metadata": {
    "colab": {
     "base_uri": "https://localhost:8080/"
    },
    "id": "YV-uUkhGDrQW",
    "outputId": "a570825c-0d89-44b0-ad45-0872462fe031"
   },
   "outputs": [
    {
     "data": {
      "text/plain": [
       "LogisticRegression(C=1.0, class_weight=None, dual=False, fit_intercept=True,\n",
       "                   intercept_scaling=1, l1_ratio=None, max_iter=100,\n",
       "                   multi_class='auto', n_jobs=None, penalty='l2',\n",
       "                   random_state=None, solver='lbfgs', tol=0.0001, verbose=0,\n",
       "                   warm_start=False)"
      ]
     },
     "execution_count": 44,
     "metadata": {},
     "output_type": "execute_result"
    }
   ],
   "source": [
    "logisticRegr.fit(X_train, y_train)"
   ]
  },
  {
   "cell_type": "code",
   "execution_count": 45,
   "metadata": {
    "colab": {
     "base_uri": "https://localhost:8080/"
    },
    "id": "dNde6AJWEBdT",
    "outputId": "8dd4a1e2-3073-4421-e2e9-2d5b5658071a"
   },
   "outputs": [
    {
     "data": {
      "text/plain": [
       "array([0])"
      ]
     },
     "execution_count": 45,
     "metadata": {},
     "output_type": "execute_result"
    }
   ],
   "source": [
    "logisticRegr.predict(X_test[0].reshape(1,-1))"
   ]
  },
  {
   "cell_type": "code",
   "execution_count": 46,
   "metadata": {
    "colab": {
     "base_uri": "https://localhost:8080/"
    },
    "id": "VfgMPMVxEKRN",
    "outputId": "6f031664-3a39-430d-e526-17e3274808bf"
   },
   "outputs": [
    {
     "data": {
      "text/plain": [
       "array([0, 0, 0, 0, 0, 0, 1, 1, 0, 1])"
      ]
     },
     "execution_count": 46,
     "metadata": {},
     "output_type": "execute_result"
    }
   ],
   "source": [
    "logisticRegr.predict(X_test[0:10])"
   ]
  },
  {
   "cell_type": "code",
   "execution_count": 47,
   "metadata": {
    "id": "RsstPFZDEc3r"
   },
   "outputs": [],
   "source": [
    "#logisticRegr.score(X_test, y_train)\n",
    "#error inconsistent number of samples\n",
    "#try making more consistent\n",
    "#Not sure how to fix"
   ]
  },
  {
   "cell_type": "code",
   "execution_count": 48,
   "metadata": {
    "id": "e2AuvK-Te8pT"
   },
   "outputs": [],
   "source": [
    "# try knn on the pca"
   ]
  },
  {
   "cell_type": "code",
   "execution_count": 49,
   "metadata": {
    "colab": {
     "base_uri": "https://localhost:8080/"
    },
    "id": "ORkrsCJFfK2l",
    "outputId": "68394c2e-c89c-4bff-9c99-7cf6d1b6afc0"
   },
   "outputs": [
    {
     "data": {
      "text/plain": [
       "False"
      ]
     },
     "execution_count": 49,
     "metadata": {},
     "output_type": "execute_result"
    }
   ],
   "source": [
    "np.any(np.isnan(finalDf))"
   ]
  },
  {
   "cell_type": "code",
   "execution_count": 50,
   "metadata": {
    "colab": {
     "base_uri": "https://localhost:8080/"
    },
    "id": "mYacGSusfSkF",
    "outputId": "3060cfa4-020c-483e-bff4-819f766e58a2"
   },
   "outputs": [
    {
     "data": {
      "text/plain": [
       "True"
      ]
     },
     "execution_count": 50,
     "metadata": {},
     "output_type": "execute_result"
    }
   ],
   "source": [
    "np.all(np.isfinite(finalDf))"
   ]
  },
  {
   "cell_type": "code",
   "execution_count": 51,
   "metadata": {
    "colab": {
     "base_uri": "https://localhost:8080/"
    },
    "id": "S6_aVOmrfStD",
    "outputId": "890be147-19dd-45af-cabe-d31b0e8c7090"
   },
   "outputs": [
    {
     "data": {
      "text/plain": [
       "Index(['principal component 1', 'principal component 2',\n",
       "       'principal component 3', 'principal component 4',\n",
       "       'principal component 5', 'principal component 6',\n",
       "       'principal component 7', 'principal component 8',\n",
       "       'principal component 9', 'principal component 10', 'User_ID'],\n",
       "      dtype='object')"
      ]
     },
     "execution_count": 51,
     "metadata": {},
     "output_type": "execute_result"
    }
   ],
   "source": [
    "finalDf.columns"
   ]
  },
  {
   "cell_type": "code",
   "execution_count": 52,
   "metadata": {
    "colab": {
     "base_uri": "https://localhost:8080/"
    },
    "id": "vC5bIhFrfSwx",
    "outputId": "27b9e97c-a6c9-41e1-91b4-357841297229"
   },
   "outputs": [
    {
     "data": {
      "text/plain": [
       "1    401\n",
       "0    401\n",
       "Name: User_ID, dtype: int64"
      ]
     },
     "execution_count": 52,
     "metadata": {},
     "output_type": "execute_result"
    }
   ],
   "source": [
    "finalDf['User_ID'].value_counts()"
   ]
  },
  {
   "cell_type": "code",
   "execution_count": 53,
   "metadata": {
    "id": "hmf4LGvNfSz_"
   },
   "outputs": [],
   "source": [
    "#Choosing the columns for X\n",
    "#Not using 'User_ID'\n",
    "#technically reusing variables\n",
    "#should be fine though\n",
    "#could add numbers\n",
    "\n",
    "X = finalDf[['principal component 1', 'principal component 2', 'principal component 3',# ]].values\n",
    "\n",
    "\n",
    "#columns = ['principal component 1', 'principal component 2', 'principal component 3',\n",
    "                           'principal component 4', 'principal component 5', 'principal component 6',\n",
    "                           'principal component 7', 'principal component 8' , 'principal component 9',\n",
    "                           'principal component 10']].values\n",
    "\n",
    "#, 'principal component 2'\n",
    "\n",
    "# need to change here"
   ]
  },
  {
   "cell_type": "code",
   "execution_count": 54,
   "metadata": {
    "id": "m8J4M2OjfS3M"
   },
   "outputs": [],
   "source": [
    "#Choosing the lables for y\n",
    "y = finalDf['User_ID'].values"
   ]
  },
  {
   "cell_type": "code",
   "execution_count": 55,
   "metadata": {
    "id": "9Al8RikEfS6v"
   },
   "outputs": [],
   "source": [
    "#Train and test split\n",
    "#80% train, 20% test\n",
    "#splitting the data into test and train dataset\n",
    "\n",
    "from sklearn.model_selection import train_test_split\n",
    "X_train, X_test, y_train, y_test = train_test_split(X, y, test_size=0.20)"
   ]
  },
  {
   "cell_type": "code",
   "execution_count": 56,
   "metadata": {
    "id": "kIc1V0wEgcdn"
   },
   "outputs": [],
   "source": [
    "#Feature Scaling\n",
    "from sklearn.preprocessing import StandardScaler\n",
    "scaler = StandardScaler()\n",
    "scaler.fit(X_train)\n",
    "\n",
    "X_train = scaler.transform(X_train)\n",
    "X_test = scaler.transform(X_test)"
   ]
  },
  {
   "cell_type": "code",
   "execution_count": 57,
   "metadata": {
    "colab": {
     "base_uri": "https://localhost:8080/"
    },
    "id": "bUOV3uq0gcoh",
    "outputId": "cc5a72f3-c7e4-4a75-a17b-7a50487ffd81"
   },
   "outputs": [
    {
     "data": {
      "text/plain": [
       "KNeighborsClassifier(algorithm='auto', leaf_size=30, metric='minkowski',\n",
       "                     metric_params=None, n_jobs=None, n_neighbors=5, p=2,\n",
       "                     weights='uniform')"
      ]
     },
     "execution_count": 57,
     "metadata": {},
     "output_type": "execute_result"
    }
   ],
   "source": [
    "#Training and Prediction\n",
    "from sklearn.neighbors import KNeighborsClassifier\n",
    "classifier = KNeighborsClassifier(n_neighbors=5)         #value for k\n",
    "classifier.fit(X_train, y_train)"
   ]
  },
  {
   "cell_type": "code",
   "execution_count": 58,
   "metadata": {
    "id": "r9oAd7R_gcxn"
   },
   "outputs": [],
   "source": [
    "#Make prediction on the test data\n",
    "y_pred = classifier.predict(X_test)"
   ]
  },
  {
   "cell_type": "code",
   "execution_count": 59,
   "metadata": {
    "colab": {
     "base_uri": "https://localhost:8080/"
    },
    "id": "IxwCX5_Ggc6Q",
    "outputId": "d4fe280d-3b83-4e8d-e567-6696197d2e28"
   },
   "outputs": [
    {
     "name": "stdout",
     "output_type": "stream",
     "text": [
      "[[71  3]\n",
      " [ 2 85]]\n",
      "              precision    recall  f1-score   support\n",
      "\n",
      "           0       0.97      0.96      0.97        74\n",
      "           1       0.97      0.98      0.97        87\n",
      "\n",
      "    accuracy                           0.97       161\n",
      "   macro avg       0.97      0.97      0.97       161\n",
      "weighted avg       0.97      0.97      0.97       161\n",
      "\n"
     ]
    }
   ],
   "source": [
    "#Evaluating the Algorithm\n",
    "from sklearn.metrics import classification_report, confusion_matrix\n",
    "print(confusion_matrix(y_test, y_pred))\n",
    "print(classification_report(y_test, y_pred))"
   ]
  },
  {
   "cell_type": "code",
   "execution_count": 60,
   "metadata": {
    "id": "WbG4gx7egt0L"
   },
   "outputs": [],
   "source": [
    "#PCA of 2 decreased the accuracy\n",
    "#should try increasing the pca values"
   ]
  },
  {
   "cell_type": "code",
   "execution_count": 61,
   "metadata": {
    "colab": {
     "base_uri": "https://localhost:8080/"
    },
    "id": "vv3-cr-AguAY",
    "outputId": "166e3dcd-63bd-4e5d-b253-e1c408fe1e12"
   },
   "outputs": [
    {
     "name": "stdout",
     "output_type": "stream",
     "text": [
      "[[71  3]\n",
      " [ 2 85]]\n"
     ]
    }
   ],
   "source": [
    "#prints the entire confusion matrix\n",
    "#however, it doesnn't fit the entire row and loops around\n",
    "np.set_printoptions(threshold=sys.maxsize)\n",
    "resultCM = (confusion_matrix(y_test, y_pred))\n",
    "print(resultCM)"
   ]
  },
  {
   "cell_type": "code",
   "execution_count": 62,
   "metadata": {
    "colab": {
     "base_uri": "https://localhost:8080/"
    },
    "id": "l5107fIAguJQ",
    "outputId": "c049a526-0be2-4ccf-c5da-5a99938feca8"
   },
   "outputs": [
    {
     "name": "stdout",
     "output_type": "stream",
     "text": [
      "              precision    recall  f1-score   support\n",
      "\n",
      "           0       0.97      0.96      0.97        74\n",
      "           1       0.97      0.98      0.97        87\n",
      "\n",
      "    accuracy                           0.97       161\n",
      "   macro avg       0.97      0.97      0.97       161\n",
      "weighted avg       0.97      0.97      0.97       161\n",
      "\n"
     ]
    }
   ],
   "source": [
    "resultCR = (classification_report(y_test, y_pred))\n",
    "print(resultCR)"
   ]
  },
  {
   "cell_type": "code",
   "execution_count": 63,
   "metadata": {
    "id": "9YfWgq5DguQ7"
   },
   "outputs": [],
   "source": [
    "# all parameters not specified are set to their defaults\n",
    "logisticRegr = LogisticRegression()"
   ]
  },
  {
   "cell_type": "code",
   "execution_count": 64,
   "metadata": {
    "colab": {
     "base_uri": "https://localhost:8080/"
    },
    "id": "7RVc24yrguYk",
    "outputId": "5b685f13-f9d5-4cdd-f8fb-b2e22e52bc5a"
   },
   "outputs": [
    {
     "data": {
      "text/plain": [
       "LogisticRegression(C=1.0, class_weight=None, dual=False, fit_intercept=True,\n",
       "                   intercept_scaling=1, l1_ratio=None, max_iter=100,\n",
       "                   multi_class='auto', n_jobs=None, penalty='l2',\n",
       "                   random_state=None, solver='lbfgs', tol=0.0001, verbose=0,\n",
       "                   warm_start=False)"
      ]
     },
     "execution_count": 64,
     "metadata": {},
     "output_type": "execute_result"
    }
   ],
   "source": [
    "logisticRegr.fit(X_train, y_train)"
   ]
  },
  {
   "cell_type": "code",
   "execution_count": 65,
   "metadata": {
    "colab": {
     "base_uri": "https://localhost:8080/"
    },
    "id": "HIaH2BKNhljB",
    "outputId": "04062ddc-cadc-4edb-ee6f-ca443ffd2145"
   },
   "outputs": [
    {
     "data": {
      "text/plain": [
       "array([1])"
      ]
     },
     "execution_count": 65,
     "metadata": {},
     "output_type": "execute_result"
    }
   ],
   "source": [
    "# Returns a NumPy Array\n",
    "# Predict for One Observation (image)\n",
    "logisticRegr.predict(X_test[0].reshape(1,-1))"
   ]
  },
  {
   "cell_type": "code",
   "execution_count": 66,
   "metadata": {
    "colab": {
     "base_uri": "https://localhost:8080/"
    },
    "id": "5vCA17zMhlm6",
    "outputId": "56ccf7ad-e2c4-47be-ad04-ec39c0ef2b66"
   },
   "outputs": [
    {
     "data": {
      "text/plain": [
       "array([1, 0, 1, 1, 0, 1, 1, 1, 0, 1])"
      ]
     },
     "execution_count": 66,
     "metadata": {},
     "output_type": "execute_result"
    }
   ],
   "source": [
    "logisticRegr.predict(X_test[0:10])"
   ]
  },
  {
   "cell_type": "code",
   "execution_count": 67,
   "metadata": {
    "id": "iGs-kuJUhlrO"
   },
   "outputs": [],
   "source": [
    "predictions = logisticRegr.predict(X_test)"
   ]
  },
  {
   "cell_type": "code",
   "execution_count": 68,
   "metadata": {
    "colab": {
     "base_uri": "https://localhost:8080/"
    },
    "id": "BYy_bIuRhlvB",
    "outputId": "f7eec748-fa37-428b-f3f4-d21d5213a76c"
   },
   "outputs": [
    {
     "name": "stdout",
     "output_type": "stream",
     "text": [
      "0.9627329192546584\n"
     ]
    }
   ],
   "source": [
    "# Use score method to get accuracy of model\n",
    "score = logisticRegr.score(X_test, y_test)\n",
    "print(score)"
   ]
  },
  {
   "cell_type": "code",
   "execution_count": 69,
   "metadata": {
    "colab": {
     "base_uri": "https://localhost:8080/"
    },
    "id": "8jcR-cXshl1V",
    "outputId": "fce54e92-23e8-4592-944b-501554baf861"
   },
   "outputs": [
    {
     "name": "stdout",
     "output_type": "stream",
     "text": [
      "[[69  5]\n",
      " [ 1 86]]\n"
     ]
    }
   ],
   "source": [
    "cm = metrics.confusion_matrix(y_test, predictions)\n",
    "print(cm)"
   ]
  },
  {
   "cell_type": "code",
   "execution_count": 70,
   "metadata": {
    "colab": {
     "base_uri": "https://localhost:8080/",
     "height": 520
    },
    "id": "Tyzm_EE9hl4q",
    "outputId": "420f993a-cc74-4ea3-ba5c-43cbad49dcce"
   },
   "outputs": [
    {
     "data": {
      "image/png": "[encoded data removed]",
      "text/plain": [
       "<Figure size 648x648 with 2 Axes>"
      ]
     },
     "metadata": {},
     "output_type": "display_data"
    }
   ],
   "source": [
    "plt.figure(figsize=(9,9))\n",
    "sns.heatmap(cm, annot=True, fmt=\".3f\", linewidths=.5, square = True, cmap = 'Blues_r');\n",
    "plt.ylabel('Actual label');\n",
    "plt.xlabel('Predicted label');\n",
    "all_sample_title = 'Accuracy Score: {0}'.format(score)\n",
    "plt.title(all_sample_title, size = 15);"
   ]
  },
  {
   "cell_type": "code",
   "execution_count": 71,
   "metadata": {
    "colab": {
     "base_uri": "https://localhost:8080/",
     "height": 657
    },
    "id": "KTxcOA9ihl8c",
    "outputId": "ab370284-8863-4375-fc29-fe5b0386063c"
   },
   "outputs": [
    {
     "data": {
      "image/png": "[encoded data removed]",
      "text/plain": [
       "<Figure size 648x648 with 2 Axes>"
      ]
     },
     "metadata": {},
     "output_type": "display_data"
    }
   ],
   "source": [
    "plt.figure(figsize=(9,9))\n",
    "plt.imshow(cm, interpolation='nearest', cmap='Pastel1')\n",
    "plt.title('Confusion matrix', size = 15)\n",
    "plt.colorbar()\n",
    "tick_marks = np.arange(10)\n",
    "plt.xticks(tick_marks, [\"0\", \"1\", \"2\", \"3\", \"4\", \"5\", \"6\", \"7\", \"8\", \"9\"], rotation=45, size = 10)\n",
    "plt.yticks(tick_marks, [\"0\", \"1\", \"2\", \"3\", \"4\", \"5\", \"6\", \"7\", \"8\", \"9\"], size = 10)\n",
    "plt.tight_layout()\n",
    "plt.ylabel('Actual label', size = 15)\n",
    "plt.xlabel('Predicted label', size = 15)\n",
    "width, height = cm.shape\n",
    "for x in range(width):\n",
    " for y in range(height):\n",
    "  plt.annotate(str(cm[x][y]), xy=(y, x), \n",
    "  horizontalalignment='center',\n",
    "  verticalalignment='center')"
   ]
  },
  {
   "cell_type": "code",
   "execution_count": null,
   "metadata": {
    "id": "WpQrWNPihmK-"
   },
   "outputs": [],
   "source": []
  },
  {
   "cell_type": "code",
   "execution_count": null,
   "metadata": {
    "id": "GcZW8emChmJZ"
   },
   "outputs": [],
   "source": []
  },
  {
   "cell_type": "code",
   "execution_count": null,
   "metadata": {
    "id": "5U81m3xEhmDD"
   },
   "outputs": [],
   "source": []
  },
  {
   "cell_type": "code",
   "execution_count": null,
   "metadata": {
    "id": "08LEZiSJhmAE"
   },
   "outputs": [],
   "source": []
  },
  {
   "cell_type": "code",
   "execution_count": 573,
   "metadata": {
    "id": "5Hp-vp9lhlyc"
   },
   "outputs": [],
   "source": []
  }
 ],
 "metadata": {
  "colab": {
   "name": "My_CISC5001_Code_Version_4_.ipynb",
   "provenance": []
  },
  "kernelspec": {
   "display_name": "Python 3",
   "language": "python",
   "name": "python3"
  },
  "language_info": {
   "codemirror_mode": {
    "name": "ipython",
    "version": 3
   },
   "file_extension": ".py",
   "mimetype": "text/x-python",
   "name": "python",
   "nbconvert_exporter": "python",
   "pygments_lexer": "ipython3",
   "version": "3.6.7"
  }
 },
 "nbformat": 4,
 "nbformat_minor": 1
}
