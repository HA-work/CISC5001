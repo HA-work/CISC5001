{
  "nbformat": 4,
  "nbformat_minor": 0,
  "metadata": {
    "kernelspec": {
      "display_name": "Python 3",
      "language": "python",
      "name": "python3"
    },
    "language_info": {
      "codemirror_mode": {
        "name": "ipython",
        "version": 3
      },
      "file_extension": ".py",
      "mimetype": "text/x-python",
      "name": "python",
      "nbconvert_exporter": "python",
      "pygments_lexer": "ipython3",
      "version": "3.6.7"
    },
    "colab": {
      "name": "New Project Code 2 Part 2.ipynb",
      "provenance": []
    }
  },
  "cells": [
    {
      "cell_type": "code",
      "metadata": {
        "id": "hrNfcsH92uqu",
        "outputId": "9e6cef78-7e10-4e9a-9681-45a6ef97563a",
        "colab": {
          "base_uri": "https://localhost:8080/"
        }
      },
      "source": [
        "import numpy as np # linear algebra\n",
        "import pandas as pd # data processing, CSV file I/O (e.g. pd.read_csv)\n",
        "import tensorflow as tf\n",
        "\n",
        "import sys\n",
        "\n",
        "'''\n",
        "Combined 2 rows into 1 by taking the previous one.\n",
        "Made sure that both rows are from the same users.\n",
        "\n",
        "User_ID1,Doc_ID1,Inter-Stroke time1,Stroke Duration1,Start X1,Start Y1,Stop X1,Stop Y1,Direct end-to-end Distance1,\n",
        "Mean resulant length1,WSAD Flag1,Direction of end-to-end Time1,Phone_ID1,20 per pairwise velocity1,50 per pairwise velocity1,\n",
        "80 per pairwise velocity1,20 per pairwise acc1,50 per pairwise acc1,80 per pairwise acc1,Median velocity at last 3pts1,\n",
        "Largest deviation from end-to-end line1,20 per dev line1,50 per dev line1,80 per dev line1,Average Direction1,\n",
        "Length of Trajectory1,Ratio dist and length of trajectory1,Average velocity1,Median acceleration at first 5 pts1,\n",
        "Mid-Stroke pressure1,Mid-Stroke area covered1,Mid-Stroke finger orientation1,Change of finger orientation1,\n",
        "Phone orientation1\n",
        "\n",
        "User_ID2,Doc_ID2,Inter-Stroke time2,Stroke Duration2,Start X2,Start Y2,Stop X2,Stop Y2,Direct end-to-end Distance2,\n",
        "Mean resulant length2,WSAD Flag2,Direction of end-to-end Time2,Phone_ID2,20 per pairwise velocity2,50 per pairwise velocity2,\n",
        "80 per pairwise velocity2,20 per pairwise acc2,50 per pairwise acc2,80 per pairwise acc2,Median velocity at last 3pts2,\n",
        "Largest deviation from end-to-end line2,20 per dev line2,50 per dev line2,80 per dev line2,Average Direction2,\n",
        "Length of Trajectory2,Ratio dist and length of trajectory2,Average velocity2,Median acceleration at first 5 pts2,\n",
        "Mid-Stroke pressure2,Mid-Stroke area covered2,Mid-Stroke finger orientation2,Change of finger orientation2,\n",
        "Phone orientation2\n",
        "'''\n",
        "\n",
        "import os\n",
        "#print(os.listdir(r\"C:\\Users\\eddie\\OneDrive\\Desktop\\CISC 4900\"))         #print out what's in the file/directory\n",
        "#train = pd.read_csv(r\"C:\\Users\\eddie\\OneDrive\\Desktop\\CISC 4900\\Dataset_V4.csv\")         #using the combined dataset\n",
        "\n",
        "print(os.listdir(r\".\"))         #print out what's in the file/directory\n",
        "train = pd.read_csv(r\"DataSet_V4.csv\")         #using test"
      ],
      "execution_count": null,
      "outputs": [
        {
          "output_type": "stream",
          "text": [
            "['.config', 'DataSet_V4.csv', 'sample_data']\n"
          ],
          "name": "stdout"
        }
      ]
    },
    {
      "cell_type": "code",
      "metadata": {
        "id": "c65Lt8sS2uq7",
        "outputId": "5abb2887-5193-4cff-8546-ab9758b0a6b3",
        "colab": {
          "base_uri": "https://localhost:8080/"
        }
      },
      "source": [
        "#prints the amount of users in 'User_ID'\n",
        "train['User_ID1'].value_counts()"
      ],
      "execution_count": null,
      "outputs": [
        {
          "output_type": "execute_result",
          "data": {
            "text/plain": [
              "2     1229\n",
              "35    1062\n",
              "23     968\n",
              "38     785\n",
              "3      758\n",
              "15     718\n",
              "33     711\n",
              "28     709\n",
              "17     705\n",
              "21     701\n",
              "14     650\n",
              "8      617\n",
              "34     612\n",
              "27     608\n",
              "7      590\n",
              "6      561\n",
              "36     499\n",
              "18     460\n",
              "9      452\n",
              "11     444\n",
              "29     438\n",
              "39     435\n",
              "24     434\n",
              "25     431\n",
              "37     423\n",
              "5      412\n",
              "1      400\n",
              "10     386\n",
              "16     381\n",
              "22     373\n",
              "31     369\n",
              "20     355\n",
              "12     341\n",
              "40     311\n",
              "13     304\n",
              "32     303\n",
              "19     292\n",
              "26     241\n",
              "4      240\n",
              "30     224\n",
              "41     185\n",
              "Name: User_ID1, dtype: int64"
            ]
          },
          "metadata": {
            "tags": []
          },
          "execution_count": 6
        }
      ]
    },
    {
      "cell_type": "code",
      "metadata": {
        "id": "iH1HnnmT2urC",
        "outputId": "ac0fe183-0c71-4254-ad3d-b4f51cf71240",
        "colab": {
          "base_uri": "https://localhost:8080/",
          "height": 86
        }
      },
      "source": [
        "#Choosing the columns for X\n",
        "#Not using 'User_ID', 'Doc_ID', or 'Phone_ID'\n",
        "X = train[['Inter-Stroke time1', 'Stroke Duration1', 'Start X1', 'Start Y1', 'Stop X1', 'Stop Y1', 'Mean resulant length1',\n",
        "           'WSAD Flag1', 'Direction of end-to-end Time1', '20 per pairwise velocity1', '50 per pairwise velocity1', \n",
        "           '80 per pairwise velocity1', '50 per pairwise acc1', '80 per pairwise acc1',\n",
        "           'Median velocity at last 3pts1', '20 per dev line1', '50 per dev line1', '80 per dev line1', \n",
        "           'Length of Trajectory1', 'Ratio dist and length of trajectory1', 'Average velocity1', 'Mid-Stroke pressure1', \n",
        "           'Mid-Stroke area covered1', 'Change of finger orientation1', 'Phone orientation1',\n",
        "           \n",
        "           'Inter-Stroke time2', 'Stroke Duration2', 'Start X2', 'Start Y2', 'Stop X2', 'Stop Y2', 'Mean resulant length2', \n",
        "           'WSAD Flag2', 'Direction of end-to-end Time2', '20 per pairwise velocity2', '50 per pairwise velocity2', \n",
        "           '80 per pairwise velocity2', '50 per pairwise acc2', '80 per pairwise acc2', \n",
        "           'Median velocity at last 3pts2', '20 per dev line2', '50 per dev line2', '80 per dev line2', \n",
        "           'Length of Trajectory2', 'Ratio dist and length of trajectory2', 'Average velocity2', 'Mid-Stroke pressure2', \n",
        "           'Mid-Stroke area covered2', 'Change of finger orientation2', 'Phone orientation2']].values\n",
        "\n",
        "#can't use some of them\n",
        "'''\n",
        " 'Direct end-to-end Distance1', 'Largest deviation from end-to-end line1', 'Average Direction1', \n",
        " 'Median acceleration at first 5 pts1', 'Mid-Stroke finger orientation1', '20 per pairwise acc1', \n",
        " \n",
        " 'Direct end-to-end Distance2', 'Largest deviation from end-to-end line2', 'Average Direction2', \n",
        " 'Median acceleration at first 5 pts2', 'Mid-Stroke finger orientation2', '20 per pairwise acc2', \n",
        "'''"
      ],
      "execution_count": null,
      "outputs": [
        {
          "output_type": "execute_result",
          "data": {
            "application/vnd.google.colaboratory.intrinsic+json": {
              "type": "string"
            },
            "text/plain": [
              "\"\\n 'Direct end-to-end Distance1', 'Largest deviation from end-to-end line1', 'Average Direction1', \\n 'Median acceleration at first 5 pts1', 'Mid-Stroke finger orientation1', '20 per pairwise acc1', \\n \\n 'Direct end-to-end Distance2', 'Largest deviation from end-to-end line2', 'Average Direction2', \\n 'Median acceleration at first 5 pts2', 'Mid-Stroke finger orientation2', '20 per pairwise acc2', \\n\""
            ]
          },
          "metadata": {
            "tags": []
          },
          "execution_count": 7
        }
      ]
    },
    {
      "cell_type": "code",
      "metadata": {
        "id": "Piuoj6KZ2urH"
      },
      "source": [
        "#Choosing the lables for y\n",
        "y = train['User_ID1'].values"
      ],
      "execution_count": null,
      "outputs": []
    },
    {
      "cell_type": "code",
      "metadata": {
        "id": "PrURJCQ62urK"
      },
      "source": [
        "#Train and test split\n",
        "#80% train, 20% test\n",
        "#splitting the data into test and train dataset\n",
        "\n",
        "from sklearn.model_selection import train_test_split\n",
        "X_train, X_test, y_train, y_test = train_test_split(X, y, test_size=0.20)"
      ],
      "execution_count": null,
      "outputs": []
    },
    {
      "cell_type": "code",
      "metadata": {
        "id": "Zt741Dws2urO"
      },
      "source": [
        "#Feature Scaling\n",
        "from sklearn.preprocessing import StandardScaler\n",
        "scaler = StandardScaler()\n",
        "scaler.fit(X_train)\n",
        "\n",
        "X_train = scaler.transform(X_train)\n",
        "X_test = scaler.transform(X_test)"
      ],
      "execution_count": null,
      "outputs": []
    },
    {
      "cell_type": "code",
      "metadata": {
        "id": "onO0r2wG2urR",
        "outputId": "7e39bcca-ce6c-43b2-f609-16d10b300de8",
        "colab": {
          "base_uri": "https://localhost:8080/"
        }
      },
      "source": [
        "#Training and Prediction\n",
        "from sklearn.neighbors import KNeighborsClassifier\n",
        "classifier = KNeighborsClassifier(n_neighbors=5)         #value for k\n",
        "classifier.fit(X_train, y_train)"
      ],
      "execution_count": null,
      "outputs": [
        {
          "output_type": "execute_result",
          "data": {
            "text/plain": [
              "KNeighborsClassifier(algorithm='auto', leaf_size=30, metric='minkowski',\n",
              "                     metric_params=None, n_jobs=None, n_neighbors=5, p=2,\n",
              "                     weights='uniform')"
            ]
          },
          "metadata": {
            "tags": []
          },
          "execution_count": 11
        }
      ]
    },
    {
      "cell_type": "code",
      "metadata": {
        "id": "LZRah4jA2urU"
      },
      "source": [
        "#Make prediction on the test data\n",
        "y_pred = classifier.predict(X_test)"
      ],
      "execution_count": null,
      "outputs": []
    },
    {
      "cell_type": "code",
      "metadata": {
        "id": "CFPwL2LC2urY",
        "outputId": "d83e43d4-ccb2-434f-f3f9-e83f1bc2be7b",
        "colab": {
          "base_uri": "https://localhost:8080/"
        }
      },
      "source": [
        "#Evaluating the Algorithm\n",
        "from sklearn.metrics import classification_report, confusion_matrix\n",
        "print(confusion_matrix(y_test, y_pred))\n",
        "print(classification_report(y_test, y_pred))"
      ],
      "execution_count": null,
      "outputs": [
        {
          "output_type": "stream",
          "text": [
            "[[ 56   2   0 ...   0   0   1]\n",
            " [  0 226   1 ...   1   0   0]\n",
            " [  0   0  55 ...   0   2   0]\n",
            " ...\n",
            " [  1   6   0 ...  31   0   0]\n",
            " [  0   0   2 ...   0  40   0]\n",
            " [  1   0   1 ...   0   0  28]]\n",
            "              precision    recall  f1-score   support\n",
            "\n",
            "           1       0.67      0.69      0.68        81\n",
            "           2       0.74      0.88      0.80       258\n",
            "           3       0.40      0.38      0.39       143\n",
            "           4       0.65      0.73      0.68        55\n",
            "           5       0.37      0.46      0.41        91\n",
            "           6       0.59      0.76      0.67        97\n",
            "           7       0.64      0.58      0.61       126\n",
            "           8       0.57      0.76      0.65       119\n",
            "           9       0.65      0.84      0.74        81\n",
            "          10       0.69      0.62      0.65        73\n",
            "          11       0.64      0.76      0.69        86\n",
            "          12       0.74      0.72      0.73        68\n",
            "          13       0.52      0.47      0.49        49\n",
            "          14       0.63      0.90      0.74       135\n",
            "          15       0.66      0.67      0.67       148\n",
            "          16       0.56      0.61      0.58        84\n",
            "          17       0.65      0.64      0.64       135\n",
            "          18       0.75      0.69      0.72        89\n",
            "          19       0.63      0.52      0.57        65\n",
            "          20       0.52      0.78      0.62        59\n",
            "          21       0.82      0.70      0.75       139\n",
            "          22       0.64      0.63      0.64        68\n",
            "          23       0.67      0.83      0.75       193\n",
            "          24       0.73      0.56      0.63        91\n",
            "          25       0.86      0.57      0.69        87\n",
            "          26       0.72      0.49      0.58        63\n",
            "          27       0.78      0.48      0.59       117\n",
            "          28       0.61      0.68      0.64       115\n",
            "          29       0.70      0.68      0.69        90\n",
            "          30       0.61      0.30      0.40        37\n",
            "          31       0.76      0.61      0.68        69\n",
            "          32       0.78      0.79      0.79        63\n",
            "          33       0.92      0.55      0.69       155\n",
            "          34       0.92      0.92      0.92       128\n",
            "          35       0.72      0.80      0.76       221\n",
            "          36       0.84      0.73      0.78       105\n",
            "          37       0.76      0.70      0.73        96\n",
            "          38       0.69      0.67      0.68       147\n",
            "          39       0.61      0.35      0.45        88\n",
            "          40       0.66      0.57      0.61        70\n",
            "          41       0.90      0.70      0.79        40\n",
            "\n",
            "    accuracy                           0.68      4224\n",
            "   macro avg       0.68      0.65      0.66      4224\n",
            "weighted avg       0.69      0.68      0.67      4224\n",
            "\n"
          ],
          "name": "stdout"
        }
      ]
    },
    {
      "cell_type": "code",
      "metadata": {
        "id": "wG0bIOaN2urb",
        "outputId": "d0473e7a-e9f9-465a-ec32-95498b24dc22",
        "colab": {
          "base_uri": "https://localhost:8080/"
        }
      },
      "source": [
        "#prints the entire confusion matrix\n",
        "#however, it doesnn't fit the entire row and loops around\n",
        "np.set_printoptions(threshold=sys.maxsize)\n",
        "resultCM = (confusion_matrix(y_test, y_pred))\n",
        "print(resultCM)"
      ],
      "execution_count": null,
      "outputs": [
        {
          "output_type": "stream",
          "text": [
            "[[ 56   2   0   4   0   0   4   0   0   0   0   1   0   1   0   0   0   0\n",
            "    0   1   0   1   0   1   0   0   0   5   1   0   0   0   1   1   0   0\n",
            "    0   1   0   0   1]\n",
            " [  0 226   1   0   2   0   0   3   2   1   0   0   0   3   0   0   0   0\n",
            "    0   3   0   1   3   1   0   1   0   2   0   0   0   0   1   0   0   1\n",
            "    0   6   1   0   0]\n",
            " [  0   0  55   1   4   5   1   4   0   6   5   2   1   1   0   5  20   3\n",
            "    2   0   3   0   0   0   0   0   3   0   0   0   0   1   0   0  14   0\n",
            "    5   0   0   2   0]\n",
            " [  5   0   0  40   0   0   1   1   0   0   0   0   0   2   1   0   0   0\n",
            "    1   0   0   0   0   0   0   1   0   1   0   0   0   0   0   0   0   0\n",
            "    0   0   2   0   0]\n",
            " [  0   1  12   0  42   3   0   5  12   0   0   2   0   0   0   1   0   0\n",
            "    3   0   0   0   0   0   0   0   3   0   1   0   0   2   0   0   1   0\n",
            "    1   0   0   2   0]\n",
            " [  0   1   1   0   1  74   0   2   0   0   0   0   2   0   2   2   1   0\n",
            "    0   0   1   0   0   0   0   0   0   2   0   0   0   0   0   0   6   0\n",
            "    2   0   0   0   0]\n",
            " [  3  11   1   1   0   0  73   0   0   0   0   0   0   0   4   0   1   0\n",
            "    0   5   0   4   1   3   0   0   0   7   0   2   0   0   0   4   0   0\n",
            "    0   5   1   0   0]\n",
            " [  0   2   1   0   5   6   0  90   1   1   1   0   0   2   0   0   0   0\n",
            "    0   0   0   0   2   0   0   0   1   0   0   0   0   0   0   0   1   0\n",
            "    0   0   0   6   0]\n",
            " [  0   1   1   0   2   0   0   3  68   0   0   0   0   0   0   0   1   0\n",
            "    0   0   0   0   2   0   0   0   0   0   0   0   0   0   0   0   0   1\n",
            "    1   1   0   0   0]\n",
            " [  0   0   4   0   1   2   1   1   0  45   4   0   0   0   0   1   1   3\n",
            "    3   0   3   0   0   0   0   0   0   0   0   0   0   0   0   0   4   0\n",
            "    0   0   0   0   0]\n",
            " [  0   0   3   0   2   3   1   1   0   2  65   0   0   0   0   0   1   3\n",
            "    1   0   1   2   0   0   0   0   0   0   0   0   0   0   0   0   1   0\n",
            "    0   0   0   0   0]\n",
            " [  0   0   0   0   4   0   0   4   0   3   0  49   0   0   0   0   0   0\n",
            "    0   0   0   0   0   0   0   0   0   0   1   1   0   3   0   0   1   0\n",
            "    1   0   0   1   0]\n",
            " [  0   1   2   0   2   2   1   0   0   0   0   0  23   0   0   2   2   0\n",
            "    1   0   3   0   0   1   0   0   2   1   0   0   0   0   0   0   1   0\n",
            "    3   0   0   2   0]\n",
            " [  0   0   0   1   0   0   0   3   0   0   0   0   0 122   1   0   0   0\n",
            "    0   0   0   0   2   0   0   1   0   0   2   0   3   0   0   0   0   0\n",
            "    0   0   0   0   0]\n",
            " [  2   5   0   1   0   1   0   0   0   0   0   0   1   5  99   0   0   0\n",
            "    0   0   0   0  22   0   0   0   0   4   2   0   1   0   0   0   0   5\n",
            "    0   0   0   0   0]\n",
            " [  0   0   0   0   3   3   0   2   1   1   5   0   1   0   0  51   0   1\n",
            "    4   0   1   0   0   0   0   0   0   0   1   1   0   3   0   0   4   0\n",
            "    2   0   0   0   0]\n",
            " [  0   0   6   0   2   2   0   6   2   1   1   1   6   1   0   9  86   1\n",
            "    0   0   0   0   0   0   0   0   0   0   0   0   0   0   1   0  10   0\n",
            "    0   0   0   0   0]\n",
            " [  0   1   5   1   1   0   0   1   0   1   7   0   0   0   0   1   2  61\n",
            "    1   0   0   0   0   0   0   0   1   0   0   0   0   1   0   0   1   0\n",
            "    0   1   1   2   0]\n",
            " [  0   2   6   0   5   1   0   6   0   1   0   1   1   0   0   0   3   1\n",
            "   34   0   1   0   1   0   0   0   1   0   0   0   0   0   0   0   1   0\n",
            "    0   0   0   0   0]\n",
            " [  0   2   0   1   0   0   0   0   0   0   0   0   0   0   0   0   0   0\n",
            "    0  46   0   1   0   0   0   0   0   6   0   0   0   0   0   0   0   0\n",
            "    0   0   1   0   2]\n",
            " [  0   0   8   0   3   1   0   0   0   1   6   1   0   0   0   2   7   3\n",
            "    0   0  97   0   0   0   0   0   0   0   0   0   0   0   0   0   8   0\n",
            "    0   0   0   2   0]\n",
            " [  1   0   0   1   0   0   9   1   1   0   0   0   1   0   0   0   1   0\n",
            "    0   1   0  43   0   0   1   1   0   2   0   0   0   0   0   0   0   0\n",
            "    0   3   2   0   0]\n",
            " [  0   3   0   0   1   2   0   0   0   0   0   0   0   3  18   0   0   0\n",
            "    0   0   0   0 161   1   0   0   0   0   0   0   1   0   1   0   0   1\n",
            "    0   1   0   0   0]\n",
            " [  0   7   2   4   0   3   1   0   0   0   0   2   0   0   1   0   0   0\n",
            "    0   1   0   2  11  51   0   0   0   2   0   0   0   0   0   0   0   0\n",
            "    1   1   2   0   0]\n",
            " [  3  11   1   0   0   0   1   0   1   0   0   0   0   0   1   0   0   0\n",
            "    1   9   1   0   2   0  50   1   0   2   0   0   0   2   0   0   0   0\n",
            "    0   1   0   0   0]\n",
            " [  0   1   1   1   0   0   4   0   0   0   0   0   0   0   1   0   0   0\n",
            "    0   0   0   4   3   1   1  31   0   0   0   3   0   0   0   0   0   1\n",
            "    1   7   3   0   0]\n",
            " [  0   3   4   0   1  12   0   7   1   0   3   0   2   0   0   8   4   2\n",
            "    0   0   3   0   0   0   2   0  56   0   0   0   0   2   0   0   6   0\n",
            "    0   0   0   1   0]\n",
            " [  4   8   1   1   2   1   3   1   0   0   0   0   0   2   3   0   0   0\n",
            "    0   1   0   1   2   2   0   1   0  78   0   0   0   0   0   2   0   0\n",
            "    0   2   0   0   0]\n",
            " [  0   0   0   0   5   0   0   1   0   0   0   1   0  13   1   0   0   0\n",
            "    0   0   0   0   2   0   0   0   0   0  61   0   3   0   0   0   0   1\n",
            "    0   1   0   1   0]\n",
            " [  1   1   1   3   3   0   2   0   0   0   0   1   0   0   1   0   0   0\n",
            "    1   0   0   0   1   2   0   3   0   2   0  11   0   0   1   0   0   0\n",
            "    0   1   1   1   0]\n",
            " [  0   1   0   0   2   1   0   1   0   0   0   0   0  16   1   0   0   0\n",
            "    0   0   0   0   2   0   0   0   0   0   1   0  42   0   1   0   0   0\n",
            "    0   0   1   0   0]\n",
            " [  0   0   4   0   5   0   0   1   1   0   0   0   0   0   0   0   0   0\n",
            "    1   0   0   0   0   1   0   0   0   0   0   0   0  50   0   0   0   0\n",
            "    0   0   0   0   0]\n",
            " [  2   2   1   1   2   0   0   5   0   0   1   0   1  16   5   0   0   0\n",
            "    0   3   0   0   4   0   1   0   0   2  14   0   5   0  85   0   0   3\n",
            "    0   1   1   0   0]\n",
            " [  2   0   0   0   0   0   0   0   0   0   0   0   0   0   0   0   0   0\n",
            "    0   1   0   1   0   0   0   0   0   0   0   0   0   0   0 118   0   0\n",
            "    1   4   1   0   0]\n",
            " [  2   0   7   0   3   1   0   1   1   0   3   0   0   0   0   8   2   3\n",
            "    1   1   5   0   0   0   0   0   3   1   0   0   0   0   0   0 177   0\n",
            "    2   0   0   0   0]\n",
            " [  0   4   0   0   1   0   1   1   2   0   0   0   0   7   3   0   0   0\n",
            "    0   0   0   0   4   1   0   0   0   1   2   0   0   0   0   0   0  77\n",
            "    0   1   0   0   0]\n",
            " [  0   1   3   0   7   1   0   1   0   0   0   3   4   0   0   1   0   0\n",
            "    0   0   0   0   0   1   0   0   1   0   0   0   0   0   1   0   4   0\n",
            "   67   0   0   1   0]\n",
            " [  1   4   2   0   0   0   7   0   1   0   0   0   0   0   3   0   0   0\n",
            "    0   1   0   2   9   3   0   2   1   5   1   0   0   0   0   1   1   2\n",
            "    0  98   3   0   0]\n",
            " [  1   6   0   0   0   1   3   1   2   0   1   0   0   0   2   0   0   0\n",
            "    0  13   0   5   4   1   2   0   0   5   0   0   0   0   0   0   2   0\n",
            "    1   7  31   0   0]\n",
            " [  0   0   2   0   4   0   0   6   8   2   0   2   1   1   1   0   0   0\n",
            "    0   0   0   0   1   0   0   0   0   0   0   0   0   0   0   0   2   0\n",
            "    0   0   0  40   0]\n",
            " [  1   0   1   1   0   0   1   0   0   0   0   0   0   0   1   0   0   0\n",
            "    0   3   0   0   0   0   1   1   0   0   0   0   0   0   0   2   0   0\n",
            "    0   0   0   0  28]]\n"
          ],
          "name": "stdout"
        }
      ]
    },
    {
      "cell_type": "code",
      "metadata": {
        "id": "ps3wluT02urg",
        "outputId": "fa6bf92b-0d98-4d63-b8b7-4fe1ba8e90b7",
        "colab": {
          "base_uri": "https://localhost:8080/"
        }
      },
      "source": [
        "resultCR = (classification_report(y_test, y_pred))\n",
        "print(resultCR)"
      ],
      "execution_count": null,
      "outputs": [
        {
          "output_type": "stream",
          "text": [
            "              precision    recall  f1-score   support\n",
            "\n",
            "           1       0.67      0.69      0.68        81\n",
            "           2       0.74      0.88      0.80       258\n",
            "           3       0.40      0.38      0.39       143\n",
            "           4       0.65      0.73      0.68        55\n",
            "           5       0.37      0.46      0.41        91\n",
            "           6       0.59      0.76      0.67        97\n",
            "           7       0.64      0.58      0.61       126\n",
            "           8       0.57      0.76      0.65       119\n",
            "           9       0.65      0.84      0.74        81\n",
            "          10       0.69      0.62      0.65        73\n",
            "          11       0.64      0.76      0.69        86\n",
            "          12       0.74      0.72      0.73        68\n",
            "          13       0.52      0.47      0.49        49\n",
            "          14       0.63      0.90      0.74       135\n",
            "          15       0.66      0.67      0.67       148\n",
            "          16       0.56      0.61      0.58        84\n",
            "          17       0.65      0.64      0.64       135\n",
            "          18       0.75      0.69      0.72        89\n",
            "          19       0.63      0.52      0.57        65\n",
            "          20       0.52      0.78      0.62        59\n",
            "          21       0.82      0.70      0.75       139\n",
            "          22       0.64      0.63      0.64        68\n",
            "          23       0.67      0.83      0.75       193\n",
            "          24       0.73      0.56      0.63        91\n",
            "          25       0.86      0.57      0.69        87\n",
            "          26       0.72      0.49      0.58        63\n",
            "          27       0.78      0.48      0.59       117\n",
            "          28       0.61      0.68      0.64       115\n",
            "          29       0.70      0.68      0.69        90\n",
            "          30       0.61      0.30      0.40        37\n",
            "          31       0.76      0.61      0.68        69\n",
            "          32       0.78      0.79      0.79        63\n",
            "          33       0.92      0.55      0.69       155\n",
            "          34       0.92      0.92      0.92       128\n",
            "          35       0.72      0.80      0.76       221\n",
            "          36       0.84      0.73      0.78       105\n",
            "          37       0.76      0.70      0.73        96\n",
            "          38       0.69      0.67      0.68       147\n",
            "          39       0.61      0.35      0.45        88\n",
            "          40       0.66      0.57      0.61        70\n",
            "          41       0.90      0.70      0.79        40\n",
            "\n",
            "    accuracy                           0.68      4224\n",
            "   macro avg       0.68      0.65      0.66      4224\n",
            "weighted avg       0.69      0.68      0.67      4224\n",
            "\n"
          ],
          "name": "stdout"
        }
      ]
    },
    {
      "cell_type": "code",
      "metadata": {
        "id": "TjBNL4rm2uri"
      },
      "source": [
        ""
      ],
      "execution_count": null,
      "outputs": []
    },
    {
      "cell_type": "code",
      "metadata": {
        "id": "ZZZXyEAP2urk"
      },
      "source": [
        ""
      ],
      "execution_count": null,
      "outputs": []
    },
    {
      "cell_type": "code",
      "metadata": {
        "id": "OECGyrPt2urm"
      },
      "source": [
        ""
      ],
      "execution_count": null,
      "outputs": []
    }
  ]
}
