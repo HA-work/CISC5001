{
  "nbformat": 4,
  "nbformat_minor": 0,
  "metadata": {
    "kernelspec": {
      "display_name": "Python 3",
      "language": "python",
      "name": "python3"
    },
    "language_info": {
      "codemirror_mode": {
        "name": "ipython",
        "version": 3
      },
      "file_extension": ".py",
      "mimetype": "text/x-python",
      "name": "python",
      "nbconvert_exporter": "python",
      "pygments_lexer": "ipython3",
      "version": "3.8.3"
    },
    "colab": {
      "name": "My_CISC5001_Code_Version_6_.ipynb",
      "provenance": []
    }
  },
  "cells": [
    {
      "cell_type": "code",
      "metadata": {
        "id": "NLJjkG-qsQ_A",
        "colab": {
          "base_uri": "https://localhost:8080/"
        },
        "outputId": "cf8315ab-9f1f-4f1f-c0c6-702236d2ad1f"
      },
      "source": [
        "import numpy as np # linear algebra\n",
        "import pandas as pd # data processing, CSV file I/O (e.g. pd.read_csv)\n",
        "import tensorflow as tf\n",
        "\n",
        "import matplotlib.pyplot as plt\n",
        "import matplotlib\n",
        "\n",
        "%matplotlib inline\n",
        "matplotlib.style.use('ggplot') \n",
        "\n",
        "from sklearn import datasets\n",
        "from sklearn import preprocessing\n",
        "from sklearn.model_selection import train_test_split\n",
        "from sklearn.decomposition import PCA\n",
        "from sklearn.neighbors import KNeighborsClassifier\n",
        "from sklearn.datasets import load_digits\n",
        "from sklearn.linear_model import LogisticRegression\n",
        "from sklearn.preprocessing import StandardScaler\n",
        "from sklearn.linear_model import LinearRegression\n",
        "\n",
        "\n",
        "\n",
        "import sys\n",
        "\n",
        "import seaborn as sns\n",
        "from sklearn import metrics\n",
        "\n",
        "#Based on Eddie Lam's code\n",
        "\n",
        "'''\n",
        "Reusing code:\n",
        "https://stackabuse.com/k-nearest-neighbors-algorithm-in-python-and-scikit-learn/\n",
        "\n",
        "Explaining result:\n",
        "https://datascience.stackexchange.com/questions/65839/macro-average-and-weighted-average-meaning-in-classification-report\n",
        "\n",
        "\n",
        "Test_fearMat_Clean: 4168\n",
        "    Before edit: 4231 rows × 34 columns\n",
        "    After edit: 4168 rows × 34 columns\n",
        "    \n",
        "    #removed 6 to 7\n",
        "    total = 3749         (20% = 750; 80% = 2,999)\n",
        "    \n",
        "\n",
        "Train_fearMat_Clean: 16680\n",
        "    Before edit: 16927 rows × 34 columns\n",
        "    After edit: 16680 rows × 34 columns\n",
        "    \n",
        "    #removed 6 to 7\n",
        "    total = 15045         (20% = 3,009; 80% = 12,036)\n",
        "\n",
        "'''\n",
        "\n",
        "import os\n",
        "\n",
        "\n",
        "print(os.listdir(r\".\"))         #print out what's in the file/directory\n",
        "train = pd.read_csv(r\"featMatVersion0.csv\")\n",
        "#This is the unedited file from Eddie\n",
        "\n",
        "#train = pd.read_csv(r\"featMatVersion1.csv\")\n",
        "\n",
        "#train = pd.read_csv(r\"featMatVersion2.csv\")\n",
        "\n",
        "\n",
        "#/content/featMatVersion2.csv\n",
        "\n",
        "#train = pd.read_csv(r\"featMatVersion3.csv\")\n",
        "\n",
        "#train = pd.read_csv(r\"featMatVersion4.csv\")\n",
        "#Same as original but no comunns 2 and 13\n",
        "\n",
        "\n",
        "#train = pd.read_csv(r\"featMatVersion5.csv\")\n",
        "#Same as version1 but no comunns 2 and 13\n",
        "\n",
        "\n",
        "#train = pd.read_csv(r\"featMatVersion6.csv\")\n",
        "#Same as version2 but no comunns 2 and 13\n",
        "\n",
        "\n",
        "#train = pd.read_csv(r\"featMatVersion7.csv\")\n",
        "#Same as version3 but no comunns 2 and 13\n",
        "\n",
        "\n",
        "\n",
        "\n",
        "\n",
        "#train = pd.read_csv(r\"featMatVersion8.csv\")\n",
        "#Same as version0 but only 2 users\n",
        "#has only 2 users\n",
        "#Uses 1 and 2\n",
        "#still sizable difference between users\n",
        "#need to find 2 users w\n",
        "\n",
        "\n",
        "\n",
        "\n",
        "\n",
        "\n",
        "#Find out how to randomize dataset\n",
        "\n",
        "#Version Orginal is the unmodified dataset from Eddie\n",
        "\n",
        "# This Version1 uses one authentic user with a class ID of 1\n",
        "# The rest have a class ID of 0\n",
        "\n",
        "#Version 2 has sessions 6 and 7 removed\n",
        "\n",
        "#Version 3 has sessions 6 and 7 removed and authentic user with class 1 and rest 0\n",
        "\n",
        "#clean up the negative values for interstroke?\n",
        "\n",
        "#compare only 2 people?\n",
        "\n",
        "#remove columns 2 and 13?\n",
        "\n",
        "#Make a second code for the ones with the removed columns\n",
        "\n",
        "#Too much data to clean up\n",
        "\n",
        "#Should try randomizing\n",
        "\n",
        "#upload the csv to google colab\n",
        "#for some reason need to do this each time\n",
        "#need to find a way to store and acces from drive\n",
        "\n",
        "#pd.read_csv('/My Drive/Collab Notebooks/featMatVersionOriginal.csv')\n",
        "\n",
        "#Try to get data from google drive instead of manually importing it\n",
        "\n",
        "#Maybe try removing sessions 6 and 7\n",
        "\n",
        "\n",
        "\n",
        "\n",
        "\n",
        "#Create a file that has only 2 users\n",
        "\n",
        "\n"
      ],
      "execution_count": 166,
      "outputs": [
        {
          "output_type": "stream",
          "text": [
            "['.config', 'featMatVersion0.csv', 'sample_data']\n"
          ],
          "name": "stdout"
        }
      ]
    },
    {
      "cell_type": "code",
      "metadata": {
        "id": "ea2c4gqwsQ_I",
        "colab": {
          "base_uri": "https://localhost:8080/",
          "height": 292
        },
        "outputId": "7f2d76e2-fad8-456d-f9da-4ac3bc3dce93"
      },
      "source": [
        "#print\n",
        "train.head()"
      ],
      "execution_count": 167,
      "outputs": [
        {
          "output_type": "execute_result",
          "data": {
            "text/html": [
              "<div>\n",
              "<style scoped>\n",
              "    .dataframe tbody tr th:only-of-type {\n",
              "        vertical-align: middle;\n",
              "    }\n",
              "\n",
              "    .dataframe tbody tr th {\n",
              "        vertical-align: top;\n",
              "    }\n",
              "\n",
              "    .dataframe thead th {\n",
              "        text-align: right;\n",
              "    }\n",
              "</style>\n",
              "<table border=\"1\" class=\"dataframe\">\n",
              "  <thead>\n",
              "    <tr style=\"text-align: right;\">\n",
              "      <th></th>\n",
              "      <th>User_ID</th>\n",
              "      <th>Doc_ID</th>\n",
              "      <th>Inter-Stroke time</th>\n",
              "      <th>Stroke Duration</th>\n",
              "      <th>Start X</th>\n",
              "      <th>Start Y</th>\n",
              "      <th>Stop X</th>\n",
              "      <th>Stop Y</th>\n",
              "      <th>Direct end-to-end Distance</th>\n",
              "      <th>Mean resulant length</th>\n",
              "      <th>WSAD Flag</th>\n",
              "      <th>Direction of end-to-end Time</th>\n",
              "      <th>Phone_ID</th>\n",
              "      <th>20 per pairwise velocity</th>\n",
              "      <th>50 per pairwise velocity</th>\n",
              "      <th>80 per pairwise velocity</th>\n",
              "      <th>20 per pairwise acc</th>\n",
              "      <th>50 per pairwise acc</th>\n",
              "      <th>80 per pairwise acc</th>\n",
              "      <th>Median velocity at last 3pts</th>\n",
              "      <th>Largest deviation from end-to-end line</th>\n",
              "      <th>20 per dev line</th>\n",
              "      <th>50 per dev line</th>\n",
              "      <th>80 per dev line</th>\n",
              "      <th>Average Direction</th>\n",
              "      <th>Length of Trajectory</th>\n",
              "      <th>Ratio dist and length of trajectory</th>\n",
              "      <th>Average velocity</th>\n",
              "      <th>Median acceleration at first 5 pts</th>\n",
              "      <th>Mid-Stroke pressure</th>\n",
              "      <th>Mid-Stroke area covered</th>\n",
              "      <th>Mid-Stroke finger orientation</th>\n",
              "      <th>Change of finger orientation</th>\n",
              "      <th>Phone orientation</th>\n",
              "    </tr>\n",
              "  </thead>\n",
              "  <tbody>\n",
              "    <tr>\n",
              "      <th>0</th>\n",
              "      <td>37</td>\n",
              "      <td>4</td>\n",
              "      <td>0.341</td>\n",
              "      <td>0.256</td>\n",
              "      <td>27.416</td>\n",
              "      <td>-27.113</td>\n",
              "      <td>12.3980</td>\n",
              "      <td>-32.960</td>\n",
              "      <td>16.1160</td>\n",
              "      <td>0.35736</td>\n",
              "      <td>4</td>\n",
              "      <td>-2.770400</td>\n",
              "      <td>1</td>\n",
              "      <td>0.41784</td>\n",
              "      <td>4.1784</td>\n",
              "      <td>2719.20</td>\n",
              "      <td>-604180.0</td>\n",
              "      <td>-432.24</td>\n",
              "      <td>603320.0</td>\n",
              "      <td>4.1784</td>\n",
              "      <td>0.17777</td>\n",
              "      <td>0.000000</td>\n",
              "      <td>0.00000</td>\n",
              "      <td>0.124440</td>\n",
              "      <td>-2.581200</td>\n",
              "      <td>16.1320</td>\n",
              "      <td>0.99898</td>\n",
              "      <td>63.018</td>\n",
              "      <td>-432.24</td>\n",
              "      <td>0.32</td>\n",
              "      <td>0.044444</td>\n",
              "      <td>0.0</td>\n",
              "      <td>0</td>\n",
              "      <td>1</td>\n",
              "    </tr>\n",
              "    <tr>\n",
              "      <th>1</th>\n",
              "      <td>37</td>\n",
              "      <td>4</td>\n",
              "      <td>0.913</td>\n",
              "      <td>0.086</td>\n",
              "      <td>21.771</td>\n",
              "      <td>-30.037</td>\n",
              "      <td>9.8778</td>\n",
              "      <td>-33.867</td>\n",
              "      <td>12.4950</td>\n",
              "      <td>0.26504</td>\n",
              "      <td>4</td>\n",
              "      <td>-2.830000</td>\n",
              "      <td>1</td>\n",
              "      <td>0.00000</td>\n",
              "      <td>156.7900</td>\n",
              "      <td>502.37</td>\n",
              "      <td>-26083.0</td>\n",
              "      <td>5117.70</td>\n",
              "      <td>116600.0</td>\n",
              "      <td>265.1400</td>\n",
              "      <td>0.78867</td>\n",
              "      <td>0.000000</td>\n",
              "      <td>0.00000</td>\n",
              "      <td>0.406210</td>\n",
              "      <td>-2.199400</td>\n",
              "      <td>12.5960</td>\n",
              "      <td>0.99197</td>\n",
              "      <td>146.470</td>\n",
              "      <td>5117.70</td>\n",
              "      <td>0.60</td>\n",
              "      <td>0.088889</td>\n",
              "      <td>0.0</td>\n",
              "      <td>0</td>\n",
              "      <td>1</td>\n",
              "    </tr>\n",
              "    <tr>\n",
              "      <th>2</th>\n",
              "      <td>37</td>\n",
              "      <td>4</td>\n",
              "      <td>0.733</td>\n",
              "      <td>0.111</td>\n",
              "      <td>10.886</td>\n",
              "      <td>-34.169</td>\n",
              "      <td>26.9120</td>\n",
              "      <td>-34.673</td>\n",
              "      <td>16.0340</td>\n",
              "      <td>0.99118</td>\n",
              "      <td>2</td>\n",
              "      <td>-0.031436</td>\n",
              "      <td>1</td>\n",
              "      <td>32.12200</td>\n",
              "      <td>143.8500</td>\n",
              "      <td>263.58</td>\n",
              "      <td>-52140.0</td>\n",
              "      <td>-3563.50</td>\n",
              "      <td>26382.0</td>\n",
              "      <td>188.8200</td>\n",
              "      <td>-1.06510</td>\n",
              "      <td>-0.802530</td>\n",
              "      <td>-0.11658</td>\n",
              "      <td>0.000000</td>\n",
              "      <td>0.086288</td>\n",
              "      <td>16.2030</td>\n",
              "      <td>0.98959</td>\n",
              "      <td>145.970</td>\n",
              "      <td>-3563.50</td>\n",
              "      <td>0.48</td>\n",
              "      <td>0.044444</td>\n",
              "      <td>0.0</td>\n",
              "      <td>0</td>\n",
              "      <td>1</td>\n",
              "    </tr>\n",
              "    <tr>\n",
              "      <th>3</th>\n",
              "      <td>37</td>\n",
              "      <td>4</td>\n",
              "      <td>0.448</td>\n",
              "      <td>0.094</td>\n",
              "      <td>19.151</td>\n",
              "      <td>-34.572</td>\n",
              "      <td>12.7000</td>\n",
              "      <td>-36.790</td>\n",
              "      <td>6.8213</td>\n",
              "      <td>0.59647</td>\n",
              "      <td>4</td>\n",
              "      <td>-2.810500</td>\n",
              "      <td>1</td>\n",
              "      <td>17.36000</td>\n",
              "      <td>76.6380</td>\n",
              "      <td>230.62</td>\n",
              "      <td>-10012.0</td>\n",
              "      <td>-4604.10</td>\n",
              "      <td>25874.0</td>\n",
              "      <td>95.8570</td>\n",
              "      <td>0.60170</td>\n",
              "      <td>0.000000</td>\n",
              "      <td>0.10128</td>\n",
              "      <td>0.570430</td>\n",
              "      <td>-2.723100</td>\n",
              "      <td>6.9674</td>\n",
              "      <td>0.97902</td>\n",
              "      <td>74.122</td>\n",
              "      <td>-4604.10</td>\n",
              "      <td>0.40</td>\n",
              "      <td>0.044444</td>\n",
              "      <td>0.0</td>\n",
              "      <td>0</td>\n",
              "      <td>1</td>\n",
              "    </tr>\n",
              "    <tr>\n",
              "      <th>4</th>\n",
              "      <td>37</td>\n",
              "      <td>4</td>\n",
              "      <td>0.519</td>\n",
              "      <td>0.056</td>\n",
              "      <td>27.718</td>\n",
              "      <td>-32.758</td>\n",
              "      <td>14.6150</td>\n",
              "      <td>-37.294</td>\n",
              "      <td>13.8660</td>\n",
              "      <td>0.67819</td>\n",
              "      <td>4</td>\n",
              "      <td>-2.808300</td>\n",
              "      <td>1</td>\n",
              "      <td>74.82100</td>\n",
              "      <td>275.5700</td>\n",
              "      <td>993.21</td>\n",
              "      <td>-126180.0</td>\n",
              "      <td>-21377.00</td>\n",
              "      <td>217040.0</td>\n",
              "      <td>244.6800</td>\n",
              "      <td>-0.10990</td>\n",
              "      <td>-0.096714</td>\n",
              "      <td>0.00000</td>\n",
              "      <td>0.001099</td>\n",
              "      <td>-2.717000</td>\n",
              "      <td>13.8710</td>\n",
              "      <td>0.99965</td>\n",
              "      <td>247.690</td>\n",
              "      <td>-21377.00</td>\n",
              "      <td>0.44</td>\n",
              "      <td>0.044444</td>\n",
              "      <td>0.0</td>\n",
              "      <td>0</td>\n",
              "      <td>1</td>\n",
              "    </tr>\n",
              "  </tbody>\n",
              "</table>\n",
              "</div>"
            ],
            "text/plain": [
              "   User_ID  Doc_ID  ...  Change of finger orientation  Phone orientation\n",
              "0       37       4  ...                             0                  1\n",
              "1       37       4  ...                             0                  1\n",
              "2       37       4  ...                             0                  1\n",
              "3       37       4  ...                             0                  1\n",
              "4       37       4  ...                             0                  1\n",
              "\n",
              "[5 rows x 34 columns]"
            ]
          },
          "metadata": {
            "tags": []
          },
          "execution_count": 167
        }
      ]
    },
    {
      "cell_type": "code",
      "metadata": {
        "id": "N_7dnDX4sQ_U",
        "colab": {
          "base_uri": "https://localhost:8080/"
        },
        "outputId": "79faa2d9-687c-40dd-f7c9-07f117733118"
      },
      "source": [
        "np.any(np.isnan(train))"
      ],
      "execution_count": 168,
      "outputs": [
        {
          "output_type": "execute_result",
          "data": {
            "text/plain": [
              "False"
            ]
          },
          "metadata": {
            "tags": []
          },
          "execution_count": 168
        }
      ]
    },
    {
      "cell_type": "code",
      "metadata": {
        "id": "iTCHhsEtsQ_m",
        "colab": {
          "base_uri": "https://localhost:8080/"
        },
        "outputId": "7680032c-0ea8-4673-e45b-ac36dbb09b2f"
      },
      "source": [
        "np.all(np.isfinite(train))"
      ],
      "execution_count": 169,
      "outputs": [
        {
          "output_type": "execute_result",
          "data": {
            "text/plain": [
              "True"
            ]
          },
          "metadata": {
            "tags": []
          },
          "execution_count": 169
        }
      ]
    },
    {
      "cell_type": "code",
      "metadata": {
        "id": "SEotZNcssQ_1",
        "colab": {
          "base_uri": "https://localhost:8080/"
        },
        "outputId": "7f52a9f7-9baf-4bd6-e3b3-3c6f677bf813"
      },
      "source": [
        "#print out the columns\n",
        "train.columns"
      ],
      "execution_count": 170,
      "outputs": [
        {
          "output_type": "execute_result",
          "data": {
            "text/plain": [
              "Index(['User_ID', 'Doc_ID', 'Inter-Stroke time', 'Stroke Duration', 'Start X',\n",
              "       'Start Y', 'Stop X', 'Stop Y', 'Direct end-to-end Distance',\n",
              "       'Mean resulant length', 'WSAD Flag', 'Direction of end-to-end Time',\n",
              "       'Phone_ID', '20 per pairwise velocity', '50 per pairwise velocity',\n",
              "       '80 per pairwise velocity', '20 per pairwise acc',\n",
              "       '50 per pairwise acc', '80 per pairwise acc',\n",
              "       'Median velocity at last 3pts',\n",
              "       'Largest deviation from end-to-end line', '20 per dev line',\n",
              "       '50 per dev line', '80 per dev line', 'Average Direction',\n",
              "       'Length of Trajectory', 'Ratio dist and length of trajectory',\n",
              "       'Average velocity', 'Median acceleration at first 5 pts',\n",
              "       'Mid-Stroke pressure', 'Mid-Stroke area covered',\n",
              "       'Mid-Stroke finger orientation', 'Change of finger orientation',\n",
              "       'Phone orientation'],\n",
              "      dtype='object')"
            ]
          },
          "metadata": {
            "tags": []
          },
          "execution_count": 170
        }
      ]
    },
    {
      "cell_type": "code",
      "metadata": {
        "id": "DfpEDfbasQ_4",
        "colab": {
          "base_uri": "https://localhost:8080/"
        },
        "outputId": "f3ba6e9f-b56c-4308-8560-0de30e3f4cf7"
      },
      "source": [
        "#prints the amount of users in 'User_ID'\n",
        "train['User_ID'].value_counts()"
      ],
      "execution_count": 171,
      "outputs": [
        {
          "output_type": "execute_result",
          "data": {
            "text/plain": [
              "2     1230\n",
              "35    1063\n",
              "23     969\n",
              "38     786\n",
              "3      759\n",
              "15     719\n",
              "33     712\n",
              "28     710\n",
              "17     706\n",
              "21     702\n",
              "14     651\n",
              "8      618\n",
              "34     613\n",
              "27     609\n",
              "7      591\n",
              "6      562\n",
              "36     500\n",
              "18     461\n",
              "9      453\n",
              "11     445\n",
              "29     439\n",
              "39     436\n",
              "24     435\n",
              "25     432\n",
              "37     424\n",
              "5      413\n",
              "1      401\n",
              "10     387\n",
              "16     382\n",
              "22     374\n",
              "31     370\n",
              "20     356\n",
              "12     342\n",
              "40     312\n",
              "13     305\n",
              "32     304\n",
              "19     293\n",
              "26     242\n",
              "4      241\n",
              "30     225\n",
              "41     186\n",
              "Name: User_ID, dtype: int64"
            ]
          },
          "metadata": {
            "tags": []
          },
          "execution_count": 171
        }
      ]
    },
    {
      "cell_type": "code",
      "metadata": {
        "id": "Uxa7-b7TsQ_8"
      },
      "source": [
        "#Choosing the columns for X\n",
        "#Not using 'User_ID', 'Doc_ID', or 'Phone_ID'\n",
        "X = train[['Inter-Stroke time', 'Stroke Duration', 'Start X', 'Start Y', 'Stop X', 'Stop Y', 'Direct end-to-end Distance',\n",
        "        'Mean resulant length', 'WSAD Flag', 'Direction of end-to-end Time', '20 per pairwise velocity', \n",
        "        '50 per pairwise velocity', '80 per pairwise velocity', '20 per pairwise acc', '50 per pairwise acc', \n",
        "        '80 per pairwise acc', 'Median velocity at last 3pts', 'Largest deviation from end-to-end line', '20 per dev line',\n",
        "        '50 per dev line', '80 per dev line', 'Average Direction', 'Length of Trajectory', \n",
        "        'Ratio dist and length of trajectory', 'Average velocity', 'Median acceleration at first 5 pts',\n",
        "        'Mid-Stroke pressure', 'Mid-Stroke area covered', 'Mid-Stroke finger orientation', 'Change of finger orientation',\n",
        "        'Phone orientation']].values"
      ],
      "execution_count": 172,
      "outputs": []
    },
    {
      "cell_type": "code",
      "metadata": {
        "id": "5beQNhkvsRAA"
      },
      "source": [
        "#Choosing the lables for y\n",
        "y = train['User_ID'].values"
      ],
      "execution_count": 173,
      "outputs": []
    },
    {
      "cell_type": "code",
      "metadata": {
        "id": "ui3CfitGsRAE"
      },
      "source": [
        "#Train and test split\n",
        "#80% train, 20% test\n",
        "#splitting the data into test and train dataset\n",
        "\n",
        "from sklearn.model_selection import train_test_split\n",
        "X_train, X_test, y_train, y_test = train_test_split(X, y, test_size=0.20)\n",
        "\n",
        "#should probably randomize data better"
      ],
      "execution_count": 174,
      "outputs": []
    },
    {
      "cell_type": "code",
      "metadata": {
        "id": "vprauDHCsRAG"
      },
      "source": [
        "#Feature Scaling\n",
        "from sklearn.preprocessing import StandardScaler\n",
        "scaler = StandardScaler()\n",
        "scaler.fit(X_train)\n",
        "\n",
        "X_train = scaler.transform(X_train)\n",
        "X_test = scaler.transform(X_test)"
      ],
      "execution_count": 175,
      "outputs": []
    },
    {
      "cell_type": "code",
      "metadata": {
        "id": "kLjdCUPPsRAI",
        "colab": {
          "base_uri": "https://localhost:8080/"
        },
        "outputId": "e5943bd9-6124-46af-c19e-fb739f2ed05c"
      },
      "source": [
        "#Training and Prediction\n",
        "from sklearn.neighbors import KNeighborsClassifier\n",
        "classifier = KNeighborsClassifier(n_neighbors=5)         #value for k\n",
        "classifier.fit(X_train, y_train)\n",
        "\n",
        "#Sometimes gets an error for no reason \n",
        "#Run again to fix\n",
        "\n",
        "#The k value is guessed at first and then changed depending on the data\n",
        "#5 is used by convention but is usually a guess\n",
        "#Might want to change to 7 as when I did for K values up to 100 7 seemed smaller\n",
        "#on the smaller graph though 5 seems to be the best answer\n",
        "#The graph fluctuates with each run\n",
        "# 6 and 5 seem to be good choices\n",
        "\n",
        "\n",
        "#For the 0 and 1 dataset the better k values are 4, 7 and 9\n",
        "#Might want to make 2 seperate files\n",
        "\n"
      ],
      "execution_count": 176,
      "outputs": [
        {
          "output_type": "execute_result",
          "data": {
            "text/plain": [
              "KNeighborsClassifier(algorithm='auto', leaf_size=30, metric='minkowski',\n",
              "                     metric_params=None, n_jobs=None, n_neighbors=5, p=2,\n",
              "                     weights='uniform')"
            ]
          },
          "metadata": {
            "tags": []
          },
          "execution_count": 176
        }
      ]
    },
    {
      "cell_type": "code",
      "metadata": {
        "id": "S4b_wAWWsRAL"
      },
      "source": [
        "#Make prediction on the test data\n",
        "y_pred = classifier.predict(X_test)"
      ],
      "execution_count": 177,
      "outputs": []
    },
    {
      "cell_type": "code",
      "metadata": {
        "id": "n3wPzHvLsRAN",
        "colab": {
          "base_uri": "https://localhost:8080/"
        },
        "outputId": "8c448eaf-8ebc-4062-ae06-ea905d479f97"
      },
      "source": [
        "#Evaluating the Algorithm\n",
        "from sklearn.metrics import classification_report, confusion_matrix\n",
        "print(confusion_matrix(y_test, y_pred))\n",
        "print(classification_report(y_test, y_pred))"
      ],
      "execution_count": 178,
      "outputs": [
        {
          "output_type": "stream",
          "text": [
            "[[ 62   0   0   3   0   0   5   1   0   0   0   0   0   0   0   0   0   0\n",
            "    0   1   0   1   1   0   0   0   1   3   0   1   0   0   0   2   0   1\n",
            "    0   1   0   0   1]\n",
            " [  0 202   0   0   0   0   0   0   4   0   0   0   0   0   3   0   0   0\n",
            "    0   0   0   1   5   0   1   0   0   4   0   0   0   0   1   0   0   0\n",
            "    0   3   0   1   0]\n",
            " [  0   2  71   0   3   5   0   2   1   3   6   3   1   1   0   1  18   1\n",
            "    1   1   2   0   0   0   0   0   2   0   0   0   0   0   1   1  11   0\n",
            "    2   1   1   1   0]\n",
            " [  0   0   0  33   0   0   1   0   0   0   0   1   0   0   1   0   0   0\n",
            "    0   1   0   0   0   0   1   1   0   1   0   0   0   0   1   0   0   0\n",
            "    0   1   0   0   0]\n",
            " [  1   0   7   0  51   2   0   7   7   1   0   1   0   0   0   0   1   0\n",
            "    4   0   1   0   2   1   0   0   1   1   0   1   0   3   0   0   1   0\n",
            "    3   0   0   3   0]\n",
            " [  0   2   4   1   1  69   0   3   0   1   2   0   1   1   0   7   2   1\n",
            "    0   0   2   0   0   0   0   1   2   0   0   0   0   0   0   1   5   1\n",
            "    0   1   0   0   0]\n",
            " [  6   9   1   0   0   0  67   0   1   0   0   0   3   0   2   0   0   0\n",
            "    0   0   0  12   0   2   0   0   0   5   0   1   0   0   0   2   0   0\n",
            "    0   4   1   0   0]\n",
            " [  1   6   5   0   5   4   0 107   2   0   0   3   0   1   0   1   1   0\n",
            "    0   0   0   0   0   0   0   0   3   0   0   0   1   0   0   0   0   0\n",
            "    2   0   0   3   0]\n",
            " [  0   0   0   0   3   0   0   2  74   0   0   0   0   0   0   0   0   0\n",
            "    1   0   0   0   3   0   0   0   1   0   0   0   0   1   0   0   0   0\n",
            "    1   0   0   4   0]\n",
            " [  0   0   4   0   0   1   1   0   0  38   4   0   1   0   0   4   2   0\n",
            "    1   0   6   0   0   0   2   0   1   0   0   0   0   0   0   0   4   0\n",
            "    0   1   0   1   0]\n",
            " [  0   0   3   0   0   2   0   1   0   2  65   0   0   0   0   2   1   1\n",
            "    1   0   3   0   0   0   0   0   2   0   0   0   0   0   0   0   2   0\n",
            "    1   0   0   0   0]\n",
            " [  0   0   1   0   3   0   1   6   0   0   0  61   0   1   0   1   0   0\n",
            "    0   0   0   0   0   0   0   0   0   0   0   0   0   1   0   0   0   0\n",
            "    0   1   0   1   0]\n",
            " [  0   0   1   0   3   3   0   6   0   1   2   0  23   0   0   5   1   0\n",
            "    1   1   1   0   0   1   1   0   2   0   0   0   0   1   0   0   3   0\n",
            "    1   0   0   0   0]\n",
            " [  0   0   0   0   1   0   0   1   0   0   0   0   0 101   0   0   0   0\n",
            "    1   0   0   0   4   0   0   0   1   0   4   0  10   0   2   0   0   0\n",
            "    0   0   0   0   0]\n",
            " [  0   2   0   0   0   0   1   2   1   0   0   0   0   4 102   0   0   0\n",
            "    0   0   0   1  23   1   0   0   0   1   2   0   1   0   0   0   0   3\n",
            "    0   0   0   0   0]\n",
            " [  0   0   6   0   2   1   0   1   0   3   8   0   0   1   0  35   2   2\n",
            "    4   0   2   0   0   0   1   0   1   0   1   0   0   0   0   0   3   0\n",
            "    0   0   0   1   0]\n",
            " [  0   0   7   0   1   6   1   4   0   3   1   0   6   0   1   8  98   0\n",
            "    3   0   1   0   0   0   0   0   0   0   0   0   0   1   0   0   9   0\n",
            "    1   0   0   0   0]\n",
            " [  0   0   4   0   0   4   0   0   0   0   0   0   0   0   0   2   6  67\n",
            "    2   0   5   0   0   1   0   0   1   0   0   0   0   0   0   0   6   0\n",
            "    0   0   1   1   0]\n",
            " [  1   0   4   0   6   3   0   0   0   3   1   0   0   0   0   1   2   0\n",
            "   41   0   0   0   0   0   1   0   1   0   0   0   0   0   0   0   1   0\n",
            "    1   0   0   0   0]\n",
            " [  1   4   0   0   0   1   2   0   0   0   0   0   0   0   0   0   0   0\n",
            "    0  48   0   0   0   1   1   1   0   6   0   0   0   0   0   0   0   1\n",
            "    0   1   5   0   0]\n",
            " [  0   1   5   0   1   2   0   1   0   4  15   2   1   0   0   1   4   1\n",
            "    0   0  95   0   0   0   0   0   2   0   0   0   0   0   0   0  10   0\n",
            "    0   0   0   0   0]\n",
            " [  3   1   0   2   0   0   8   1   0   0   0   0   0   1   1   0   0   0\n",
            "    0   3   0  42   0   1   0   1   0   1   0   0   0   0   0   1   0   0\n",
            "    0   1   3   0   0]\n",
            " [  0   1   0   1   1   0   2   0   1   0   0   0   0   3  20   0   1   0\n",
            "    0   0   0   0 140   0   0   0   0   1   0   0   0   0   0   0   0   1\n",
            "    0   1   1   0   0]\n",
            " [  1   4   0   3   1   0   1   3   0   0   0   1   0   0   1   0   1   1\n",
            "    0   1   0   2   5  54   0   0   0   2   0   0   1   0   0   1   0   0\n",
            "    1   5   0   0   0]\n",
            " [  1   4   1   1   0   1   1   0   1   0   0   0   0   0   1   0   0   0\n",
            "    0   5   1   2   0   0  46   3   0   2   0   1   0   0   1   1   2   0\n",
            "    0   5   0   0   1]\n",
            " [  0   2   0   0   1   0   7   0   0   0   0   0   0   0   2   0   0   0\n",
            "    0   0   0   0   0   0   1  20   0   2   0   3   0   0   0   1   1   0\n",
            "    1   0   4   0   0]\n",
            " [  0   1  10   0   4  13   0   7   2   2   3   0   1   0   1   2   3   0\n",
            "    2   0   1   1   1   0   0   0  50   1   0   0   0   0   0   0   5   0\n",
            "    0   0   0   0   0]\n",
            " [  9  22   1   1   2   1   2   1   1   0   0   0   0   0   1   0   0   0\n",
            "    1   6   1   1   0   6   1   1   0  83   0   0   0   0   1   1   1   0\n",
            "    0   4   3   0   0]\n",
            " [  0   0   0   1   0   0   0   0   0   0   0   1   0  19   0   0   0   0\n",
            "    0   0   0   0   2   0   0   0   0   0  41   0   3   0   3   0   0   1\n",
            "    0   0   0   0   0]\n",
            " [  0   0   0   2   2   1   5   0   1   1   1   0   1   0   0   1   0   0\n",
            "    0   0   0   4   0   0   0   1   0   3   0  23   0   0   0   0   0   0\n",
            "    0   2   0   0   0]\n",
            " [  1   0   0   0   1   2   0   1   1   0   0   0   0  18   2   0   0   0\n",
            "    0   0   0   0   1   0   0   0   0   0   2   0  42   0   2   0   0   1\n",
            "    0   0   0   0   0]\n",
            " [  1   0   2   0   4   1   0   1   2   0   0   1   0   0   0   0   1   0\n",
            "    2   0   2   0   1   0   0   0   0   0   0   0   0  54   0   0   0   0\n",
            "    1   0   0   0   0]\n",
            " [  1   3   0   1   3   2   3   2   1   0   0   0   2  20   2   0   1   0\n",
            "    0   1   0   0   3   1   0   0   0   1   8   0   7   0  75   0   0   4\n",
            "    1   0   1   0   0]\n",
            " [  3   3   0   0   0   0   0   0   0   0   0   0   0   0   0   0   0   0\n",
            "    0   0   0   0   0   0   0   0   0   0   0   0   0   0   0 122   0   0\n",
            "    0   5   1   0   0]\n",
            " [  0   0  11   1   4   6   0   1   0   3   2   0   1   0   1   4   4   1\n",
            "    2   0   6   0   0   0   0   0   4   0   0   0   0   0   1   0 150   0\n",
            "    3   0   0   0   0]\n",
            " [  0   4   0   0   3   0   0   2   3   0   0   0   1   5   4   0   0   0\n",
            "    0   0   0   0   8   2   0   0   0   4   5   0   0   0   1   0   0  57\n",
            "    0   4   0   0   0]\n",
            " [  0   1   3   0   2   1   0   3   0   0   0   3   0   1   0   3   1   0\n",
            "    1   0   0   1   1   0   0   0   2   0   0   0   0   1   0   0   7   0\n",
            "   65   1   0   3   0]\n",
            " [  1   2   2   0   0   0   1   0   1   1   0   0   0   0   0   0   0   0\n",
            "    0   1   0   3   9   4   2   3   2   2   0   3   0   0   0   2   2   0\n",
            "    0  95   4   0   0]\n",
            " [  1   9   0   0   0   0   0   0   1   0   2   0   3   0   4   0   0   0\n",
            "    0   6   0   3   2   1   0   0   1   0   0   4   0   1   1   0   4   0\n",
            "    0  13  50   1   0]\n",
            " [  0   0   1   0   1   4   0   8   5   0   0   1   2   0   0   0   0   0\n",
            "    1   0   0   0   0   0   0   0   1   0   0   0   0   0   0   0   1   0\n",
            "    2   0   0  31   0]\n",
            " [  0   2   0   1   0   0   0   0   0   0   0   0   0   0   0   0   1   0\n",
            "    0   2   0   0   0   2   4   0   0   0   0   0   0   0   0   0   0   0\n",
            "    0   0   0   0  25]]\n",
            "              precision    recall  f1-score   support\n",
            "\n",
            "           1       0.66      0.74      0.70        84\n",
            "           2       0.70      0.90      0.79       225\n",
            "           3       0.46      0.50      0.48       142\n",
            "           4       0.65      0.79      0.71        42\n",
            "           5       0.47      0.52      0.49        99\n",
            "           6       0.51      0.64      0.57       108\n",
            "           7       0.61      0.58      0.60       116\n",
            "           8       0.61      0.74      0.67       145\n",
            "           9       0.67      0.82      0.74        90\n",
            "          10       0.58      0.54      0.55        71\n",
            "          11       0.58      0.76      0.66        86\n",
            "          12       0.78      0.79      0.79        77\n",
            "          13       0.49      0.40      0.44        57\n",
            "          14       0.57      0.81      0.67       125\n",
            "          15       0.68      0.71      0.70       144\n",
            "          16       0.45      0.47      0.46        74\n",
            "          17       0.65      0.65      0.65       151\n",
            "          18       0.89      0.67      0.77       100\n",
            "          19       0.59      0.62      0.61        66\n",
            "          20       0.62      0.67      0.64        72\n",
            "          21       0.74      0.66      0.69       145\n",
            "          22       0.57      0.60      0.58        70\n",
            "          23       0.66      0.80      0.73       174\n",
            "          24       0.69      0.61      0.65        89\n",
            "          25       0.74      0.57      0.64        81\n",
            "          26       0.62      0.44      0.52        45\n",
            "          27       0.62      0.45      0.52       110\n",
            "          28       0.67      0.55      0.61       151\n",
            "          29       0.65      0.58      0.61        71\n",
            "          30       0.62      0.48      0.54        48\n",
            "          31       0.65      0.57      0.60        74\n",
            "          32       0.86      0.74      0.79        73\n",
            "          33       0.83      0.52      0.64       143\n",
            "          34       0.90      0.91      0.91       134\n",
            "          35       0.66      0.73      0.69       205\n",
            "          36       0.81      0.55      0.66       103\n",
            "          37       0.76      0.65      0.70       100\n",
            "          38       0.63      0.68      0.66       140\n",
            "          39       0.67      0.47      0.55       107\n",
            "          40       0.61      0.53      0.57        58\n",
            "          41       0.93      0.68      0.78        37\n",
            "\n",
            "    accuracy                           0.66      4232\n",
            "   macro avg       0.66      0.64      0.64      4232\n",
            "weighted avg       0.67      0.66      0.65      4232\n",
            "\n"
          ],
          "name": "stdout"
        }
      ]
    },
    {
      "cell_type": "code",
      "metadata": {
        "id": "AfTYQwOosRAP",
        "colab": {
          "base_uri": "https://localhost:8080/"
        },
        "outputId": "1152cc81-d246-467e-a3ca-93549f65016a"
      },
      "source": [
        "#prints the entire confusion matrix\n",
        "#however, it doesnn't fit the entire row and loops around\n",
        "np.set_printoptions(threshold=sys.maxsize)\n",
        "resultCM = (confusion_matrix(y_test, y_pred))\n",
        "print(resultCM)"
      ],
      "execution_count": 179,
      "outputs": [
        {
          "output_type": "stream",
          "text": [
            "[[ 62   0   0   3   0   0   5   1   0   0   0   0   0   0   0   0   0   0\n",
            "    0   1   0   1   1   0   0   0   1   3   0   1   0   0   0   2   0   1\n",
            "    0   1   0   0   1]\n",
            " [  0 202   0   0   0   0   0   0   4   0   0   0   0   0   3   0   0   0\n",
            "    0   0   0   1   5   0   1   0   0   4   0   0   0   0   1   0   0   0\n",
            "    0   3   0   1   0]\n",
            " [  0   2  71   0   3   5   0   2   1   3   6   3   1   1   0   1  18   1\n",
            "    1   1   2   0   0   0   0   0   2   0   0   0   0   0   1   1  11   0\n",
            "    2   1   1   1   0]\n",
            " [  0   0   0  33   0   0   1   0   0   0   0   1   0   0   1   0   0   0\n",
            "    0   1   0   0   0   0   1   1   0   1   0   0   0   0   1   0   0   0\n",
            "    0   1   0   0   0]\n",
            " [  1   0   7   0  51   2   0   7   7   1   0   1   0   0   0   0   1   0\n",
            "    4   0   1   0   2   1   0   0   1   1   0   1   0   3   0   0   1   0\n",
            "    3   0   0   3   0]\n",
            " [  0   2   4   1   1  69   0   3   0   1   2   0   1   1   0   7   2   1\n",
            "    0   0   2   0   0   0   0   1   2   0   0   0   0   0   0   1   5   1\n",
            "    0   1   0   0   0]\n",
            " [  6   9   1   0   0   0  67   0   1   0   0   0   3   0   2   0   0   0\n",
            "    0   0   0  12   0   2   0   0   0   5   0   1   0   0   0   2   0   0\n",
            "    0   4   1   0   0]\n",
            " [  1   6   5   0   5   4   0 107   2   0   0   3   0   1   0   1   1   0\n",
            "    0   0   0   0   0   0   0   0   3   0   0   0   1   0   0   0   0   0\n",
            "    2   0   0   3   0]\n",
            " [  0   0   0   0   3   0   0   2  74   0   0   0   0   0   0   0   0   0\n",
            "    1   0   0   0   3   0   0   0   1   0   0   0   0   1   0   0   0   0\n",
            "    1   0   0   4   0]\n",
            " [  0   0   4   0   0   1   1   0   0  38   4   0   1   0   0   4   2   0\n",
            "    1   0   6   0   0   0   2   0   1   0   0   0   0   0   0   0   4   0\n",
            "    0   1   0   1   0]\n",
            " [  0   0   3   0   0   2   0   1   0   2  65   0   0   0   0   2   1   1\n",
            "    1   0   3   0   0   0   0   0   2   0   0   0   0   0   0   0   2   0\n",
            "    1   0   0   0   0]\n",
            " [  0   0   1   0   3   0   1   6   0   0   0  61   0   1   0   1   0   0\n",
            "    0   0   0   0   0   0   0   0   0   0   0   0   0   1   0   0   0   0\n",
            "    0   1   0   1   0]\n",
            " [  0   0   1   0   3   3   0   6   0   1   2   0  23   0   0   5   1   0\n",
            "    1   1   1   0   0   1   1   0   2   0   0   0   0   1   0   0   3   0\n",
            "    1   0   0   0   0]\n",
            " [  0   0   0   0   1   0   0   1   0   0   0   0   0 101   0   0   0   0\n",
            "    1   0   0   0   4   0   0   0   1   0   4   0  10   0   2   0   0   0\n",
            "    0   0   0   0   0]\n",
            " [  0   2   0   0   0   0   1   2   1   0   0   0   0   4 102   0   0   0\n",
            "    0   0   0   1  23   1   0   0   0   1   2   0   1   0   0   0   0   3\n",
            "    0   0   0   0   0]\n",
            " [  0   0   6   0   2   1   0   1   0   3   8   0   0   1   0  35   2   2\n",
            "    4   0   2   0   0   0   1   0   1   0   1   0   0   0   0   0   3   0\n",
            "    0   0   0   1   0]\n",
            " [  0   0   7   0   1   6   1   4   0   3   1   0   6   0   1   8  98   0\n",
            "    3   0   1   0   0   0   0   0   0   0   0   0   0   1   0   0   9   0\n",
            "    1   0   0   0   0]\n",
            " [  0   0   4   0   0   4   0   0   0   0   0   0   0   0   0   2   6  67\n",
            "    2   0   5   0   0   1   0   0   1   0   0   0   0   0   0   0   6   0\n",
            "    0   0   1   1   0]\n",
            " [  1   0   4   0   6   3   0   0   0   3   1   0   0   0   0   1   2   0\n",
            "   41   0   0   0   0   0   1   0   1   0   0   0   0   0   0   0   1   0\n",
            "    1   0   0   0   0]\n",
            " [  1   4   0   0   0   1   2   0   0   0   0   0   0   0   0   0   0   0\n",
            "    0  48   0   0   0   1   1   1   0   6   0   0   0   0   0   0   0   1\n",
            "    0   1   5   0   0]\n",
            " [  0   1   5   0   1   2   0   1   0   4  15   2   1   0   0   1   4   1\n",
            "    0   0  95   0   0   0   0   0   2   0   0   0   0   0   0   0  10   0\n",
            "    0   0   0   0   0]\n",
            " [  3   1   0   2   0   0   8   1   0   0   0   0   0   1   1   0   0   0\n",
            "    0   3   0  42   0   1   0   1   0   1   0   0   0   0   0   1   0   0\n",
            "    0   1   3   0   0]\n",
            " [  0   1   0   1   1   0   2   0   1   0   0   0   0   3  20   0   1   0\n",
            "    0   0   0   0 140   0   0   0   0   1   0   0   0   0   0   0   0   1\n",
            "    0   1   1   0   0]\n",
            " [  1   4   0   3   1   0   1   3   0   0   0   1   0   0   1   0   1   1\n",
            "    0   1   0   2   5  54   0   0   0   2   0   0   1   0   0   1   0   0\n",
            "    1   5   0   0   0]\n",
            " [  1   4   1   1   0   1   1   0   1   0   0   0   0   0   1   0   0   0\n",
            "    0   5   1   2   0   0  46   3   0   2   0   1   0   0   1   1   2   0\n",
            "    0   5   0   0   1]\n",
            " [  0   2   0   0   1   0   7   0   0   0   0   0   0   0   2   0   0   0\n",
            "    0   0   0   0   0   0   1  20   0   2   0   3   0   0   0   1   1   0\n",
            "    1   0   4   0   0]\n",
            " [  0   1  10   0   4  13   0   7   2   2   3   0   1   0   1   2   3   0\n",
            "    2   0   1   1   1   0   0   0  50   1   0   0   0   0   0   0   5   0\n",
            "    0   0   0   0   0]\n",
            " [  9  22   1   1   2   1   2   1   1   0   0   0   0   0   1   0   0   0\n",
            "    1   6   1   1   0   6   1   1   0  83   0   0   0   0   1   1   1   0\n",
            "    0   4   3   0   0]\n",
            " [  0   0   0   1   0   0   0   0   0   0   0   1   0  19   0   0   0   0\n",
            "    0   0   0   0   2   0   0   0   0   0  41   0   3   0   3   0   0   1\n",
            "    0   0   0   0   0]\n",
            " [  0   0   0   2   2   1   5   0   1   1   1   0   1   0   0   1   0   0\n",
            "    0   0   0   4   0   0   0   1   0   3   0  23   0   0   0   0   0   0\n",
            "    0   2   0   0   0]\n",
            " [  1   0   0   0   1   2   0   1   1   0   0   0   0  18   2   0   0   0\n",
            "    0   0   0   0   1   0   0   0   0   0   2   0  42   0   2   0   0   1\n",
            "    0   0   0   0   0]\n",
            " [  1   0   2   0   4   1   0   1   2   0   0   1   0   0   0   0   1   0\n",
            "    2   0   2   0   1   0   0   0   0   0   0   0   0  54   0   0   0   0\n",
            "    1   0   0   0   0]\n",
            " [  1   3   0   1   3   2   3   2   1   0   0   0   2  20   2   0   1   0\n",
            "    0   1   0   0   3   1   0   0   0   1   8   0   7   0  75   0   0   4\n",
            "    1   0   1   0   0]\n",
            " [  3   3   0   0   0   0   0   0   0   0   0   0   0   0   0   0   0   0\n",
            "    0   0   0   0   0   0   0   0   0   0   0   0   0   0   0 122   0   0\n",
            "    0   5   1   0   0]\n",
            " [  0   0  11   1   4   6   0   1   0   3   2   0   1   0   1   4   4   1\n",
            "    2   0   6   0   0   0   0   0   4   0   0   0   0   0   1   0 150   0\n",
            "    3   0   0   0   0]\n",
            " [  0   4   0   0   3   0   0   2   3   0   0   0   1   5   4   0   0   0\n",
            "    0   0   0   0   8   2   0   0   0   4   5   0   0   0   1   0   0  57\n",
            "    0   4   0   0   0]\n",
            " [  0   1   3   0   2   1   0   3   0   0   0   3   0   1   0   3   1   0\n",
            "    1   0   0   1   1   0   0   0   2   0   0   0   0   1   0   0   7   0\n",
            "   65   1   0   3   0]\n",
            " [  1   2   2   0   0   0   1   0   1   1   0   0   0   0   0   0   0   0\n",
            "    0   1   0   3   9   4   2   3   2   2   0   3   0   0   0   2   2   0\n",
            "    0  95   4   0   0]\n",
            " [  1   9   0   0   0   0   0   0   1   0   2   0   3   0   4   0   0   0\n",
            "    0   6   0   3   2   1   0   0   1   0   0   4   0   1   1   0   4   0\n",
            "    0  13  50   1   0]\n",
            " [  0   0   1   0   1   4   0   8   5   0   0   1   2   0   0   0   0   0\n",
            "    1   0   0   0   0   0   0   0   1   0   0   0   0   0   0   0   1   0\n",
            "    2   0   0  31   0]\n",
            " [  0   2   0   1   0   0   0   0   0   0   0   0   0   0   0   0   1   0\n",
            "    0   2   0   0   0   2   4   0   0   0   0   0   0   0   0   0   0   0\n",
            "    0   0   0   0  25]]\n"
          ],
          "name": "stdout"
        }
      ]
    },
    {
      "cell_type": "code",
      "metadata": {
        "id": "TR-wa43BsRAS",
        "colab": {
          "base_uri": "https://localhost:8080/"
        },
        "outputId": "beb5ea97-4dbc-49df-e8a2-fb16b2d6bb8c"
      },
      "source": [
        "resultCR = (classification_report(y_test, y_pred))\n",
        "print(resultCR)"
      ],
      "execution_count": 180,
      "outputs": [
        {
          "output_type": "stream",
          "text": [
            "              precision    recall  f1-score   support\n",
            "\n",
            "           1       0.66      0.74      0.70        84\n",
            "           2       0.70      0.90      0.79       225\n",
            "           3       0.46      0.50      0.48       142\n",
            "           4       0.65      0.79      0.71        42\n",
            "           5       0.47      0.52      0.49        99\n",
            "           6       0.51      0.64      0.57       108\n",
            "           7       0.61      0.58      0.60       116\n",
            "           8       0.61      0.74      0.67       145\n",
            "           9       0.67      0.82      0.74        90\n",
            "          10       0.58      0.54      0.55        71\n",
            "          11       0.58      0.76      0.66        86\n",
            "          12       0.78      0.79      0.79        77\n",
            "          13       0.49      0.40      0.44        57\n",
            "          14       0.57      0.81      0.67       125\n",
            "          15       0.68      0.71      0.70       144\n",
            "          16       0.45      0.47      0.46        74\n",
            "          17       0.65      0.65      0.65       151\n",
            "          18       0.89      0.67      0.77       100\n",
            "          19       0.59      0.62      0.61        66\n",
            "          20       0.62      0.67      0.64        72\n",
            "          21       0.74      0.66      0.69       145\n",
            "          22       0.57      0.60      0.58        70\n",
            "          23       0.66      0.80      0.73       174\n",
            "          24       0.69      0.61      0.65        89\n",
            "          25       0.74      0.57      0.64        81\n",
            "          26       0.62      0.44      0.52        45\n",
            "          27       0.62      0.45      0.52       110\n",
            "          28       0.67      0.55      0.61       151\n",
            "          29       0.65      0.58      0.61        71\n",
            "          30       0.62      0.48      0.54        48\n",
            "          31       0.65      0.57      0.60        74\n",
            "          32       0.86      0.74      0.79        73\n",
            "          33       0.83      0.52      0.64       143\n",
            "          34       0.90      0.91      0.91       134\n",
            "          35       0.66      0.73      0.69       205\n",
            "          36       0.81      0.55      0.66       103\n",
            "          37       0.76      0.65      0.70       100\n",
            "          38       0.63      0.68      0.66       140\n",
            "          39       0.67      0.47      0.55       107\n",
            "          40       0.61      0.53      0.57        58\n",
            "          41       0.93      0.68      0.78        37\n",
            "\n",
            "    accuracy                           0.66      4232\n",
            "   macro avg       0.66      0.64      0.64      4232\n",
            "weighted avg       0.67      0.66      0.65      4232\n",
            "\n"
          ],
          "name": "stdout"
        }
      ]
    },
    {
      "cell_type": "code",
      "metadata": {
        "id": "OLX_hpdCuiOL"
      },
      "source": [
        "# all parameters not specified are set to their defaults\n",
        "logisticRegr = LogisticRegression()"
      ],
      "execution_count": 181,
      "outputs": []
    },
    {
      "cell_type": "code",
      "metadata": {
        "id": "vFPRZBY-umir",
        "colab": {
          "base_uri": "https://localhost:8080/"
        },
        "outputId": "a64823f0-8742-494b-a5f2-bb6b7c1bc43b"
      },
      "source": [
        "logisticRegr.fit(X_train, y_train)"
      ],
      "execution_count": 182,
      "outputs": [
        {
          "output_type": "stream",
          "text": [
            "/usr/local/lib/python3.6/dist-packages/sklearn/linear_model/_logistic.py:940: ConvergenceWarning: lbfgs failed to converge (status=1):\n",
            "STOP: TOTAL NO. of ITERATIONS REACHED LIMIT.\n",
            "\n",
            "Increase the number of iterations (max_iter) or scale the data as shown in:\n",
            "    https://scikit-learn.org/stable/modules/preprocessing.html\n",
            "Please also refer to the documentation for alternative solver options:\n",
            "    https://scikit-learn.org/stable/modules/linear_model.html#logistic-regression\n",
            "  extra_warning_msg=_LOGISTIC_SOLVER_CONVERGENCE_MSG)\n"
          ],
          "name": "stderr"
        },
        {
          "output_type": "execute_result",
          "data": {
            "text/plain": [
              "LogisticRegression(C=1.0, class_weight=None, dual=False, fit_intercept=True,\n",
              "                   intercept_scaling=1, l1_ratio=None, max_iter=100,\n",
              "                   multi_class='auto', n_jobs=None, penalty='l2',\n",
              "                   random_state=None, solver='lbfgs', tol=0.0001, verbose=0,\n",
              "                   warm_start=False)"
            ]
          },
          "metadata": {
            "tags": []
          },
          "execution_count": 182
        }
      ]
    },
    {
      "cell_type": "code",
      "metadata": {
        "id": "sWq3z1jtuuJ6",
        "colab": {
          "base_uri": "https://localhost:8080/"
        },
        "outputId": "2a1d2cd6-f5fc-4bfc-8e76-af90f859f9d7"
      },
      "source": [
        "# Returns a NumPy Array\n",
        "# Predict for One Observation (image)\n",
        "logisticRegr.predict(X_test[0].reshape(1,-1))"
      ],
      "execution_count": 183,
      "outputs": [
        {
          "output_type": "execute_result",
          "data": {
            "text/plain": [
              "array([21])"
            ]
          },
          "metadata": {
            "tags": []
          },
          "execution_count": 183
        }
      ]
    },
    {
      "cell_type": "code",
      "metadata": {
        "id": "8AhBvTIDvegm",
        "colab": {
          "base_uri": "https://localhost:8080/"
        },
        "outputId": "1242b615-3b7b-457b-d6b7-cc46177672e6"
      },
      "source": [
        "logisticRegr.predict(X_test[0:10])"
      ],
      "execution_count": 184,
      "outputs": [
        {
          "output_type": "execute_result",
          "data": {
            "text/plain": [
              "array([21, 35, 14,  9, 40,  7, 26, 34, 32, 23])"
            ]
          },
          "metadata": {
            "tags": []
          },
          "execution_count": 184
        }
      ]
    },
    {
      "cell_type": "code",
      "metadata": {
        "id": "derkWsE_vlKR"
      },
      "source": [
        "predictions = logisticRegr.predict(X_test)"
      ],
      "execution_count": 185,
      "outputs": []
    },
    {
      "cell_type": "code",
      "metadata": {
        "id": "gPEUOg_3vrVA",
        "colab": {
          "base_uri": "https://localhost:8080/"
        },
        "outputId": "97707f26-5432-46c2-b532-bde787aa3ece"
      },
      "source": [
        "# Use score method to get accuracy of model\n",
        "score = logisticRegr.score(X_test, y_test)\n",
        "print(score)"
      ],
      "execution_count": 186,
      "outputs": [
        {
          "output_type": "stream",
          "text": [
            "0.4945652173913043\n"
          ],
          "name": "stdout"
        }
      ]
    },
    {
      "cell_type": "code",
      "metadata": {
        "id": "lHVNc64-vvws",
        "colab": {
          "base_uri": "https://localhost:8080/"
        },
        "outputId": "96babc13-89e5-4c31-cd26-0c2fe7e4a9be"
      },
      "source": [
        "cm = metrics.confusion_matrix(y_test, predictions)\n",
        "print(cm)"
      ],
      "execution_count": 187,
      "outputs": [
        {
          "output_type": "stream",
          "text": [
            "[[ 55   0   0   2   0   0  11   0   0   0   0   0   0   0   0   0   0   0\n",
            "    0   0   0   3   0   2   1   1   0   4   0   0   0   0   0   0   0   0\n",
            "    0   2   1   0   2]\n",
            " [  0 171   0   0   0   1   2   0   3   0   0   0   0   0   4   0   0   0\n",
            "    0   0   0   2   2   6   2   1   1   9   0   0   0   0   0   9   0   1\n",
            "    1   4   6   0   0]\n",
            " [  0   0  28   0   4   4   0   1   0   8   7   9   0   0   0   1  29   1\n",
            "    1   0   7   0   0   0   0   0   3   0   0   1   0   0   0   0  34   0\n",
            "    1   1   0   2   0]\n",
            " [  1   2   0  19   0   0   0   0   0   0   0   0   0   0   0   0   0   0\n",
            "    0   1   0   1   1   2   3   1   0   6   0   0   0   0   0   1   0   0\n",
            "    0   0   1   0   3]\n",
            " [  0   0   1   1  33   2   0  25   7   1   0   4   1   0   0   3   1   1\n",
            "    7   0   0   0   0   0   0   0   0   0   0   0   0   4   0   0   4   1\n",
            "    1   0   0   2   0]\n",
            " [  0   0   3   0   4  23   0  12   1   0   0   4   1   0   2  10   1  10\n",
            "    2   0   7   0   0   0   0   0   8   0   0   0   1   0   0   0  15   1\n",
            "    3   0   0   0   0]\n",
            " [ 14   5   0   0   0   0  64   0   0   0   0   0   0   0   0   0   0   0\n",
            "    0   0   0   6   1   2   2   2   0   5   0   2   0   0   0   9   0   0\n",
            "    0   2   1   0   1]\n",
            " [  0   5   0   0   4   3   0  92   2   1   0   3   2   0   0   3   3   0\n",
            "    1   0   1   0   0   0   0   0   5   0   0   0   0   3   0   0   3   2\n",
            "    2   0   0  10   0]\n",
            " [  0   1   0   0   3   0   0   5  74   0   0   0   0   0   0   0   0   0\n",
            "    0   0   0   0   4   0   0   0   1   0   0   0   0   1   0   0   0   0\n",
            "    1   0   0   0   0]\n",
            " [  0   0   8   0   0   0   0   0   0  25   8   2   0   0   0   3   5   0\n",
            "    1   0   6   0   0   0   0   0   3   0   1   0   0   0   0   0   6   0\n",
            "    0   1   0   2   0]\n",
            " [  0   0   3   0   0   1   0   0   0   3  49   1   0   0   0   3   3   6\n",
            "    3   0  10   0   0   0   0   0   1   0   0   0   0   0   0   0   2   0\n",
            "    1   0   0   0   0]\n",
            " [  0   0   0   0   1   8   0   0   1   0   0  55   0   0   1   0   2   0\n",
            "    0   0   0   0   0   0   0   0   0   0   0   0   0   1   0   0   1   0\n",
            "    0   0   1   6   0]\n",
            " [  0   1   1   0   3   4   0   9   0   3   0   2   3   0   1   1   7   0\n",
            "    1   0   0   0   0   0   1   0   4   0   0   0   0   3   0   0   3   1\n",
            "    7   0   1   1   0]\n",
            " [  0   0   0   0   0   0   0   0   0   0   0   0   0  86   1   0   0   0\n",
            "    0   0   0   0   2   0   0   0   0   0  15   0   6   0  11   0   0   4\n",
            "    0   0   0   0   0]\n",
            " [  0   1   0   0   0   0   0   0   0   0   0   1   0   1  80   0   0   0\n",
            "    0   0   0   0  49   1   0   0   0   0   2   0   2   0   2   0   0   5\n",
            "    0   0   0   0   0]\n",
            " [  0   0   6   0   1   6   0   2   0   0   8   1   1   0   0  20   2   1\n",
            "    5   0   1   0   0   0   0   0   6   0   0   0   0   3   0   0   4   0\n",
            "    4   0   0   3   0]\n",
            " [  0   1  12   0   0   4   0   3   0   4   1   0   0   0   0   6  54   5\n",
            "    2   0   5   0   0   0   0   0  11   0   0   0   0   1   0   0  39   0\n",
            "    1   0   0   2   0]\n",
            " [  0   0   1   0   0   2   0   0   0   1  13   0   0   0   0   4   7  50\n",
            "    3   0  15   0   0   0   0   0   1   0   0   0   0   0   1   0   2   0\n",
            "    0   0   0   0   0]\n",
            " [  0   0   2   0   3   1   0   1   0   4   3   4   0   0   0   2   1   7\n",
            "   26   0   2   0   0   0   0   0   0   0   0   0   0   4   0   0   2   0\n",
            "    1   0   0   3   0]\n",
            " [  0   8   0   1   0   0   3   0   0   0   0   0   0   0   1   0   0   0\n",
            "    0  34   0   3   0   0   2   0   0   4   0   0   0   0   0   0   0   0\n",
            "    0   4   9   0   3]\n",
            " [  0   0   8   0   1   1   0   0   0   2  10   1   0   0   0   0  10  11\n",
            "    2   0  78   0   0   0   0   0   1   0   0   0   0   1   0   0  17   0\n",
            "    1   1   0   0   0]\n",
            " [  6   0   0   3   0   0   4   0   0   0   0   0   0   0   0   0   0   0\n",
            "    0   2   0  38   0   0   1   6   0   4   0   0   0   0   0   4   0   0\n",
            "    1   1   0   0   0]\n",
            " [  0   0   0   0   0   0   0   2   1   0   0   0   0   1  21   0   0   0\n",
            "    0   0   0   0 143   0   0   0   0   0   1   0   0   0   0   0   0   4\n",
            "    0   0   1   0   0]\n",
            " [  0  11   1   2   0   0   3   1   1   0   0   0   0   0   1   0   0   0\n",
            "    0   2   0   3   5  23   1   1   0   9   0   1   0   0   0   8   0   0\n",
            "    0  11   5   0   0]\n",
            " [  0   6   0   1   0   1   3   1   0   0   0   0   0   0   0   0   0   0\n",
            "    0   7   0   0   1   1  17   3   0   2   0   0   0   1   1   6   0   2\n",
            "    1  22   1   1   3]\n",
            " [  2   1   0   1   0   0   9   0   1   0   0   0   0   0   0   0   0   0\n",
            "    0   0   0   3   0   0   2  17   0   0   0   0   0   0   0   3   0   0\n",
            "    0   4   2   0   0]\n",
            " [  0   0   6   0   1  11   0  10   1   2   5   0   0   0   0   2   2   1\n",
            "    2   0   9   0   0   0   1   0  28   0   0   0   0   2   0   0  26   0\n",
            "    1   0   0   0   0]\n",
            " [ 13  31   0   1   0   2  19   1   1   0   0   0   0   0   1   0   0   0\n",
            "    0   5   0   2   0   2   0   0   0  63   0   0   0   0   0   4   1   0\n",
            "    0   3   2   0   0]\n",
            " [  0   0   0   0   0   0   0   0   0   0   0   0   0  25   0   0   0   0\n",
            "    0   0   0   0   0   0   0   0   0   0  31   0   1   0  14   0   0   0\n",
            "    0   0   0   0   0]\n",
            " [  3   2   0   4   0   0   2   0   1   0   0   0   0   0   0   0   0   0\n",
            "    0   0   0   4   0   1   4   6   0   1   0   8   0   0   0   4   0   0\n",
            "    0   0   7   1   0]\n",
            " [  0   0   0   0   0   0   0   0   0   0   0   0   0  30   0   0   0   0\n",
            "    0   0   0   0   3   0   0   0   0   0  10   0  21   0  10   0   0   0\n",
            "    0   0   0   0   0]\n",
            " [  0   0   3   0   2   1   0   1   0   0   0   4   0   0   0   0   3   0\n",
            "    2   0   0   0   0   0   0   0   0   0   0   0   0  52   0   0   0   0\n",
            "    1   0   0   4   0]\n",
            " [  0   0   0   0   0   0   0   0   1   0   0   0   0  16   1   0   0   0\n",
            "    0   0   0   0   4   0   0   0   0   0  13   0   5   0 100   0   0   3\n",
            "    0   0   0   0   0]\n",
            " [  0   1   0   1   0   0   3   0   0   0   0   0   0   0   0   0   0   0\n",
            "    0   1   0   1   0   0   0   0   0   1   0   0   0   0   0 114   0   1\n",
            "    0   9   1   0   1]\n",
            " [  0   1  17   1   4   2   0   1   0   1   8   0   0   0   0   5  13   3\n",
            "    3   0   9   0   0   0   0   0   3   0   0   0   0   0   1   0 122   0\n",
            "   10   0   0   1   0]\n",
            " [  0   1   0   0   0   0   0   0   1   0   0   0   0   3   5   0   0   0\n",
            "    0   0   0   0  31   1   0   0   0   0   6   0   0   0   3   0   0  50\n",
            "    0   1   0   1   0]\n",
            " [  0   3   6   0   2   6   0   3   8   0   0   4   3   0   0   1   9   1\n",
            "    1   0   0   1   0   0   0   1   0   0   0   0   0   5   0   0  12   0\n",
            "   19   1   3  11   0]\n",
            " [  0   9   0   0   0   1   9   0   0   0   0   0   0   0   2   0   0   0\n",
            "    0   4   0   1   7   4   4   0   0   5   0   1   0   0   0  15   0   0\n",
            "    0  73   4   1   0]\n",
            " [  1   9   0   0   3   1   2   0   1   0   0   0   1   0   3   0   0   0\n",
            "    0  13   0   2   4   1   1   2   0   4   0   2   0   0   0   1   1   3\n",
            "    0  23  28   0   1]\n",
            " [  0   0   0   0   2   0   0  22   7   7   0   1   0   0   0   0   0   0\n",
            "    0   0   0   0   0   0   0   0   0   0   0   0   0   1   0   0   2   0\n",
            "    1   0   0  15   0]\n",
            " [  0   1   0   9   0   1   0   0   0   0   0   0   0   0   0   0   0   0\n",
            "    0   0   0   0   0   1   4   0   0   2   0   0   0   0   0   5   0   1\n",
            "    0   1   0   0  12]]\n"
          ],
          "name": "stdout"
        }
      ]
    },
    {
      "cell_type": "code",
      "metadata": {
        "id": "_2FbDXtSwBRB",
        "colab": {
          "base_uri": "https://localhost:8080/",
          "height": 526
        },
        "outputId": "c32c3556-d4d4-4016-8815-baa45f5a6266"
      },
      "source": [
        "plt.figure(figsize=(9,9))\n",
        "sns.heatmap(cm, annot=True, fmt=\".3f\", linewidths=.5, square = True, cmap = 'Blues_r');\n",
        "plt.ylabel('Actual label');\n",
        "plt.xlabel('Predicted label');\n",
        "all_sample_title = 'Accuracy Score: {0}'.format(score)\n",
        "plt.title(all_sample_title, size = 15);"
      ],
      "execution_count": 188,
      "outputs": [
        {
          "output_type": "display_data",
          "data": {
            "image/png": "[encoded data removed]",
            "text/plain": [
              "<Figure size 648x648 with 2 Axes>"
            ]
          },
          "metadata": {
            "tags": []
          }
        }
      ]
    },
    {
      "cell_type": "code",
      "metadata": {
        "id": "ymDm0grfwEHG",
        "colab": {
          "base_uri": "https://localhost:8080/",
          "height": 657
        },
        "outputId": "978c65ae-be23-4bca-d44e-a96d1675d756"
      },
      "source": [
        "plt.figure(figsize=(9,9))\n",
        "plt.imshow(cm, interpolation='nearest', cmap='Pastel1')\n",
        "plt.title('Confusion matrix', size = 15)\n",
        "plt.colorbar()\n",
        "tick_marks = np.arange(10)\n",
        "plt.xticks(tick_marks, [\"0\", \"1\", \"2\", \"3\", \"4\", \"5\", \"6\", \"7\", \"8\", \"9\"], rotation=45, size = 10)\n",
        "plt.yticks(tick_marks, [\"0\", \"1\", \"2\", \"3\", \"4\", \"5\", \"6\", \"7\", \"8\", \"9\"], size = 10)\n",
        "plt.tight_layout()\n",
        "plt.ylabel('Actual label', size = 15)\n",
        "plt.xlabel('Predicted label', size = 15)\n",
        "width, height = cm.shape\n",
        "for x in range(width):\n",
        " for y in range(height):\n",
        "  plt.annotate(str(cm[x][y]), xy=(y, x), \n",
        "  horizontalalignment='center',\n",
        "  verticalalignment='center')"
      ],
      "execution_count": 189,
      "outputs": [
        {
          "output_type": "display_data",
          "data": {
            "image/png": "[encoded data removed]",
            "text/plain": [
              "<Figure size 648x648 with 2 Axes>"
            ]
          },
          "metadata": {
            "tags": []
          }
        }
      ]
    },
    {
      "cell_type": "code",
      "metadata": {
        "id": "qAsLRC4l0xJW"
      },
      "source": [
        "# Read in csv file\n",
        "# File: https://github.com/mGalarnyk/Python_Tutorials/blob/master/Python_Basics/Linear_Regression/linear.csv\n",
        "\n",
        "\n",
        "raw_data= pd.read_csv(r\"featMatVersion0.csv\")\n",
        "#This is the unedited file from Eddie\n",
        "\n",
        "#raw_data = pd.read_csv(r\"featMatVersion1.csv\")\n",
        "\n",
        "#raw_data = pd.read_csv(r\"featMatVersion2.csv\")\n",
        "\n",
        "\n",
        "#/content/featMatVersion2.csv\n",
        "\n",
        "#raw_data = pd.read_csv(r\"featMatVersion3.csv\")\n",
        "\n",
        "#raw_data = pd.read_csv(r\"featMatVersion4.csv\")\n",
        "#Same as original but no comunns 2 and 13\n",
        "\n",
        "\n",
        "#raw_data= pd.read_csv(r\"featMatVersion5.csv\")\n",
        "#Same as version1 but no comunns 2 and 13\n",
        "\n",
        "\n",
        "#raw_data = pd.read_csv(r\"featMatVersion6.csv\")\n",
        "#Same as version2 but no comunns 2 and 13\n",
        "\n",
        "\n",
        "#raw_data = pd.read_csv(r\"featMatVersion7.csv\")\n",
        "#Same as version3 but no comunns 2 and 13\n",
        "\n",
        "\n",
        "#raw_data = pd.read_csv(r\"featMatVersion8.csv\")\n",
        "#Same as version0 but only 2 users\n",
        "#has only 2 users\n",
        "\n",
        "\n",
        "\n",
        "\n"
      ],
      "execution_count": 190,
      "outputs": []
    },
    {
      "cell_type": "code",
      "metadata": {
        "id": "CvEII4Qt-i30",
        "colab": {
          "base_uri": "https://localhost:8080/",
          "height": 292
        },
        "outputId": "e28edf9d-4abc-43d6-9d08-68f03d3f9ea6"
      },
      "source": [
        "raw_data.head()"
      ],
      "execution_count": 191,
      "outputs": [
        {
          "output_type": "execute_result",
          "data": {
            "text/html": [
              "<div>\n",
              "<style scoped>\n",
              "    .dataframe tbody tr th:only-of-type {\n",
              "        vertical-align: middle;\n",
              "    }\n",
              "\n",
              "    .dataframe tbody tr th {\n",
              "        vertical-align: top;\n",
              "    }\n",
              "\n",
              "    .dataframe thead th {\n",
              "        text-align: right;\n",
              "    }\n",
              "</style>\n",
              "<table border=\"1\" class=\"dataframe\">\n",
              "  <thead>\n",
              "    <tr style=\"text-align: right;\">\n",
              "      <th></th>\n",
              "      <th>User_ID</th>\n",
              "      <th>Doc_ID</th>\n",
              "      <th>Inter-Stroke time</th>\n",
              "      <th>Stroke Duration</th>\n",
              "      <th>Start X</th>\n",
              "      <th>Start Y</th>\n",
              "      <th>Stop X</th>\n",
              "      <th>Stop Y</th>\n",
              "      <th>Direct end-to-end Distance</th>\n",
              "      <th>Mean resulant length</th>\n",
              "      <th>WSAD Flag</th>\n",
              "      <th>Direction of end-to-end Time</th>\n",
              "      <th>Phone_ID</th>\n",
              "      <th>20 per pairwise velocity</th>\n",
              "      <th>50 per pairwise velocity</th>\n",
              "      <th>80 per pairwise velocity</th>\n",
              "      <th>20 per pairwise acc</th>\n",
              "      <th>50 per pairwise acc</th>\n",
              "      <th>80 per pairwise acc</th>\n",
              "      <th>Median velocity at last 3pts</th>\n",
              "      <th>Largest deviation from end-to-end line</th>\n",
              "      <th>20 per dev line</th>\n",
              "      <th>50 per dev line</th>\n",
              "      <th>80 per dev line</th>\n",
              "      <th>Average Direction</th>\n",
              "      <th>Length of Trajectory</th>\n",
              "      <th>Ratio dist and length of trajectory</th>\n",
              "      <th>Average velocity</th>\n",
              "      <th>Median acceleration at first 5 pts</th>\n",
              "      <th>Mid-Stroke pressure</th>\n",
              "      <th>Mid-Stroke area covered</th>\n",
              "      <th>Mid-Stroke finger orientation</th>\n",
              "      <th>Change of finger orientation</th>\n",
              "      <th>Phone orientation</th>\n",
              "    </tr>\n",
              "  </thead>\n",
              "  <tbody>\n",
              "    <tr>\n",
              "      <th>0</th>\n",
              "      <td>37</td>\n",
              "      <td>4</td>\n",
              "      <td>0.341</td>\n",
              "      <td>0.256</td>\n",
              "      <td>27.416</td>\n",
              "      <td>-27.113</td>\n",
              "      <td>12.3980</td>\n",
              "      <td>-32.960</td>\n",
              "      <td>16.1160</td>\n",
              "      <td>0.35736</td>\n",
              "      <td>4</td>\n",
              "      <td>-2.770400</td>\n",
              "      <td>1</td>\n",
              "      <td>0.41784</td>\n",
              "      <td>4.1784</td>\n",
              "      <td>2719.20</td>\n",
              "      <td>-604180.0</td>\n",
              "      <td>-432.24</td>\n",
              "      <td>603320.0</td>\n",
              "      <td>4.1784</td>\n",
              "      <td>0.17777</td>\n",
              "      <td>0.000000</td>\n",
              "      <td>0.00000</td>\n",
              "      <td>0.124440</td>\n",
              "      <td>-2.581200</td>\n",
              "      <td>16.1320</td>\n",
              "      <td>0.99898</td>\n",
              "      <td>63.018</td>\n",
              "      <td>-432.24</td>\n",
              "      <td>0.32</td>\n",
              "      <td>0.044444</td>\n",
              "      <td>0.0</td>\n",
              "      <td>0</td>\n",
              "      <td>1</td>\n",
              "    </tr>\n",
              "    <tr>\n",
              "      <th>1</th>\n",
              "      <td>37</td>\n",
              "      <td>4</td>\n",
              "      <td>0.913</td>\n",
              "      <td>0.086</td>\n",
              "      <td>21.771</td>\n",
              "      <td>-30.037</td>\n",
              "      <td>9.8778</td>\n",
              "      <td>-33.867</td>\n",
              "      <td>12.4950</td>\n",
              "      <td>0.26504</td>\n",
              "      <td>4</td>\n",
              "      <td>-2.830000</td>\n",
              "      <td>1</td>\n",
              "      <td>0.00000</td>\n",
              "      <td>156.7900</td>\n",
              "      <td>502.37</td>\n",
              "      <td>-26083.0</td>\n",
              "      <td>5117.70</td>\n",
              "      <td>116600.0</td>\n",
              "      <td>265.1400</td>\n",
              "      <td>0.78867</td>\n",
              "      <td>0.000000</td>\n",
              "      <td>0.00000</td>\n",
              "      <td>0.406210</td>\n",
              "      <td>-2.199400</td>\n",
              "      <td>12.5960</td>\n",
              "      <td>0.99197</td>\n",
              "      <td>146.470</td>\n",
              "      <td>5117.70</td>\n",
              "      <td>0.60</td>\n",
              "      <td>0.088889</td>\n",
              "      <td>0.0</td>\n",
              "      <td>0</td>\n",
              "      <td>1</td>\n",
              "    </tr>\n",
              "    <tr>\n",
              "      <th>2</th>\n",
              "      <td>37</td>\n",
              "      <td>4</td>\n",
              "      <td>0.733</td>\n",
              "      <td>0.111</td>\n",
              "      <td>10.886</td>\n",
              "      <td>-34.169</td>\n",
              "      <td>26.9120</td>\n",
              "      <td>-34.673</td>\n",
              "      <td>16.0340</td>\n",
              "      <td>0.99118</td>\n",
              "      <td>2</td>\n",
              "      <td>-0.031436</td>\n",
              "      <td>1</td>\n",
              "      <td>32.12200</td>\n",
              "      <td>143.8500</td>\n",
              "      <td>263.58</td>\n",
              "      <td>-52140.0</td>\n",
              "      <td>-3563.50</td>\n",
              "      <td>26382.0</td>\n",
              "      <td>188.8200</td>\n",
              "      <td>-1.06510</td>\n",
              "      <td>-0.802530</td>\n",
              "      <td>-0.11658</td>\n",
              "      <td>0.000000</td>\n",
              "      <td>0.086288</td>\n",
              "      <td>16.2030</td>\n",
              "      <td>0.98959</td>\n",
              "      <td>145.970</td>\n",
              "      <td>-3563.50</td>\n",
              "      <td>0.48</td>\n",
              "      <td>0.044444</td>\n",
              "      <td>0.0</td>\n",
              "      <td>0</td>\n",
              "      <td>1</td>\n",
              "    </tr>\n",
              "    <tr>\n",
              "      <th>3</th>\n",
              "      <td>37</td>\n",
              "      <td>4</td>\n",
              "      <td>0.448</td>\n",
              "      <td>0.094</td>\n",
              "      <td>19.151</td>\n",
              "      <td>-34.572</td>\n",
              "      <td>12.7000</td>\n",
              "      <td>-36.790</td>\n",
              "      <td>6.8213</td>\n",
              "      <td>0.59647</td>\n",
              "      <td>4</td>\n",
              "      <td>-2.810500</td>\n",
              "      <td>1</td>\n",
              "      <td>17.36000</td>\n",
              "      <td>76.6380</td>\n",
              "      <td>230.62</td>\n",
              "      <td>-10012.0</td>\n",
              "      <td>-4604.10</td>\n",
              "      <td>25874.0</td>\n",
              "      <td>95.8570</td>\n",
              "      <td>0.60170</td>\n",
              "      <td>0.000000</td>\n",
              "      <td>0.10128</td>\n",
              "      <td>0.570430</td>\n",
              "      <td>-2.723100</td>\n",
              "      <td>6.9674</td>\n",
              "      <td>0.97902</td>\n",
              "      <td>74.122</td>\n",
              "      <td>-4604.10</td>\n",
              "      <td>0.40</td>\n",
              "      <td>0.044444</td>\n",
              "      <td>0.0</td>\n",
              "      <td>0</td>\n",
              "      <td>1</td>\n",
              "    </tr>\n",
              "    <tr>\n",
              "      <th>4</th>\n",
              "      <td>37</td>\n",
              "      <td>4</td>\n",
              "      <td>0.519</td>\n",
              "      <td>0.056</td>\n",
              "      <td>27.718</td>\n",
              "      <td>-32.758</td>\n",
              "      <td>14.6150</td>\n",
              "      <td>-37.294</td>\n",
              "      <td>13.8660</td>\n",
              "      <td>0.67819</td>\n",
              "      <td>4</td>\n",
              "      <td>-2.808300</td>\n",
              "      <td>1</td>\n",
              "      <td>74.82100</td>\n",
              "      <td>275.5700</td>\n",
              "      <td>993.21</td>\n",
              "      <td>-126180.0</td>\n",
              "      <td>-21377.00</td>\n",
              "      <td>217040.0</td>\n",
              "      <td>244.6800</td>\n",
              "      <td>-0.10990</td>\n",
              "      <td>-0.096714</td>\n",
              "      <td>0.00000</td>\n",
              "      <td>0.001099</td>\n",
              "      <td>-2.717000</td>\n",
              "      <td>13.8710</td>\n",
              "      <td>0.99965</td>\n",
              "      <td>247.690</td>\n",
              "      <td>-21377.00</td>\n",
              "      <td>0.44</td>\n",
              "      <td>0.044444</td>\n",
              "      <td>0.0</td>\n",
              "      <td>0</td>\n",
              "      <td>1</td>\n",
              "    </tr>\n",
              "  </tbody>\n",
              "</table>\n",
              "</div>"
            ],
            "text/plain": [
              "   User_ID  Doc_ID  ...  Change of finger orientation  Phone orientation\n",
              "0       37       4  ...                             0                  1\n",
              "1       37       4  ...                             0                  1\n",
              "2       37       4  ...                             0                  1\n",
              "3       37       4  ...                             0                  1\n",
              "4       37       4  ...                             0                  1\n",
              "\n",
              "[5 rows x 34 columns]"
            ]
          },
          "metadata": {
            "tags": []
          },
          "execution_count": 191
        }
      ]
    },
    {
      "cell_type": "code",
      "metadata": {
        "id": "CZ-ukd0s9r_R",
        "colab": {
          "base_uri": "https://localhost:8080/",
          "height": 292
        },
        "outputId": "96cac3b0-2dd1-4602-e040-b114806c0707"
      },
      "source": [
        "\n",
        "\n",
        "\n",
        "# Removes rows with NaN in them\n",
        "filtered_data = raw_data[~np.isnan(raw_data)] \n",
        "\n",
        "# how to clean up data?\n",
        "\n",
        "x_y = np.array(filtered_data)\n",
        "x, y = x_y[:,0], x_y[:,1]\n",
        "\n",
        "# Reshaping\n",
        "x, y = x.reshape(-1,1), y.reshape(-1, 1)\n",
        "\n",
        "filtered_data.head()\n",
        "\n"
      ],
      "execution_count": 192,
      "outputs": [
        {
          "output_type": "execute_result",
          "data": {
            "text/html": [
              "<div>\n",
              "<style scoped>\n",
              "    .dataframe tbody tr th:only-of-type {\n",
              "        vertical-align: middle;\n",
              "    }\n",
              "\n",
              "    .dataframe tbody tr th {\n",
              "        vertical-align: top;\n",
              "    }\n",
              "\n",
              "    .dataframe thead th {\n",
              "        text-align: right;\n",
              "    }\n",
              "</style>\n",
              "<table border=\"1\" class=\"dataframe\">\n",
              "  <thead>\n",
              "    <tr style=\"text-align: right;\">\n",
              "      <th></th>\n",
              "      <th>User_ID</th>\n",
              "      <th>Doc_ID</th>\n",
              "      <th>Inter-Stroke time</th>\n",
              "      <th>Stroke Duration</th>\n",
              "      <th>Start X</th>\n",
              "      <th>Start Y</th>\n",
              "      <th>Stop X</th>\n",
              "      <th>Stop Y</th>\n",
              "      <th>Direct end-to-end Distance</th>\n",
              "      <th>Mean resulant length</th>\n",
              "      <th>WSAD Flag</th>\n",
              "      <th>Direction of end-to-end Time</th>\n",
              "      <th>Phone_ID</th>\n",
              "      <th>20 per pairwise velocity</th>\n",
              "      <th>50 per pairwise velocity</th>\n",
              "      <th>80 per pairwise velocity</th>\n",
              "      <th>20 per pairwise acc</th>\n",
              "      <th>50 per pairwise acc</th>\n",
              "      <th>80 per pairwise acc</th>\n",
              "      <th>Median velocity at last 3pts</th>\n",
              "      <th>Largest deviation from end-to-end line</th>\n",
              "      <th>20 per dev line</th>\n",
              "      <th>50 per dev line</th>\n",
              "      <th>80 per dev line</th>\n",
              "      <th>Average Direction</th>\n",
              "      <th>Length of Trajectory</th>\n",
              "      <th>Ratio dist and length of trajectory</th>\n",
              "      <th>Average velocity</th>\n",
              "      <th>Median acceleration at first 5 pts</th>\n",
              "      <th>Mid-Stroke pressure</th>\n",
              "      <th>Mid-Stroke area covered</th>\n",
              "      <th>Mid-Stroke finger orientation</th>\n",
              "      <th>Change of finger orientation</th>\n",
              "      <th>Phone orientation</th>\n",
              "    </tr>\n",
              "  </thead>\n",
              "  <tbody>\n",
              "    <tr>\n",
              "      <th>0</th>\n",
              "      <td>37</td>\n",
              "      <td>4</td>\n",
              "      <td>0.341</td>\n",
              "      <td>0.256</td>\n",
              "      <td>27.416</td>\n",
              "      <td>-27.113</td>\n",
              "      <td>12.3980</td>\n",
              "      <td>-32.960</td>\n",
              "      <td>16.1160</td>\n",
              "      <td>0.35736</td>\n",
              "      <td>4</td>\n",
              "      <td>-2.770400</td>\n",
              "      <td>1</td>\n",
              "      <td>0.41784</td>\n",
              "      <td>4.1784</td>\n",
              "      <td>2719.20</td>\n",
              "      <td>-604180.0</td>\n",
              "      <td>-432.24</td>\n",
              "      <td>603320.0</td>\n",
              "      <td>4.1784</td>\n",
              "      <td>0.17777</td>\n",
              "      <td>0.000000</td>\n",
              "      <td>0.00000</td>\n",
              "      <td>0.124440</td>\n",
              "      <td>-2.581200</td>\n",
              "      <td>16.1320</td>\n",
              "      <td>0.99898</td>\n",
              "      <td>63.018</td>\n",
              "      <td>-432.24</td>\n",
              "      <td>0.32</td>\n",
              "      <td>0.044444</td>\n",
              "      <td>0.0</td>\n",
              "      <td>0</td>\n",
              "      <td>1</td>\n",
              "    </tr>\n",
              "    <tr>\n",
              "      <th>1</th>\n",
              "      <td>37</td>\n",
              "      <td>4</td>\n",
              "      <td>0.913</td>\n",
              "      <td>0.086</td>\n",
              "      <td>21.771</td>\n",
              "      <td>-30.037</td>\n",
              "      <td>9.8778</td>\n",
              "      <td>-33.867</td>\n",
              "      <td>12.4950</td>\n",
              "      <td>0.26504</td>\n",
              "      <td>4</td>\n",
              "      <td>-2.830000</td>\n",
              "      <td>1</td>\n",
              "      <td>0.00000</td>\n",
              "      <td>156.7900</td>\n",
              "      <td>502.37</td>\n",
              "      <td>-26083.0</td>\n",
              "      <td>5117.70</td>\n",
              "      <td>116600.0</td>\n",
              "      <td>265.1400</td>\n",
              "      <td>0.78867</td>\n",
              "      <td>0.000000</td>\n",
              "      <td>0.00000</td>\n",
              "      <td>0.406210</td>\n",
              "      <td>-2.199400</td>\n",
              "      <td>12.5960</td>\n",
              "      <td>0.99197</td>\n",
              "      <td>146.470</td>\n",
              "      <td>5117.70</td>\n",
              "      <td>0.60</td>\n",
              "      <td>0.088889</td>\n",
              "      <td>0.0</td>\n",
              "      <td>0</td>\n",
              "      <td>1</td>\n",
              "    </tr>\n",
              "    <tr>\n",
              "      <th>2</th>\n",
              "      <td>37</td>\n",
              "      <td>4</td>\n",
              "      <td>0.733</td>\n",
              "      <td>0.111</td>\n",
              "      <td>10.886</td>\n",
              "      <td>-34.169</td>\n",
              "      <td>26.9120</td>\n",
              "      <td>-34.673</td>\n",
              "      <td>16.0340</td>\n",
              "      <td>0.99118</td>\n",
              "      <td>2</td>\n",
              "      <td>-0.031436</td>\n",
              "      <td>1</td>\n",
              "      <td>32.12200</td>\n",
              "      <td>143.8500</td>\n",
              "      <td>263.58</td>\n",
              "      <td>-52140.0</td>\n",
              "      <td>-3563.50</td>\n",
              "      <td>26382.0</td>\n",
              "      <td>188.8200</td>\n",
              "      <td>-1.06510</td>\n",
              "      <td>-0.802530</td>\n",
              "      <td>-0.11658</td>\n",
              "      <td>0.000000</td>\n",
              "      <td>0.086288</td>\n",
              "      <td>16.2030</td>\n",
              "      <td>0.98959</td>\n",
              "      <td>145.970</td>\n",
              "      <td>-3563.50</td>\n",
              "      <td>0.48</td>\n",
              "      <td>0.044444</td>\n",
              "      <td>0.0</td>\n",
              "      <td>0</td>\n",
              "      <td>1</td>\n",
              "    </tr>\n",
              "    <tr>\n",
              "      <th>3</th>\n",
              "      <td>37</td>\n",
              "      <td>4</td>\n",
              "      <td>0.448</td>\n",
              "      <td>0.094</td>\n",
              "      <td>19.151</td>\n",
              "      <td>-34.572</td>\n",
              "      <td>12.7000</td>\n",
              "      <td>-36.790</td>\n",
              "      <td>6.8213</td>\n",
              "      <td>0.59647</td>\n",
              "      <td>4</td>\n",
              "      <td>-2.810500</td>\n",
              "      <td>1</td>\n",
              "      <td>17.36000</td>\n",
              "      <td>76.6380</td>\n",
              "      <td>230.62</td>\n",
              "      <td>-10012.0</td>\n",
              "      <td>-4604.10</td>\n",
              "      <td>25874.0</td>\n",
              "      <td>95.8570</td>\n",
              "      <td>0.60170</td>\n",
              "      <td>0.000000</td>\n",
              "      <td>0.10128</td>\n",
              "      <td>0.570430</td>\n",
              "      <td>-2.723100</td>\n",
              "      <td>6.9674</td>\n",
              "      <td>0.97902</td>\n",
              "      <td>74.122</td>\n",
              "      <td>-4604.10</td>\n",
              "      <td>0.40</td>\n",
              "      <td>0.044444</td>\n",
              "      <td>0.0</td>\n",
              "      <td>0</td>\n",
              "      <td>1</td>\n",
              "    </tr>\n",
              "    <tr>\n",
              "      <th>4</th>\n",
              "      <td>37</td>\n",
              "      <td>4</td>\n",
              "      <td>0.519</td>\n",
              "      <td>0.056</td>\n",
              "      <td>27.718</td>\n",
              "      <td>-32.758</td>\n",
              "      <td>14.6150</td>\n",
              "      <td>-37.294</td>\n",
              "      <td>13.8660</td>\n",
              "      <td>0.67819</td>\n",
              "      <td>4</td>\n",
              "      <td>-2.808300</td>\n",
              "      <td>1</td>\n",
              "      <td>74.82100</td>\n",
              "      <td>275.5700</td>\n",
              "      <td>993.21</td>\n",
              "      <td>-126180.0</td>\n",
              "      <td>-21377.00</td>\n",
              "      <td>217040.0</td>\n",
              "      <td>244.6800</td>\n",
              "      <td>-0.10990</td>\n",
              "      <td>-0.096714</td>\n",
              "      <td>0.00000</td>\n",
              "      <td>0.001099</td>\n",
              "      <td>-2.717000</td>\n",
              "      <td>13.8710</td>\n",
              "      <td>0.99965</td>\n",
              "      <td>247.690</td>\n",
              "      <td>-21377.00</td>\n",
              "      <td>0.44</td>\n",
              "      <td>0.044444</td>\n",
              "      <td>0.0</td>\n",
              "      <td>0</td>\n",
              "      <td>1</td>\n",
              "    </tr>\n",
              "  </tbody>\n",
              "</table>\n",
              "</div>"
            ],
            "text/plain": [
              "   User_ID  Doc_ID  ...  Change of finger orientation  Phone orientation\n",
              "0       37       4  ...                             0                  1\n",
              "1       37       4  ...                             0                  1\n",
              "2       37       4  ...                             0                  1\n",
              "3       37       4  ...                             0                  1\n",
              "4       37       4  ...                             0                  1\n",
              "\n",
              "[5 rows x 34 columns]"
            ]
          },
          "metadata": {
            "tags": []
          },
          "execution_count": 192
        }
      ]
    },
    {
      "cell_type": "code",
      "metadata": {
        "id": "r3-R9fDV-J_L",
        "colab": {
          "base_uri": "https://localhost:8080/",
          "height": 282
        },
        "outputId": "1aa20568-b872-4942-8d29-4e5f7c6bb571"
      },
      "source": [
        "# Linear Regression Object \n",
        "lin_regression = LinearRegression()\n",
        "\n",
        "# Fitting linear model to the data\n",
        "lin_regression.fit(x,y)\n",
        "\n",
        "# Get slope of fitted line\n",
        "m = lin_regression.coef_\n",
        "\n",
        "# Get y-Intercept of the Line\n",
        "b = lin_regression.intercept_\n",
        "\n",
        "# Get Predictions for original x values\n",
        "# you can also get predictions for new data\n",
        "predictions = lin_regression.predict(x)\n",
        "\n",
        "# following slope intercept form \n",
        "print ( \"formula: y = {0}x + {1}\".format(m, b) )\n",
        "\n",
        "# Plot the Original Model (Black) and Predictions (Blue)\n",
        "plt.scatter(x, y,  color='black')\n",
        "plt.plot(x, predictions, color='blue',linewidth=3)\n",
        "plt.show()"
      ],
      "execution_count": 193,
      "outputs": [
        {
          "output_type": "stream",
          "text": [
            "formula: y = [[-0.01699375]]x + [3.64700301]\n"
          ],
          "name": "stdout"
        },
        {
          "output_type": "display_data",
          "data": {
            "image/png": "[encoded data removed]",
            "text/plain": [
              "<Figure size 432x288 with 1 Axes>"
            ]
          },
          "metadata": {
            "tags": []
          }
        }
      ]
    },
    {
      "cell_type": "code",
      "metadata": {
        "id": "vpuTy24tA9VT",
        "colab": {
          "base_uri": "https://localhost:8080/",
          "height": 292
        },
        "outputId": "b66aa245-3a78-4f94-ee48-7afb739fc97d"
      },
      "source": [
        "#df = pd.read_csv(url, names=['sepal length','sepal width','petal length','petal width','target'])\n",
        "df = pd.read_csv(r\"featMatVersion0.csv\")\n",
        "#This is the unedited file from Eddie\n",
        "\n",
        "#df = pd.read_csv(r\"featMatVersion1.csv\")\n",
        "\n",
        "#df = pd.read_csv(r\"featMatVersion2.csv\")\n",
        "\n",
        "\n",
        "#/content/featMatVersion2.csv\n",
        "\n",
        "#df = pd.read_csv(r\"featMatVersion3.csv\")\n",
        "\n",
        "#df = pd.read_csv(r\"featMatVersion4.csv\")\n",
        "#Same as original but no comunns 2 and 13\n",
        "\n",
        "\n",
        "#df = pd.read_csv(r\"featMatVersion5.csv\")\n",
        "#Same as version1 but no comunns 2 and 13\n",
        "\n",
        "\n",
        "#df = pd.read_csv(r\"featMatVersion6.csv\")\n",
        "#Same as version2 but no comunns 2 and 13\n",
        "\n",
        "#df = pd.read_csv(r\"featMatVersion7.csv\")\n",
        "\n",
        "\n",
        "#df = pd.read_csv(r\"featMatVersion8.csv\")\n",
        "#Same as version0 but only 2 users\n",
        "#has only 2 users\n",
        "\n",
        "\n",
        "\n",
        "#df = pd.read_csv(r\"featMatVersion7.csv\",names=['User_ID', 'Inter-Stroke time', 'Stroke Duration', 'Start X', 'Start Y',\n",
        " #      'Stop X', 'Stop Y', 'Direct end-to-end Distance',\n",
        "  #     'Mean resulant length', 'WSAD Flag', 'Direction of end-to-end Time',\n",
        "   #    '20 per pairwise velocity', '50 per pairwise velocity',\n",
        "    #   '80 per pairwise velocity', '20 per pairwise acc',\n",
        "     #  '50 per pairwise acc', '80 per pairwise acc',\n",
        "      # 'Median velocity at last 3pts',\n",
        "       #'Largest deviation from end-to-end line', '20 per dev line',\n",
        "       #'50 per dev line', '80 per dev line', 'Average Direction',\n",
        "       #'Length of Trajectory', 'Ratio dist and length of trajectory',\n",
        "       #'Average velocity', 'Median acceleration at first 5 pts',\n",
        "       #'Mid-Stroke pressure', 'Mid-Stroke area covered',\n",
        "       #'Mid-Stroke finger orientation', 'Change of finger orientation',\n",
        "       #'Phone orientation'] )\n",
        "#Same as version3 but no comunns 2 and 13\n",
        "\n",
        "\n",
        "df.head()\n"
      ],
      "execution_count": 194,
      "outputs": [
        {
          "output_type": "execute_result",
          "data": {
            "text/html": [
              "<div>\n",
              "<style scoped>\n",
              "    .dataframe tbody tr th:only-of-type {\n",
              "        vertical-align: middle;\n",
              "    }\n",
              "\n",
              "    .dataframe tbody tr th {\n",
              "        vertical-align: top;\n",
              "    }\n",
              "\n",
              "    .dataframe thead th {\n",
              "        text-align: right;\n",
              "    }\n",
              "</style>\n",
              "<table border=\"1\" class=\"dataframe\">\n",
              "  <thead>\n",
              "    <tr style=\"text-align: right;\">\n",
              "      <th></th>\n",
              "      <th>User_ID</th>\n",
              "      <th>Doc_ID</th>\n",
              "      <th>Inter-Stroke time</th>\n",
              "      <th>Stroke Duration</th>\n",
              "      <th>Start X</th>\n",
              "      <th>Start Y</th>\n",
              "      <th>Stop X</th>\n",
              "      <th>Stop Y</th>\n",
              "      <th>Direct end-to-end Distance</th>\n",
              "      <th>Mean resulant length</th>\n",
              "      <th>WSAD Flag</th>\n",
              "      <th>Direction of end-to-end Time</th>\n",
              "      <th>Phone_ID</th>\n",
              "      <th>20 per pairwise velocity</th>\n",
              "      <th>50 per pairwise velocity</th>\n",
              "      <th>80 per pairwise velocity</th>\n",
              "      <th>20 per pairwise acc</th>\n",
              "      <th>50 per pairwise acc</th>\n",
              "      <th>80 per pairwise acc</th>\n",
              "      <th>Median velocity at last 3pts</th>\n",
              "      <th>Largest deviation from end-to-end line</th>\n",
              "      <th>20 per dev line</th>\n",
              "      <th>50 per dev line</th>\n",
              "      <th>80 per dev line</th>\n",
              "      <th>Average Direction</th>\n",
              "      <th>Length of Trajectory</th>\n",
              "      <th>Ratio dist and length of trajectory</th>\n",
              "      <th>Average velocity</th>\n",
              "      <th>Median acceleration at first 5 pts</th>\n",
              "      <th>Mid-Stroke pressure</th>\n",
              "      <th>Mid-Stroke area covered</th>\n",
              "      <th>Mid-Stroke finger orientation</th>\n",
              "      <th>Change of finger orientation</th>\n",
              "      <th>Phone orientation</th>\n",
              "    </tr>\n",
              "  </thead>\n",
              "  <tbody>\n",
              "    <tr>\n",
              "      <th>0</th>\n",
              "      <td>37</td>\n",
              "      <td>4</td>\n",
              "      <td>0.341</td>\n",
              "      <td>0.256</td>\n",
              "      <td>27.416</td>\n",
              "      <td>-27.113</td>\n",
              "      <td>12.3980</td>\n",
              "      <td>-32.960</td>\n",
              "      <td>16.1160</td>\n",
              "      <td>0.35736</td>\n",
              "      <td>4</td>\n",
              "      <td>-2.770400</td>\n",
              "      <td>1</td>\n",
              "      <td>0.41784</td>\n",
              "      <td>4.1784</td>\n",
              "      <td>2719.20</td>\n",
              "      <td>-604180.0</td>\n",
              "      <td>-432.24</td>\n",
              "      <td>603320.0</td>\n",
              "      <td>4.1784</td>\n",
              "      <td>0.17777</td>\n",
              "      <td>0.000000</td>\n",
              "      <td>0.00000</td>\n",
              "      <td>0.124440</td>\n",
              "      <td>-2.581200</td>\n",
              "      <td>16.1320</td>\n",
              "      <td>0.99898</td>\n",
              "      <td>63.018</td>\n",
              "      <td>-432.24</td>\n",
              "      <td>0.32</td>\n",
              "      <td>0.044444</td>\n",
              "      <td>0.0</td>\n",
              "      <td>0</td>\n",
              "      <td>1</td>\n",
              "    </tr>\n",
              "    <tr>\n",
              "      <th>1</th>\n",
              "      <td>37</td>\n",
              "      <td>4</td>\n",
              "      <td>0.913</td>\n",
              "      <td>0.086</td>\n",
              "      <td>21.771</td>\n",
              "      <td>-30.037</td>\n",
              "      <td>9.8778</td>\n",
              "      <td>-33.867</td>\n",
              "      <td>12.4950</td>\n",
              "      <td>0.26504</td>\n",
              "      <td>4</td>\n",
              "      <td>-2.830000</td>\n",
              "      <td>1</td>\n",
              "      <td>0.00000</td>\n",
              "      <td>156.7900</td>\n",
              "      <td>502.37</td>\n",
              "      <td>-26083.0</td>\n",
              "      <td>5117.70</td>\n",
              "      <td>116600.0</td>\n",
              "      <td>265.1400</td>\n",
              "      <td>0.78867</td>\n",
              "      <td>0.000000</td>\n",
              "      <td>0.00000</td>\n",
              "      <td>0.406210</td>\n",
              "      <td>-2.199400</td>\n",
              "      <td>12.5960</td>\n",
              "      <td>0.99197</td>\n",
              "      <td>146.470</td>\n",
              "      <td>5117.70</td>\n",
              "      <td>0.60</td>\n",
              "      <td>0.088889</td>\n",
              "      <td>0.0</td>\n",
              "      <td>0</td>\n",
              "      <td>1</td>\n",
              "    </tr>\n",
              "    <tr>\n",
              "      <th>2</th>\n",
              "      <td>37</td>\n",
              "      <td>4</td>\n",
              "      <td>0.733</td>\n",
              "      <td>0.111</td>\n",
              "      <td>10.886</td>\n",
              "      <td>-34.169</td>\n",
              "      <td>26.9120</td>\n",
              "      <td>-34.673</td>\n",
              "      <td>16.0340</td>\n",
              "      <td>0.99118</td>\n",
              "      <td>2</td>\n",
              "      <td>-0.031436</td>\n",
              "      <td>1</td>\n",
              "      <td>32.12200</td>\n",
              "      <td>143.8500</td>\n",
              "      <td>263.58</td>\n",
              "      <td>-52140.0</td>\n",
              "      <td>-3563.50</td>\n",
              "      <td>26382.0</td>\n",
              "      <td>188.8200</td>\n",
              "      <td>-1.06510</td>\n",
              "      <td>-0.802530</td>\n",
              "      <td>-0.11658</td>\n",
              "      <td>0.000000</td>\n",
              "      <td>0.086288</td>\n",
              "      <td>16.2030</td>\n",
              "      <td>0.98959</td>\n",
              "      <td>145.970</td>\n",
              "      <td>-3563.50</td>\n",
              "      <td>0.48</td>\n",
              "      <td>0.044444</td>\n",
              "      <td>0.0</td>\n",
              "      <td>0</td>\n",
              "      <td>1</td>\n",
              "    </tr>\n",
              "    <tr>\n",
              "      <th>3</th>\n",
              "      <td>37</td>\n",
              "      <td>4</td>\n",
              "      <td>0.448</td>\n",
              "      <td>0.094</td>\n",
              "      <td>19.151</td>\n",
              "      <td>-34.572</td>\n",
              "      <td>12.7000</td>\n",
              "      <td>-36.790</td>\n",
              "      <td>6.8213</td>\n",
              "      <td>0.59647</td>\n",
              "      <td>4</td>\n",
              "      <td>-2.810500</td>\n",
              "      <td>1</td>\n",
              "      <td>17.36000</td>\n",
              "      <td>76.6380</td>\n",
              "      <td>230.62</td>\n",
              "      <td>-10012.0</td>\n",
              "      <td>-4604.10</td>\n",
              "      <td>25874.0</td>\n",
              "      <td>95.8570</td>\n",
              "      <td>0.60170</td>\n",
              "      <td>0.000000</td>\n",
              "      <td>0.10128</td>\n",
              "      <td>0.570430</td>\n",
              "      <td>-2.723100</td>\n",
              "      <td>6.9674</td>\n",
              "      <td>0.97902</td>\n",
              "      <td>74.122</td>\n",
              "      <td>-4604.10</td>\n",
              "      <td>0.40</td>\n",
              "      <td>0.044444</td>\n",
              "      <td>0.0</td>\n",
              "      <td>0</td>\n",
              "      <td>1</td>\n",
              "    </tr>\n",
              "    <tr>\n",
              "      <th>4</th>\n",
              "      <td>37</td>\n",
              "      <td>4</td>\n",
              "      <td>0.519</td>\n",
              "      <td>0.056</td>\n",
              "      <td>27.718</td>\n",
              "      <td>-32.758</td>\n",
              "      <td>14.6150</td>\n",
              "      <td>-37.294</td>\n",
              "      <td>13.8660</td>\n",
              "      <td>0.67819</td>\n",
              "      <td>4</td>\n",
              "      <td>-2.808300</td>\n",
              "      <td>1</td>\n",
              "      <td>74.82100</td>\n",
              "      <td>275.5700</td>\n",
              "      <td>993.21</td>\n",
              "      <td>-126180.0</td>\n",
              "      <td>-21377.00</td>\n",
              "      <td>217040.0</td>\n",
              "      <td>244.6800</td>\n",
              "      <td>-0.10990</td>\n",
              "      <td>-0.096714</td>\n",
              "      <td>0.00000</td>\n",
              "      <td>0.001099</td>\n",
              "      <td>-2.717000</td>\n",
              "      <td>13.8710</td>\n",
              "      <td>0.99965</td>\n",
              "      <td>247.690</td>\n",
              "      <td>-21377.00</td>\n",
              "      <td>0.44</td>\n",
              "      <td>0.044444</td>\n",
              "      <td>0.0</td>\n",
              "      <td>0</td>\n",
              "      <td>1</td>\n",
              "    </tr>\n",
              "  </tbody>\n",
              "</table>\n",
              "</div>"
            ],
            "text/plain": [
              "   User_ID  Doc_ID  ...  Change of finger orientation  Phone orientation\n",
              "0       37       4  ...                             0                  1\n",
              "1       37       4  ...                             0                  1\n",
              "2       37       4  ...                             0                  1\n",
              "3       37       4  ...                             0                  1\n",
              "4       37       4  ...                             0                  1\n",
              "\n",
              "[5 rows x 34 columns]"
            ]
          },
          "metadata": {
            "tags": []
          },
          "execution_count": 194
        }
      ]
    },
    {
      "cell_type": "code",
      "metadata": {
        "id": "4dr1ExyJAuFY"
      },
      "source": [
        "\n",
        "\n",
        "features=[ 'Inter-Stroke time', 'Stroke Duration', 'Start X', 'Start Y',\n",
        "       'Stop X', 'Stop Y', 'Direct end-to-end Distance',\n",
        "       'Mean resulant length', 'WSAD Flag', 'Direction of end-to-end Time',\n",
        "       '20 per pairwise velocity', '50 per pairwise velocity',\n",
        "       '80 per pairwise velocity', '20 per pairwise acc',\n",
        "       '50 per pairwise acc', '80 per pairwise acc',\n",
        "       'Median velocity at last 3pts',\n",
        "       'Largest deviation from end-to-end line', '20 per dev line',\n",
        "       '50 per dev line', '80 per dev line', 'Average Direction',\n",
        "       'Length of Trajectory', 'Ratio dist and length of trajectory',\n",
        "       'Average velocity', 'Median acceleration at first 5 pts',\n",
        "       'Mid-Stroke pressure', 'Mid-Stroke area covered',\n",
        "       'Mid-Stroke finger orientation', 'Change of finger orientation',\n",
        "       'Phone orientation']\n",
        "\n"
      ],
      "execution_count": 195,
      "outputs": []
    },
    {
      "cell_type": "code",
      "metadata": {
        "id": "OqeNut1lCiAf"
      },
      "source": [
        "\n",
        "# Separating out the features\n",
        "x = df.loc[:, features].values\n",
        "# Separating out the target\n",
        "y = df.loc[:,['User_ID']].values\n",
        "# Standardizing the features\n",
        "x = StandardScaler().fit_transform(x)\n",
        "\n"
      ],
      "execution_count": 196,
      "outputs": []
    },
    {
      "cell_type": "code",
      "metadata": {
        "id": "TIHqgPNEGDXC",
        "colab": {
          "base_uri": "https://localhost:8080/",
          "height": 221
        },
        "outputId": "52c0aa88-213f-4a97-ccbf-ecaa11094899"
      },
      "source": [
        "pca = PCA(n_components=10)\n",
        "principalComponents = pca.fit_transform(x)\n",
        "# a way to loop and make column names?\n",
        "#Change from 1 to 31\n",
        "\n",
        "#1 is worse\n",
        "#2 is worse than using all\n",
        "#3 is better than 2\n",
        "\n",
        "#More seems to be more accurate\n",
        "#How to compare all PCA values in an easy way?\n",
        "\n",
        "principalDf = pd.DataFrame(data = principalComponents\n",
        "             , columns = ['principal component 1', 'principal component 2', 'principal component 3',\n",
        "                           'principal component 4', 'principal component 5', 'principal component 6',\n",
        "                           'principal component 7', 'principal component 8' , 'principal component 9',\n",
        "                           'principal component 10'])\n",
        "\n",
        "\n",
        "#, 'principal component 2'\n",
        "\n",
        "principalDf.head()"
      ],
      "execution_count": 197,
      "outputs": [
        {
          "output_type": "execute_result",
          "data": {
            "text/html": [
              "<div>\n",
              "<style scoped>\n",
              "    .dataframe tbody tr th:only-of-type {\n",
              "        vertical-align: middle;\n",
              "    }\n",
              "\n",
              "    .dataframe tbody tr th {\n",
              "        vertical-align: top;\n",
              "    }\n",
              "\n",
              "    .dataframe thead th {\n",
              "        text-align: right;\n",
              "    }\n",
              "</style>\n",
              "<table border=\"1\" class=\"dataframe\">\n",
              "  <thead>\n",
              "    <tr style=\"text-align: right;\">\n",
              "      <th></th>\n",
              "      <th>principal component 1</th>\n",
              "      <th>principal component 2</th>\n",
              "      <th>principal component 3</th>\n",
              "      <th>principal component 4</th>\n",
              "      <th>principal component 5</th>\n",
              "      <th>principal component 6</th>\n",
              "      <th>principal component 7</th>\n",
              "      <th>principal component 8</th>\n",
              "      <th>principal component 9</th>\n",
              "      <th>principal component 10</th>\n",
              "    </tr>\n",
              "  </thead>\n",
              "  <tbody>\n",
              "    <tr>\n",
              "      <th>0</th>\n",
              "      <td>2.361960</td>\n",
              "      <td>-1.022934</td>\n",
              "      <td>1.536501</td>\n",
              "      <td>0.876475</td>\n",
              "      <td>0.619098</td>\n",
              "      <td>3.037687</td>\n",
              "      <td>0.658025</td>\n",
              "      <td>-0.892221</td>\n",
              "      <td>0.524791</td>\n",
              "      <td>2.478470</td>\n",
              "    </tr>\n",
              "    <tr>\n",
              "      <th>1</th>\n",
              "      <td>2.500824</td>\n",
              "      <td>-1.542856</td>\n",
              "      <td>-0.527406</td>\n",
              "      <td>0.655158</td>\n",
              "      <td>0.753611</td>\n",
              "      <td>2.889580</td>\n",
              "      <td>0.244481</td>\n",
              "      <td>0.543059</td>\n",
              "      <td>-0.780943</td>\n",
              "      <td>0.341262</td>\n",
              "    </tr>\n",
              "    <tr>\n",
              "      <th>2</th>\n",
              "      <td>1.226007</td>\n",
              "      <td>1.505448</td>\n",
              "      <td>-1.004397</td>\n",
              "      <td>-0.663417</td>\n",
              "      <td>0.318404</td>\n",
              "      <td>-1.009121</td>\n",
              "      <td>-0.939594</td>\n",
              "      <td>0.459980</td>\n",
              "      <td>0.642453</td>\n",
              "      <td>0.276649</td>\n",
              "    </tr>\n",
              "    <tr>\n",
              "      <th>3</th>\n",
              "      <td>1.352413</td>\n",
              "      <td>-1.417223</td>\n",
              "      <td>-0.540188</td>\n",
              "      <td>-0.739255</td>\n",
              "      <td>0.373387</td>\n",
              "      <td>2.680532</td>\n",
              "      <td>-0.577970</td>\n",
              "      <td>-0.026630</td>\n",
              "      <td>-0.575421</td>\n",
              "      <td>0.756512</td>\n",
              "    </tr>\n",
              "    <tr>\n",
              "      <th>4</th>\n",
              "      <td>4.396423</td>\n",
              "      <td>-0.002984</td>\n",
              "      <td>-1.461139</td>\n",
              "      <td>0.063828</td>\n",
              "      <td>1.061915</td>\n",
              "      <td>1.840600</td>\n",
              "      <td>0.225425</td>\n",
              "      <td>-0.577742</td>\n",
              "      <td>-0.514931</td>\n",
              "      <td>-0.076644</td>\n",
              "    </tr>\n",
              "  </tbody>\n",
              "</table>\n",
              "</div>"
            ],
            "text/plain": [
              "   principal component 1  ...  principal component 10\n",
              "0               2.361960  ...                2.478470\n",
              "1               2.500824  ...                0.341262\n",
              "2               1.226007  ...                0.276649\n",
              "3               1.352413  ...                0.756512\n",
              "4               4.396423  ...               -0.076644\n",
              "\n",
              "[5 rows x 10 columns]"
            ]
          },
          "metadata": {
            "tags": []
          },
          "execution_count": 197
        }
      ]
    },
    {
      "cell_type": "code",
      "metadata": {
        "id": "49ojIcOKGR0L",
        "colab": {
          "base_uri": "https://localhost:8080/",
          "height": 221
        },
        "outputId": "ac641e52-d278-4c52-e941-7e41eea9f0ef"
      },
      "source": [
        "finalDf = pd.concat([principalDf, df[['User_ID']]], axis = 1)\n",
        "\n",
        "finalDf.head()\n"
      ],
      "execution_count": 198,
      "outputs": [
        {
          "output_type": "execute_result",
          "data": {
            "text/html": [
              "<div>\n",
              "<style scoped>\n",
              "    .dataframe tbody tr th:only-of-type {\n",
              "        vertical-align: middle;\n",
              "    }\n",
              "\n",
              "    .dataframe tbody tr th {\n",
              "        vertical-align: top;\n",
              "    }\n",
              "\n",
              "    .dataframe thead th {\n",
              "        text-align: right;\n",
              "    }\n",
              "</style>\n",
              "<table border=\"1\" class=\"dataframe\">\n",
              "  <thead>\n",
              "    <tr style=\"text-align: right;\">\n",
              "      <th></th>\n",
              "      <th>principal component 1</th>\n",
              "      <th>principal component 2</th>\n",
              "      <th>principal component 3</th>\n",
              "      <th>principal component 4</th>\n",
              "      <th>principal component 5</th>\n",
              "      <th>principal component 6</th>\n",
              "      <th>principal component 7</th>\n",
              "      <th>principal component 8</th>\n",
              "      <th>principal component 9</th>\n",
              "      <th>principal component 10</th>\n",
              "      <th>User_ID</th>\n",
              "    </tr>\n",
              "  </thead>\n",
              "  <tbody>\n",
              "    <tr>\n",
              "      <th>0</th>\n",
              "      <td>2.361960</td>\n",
              "      <td>-1.022934</td>\n",
              "      <td>1.536501</td>\n",
              "      <td>0.876475</td>\n",
              "      <td>0.619098</td>\n",
              "      <td>3.037687</td>\n",
              "      <td>0.658025</td>\n",
              "      <td>-0.892221</td>\n",
              "      <td>0.524791</td>\n",
              "      <td>2.478470</td>\n",
              "      <td>37</td>\n",
              "    </tr>\n",
              "    <tr>\n",
              "      <th>1</th>\n",
              "      <td>2.500824</td>\n",
              "      <td>-1.542856</td>\n",
              "      <td>-0.527406</td>\n",
              "      <td>0.655158</td>\n",
              "      <td>0.753611</td>\n",
              "      <td>2.889580</td>\n",
              "      <td>0.244481</td>\n",
              "      <td>0.543059</td>\n",
              "      <td>-0.780943</td>\n",
              "      <td>0.341262</td>\n",
              "      <td>37</td>\n",
              "    </tr>\n",
              "    <tr>\n",
              "      <th>2</th>\n",
              "      <td>1.226007</td>\n",
              "      <td>1.505448</td>\n",
              "      <td>-1.004397</td>\n",
              "      <td>-0.663417</td>\n",
              "      <td>0.318404</td>\n",
              "      <td>-1.009121</td>\n",
              "      <td>-0.939594</td>\n",
              "      <td>0.459980</td>\n",
              "      <td>0.642453</td>\n",
              "      <td>0.276649</td>\n",
              "      <td>37</td>\n",
              "    </tr>\n",
              "    <tr>\n",
              "      <th>3</th>\n",
              "      <td>1.352413</td>\n",
              "      <td>-1.417223</td>\n",
              "      <td>-0.540188</td>\n",
              "      <td>-0.739255</td>\n",
              "      <td>0.373387</td>\n",
              "      <td>2.680532</td>\n",
              "      <td>-0.577970</td>\n",
              "      <td>-0.026630</td>\n",
              "      <td>-0.575421</td>\n",
              "      <td>0.756512</td>\n",
              "      <td>37</td>\n",
              "    </tr>\n",
              "    <tr>\n",
              "      <th>4</th>\n",
              "      <td>4.396423</td>\n",
              "      <td>-0.002984</td>\n",
              "      <td>-1.461139</td>\n",
              "      <td>0.063828</td>\n",
              "      <td>1.061915</td>\n",
              "      <td>1.840600</td>\n",
              "      <td>0.225425</td>\n",
              "      <td>-0.577742</td>\n",
              "      <td>-0.514931</td>\n",
              "      <td>-0.076644</td>\n",
              "      <td>37</td>\n",
              "    </tr>\n",
              "  </tbody>\n",
              "</table>\n",
              "</div>"
            ],
            "text/plain": [
              "   principal component 1  ...  User_ID\n",
              "0               2.361960  ...       37\n",
              "1               2.500824  ...       37\n",
              "2               1.226007  ...       37\n",
              "3               1.352413  ...       37\n",
              "4               4.396423  ...       37\n",
              "\n",
              "[5 rows x 11 columns]"
            ]
          },
          "metadata": {
            "tags": []
          },
          "execution_count": 198
        }
      ]
    },
    {
      "cell_type": "code",
      "metadata": {
        "id": "0jxN8JaUI8_7",
        "colab": {
          "base_uri": "https://localhost:8080/"
        },
        "outputId": "07f20334-f45e-4e2a-d8b4-1febb0e71298"
      },
      "source": [
        "pca.explained_variance_ratio_"
      ],
      "execution_count": 199,
      "outputs": [
        {
          "output_type": "execute_result",
          "data": {
            "text/plain": [
              "array([0.16803814, 0.11786775, 0.09160399, 0.07272056, 0.06970146,\n",
              "       0.06721427, 0.04923208, 0.04830615, 0.04468095, 0.03981371])"
            ]
          },
          "metadata": {
            "tags": []
          },
          "execution_count": 199
        }
      ]
    },
    {
      "cell_type": "code",
      "metadata": {
        "id": "T-uuuUVYA4iE",
        "colab": {
          "base_uri": "https://localhost:8080/"
        },
        "outputId": "6196b196-7ffa-451e-f5e4-8d472395c1b2"
      },
      "source": [
        "print (pca.components_)"
      ],
      "execution_count": 200,
      "outputs": [
        {
          "output_type": "stream",
          "text": [
            "[[ 7.26242848e-04 -2.02807295e-01 -8.13807573e-04  6.01237328e-02\n",
            "  -8.95125342e-02 -1.74190338e-01  1.79618130e-01 -9.69867904e-03\n",
            "   4.48630505e-02 -2.76783203e-01  2.78734553e-01  3.52540864e-01\n",
            "   3.16022668e-01 -1.51972947e-01  1.14506624e-01  2.55179149e-01\n",
            "   3.36017257e-01  9.95930061e-02  6.76565524e-02  7.97816543e-02\n",
            "   9.14584132e-02 -2.55850021e-01  1.11312604e-01  1.40846517e-01\n",
            "   3.68607671e-01  1.16235749e-01  3.58597600e-03 -2.44278531e-02\n",
            "  -5.64672495e-02 -0.00000000e+00 -9.87230370e-02]\n",
            " [ 9.46743924e-04 -5.70070993e-02 -2.71922045e-02 -1.10548105e-01\n",
            "   2.07456738e-01  1.73258863e-02  1.04572170e-01  2.23486384e-01\n",
            "  -1.06751494e-01  9.30516851e-02  7.81449250e-02  7.57284904e-02\n",
            "   8.81173115e-02 -4.32414359e-02  6.19924659e-02  8.33496937e-02\n",
            "   7.21351756e-02 -4.72894680e-01 -3.91615850e-01 -4.56355031e-01\n",
            "  -4.25736926e-01  1.04369802e-01  2.49912043e-02  1.49954345e-01\n",
            "   7.42441146e-02  6.24243333e-02 -2.31148410e-02 -5.05828742e-03\n",
            "  -6.38183313e-02 -0.00000000e+00 -8.65742905e-02]\n",
            " [ 2.73398080e-03  8.89667591e-02  1.96732287e-02  4.24495489e-02\n",
            "   1.67825051e-02  1.00830706e-01 -1.57977375e-01 -8.15420976e-02\n",
            "   5.40788803e-03  1.21866004e-01 -1.68435228e-01 -1.47375600e-01\n",
            "   3.25629728e-01 -2.21174011e-01  4.80696583e-01  4.11855547e-01\n",
            "  -1.20137285e-01  1.78851338e-02  3.94811718e-02  2.85752216e-02\n",
            "   4.01503635e-03  1.15459461e-01 -1.08802204e-01 -9.95168013e-02\n",
            "  -1.37327597e-01  4.80044359e-01 -2.49681504e-02  4.90267347e-02\n",
            "   8.53886183e-02  0.00000000e+00  1.24016930e-01]\n",
            " [ 7.74179063e-03  3.67805727e-01  1.26187004e-01  1.32532638e-01\n",
            "  -2.49171877e-02  2.69936712e-01  3.38257078e-01 -2.90706190e-01\n",
            "   1.23499102e-01 -4.21049879e-02  1.35186480e-02  6.56832357e-03\n",
            "   2.00956007e-02 -2.65171192e-02 -4.86873934e-03  1.16284809e-02\n",
            "   1.65795001e-02 -5.74844460e-02 -2.87356076e-01 -1.03642451e-01\n",
            "   1.27880457e-01 -5.35216466e-02  5.31712133e-01 -3.41199761e-01\n",
            "   3.20080230e-02 -4.32668060e-03  1.34066071e-01  4.78382045e-03\n",
            "   5.50078087e-02  0.00000000e+00  5.40952466e-02]\n",
            " [ 1.32336051e-04 -1.80380869e-01  1.77028116e-01  5.20252577e-01\n",
            "   1.54886003e-01  3.00815563e-01 -1.26063915e-01  1.09555493e-02\n",
            "  -3.27523674e-02 -9.37142927e-02  4.50148796e-02  8.94531067e-02\n",
            "   3.73835189e-03 -1.37943005e-02 -1.01217221e-01 -3.12848956e-02\n",
            "   8.59231121e-02 -5.88835406e-02 -1.23511575e-02 -6.02797203e-02\n",
            "  -7.99928584e-02 -9.66845020e-02 -1.68346751e-01  7.80468662e-02\n",
            "   7.72484687e-02 -1.00939715e-01 -3.02063859e-02  8.54516833e-02\n",
            "   3.92420219e-01  0.00000000e+00  5.10371303e-01]\n",
            " [ 1.83448901e-03 -3.63232351e-02  2.28129448e-01 -5.35412442e-03\n",
            "  -1.99887660e-01 -2.71476235e-01 -3.04378218e-01 -4.41424566e-01\n",
            "   3.19361641e-01 -2.93670882e-01 -1.21146329e-01 -6.03289188e-02\n",
            "  -1.16563066e-02 -3.31920783e-02 -3.19448157e-02 -1.41491090e-02\n",
            "  -4.23336581e-02 -1.62794202e-01 -1.51451159e-01 -2.24565746e-01\n",
            "  -1.84597689e-01 -3.15044284e-01 -2.37990547e-01 -1.47312806e-01\n",
            "  -6.25354403e-02 -3.32583947e-02 -3.54423235e-02 -8.41194441e-02\n",
            "  -7.10035416e-02 -0.00000000e+00 -6.86952291e-02]\n",
            " [ 1.24732431e-02  2.14510577e-02  2.09260596e-02 -1.89661270e-01\n",
            "  -2.50749777e-01  1.27364302e-01 -1.64893112e-03 -1.44894845e-01\n",
            "   4.44429658e-01  3.50798016e-01  4.05543446e-02  1.01368328e-01\n",
            "   1.78354595e-01 -3.61104920e-01 -2.68189837e-01  1.08288537e-01\n",
            "   1.10004783e-01  2.35512138e-03  7.08586145e-02 -8.11542937e-03\n",
            "  -6.52086953e-02  3.55532626e-01 -8.82383277e-02  1.28049692e-01\n",
            "   7.61860114e-02 -2.69244463e-01 -3.63257502e-03  1.56342285e-01\n",
            "   8.89517439e-02 -0.00000000e+00  4.27431933e-02]\n",
            " [ 2.71421655e-03 -2.35719457e-02 -6.55556411e-01  7.66927457e-02\n",
            "  -4.57354528e-01 -6.83380342e-02 -8.96669945e-02 -3.49989887e-02\n",
            "  -1.76298467e-01 -2.46881308e-02 -2.74149708e-02  1.26306615e-02\n",
            "  -8.03286207e-03  2.69982645e-02  4.45583184e-03 -1.02908860e-02\n",
            "   4.46570938e-02 -9.29678596e-02 -8.81826930e-02 -7.44870191e-02\n",
            "  -5.95648705e-02 -3.17262858e-02 -3.92699237e-02 -1.19533933e-01\n",
            "   3.07009054e-02  6.19097716e-03  4.42736752e-01  1.01434176e-01\n",
            "   2.21616879e-01 -0.00000000e+00  8.01577372e-02]\n",
            " [-2.26618644e-02  1.03720699e-01 -1.08750782e-01  4.74528380e-02\n",
            "   2.58941038e-01 -1.32990039e-01 -2.42079248e-01 -3.67156448e-02\n",
            "  -4.55939851e-01 -6.06199920e-03 -8.33004291e-02  2.96276788e-02\n",
            "   1.94226137e-01 -4.24200309e-01 -2.87723722e-01  1.42698272e-01\n",
            "   6.49825413e-02 -2.10264192e-03 -7.37930966e-02  3.95430463e-02\n",
            "   9.70245991e-02  4.21907428e-03 -2.52885024e-02 -3.83883130e-01\n",
            "   4.08166156e-02 -2.87732582e-01 -1.50046793e-01 -5.75680264e-02\n",
            "  -1.13516448e-01 -0.00000000e+00 -3.95847209e-02]\n",
            " [ 3.35970006e-02 -7.44382155e-03 -2.91847900e-02  1.30721196e-01\n",
            "  -4.88763575e-02  1.69888594e-01  2.28345932e-01  1.43375739e-01\n",
            "   2.82269047e-02 -1.71898844e-01 -2.90214956e-01 -2.53217202e-01\n",
            "   8.24019007e-02 -3.45629874e-01 -1.25574597e-01  9.14739821e-02\n",
            "  -1.91847919e-01  6.44530621e-03  1.39425591e-01  3.83087183e-03\n",
            "  -1.22438698e-01 -1.68405966e-01  4.80183985e-02  3.16865387e-01\n",
            "  -7.50258356e-02 -1.19331156e-01  2.38332513e-01 -5.08080689e-01\n",
            "  -4.51703664e-03 -0.00000000e+00 -1.03199774e-01]]\n"
          ],
          "name": "stdout"
        }
      ]
    },
    {
      "cell_type": "code",
      "metadata": {
        "id": "joadxTiIBF9b"
      },
      "source": [
        "pca2 = PCA(.95)"
      ],
      "execution_count": 201,
      "outputs": []
    },
    {
      "cell_type": "code",
      "metadata": {
        "id": "c73RtdHNBy3h",
        "colab": {
          "base_uri": "https://localhost:8080/"
        },
        "outputId": "4fbe199d-4210-4fc8-9042-81f71ccb2255"
      },
      "source": [
        "pca2.fit(X_train)"
      ],
      "execution_count": 202,
      "outputs": [
        {
          "output_type": "execute_result",
          "data": {
            "text/plain": [
              "PCA(copy=True, iterated_power='auto', n_components=0.95, random_state=None,\n",
              "    svd_solver='auto', tol=0.0, whiten=False)"
            ]
          },
          "metadata": {
            "tags": []
          },
          "execution_count": 202
        }
      ]
    },
    {
      "cell_type": "code",
      "metadata": {
        "id": "HJsLz70bCaie"
      },
      "source": [
        "X_train = pca2.transform(X_train)\n",
        "X_test = pca2.transform(X_test)"
      ],
      "execution_count": 203,
      "outputs": []
    },
    {
      "cell_type": "code",
      "metadata": {
        "id": "pwfgLlnjDhn3"
      },
      "source": [
        "logisticRegr = LogisticRegression(solver = 'lbfgs')"
      ],
      "execution_count": 204,
      "outputs": []
    },
    {
      "cell_type": "code",
      "metadata": {
        "id": "YV-uUkhGDrQW",
        "colab": {
          "base_uri": "https://localhost:8080/"
        },
        "outputId": "cbad3379-fa42-4d7f-9720-666e5544e605"
      },
      "source": [
        "logisticRegr.fit(X_train, y_train)"
      ],
      "execution_count": 205,
      "outputs": [
        {
          "output_type": "stream",
          "text": [
            "/usr/local/lib/python3.6/dist-packages/sklearn/linear_model/_logistic.py:940: ConvergenceWarning: lbfgs failed to converge (status=1):\n",
            "STOP: TOTAL NO. of ITERATIONS REACHED LIMIT.\n",
            "\n",
            "Increase the number of iterations (max_iter) or scale the data as shown in:\n",
            "    https://scikit-learn.org/stable/modules/preprocessing.html\n",
            "Please also refer to the documentation for alternative solver options:\n",
            "    https://scikit-learn.org/stable/modules/linear_model.html#logistic-regression\n",
            "  extra_warning_msg=_LOGISTIC_SOLVER_CONVERGENCE_MSG)\n"
          ],
          "name": "stderr"
        },
        {
          "output_type": "execute_result",
          "data": {
            "text/plain": [
              "LogisticRegression(C=1.0, class_weight=None, dual=False, fit_intercept=True,\n",
              "                   intercept_scaling=1, l1_ratio=None, max_iter=100,\n",
              "                   multi_class='auto', n_jobs=None, penalty='l2',\n",
              "                   random_state=None, solver='lbfgs', tol=0.0001, verbose=0,\n",
              "                   warm_start=False)"
            ]
          },
          "metadata": {
            "tags": []
          },
          "execution_count": 205
        }
      ]
    },
    {
      "cell_type": "code",
      "metadata": {
        "id": "dNde6AJWEBdT",
        "colab": {
          "base_uri": "https://localhost:8080/"
        },
        "outputId": "6b7c7e3c-dd47-4ff3-ec5a-b8fc52e84b96"
      },
      "source": [
        "logisticRegr.predict(X_test[0].reshape(1,-1))"
      ],
      "execution_count": 206,
      "outputs": [
        {
          "output_type": "execute_result",
          "data": {
            "text/plain": [
              "array([18])"
            ]
          },
          "metadata": {
            "tags": []
          },
          "execution_count": 206
        }
      ]
    },
    {
      "cell_type": "code",
      "metadata": {
        "id": "VfgMPMVxEKRN",
        "colab": {
          "base_uri": "https://localhost:8080/"
        },
        "outputId": "79731f34-93a3-40ba-9397-25115581e6ff"
      },
      "source": [
        "logisticRegr.predict(X_test[0:10])"
      ],
      "execution_count": 207,
      "outputs": [
        {
          "output_type": "execute_result",
          "data": {
            "text/plain": [
              "array([18, 35, 14,  9, 32,  7, 26, 34, 32, 23])"
            ]
          },
          "metadata": {
            "tags": []
          },
          "execution_count": 207
        }
      ]
    },
    {
      "cell_type": "code",
      "metadata": {
        "id": "RsstPFZDEc3r"
      },
      "source": [
        "#logisticRegr.score(X_test, y_train)\n",
        "#error inconsistent number of samples\n",
        "#try making more consistent\n",
        "#Not sure how to fix"
      ],
      "execution_count": 208,
      "outputs": []
    },
    {
      "cell_type": "code",
      "metadata": {
        "id": "e2AuvK-Te8pT"
      },
      "source": [
        "# try knn on the pca"
      ],
      "execution_count": 209,
      "outputs": []
    },
    {
      "cell_type": "code",
      "metadata": {
        "colab": {
          "base_uri": "https://localhost:8080/"
        },
        "id": "ORkrsCJFfK2l",
        "outputId": "5677cea5-a376-4f11-818d-f68ba2458b8a"
      },
      "source": [
        "np.any(np.isnan(finalDf))"
      ],
      "execution_count": 210,
      "outputs": [
        {
          "output_type": "execute_result",
          "data": {
            "text/plain": [
              "False"
            ]
          },
          "metadata": {
            "tags": []
          },
          "execution_count": 210
        }
      ]
    },
    {
      "cell_type": "code",
      "metadata": {
        "colab": {
          "base_uri": "https://localhost:8080/"
        },
        "id": "mYacGSusfSkF",
        "outputId": "15399d91-e444-48d7-9d54-9c132dc5040e"
      },
      "source": [
        "np.all(np.isfinite(finalDf))"
      ],
      "execution_count": 211,
      "outputs": [
        {
          "output_type": "execute_result",
          "data": {
            "text/plain": [
              "True"
            ]
          },
          "metadata": {
            "tags": []
          },
          "execution_count": 211
        }
      ]
    },
    {
      "cell_type": "code",
      "metadata": {
        "colab": {
          "base_uri": "https://localhost:8080/"
        },
        "id": "S6_aVOmrfStD",
        "outputId": "32812399-0a8a-446e-a74b-fcb50f717ab1"
      },
      "source": [
        "finalDf.columns"
      ],
      "execution_count": 212,
      "outputs": [
        {
          "output_type": "execute_result",
          "data": {
            "text/plain": [
              "Index(['principal component 1', 'principal component 2',\n",
              "       'principal component 3', 'principal component 4',\n",
              "       'principal component 5', 'principal component 6',\n",
              "       'principal component 7', 'principal component 8',\n",
              "       'principal component 9', 'principal component 10', 'User_ID'],\n",
              "      dtype='object')"
            ]
          },
          "metadata": {
            "tags": []
          },
          "execution_count": 212
        }
      ]
    },
    {
      "cell_type": "code",
      "metadata": {
        "colab": {
          "base_uri": "https://localhost:8080/"
        },
        "id": "vC5bIhFrfSwx",
        "outputId": "ec7898d7-2bdf-4eda-b604-71542d09d6ac"
      },
      "source": [
        "finalDf['User_ID'].value_counts()"
      ],
      "execution_count": 213,
      "outputs": [
        {
          "output_type": "execute_result",
          "data": {
            "text/plain": [
              "2     1230\n",
              "35    1063\n",
              "23     969\n",
              "38     786\n",
              "3      759\n",
              "15     719\n",
              "33     712\n",
              "28     710\n",
              "17     706\n",
              "21     702\n",
              "14     651\n",
              "8      618\n",
              "34     613\n",
              "27     609\n",
              "7      591\n",
              "6      562\n",
              "36     500\n",
              "18     461\n",
              "9      453\n",
              "11     445\n",
              "29     439\n",
              "39     436\n",
              "24     435\n",
              "25     432\n",
              "37     424\n",
              "5      413\n",
              "1      401\n",
              "10     387\n",
              "16     382\n",
              "22     374\n",
              "31     370\n",
              "20     356\n",
              "12     342\n",
              "40     312\n",
              "13     305\n",
              "32     304\n",
              "19     293\n",
              "26     242\n",
              "4      241\n",
              "30     225\n",
              "41     186\n",
              "Name: User_ID, dtype: int64"
            ]
          },
          "metadata": {
            "tags": []
          },
          "execution_count": 213
        }
      ]
    },
    {
      "cell_type": "code",
      "metadata": {
        "id": "hmf4LGvNfSz_"
      },
      "source": [
        "#Choosing the columns for X\n",
        "#Not using 'User_ID'\n",
        "#technically reusing variables\n",
        "#should be fine though\n",
        "#could add numbers\n",
        "\n",
        "X = finalDf[['principal component 1', 'principal component 2', 'principal component 3',# ]].values\n",
        "\n",
        "\n",
        "#columns = ['principal component 1', 'principal component 2', 'principal component 3',\n",
        "                           'principal component 4', 'principal component 5', 'principal component 6',\n",
        "                           'principal component 7', 'principal component 8' , 'principal component 9',\n",
        "                           'principal component 10']].values\n",
        "\n",
        "#, 'principal component 2'\n",
        "\n",
        "# need to change here"
      ],
      "execution_count": 214,
      "outputs": []
    },
    {
      "cell_type": "code",
      "metadata": {
        "id": "m8J4M2OjfS3M"
      },
      "source": [
        "#Choosing the lables for y\n",
        "y = finalDf['User_ID'].values"
      ],
      "execution_count": 215,
      "outputs": []
    },
    {
      "cell_type": "code",
      "metadata": {
        "id": "9Al8RikEfS6v"
      },
      "source": [
        "#Train and test split\n",
        "#80% train, 20% test\n",
        "#splitting the data into test and train dataset\n",
        "\n",
        "from sklearn.model_selection import train_test_split\n",
        "X_train, X_test, y_train, y_test = train_test_split(X, y, test_size=0.20)"
      ],
      "execution_count": 216,
      "outputs": []
    },
    {
      "cell_type": "code",
      "metadata": {
        "id": "kIc1V0wEgcdn"
      },
      "source": [
        "#Feature Scaling\n",
        "from sklearn.preprocessing import StandardScaler\n",
        "scaler = StandardScaler()\n",
        "scaler.fit(X_train)\n",
        "\n",
        "X_train = scaler.transform(X_train)\n",
        "X_test = scaler.transform(X_test)"
      ],
      "execution_count": 217,
      "outputs": []
    },
    {
      "cell_type": "code",
      "metadata": {
        "colab": {
          "base_uri": "https://localhost:8080/"
        },
        "id": "bUOV3uq0gcoh",
        "outputId": "a0ca3b6e-4ca1-4bd6-faeb-7a1d53a9f7e1"
      },
      "source": [
        "#Training and Prediction\n",
        "from sklearn.neighbors import KNeighborsClassifier\n",
        "classifier = KNeighborsClassifier(n_neighbors=5)         #value for k\n",
        "classifier.fit(X_train, y_train)"
      ],
      "execution_count": 218,
      "outputs": [
        {
          "output_type": "execute_result",
          "data": {
            "text/plain": [
              "KNeighborsClassifier(algorithm='auto', leaf_size=30, metric='minkowski',\n",
              "                     metric_params=None, n_jobs=None, n_neighbors=5, p=2,\n",
              "                     weights='uniform')"
            ]
          },
          "metadata": {
            "tags": []
          },
          "execution_count": 218
        }
      ]
    },
    {
      "cell_type": "code",
      "metadata": {
        "id": "r9oAd7R_gcxn"
      },
      "source": [
        "#Make prediction on the test data\n",
        "y_pred = classifier.predict(X_test)"
      ],
      "execution_count": 219,
      "outputs": []
    },
    {
      "cell_type": "code",
      "metadata": {
        "colab": {
          "base_uri": "https://localhost:8080/"
        },
        "id": "IxwCX5_Ggc6Q",
        "outputId": "9a29d4de-9ac3-4f11-e88e-d6359ee42e5f"
      },
      "source": [
        "#Evaluating the Algorithm\n",
        "from sklearn.metrics import classification_report, confusion_matrix\n",
        "print(confusion_matrix(y_test, y_pred))\n",
        "print(classification_report(y_test, y_pred))"
      ],
      "execution_count": 220,
      "outputs": [
        {
          "output_type": "stream",
          "text": [
            "[[ 48   0   0   4   1   0   1   0   0   0   0   0   0   2   2   0   0   0\n",
            "    0   1   0   8   2   0   0   1   0   1   0   0   1   0   1   0   0   0\n",
            "    0   2   1   0   0]\n",
            " [  4 214   0   0   0   0   3   4   1   0   0   0   2   3   4   0   0   0\n",
            "    0   3   0   0  12   1   0   0   1   5   0   0   0   0   0   0   0   0\n",
            "    0   0   1   1   0]\n",
            " [  0   2  61   0   3   5   0   5   2   3   4   1   0   0   1   4  26   5\n",
            "    7   0   5   0   1   2   0   0   5   2   0   1   0   0   0   1   9   0\n",
            "    2   0   0   0   0]\n",
            " [  3   1   1  25   0   0   0   1   0   0   0   0   0   0   1   0   0   0\n",
            "    0   0   0   0   0   2   0   0   0   0   0   3   0   0   1   1   0   0\n",
            "    0   0   0   0   0]\n",
            " [  0   2   3   0  39   1   0   5   4   0   1   3   2   0   0   0   2   0\n",
            "    2   0   0   0   0   0   0   0   2   0   0   0   1   2   1   0   4   0\n",
            "    2   0   2   0   0]\n",
            " [  0   1   1   0   3  74   0   9   0   1   1   0   3   0   1   6   4   0\n",
            "    0   0   0   0   0   1   0   1   1   1   0   0   0   0   0   0   3   0\n",
            "    0   0   0   0   0]\n",
            " [  9  10   1   4   0   0  52   1   1   0   0   0   0   3   3   0   0   0\n",
            "    0   2   0   5   7   0   0   0   0  12   0   1   0   0   1   0   0   0\n",
            "    0   3   3   0   0]\n",
            " [  2   3   5   0   3   3   0  54   1   2   4   4   1   0   2   3   2   0\n",
            "    1   0   0   1   1   0   0   0   3   0   0   0   0   1   0   0   4   1\n",
            "    3   0   0   5   0]\n",
            " [  0   1   0   0   3   0   0   1  59   1   0   1   0   0   1   0   2   0\n",
            "    0   0   0   1   2   0   1   0   2   0   0   0   0   3   0   0   0   1\n",
            "    0   1   0   3   0]\n",
            " [  0   0   7   1   1   5   0   3   0  35   6   0   1   0   0   2   2   1\n",
            "    2   0   3   0   0   1   0   1   3   0   0   0   0   1   1   0   4   0\n",
            "    1   0   0   0   0]\n",
            " [  0   0   2   0   1   3   0   5   0   5  61   0   0   0   0   4   0   5\n",
            "    0   0   3   0   1   0   0   0   1   0   0   0   0   0   0   0   5   0\n",
            "    1   0   0   0   0]\n",
            " [  0   0   0   0   6   0   0   8   0   0   2  40   0   0   0   0   0   0\n",
            "    0   0   0   0   0   0   0   0   0   0   0   0   0   0   0   0   2   0\n",
            "    1   0   0   2   0]\n",
            " [  0   4   1   0   2   4   2  12   0   1   0   0  10   2   0   1   5   0\n",
            "    0   1   0   0   1   0   1   0   0   0   1   0   0   0   0   0   5   0\n",
            "    4   0   1   2   0]\n",
            " [  0   1   1   0   4   0   2   1   0   0   0   0   1  89   0   0   0   0\n",
            "    0   0   0   2   4   0   0   0   0   0   3   0   5   0   1   0   0   0\n",
            "    2   3   0   2   0]\n",
            " [  3   4   1   0   0   2   5   0   2   0   0   0   0  10  87   0   1   0\n",
            "    0   1   0   1  10   3   0   0   0   2   2   0   2   0   0   0   0   2\n",
            "    0   2   0   0   0]\n",
            " [  0   0   2   0   3   1   0   2   0   9   6   5   0   0   0  30   0   2\n",
            "    1   0   3   0   0   0   0   0   2   0   0   0   0   0   0   0   3   0\n",
            "    2   0   0   1   0]\n",
            " [  0   0   5   0   1  11   0   5   0   1   0   1   2   1   0   7  89   5\n",
            "    2   0   2   1   1   1   0   0   1   0   0   0   0   1   1   0  10   0\n",
            "    2   0   0   1   0]\n",
            " [  0   1   5   0   1   1   1   0   0   0   3   0   0   1   0   1   4  47\n",
            "    3   0   5   0   0   0   0   0   1   0   0   0   0   1   0   0   4   0\n",
            "    2   0   0   0   0]\n",
            " [  0   0   3   0   4   0   0   1   1   4   1   0   0   0   1   0   1   2\n",
            "   27   1   1   0   0   0   1   0   2   0   0   0   0   1   2   0   1   0\n",
            "    1   0   0   2   0]\n",
            " [  1   4   0   1   1   0   0   0   1   1   0   0   1   1   2   0   0   0\n",
            "    0  47   0   1   1   1   1   0   0   0   2   0   0   1   0   0   0   1\n",
            "    0   1   1   0   1]\n",
            " [  0   1   5   1   2   3   0   1   2   1   5   0   2   0   2   2   8   5\n",
            "    1   0  93   0   1   0   0   0   1   0   0   0   0   0   0   0   6   0\n",
            "    1   0   0   0   0]\n",
            " [  4   5   0   2   1   0   7   2   0   0   0   0   1   2   2   0   1   0\n",
            "    0   2   0  35   1   0   0   0   0   1   0   0   1   0   2   0   0   0\n",
            "    0   0   3   0   0]\n",
            " [  0   8   1   3   0   0   4   0   1   0   0   0   0  11   9   0   0   0\n",
            "    0   2   0   2 138   3   0   1   0   0   2   0   1   0   0   0   0   2\n",
            "    0   0   2   0   0]\n",
            " [  2   3   3   3   4   3   1   2   1   0   0   0   1   3   2   0   0   1\n",
            "    0   0   0   1   6  43   0   0   0   2   0   0   2   1   1   3   2   1\n",
            "    0   1   1   0   0]\n",
            " [  0   8   2   1   1   1   2   0   2   1   0   0   0   2   4   0   0   1\n",
            "    0   8   3   2   2   0  42   1   0   1   1   2   0   0   2   0   0   0\n",
            "    0   3   0   0   0]\n",
            " [  2   0   0   0   1   3   2   1   0   0   0   1   0   3   6   0   0   0\n",
            "    0   0   0   4   5   1   1  15   0   0   1   1   0   0   0   0   1   0\n",
            "    0   2   0   0   0]\n",
            " [  0   2  12   0   4   8   0  12   2   1   2   0   2   0   2   5   4   1\n",
            "    2   0   3   1   0   0   1   0  44   0   0   0   0   6   1   0  10   0\n",
            "    0   0   1   1   0]\n",
            " [  9  17   2   1   2   1   5   1   1   1   1   1   0   2   1   0   0   0\n",
            "    0   6   0   6   3   2   0   2   1  67   0   0   0   0   3   1   0   1\n",
            "    0   2   4   0   0]\n",
            " [  0   1   1   0   1   1   0   0   1   0   0   2   1   7   5   0   1   0\n",
            "    0   2   0   1   3   2   1   0   0   1  44   0   5   0   0   0   1   7\n",
            "    2   0   0   1   0]\n",
            " [  0   1   0   2   1   0   2   0   1   1   0   0   0   0   0   0   0   0\n",
            "    0   0   0   6   3   0   3   2   0   1   1  20   1   0   2   0   0   1\n",
            "    1   0   1   0   1]\n",
            " [  2   3   0   1   1   1   6   0   1   0   0   0   0  10   2   0   0   0\n",
            "    0   0   0   0   3   1   0   0   0   4   0   1  37   0   0   1   0   1\n",
            "    0   0   2   0   0]\n",
            " [  0   0   1   0   6   1   1   3   6   1   0   0   0   0   0   0   1   0\n",
            "    1   0   0   0   0   1   0   0   1   0   0   0   0  36   0   0   0   0\n",
            "    3   0   1   0   0]\n",
            " [  2   8   2   1   3   1   8   1   1   0   0   0   0  13   6   1   0   2\n",
            "    0   3   0   7   4   4   1   0   3   4  10   0   3   1  35   0   0   2\n",
            "    1   3   1   0   0]\n",
            " [  1   1   1   2   0   0   0   0   0   0   0   0   0   0   1   0   0   0\n",
            "    0   0   0   0   0   1   0   0   0   0   0   0   0   0   0 117   0   0\n",
            "    0   2   0   0   1]\n",
            " [  0   1   7   0   6   1   0   5   0   2   7   1   3   1   0   7  10   4\n",
            "    2   0   6   1   0   0   0   0   3   0   1   0   0   0   0   0 140   0\n",
            "    5   1   0   0   0]\n",
            " [  1   2   1   1   0   0   0   0   2   0   1   0   1   5   4   0   0   0\n",
            "    0   1   0   0   7   4   0   0   0   3   4   1   0   1   2   1   1  58\n",
            "    1   2   1   0   0]\n",
            " [  0   4   3   0   5   2   2   4   0   1   1   0   4   1   3   0   3   0\n",
            "    0   0   1   0   0   1   0   0   0   0   0   0   0   4   1   0   7   0\n",
            "   46   0   0   1   0]\n",
            " [  4   4   3   0   0   1   4   1   0   0   0   0   0   5  11   0   0   0\n",
            "    0   2   0   3  10   0   2   1   1   5   6   0   2   0   3   3   0   1\n",
            "    0  85   2   0   0]\n",
            " [  2   3   2   1   0   0   5   1   1   0   0   0   0   2   5   0   0   0\n",
            "    0   5   0   2   4   0   0   1   0   1   0   3   0   0   2   1   3   1\n",
            "    0   7  35   0   0]\n",
            " [  0   2   0   0   6   3   0  15   5   1   0   5   2   1   0   1   1   0\n",
            "    2   0   1   0   0   0   0   0   0   0   0   0   0   1   0   0   1   0\n",
            "    2   1   0  19   0]\n",
            " [  1   0   0   3   0   0   0   0   0   0   0   0   0   0   0   0   0   0\n",
            "    0   1   0   0   0   0   3   0   0   0   0   0   0   0   1   0   0   0\n",
            "    0   0   0   0  23]]\n",
            "              precision    recall  f1-score   support\n",
            "\n",
            "           1       0.48      0.63      0.55        76\n",
            "           2       0.66      0.83      0.74       259\n",
            "           3       0.42      0.39      0.40       157\n",
            "           4       0.44      0.64      0.52        39\n",
            "           5       0.33      0.50      0.39        78\n",
            "           6       0.53      0.67      0.59       111\n",
            "           7       0.45      0.44      0.45       118\n",
            "           8       0.33      0.50      0.39       109\n",
            "           9       0.60      0.71      0.65        83\n",
            "          10       0.48      0.43      0.45        81\n",
            "          11       0.58      0.63      0.60        97\n",
            "          12       0.62      0.66      0.63        61\n",
            "          13       0.25      0.17      0.20        60\n",
            "          14       0.49      0.74      0.59       121\n",
            "          15       0.51      0.62      0.56       140\n",
            "          16       0.41      0.42      0.41        72\n",
            "          17       0.53      0.59      0.56       151\n",
            "          18       0.58      0.58      0.58        81\n",
            "          19       0.51      0.47      0.49        57\n",
            "          20       0.53      0.66      0.59        71\n",
            "          21       0.72      0.65      0.68       143\n",
            "          22       0.38      0.49      0.43        72\n",
            "          23       0.59      0.73      0.65       190\n",
            "          24       0.57      0.46      0.51        93\n",
            "          25       0.72      0.46      0.56        92\n",
            "          26       0.58      0.30      0.39        50\n",
            "          27       0.56      0.35      0.43       127\n",
            "          28       0.59      0.47      0.52       143\n",
            "          29       0.56      0.48      0.52        91\n",
            "          30       0.61      0.39      0.48        51\n",
            "          31       0.61      0.48      0.54        77\n",
            "          32       0.59      0.57      0.58        63\n",
            "          33       0.55      0.27      0.36       131\n",
            "          34       0.91      0.92      0.91       127\n",
            "          35       0.62      0.65      0.64       214\n",
            "          36       0.72      0.55      0.63       105\n",
            "          37       0.54      0.49      0.51        94\n",
            "          38       0.70      0.53      0.61       159\n",
            "          39       0.56      0.40      0.47        87\n",
            "          40       0.46      0.28      0.35        69\n",
            "          41       0.88      0.72      0.79        32\n",
            "\n",
            "    accuracy                           0.56      4232\n",
            "   macro avg       0.56      0.53      0.53      4232\n",
            "weighted avg       0.57      0.56      0.55      4232\n",
            "\n"
          ],
          "name": "stdout"
        }
      ]
    },
    {
      "cell_type": "code",
      "metadata": {
        "id": "WbG4gx7egt0L"
      },
      "source": [
        "#PCA of 2 decreased the accuracy\n",
        "#should try increasing the pca values"
      ],
      "execution_count": 221,
      "outputs": []
    },
    {
      "cell_type": "code",
      "metadata": {
        "colab": {
          "base_uri": "https://localhost:8080/"
        },
        "id": "vv3-cr-AguAY",
        "outputId": "a16e458d-be51-41a3-feb9-ca61d8104bde"
      },
      "source": [
        "#prints the entire confusion matrix\n",
        "#however, it doesnn't fit the entire row and loops around\n",
        "np.set_printoptions(threshold=sys.maxsize)\n",
        "resultCM = (confusion_matrix(y_test, y_pred))\n",
        "print(resultCM)"
      ],
      "execution_count": 222,
      "outputs": [
        {
          "output_type": "stream",
          "text": [
            "[[ 48   0   0   4   1   0   1   0   0   0   0   0   0   2   2   0   0   0\n",
            "    0   1   0   8   2   0   0   1   0   1   0   0   1   0   1   0   0   0\n",
            "    0   2   1   0   0]\n",
            " [  4 214   0   0   0   0   3   4   1   0   0   0   2   3   4   0   0   0\n",
            "    0   3   0   0  12   1   0   0   1   5   0   0   0   0   0   0   0   0\n",
            "    0   0   1   1   0]\n",
            " [  0   2  61   0   3   5   0   5   2   3   4   1   0   0   1   4  26   5\n",
            "    7   0   5   0   1   2   0   0   5   2   0   1   0   0   0   1   9   0\n",
            "    2   0   0   0   0]\n",
            " [  3   1   1  25   0   0   0   1   0   0   0   0   0   0   1   0   0   0\n",
            "    0   0   0   0   0   2   0   0   0   0   0   3   0   0   1   1   0   0\n",
            "    0   0   0   0   0]\n",
            " [  0   2   3   0  39   1   0   5   4   0   1   3   2   0   0   0   2   0\n",
            "    2   0   0   0   0   0   0   0   2   0   0   0   1   2   1   0   4   0\n",
            "    2   0   2   0   0]\n",
            " [  0   1   1   0   3  74   0   9   0   1   1   0   3   0   1   6   4   0\n",
            "    0   0   0   0   0   1   0   1   1   1   0   0   0   0   0   0   3   0\n",
            "    0   0   0   0   0]\n",
            " [  9  10   1   4   0   0  52   1   1   0   0   0   0   3   3   0   0   0\n",
            "    0   2   0   5   7   0   0   0   0  12   0   1   0   0   1   0   0   0\n",
            "    0   3   3   0   0]\n",
            " [  2   3   5   0   3   3   0  54   1   2   4   4   1   0   2   3   2   0\n",
            "    1   0   0   1   1   0   0   0   3   0   0   0   0   1   0   0   4   1\n",
            "    3   0   0   5   0]\n",
            " [  0   1   0   0   3   0   0   1  59   1   0   1   0   0   1   0   2   0\n",
            "    0   0   0   1   2   0   1   0   2   0   0   0   0   3   0   0   0   1\n",
            "    0   1   0   3   0]\n",
            " [  0   0   7   1   1   5   0   3   0  35   6   0   1   0   0   2   2   1\n",
            "    2   0   3   0   0   1   0   1   3   0   0   0   0   1   1   0   4   0\n",
            "    1   0   0   0   0]\n",
            " [  0   0   2   0   1   3   0   5   0   5  61   0   0   0   0   4   0   5\n",
            "    0   0   3   0   1   0   0   0   1   0   0   0   0   0   0   0   5   0\n",
            "    1   0   0   0   0]\n",
            " [  0   0   0   0   6   0   0   8   0   0   2  40   0   0   0   0   0   0\n",
            "    0   0   0   0   0   0   0   0   0   0   0   0   0   0   0   0   2   0\n",
            "    1   0   0   2   0]\n",
            " [  0   4   1   0   2   4   2  12   0   1   0   0  10   2   0   1   5   0\n",
            "    0   1   0   0   1   0   1   0   0   0   1   0   0   0   0   0   5   0\n",
            "    4   0   1   2   0]\n",
            " [  0   1   1   0   4   0   2   1   0   0   0   0   1  89   0   0   0   0\n",
            "    0   0   0   2   4   0   0   0   0   0   3   0   5   0   1   0   0   0\n",
            "    2   3   0   2   0]\n",
            " [  3   4   1   0   0   2   5   0   2   0   0   0   0  10  87   0   1   0\n",
            "    0   1   0   1  10   3   0   0   0   2   2   0   2   0   0   0   0   2\n",
            "    0   2   0   0   0]\n",
            " [  0   0   2   0   3   1   0   2   0   9   6   5   0   0   0  30   0   2\n",
            "    1   0   3   0   0   0   0   0   2   0   0   0   0   0   0   0   3   0\n",
            "    2   0   0   1   0]\n",
            " [  0   0   5   0   1  11   0   5   0   1   0   1   2   1   0   7  89   5\n",
            "    2   0   2   1   1   1   0   0   1   0   0   0   0   1   1   0  10   0\n",
            "    2   0   0   1   0]\n",
            " [  0   1   5   0   1   1   1   0   0   0   3   0   0   1   0   1   4  47\n",
            "    3   0   5   0   0   0   0   0   1   0   0   0   0   1   0   0   4   0\n",
            "    2   0   0   0   0]\n",
            " [  0   0   3   0   4   0   0   1   1   4   1   0   0   0   1   0   1   2\n",
            "   27   1   1   0   0   0   1   0   2   0   0   0   0   1   2   0   1   0\n",
            "    1   0   0   2   0]\n",
            " [  1   4   0   1   1   0   0   0   1   1   0   0   1   1   2   0   0   0\n",
            "    0  47   0   1   1   1   1   0   0   0   2   0   0   1   0   0   0   1\n",
            "    0   1   1   0   1]\n",
            " [  0   1   5   1   2   3   0   1   2   1   5   0   2   0   2   2   8   5\n",
            "    1   0  93   0   1   0   0   0   1   0   0   0   0   0   0   0   6   0\n",
            "    1   0   0   0   0]\n",
            " [  4   5   0   2   1   0   7   2   0   0   0   0   1   2   2   0   1   0\n",
            "    0   2   0  35   1   0   0   0   0   1   0   0   1   0   2   0   0   0\n",
            "    0   0   3   0   0]\n",
            " [  0   8   1   3   0   0   4   0   1   0   0   0   0  11   9   0   0   0\n",
            "    0   2   0   2 138   3   0   1   0   0   2   0   1   0   0   0   0   2\n",
            "    0   0   2   0   0]\n",
            " [  2   3   3   3   4   3   1   2   1   0   0   0   1   3   2   0   0   1\n",
            "    0   0   0   1   6  43   0   0   0   2   0   0   2   1   1   3   2   1\n",
            "    0   1   1   0   0]\n",
            " [  0   8   2   1   1   1   2   0   2   1   0   0   0   2   4   0   0   1\n",
            "    0   8   3   2   2   0  42   1   0   1   1   2   0   0   2   0   0   0\n",
            "    0   3   0   0   0]\n",
            " [  2   0   0   0   1   3   2   1   0   0   0   1   0   3   6   0   0   0\n",
            "    0   0   0   4   5   1   1  15   0   0   1   1   0   0   0   0   1   0\n",
            "    0   2   0   0   0]\n",
            " [  0   2  12   0   4   8   0  12   2   1   2   0   2   0   2   5   4   1\n",
            "    2   0   3   1   0   0   1   0  44   0   0   0   0   6   1   0  10   0\n",
            "    0   0   1   1   0]\n",
            " [  9  17   2   1   2   1   5   1   1   1   1   1   0   2   1   0   0   0\n",
            "    0   6   0   6   3   2   0   2   1  67   0   0   0   0   3   1   0   1\n",
            "    0   2   4   0   0]\n",
            " [  0   1   1   0   1   1   0   0   1   0   0   2   1   7   5   0   1   0\n",
            "    0   2   0   1   3   2   1   0   0   1  44   0   5   0   0   0   1   7\n",
            "    2   0   0   1   0]\n",
            " [  0   1   0   2   1   0   2   0   1   1   0   0   0   0   0   0   0   0\n",
            "    0   0   0   6   3   0   3   2   0   1   1  20   1   0   2   0   0   1\n",
            "    1   0   1   0   1]\n",
            " [  2   3   0   1   1   1   6   0   1   0   0   0   0  10   2   0   0   0\n",
            "    0   0   0   0   3   1   0   0   0   4   0   1  37   0   0   1   0   1\n",
            "    0   0   2   0   0]\n",
            " [  0   0   1   0   6   1   1   3   6   1   0   0   0   0   0   0   1   0\n",
            "    1   0   0   0   0   1   0   0   1   0   0   0   0  36   0   0   0   0\n",
            "    3   0   1   0   0]\n",
            " [  2   8   2   1   3   1   8   1   1   0   0   0   0  13   6   1   0   2\n",
            "    0   3   0   7   4   4   1   0   3   4  10   0   3   1  35   0   0   2\n",
            "    1   3   1   0   0]\n",
            " [  1   1   1   2   0   0   0   0   0   0   0   0   0   0   1   0   0   0\n",
            "    0   0   0   0   0   1   0   0   0   0   0   0   0   0   0 117   0   0\n",
            "    0   2   0   0   1]\n",
            " [  0   1   7   0   6   1   0   5   0   2   7   1   3   1   0   7  10   4\n",
            "    2   0   6   1   0   0   0   0   3   0   1   0   0   0   0   0 140   0\n",
            "    5   1   0   0   0]\n",
            " [  1   2   1   1   0   0   0   0   2   0   1   0   1   5   4   0   0   0\n",
            "    0   1   0   0   7   4   0   0   0   3   4   1   0   1   2   1   1  58\n",
            "    1   2   1   0   0]\n",
            " [  0   4   3   0   5   2   2   4   0   1   1   0   4   1   3   0   3   0\n",
            "    0   0   1   0   0   1   0   0   0   0   0   0   0   4   1   0   7   0\n",
            "   46   0   0   1   0]\n",
            " [  4   4   3   0   0   1   4   1   0   0   0   0   0   5  11   0   0   0\n",
            "    0   2   0   3  10   0   2   1   1   5   6   0   2   0   3   3   0   1\n",
            "    0  85   2   0   0]\n",
            " [  2   3   2   1   0   0   5   1   1   0   0   0   0   2   5   0   0   0\n",
            "    0   5   0   2   4   0   0   1   0   1   0   3   0   0   2   1   3   1\n",
            "    0   7  35   0   0]\n",
            " [  0   2   0   0   6   3   0  15   5   1   0   5   2   1   0   1   1   0\n",
            "    2   0   1   0   0   0   0   0   0   0   0   0   0   1   0   0   1   0\n",
            "    2   1   0  19   0]\n",
            " [  1   0   0   3   0   0   0   0   0   0   0   0   0   0   0   0   0   0\n",
            "    0   1   0   0   0   0   3   0   0   0   0   0   0   0   1   0   0   0\n",
            "    0   0   0   0  23]]\n"
          ],
          "name": "stdout"
        }
      ]
    },
    {
      "cell_type": "code",
      "metadata": {
        "colab": {
          "base_uri": "https://localhost:8080/"
        },
        "id": "l5107fIAguJQ",
        "outputId": "c73c1575-57c2-4dc8-a687-e4437f55c0c0"
      },
      "source": [
        "resultCR = (classification_report(y_test, y_pred))\n",
        "print(resultCR)"
      ],
      "execution_count": 223,
      "outputs": [
        {
          "output_type": "stream",
          "text": [
            "              precision    recall  f1-score   support\n",
            "\n",
            "           1       0.48      0.63      0.55        76\n",
            "           2       0.66      0.83      0.74       259\n",
            "           3       0.42      0.39      0.40       157\n",
            "           4       0.44      0.64      0.52        39\n",
            "           5       0.33      0.50      0.39        78\n",
            "           6       0.53      0.67      0.59       111\n",
            "           7       0.45      0.44      0.45       118\n",
            "           8       0.33      0.50      0.39       109\n",
            "           9       0.60      0.71      0.65        83\n",
            "          10       0.48      0.43      0.45        81\n",
            "          11       0.58      0.63      0.60        97\n",
            "          12       0.62      0.66      0.63        61\n",
            "          13       0.25      0.17      0.20        60\n",
            "          14       0.49      0.74      0.59       121\n",
            "          15       0.51      0.62      0.56       140\n",
            "          16       0.41      0.42      0.41        72\n",
            "          17       0.53      0.59      0.56       151\n",
            "          18       0.58      0.58      0.58        81\n",
            "          19       0.51      0.47      0.49        57\n",
            "          20       0.53      0.66      0.59        71\n",
            "          21       0.72      0.65      0.68       143\n",
            "          22       0.38      0.49      0.43        72\n",
            "          23       0.59      0.73      0.65       190\n",
            "          24       0.57      0.46      0.51        93\n",
            "          25       0.72      0.46      0.56        92\n",
            "          26       0.58      0.30      0.39        50\n",
            "          27       0.56      0.35      0.43       127\n",
            "          28       0.59      0.47      0.52       143\n",
            "          29       0.56      0.48      0.52        91\n",
            "          30       0.61      0.39      0.48        51\n",
            "          31       0.61      0.48      0.54        77\n",
            "          32       0.59      0.57      0.58        63\n",
            "          33       0.55      0.27      0.36       131\n",
            "          34       0.91      0.92      0.91       127\n",
            "          35       0.62      0.65      0.64       214\n",
            "          36       0.72      0.55      0.63       105\n",
            "          37       0.54      0.49      0.51        94\n",
            "          38       0.70      0.53      0.61       159\n",
            "          39       0.56      0.40      0.47        87\n",
            "          40       0.46      0.28      0.35        69\n",
            "          41       0.88      0.72      0.79        32\n",
            "\n",
            "    accuracy                           0.56      4232\n",
            "   macro avg       0.56      0.53      0.53      4232\n",
            "weighted avg       0.57      0.56      0.55      4232\n",
            "\n"
          ],
          "name": "stdout"
        }
      ]
    },
    {
      "cell_type": "code",
      "metadata": {
        "id": "9YfWgq5DguQ7"
      },
      "source": [
        "# all parameters not specified are set to their defaults\n",
        "logisticRegr = LogisticRegression()"
      ],
      "execution_count": 224,
      "outputs": []
    },
    {
      "cell_type": "code",
      "metadata": {
        "colab": {
          "base_uri": "https://localhost:8080/"
        },
        "id": "7RVc24yrguYk",
        "outputId": "428d2d94-6ca2-42c8-f90f-75abcb65702c"
      },
      "source": [
        "logisticRegr.fit(X_train, y_train)"
      ],
      "execution_count": 225,
      "outputs": [
        {
          "output_type": "stream",
          "text": [
            "/usr/local/lib/python3.6/dist-packages/sklearn/linear_model/_logistic.py:940: ConvergenceWarning: lbfgs failed to converge (status=1):\n",
            "STOP: TOTAL NO. of ITERATIONS REACHED LIMIT.\n",
            "\n",
            "Increase the number of iterations (max_iter) or scale the data as shown in:\n",
            "    https://scikit-learn.org/stable/modules/preprocessing.html\n",
            "Please also refer to the documentation for alternative solver options:\n",
            "    https://scikit-learn.org/stable/modules/linear_model.html#logistic-regression\n",
            "  extra_warning_msg=_LOGISTIC_SOLVER_CONVERGENCE_MSG)\n"
          ],
          "name": "stderr"
        },
        {
          "output_type": "execute_result",
          "data": {
            "text/plain": [
              "LogisticRegression(C=1.0, class_weight=None, dual=False, fit_intercept=True,\n",
              "                   intercept_scaling=1, l1_ratio=None, max_iter=100,\n",
              "                   multi_class='auto', n_jobs=None, penalty='l2',\n",
              "                   random_state=None, solver='lbfgs', tol=0.0001, verbose=0,\n",
              "                   warm_start=False)"
            ]
          },
          "metadata": {
            "tags": []
          },
          "execution_count": 225
        }
      ]
    },
    {
      "cell_type": "code",
      "metadata": {
        "colab": {
          "base_uri": "https://localhost:8080/"
        },
        "id": "HIaH2BKNhljB",
        "outputId": "a7cc6517-49c3-4800-8307-cf9d8a8bc60f"
      },
      "source": [
        "# Returns a NumPy Array\n",
        "# Predict for One Observation (image)\n",
        "logisticRegr.predict(X_test[0].reshape(1,-1))"
      ],
      "execution_count": 226,
      "outputs": [
        {
          "output_type": "execute_result",
          "data": {
            "text/plain": [
              "array([23])"
            ]
          },
          "metadata": {
            "tags": []
          },
          "execution_count": 226
        }
      ]
    },
    {
      "cell_type": "code",
      "metadata": {
        "colab": {
          "base_uri": "https://localhost:8080/"
        },
        "id": "5vCA17zMhlm6",
        "outputId": "a66bc3c4-41ba-4ea1-e5a2-616852680ebd"
      },
      "source": [
        "logisticRegr.predict(X_test[0:10])"
      ],
      "execution_count": 227,
      "outputs": [
        {
          "output_type": "execute_result",
          "data": {
            "text/plain": [
              "array([23, 38, 39, 38, 14, 17, 26,  2, 34,  3])"
            ]
          },
          "metadata": {
            "tags": []
          },
          "execution_count": 227
        }
      ]
    },
    {
      "cell_type": "code",
      "metadata": {
        "id": "iGs-kuJUhlrO"
      },
      "source": [
        "predictions = logisticRegr.predict(X_test)"
      ],
      "execution_count": 228,
      "outputs": []
    },
    {
      "cell_type": "code",
      "metadata": {
        "colab": {
          "base_uri": "https://localhost:8080/"
        },
        "id": "BYy_bIuRhlvB",
        "outputId": "9af24b6b-b879-46da-8f63-ef7cdd1dbf48"
      },
      "source": [
        "# Use score method to get accuracy of model\n",
        "score = logisticRegr.score(X_test, y_test)\n",
        "print(score)"
      ],
      "execution_count": 229,
      "outputs": [
        {
          "output_type": "stream",
          "text": [
            "0.27882797731569\n"
          ],
          "name": "stdout"
        }
      ]
    },
    {
      "cell_type": "code",
      "metadata": {
        "colab": {
          "base_uri": "https://localhost:8080/"
        },
        "id": "8jcR-cXshl1V",
        "outputId": "204d3ce8-80ef-43c0-839c-edd3478375ad"
      },
      "source": [
        "cm = metrics.confusion_matrix(y_test, predictions)\n",
        "print(cm)"
      ],
      "execution_count": 230,
      "outputs": [
        {
          "output_type": "stream",
          "text": [
            "[[ 24   4   0   4   0   0   3   0   0   0   1   2   0   1   0   0   0   0\n",
            "    0   4   0   5   2   1   4   0   1   1   0   1   0   0   9   0   0   0\n",
            "    0   5   1   0   3]\n",
            " [  1 160   1   0   1   0   3   9   1   0   0   0   0   0   4   0   2   0\n",
            "    0   1   3   2  32   2   0   0   0   2   0   0   0   0   3  27   1   0\n",
            "    0   3   0   0   1]\n",
            " [  0   3  13   0   0   3   3  12   3   2   6   2   0   1   1   2  19   4\n",
            "    3   0   7   0   3   0   0   0   7   4   0   0   0   0   2   2  52   0\n",
            "    1   1   1   0   0]\n",
            " [  0   2   0  14   0   0   1   0   0   0   0   0   0   0   0   0   0   0\n",
            "    0   2   0   0   0   0   3   3   4   2   0   0   0   0   0   2   1   1\n",
            "    0   1   0   0   3]\n",
            " [  0   0   3   0   1   0   0   7   6   1   0   2   0   2   0   1   4   0\n",
            "    0   1   0   0   2   0   0   0   2   4   1   0   0  10  12   0  10   2\n",
            "    3   1   2   1   0]\n",
            " [  0   3   3   0   1   4   3  13   3   2   4   1   0   0   2  13   4   2\n",
            "    0   0   4   0   0   0   0   0  15   3   0   0   0   0   0   0  29   0\n",
            "    1   0   0   0   1]\n",
            " [  4  21   0   3   0   0  12   1   1   0   0   0   0   1   4   0   0   0\n",
            "    0   3   1   4   7   0   6   0   0   7   0   0   0   0  12  12   0   1\n",
            "    0  13   4   0   1]\n",
            " [  0   3  13   0   5   2   2  29   3   2   0   2   0   3   2   0   3   0\n",
            "    3   0   1   0   1   0   0   0   1   0   3   0   0   3   4   0  12   0\n",
            "    4   1   0   7   0]\n",
            " [  0   9   1   0   0   0   0   9  16   0   0   1   0   0   0   1   0   0\n",
            "    1   0   0   0   9   0   0   0   0   1   1   0   0  24   2   0   0   2\n",
            "    1   0   1   4   0]\n",
            " [  0   0   5   0   1   4   0   1   0   3  10   0   0   0   1   8   4   0\n",
            "   13   3   4   0   0   1   0   0   4   2   0   0   0   0   1   0  10   1\n",
            "    2   1   0   1   1]\n",
            " [  0   2   3   0   0   0   1   1   0   2  26   4   0   0   0   2   3  20\n",
            "    2   1  15   0   0   0   0   0   3   0   0   0   0   0   0   0   7   0\n",
            "    5   0   0   0   0]\n",
            " [  0   3   2   0   1   5   0   4   6   0   2   9   0   0   0   0   1   1\n",
            "    1   0   0   0   0   0   0   0  12   1   0   0   0   0   6   0   4   1\n",
            "    0   0   0   2   0]\n",
            " [  0   0   3   0   0   0   0  14   4   1   1   0   0   3   1   2   2   1\n",
            "    0   1   5   0   5   0   0   0   1   0   1   0   0   0   4   0   2   0\n",
            "    4   0   0   5   0]\n",
            " [  0   2   0   0   3   0   0   0   3   0   0   0   0  35   4   0   1   0\n",
            "    0   0   0   1  27   2   0   0   0   0   5   0   0   2  11   0   1   2\n",
            "    0  20   0   2   0]\n",
            " [  0   2   0   0   0   0   1   1   3   0   0   0   0   3  22   0   0   0\n",
            "    0   1   0   4  57   0   1   4   0   1   3   0   0   0   0   4   1   1\n",
            "    0  29   2   0   0]\n",
            " [  0   0   8   0   1   3   0   1   0   3  15   1   0   0   0   8   2   1\n",
            "    6   0   3   0   0   0   0   0  11   0   0   0   0   4   0   0   2   0\n",
            "    2   0   0   1   0]\n",
            " [  0   0  10   1   0   5   0  11   1   1   1   0   0   1   0   2  41   0\n",
            "    0   1   5   0   3   0   0   0   7   0   0   0   0   2   1   0  50   3\n",
            "    4   1   0   0   0]\n",
            " [  0   0   2   0   0   0   0   0   0   0   7   0   0   1   1   3   7  24\n",
            "    1   0  17   0   1   0   0   0   2   0   0   0   0   0   0   0  11   0\n",
            "    3   0   0   0   1]\n",
            " [  0   0   1   0   0   0   0   3   0   6   8   0   0   1   1   5   2   0\n",
            "    9   1   3   0   0   0   0   0   1   0   0   0   0   3   0   0   8   0\n",
            "    1   2   0   2   0]\n",
            " [  0   2   1   3   0   0   5   0   0   1   0   0   0   0  11   0   1   0\n",
            "    0  29   2   1   3   0   0   0   4   0   0   0   0   0   0   1   0   0\n",
            "    0   0   6   0   1]\n",
            " [  0   0   6   0   0   0   0   0   0   0  10   0   0   0   2   1  11   3\n",
            "    1   1  70   1   0   0   0   0   2   4   0   0   0   2   1   1  27   0\n",
            "    0   0   0   0   0]\n",
            " [  4   0   0   1   0   0   7   3   2   0   0   0   0   4   0   0   0   0\n",
            "    0   3   0  23   3   0   3   1   0   3   1   0   0   0   5   1   0   2\n",
            "    0   3   3   0   0]\n",
            " [  0   2   0   0   0   0   2   3   1   0   0   0   0   5   5   0   2   0\n",
            "    1   0   0   3 148   0   0   0   0   0   5   0   0   0   1   0   0   1\n",
            "    0   9   1   1   0]\n",
            " [  1   7   1   5   0   0   7   5   3   0   0   1   0   3   2   0   2   0\n",
            "    0   4   4   2  12   0   0   1   0   2   1   0   0   0   7  14   1   0\n",
            "    1   5   1   1   0]\n",
            " [  0   5   0   3   0   0   0   0   0   0   0   0   0  12   3   0   0   0\n",
            "    0  15   4   0  11   0   4   0   3   4   3   0   0   2   2   8   2   0\n",
            "    0   1   3   0   7]\n",
            " [  0   5   0   0   0   0   0   0   2   0   1   0   0   2   3   0   1   0\n",
            "    0   0   0   4   5   1   0  10   1   1   0   0   0   0   0   5   1   0\n",
            "    0   6   2   0   0]\n",
            " [  0   7  13   0   0   2   0   9   0   3   4   2   0   0   1   5   2   3\n",
            "    1   2   7   0   1   0   0   0  22   2   0   0   0   6   1   0  34   0\n",
            "    0   0   0   0   0]\n",
            " [  5  30   1   1   0   0   5   1   0   0   0   0   0   2   0   0   0   0\n",
            "    2  13   3   2   2   0   3   0   6  42   0   0   0   0  10   8   5   0\n",
            "    0   1   0   1   0]\n",
            " [  0   2   0   0   0   0   1   0   4   0   0   0   0   5  11   0   0   0\n",
            "    0   0   0   0  25   0   0   0   0   0  23   0   0   2   8   1   1   1\n",
            "    2   3   1   1   0]\n",
            " [  1   0   0   3   0   0   1   1   0   0   0   0   0   2   2   0   0   0\n",
            "    3   0   0   6  10   0   4   1   0   0   1   1   0   3   2   2   0   0\n",
            "    0   3   4   0   1]\n",
            " [  2   5   0   1   2   1   4   2   3   0   0   0   0  10   0   0   0   0\n",
            "    0   0   0   1  18   0   4   0   0   0   1   0   0   0   4   1   0   0\n",
            "    0  17   1   0   0]\n",
            " [  0   0   1   0   0   2   0   1   2   1   0   0   0   2   0   0   1   0\n",
            "    1   1   1   0   2   0   0   0   0   1   1   0   0  38   0   0   2   1\n",
            "    2   0   0   3   0]\n",
            " [  3  18   1   2   0   0   6   4   3   0   0   1   0   7   9   1   3   0\n",
            "    1   0   0   5   7   0   4   0   6   3   3   1   0   0  22   1   2   3\n",
            "    1  10   4   0   0]\n",
            " [  0   1   0   4   0   0   1   0   0   0   0   0   0   0   0   0   1   0\n",
            "    0   0   0   0   0   0   0   0   0   1   0   0   0   0   0 113   0   0\n",
            "    0   3   0   0   3]\n",
            " [  0   0  12   0   0   4   0   4   1   1   3   0   0   0   0   0   7   4\n",
            "    0   0  20   0   0   0   0   0   5   2   0   0   0   1   3   1 117   1\n",
            "   23   2   1   2   0]\n",
            " [  0   8   0   0   1   0   0   0   7   0   0   2   0   6   1   0   2   0\n",
            "    0   0   0   0  46   0   0   0   0  13   3   0   0   3   2   2   2   0\n",
            "    0   4   2   1   0]\n",
            " [  0   0   8   0   2   2   0   7   5   0   0   0   0   4   1   0  13   0\n",
            "    1   0   1   0   6   1   0   0   0   0   1   0   0   3   4   0   7   4\n",
            "   16   1   0   7   0]\n",
            " [  0  24   0   2   0   0   5   1   3   0   0   0   0  13   2   0   5   0\n",
            "    1   2   0   1  33   2   2   0   0   0   3   0   0   5   3  29   1   1\n",
            "    1  18   2   0   0]\n",
            " [  0   0   0   1   0   0   0   3   1   0   0   0   0   1   5   0   1   0\n",
            "    0  18   1   2   7   0   4   2   1   1   0   1   0   1   3   3   2   6\n",
            "    1   8  12   0   2]\n",
            " [  0   0   0   0   1   0   0   7   5   0   0   1   1   1   0   0   3   0\n",
            "    1   0   0   0   3   0   0   0   0   0   2   0   0   9   0   0  18   1\n",
            "    2   0   0  14   0]\n",
            " [  0   0   0   5   0   0   0   0   0   1   0   0   0   0   0   0   0   0\n",
            "    0   4   0   0   1   0   1   0   5   0   0   0   0   1   0   5   0   0\n",
            "    0   1   0   0   8]]\n"
          ],
          "name": "stdout"
        }
      ]
    },
    {
      "cell_type": "code",
      "metadata": {
        "colab": {
          "base_uri": "https://localhost:8080/",
          "height": 530
        },
        "id": "Tyzm_EE9hl4q",
        "outputId": "c58ae1e6-99a3-44c1-acac-c3a7c89190c0"
      },
      "source": [
        "plt.figure(figsize=(9,9))\n",
        "sns.heatmap(cm, annot=True, fmt=\".3f\", linewidths=.5, square = True, cmap = 'Blues_r');\n",
        "plt.ylabel('Actual label');\n",
        "plt.xlabel('Predicted label');\n",
        "all_sample_title = 'Accuracy Score: {0}'.format(score)\n",
        "plt.title(all_sample_title, size = 15);"
      ],
      "execution_count": 231,
      "outputs": [
        {
          "output_type": "display_data",
          "data": {
            "image/png": "[encoded data removed]",
            "text/plain": [
              "<Figure size 648x648 with 2 Axes>"
            ]
          },
          "metadata": {
            "tags": []
          }
        }
      ]
    },
    {
      "cell_type": "code",
      "metadata": {
        "colab": {
          "base_uri": "https://localhost:8080/",
          "height": 657
        },
        "id": "KTxcOA9ihl8c",
        "outputId": "0cdd71f4-f07a-4339-b8bc-aae935db103a"
      },
      "source": [
        "plt.figure(figsize=(9,9))\n",
        "plt.imshow(cm, interpolation='nearest', cmap='Pastel1')\n",
        "plt.title('Confusion matrix', size = 15)\n",
        "plt.colorbar()\n",
        "tick_marks = np.arange(10)\n",
        "plt.xticks(tick_marks, [\"0\", \"1\", \"2\", \"3\", \"4\", \"5\", \"6\", \"7\", \"8\", \"9\"], rotation=45, size = 10)\n",
        "plt.yticks(tick_marks, [\"0\", \"1\", \"2\", \"3\", \"4\", \"5\", \"6\", \"7\", \"8\", \"9\"], size = 10)\n",
        "plt.tight_layout()\n",
        "plt.ylabel('Actual label', size = 15)\n",
        "plt.xlabel('Predicted label', size = 15)\n",
        "width, height = cm.shape\n",
        "for x in range(width):\n",
        " for y in range(height):\n",
        "  plt.annotate(str(cm[x][y]), xy=(y, x), \n",
        "  horizontalalignment='center',\n",
        "  verticalalignment='center')"
      ],
      "execution_count": 232,
      "outputs": [
        {
          "output_type": "display_data",
          "data": {
            "image/png": "[encoded data removed]",
            "text/plain": [
              "<Figure size 648x648 with 2 Axes>"
            ]
          },
          "metadata": {
            "tags": []
          }
        }
      ]
    },
    {
      "cell_type": "code",
      "metadata": {
        "id": "WpQrWNPihmK-",
        "colab": {
          "base_uri": "https://localhost:8080/"
        },
        "outputId": "14002d3e-82ab-42a8-990f-0ea4c135a903"
      },
      "source": [
        "train = pd.read_csv(r\"featMatVersion0.csv\")\r\n",
        "\r\n",
        "np.any(np.isnan(train))\r\n",
        "\r\n",
        "np.all(np.isfinite(train))\r\n",
        "\r\n",
        "#print out the columns\r\n",
        "train.columns\r\n",
        "\r\n",
        "\r\n",
        "#prints the amount of users in 'User_ID'\r\n",
        "train['User_ID'].value_counts()\r\n",
        "\r\n",
        "#How to check for a certain ID?\r\n",
        "\r\n",
        "#myInt = 0\r\n",
        "#mySum = 0\r\n",
        "\r\n",
        "for x in range(1,41): \r\n",
        "  for y in range(x+1,42): \r\n",
        "    #myInt = myInt +1\r\n",
        "\r\n",
        "\r\n",
        "#print(myInt)"
      ],
      "execution_count": 242,
      "outputs": [
        {
          "output_type": "stream",
          "text": [
            "820\n"
          ],
          "name": "stdout"
        }
      ]
    },
    {
      "cell_type": "code",
      "metadata": {
        "id": "GcZW8emChmJZ"
      },
      "source": [
        "#Choosing the columns for X\r\n",
        "#Not using 'User_ID', 'Doc_ID', or 'Phone_ID'\r\n",
        "X = train[['Inter-Stroke time', 'Stroke Duration', 'Start X', 'Start Y', 'Stop X', 'Stop Y', 'Direct end-to-end Distance',\r\n",
        "        'Mean resulant length', 'WSAD Flag', 'Direction of end-to-end Time', '20 per pairwise velocity', \r\n",
        "        '50 per pairwise velocity', '80 per pairwise velocity', '20 per pairwise acc', '50 per pairwise acc', \r\n",
        "        '80 per pairwise acc', 'Median velocity at last 3pts', 'Largest deviation from end-to-end line', '20 per dev line',\r\n",
        "        '50 per dev line', '80 per dev line', 'Average Direction', 'Length of Trajectory', \r\n",
        "        'Ratio dist and length of trajectory', 'Average velocity', 'Median acceleration at first 5 pts',\r\n",
        "        'Mid-Stroke pressure', 'Mid-Stroke area covered', 'Mid-Stroke finger orientation', 'Change of finger orientation',\r\n",
        "        'Phone orientation']].values"
      ],
      "execution_count": 234,
      "outputs": []
    },
    {
      "cell_type": "code",
      "metadata": {
        "id": "5U81m3xEhmDD"
      },
      "source": [
        "#Choosing the lables for y\r\n",
        "y = train['User_ID'].values\r\n",
        "\r\n",
        "# How to select only for a certain user ID?"
      ],
      "execution_count": 235,
      "outputs": []
    },
    {
      "cell_type": "code",
      "metadata": {
        "id": "08LEZiSJhmAE"
      },
      "source": [
        "#Train and test split\r\n",
        "#80% train, 20% test\r\n",
        "#splitting the data into test and train dataset\r\n",
        "\r\n",
        "from sklearn.model_selection import train_test_split\r\n",
        "X_train, X_test, y_train, y_test = train_test_split(X, y, test_size=0.20)\r\n",
        "\r\n",
        "#should probably randomize data better"
      ],
      "execution_count": 236,
      "outputs": []
    },
    {
      "cell_type": "code",
      "metadata": {
        "id": "5Hp-vp9lhlyc"
      },
      "source": [
        "#Feature Scaling\r\n",
        "from sklearn.preprocessing import StandardScaler\r\n",
        "scaler = StandardScaler()\r\n",
        "scaler.fit(X_train)\r\n",
        "\r\n",
        "X_train = scaler.transform(X_train)\r\n",
        "X_test = scaler.transform(X_test)"
      ],
      "execution_count": 237,
      "outputs": []
    },
    {
      "cell_type": "code",
      "metadata": {
        "colab": {
          "base_uri": "https://localhost:8080/"
        },
        "id": "y5alf8D34r9y",
        "outputId": "3df50d92-8853-4dfd-f817-7e2d34563417"
      },
      "source": [
        "#Training and Prediction\r\n",
        "from sklearn.neighbors import KNeighborsClassifier\r\n",
        "classifier = KNeighborsClassifier(n_neighbors=5)         #value for k\r\n",
        "classifier.fit(X_train, y_train)\r\n",
        "\r\n",
        "#Sometimes gets an error for no reason \r\n",
        "#Run again to fix\r\n",
        "\r\n",
        "#The k value is guessed at first and then changed depending on the data\r\n",
        "#5 is used by convention but is usually a guess\r\n",
        "#Might want to change to 7 as when I did for K values up to 100 7 seemed smaller\r\n",
        "#on the smaller graph though 5 seems to be the best answer\r\n",
        "#The graph fluctuates with each run\r\n",
        "# 6 and 5 seem to be good choices\r\n",
        "\r\n",
        "\r\n",
        "#For the 0 and 1 dataset the better k values are 4, 7 and 9\r\n",
        "#Might want to make 2 seperate files\r\n"
      ],
      "execution_count": 238,
      "outputs": [
        {
          "output_type": "execute_result",
          "data": {
            "text/plain": [
              "KNeighborsClassifier(algorithm='auto', leaf_size=30, metric='minkowski',\n",
              "                     metric_params=None, n_jobs=None, n_neighbors=5, p=2,\n",
              "                     weights='uniform')"
            ]
          },
          "metadata": {
            "tags": []
          },
          "execution_count": 238
        }
      ]
    },
    {
      "cell_type": "code",
      "metadata": {
        "id": "a9ICgnCU4sHu"
      },
      "source": [
        "#Make prediction on the test data\r\n",
        "y_pred = classifier.predict(X_test)"
      ],
      "execution_count": 239,
      "outputs": []
    },
    {
      "cell_type": "code",
      "metadata": {
        "id": "JubuEpcO4sL0"
      },
      "source": [
        "resultCR = (classification_report(y_test, y_pred))\r\n",
        "#Need to store this result in an array\r\n",
        "#then we can get the average\r\n",
        "\r\n",
        "#Get the weighted average or accuracy score\r\n",
        "\r\n",
        "#mySum = mySum + weightedAverafe\r\n",
        "\r\n",
        "# or can add to a running sum and then divide by the total number of runs\r\n",
        "\r\n",
        "#total number of runs is 820"
      ],
      "execution_count": 240,
      "outputs": []
    },
    {
      "cell_type": "code",
      "metadata": {
        "id": "SKKE8YV-4sPw"
      },
      "source": [
        ""
      ],
      "execution_count": 240,
      "outputs": []
    },
    {
      "cell_type": "code",
      "metadata": {
        "id": "0uWoezT94sTH"
      },
      "source": [
        ""
      ],
      "execution_count": 240,
      "outputs": []
    },
    {
      "cell_type": "code",
      "metadata": {
        "id": "oT0-AYV44sWN"
      },
      "source": [
        ""
      ],
      "execution_count": 240,
      "outputs": []
    },
    {
      "cell_type": "code",
      "metadata": {
        "id": "zS2suikA4sZs"
      },
      "source": [
        ""
      ],
      "execution_count": 240,
      "outputs": []
    },
    {
      "cell_type": "code",
      "metadata": {
        "id": "acrHT4Nn4scx"
      },
      "source": [
        ""
      ],
      "execution_count": 240,
      "outputs": []
    },
    {
      "cell_type": "code",
      "metadata": {
        "id": "ElbjLquB4sgA"
      },
      "source": [
        ""
      ],
      "execution_count": 240,
      "outputs": []
    },
    {
      "cell_type": "code",
      "metadata": {
        "id": "DNgHj7bu4skF"
      },
      "source": [
        ""
      ],
      "execution_count": 240,
      "outputs": []
    },
    {
      "cell_type": "code",
      "metadata": {
        "id": "nTJrPzg44sni"
      },
      "source": [
        ""
      ],
      "execution_count": 240,
      "outputs": []
    }
  ]
}