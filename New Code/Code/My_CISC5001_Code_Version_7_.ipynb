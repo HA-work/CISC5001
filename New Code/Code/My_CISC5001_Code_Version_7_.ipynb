{
  "nbformat": 4,
  "nbformat_minor": 0,
  "metadata": {
    "kernelspec": {
      "display_name": "Python 3",
      "language": "python",
      "name": "python3"
    },
    "language_info": {
      "codemirror_mode": {
        "name": "ipython",
        "version": 3
      },
      "file_extension": ".py",
      "mimetype": "text/x-python",
      "name": "python",
      "nbconvert_exporter": "python",
      "pygments_lexer": "ipython3",
      "version": "3.8.3"
    },
    "colab": {
      "name": "My_CISC5001_Code_Version_7_.ipynb",
      "provenance": []
    }
  },
  "cells": [
    {
      "cell_type": "code",
      "metadata": {
        "id": "NLJjkG-qsQ_A",
        "colab": {
          "base_uri": "https://localhost:8080/"
        },
        "outputId": "452557ef-bf55-43d0-e50a-b11d1f15bbe0"
      },
      "source": [
        "import numpy as np # linear algebra\n",
        "import pandas as pd # data processing, CSV file I/O (e.g. pd.read_csv)\n",
        "import tensorflow as tf\n",
        "\n",
        "import matplotlib.pyplot as plt\n",
        "import matplotlib\n",
        "\n",
        "%matplotlib inline\n",
        "matplotlib.style.use('ggplot') \n",
        "\n",
        "from sklearn import datasets\n",
        "from sklearn import preprocessing\n",
        "from sklearn.model_selection import train_test_split\n",
        "from sklearn.decomposition import PCA\n",
        "from sklearn.neighbors import KNeighborsClassifier\n",
        "from sklearn.datasets import load_digits\n",
        "from sklearn.linear_model import LogisticRegression\n",
        "from sklearn.preprocessing import StandardScaler\n",
        "from sklearn.linear_model import LinearRegression\n",
        "\n",
        "\n",
        "\n",
        "import sys\n",
        "\n",
        "import seaborn as sns\n",
        "from sklearn import metrics\n",
        "\n",
        "#Based on Eddie Lam's code\n",
        "\n",
        "'''\n",
        "Reusing code:\n",
        "https://stackabuse.com/k-nearest-neighbors-algorithm-in-python-and-scikit-learn/\n",
        "\n",
        "Explaining result:\n",
        "https://datascience.stackexchange.com/questions/65839/macro-average-and-weighted-average-meaning-in-classification-report\n",
        "\n",
        "\n",
        "Test_fearMat_Clean: 4168\n",
        "    Before edit: 4231 rows × 34 columns\n",
        "    After edit: 4168 rows × 34 columns\n",
        "    \n",
        "    #removed 6 to 7\n",
        "    total = 3749         (20% = 750; 80% = 2,999)\n",
        "    \n",
        "\n",
        "Train_fearMat_Clean: 16680\n",
        "    Before edit: 16927 rows × 34 columns\n",
        "    After edit: 16680 rows × 34 columns\n",
        "    \n",
        "    #removed 6 to 7\n",
        "    total = 15045         (20% = 3,009; 80% = 12,036)\n",
        "\n",
        "'''\n",
        "\n",
        "import os\n",
        "\n",
        "\n",
        "print(os.listdir(r\".\"))         #print out what's in the file/directory\n",
        "train = pd.read_csv(r\"featMatVersion0.csv\")\n",
        "#This is the unedited file from Eddie\n",
        "\n",
        "#train = pd.read_csv(r\"featMatVersion1.csv\")\n",
        "\n",
        "#train = pd.read_csv(r\"featMatVersion2.csv\")\n",
        "\n",
        "\n",
        "#/content/featMatVersion2.csv\n",
        "\n",
        "#train = pd.read_csv(r\"featMatVersion3.csv\")\n",
        "\n",
        "#train = pd.read_csv(r\"featMatVersion4.csv\")\n",
        "#Same as original but no comunns 2 and 13\n",
        "\n",
        "\n",
        "#train = pd.read_csv(r\"featMatVersion5.csv\")\n",
        "#Same as version1 but no comunns 2 and 13\n",
        "\n",
        "\n",
        "#train = pd.read_csv(r\"featMatVersion6.csv\")\n",
        "#Same as version2 but no comunns 2 and 13\n",
        "\n",
        "\n",
        "#train = pd.read_csv(r\"featMatVersion7.csv\")\n",
        "#Same as version3 but no comunns 2 and 13\n",
        "\n",
        "\n",
        "\n",
        "\n",
        "\n",
        "#train = pd.read_csv(r\"featMatVersion8.csv\")\n",
        "#Same as version0 but only 2 users\n",
        "#has only 2 users\n",
        "#Uses 1 and 2\n",
        "#still sizable difference between users\n",
        "#need to find 2 users w\n",
        "\n",
        "\n",
        "\n",
        "\n",
        "\n",
        "\n",
        "#Find out how to randomize dataset\n",
        "\n",
        "#Version Orginal is the unmodified dataset from Eddie\n",
        "\n",
        "# This Version1 uses one authentic user with a class ID of 1\n",
        "# The rest have a class ID of 0\n",
        "\n",
        "#Version 2 has sessions 6 and 7 removed\n",
        "\n",
        "#Version 3 has sessions 6 and 7 removed and authentic user with class 1 and rest 0\n",
        "\n",
        "#clean up the negative values for interstroke?\n",
        "\n",
        "#compare only 2 people?\n",
        "\n",
        "#remove columns 2 and 13?\n",
        "\n",
        "#Make a second code for the ones with the removed columns\n",
        "\n",
        "#Too much data to clean up\n",
        "\n",
        "#Should try randomizing\n",
        "\n",
        "#upload the csv to google colab\n",
        "#for some reason need to do this each time\n",
        "#need to find a way to store and acces from drive\n",
        "\n",
        "#pd.read_csv('/My Drive/Collab Notebooks/featMatVersionOriginal.csv')\n",
        "\n",
        "#Try to get data from google drive instead of manually importing it\n",
        "\n",
        "#Maybe try removing sessions 6 and 7\n",
        "\n",
        "\n",
        "\n",
        "\n",
        "\n",
        "#Create a file that has only 2 users\n",
        "\n",
        "\n"
      ],
      "execution_count": 247,
      "outputs": [
        {
          "output_type": "stream",
          "text": [
            "['.config', 'featMatVersion0.csv', 'sample_data']\n"
          ],
          "name": "stdout"
        }
      ]
    },
    {
      "cell_type": "code",
      "metadata": {
        "id": "ea2c4gqwsQ_I",
        "colab": {
          "base_uri": "https://localhost:8080/",
          "height": 292
        },
        "outputId": "28d88a9c-5825-456a-d733-83bdbcec79a5"
      },
      "source": [
        "#print\n",
        "train.head()"
      ],
      "execution_count": 248,
      "outputs": [
        {
          "output_type": "execute_result",
          "data": {
            "text/html": [
              "<div>\n",
              "<style scoped>\n",
              "    .dataframe tbody tr th:only-of-type {\n",
              "        vertical-align: middle;\n",
              "    }\n",
              "\n",
              "    .dataframe tbody tr th {\n",
              "        vertical-align: top;\n",
              "    }\n",
              "\n",
              "    .dataframe thead th {\n",
              "        text-align: right;\n",
              "    }\n",
              "</style>\n",
              "<table border=\"1\" class=\"dataframe\">\n",
              "  <thead>\n",
              "    <tr style=\"text-align: right;\">\n",
              "      <th></th>\n",
              "      <th>User_ID</th>\n",
              "      <th>Doc_ID</th>\n",
              "      <th>Inter-Stroke time</th>\n",
              "      <th>Stroke Duration</th>\n",
              "      <th>Start X</th>\n",
              "      <th>Start Y</th>\n",
              "      <th>Stop X</th>\n",
              "      <th>Stop Y</th>\n",
              "      <th>Direct end-to-end Distance</th>\n",
              "      <th>Mean resulant length</th>\n",
              "      <th>WSAD Flag</th>\n",
              "      <th>Direction of end-to-end Time</th>\n",
              "      <th>Phone_ID</th>\n",
              "      <th>20 per pairwise velocity</th>\n",
              "      <th>50 per pairwise velocity</th>\n",
              "      <th>80 per pairwise velocity</th>\n",
              "      <th>20 per pairwise acc</th>\n",
              "      <th>50 per pairwise acc</th>\n",
              "      <th>80 per pairwise acc</th>\n",
              "      <th>Median velocity at last 3pts</th>\n",
              "      <th>Largest deviation from end-to-end line</th>\n",
              "      <th>20 per dev line</th>\n",
              "      <th>50 per dev line</th>\n",
              "      <th>80 per dev line</th>\n",
              "      <th>Average Direction</th>\n",
              "      <th>Length of Trajectory</th>\n",
              "      <th>Ratio dist and length of trajectory</th>\n",
              "      <th>Average velocity</th>\n",
              "      <th>Median acceleration at first 5 pts</th>\n",
              "      <th>Mid-Stroke pressure</th>\n",
              "      <th>Mid-Stroke area covered</th>\n",
              "      <th>Mid-Stroke finger orientation</th>\n",
              "      <th>Change of finger orientation</th>\n",
              "      <th>Phone orientation</th>\n",
              "    </tr>\n",
              "  </thead>\n",
              "  <tbody>\n",
              "    <tr>\n",
              "      <th>0</th>\n",
              "      <td>37</td>\n",
              "      <td>4</td>\n",
              "      <td>0.341</td>\n",
              "      <td>0.256</td>\n",
              "      <td>27.416</td>\n",
              "      <td>-27.113</td>\n",
              "      <td>12.3980</td>\n",
              "      <td>-32.960</td>\n",
              "      <td>16.1160</td>\n",
              "      <td>0.35736</td>\n",
              "      <td>4</td>\n",
              "      <td>-2.770400</td>\n",
              "      <td>1</td>\n",
              "      <td>0.41784</td>\n",
              "      <td>4.1784</td>\n",
              "      <td>2719.20</td>\n",
              "      <td>-604180.0</td>\n",
              "      <td>-432.24</td>\n",
              "      <td>603320.0</td>\n",
              "      <td>4.1784</td>\n",
              "      <td>0.17777</td>\n",
              "      <td>0.000000</td>\n",
              "      <td>0.00000</td>\n",
              "      <td>0.124440</td>\n",
              "      <td>-2.581200</td>\n",
              "      <td>16.1320</td>\n",
              "      <td>0.99898</td>\n",
              "      <td>63.018</td>\n",
              "      <td>-432.24</td>\n",
              "      <td>0.32</td>\n",
              "      <td>0.044444</td>\n",
              "      <td>0.0</td>\n",
              "      <td>0</td>\n",
              "      <td>1</td>\n",
              "    </tr>\n",
              "    <tr>\n",
              "      <th>1</th>\n",
              "      <td>37</td>\n",
              "      <td>4</td>\n",
              "      <td>0.913</td>\n",
              "      <td>0.086</td>\n",
              "      <td>21.771</td>\n",
              "      <td>-30.037</td>\n",
              "      <td>9.8778</td>\n",
              "      <td>-33.867</td>\n",
              "      <td>12.4950</td>\n",
              "      <td>0.26504</td>\n",
              "      <td>4</td>\n",
              "      <td>-2.830000</td>\n",
              "      <td>1</td>\n",
              "      <td>0.00000</td>\n",
              "      <td>156.7900</td>\n",
              "      <td>502.37</td>\n",
              "      <td>-26083.0</td>\n",
              "      <td>5117.70</td>\n",
              "      <td>116600.0</td>\n",
              "      <td>265.1400</td>\n",
              "      <td>0.78867</td>\n",
              "      <td>0.000000</td>\n",
              "      <td>0.00000</td>\n",
              "      <td>0.406210</td>\n",
              "      <td>-2.199400</td>\n",
              "      <td>12.5960</td>\n",
              "      <td>0.99197</td>\n",
              "      <td>146.470</td>\n",
              "      <td>5117.70</td>\n",
              "      <td>0.60</td>\n",
              "      <td>0.088889</td>\n",
              "      <td>0.0</td>\n",
              "      <td>0</td>\n",
              "      <td>1</td>\n",
              "    </tr>\n",
              "    <tr>\n",
              "      <th>2</th>\n",
              "      <td>37</td>\n",
              "      <td>4</td>\n",
              "      <td>0.733</td>\n",
              "      <td>0.111</td>\n",
              "      <td>10.886</td>\n",
              "      <td>-34.169</td>\n",
              "      <td>26.9120</td>\n",
              "      <td>-34.673</td>\n",
              "      <td>16.0340</td>\n",
              "      <td>0.99118</td>\n",
              "      <td>2</td>\n",
              "      <td>-0.031436</td>\n",
              "      <td>1</td>\n",
              "      <td>32.12200</td>\n",
              "      <td>143.8500</td>\n",
              "      <td>263.58</td>\n",
              "      <td>-52140.0</td>\n",
              "      <td>-3563.50</td>\n",
              "      <td>26382.0</td>\n",
              "      <td>188.8200</td>\n",
              "      <td>-1.06510</td>\n",
              "      <td>-0.802530</td>\n",
              "      <td>-0.11658</td>\n",
              "      <td>0.000000</td>\n",
              "      <td>0.086288</td>\n",
              "      <td>16.2030</td>\n",
              "      <td>0.98959</td>\n",
              "      <td>145.970</td>\n",
              "      <td>-3563.50</td>\n",
              "      <td>0.48</td>\n",
              "      <td>0.044444</td>\n",
              "      <td>0.0</td>\n",
              "      <td>0</td>\n",
              "      <td>1</td>\n",
              "    </tr>\n",
              "    <tr>\n",
              "      <th>3</th>\n",
              "      <td>37</td>\n",
              "      <td>4</td>\n",
              "      <td>0.448</td>\n",
              "      <td>0.094</td>\n",
              "      <td>19.151</td>\n",
              "      <td>-34.572</td>\n",
              "      <td>12.7000</td>\n",
              "      <td>-36.790</td>\n",
              "      <td>6.8213</td>\n",
              "      <td>0.59647</td>\n",
              "      <td>4</td>\n",
              "      <td>-2.810500</td>\n",
              "      <td>1</td>\n",
              "      <td>17.36000</td>\n",
              "      <td>76.6380</td>\n",
              "      <td>230.62</td>\n",
              "      <td>-10012.0</td>\n",
              "      <td>-4604.10</td>\n",
              "      <td>25874.0</td>\n",
              "      <td>95.8570</td>\n",
              "      <td>0.60170</td>\n",
              "      <td>0.000000</td>\n",
              "      <td>0.10128</td>\n",
              "      <td>0.570430</td>\n",
              "      <td>-2.723100</td>\n",
              "      <td>6.9674</td>\n",
              "      <td>0.97902</td>\n",
              "      <td>74.122</td>\n",
              "      <td>-4604.10</td>\n",
              "      <td>0.40</td>\n",
              "      <td>0.044444</td>\n",
              "      <td>0.0</td>\n",
              "      <td>0</td>\n",
              "      <td>1</td>\n",
              "    </tr>\n",
              "    <tr>\n",
              "      <th>4</th>\n",
              "      <td>37</td>\n",
              "      <td>4</td>\n",
              "      <td>0.519</td>\n",
              "      <td>0.056</td>\n",
              "      <td>27.718</td>\n",
              "      <td>-32.758</td>\n",
              "      <td>14.6150</td>\n",
              "      <td>-37.294</td>\n",
              "      <td>13.8660</td>\n",
              "      <td>0.67819</td>\n",
              "      <td>4</td>\n",
              "      <td>-2.808300</td>\n",
              "      <td>1</td>\n",
              "      <td>74.82100</td>\n",
              "      <td>275.5700</td>\n",
              "      <td>993.21</td>\n",
              "      <td>-126180.0</td>\n",
              "      <td>-21377.00</td>\n",
              "      <td>217040.0</td>\n",
              "      <td>244.6800</td>\n",
              "      <td>-0.10990</td>\n",
              "      <td>-0.096714</td>\n",
              "      <td>0.00000</td>\n",
              "      <td>0.001099</td>\n",
              "      <td>-2.717000</td>\n",
              "      <td>13.8710</td>\n",
              "      <td>0.99965</td>\n",
              "      <td>247.690</td>\n",
              "      <td>-21377.00</td>\n",
              "      <td>0.44</td>\n",
              "      <td>0.044444</td>\n",
              "      <td>0.0</td>\n",
              "      <td>0</td>\n",
              "      <td>1</td>\n",
              "    </tr>\n",
              "  </tbody>\n",
              "</table>\n",
              "</div>"
            ],
            "text/plain": [
              "   User_ID  Doc_ID  ...  Change of finger orientation  Phone orientation\n",
              "0       37       4  ...                             0                  1\n",
              "1       37       4  ...                             0                  1\n",
              "2       37       4  ...                             0                  1\n",
              "3       37       4  ...                             0                  1\n",
              "4       37       4  ...                             0                  1\n",
              "\n",
              "[5 rows x 34 columns]"
            ]
          },
          "metadata": {
            "tags": []
          },
          "execution_count": 248
        }
      ]
    },
    {
      "cell_type": "code",
      "metadata": {
        "id": "N_7dnDX4sQ_U",
        "colab": {
          "base_uri": "https://localhost:8080/"
        },
        "outputId": "53b68b28-2e01-4df1-9caf-4897eb3f07e1"
      },
      "source": [
        "np.any(np.isnan(train))"
      ],
      "execution_count": 249,
      "outputs": [
        {
          "output_type": "execute_result",
          "data": {
            "text/plain": [
              "False"
            ]
          },
          "metadata": {
            "tags": []
          },
          "execution_count": 249
        }
      ]
    },
    {
      "cell_type": "code",
      "metadata": {
        "id": "iTCHhsEtsQ_m",
        "colab": {
          "base_uri": "https://localhost:8080/"
        },
        "outputId": "8b418c04-208e-47db-8295-4b9bdb34e729"
      },
      "source": [
        "np.all(np.isfinite(train))"
      ],
      "execution_count": 250,
      "outputs": [
        {
          "output_type": "execute_result",
          "data": {
            "text/plain": [
              "True"
            ]
          },
          "metadata": {
            "tags": []
          },
          "execution_count": 250
        }
      ]
    },
    {
      "cell_type": "code",
      "metadata": {
        "id": "SEotZNcssQ_1",
        "colab": {
          "base_uri": "https://localhost:8080/"
        },
        "outputId": "98c074e0-f00f-4572-a138-9372d174f5c1"
      },
      "source": [
        "#print out the columns\n",
        "train.columns"
      ],
      "execution_count": 251,
      "outputs": [
        {
          "output_type": "execute_result",
          "data": {
            "text/plain": [
              "Index(['User_ID', 'Doc_ID', 'Inter-Stroke time', 'Stroke Duration', 'Start X',\n",
              "       'Start Y', 'Stop X', 'Stop Y', 'Direct end-to-end Distance',\n",
              "       'Mean resulant length', 'WSAD Flag', 'Direction of end-to-end Time',\n",
              "       'Phone_ID', '20 per pairwise velocity', '50 per pairwise velocity',\n",
              "       '80 per pairwise velocity', '20 per pairwise acc',\n",
              "       '50 per pairwise acc', '80 per pairwise acc',\n",
              "       'Median velocity at last 3pts',\n",
              "       'Largest deviation from end-to-end line', '20 per dev line',\n",
              "       '50 per dev line', '80 per dev line', 'Average Direction',\n",
              "       'Length of Trajectory', 'Ratio dist and length of trajectory',\n",
              "       'Average velocity', 'Median acceleration at first 5 pts',\n",
              "       'Mid-Stroke pressure', 'Mid-Stroke area covered',\n",
              "       'Mid-Stroke finger orientation', 'Change of finger orientation',\n",
              "       'Phone orientation'],\n",
              "      dtype='object')"
            ]
          },
          "metadata": {
            "tags": []
          },
          "execution_count": 251
        }
      ]
    },
    {
      "cell_type": "code",
      "metadata": {
        "id": "DfpEDfbasQ_4",
        "colab": {
          "base_uri": "https://localhost:8080/"
        },
        "outputId": "b82d9c00-8686-43fd-d3d3-937c30e44105"
      },
      "source": [
        "#prints the amount of users in 'User_ID'\n",
        "train['User_ID'].value_counts()"
      ],
      "execution_count": 252,
      "outputs": [
        {
          "output_type": "execute_result",
          "data": {
            "text/plain": [
              "2     1230\n",
              "35    1063\n",
              "23     969\n",
              "38     786\n",
              "3      759\n",
              "15     719\n",
              "33     712\n",
              "28     710\n",
              "17     706\n",
              "21     702\n",
              "14     651\n",
              "8      618\n",
              "34     613\n",
              "27     609\n",
              "7      591\n",
              "6      562\n",
              "36     500\n",
              "18     461\n",
              "9      453\n",
              "11     445\n",
              "29     439\n",
              "39     436\n",
              "24     435\n",
              "25     432\n",
              "37     424\n",
              "5      413\n",
              "1      401\n",
              "10     387\n",
              "16     382\n",
              "22     374\n",
              "31     370\n",
              "20     356\n",
              "12     342\n",
              "40     312\n",
              "13     305\n",
              "32     304\n",
              "19     293\n",
              "26     242\n",
              "4      241\n",
              "30     225\n",
              "41     186\n",
              "Name: User_ID, dtype: int64"
            ]
          },
          "metadata": {
            "tags": []
          },
          "execution_count": 252
        }
      ]
    },
    {
      "cell_type": "code",
      "metadata": {
        "id": "Uxa7-b7TsQ_8"
      },
      "source": [
        "#Choosing the columns for X\n",
        "#Not using 'User_ID', 'Doc_ID', or 'Phone_ID'\n",
        "X = train[['Inter-Stroke time', 'Stroke Duration', 'Start X', 'Start Y', 'Stop X', 'Stop Y', 'Direct end-to-end Distance',\n",
        "        'Mean resulant length', 'WSAD Flag', 'Direction of end-to-end Time', '20 per pairwise velocity', \n",
        "        '50 per pairwise velocity', '80 per pairwise velocity', '20 per pairwise acc', '50 per pairwise acc', \n",
        "        '80 per pairwise acc', 'Median velocity at last 3pts', 'Largest deviation from end-to-end line', '20 per dev line',\n",
        "        '50 per dev line', '80 per dev line', 'Average Direction', 'Length of Trajectory', \n",
        "        'Ratio dist and length of trajectory', 'Average velocity', 'Median acceleration at first 5 pts',\n",
        "        'Mid-Stroke pressure', 'Mid-Stroke area covered', 'Mid-Stroke finger orientation', 'Change of finger orientation',\n",
        "        'Phone orientation']].values"
      ],
      "execution_count": 253,
      "outputs": []
    },
    {
      "cell_type": "code",
      "metadata": {
        "id": "5beQNhkvsRAA"
      },
      "source": [
        "#Choosing the lables for y\n",
        "y = train['User_ID'].values"
      ],
      "execution_count": 254,
      "outputs": []
    },
    {
      "cell_type": "code",
      "metadata": {
        "id": "ui3CfitGsRAE"
      },
      "source": [
        "#Train and test split\n",
        "#80% train, 20% test\n",
        "#splitting the data into test and train dataset\n",
        "\n",
        "from sklearn.model_selection import train_test_split\n",
        "X_train, X_test, y_train, y_test = train_test_split(X, y, test_size=0.20)\n",
        "\n",
        "#should probably randomize data better"
      ],
      "execution_count": 255,
      "outputs": []
    },
    {
      "cell_type": "code",
      "metadata": {
        "id": "vprauDHCsRAG"
      },
      "source": [
        "#Feature Scaling\n",
        "from sklearn.preprocessing import StandardScaler\n",
        "scaler = StandardScaler()\n",
        "scaler.fit(X_train)\n",
        "\n",
        "X_train = scaler.transform(X_train)\n",
        "X_test = scaler.transform(X_test)"
      ],
      "execution_count": 256,
      "outputs": []
    },
    {
      "cell_type": "code",
      "metadata": {
        "id": "kLjdCUPPsRAI",
        "colab": {
          "base_uri": "https://localhost:8080/"
        },
        "outputId": "4e53a2ef-4955-4775-9044-59c34168a08b"
      },
      "source": [
        "#Training and Prediction\n",
        "from sklearn.neighbors import KNeighborsClassifier\n",
        "classifier = KNeighborsClassifier(n_neighbors=5)         #value for k\n",
        "classifier.fit(X_train, y_train)\n",
        "\n",
        "#Sometimes gets an error for no reason \n",
        "#Run again to fix\n",
        "\n",
        "#The k value is guessed at first and then changed depending on the data\n",
        "#5 is used by convention but is usually a guess\n",
        "#Might want to change to 7 as when I did for K values up to 100 7 seemed smaller\n",
        "#on the smaller graph though 5 seems to be the best answer\n",
        "#The graph fluctuates with each run\n",
        "# 6 and 5 seem to be good choices\n",
        "\n",
        "\n",
        "#For the 0 and 1 dataset the better k values are 4, 7 and 9\n",
        "#Might want to make 2 seperate files\n",
        "\n"
      ],
      "execution_count": 257,
      "outputs": [
        {
          "output_type": "execute_result",
          "data": {
            "text/plain": [
              "KNeighborsClassifier(algorithm='auto', leaf_size=30, metric='minkowski',\n",
              "                     metric_params=None, n_jobs=None, n_neighbors=5, p=2,\n",
              "                     weights='uniform')"
            ]
          },
          "metadata": {
            "tags": []
          },
          "execution_count": 257
        }
      ]
    },
    {
      "cell_type": "code",
      "metadata": {
        "id": "S4b_wAWWsRAL"
      },
      "source": [
        "#Make prediction on the test data\n",
        "y_pred = classifier.predict(X_test)"
      ],
      "execution_count": 258,
      "outputs": []
    },
    {
      "cell_type": "code",
      "metadata": {
        "id": "n3wPzHvLsRAN",
        "colab": {
          "base_uri": "https://localhost:8080/"
        },
        "outputId": "ae6bbbdd-cd8d-450b-b845-c5ee833c3e41"
      },
      "source": [
        "#Evaluating the Algorithm\n",
        "from sklearn.metrics import classification_report, confusion_matrix\n",
        "print(confusion_matrix(y_test, y_pred))\n",
        "print(classification_report(y_test, y_pred))"
      ],
      "execution_count": 259,
      "outputs": [
        {
          "output_type": "stream",
          "text": [
            "[[ 48   0   0   6   0   0   3   0   0   0   0   0   0   0   0   0   0   0\n",
            "    0   0   0   0   0   0   1   2   0   4   0   0   0   0   1   1   0   0\n",
            "    0   1   0   0   0]\n",
            " [  0 212   0   0   0   0   1   2   0   0   0   0   0   0   1   0   0   0\n",
            "    0   1   1   1   3   0   1   0   0   6   0   0   0   0   0   0   1   0\n",
            "    0   3   1   1   0]\n",
            " [  1   0  79   0   5   5   0   5   2   3   4   0   0   1   0   4  20   1\n",
            "    3   0   3   1   0   0   0   0   8   0   0   0   0   1   0   0  16   0\n",
            "    6   1   2   2   0]\n",
            " [  1   1   0  38   1   0   0   0   0   0   0   0   0   0   0   0   0   0\n",
            "    0   0   0   0   0   1   0   0   0   2   0   0   0   0   1   1   0   0\n",
            "    0   0   0   0   0]\n",
            " [  0   0   6   0  44   5   1   8   7   0   1   1   0   0   0   1   1   0\n",
            "    5   0   0   0   1   0   0   0   4   1   0   0   0   1   0   0   2   0\n",
            "    1   0   0   2   0]\n",
            " [  1   1   3   0   0  88   0   5   0   0   0   0   2   0   0   5   1   0\n",
            "    2   0   0   0   1   1   0   1   1   1   0   0   0   0   0   0   4   0\n",
            "    4   0   0   0   0]\n",
            " [  8   4   0   1   1   2  66   1   0   0   1   0   0   0   3   0   1   0\n",
            "    0   5   1   9   2   3   0   0   0   5   0   0   0   0   0   1   0   0\n",
            "    0   5   2   0   1]\n",
            " [  1   2   3   0   1   7   0  80   2   1   0   1   4   0   3   1   0   0\n",
            "    2   0   0   0   2   0   0   0   0   0   0   0   0   0   0   0   0   0\n",
            "    1   0   0   3   0]\n",
            " [  0   0   1   0   2   1   0   1  76   0   0   1   0   0   0   0   1   0\n",
            "    0   0   0   0   2   0   0   0   3   0   0   0   0   0   1   0   0   2\n",
            "    0   0   0   2   0]\n",
            " [  0   0   2   0   2   0   0   0   0  47   3   0   1   0   0   2   1   2\n",
            "    1   1   1   0   0   0   0   0   0   0   0   0   0   0   0   0   4   0\n",
            "    0   2   0   0   0]\n",
            " [  0   0   5   0   0   4   0   1   0   3  72   0   0   0   0   0   0   3\n",
            "    4   0   2   0   0   0   0   0   2   1   0   0   0   0   0   0   2   0\n",
            "    0   0   0   1   0]\n",
            " [  0   0   0   0   6   0   0   1   0   3   0  47   0   1   0   0   1   0\n",
            "    1   0   0   0   0   0   0   0   0   0   0   1   0   0   0   0   1   0\n",
            "    0   0   0   2   0]\n",
            " [  0   1   1   0   0   7   1   7   0   0   2   1  21   0   0   4   7   1\n",
            "    0   0   0   0   0   1   1   0   0   1   0   0   0   1   0   0   4   0\n",
            "    1   0   1   0   0]\n",
            " [  0   0   0   0   2   0   0   2   0   0   0   0   0 103   2   0   0   0\n",
            "    1   0   0   0   3   0   0   0   0   0   3   0   8   0   3   0   0   0\n",
            "    0   1   0   0   0]\n",
            " [  2   5   1   0   0   1   1   0   0   0   0   0   1   8 113   0   0   0\n",
            "    0   0   0   1  19   3   0   1   0   1   2   1   1   0   3   0   0   2\n",
            "    0   0   1   0   0]\n",
            " [  0   0   4   0   3   2   0   1   0   4   9   2   2   0   0  36   4   4\n",
            "    2   0   4   0   0   0   0   0   0   0   0   0   0   1   0   0   4   0\n",
            "    1   0   1   1   0]\n",
            " [  0   0  15   0   0   4   0   1   3   2   1   0   2   0   1   7  93   1\n",
            "    0   0   1   0   0   1   0   0   1   0   0   0   0   0   3   0  12   0\n",
            "    0   0   1   1   0]\n",
            " [  0   0   4   0   1   4   0   0   0   1   4   0   0   0   1   2   6  55\n",
            "    4   0   4   0   0   0   0   0   2   0   0   0   0   0   0   0   0   0\n",
            "    0   0   1   1   0]\n",
            " [  1   1   2   0   6   0   0   1   0   3   1   0   0   0   0   0   0   0\n",
            "   42   0   0   0   0   0   0   0   1   0   0   0   0   2   0   0   4   0\n",
            "    0   1   0   2   0]\n",
            " [  0   1   0   0   0   0   0   1   0   0   0   0   1   0   0   0   0   0\n",
            "    0  42   1   2   0   1   1   1   0   3   0   0   0   0   0   0   0   0\n",
            "    0   0   5   0   0]\n",
            " [  0   0   7   0   0   1   0   2   0   3  13   2   0   0   0   2   6   0\n",
            "    0   0 100   0   0   0   0   0   2   0   0   0   0   1   1   0  14   0\n",
            "    0   0   0   0   0]\n",
            " [  3   2   0   1   0   0   6   1   0   0   0   0   0   1   1   0   0   0\n",
            "    0   0   0  29   0   2   1   0   0   3   1   0   0   0   0   0   0   0\n",
            "    1   3   1   0   0]\n",
            " [  1   6   0   1   2   2   0   0   1   0   0   0   0   7  16   0   0   0\n",
            "    0   0   0   1 156   0   0   0   0   0   0   0   0   0   1   0   0   1\n",
            "    0   2   1   0   0]\n",
            " [  0   4   1   1   1   2   1   1   0   0   0   0   1   0   2   1   0   0\n",
            "    0   0   0   2   6  55   0   0   0   4   0   1   0   0   0   1   1   0\n",
            "    2   2   0   0   0]\n",
            " [  4   6   0   2   0   0   0   0   1   2   0   0   1   0   1   0   1   1\n",
            "    1   8   2   1   1   0  50   1   0   1   0   0   0   0   1   0   0   1\n",
            "    0   4   0   0   0]\n",
            " [  0   1   1   0   0   0   4   0   0   0   0   0   1   0   0   0   0   0\n",
            "    0   0   0   3   3   0   0  20   0   1   0   2   0   0   0   0   1   0\n",
            "    0   7   0   0   0]\n",
            " [  0   2   4   0   3  11   0   4   5   1   4   0   1   0   0   5   4   0\n",
            "    1   0   3   0   0   0   0   0  51   0   0   0   0   2   0   0   7   0\n",
            "    1   0   0   0   0]\n",
            " [  7  14   3   1   1   1   6   1   1   2   0   0   0   1   0   1   0   0\n",
            "    0   3   0   1   1   8   2   1   0  75   0   0   0   0   0   1   1   0\n",
            "    0   3   1   0   1]\n",
            " [  0   1   0   1   2   0   0   1   0   0   0   1   0  13   1   0   0   0\n",
            "    0   0   0   0   2   0   0   0   0   0  53   0   2   0   1   0   0   1\n",
            "    1   0   0   0   0]\n",
            " [  1   1   0   2   2   0   4   0   2   0   0   0   1   0   0   0   0   0\n",
            "    1   2   0   3   0   2   2   6   0   0   0   9   0   0   0   1   0   1\n",
            "    0   1   1   0   0]\n",
            " [  0   0   0   0   2   0   0   1   0   0   0   0   0  16   2   0   0   0\n",
            "    0   0   0   0   1   0   0   0   0   0   3   0  44   0   1   0   0   0\n",
            "    0   0   0   0   0]\n",
            " [  0   0   2   0   1   0   0   0   6   0   0   1   0   0   0   0   1   0\n",
            "    0   0   1   0   0   1   0   0   3   0   0   0   0  52   0   0   0   0\n",
            "    1   0   1   0   0]\n",
            " [  0   0   0   1   3   1   2   1   1   0   1   0   5  16   5   0   0   0\n",
            "    0   1   0   0   3   0   0   0   0   0   8   1   6   0  79   0   0   2\n",
            "    1   0   1   0   1]\n",
            " [  1   0   0   2   0   0   1   0   0   0   0   0   0   0   1   0   0   0\n",
            "    0   1   1   0   0   0   0   0   0   3   0   0   0   0   0  89   0   0\n",
            "    0   3   0   0   0]\n",
            " [  1   2   3   1   5  10   1   2   0   1   6   0   1   0   0  10  10   3\n",
            "    2   0   6   0   0   1   0   0   5   0   0   0   0   0   1   0 133   0\n",
            "    3   0   0   0   0]\n",
            " [  1   1   0   0   0   0   1   0   4   0   0   0   0   3   2   0   0   0\n",
            "    0   0   0   0   6   2   1   0   0   2   3   0   0   0   3   0   0  62\n",
            "    0   0   1   0   0]\n",
            " [  0   2   3   0   5   0   0   5   0   0   1   1   1   0   0   2   1   0\n",
            "    0   0   1   1   0   0   0   0   3   0   0   0   0   0   0   0   6   0\n",
            "   42   0   0   1   0]\n",
            " [  0   6   0   2   1   2   4   0   0   0   0   0   0   1   3   1   0   0\n",
            "    0   1   0   4   7   3   4   2   1   3   0   0   0   0   0   2   0   1\n",
            "    0 112   6   0   0]\n",
            " [  0   8   1   0   0   0   3   1   1   0   2   0   0   1   3   0   0   0\n",
            "    0   2   0   7   0   4   2   1   0   4   0   2   0   0   0   0   2   0\n",
            "    0  13  38   1   0]\n",
            " [  0   3   1   1   2   2   0  13   3   0   0   1   0   0   0   0   2   1\n",
            "    3   0   0   0   0   0   0   0   0   0   0   0   0   1   0   0   0   0\n",
            "    2   0   0  32   0]\n",
            " [  1   1   0   0   0   0   0   0   0   0   0   0   0   0   0   0   1   2\n",
            "    0   4   0   0   0   1   4   0   0   1   0   0   0   0   0   0   0   1\n",
            "    0   0   1   0  27]]\n",
            "              precision    recall  f1-score   support\n",
            "\n",
            "           1       0.58      0.72      0.64        67\n",
            "           2       0.74      0.90      0.81       235\n",
            "           3       0.52      0.46      0.49       173\n",
            "           4       0.62      0.83      0.71        46\n",
            "           5       0.42      0.48      0.45        92\n",
            "           6       0.54      0.73      0.62       121\n",
            "           7       0.62      0.54      0.58       122\n",
            "           8       0.53      0.70      0.61       114\n",
            "           9       0.66      0.82      0.73        93\n",
            "          10       0.62      0.68      0.65        69\n",
            "          11       0.58      0.72      0.64       100\n",
            "          12       0.80      0.73      0.76        64\n",
            "          13       0.46      0.33      0.39        63\n",
            "          14       0.60      0.80      0.69       128\n",
            "          15       0.70      0.68      0.69       167\n",
            "          16       0.43      0.42      0.43        85\n",
            "          17       0.57      0.62      0.60       150\n",
            "          18       0.74      0.61      0.67        90\n",
            "          19       0.56      0.63      0.59        67\n",
            "          20       0.59      0.71      0.65        59\n",
            "          21       0.76      0.65      0.70       154\n",
            "          22       0.44      0.52      0.48        56\n",
            "          23       0.71      0.79      0.75       198\n",
            "          24       0.61      0.62      0.61        89\n",
            "          25       0.71      0.56      0.63        90\n",
            "          26       0.56      0.45      0.50        44\n",
            "          27       0.59      0.47      0.52       109\n",
            "          28       0.61      0.55      0.58       137\n",
            "          29       0.73      0.66      0.69        80\n",
            "          30       0.53      0.21      0.31        42\n",
            "          31       0.72      0.63      0.67        70\n",
            "          32       0.84      0.74      0.79        70\n",
            "          33       0.79      0.57      0.66       139\n",
            "          34       0.92      0.87      0.89       102\n",
            "          35       0.61      0.64      0.62       207\n",
            "          36       0.84      0.67      0.75        92\n",
            "          37       0.62      0.56      0.59        75\n",
            "          38       0.68      0.67      0.68       166\n",
            "          39       0.57      0.40      0.47        96\n",
            "          40       0.62      0.48      0.54        67\n",
            "          41       0.90      0.61      0.73        44\n",
            "\n",
            "    accuracy                           0.64      4232\n",
            "   macro avg       0.64      0.62      0.62      4232\n",
            "weighted avg       0.65      0.64      0.64      4232\n",
            "\n"
          ],
          "name": "stdout"
        }
      ]
    },
    {
      "cell_type": "code",
      "metadata": {
        "id": "AfTYQwOosRAP",
        "colab": {
          "base_uri": "https://localhost:8080/"
        },
        "outputId": "5057374f-f9e2-454d-bdd5-6ac3942acce8"
      },
      "source": [
        "#prints the entire confusion matrix\n",
        "#however, it doesnn't fit the entire row and loops around\n",
        "np.set_printoptions(threshold=sys.maxsize)\n",
        "resultCM = (confusion_matrix(y_test, y_pred))\n",
        "print(resultCM)"
      ],
      "execution_count": 260,
      "outputs": [
        {
          "output_type": "stream",
          "text": [
            "[[ 48   0   0   6   0   0   3   0   0   0   0   0   0   0   0   0   0   0\n",
            "    0   0   0   0   0   0   1   2   0   4   0   0   0   0   1   1   0   0\n",
            "    0   1   0   0   0]\n",
            " [  0 212   0   0   0   0   1   2   0   0   0   0   0   0   1   0   0   0\n",
            "    0   1   1   1   3   0   1   0   0   6   0   0   0   0   0   0   1   0\n",
            "    0   3   1   1   0]\n",
            " [  1   0  79   0   5   5   0   5   2   3   4   0   0   1   0   4  20   1\n",
            "    3   0   3   1   0   0   0   0   8   0   0   0   0   1   0   0  16   0\n",
            "    6   1   2   2   0]\n",
            " [  1   1   0  38   1   0   0   0   0   0   0   0   0   0   0   0   0   0\n",
            "    0   0   0   0   0   1   0   0   0   2   0   0   0   0   1   1   0   0\n",
            "    0   0   0   0   0]\n",
            " [  0   0   6   0  44   5   1   8   7   0   1   1   0   0   0   1   1   0\n",
            "    5   0   0   0   1   0   0   0   4   1   0   0   0   1   0   0   2   0\n",
            "    1   0   0   2   0]\n",
            " [  1   1   3   0   0  88   0   5   0   0   0   0   2   0   0   5   1   0\n",
            "    2   0   0   0   1   1   0   1   1   1   0   0   0   0   0   0   4   0\n",
            "    4   0   0   0   0]\n",
            " [  8   4   0   1   1   2  66   1   0   0   1   0   0   0   3   0   1   0\n",
            "    0   5   1   9   2   3   0   0   0   5   0   0   0   0   0   1   0   0\n",
            "    0   5   2   0   1]\n",
            " [  1   2   3   0   1   7   0  80   2   1   0   1   4   0   3   1   0   0\n",
            "    2   0   0   0   2   0   0   0   0   0   0   0   0   0   0   0   0   0\n",
            "    1   0   0   3   0]\n",
            " [  0   0   1   0   2   1   0   1  76   0   0   1   0   0   0   0   1   0\n",
            "    0   0   0   0   2   0   0   0   3   0   0   0   0   0   1   0   0   2\n",
            "    0   0   0   2   0]\n",
            " [  0   0   2   0   2   0   0   0   0  47   3   0   1   0   0   2   1   2\n",
            "    1   1   1   0   0   0   0   0   0   0   0   0   0   0   0   0   4   0\n",
            "    0   2   0   0   0]\n",
            " [  0   0   5   0   0   4   0   1   0   3  72   0   0   0   0   0   0   3\n",
            "    4   0   2   0   0   0   0   0   2   1   0   0   0   0   0   0   2   0\n",
            "    0   0   0   1   0]\n",
            " [  0   0   0   0   6   0   0   1   0   3   0  47   0   1   0   0   1   0\n",
            "    1   0   0   0   0   0   0   0   0   0   0   1   0   0   0   0   1   0\n",
            "    0   0   0   2   0]\n",
            " [  0   1   1   0   0   7   1   7   0   0   2   1  21   0   0   4   7   1\n",
            "    0   0   0   0   0   1   1   0   0   1   0   0   0   1   0   0   4   0\n",
            "    1   0   1   0   0]\n",
            " [  0   0   0   0   2   0   0   2   0   0   0   0   0 103   2   0   0   0\n",
            "    1   0   0   0   3   0   0   0   0   0   3   0   8   0   3   0   0   0\n",
            "    0   1   0   0   0]\n",
            " [  2   5   1   0   0   1   1   0   0   0   0   0   1   8 113   0   0   0\n",
            "    0   0   0   1  19   3   0   1   0   1   2   1   1   0   3   0   0   2\n",
            "    0   0   1   0   0]\n",
            " [  0   0   4   0   3   2   0   1   0   4   9   2   2   0   0  36   4   4\n",
            "    2   0   4   0   0   0   0   0   0   0   0   0   0   1   0   0   4   0\n",
            "    1   0   1   1   0]\n",
            " [  0   0  15   0   0   4   0   1   3   2   1   0   2   0   1   7  93   1\n",
            "    0   0   1   0   0   1   0   0   1   0   0   0   0   0   3   0  12   0\n",
            "    0   0   1   1   0]\n",
            " [  0   0   4   0   1   4   0   0   0   1   4   0   0   0   1   2   6  55\n",
            "    4   0   4   0   0   0   0   0   2   0   0   0   0   0   0   0   0   0\n",
            "    0   0   1   1   0]\n",
            " [  1   1   2   0   6   0   0   1   0   3   1   0   0   0   0   0   0   0\n",
            "   42   0   0   0   0   0   0   0   1   0   0   0   0   2   0   0   4   0\n",
            "    0   1   0   2   0]\n",
            " [  0   1   0   0   0   0   0   1   0   0   0   0   1   0   0   0   0   0\n",
            "    0  42   1   2   0   1   1   1   0   3   0   0   0   0   0   0   0   0\n",
            "    0   0   5   0   0]\n",
            " [  0   0   7   0   0   1   0   2   0   3  13   2   0   0   0   2   6   0\n",
            "    0   0 100   0   0   0   0   0   2   0   0   0   0   1   1   0  14   0\n",
            "    0   0   0   0   0]\n",
            " [  3   2   0   1   0   0   6   1   0   0   0   0   0   1   1   0   0   0\n",
            "    0   0   0  29   0   2   1   0   0   3   1   0   0   0   0   0   0   0\n",
            "    1   3   1   0   0]\n",
            " [  1   6   0   1   2   2   0   0   1   0   0   0   0   7  16   0   0   0\n",
            "    0   0   0   1 156   0   0   0   0   0   0   0   0   0   1   0   0   1\n",
            "    0   2   1   0   0]\n",
            " [  0   4   1   1   1   2   1   1   0   0   0   0   1   0   2   1   0   0\n",
            "    0   0   0   2   6  55   0   0   0   4   0   1   0   0   0   1   1   0\n",
            "    2   2   0   0   0]\n",
            " [  4   6   0   2   0   0   0   0   1   2   0   0   1   0   1   0   1   1\n",
            "    1   8   2   1   1   0  50   1   0   1   0   0   0   0   1   0   0   1\n",
            "    0   4   0   0   0]\n",
            " [  0   1   1   0   0   0   4   0   0   0   0   0   1   0   0   0   0   0\n",
            "    0   0   0   3   3   0   0  20   0   1   0   2   0   0   0   0   1   0\n",
            "    0   7   0   0   0]\n",
            " [  0   2   4   0   3  11   0   4   5   1   4   0   1   0   0   5   4   0\n",
            "    1   0   3   0   0   0   0   0  51   0   0   0   0   2   0   0   7   0\n",
            "    1   0   0   0   0]\n",
            " [  7  14   3   1   1   1   6   1   1   2   0   0   0   1   0   1   0   0\n",
            "    0   3   0   1   1   8   2   1   0  75   0   0   0   0   0   1   1   0\n",
            "    0   3   1   0   1]\n",
            " [  0   1   0   1   2   0   0   1   0   0   0   1   0  13   1   0   0   0\n",
            "    0   0   0   0   2   0   0   0   0   0  53   0   2   0   1   0   0   1\n",
            "    1   0   0   0   0]\n",
            " [  1   1   0   2   2   0   4   0   2   0   0   0   1   0   0   0   0   0\n",
            "    1   2   0   3   0   2   2   6   0   0   0   9   0   0   0   1   0   1\n",
            "    0   1   1   0   0]\n",
            " [  0   0   0   0   2   0   0   1   0   0   0   0   0  16   2   0   0   0\n",
            "    0   0   0   0   1   0   0   0   0   0   3   0  44   0   1   0   0   0\n",
            "    0   0   0   0   0]\n",
            " [  0   0   2   0   1   0   0   0   6   0   0   1   0   0   0   0   1   0\n",
            "    0   0   1   0   0   1   0   0   3   0   0   0   0  52   0   0   0   0\n",
            "    1   0   1   0   0]\n",
            " [  0   0   0   1   3   1   2   1   1   0   1   0   5  16   5   0   0   0\n",
            "    0   1   0   0   3   0   0   0   0   0   8   1   6   0  79   0   0   2\n",
            "    1   0   1   0   1]\n",
            " [  1   0   0   2   0   0   1   0   0   0   0   0   0   0   1   0   0   0\n",
            "    0   1   1   0   0   0   0   0   0   3   0   0   0   0   0  89   0   0\n",
            "    0   3   0   0   0]\n",
            " [  1   2   3   1   5  10   1   2   0   1   6   0   1   0   0  10  10   3\n",
            "    2   0   6   0   0   1   0   0   5   0   0   0   0   0   1   0 133   0\n",
            "    3   0   0   0   0]\n",
            " [  1   1   0   0   0   0   1   0   4   0   0   0   0   3   2   0   0   0\n",
            "    0   0   0   0   6   2   1   0   0   2   3   0   0   0   3   0   0  62\n",
            "    0   0   1   0   0]\n",
            " [  0   2   3   0   5   0   0   5   0   0   1   1   1   0   0   2   1   0\n",
            "    0   0   1   1   0   0   0   0   3   0   0   0   0   0   0   0   6   0\n",
            "   42   0   0   1   0]\n",
            " [  0   6   0   2   1   2   4   0   0   0   0   0   0   1   3   1   0   0\n",
            "    0   1   0   4   7   3   4   2   1   3   0   0   0   0   0   2   0   1\n",
            "    0 112   6   0   0]\n",
            " [  0   8   1   0   0   0   3   1   1   0   2   0   0   1   3   0   0   0\n",
            "    0   2   0   7   0   4   2   1   0   4   0   2   0   0   0   0   2   0\n",
            "    0  13  38   1   0]\n",
            " [  0   3   1   1   2   2   0  13   3   0   0   1   0   0   0   0   2   1\n",
            "    3   0   0   0   0   0   0   0   0   0   0   0   0   1   0   0   0   0\n",
            "    2   0   0  32   0]\n",
            " [  1   1   0   0   0   0   0   0   0   0   0   0   0   0   0   0   1   2\n",
            "    0   4   0   0   0   1   4   0   0   1   0   0   0   0   0   0   0   1\n",
            "    0   0   1   0  27]]\n"
          ],
          "name": "stdout"
        }
      ]
    },
    {
      "cell_type": "code",
      "metadata": {
        "id": "TR-wa43BsRAS",
        "colab": {
          "base_uri": "https://localhost:8080/"
        },
        "outputId": "247829d6-4584-4e7f-db4b-d6665840456f"
      },
      "source": [
        "resultCR = (classification_report(y_test, y_pred))\n",
        "print(resultCR)"
      ],
      "execution_count": 261,
      "outputs": [
        {
          "output_type": "stream",
          "text": [
            "              precision    recall  f1-score   support\n",
            "\n",
            "           1       0.58      0.72      0.64        67\n",
            "           2       0.74      0.90      0.81       235\n",
            "           3       0.52      0.46      0.49       173\n",
            "           4       0.62      0.83      0.71        46\n",
            "           5       0.42      0.48      0.45        92\n",
            "           6       0.54      0.73      0.62       121\n",
            "           7       0.62      0.54      0.58       122\n",
            "           8       0.53      0.70      0.61       114\n",
            "           9       0.66      0.82      0.73        93\n",
            "          10       0.62      0.68      0.65        69\n",
            "          11       0.58      0.72      0.64       100\n",
            "          12       0.80      0.73      0.76        64\n",
            "          13       0.46      0.33      0.39        63\n",
            "          14       0.60      0.80      0.69       128\n",
            "          15       0.70      0.68      0.69       167\n",
            "          16       0.43      0.42      0.43        85\n",
            "          17       0.57      0.62      0.60       150\n",
            "          18       0.74      0.61      0.67        90\n",
            "          19       0.56      0.63      0.59        67\n",
            "          20       0.59      0.71      0.65        59\n",
            "          21       0.76      0.65      0.70       154\n",
            "          22       0.44      0.52      0.48        56\n",
            "          23       0.71      0.79      0.75       198\n",
            "          24       0.61      0.62      0.61        89\n",
            "          25       0.71      0.56      0.63        90\n",
            "          26       0.56      0.45      0.50        44\n",
            "          27       0.59      0.47      0.52       109\n",
            "          28       0.61      0.55      0.58       137\n",
            "          29       0.73      0.66      0.69        80\n",
            "          30       0.53      0.21      0.31        42\n",
            "          31       0.72      0.63      0.67        70\n",
            "          32       0.84      0.74      0.79        70\n",
            "          33       0.79      0.57      0.66       139\n",
            "          34       0.92      0.87      0.89       102\n",
            "          35       0.61      0.64      0.62       207\n",
            "          36       0.84      0.67      0.75        92\n",
            "          37       0.62      0.56      0.59        75\n",
            "          38       0.68      0.67      0.68       166\n",
            "          39       0.57      0.40      0.47        96\n",
            "          40       0.62      0.48      0.54        67\n",
            "          41       0.90      0.61      0.73        44\n",
            "\n",
            "    accuracy                           0.64      4232\n",
            "   macro avg       0.64      0.62      0.62      4232\n",
            "weighted avg       0.65      0.64      0.64      4232\n",
            "\n"
          ],
          "name": "stdout"
        }
      ]
    },
    {
      "cell_type": "code",
      "metadata": {
        "id": "OLX_hpdCuiOL"
      },
      "source": [
        "# all parameters not specified are set to their defaults\n",
        "logisticRegr = LogisticRegression()"
      ],
      "execution_count": 262,
      "outputs": []
    },
    {
      "cell_type": "code",
      "metadata": {
        "id": "vFPRZBY-umir",
        "colab": {
          "base_uri": "https://localhost:8080/"
        },
        "outputId": "eb15a65f-cc58-4bae-dcc1-808c2b7f93ae"
      },
      "source": [
        "logisticRegr.fit(X_train, y_train)"
      ],
      "execution_count": 263,
      "outputs": [
        {
          "output_type": "stream",
          "text": [
            "/usr/local/lib/python3.6/dist-packages/sklearn/linear_model/_logistic.py:940: ConvergenceWarning: lbfgs failed to converge (status=1):\n",
            "STOP: TOTAL NO. of ITERATIONS REACHED LIMIT.\n",
            "\n",
            "Increase the number of iterations (max_iter) or scale the data as shown in:\n",
            "    https://scikit-learn.org/stable/modules/preprocessing.html\n",
            "Please also refer to the documentation for alternative solver options:\n",
            "    https://scikit-learn.org/stable/modules/linear_model.html#logistic-regression\n",
            "  extra_warning_msg=_LOGISTIC_SOLVER_CONVERGENCE_MSG)\n"
          ],
          "name": "stderr"
        },
        {
          "output_type": "execute_result",
          "data": {
            "text/plain": [
              "LogisticRegression(C=1.0, class_weight=None, dual=False, fit_intercept=True,\n",
              "                   intercept_scaling=1, l1_ratio=None, max_iter=100,\n",
              "                   multi_class='auto', n_jobs=None, penalty='l2',\n",
              "                   random_state=None, solver='lbfgs', tol=0.0001, verbose=0,\n",
              "                   warm_start=False)"
            ]
          },
          "metadata": {
            "tags": []
          },
          "execution_count": 263
        }
      ]
    },
    {
      "cell_type": "code",
      "metadata": {
        "id": "sWq3z1jtuuJ6",
        "colab": {
          "base_uri": "https://localhost:8080/"
        },
        "outputId": "0b9ce57a-c951-4cfc-dce2-1d5e58047160"
      },
      "source": [
        "# Returns a NumPy Array\n",
        "# Predict for One Observation (image)\n",
        "logisticRegr.predict(X_test[0].reshape(1,-1))"
      ],
      "execution_count": 264,
      "outputs": [
        {
          "output_type": "execute_result",
          "data": {
            "text/plain": [
              "array([34])"
            ]
          },
          "metadata": {
            "tags": []
          },
          "execution_count": 264
        }
      ]
    },
    {
      "cell_type": "code",
      "metadata": {
        "id": "8AhBvTIDvegm",
        "colab": {
          "base_uri": "https://localhost:8080/"
        },
        "outputId": "8507ec5f-3c95-4a38-dcc0-1e1d533bc2e4"
      },
      "source": [
        "logisticRegr.predict(X_test[0:10])"
      ],
      "execution_count": 265,
      "outputs": [
        {
          "output_type": "execute_result",
          "data": {
            "text/plain": [
              "array([34,  8, 12,  2,  2, 14, 33, 21,  5, 12])"
            ]
          },
          "metadata": {
            "tags": []
          },
          "execution_count": 265
        }
      ]
    },
    {
      "cell_type": "code",
      "metadata": {
        "id": "derkWsE_vlKR"
      },
      "source": [
        "predictions = logisticRegr.predict(X_test)"
      ],
      "execution_count": 266,
      "outputs": []
    },
    {
      "cell_type": "code",
      "metadata": {
        "id": "gPEUOg_3vrVA",
        "colab": {
          "base_uri": "https://localhost:8080/"
        },
        "outputId": "4ab3b1b2-6e64-43b0-bf09-5e389704c343"
      },
      "source": [
        "# Use score method to get accuracy of model\n",
        "score = logisticRegr.score(X_test, y_test)\n",
        "print(score)"
      ],
      "execution_count": 267,
      "outputs": [
        {
          "output_type": "stream",
          "text": [
            "0.4959829867674858\n"
          ],
          "name": "stdout"
        }
      ]
    },
    {
      "cell_type": "code",
      "metadata": {
        "id": "lHVNc64-vvws",
        "colab": {
          "base_uri": "https://localhost:8080/"
        },
        "outputId": "8ab0b18b-56d4-4bd7-b9f5-a4d500859b74"
      },
      "source": [
        "cm = metrics.confusion_matrix(y_test, predictions)\n",
        "print(cm)"
      ],
      "execution_count": 268,
      "outputs": [
        {
          "output_type": "stream",
          "text": [
            "[[ 42   0   0   1   0   0   6   1   0   0   0   3   0   0   0   0   0   0\n",
            "    0   0   0   3   1   2   2   1   0   3   0   0   0   0   0   2   0   0\n",
            "    0   0   0   0   0]\n",
            " [  0 178   0   0   0   0   1   1   4   0   0   0   0   0   1   0   0   0\n",
            "    0   1   0   2   2   4   0   3   0  19   0   1   0   0   0   2   0   2\n",
            "    4   3   7   0   0]\n",
            " [  0   1  36   0   5   6   0   2   0   5   4   5   0   0   0   0  24   2\n",
            "    6   0   6   0   0   0   0   0   9   0   0   1   1   3   0   1  49   0\n",
            "    4   0   0   3   0]\n",
            " [  1   0   0  19   0   0   1   0   0   0   0   0   0   0   0   0   0   0\n",
            "    0   0   0   2   0   1   2   0   0  11   0   1   0   0   0   2   0   0\n",
            "    0   0   0   0   6]\n",
            " [  0   0   1   0  24   5   0  13  11   0   1   6   2   0   0   2   1   2\n",
            "    5   0   0   0   0   0   0   0   1   1   0   0   0   3   0   0   2   0\n",
            "    8   0   0   4   0]\n",
            " [  0   1   5   1   4  33   1   6   0   1   0   1   0   0   0  14   1   8\n",
            "    2   0   2   0   1   0   0   0  10   0   0   0   1   0   0   0  20   0\n",
            "    7   1   1   0   0]\n",
            " [ 11   2   0   1   0   1  68   0   0   0   0   0   0   0   0   0   0   0\n",
            "    0   2   0   6   1   3   1   3   0   4   0   2   0   0   0  11   0   1\n",
            "    1   3   0   0   1]\n",
            " [  0   1   0   0   4   7   0  79   3   0   0   3   0   0   0   1   1   0\n",
            "    2   0   0   0   1   0   0   0   2   0   0   0   0   2   0   0   3   0\n",
            "    3   0   0   2   0]\n",
            " [  0   0   0   0   2   0   0   1  79   0   0   1   0   0   0   0   0   0\n",
            "    1   0   0   0   4   0   0   0   1   0   0   0   0   0   0   0   0   0\n",
            "    3   0   0   1   0]\n",
            " [  0   0   6   0   0   0   0   0   0  33   6   1   0   0   0   2   7   1\n",
            "    2   0   6   0   0   0   0   0   1   0   0   0   0   3   0   0   1   0\n",
            "    0   0   0   0   0]\n",
            " [  0   0   3   0   0   6   1   0   0   6  60   0   0   0   0   4   2   2\n",
            "    2   0  11   0   0   0   0   0   1   0   0   0   0   0   0   0   2   0\n",
            "    0   0   0   0   0]\n",
            " [  0   0   2   0   6   6   0   0   0   3   0  36   0   0   1   1   2   0\n",
            "    1   0   0   0   0   0   0   0   0   0   0   0   0   1   0   0   2   0\n",
            "    0   0   0   3   0]\n",
            " [  0   2   3   0   0   2   1   9   0   2   0   3   1   0   1   2   9   0\n",
            "    1   0   0   0   0   1   0   0   3   0   0   0   0   2   0   0   4   2\n",
            "   13   0   1   1   0]\n",
            " [  0   0   0   0   0   0   0   0   0   0   0   0   0  97   0   0   0   0\n",
            "    0   0   0   0   1   0   0   0   0   0   9   0   3   0  14   0   0   4\n",
            "    0   0   0   0   0]\n",
            " [  0   2   0   0   0   0   0   0   0   0   0   0   0   3  84   0   0   0\n",
            "    0   0   0   0  60   1   0   0   0   0   3   0   0   0   7   0   0   7\n",
            "    0   0   0   0   0]\n",
            " [  0   0  10   0   6   1   0   2   0   4  11   4   0   0   0  17   5   1\n",
            "    4   0   2   0   0   0   0   0   7   0   0   0   0   2   0   0   5   0\n",
            "    2   0   0   2   0]\n",
            " [  0   0  11   0   2   2   0   3   0  12   2   2   0   0   0   5  54   6\n",
            "    0   0   1   0   0   0   0   0   7   0   0   0   0   1   0   0  39   0\n",
            "    0   1   0   2   0]\n",
            " [  0   0   4   0   0   0   0   0   0   3  14   0   0   0   1   0   4  50\n",
            "    0   0   9   0   0   0   0   0   2   0   0   0   0   0   1   0   2   0\n",
            "    0   0   0   0   0]\n",
            " [  0   0   2   0   4   0   0   0   0   6   4   2   1   0   1   0   1   5\n",
            "   27   0   2   0   0   1   0   0   0   0   0   0   0   3   0   0   5   0\n",
            "    0   0   0   3   0]\n",
            " [  0   6   0   1   0   0   5   0   0   0   0   0   0   0   0   0   0   0\n",
            "    0  31   0   1   0   1   2   0   0   2   0   0   0   0   0   0   0   0\n",
            "    0   2   7   0   1]\n",
            " [  0   0  13   0   0   3   0   0   0   9   8   0   0   0   0   1  15  12\n",
            "    1   0  79   0   0   0   0   0   1   0   0   0   0   0   0   0  11   0\n",
            "    0   1   0   0   0]\n",
            " [  3   1   0   1   0   0   6   0   0   0   0   0   0   0   0   0   0   0\n",
            "    0   1   0  29   1   1   1   3   0   7   0   0   0   0   0   0   0   0\n",
            "    0   1   1   0   0]\n",
            " [  0   0   0   0   0   0   0   1   1   0   0   0   0   2  18   0   0   0\n",
            "    0   0   0   0 166   2   0   0   0   0   2   0   0   0   0   0   0   5\n",
            "    0   0   1   0   0]\n",
            " [  1   4   0   2   0   0   3   0   0   0   0   2   0   0   0   0   0   0\n",
            "    0   6   0   2   5  17   1   0   0  18   0   0   0   0   0   7   1   0\n",
            "    2  11   7   0   0]\n",
            " [  0  11   0   0   0   0   2   0   3   0   0   0   0   0   0   0   0   0\n",
            "    0  13   0   0   1   0  19   1   0   7   0   1   0   0   1   4   0   1\n",
            "    0  14   6   0   6]\n",
            " [  0   2   0   0   0   0   3   0   1   0   0   0   0   0   0   0   0   0\n",
            "    0   0   0   2   0   3   2  18   0   1   0   0   0   1   0   5   0   0\n",
            "    0   5   1   0   0]\n",
            " [  0   1   7   0   1   8   0   8   0   5   3   2   0   0   0   6   3   4\n",
            "    2   0   3   0   0   0   0   0  34   0   0   0   0   4   0   0  18   0\n",
            "    0   0   0   0   0]\n",
            " [ 13  22   0   1   1   1  15   0   1   0   0   0   0   0   0   0   0   0\n",
            "    0   8   0   2   1   0   1   0   1  55   0   0   0   0   0   9   0   0\n",
            "    0   6   0   0   0]\n",
            " [  0   0   0   0   0   0   0   0   0   0   0   0   0  22   0   0   0   0\n",
            "    0   0   0   0   0   0   0   0   0   0  45   0   1   0   9   0   0   3\n",
            "    0   0   0   0   0]\n",
            " [  1   1   0   1   1   0   3   0   0   0   0   0   0   0   0   0   0   0\n",
            "    0   0   0   6   3   3   2   8   0   2   0   7   0   0   0   2   0   0\n",
            "    0   0   1   0   1]\n",
            " [  0   0   0   0   0   0   0   0   0   0   0   0   0  28   0   0   0   0\n",
            "    0   0   0   0   1   0   0   0   0   0   9   0  23   0   7   0   0   2\n",
            "    0   0   0   0   0]\n",
            " [  0   0   1   0   2   0   0   1   2   0   0   1   0   0   0   1   3   0\n",
            "    1   0   0   0   0   0   0   0   3   0   0   0   0  53   0   0   0   0\n",
            "    1   0   0   1   0]\n",
            " [  0   0   0   0   0   0   0   0   0   0   0   0   0  16   0   0   0   0\n",
            "    0   0   0   0   2   0   0   0   0   0  15   0   7   0  96   0   0   3\n",
            "    0   0   0   0   0]\n",
            " [  0   2   0   1   0   0   6   0   0   0   0   0   0   0   0   0   0   0\n",
            "    0   0   0   1   0   1   0   0   0   0   0   0   0   0   0  85   0   0\n",
            "    0   5   0   0   1]\n",
            " [  0   1  10   1   3   2   1   1   0   3   7   1   0   0   0   5  13   4\n",
            "    1   1  13   0   1   0   0   0  13   0   0   0   0   0   1   1 111   0\n",
            "   13   0   0   0   0]\n",
            " [  0   1   0   0   0   0   0   0   2   0   0   2   0   4   4   0   0   0\n",
            "    0   0   0   0  21   0   0   0   0   0   7   0   0   0   3   0   0  48\n",
            "    0   0   0   0   0]\n",
            " [  0   1   4   0   2   5   0  13   2   0   0   2   0   0   0   3   5   0\n",
            "    0   0   0   1   0   1   0   0   1   0   0   0   0   0   0   0   9   0\n",
            "   20   0   1   5   0]\n",
            " [  0  12   0   3   0   1   4   0   1   0   0   0   0   0   0   0   0   0\n",
            "    0   2   0   2   6   9   3   1   0   2   0   0   0   0   0  16   0   0\n",
            "    1  94   9   0   0]\n",
            " [  1   7   0   0   0   1   3   0   3   0   0   0   0   0   3   0   0   0\n",
            "    0  11   0   9   3   4   4   2   1   2   0   2   0   0   0   2   0   2\n",
            "    0  16  20   0   0]\n",
            " [  0   0   0   0   2   0   0  17  10  13   0   0   0   0   0   0   5   0\n",
            "    1   0   0   0   0   1   0   0   0   0   0   0   0   2   0   0   1   0\n",
            "    0   0   0  15   0]\n",
            " [  1   1   0   5   0   2   0   0   0   0   0   0   0   0   0   0   0   0\n",
            "    0   3   0   0   0   1   7   0   0   5   0   0   0   0   0   2   0   0\n",
            "    0   0   0   0  17]]\n"
          ],
          "name": "stdout"
        }
      ]
    },
    {
      "cell_type": "code",
      "metadata": {
        "id": "_2FbDXtSwBRB",
        "colab": {
          "base_uri": "https://localhost:8080/",
          "height": 526
        },
        "outputId": "a16f9309-3c58-4b0e-8e5e-13cde7ffca37"
      },
      "source": [
        "plt.figure(figsize=(9,9))\n",
        "sns.heatmap(cm, annot=True, fmt=\".3f\", linewidths=.5, square = True, cmap = 'Blues_r');\n",
        "plt.ylabel('Actual label');\n",
        "plt.xlabel('Predicted label');\n",
        "all_sample_title = 'Accuracy Score: {0}'.format(score)\n",
        "plt.title(all_sample_title, size = 15);"
      ],
      "execution_count": 269,
      "outputs": [
        {
          "output_type": "display_data",
          "data": {
            "image/png": "[encoded data removed]",
            "text/plain": [
              "<Figure size 648x648 with 2 Axes>"
            ]
          },
          "metadata": {
            "tags": []
          }
        }
      ]
    },
    {
      "cell_type": "code",
      "metadata": {
        "id": "ymDm0grfwEHG",
        "colab": {
          "base_uri": "https://localhost:8080/",
          "height": 657
        },
        "outputId": "ebc6dd7f-fd47-4f0a-86d7-8332704409ce"
      },
      "source": [
        "plt.figure(figsize=(9,9))\n",
        "plt.imshow(cm, interpolation='nearest', cmap='Pastel1')\n",
        "plt.title('Confusion matrix', size = 15)\n",
        "plt.colorbar()\n",
        "tick_marks = np.arange(10)\n",
        "plt.xticks(tick_marks, [\"0\", \"1\", \"2\", \"3\", \"4\", \"5\", \"6\", \"7\", \"8\", \"9\"], rotation=45, size = 10)\n",
        "plt.yticks(tick_marks, [\"0\", \"1\", \"2\", \"3\", \"4\", \"5\", \"6\", \"7\", \"8\", \"9\"], size = 10)\n",
        "plt.tight_layout()\n",
        "plt.ylabel('Actual label', size = 15)\n",
        "plt.xlabel('Predicted label', size = 15)\n",
        "width, height = cm.shape\n",
        "for x in range(width):\n",
        " for y in range(height):\n",
        "  plt.annotate(str(cm[x][y]), xy=(y, x), \n",
        "  horizontalalignment='center',\n",
        "  verticalalignment='center')"
      ],
      "execution_count": 270,
      "outputs": [
        {
          "output_type": "display_data",
          "data": {
            "image/png": "[encoded data removed]",
            "text/plain": [
              "<Figure size 648x648 with 2 Axes>"
            ]
          },
          "metadata": {
            "tags": []
          }
        }
      ]
    },
    {
      "cell_type": "code",
      "metadata": {
        "id": "qAsLRC4l0xJW"
      },
      "source": [
        "# Read in csv file\n",
        "# File: https://github.com/mGalarnyk/Python_Tutorials/blob/master/Python_Basics/Linear_Regression/linear.csv\n",
        "\n",
        "\n",
        "raw_data= pd.read_csv(r\"featMatVersion0.csv\")\n",
        "#This is the unedited file from Eddie\n",
        "\n",
        "#raw_data = pd.read_csv(r\"featMatVersion1.csv\")\n",
        "\n",
        "#raw_data = pd.read_csv(r\"featMatVersion2.csv\")\n",
        "\n",
        "\n",
        "#/content/featMatVersion2.csv\n",
        "\n",
        "#raw_data = pd.read_csv(r\"featMatVersion3.csv\")\n",
        "\n",
        "#raw_data = pd.read_csv(r\"featMatVersion4.csv\")\n",
        "#Same as original but no comunns 2 and 13\n",
        "\n",
        "\n",
        "#raw_data= pd.read_csv(r\"featMatVersion5.csv\")\n",
        "#Same as version1 but no comunns 2 and 13\n",
        "\n",
        "\n",
        "#raw_data = pd.read_csv(r\"featMatVersion6.csv\")\n",
        "#Same as version2 but no comunns 2 and 13\n",
        "\n",
        "\n",
        "#raw_data = pd.read_csv(r\"featMatVersion7.csv\")\n",
        "#Same as version3 but no comunns 2 and 13\n",
        "\n",
        "\n",
        "#raw_data = pd.read_csv(r\"featMatVersion8.csv\")\n",
        "#Same as version0 but only 2 users\n",
        "#has only 2 users\n",
        "\n",
        "\n",
        "\n",
        "\n"
      ],
      "execution_count": 271,
      "outputs": []
    },
    {
      "cell_type": "code",
      "metadata": {
        "id": "CvEII4Qt-i30",
        "colab": {
          "base_uri": "https://localhost:8080/",
          "height": 292
        },
        "outputId": "ea1880ea-a88e-4321-990d-4c4fae5208e3"
      },
      "source": [
        "raw_data.head()"
      ],
      "execution_count": 272,
      "outputs": [
        {
          "output_type": "execute_result",
          "data": {
            "text/html": [
              "<div>\n",
              "<style scoped>\n",
              "    .dataframe tbody tr th:only-of-type {\n",
              "        vertical-align: middle;\n",
              "    }\n",
              "\n",
              "    .dataframe tbody tr th {\n",
              "        vertical-align: top;\n",
              "    }\n",
              "\n",
              "    .dataframe thead th {\n",
              "        text-align: right;\n",
              "    }\n",
              "</style>\n",
              "<table border=\"1\" class=\"dataframe\">\n",
              "  <thead>\n",
              "    <tr style=\"text-align: right;\">\n",
              "      <th></th>\n",
              "      <th>User_ID</th>\n",
              "      <th>Doc_ID</th>\n",
              "      <th>Inter-Stroke time</th>\n",
              "      <th>Stroke Duration</th>\n",
              "      <th>Start X</th>\n",
              "      <th>Start Y</th>\n",
              "      <th>Stop X</th>\n",
              "      <th>Stop Y</th>\n",
              "      <th>Direct end-to-end Distance</th>\n",
              "      <th>Mean resulant length</th>\n",
              "      <th>WSAD Flag</th>\n",
              "      <th>Direction of end-to-end Time</th>\n",
              "      <th>Phone_ID</th>\n",
              "      <th>20 per pairwise velocity</th>\n",
              "      <th>50 per pairwise velocity</th>\n",
              "      <th>80 per pairwise velocity</th>\n",
              "      <th>20 per pairwise acc</th>\n",
              "      <th>50 per pairwise acc</th>\n",
              "      <th>80 per pairwise acc</th>\n",
              "      <th>Median velocity at last 3pts</th>\n",
              "      <th>Largest deviation from end-to-end line</th>\n",
              "      <th>20 per dev line</th>\n",
              "      <th>50 per dev line</th>\n",
              "      <th>80 per dev line</th>\n",
              "      <th>Average Direction</th>\n",
              "      <th>Length of Trajectory</th>\n",
              "      <th>Ratio dist and length of trajectory</th>\n",
              "      <th>Average velocity</th>\n",
              "      <th>Median acceleration at first 5 pts</th>\n",
              "      <th>Mid-Stroke pressure</th>\n",
              "      <th>Mid-Stroke area covered</th>\n",
              "      <th>Mid-Stroke finger orientation</th>\n",
              "      <th>Change of finger orientation</th>\n",
              "      <th>Phone orientation</th>\n",
              "    </tr>\n",
              "  </thead>\n",
              "  <tbody>\n",
              "    <tr>\n",
              "      <th>0</th>\n",
              "      <td>37</td>\n",
              "      <td>4</td>\n",
              "      <td>0.341</td>\n",
              "      <td>0.256</td>\n",
              "      <td>27.416</td>\n",
              "      <td>-27.113</td>\n",
              "      <td>12.3980</td>\n",
              "      <td>-32.960</td>\n",
              "      <td>16.1160</td>\n",
              "      <td>0.35736</td>\n",
              "      <td>4</td>\n",
              "      <td>-2.770400</td>\n",
              "      <td>1</td>\n",
              "      <td>0.41784</td>\n",
              "      <td>4.1784</td>\n",
              "      <td>2719.20</td>\n",
              "      <td>-604180.0</td>\n",
              "      <td>-432.24</td>\n",
              "      <td>603320.0</td>\n",
              "      <td>4.1784</td>\n",
              "      <td>0.17777</td>\n",
              "      <td>0.000000</td>\n",
              "      <td>0.00000</td>\n",
              "      <td>0.124440</td>\n",
              "      <td>-2.581200</td>\n",
              "      <td>16.1320</td>\n",
              "      <td>0.99898</td>\n",
              "      <td>63.018</td>\n",
              "      <td>-432.24</td>\n",
              "      <td>0.32</td>\n",
              "      <td>0.044444</td>\n",
              "      <td>0.0</td>\n",
              "      <td>0</td>\n",
              "      <td>1</td>\n",
              "    </tr>\n",
              "    <tr>\n",
              "      <th>1</th>\n",
              "      <td>37</td>\n",
              "      <td>4</td>\n",
              "      <td>0.913</td>\n",
              "      <td>0.086</td>\n",
              "      <td>21.771</td>\n",
              "      <td>-30.037</td>\n",
              "      <td>9.8778</td>\n",
              "      <td>-33.867</td>\n",
              "      <td>12.4950</td>\n",
              "      <td>0.26504</td>\n",
              "      <td>4</td>\n",
              "      <td>-2.830000</td>\n",
              "      <td>1</td>\n",
              "      <td>0.00000</td>\n",
              "      <td>156.7900</td>\n",
              "      <td>502.37</td>\n",
              "      <td>-26083.0</td>\n",
              "      <td>5117.70</td>\n",
              "      <td>116600.0</td>\n",
              "      <td>265.1400</td>\n",
              "      <td>0.78867</td>\n",
              "      <td>0.000000</td>\n",
              "      <td>0.00000</td>\n",
              "      <td>0.406210</td>\n",
              "      <td>-2.199400</td>\n",
              "      <td>12.5960</td>\n",
              "      <td>0.99197</td>\n",
              "      <td>146.470</td>\n",
              "      <td>5117.70</td>\n",
              "      <td>0.60</td>\n",
              "      <td>0.088889</td>\n",
              "      <td>0.0</td>\n",
              "      <td>0</td>\n",
              "      <td>1</td>\n",
              "    </tr>\n",
              "    <tr>\n",
              "      <th>2</th>\n",
              "      <td>37</td>\n",
              "      <td>4</td>\n",
              "      <td>0.733</td>\n",
              "      <td>0.111</td>\n",
              "      <td>10.886</td>\n",
              "      <td>-34.169</td>\n",
              "      <td>26.9120</td>\n",
              "      <td>-34.673</td>\n",
              "      <td>16.0340</td>\n",
              "      <td>0.99118</td>\n",
              "      <td>2</td>\n",
              "      <td>-0.031436</td>\n",
              "      <td>1</td>\n",
              "      <td>32.12200</td>\n",
              "      <td>143.8500</td>\n",
              "      <td>263.58</td>\n",
              "      <td>-52140.0</td>\n",
              "      <td>-3563.50</td>\n",
              "      <td>26382.0</td>\n",
              "      <td>188.8200</td>\n",
              "      <td>-1.06510</td>\n",
              "      <td>-0.802530</td>\n",
              "      <td>-0.11658</td>\n",
              "      <td>0.000000</td>\n",
              "      <td>0.086288</td>\n",
              "      <td>16.2030</td>\n",
              "      <td>0.98959</td>\n",
              "      <td>145.970</td>\n",
              "      <td>-3563.50</td>\n",
              "      <td>0.48</td>\n",
              "      <td>0.044444</td>\n",
              "      <td>0.0</td>\n",
              "      <td>0</td>\n",
              "      <td>1</td>\n",
              "    </tr>\n",
              "    <tr>\n",
              "      <th>3</th>\n",
              "      <td>37</td>\n",
              "      <td>4</td>\n",
              "      <td>0.448</td>\n",
              "      <td>0.094</td>\n",
              "      <td>19.151</td>\n",
              "      <td>-34.572</td>\n",
              "      <td>12.7000</td>\n",
              "      <td>-36.790</td>\n",
              "      <td>6.8213</td>\n",
              "      <td>0.59647</td>\n",
              "      <td>4</td>\n",
              "      <td>-2.810500</td>\n",
              "      <td>1</td>\n",
              "      <td>17.36000</td>\n",
              "      <td>76.6380</td>\n",
              "      <td>230.62</td>\n",
              "      <td>-10012.0</td>\n",
              "      <td>-4604.10</td>\n",
              "      <td>25874.0</td>\n",
              "      <td>95.8570</td>\n",
              "      <td>0.60170</td>\n",
              "      <td>0.000000</td>\n",
              "      <td>0.10128</td>\n",
              "      <td>0.570430</td>\n",
              "      <td>-2.723100</td>\n",
              "      <td>6.9674</td>\n",
              "      <td>0.97902</td>\n",
              "      <td>74.122</td>\n",
              "      <td>-4604.10</td>\n",
              "      <td>0.40</td>\n",
              "      <td>0.044444</td>\n",
              "      <td>0.0</td>\n",
              "      <td>0</td>\n",
              "      <td>1</td>\n",
              "    </tr>\n",
              "    <tr>\n",
              "      <th>4</th>\n",
              "      <td>37</td>\n",
              "      <td>4</td>\n",
              "      <td>0.519</td>\n",
              "      <td>0.056</td>\n",
              "      <td>27.718</td>\n",
              "      <td>-32.758</td>\n",
              "      <td>14.6150</td>\n",
              "      <td>-37.294</td>\n",
              "      <td>13.8660</td>\n",
              "      <td>0.67819</td>\n",
              "      <td>4</td>\n",
              "      <td>-2.808300</td>\n",
              "      <td>1</td>\n",
              "      <td>74.82100</td>\n",
              "      <td>275.5700</td>\n",
              "      <td>993.21</td>\n",
              "      <td>-126180.0</td>\n",
              "      <td>-21377.00</td>\n",
              "      <td>217040.0</td>\n",
              "      <td>244.6800</td>\n",
              "      <td>-0.10990</td>\n",
              "      <td>-0.096714</td>\n",
              "      <td>0.00000</td>\n",
              "      <td>0.001099</td>\n",
              "      <td>-2.717000</td>\n",
              "      <td>13.8710</td>\n",
              "      <td>0.99965</td>\n",
              "      <td>247.690</td>\n",
              "      <td>-21377.00</td>\n",
              "      <td>0.44</td>\n",
              "      <td>0.044444</td>\n",
              "      <td>0.0</td>\n",
              "      <td>0</td>\n",
              "      <td>1</td>\n",
              "    </tr>\n",
              "  </tbody>\n",
              "</table>\n",
              "</div>"
            ],
            "text/plain": [
              "   User_ID  Doc_ID  ...  Change of finger orientation  Phone orientation\n",
              "0       37       4  ...                             0                  1\n",
              "1       37       4  ...                             0                  1\n",
              "2       37       4  ...                             0                  1\n",
              "3       37       4  ...                             0                  1\n",
              "4       37       4  ...                             0                  1\n",
              "\n",
              "[5 rows x 34 columns]"
            ]
          },
          "metadata": {
            "tags": []
          },
          "execution_count": 272
        }
      ]
    },
    {
      "cell_type": "code",
      "metadata": {
        "id": "CZ-ukd0s9r_R",
        "colab": {
          "base_uri": "https://localhost:8080/",
          "height": 292
        },
        "outputId": "fa0b9007-b4e1-4281-e8e8-1cac1dd7e254"
      },
      "source": [
        "\n",
        "\n",
        "\n",
        "# Removes rows with NaN in them\n",
        "filtered_data = raw_data[~np.isnan(raw_data)] \n",
        "\n",
        "# how to clean up data?\n",
        "\n",
        "x_y = np.array(filtered_data)\n",
        "x, y = x_y[:,0], x_y[:,1]\n",
        "\n",
        "# Reshaping\n",
        "x, y = x.reshape(-1,1), y.reshape(-1, 1)\n",
        "\n",
        "filtered_data.head()\n",
        "\n"
      ],
      "execution_count": 273,
      "outputs": [
        {
          "output_type": "execute_result",
          "data": {
            "text/html": [
              "<div>\n",
              "<style scoped>\n",
              "    .dataframe tbody tr th:only-of-type {\n",
              "        vertical-align: middle;\n",
              "    }\n",
              "\n",
              "    .dataframe tbody tr th {\n",
              "        vertical-align: top;\n",
              "    }\n",
              "\n",
              "    .dataframe thead th {\n",
              "        text-align: right;\n",
              "    }\n",
              "</style>\n",
              "<table border=\"1\" class=\"dataframe\">\n",
              "  <thead>\n",
              "    <tr style=\"text-align: right;\">\n",
              "      <th></th>\n",
              "      <th>User_ID</th>\n",
              "      <th>Doc_ID</th>\n",
              "      <th>Inter-Stroke time</th>\n",
              "      <th>Stroke Duration</th>\n",
              "      <th>Start X</th>\n",
              "      <th>Start Y</th>\n",
              "      <th>Stop X</th>\n",
              "      <th>Stop Y</th>\n",
              "      <th>Direct end-to-end Distance</th>\n",
              "      <th>Mean resulant length</th>\n",
              "      <th>WSAD Flag</th>\n",
              "      <th>Direction of end-to-end Time</th>\n",
              "      <th>Phone_ID</th>\n",
              "      <th>20 per pairwise velocity</th>\n",
              "      <th>50 per pairwise velocity</th>\n",
              "      <th>80 per pairwise velocity</th>\n",
              "      <th>20 per pairwise acc</th>\n",
              "      <th>50 per pairwise acc</th>\n",
              "      <th>80 per pairwise acc</th>\n",
              "      <th>Median velocity at last 3pts</th>\n",
              "      <th>Largest deviation from end-to-end line</th>\n",
              "      <th>20 per dev line</th>\n",
              "      <th>50 per dev line</th>\n",
              "      <th>80 per dev line</th>\n",
              "      <th>Average Direction</th>\n",
              "      <th>Length of Trajectory</th>\n",
              "      <th>Ratio dist and length of trajectory</th>\n",
              "      <th>Average velocity</th>\n",
              "      <th>Median acceleration at first 5 pts</th>\n",
              "      <th>Mid-Stroke pressure</th>\n",
              "      <th>Mid-Stroke area covered</th>\n",
              "      <th>Mid-Stroke finger orientation</th>\n",
              "      <th>Change of finger orientation</th>\n",
              "      <th>Phone orientation</th>\n",
              "    </tr>\n",
              "  </thead>\n",
              "  <tbody>\n",
              "    <tr>\n",
              "      <th>0</th>\n",
              "      <td>37</td>\n",
              "      <td>4</td>\n",
              "      <td>0.341</td>\n",
              "      <td>0.256</td>\n",
              "      <td>27.416</td>\n",
              "      <td>-27.113</td>\n",
              "      <td>12.3980</td>\n",
              "      <td>-32.960</td>\n",
              "      <td>16.1160</td>\n",
              "      <td>0.35736</td>\n",
              "      <td>4</td>\n",
              "      <td>-2.770400</td>\n",
              "      <td>1</td>\n",
              "      <td>0.41784</td>\n",
              "      <td>4.1784</td>\n",
              "      <td>2719.20</td>\n",
              "      <td>-604180.0</td>\n",
              "      <td>-432.24</td>\n",
              "      <td>603320.0</td>\n",
              "      <td>4.1784</td>\n",
              "      <td>0.17777</td>\n",
              "      <td>0.000000</td>\n",
              "      <td>0.00000</td>\n",
              "      <td>0.124440</td>\n",
              "      <td>-2.581200</td>\n",
              "      <td>16.1320</td>\n",
              "      <td>0.99898</td>\n",
              "      <td>63.018</td>\n",
              "      <td>-432.24</td>\n",
              "      <td>0.32</td>\n",
              "      <td>0.044444</td>\n",
              "      <td>0.0</td>\n",
              "      <td>0</td>\n",
              "      <td>1</td>\n",
              "    </tr>\n",
              "    <tr>\n",
              "      <th>1</th>\n",
              "      <td>37</td>\n",
              "      <td>4</td>\n",
              "      <td>0.913</td>\n",
              "      <td>0.086</td>\n",
              "      <td>21.771</td>\n",
              "      <td>-30.037</td>\n",
              "      <td>9.8778</td>\n",
              "      <td>-33.867</td>\n",
              "      <td>12.4950</td>\n",
              "      <td>0.26504</td>\n",
              "      <td>4</td>\n",
              "      <td>-2.830000</td>\n",
              "      <td>1</td>\n",
              "      <td>0.00000</td>\n",
              "      <td>156.7900</td>\n",
              "      <td>502.37</td>\n",
              "      <td>-26083.0</td>\n",
              "      <td>5117.70</td>\n",
              "      <td>116600.0</td>\n",
              "      <td>265.1400</td>\n",
              "      <td>0.78867</td>\n",
              "      <td>0.000000</td>\n",
              "      <td>0.00000</td>\n",
              "      <td>0.406210</td>\n",
              "      <td>-2.199400</td>\n",
              "      <td>12.5960</td>\n",
              "      <td>0.99197</td>\n",
              "      <td>146.470</td>\n",
              "      <td>5117.70</td>\n",
              "      <td>0.60</td>\n",
              "      <td>0.088889</td>\n",
              "      <td>0.0</td>\n",
              "      <td>0</td>\n",
              "      <td>1</td>\n",
              "    </tr>\n",
              "    <tr>\n",
              "      <th>2</th>\n",
              "      <td>37</td>\n",
              "      <td>4</td>\n",
              "      <td>0.733</td>\n",
              "      <td>0.111</td>\n",
              "      <td>10.886</td>\n",
              "      <td>-34.169</td>\n",
              "      <td>26.9120</td>\n",
              "      <td>-34.673</td>\n",
              "      <td>16.0340</td>\n",
              "      <td>0.99118</td>\n",
              "      <td>2</td>\n",
              "      <td>-0.031436</td>\n",
              "      <td>1</td>\n",
              "      <td>32.12200</td>\n",
              "      <td>143.8500</td>\n",
              "      <td>263.58</td>\n",
              "      <td>-52140.0</td>\n",
              "      <td>-3563.50</td>\n",
              "      <td>26382.0</td>\n",
              "      <td>188.8200</td>\n",
              "      <td>-1.06510</td>\n",
              "      <td>-0.802530</td>\n",
              "      <td>-0.11658</td>\n",
              "      <td>0.000000</td>\n",
              "      <td>0.086288</td>\n",
              "      <td>16.2030</td>\n",
              "      <td>0.98959</td>\n",
              "      <td>145.970</td>\n",
              "      <td>-3563.50</td>\n",
              "      <td>0.48</td>\n",
              "      <td>0.044444</td>\n",
              "      <td>0.0</td>\n",
              "      <td>0</td>\n",
              "      <td>1</td>\n",
              "    </tr>\n",
              "    <tr>\n",
              "      <th>3</th>\n",
              "      <td>37</td>\n",
              "      <td>4</td>\n",
              "      <td>0.448</td>\n",
              "      <td>0.094</td>\n",
              "      <td>19.151</td>\n",
              "      <td>-34.572</td>\n",
              "      <td>12.7000</td>\n",
              "      <td>-36.790</td>\n",
              "      <td>6.8213</td>\n",
              "      <td>0.59647</td>\n",
              "      <td>4</td>\n",
              "      <td>-2.810500</td>\n",
              "      <td>1</td>\n",
              "      <td>17.36000</td>\n",
              "      <td>76.6380</td>\n",
              "      <td>230.62</td>\n",
              "      <td>-10012.0</td>\n",
              "      <td>-4604.10</td>\n",
              "      <td>25874.0</td>\n",
              "      <td>95.8570</td>\n",
              "      <td>0.60170</td>\n",
              "      <td>0.000000</td>\n",
              "      <td>0.10128</td>\n",
              "      <td>0.570430</td>\n",
              "      <td>-2.723100</td>\n",
              "      <td>6.9674</td>\n",
              "      <td>0.97902</td>\n",
              "      <td>74.122</td>\n",
              "      <td>-4604.10</td>\n",
              "      <td>0.40</td>\n",
              "      <td>0.044444</td>\n",
              "      <td>0.0</td>\n",
              "      <td>0</td>\n",
              "      <td>1</td>\n",
              "    </tr>\n",
              "    <tr>\n",
              "      <th>4</th>\n",
              "      <td>37</td>\n",
              "      <td>4</td>\n",
              "      <td>0.519</td>\n",
              "      <td>0.056</td>\n",
              "      <td>27.718</td>\n",
              "      <td>-32.758</td>\n",
              "      <td>14.6150</td>\n",
              "      <td>-37.294</td>\n",
              "      <td>13.8660</td>\n",
              "      <td>0.67819</td>\n",
              "      <td>4</td>\n",
              "      <td>-2.808300</td>\n",
              "      <td>1</td>\n",
              "      <td>74.82100</td>\n",
              "      <td>275.5700</td>\n",
              "      <td>993.21</td>\n",
              "      <td>-126180.0</td>\n",
              "      <td>-21377.00</td>\n",
              "      <td>217040.0</td>\n",
              "      <td>244.6800</td>\n",
              "      <td>-0.10990</td>\n",
              "      <td>-0.096714</td>\n",
              "      <td>0.00000</td>\n",
              "      <td>0.001099</td>\n",
              "      <td>-2.717000</td>\n",
              "      <td>13.8710</td>\n",
              "      <td>0.99965</td>\n",
              "      <td>247.690</td>\n",
              "      <td>-21377.00</td>\n",
              "      <td>0.44</td>\n",
              "      <td>0.044444</td>\n",
              "      <td>0.0</td>\n",
              "      <td>0</td>\n",
              "      <td>1</td>\n",
              "    </tr>\n",
              "  </tbody>\n",
              "</table>\n",
              "</div>"
            ],
            "text/plain": [
              "   User_ID  Doc_ID  ...  Change of finger orientation  Phone orientation\n",
              "0       37       4  ...                             0                  1\n",
              "1       37       4  ...                             0                  1\n",
              "2       37       4  ...                             0                  1\n",
              "3       37       4  ...                             0                  1\n",
              "4       37       4  ...                             0                  1\n",
              "\n",
              "[5 rows x 34 columns]"
            ]
          },
          "metadata": {
            "tags": []
          },
          "execution_count": 273
        }
      ]
    },
    {
      "cell_type": "code",
      "metadata": {
        "id": "r3-R9fDV-J_L",
        "colab": {
          "base_uri": "https://localhost:8080/",
          "height": 282
        },
        "outputId": "195ec119-1a50-4a8b-b52c-cbce86a00baf"
      },
      "source": [
        "# Linear Regression Object \n",
        "lin_regression = LinearRegression()\n",
        "\n",
        "# Fitting linear model to the data\n",
        "lin_regression.fit(x,y)\n",
        "\n",
        "# Get slope of fitted line\n",
        "m = lin_regression.coef_\n",
        "\n",
        "# Get y-Intercept of the Line\n",
        "b = lin_regression.intercept_\n",
        "\n",
        "# Get Predictions for original x values\n",
        "# you can also get predictions for new data\n",
        "predictions = lin_regression.predict(x)\n",
        "\n",
        "# following slope intercept form \n",
        "print ( \"formula: y = {0}x + {1}\".format(m, b) )\n",
        "\n",
        "# Plot the Original Model (Black) and Predictions (Blue)\n",
        "plt.scatter(x, y,  color='black')\n",
        "plt.plot(x, predictions, color='blue',linewidth=3)\n",
        "plt.show()"
      ],
      "execution_count": 274,
      "outputs": [
        {
          "output_type": "stream",
          "text": [
            "formula: y = [[-0.01699375]]x + [3.64700301]\n"
          ],
          "name": "stdout"
        },
        {
          "output_type": "display_data",
          "data": {
            "image/png": "[encoded data removed]",
            "text/plain": [
              "<Figure size 432x288 with 1 Axes>"
            ]
          },
          "metadata": {
            "tags": []
          }
        }
      ]
    },
    {
      "cell_type": "code",
      "metadata": {
        "id": "vpuTy24tA9VT",
        "colab": {
          "base_uri": "https://localhost:8080/",
          "height": 292
        },
        "outputId": "e727b9dd-c788-457b-d013-25525109ec5e"
      },
      "source": [
        "#df = pd.read_csv(url, names=['sepal length','sepal width','petal length','petal width','target'])\n",
        "df = pd.read_csv(r\"featMatVersion0.csv\")\n",
        "#This is the unedited file from Eddie\n",
        "\n",
        "#df = pd.read_csv(r\"featMatVersion1.csv\")\n",
        "\n",
        "#df = pd.read_csv(r\"featMatVersion2.csv\")\n",
        "\n",
        "\n",
        "#/content/featMatVersion2.csv\n",
        "\n",
        "#df = pd.read_csv(r\"featMatVersion3.csv\")\n",
        "\n",
        "#df = pd.read_csv(r\"featMatVersion4.csv\")\n",
        "#Same as original but no comunns 2 and 13\n",
        "\n",
        "\n",
        "#df = pd.read_csv(r\"featMatVersion5.csv\")\n",
        "#Same as version1 but no comunns 2 and 13\n",
        "\n",
        "\n",
        "#df = pd.read_csv(r\"featMatVersion6.csv\")\n",
        "#Same as version2 but no comunns 2 and 13\n",
        "\n",
        "#df = pd.read_csv(r\"featMatVersion7.csv\")\n",
        "\n",
        "\n",
        "#df = pd.read_csv(r\"featMatVersion8.csv\")\n",
        "#Same as version0 but only 2 users\n",
        "#has only 2 users\n",
        "\n",
        "\n",
        "\n",
        "#df = pd.read_csv(r\"featMatVersion7.csv\",names=['User_ID', 'Inter-Stroke time', 'Stroke Duration', 'Start X', 'Start Y',\n",
        " #      'Stop X', 'Stop Y', 'Direct end-to-end Distance',\n",
        "  #     'Mean resulant length', 'WSAD Flag', 'Direction of end-to-end Time',\n",
        "   #    '20 per pairwise velocity', '50 per pairwise velocity',\n",
        "    #   '80 per pairwise velocity', '20 per pairwise acc',\n",
        "     #  '50 per pairwise acc', '80 per pairwise acc',\n",
        "      # 'Median velocity at last 3pts',\n",
        "       #'Largest deviation from end-to-end line', '20 per dev line',\n",
        "       #'50 per dev line', '80 per dev line', 'Average Direction',\n",
        "       #'Length of Trajectory', 'Ratio dist and length of trajectory',\n",
        "       #'Average velocity', 'Median acceleration at first 5 pts',\n",
        "       #'Mid-Stroke pressure', 'Mid-Stroke area covered',\n",
        "       #'Mid-Stroke finger orientation', 'Change of finger orientation',\n",
        "       #'Phone orientation'] )\n",
        "#Same as version3 but no comunns 2 and 13\n",
        "\n",
        "\n",
        "df.head()\n"
      ],
      "execution_count": 275,
      "outputs": [
        {
          "output_type": "execute_result",
          "data": {
            "text/html": [
              "<div>\n",
              "<style scoped>\n",
              "    .dataframe tbody tr th:only-of-type {\n",
              "        vertical-align: middle;\n",
              "    }\n",
              "\n",
              "    .dataframe tbody tr th {\n",
              "        vertical-align: top;\n",
              "    }\n",
              "\n",
              "    .dataframe thead th {\n",
              "        text-align: right;\n",
              "    }\n",
              "</style>\n",
              "<table border=\"1\" class=\"dataframe\">\n",
              "  <thead>\n",
              "    <tr style=\"text-align: right;\">\n",
              "      <th></th>\n",
              "      <th>User_ID</th>\n",
              "      <th>Doc_ID</th>\n",
              "      <th>Inter-Stroke time</th>\n",
              "      <th>Stroke Duration</th>\n",
              "      <th>Start X</th>\n",
              "      <th>Start Y</th>\n",
              "      <th>Stop X</th>\n",
              "      <th>Stop Y</th>\n",
              "      <th>Direct end-to-end Distance</th>\n",
              "      <th>Mean resulant length</th>\n",
              "      <th>WSAD Flag</th>\n",
              "      <th>Direction of end-to-end Time</th>\n",
              "      <th>Phone_ID</th>\n",
              "      <th>20 per pairwise velocity</th>\n",
              "      <th>50 per pairwise velocity</th>\n",
              "      <th>80 per pairwise velocity</th>\n",
              "      <th>20 per pairwise acc</th>\n",
              "      <th>50 per pairwise acc</th>\n",
              "      <th>80 per pairwise acc</th>\n",
              "      <th>Median velocity at last 3pts</th>\n",
              "      <th>Largest deviation from end-to-end line</th>\n",
              "      <th>20 per dev line</th>\n",
              "      <th>50 per dev line</th>\n",
              "      <th>80 per dev line</th>\n",
              "      <th>Average Direction</th>\n",
              "      <th>Length of Trajectory</th>\n",
              "      <th>Ratio dist and length of trajectory</th>\n",
              "      <th>Average velocity</th>\n",
              "      <th>Median acceleration at first 5 pts</th>\n",
              "      <th>Mid-Stroke pressure</th>\n",
              "      <th>Mid-Stroke area covered</th>\n",
              "      <th>Mid-Stroke finger orientation</th>\n",
              "      <th>Change of finger orientation</th>\n",
              "      <th>Phone orientation</th>\n",
              "    </tr>\n",
              "  </thead>\n",
              "  <tbody>\n",
              "    <tr>\n",
              "      <th>0</th>\n",
              "      <td>37</td>\n",
              "      <td>4</td>\n",
              "      <td>0.341</td>\n",
              "      <td>0.256</td>\n",
              "      <td>27.416</td>\n",
              "      <td>-27.113</td>\n",
              "      <td>12.3980</td>\n",
              "      <td>-32.960</td>\n",
              "      <td>16.1160</td>\n",
              "      <td>0.35736</td>\n",
              "      <td>4</td>\n",
              "      <td>-2.770400</td>\n",
              "      <td>1</td>\n",
              "      <td>0.41784</td>\n",
              "      <td>4.1784</td>\n",
              "      <td>2719.20</td>\n",
              "      <td>-604180.0</td>\n",
              "      <td>-432.24</td>\n",
              "      <td>603320.0</td>\n",
              "      <td>4.1784</td>\n",
              "      <td>0.17777</td>\n",
              "      <td>0.000000</td>\n",
              "      <td>0.00000</td>\n",
              "      <td>0.124440</td>\n",
              "      <td>-2.581200</td>\n",
              "      <td>16.1320</td>\n",
              "      <td>0.99898</td>\n",
              "      <td>63.018</td>\n",
              "      <td>-432.24</td>\n",
              "      <td>0.32</td>\n",
              "      <td>0.044444</td>\n",
              "      <td>0.0</td>\n",
              "      <td>0</td>\n",
              "      <td>1</td>\n",
              "    </tr>\n",
              "    <tr>\n",
              "      <th>1</th>\n",
              "      <td>37</td>\n",
              "      <td>4</td>\n",
              "      <td>0.913</td>\n",
              "      <td>0.086</td>\n",
              "      <td>21.771</td>\n",
              "      <td>-30.037</td>\n",
              "      <td>9.8778</td>\n",
              "      <td>-33.867</td>\n",
              "      <td>12.4950</td>\n",
              "      <td>0.26504</td>\n",
              "      <td>4</td>\n",
              "      <td>-2.830000</td>\n",
              "      <td>1</td>\n",
              "      <td>0.00000</td>\n",
              "      <td>156.7900</td>\n",
              "      <td>502.37</td>\n",
              "      <td>-26083.0</td>\n",
              "      <td>5117.70</td>\n",
              "      <td>116600.0</td>\n",
              "      <td>265.1400</td>\n",
              "      <td>0.78867</td>\n",
              "      <td>0.000000</td>\n",
              "      <td>0.00000</td>\n",
              "      <td>0.406210</td>\n",
              "      <td>-2.199400</td>\n",
              "      <td>12.5960</td>\n",
              "      <td>0.99197</td>\n",
              "      <td>146.470</td>\n",
              "      <td>5117.70</td>\n",
              "      <td>0.60</td>\n",
              "      <td>0.088889</td>\n",
              "      <td>0.0</td>\n",
              "      <td>0</td>\n",
              "      <td>1</td>\n",
              "    </tr>\n",
              "    <tr>\n",
              "      <th>2</th>\n",
              "      <td>37</td>\n",
              "      <td>4</td>\n",
              "      <td>0.733</td>\n",
              "      <td>0.111</td>\n",
              "      <td>10.886</td>\n",
              "      <td>-34.169</td>\n",
              "      <td>26.9120</td>\n",
              "      <td>-34.673</td>\n",
              "      <td>16.0340</td>\n",
              "      <td>0.99118</td>\n",
              "      <td>2</td>\n",
              "      <td>-0.031436</td>\n",
              "      <td>1</td>\n",
              "      <td>32.12200</td>\n",
              "      <td>143.8500</td>\n",
              "      <td>263.58</td>\n",
              "      <td>-52140.0</td>\n",
              "      <td>-3563.50</td>\n",
              "      <td>26382.0</td>\n",
              "      <td>188.8200</td>\n",
              "      <td>-1.06510</td>\n",
              "      <td>-0.802530</td>\n",
              "      <td>-0.11658</td>\n",
              "      <td>0.000000</td>\n",
              "      <td>0.086288</td>\n",
              "      <td>16.2030</td>\n",
              "      <td>0.98959</td>\n",
              "      <td>145.970</td>\n",
              "      <td>-3563.50</td>\n",
              "      <td>0.48</td>\n",
              "      <td>0.044444</td>\n",
              "      <td>0.0</td>\n",
              "      <td>0</td>\n",
              "      <td>1</td>\n",
              "    </tr>\n",
              "    <tr>\n",
              "      <th>3</th>\n",
              "      <td>37</td>\n",
              "      <td>4</td>\n",
              "      <td>0.448</td>\n",
              "      <td>0.094</td>\n",
              "      <td>19.151</td>\n",
              "      <td>-34.572</td>\n",
              "      <td>12.7000</td>\n",
              "      <td>-36.790</td>\n",
              "      <td>6.8213</td>\n",
              "      <td>0.59647</td>\n",
              "      <td>4</td>\n",
              "      <td>-2.810500</td>\n",
              "      <td>1</td>\n",
              "      <td>17.36000</td>\n",
              "      <td>76.6380</td>\n",
              "      <td>230.62</td>\n",
              "      <td>-10012.0</td>\n",
              "      <td>-4604.10</td>\n",
              "      <td>25874.0</td>\n",
              "      <td>95.8570</td>\n",
              "      <td>0.60170</td>\n",
              "      <td>0.000000</td>\n",
              "      <td>0.10128</td>\n",
              "      <td>0.570430</td>\n",
              "      <td>-2.723100</td>\n",
              "      <td>6.9674</td>\n",
              "      <td>0.97902</td>\n",
              "      <td>74.122</td>\n",
              "      <td>-4604.10</td>\n",
              "      <td>0.40</td>\n",
              "      <td>0.044444</td>\n",
              "      <td>0.0</td>\n",
              "      <td>0</td>\n",
              "      <td>1</td>\n",
              "    </tr>\n",
              "    <tr>\n",
              "      <th>4</th>\n",
              "      <td>37</td>\n",
              "      <td>4</td>\n",
              "      <td>0.519</td>\n",
              "      <td>0.056</td>\n",
              "      <td>27.718</td>\n",
              "      <td>-32.758</td>\n",
              "      <td>14.6150</td>\n",
              "      <td>-37.294</td>\n",
              "      <td>13.8660</td>\n",
              "      <td>0.67819</td>\n",
              "      <td>4</td>\n",
              "      <td>-2.808300</td>\n",
              "      <td>1</td>\n",
              "      <td>74.82100</td>\n",
              "      <td>275.5700</td>\n",
              "      <td>993.21</td>\n",
              "      <td>-126180.0</td>\n",
              "      <td>-21377.00</td>\n",
              "      <td>217040.0</td>\n",
              "      <td>244.6800</td>\n",
              "      <td>-0.10990</td>\n",
              "      <td>-0.096714</td>\n",
              "      <td>0.00000</td>\n",
              "      <td>0.001099</td>\n",
              "      <td>-2.717000</td>\n",
              "      <td>13.8710</td>\n",
              "      <td>0.99965</td>\n",
              "      <td>247.690</td>\n",
              "      <td>-21377.00</td>\n",
              "      <td>0.44</td>\n",
              "      <td>0.044444</td>\n",
              "      <td>0.0</td>\n",
              "      <td>0</td>\n",
              "      <td>1</td>\n",
              "    </tr>\n",
              "  </tbody>\n",
              "</table>\n",
              "</div>"
            ],
            "text/plain": [
              "   User_ID  Doc_ID  ...  Change of finger orientation  Phone orientation\n",
              "0       37       4  ...                             0                  1\n",
              "1       37       4  ...                             0                  1\n",
              "2       37       4  ...                             0                  1\n",
              "3       37       4  ...                             0                  1\n",
              "4       37       4  ...                             0                  1\n",
              "\n",
              "[5 rows x 34 columns]"
            ]
          },
          "metadata": {
            "tags": []
          },
          "execution_count": 275
        }
      ]
    },
    {
      "cell_type": "code",
      "metadata": {
        "id": "4dr1ExyJAuFY"
      },
      "source": [
        "\n",
        "\n",
        "features=[ 'Inter-Stroke time', 'Stroke Duration', 'Start X', 'Start Y',\n",
        "       'Stop X', 'Stop Y', 'Direct end-to-end Distance',\n",
        "       'Mean resulant length', 'WSAD Flag', 'Direction of end-to-end Time',\n",
        "       '20 per pairwise velocity', '50 per pairwise velocity',\n",
        "       '80 per pairwise velocity', '20 per pairwise acc',\n",
        "       '50 per pairwise acc', '80 per pairwise acc',\n",
        "       'Median velocity at last 3pts',\n",
        "       'Largest deviation from end-to-end line', '20 per dev line',\n",
        "       '50 per dev line', '80 per dev line', 'Average Direction',\n",
        "       'Length of Trajectory', 'Ratio dist and length of trajectory',\n",
        "       'Average velocity', 'Median acceleration at first 5 pts',\n",
        "       'Mid-Stroke pressure', 'Mid-Stroke area covered',\n",
        "       'Mid-Stroke finger orientation', 'Change of finger orientation',\n",
        "       'Phone orientation']\n",
        "\n"
      ],
      "execution_count": 276,
      "outputs": []
    },
    {
      "cell_type": "code",
      "metadata": {
        "id": "OqeNut1lCiAf"
      },
      "source": [
        "\n",
        "# Separating out the features\n",
        "x = df.loc[:, features].values\n",
        "# Separating out the target\n",
        "y = df.loc[:,['User_ID']].values\n",
        "# Standardizing the features\n",
        "x = StandardScaler().fit_transform(x)\n",
        "\n"
      ],
      "execution_count": 277,
      "outputs": []
    },
    {
      "cell_type": "code",
      "metadata": {
        "id": "TIHqgPNEGDXC",
        "colab": {
          "base_uri": "https://localhost:8080/",
          "height": 221
        },
        "outputId": "3b30b824-3d22-4b58-cad7-22cd28c6f929"
      },
      "source": [
        "pca = PCA(n_components=10)\n",
        "principalComponents = pca.fit_transform(x)\n",
        "# a way to loop and make column names?\n",
        "#Change from 1 to 31\n",
        "\n",
        "#1 is worse\n",
        "#2 is worse than using all\n",
        "#3 is better than 2\n",
        "\n",
        "#More seems to be more accurate\n",
        "#How to compare all PCA values in an easy way?\n",
        "\n",
        "principalDf = pd.DataFrame(data = principalComponents\n",
        "             , columns = ['principal component 1', 'principal component 2', 'principal component 3',\n",
        "                           'principal component 4', 'principal component 5', 'principal component 6',\n",
        "                           'principal component 7', 'principal component 8' , 'principal component 9',\n",
        "                           'principal component 10'])\n",
        "\n",
        "\n",
        "#, 'principal component 2'\n",
        "\n",
        "principalDf.head()"
      ],
      "execution_count": 278,
      "outputs": [
        {
          "output_type": "execute_result",
          "data": {
            "text/html": [
              "<div>\n",
              "<style scoped>\n",
              "    .dataframe tbody tr th:only-of-type {\n",
              "        vertical-align: middle;\n",
              "    }\n",
              "\n",
              "    .dataframe tbody tr th {\n",
              "        vertical-align: top;\n",
              "    }\n",
              "\n",
              "    .dataframe thead th {\n",
              "        text-align: right;\n",
              "    }\n",
              "</style>\n",
              "<table border=\"1\" class=\"dataframe\">\n",
              "  <thead>\n",
              "    <tr style=\"text-align: right;\">\n",
              "      <th></th>\n",
              "      <th>principal component 1</th>\n",
              "      <th>principal component 2</th>\n",
              "      <th>principal component 3</th>\n",
              "      <th>principal component 4</th>\n",
              "      <th>principal component 5</th>\n",
              "      <th>principal component 6</th>\n",
              "      <th>principal component 7</th>\n",
              "      <th>principal component 8</th>\n",
              "      <th>principal component 9</th>\n",
              "      <th>principal component 10</th>\n",
              "    </tr>\n",
              "  </thead>\n",
              "  <tbody>\n",
              "    <tr>\n",
              "      <th>0</th>\n",
              "      <td>2.361956</td>\n",
              "      <td>-1.022918</td>\n",
              "      <td>1.536561</td>\n",
              "      <td>0.876488</td>\n",
              "      <td>0.619064</td>\n",
              "      <td>3.037509</td>\n",
              "      <td>0.658265</td>\n",
              "      <td>-0.892146</td>\n",
              "      <td>0.524245</td>\n",
              "      <td>2.478140</td>\n",
              "    </tr>\n",
              "    <tr>\n",
              "      <th>1</th>\n",
              "      <td>2.500822</td>\n",
              "      <td>-1.542845</td>\n",
              "      <td>-0.527394</td>\n",
              "      <td>0.655154</td>\n",
              "      <td>0.753462</td>\n",
              "      <td>2.889459</td>\n",
              "      <td>0.244587</td>\n",
              "      <td>0.543171</td>\n",
              "      <td>-0.781246</td>\n",
              "      <td>0.340405</td>\n",
              "    </tr>\n",
              "    <tr>\n",
              "      <th>2</th>\n",
              "      <td>1.226007</td>\n",
              "      <td>1.505446</td>\n",
              "      <td>-1.004416</td>\n",
              "      <td>-0.663427</td>\n",
              "      <td>0.318394</td>\n",
              "      <td>-1.009091</td>\n",
              "      <td>-0.939637</td>\n",
              "      <td>0.460018</td>\n",
              "      <td>0.642536</td>\n",
              "      <td>0.276677</td>\n",
              "    </tr>\n",
              "    <tr>\n",
              "      <th>3</th>\n",
              "      <td>1.352412</td>\n",
              "      <td>-1.417215</td>\n",
              "      <td>-0.540172</td>\n",
              "      <td>-0.739256</td>\n",
              "      <td>0.373432</td>\n",
              "      <td>2.680537</td>\n",
              "      <td>-0.577701</td>\n",
              "      <td>-0.026628</td>\n",
              "      <td>-0.575789</td>\n",
              "      <td>0.756538</td>\n",
              "    </tr>\n",
              "    <tr>\n",
              "      <th>4</th>\n",
              "      <td>4.396424</td>\n",
              "      <td>-0.002986</td>\n",
              "      <td>-1.461123</td>\n",
              "      <td>0.063836</td>\n",
              "      <td>1.061996</td>\n",
              "      <td>1.840617</td>\n",
              "      <td>0.225482</td>\n",
              "      <td>-0.577920</td>\n",
              "      <td>-0.515004</td>\n",
              "      <td>-0.076210</td>\n",
              "    </tr>\n",
              "  </tbody>\n",
              "</table>\n",
              "</div>"
            ],
            "text/plain": [
              "   principal component 1  ...  principal component 10\n",
              "0               2.361956  ...                2.478140\n",
              "1               2.500822  ...                0.340405\n",
              "2               1.226007  ...                0.276677\n",
              "3               1.352412  ...                0.756538\n",
              "4               4.396424  ...               -0.076210\n",
              "\n",
              "[5 rows x 10 columns]"
            ]
          },
          "metadata": {
            "tags": []
          },
          "execution_count": 278
        }
      ]
    },
    {
      "cell_type": "code",
      "metadata": {
        "id": "49ojIcOKGR0L",
        "colab": {
          "base_uri": "https://localhost:8080/",
          "height": 221
        },
        "outputId": "8be783cd-8691-4b8a-b8d6-f0185fe447c5"
      },
      "source": [
        "finalDf = pd.concat([principalDf, df[['User_ID']]], axis = 1)\n",
        "\n",
        "finalDf.head()\n"
      ],
      "execution_count": 279,
      "outputs": [
        {
          "output_type": "execute_result",
          "data": {
            "text/html": [
              "<div>\n",
              "<style scoped>\n",
              "    .dataframe tbody tr th:only-of-type {\n",
              "        vertical-align: middle;\n",
              "    }\n",
              "\n",
              "    .dataframe tbody tr th {\n",
              "        vertical-align: top;\n",
              "    }\n",
              "\n",
              "    .dataframe thead th {\n",
              "        text-align: right;\n",
              "    }\n",
              "</style>\n",
              "<table border=\"1\" class=\"dataframe\">\n",
              "  <thead>\n",
              "    <tr style=\"text-align: right;\">\n",
              "      <th></th>\n",
              "      <th>principal component 1</th>\n",
              "      <th>principal component 2</th>\n",
              "      <th>principal component 3</th>\n",
              "      <th>principal component 4</th>\n",
              "      <th>principal component 5</th>\n",
              "      <th>principal component 6</th>\n",
              "      <th>principal component 7</th>\n",
              "      <th>principal component 8</th>\n",
              "      <th>principal component 9</th>\n",
              "      <th>principal component 10</th>\n",
              "      <th>User_ID</th>\n",
              "    </tr>\n",
              "  </thead>\n",
              "  <tbody>\n",
              "    <tr>\n",
              "      <th>0</th>\n",
              "      <td>2.361956</td>\n",
              "      <td>-1.022918</td>\n",
              "      <td>1.536561</td>\n",
              "      <td>0.876488</td>\n",
              "      <td>0.619064</td>\n",
              "      <td>3.037509</td>\n",
              "      <td>0.658265</td>\n",
              "      <td>-0.892146</td>\n",
              "      <td>0.524245</td>\n",
              "      <td>2.478140</td>\n",
              "      <td>37</td>\n",
              "    </tr>\n",
              "    <tr>\n",
              "      <th>1</th>\n",
              "      <td>2.500822</td>\n",
              "      <td>-1.542845</td>\n",
              "      <td>-0.527394</td>\n",
              "      <td>0.655154</td>\n",
              "      <td>0.753462</td>\n",
              "      <td>2.889459</td>\n",
              "      <td>0.244587</td>\n",
              "      <td>0.543171</td>\n",
              "      <td>-0.781246</td>\n",
              "      <td>0.340405</td>\n",
              "      <td>37</td>\n",
              "    </tr>\n",
              "    <tr>\n",
              "      <th>2</th>\n",
              "      <td>1.226007</td>\n",
              "      <td>1.505446</td>\n",
              "      <td>-1.004416</td>\n",
              "      <td>-0.663427</td>\n",
              "      <td>0.318394</td>\n",
              "      <td>-1.009091</td>\n",
              "      <td>-0.939637</td>\n",
              "      <td>0.460018</td>\n",
              "      <td>0.642536</td>\n",
              "      <td>0.276677</td>\n",
              "      <td>37</td>\n",
              "    </tr>\n",
              "    <tr>\n",
              "      <th>3</th>\n",
              "      <td>1.352412</td>\n",
              "      <td>-1.417215</td>\n",
              "      <td>-0.540172</td>\n",
              "      <td>-0.739256</td>\n",
              "      <td>0.373432</td>\n",
              "      <td>2.680537</td>\n",
              "      <td>-0.577701</td>\n",
              "      <td>-0.026628</td>\n",
              "      <td>-0.575789</td>\n",
              "      <td>0.756538</td>\n",
              "      <td>37</td>\n",
              "    </tr>\n",
              "    <tr>\n",
              "      <th>4</th>\n",
              "      <td>4.396424</td>\n",
              "      <td>-0.002986</td>\n",
              "      <td>-1.461123</td>\n",
              "      <td>0.063836</td>\n",
              "      <td>1.061996</td>\n",
              "      <td>1.840617</td>\n",
              "      <td>0.225482</td>\n",
              "      <td>-0.577920</td>\n",
              "      <td>-0.515004</td>\n",
              "      <td>-0.076210</td>\n",
              "      <td>37</td>\n",
              "    </tr>\n",
              "  </tbody>\n",
              "</table>\n",
              "</div>"
            ],
            "text/plain": [
              "   principal component 1  ...  User_ID\n",
              "0               2.361956  ...       37\n",
              "1               2.500822  ...       37\n",
              "2               1.226007  ...       37\n",
              "3               1.352412  ...       37\n",
              "4               4.396424  ...       37\n",
              "\n",
              "[5 rows x 11 columns]"
            ]
          },
          "metadata": {
            "tags": []
          },
          "execution_count": 279
        }
      ]
    },
    {
      "cell_type": "code",
      "metadata": {
        "id": "0jxN8JaUI8_7",
        "colab": {
          "base_uri": "https://localhost:8080/"
        },
        "outputId": "1f92a491-7a06-41d1-84b1-d890a59e00c7"
      },
      "source": [
        "pca.explained_variance_ratio_"
      ],
      "execution_count": 280,
      "outputs": [
        {
          "output_type": "execute_result",
          "data": {
            "text/plain": [
              "array([0.16803814, 0.11786775, 0.09160399, 0.07272056, 0.06970146,\n",
              "       0.06721427, 0.04923208, 0.04830615, 0.04468095, 0.03981371])"
            ]
          },
          "metadata": {
            "tags": []
          },
          "execution_count": 280
        }
      ]
    },
    {
      "cell_type": "code",
      "metadata": {
        "id": "T-uuuUVYA4iE",
        "colab": {
          "base_uri": "https://localhost:8080/"
        },
        "outputId": "1eb1813c-67a3-4f1e-f115-9d00d375cc15"
      },
      "source": [
        "print (pca.components_)"
      ],
      "execution_count": 281,
      "outputs": [
        {
          "output_type": "stream",
          "text": [
            "[[ 7.26245175e-04 -2.02807260e-01 -8.13782011e-04  6.01237465e-02\n",
            "  -8.95125642e-02 -1.74190348e-01  1.79618111e-01 -9.69863459e-03\n",
            "   4.48630449e-02 -2.76783182e-01  2.78734548e-01  3.52541001e-01\n",
            "   3.16022624e-01 -1.51973051e-01  1.14506664e-01  2.55179062e-01\n",
            "   3.36017206e-01  9.95930439e-02  6.76565176e-02  7.97816150e-02\n",
            "   9.14584492e-02 -2.55850038e-01  1.11312589e-01  1.40846532e-01\n",
            "   3.68607634e-01  1.16235782e-01  3.58598914e-03 -2.44278625e-02\n",
            "  -5.64672493e-02  0.00000000e+00 -9.87230412e-02]\n",
            " [ 9.46729006e-04 -5.70074173e-02 -2.71925738e-02 -1.10548396e-01\n",
            "   2.07457092e-01  1.73261607e-02  1.04572268e-01  2.23486117e-01\n",
            "  -1.06751311e-01  9.30515877e-02  7.81448980e-02  7.57280231e-02\n",
            "   8.81175808e-02 -4.32408363e-02  6.19922306e-02  8.33502190e-02\n",
            "   7.21352549e-02 -4.72894876e-01 -3.91615668e-01 -4.56354810e-01\n",
            "  -4.25737092e-01  1.04369653e-01  2.49912717e-02  1.49954193e-01\n",
            "   7.42442114e-02  6.24241180e-02 -2.31149393e-02 -5.05824521e-03\n",
            "  -6.38183818e-02 -0.00000000e+00 -8.65741849e-02]\n",
            " [ 2.73394310e-03  8.89659310e-02  1.96719351e-02  4.24484715e-02\n",
            "   1.67838896e-02  1.00831960e-01 -1.57977190e-01 -8.15427646e-02\n",
            "   5.40874690e-03  1.21865741e-01 -1.68435749e-01 -1.47377118e-01\n",
            "   3.25631602e-01 -2.21169873e-01  4.80695072e-01  4.11859037e-01\n",
            "  -1.20139475e-01  1.78846279e-02  3.94823036e-02  2.85757769e-02\n",
            "   4.01399775e-03  1.15458808e-01 -1.08802163e-01 -9.95179279e-02\n",
            "  -1.37324844e-01  4.80042881e-01 -2.49684489e-02  4.90270997e-02\n",
            "   8.53886964e-02  0.00000000e+00  1.24016872e-01]\n",
            " [ 7.74181527e-03  3.67806164e-01  1.26186950e-01  1.32532766e-01\n",
            "  -2.49169671e-02  2.69936799e-01  3.38257020e-01 -2.90706610e-01\n",
            "   1.23498884e-01 -4.21047124e-02  1.35185011e-02  6.56975108e-03\n",
            "   2.00961051e-02 -2.65161940e-02 -4.86901416e-03  1.16292352e-02\n",
            "   1.65772081e-02 -5.74840495e-02 -2.87356156e-01 -1.03642854e-01\n",
            "   1.27880592e-01 -5.35217712e-02  5.31711775e-01 -3.41199361e-01\n",
            "   3.20088141e-02 -4.32708280e-03  1.34066274e-01  4.78386185e-03\n",
            "   5.50079941e-02  0.00000000e+00  5.40948457e-02]\n",
            " [ 1.32396089e-04 -1.80388663e-01  1.77024640e-01  5.20245739e-01\n",
            "   1.54887789e-01  3.00822767e-01 -1.26064233e-01  1.09624512e-02\n",
            "  -3.27454871e-02 -9.37149639e-02  4.50136521e-02  8.94624837e-02\n",
            "   3.73844918e-03 -1.37955801e-02 -1.01217058e-01 -3.12844475e-02\n",
            "   8.59209463e-02 -5.88903325e-02 -1.23469574e-02 -6.02722607e-02\n",
            "  -7.99974598e-02 -9.66923243e-02 -1.68343570e-01  7.80355575e-02\n",
            "   7.72402232e-02 -1.00940250e-01 -3.02071195e-02  8.54513235e-02\n",
            "   3.92419072e-01  0.00000000e+00  5.10373696e-01]\n",
            " [ 1.83452084e-03 -3.63282271e-02  2.28130538e-01 -5.35750077e-03\n",
            "  -1.99890918e-01 -2.71473587e-01 -3.04378707e-01 -4.41416067e-01\n",
            "   3.19364815e-01 -2.93672715e-01 -1.21146452e-01 -6.03200516e-02\n",
            "  -1.16621435e-02 -3.32057613e-02 -3.19401008e-02 -1.41596456e-02\n",
            "  -4.23254881e-02 -1.62796381e-01 -1.51450394e-01 -2.24563460e-01\n",
            "  -1.84598911e-01 -3.15047132e-01 -2.37987715e-01 -1.47320142e-01\n",
            "  -6.25496717e-02 -3.32540807e-02 -3.54427063e-02 -8.41207850e-02\n",
            "  -7.10053239e-02 -0.00000000e+00 -6.86917317e-02]\n",
            " [ 1.24725942e-02  2.14333523e-02  2.09004650e-02 -1.89682970e-01\n",
            "  -2.50727519e-01  1.27385743e-01 -1.64802032e-03 -1.44900527e-01\n",
            "   4.44447374e-01  3.50798336e-01  4.05502342e-02  1.01381723e-01\n",
            "   1.78360692e-01 -3.61094680e-01 -2.68194361e-01  1.08300273e-01\n",
            "   1.09995926e-01  2.34579184e-03  7.08605760e-02 -8.10374975e-03\n",
            "  -6.52092120e-02  3.55508993e-01 -8.82362116e-02  1.28040641e-01\n",
            "   7.61731315e-02 -2.69250427e-01 -3.63717317e-03  1.56341784e-01\n",
            "   8.89459521e-02  0.00000000e+00  4.27526080e-02]\n",
            " [ 2.71264023e-03 -2.35912316e-02 -6.55558059e-01  7.66880269e-02\n",
            "  -4.57354948e-01 -6.83372961e-02 -8.96586312e-02 -3.50047190e-02\n",
            "  -1.76299225e-01 -2.46946394e-02 -2.74126603e-02  1.26075286e-02\n",
            "  -8.03290878e-03  2.69976833e-02  4.45417136e-03 -1.02894057e-02\n",
            "   4.46952245e-02 -9.29798509e-02 -8.81723745e-02 -7.44749020e-02\n",
            "  -5.95764014e-02 -3.17207870e-02 -3.92591911e-02 -1.19543523e-01\n",
            "   3.06745335e-02  6.19087432e-03  4.42732800e-01  1.01433421e-01\n",
            "   2.21612810e-01  0.00000000e+00  8.01656272e-02]\n",
            " [-2.26592145e-02  1.03755824e-01 -1.08709530e-01  4.74940431e-02\n",
            "   2.58907471e-01 -1.33028906e-01 -2.42085215e-01 -3.67029832e-02\n",
            "  -4.55967184e-01 -6.04638228e-03 -8.32884729e-02  2.96630722e-02\n",
            "   1.94200075e-01 -4.24256814e-01 -2.87701756e-01  1.42649366e-01\n",
            "   6.49842600e-02 -2.08344293e-03 -7.38104353e-02  3.95213628e-02\n",
            "   9.70402642e-02  4.24025068e-03 -2.52948345e-02 -3.83856586e-01\n",
            "   4.07977057e-02 -2.87711976e-01 -1.50034103e-01 -5.75716054e-02\n",
            "  -1.13508467e-01  0.00000000e+00 -3.96020141e-02]\n",
            " [ 3.36042305e-02 -7.47333482e-03 -2.91895039e-02  1.30698082e-01\n",
            "  -4.88751945e-02  1.69923472e-01  2.28333945e-01  1.43438305e-01\n",
            "   2.82717245e-02 -1.71896458e-01 -2.90205407e-01 -2.53143995e-01\n",
            "   8.23970485e-02 -3.45651759e-01 -1.25569523e-01  9.14685171e-02\n",
            "  -1.91876111e-01  6.39293073e-03  1.39452857e-01  3.88796316e-03\n",
            "  -1.22470979e-01 -1.68454461e-01  4.80346896e-02  3.16788802e-01\n",
            "  -7.50777446e-02 -1.19331104e-01  2.38337060e-01 -5.08083439e-01\n",
            "  -4.51283594e-03  0.00000000e+00 -1.03206104e-01]]\n"
          ],
          "name": "stdout"
        }
      ]
    },
    {
      "cell_type": "code",
      "metadata": {
        "id": "joadxTiIBF9b"
      },
      "source": [
        "pca2 = PCA(.95)"
      ],
      "execution_count": 282,
      "outputs": []
    },
    {
      "cell_type": "code",
      "metadata": {
        "id": "c73RtdHNBy3h",
        "colab": {
          "base_uri": "https://localhost:8080/"
        },
        "outputId": "4fa56b87-e62c-425f-b8e6-00b09e021e12"
      },
      "source": [
        "pca2.fit(X_train)"
      ],
      "execution_count": 283,
      "outputs": [
        {
          "output_type": "execute_result",
          "data": {
            "text/plain": [
              "PCA(copy=True, iterated_power='auto', n_components=0.95, random_state=None,\n",
              "    svd_solver='auto', tol=0.0, whiten=False)"
            ]
          },
          "metadata": {
            "tags": []
          },
          "execution_count": 283
        }
      ]
    },
    {
      "cell_type": "code",
      "metadata": {
        "id": "HJsLz70bCaie"
      },
      "source": [
        "X_train = pca2.transform(X_train)\n",
        "X_test = pca2.transform(X_test)"
      ],
      "execution_count": 284,
      "outputs": []
    },
    {
      "cell_type": "code",
      "metadata": {
        "id": "pwfgLlnjDhn3"
      },
      "source": [
        "logisticRegr = LogisticRegression(solver = 'lbfgs')"
      ],
      "execution_count": 285,
      "outputs": []
    },
    {
      "cell_type": "code",
      "metadata": {
        "id": "YV-uUkhGDrQW",
        "colab": {
          "base_uri": "https://localhost:8080/"
        },
        "outputId": "1963af0c-0b9b-400a-ab7a-37cea97d71ac"
      },
      "source": [
        "logisticRegr.fit(X_train, y_train)"
      ],
      "execution_count": 286,
      "outputs": [
        {
          "output_type": "stream",
          "text": [
            "/usr/local/lib/python3.6/dist-packages/sklearn/linear_model/_logistic.py:940: ConvergenceWarning: lbfgs failed to converge (status=1):\n",
            "STOP: TOTAL NO. of ITERATIONS REACHED LIMIT.\n",
            "\n",
            "Increase the number of iterations (max_iter) or scale the data as shown in:\n",
            "    https://scikit-learn.org/stable/modules/preprocessing.html\n",
            "Please also refer to the documentation for alternative solver options:\n",
            "    https://scikit-learn.org/stable/modules/linear_model.html#logistic-regression\n",
            "  extra_warning_msg=_LOGISTIC_SOLVER_CONVERGENCE_MSG)\n"
          ],
          "name": "stderr"
        },
        {
          "output_type": "execute_result",
          "data": {
            "text/plain": [
              "LogisticRegression(C=1.0, class_weight=None, dual=False, fit_intercept=True,\n",
              "                   intercept_scaling=1, l1_ratio=None, max_iter=100,\n",
              "                   multi_class='auto', n_jobs=None, penalty='l2',\n",
              "                   random_state=None, solver='lbfgs', tol=0.0001, verbose=0,\n",
              "                   warm_start=False)"
            ]
          },
          "metadata": {
            "tags": []
          },
          "execution_count": 286
        }
      ]
    },
    {
      "cell_type": "code",
      "metadata": {
        "id": "dNde6AJWEBdT",
        "colab": {
          "base_uri": "https://localhost:8080/"
        },
        "outputId": "0d356729-c8d9-4439-ac9a-7bbdacbb9f75"
      },
      "source": [
        "logisticRegr.predict(X_test[0].reshape(1,-1))"
      ],
      "execution_count": 287,
      "outputs": [
        {
          "output_type": "execute_result",
          "data": {
            "text/plain": [
              "array([34])"
            ]
          },
          "metadata": {
            "tags": []
          },
          "execution_count": 287
        }
      ]
    },
    {
      "cell_type": "code",
      "metadata": {
        "id": "VfgMPMVxEKRN",
        "colab": {
          "base_uri": "https://localhost:8080/"
        },
        "outputId": "ee007f8c-95d6-41ff-8356-d1548f881ff9"
      },
      "source": [
        "logisticRegr.predict(X_test[0:10])"
      ],
      "execution_count": 288,
      "outputs": [
        {
          "output_type": "execute_result",
          "data": {
            "text/plain": [
              "array([34,  8, 37,  2,  2, 14, 33, 21, 37, 12])"
            ]
          },
          "metadata": {
            "tags": []
          },
          "execution_count": 288
        }
      ]
    },
    {
      "cell_type": "code",
      "metadata": {
        "id": "RsstPFZDEc3r"
      },
      "source": [
        "#logisticRegr.score(X_test, y_train)\n",
        "#error inconsistent number of samples\n",
        "#try making more consistent\n",
        "#Not sure how to fix"
      ],
      "execution_count": 289,
      "outputs": []
    },
    {
      "cell_type": "code",
      "metadata": {
        "id": "e2AuvK-Te8pT"
      },
      "source": [
        "# try knn on the pca"
      ],
      "execution_count": 290,
      "outputs": []
    },
    {
      "cell_type": "code",
      "metadata": {
        "colab": {
          "base_uri": "https://localhost:8080/"
        },
        "id": "ORkrsCJFfK2l",
        "outputId": "bac79ff4-c68b-44df-ae28-c07ab83d3aca"
      },
      "source": [
        "np.any(np.isnan(finalDf))"
      ],
      "execution_count": 291,
      "outputs": [
        {
          "output_type": "execute_result",
          "data": {
            "text/plain": [
              "False"
            ]
          },
          "metadata": {
            "tags": []
          },
          "execution_count": 291
        }
      ]
    },
    {
      "cell_type": "code",
      "metadata": {
        "colab": {
          "base_uri": "https://localhost:8080/"
        },
        "id": "mYacGSusfSkF",
        "outputId": "92453e47-6eed-4be7-9ccc-bd27d4f8371f"
      },
      "source": [
        "np.all(np.isfinite(finalDf))"
      ],
      "execution_count": 292,
      "outputs": [
        {
          "output_type": "execute_result",
          "data": {
            "text/plain": [
              "True"
            ]
          },
          "metadata": {
            "tags": []
          },
          "execution_count": 292
        }
      ]
    },
    {
      "cell_type": "code",
      "metadata": {
        "colab": {
          "base_uri": "https://localhost:8080/"
        },
        "id": "S6_aVOmrfStD",
        "outputId": "1488f8cf-525d-4217-ca32-873db03737c1"
      },
      "source": [
        "finalDf.columns"
      ],
      "execution_count": 293,
      "outputs": [
        {
          "output_type": "execute_result",
          "data": {
            "text/plain": [
              "Index(['principal component 1', 'principal component 2',\n",
              "       'principal component 3', 'principal component 4',\n",
              "       'principal component 5', 'principal component 6',\n",
              "       'principal component 7', 'principal component 8',\n",
              "       'principal component 9', 'principal component 10', 'User_ID'],\n",
              "      dtype='object')"
            ]
          },
          "metadata": {
            "tags": []
          },
          "execution_count": 293
        }
      ]
    },
    {
      "cell_type": "code",
      "metadata": {
        "colab": {
          "base_uri": "https://localhost:8080/"
        },
        "id": "vC5bIhFrfSwx",
        "outputId": "2e412973-d675-4077-8df1-ff33852243a8"
      },
      "source": [
        "finalDf['User_ID'].value_counts()"
      ],
      "execution_count": 294,
      "outputs": [
        {
          "output_type": "execute_result",
          "data": {
            "text/plain": [
              "2     1230\n",
              "35    1063\n",
              "23     969\n",
              "38     786\n",
              "3      759\n",
              "15     719\n",
              "33     712\n",
              "28     710\n",
              "17     706\n",
              "21     702\n",
              "14     651\n",
              "8      618\n",
              "34     613\n",
              "27     609\n",
              "7      591\n",
              "6      562\n",
              "36     500\n",
              "18     461\n",
              "9      453\n",
              "11     445\n",
              "29     439\n",
              "39     436\n",
              "24     435\n",
              "25     432\n",
              "37     424\n",
              "5      413\n",
              "1      401\n",
              "10     387\n",
              "16     382\n",
              "22     374\n",
              "31     370\n",
              "20     356\n",
              "12     342\n",
              "40     312\n",
              "13     305\n",
              "32     304\n",
              "19     293\n",
              "26     242\n",
              "4      241\n",
              "30     225\n",
              "41     186\n",
              "Name: User_ID, dtype: int64"
            ]
          },
          "metadata": {
            "tags": []
          },
          "execution_count": 294
        }
      ]
    },
    {
      "cell_type": "code",
      "metadata": {
        "id": "hmf4LGvNfSz_"
      },
      "source": [
        "#Choosing the columns for X\n",
        "#Not using 'User_ID'\n",
        "#technically reusing variables\n",
        "#should be fine though\n",
        "#could add numbers\n",
        "\n",
        "X = finalDf[['principal component 1', 'principal component 2', 'principal component 3',# ]].values\n",
        "\n",
        "\n",
        "#columns = ['principal component 1', 'principal component 2', 'principal component 3',\n",
        "                           'principal component 4', 'principal component 5', 'principal component 6',\n",
        "                           'principal component 7', 'principal component 8' , 'principal component 9',\n",
        "                           'principal component 10']].values\n",
        "\n",
        "#, 'principal component 2'\n",
        "\n",
        "# need to change here"
      ],
      "execution_count": 295,
      "outputs": []
    },
    {
      "cell_type": "code",
      "metadata": {
        "id": "m8J4M2OjfS3M"
      },
      "source": [
        "#Choosing the lables for y\n",
        "y = finalDf['User_ID'].values"
      ],
      "execution_count": 296,
      "outputs": []
    },
    {
      "cell_type": "code",
      "metadata": {
        "id": "9Al8RikEfS6v"
      },
      "source": [
        "#Train and test split\n",
        "#80% train, 20% test\n",
        "#splitting the data into test and train dataset\n",
        "\n",
        "from sklearn.model_selection import train_test_split\n",
        "X_train, X_test, y_train, y_test = train_test_split(X, y, test_size=0.20)"
      ],
      "execution_count": 297,
      "outputs": []
    },
    {
      "cell_type": "code",
      "metadata": {
        "id": "kIc1V0wEgcdn"
      },
      "source": [
        "#Feature Scaling\n",
        "from sklearn.preprocessing import StandardScaler\n",
        "scaler = StandardScaler()\n",
        "scaler.fit(X_train)\n",
        "\n",
        "X_train = scaler.transform(X_train)\n",
        "X_test = scaler.transform(X_test)"
      ],
      "execution_count": 298,
      "outputs": []
    },
    {
      "cell_type": "code",
      "metadata": {
        "colab": {
          "base_uri": "https://localhost:8080/"
        },
        "id": "bUOV3uq0gcoh",
        "outputId": "8ee56e85-e292-4b6f-83a5-b1c4b416a14c"
      },
      "source": [
        "#Training and Prediction\n",
        "from sklearn.neighbors import KNeighborsClassifier\n",
        "classifier = KNeighborsClassifier(n_neighbors=5)         #value for k\n",
        "classifier.fit(X_train, y_train)"
      ],
      "execution_count": 299,
      "outputs": [
        {
          "output_type": "execute_result",
          "data": {
            "text/plain": [
              "KNeighborsClassifier(algorithm='auto', leaf_size=30, metric='minkowski',\n",
              "                     metric_params=None, n_jobs=None, n_neighbors=5, p=2,\n",
              "                     weights='uniform')"
            ]
          },
          "metadata": {
            "tags": []
          },
          "execution_count": 299
        }
      ]
    },
    {
      "cell_type": "code",
      "metadata": {
        "id": "r9oAd7R_gcxn"
      },
      "source": [
        "#Make prediction on the test data\n",
        "y_pred = classifier.predict(X_test)"
      ],
      "execution_count": 300,
      "outputs": []
    },
    {
      "cell_type": "code",
      "metadata": {
        "colab": {
          "base_uri": "https://localhost:8080/"
        },
        "id": "IxwCX5_Ggc6Q",
        "outputId": "ba5cc733-7487-4168-e4ba-11efc8694455"
      },
      "source": [
        "#Evaluating the Algorithm\n",
        "from sklearn.metrics import classification_report, confusion_matrix\n",
        "print(confusion_matrix(y_test, y_pred))\n",
        "print(classification_report(y_test, y_pred))"
      ],
      "execution_count": 301,
      "outputs": [
        {
          "output_type": "stream",
          "text": [
            "[[ 41   3   0   1   1   0   9   0   0   0   0   0   0   2   2   0   0   0\n",
            "    0   2   0   2   2   1   3   0   0   2   0   0   2   0   0   0   0   1\n",
            "    0   1   0   0   0]\n",
            " [  0 232   0   0   0   1   4   3   0   0   0   0   3   1   4   0   0   0\n",
            "    0   0   0   1   6   1   1   1   0   2   1   0   0   0   2   0   0   0\n",
            "    0   0   0   0   0]\n",
            " [  0   2  62   1   5   8   1   4   0   2   7   3   0   2   0   2  22   6\n",
            "    8   0   5   0   0   0   0   0   6   1   0   0   0   0   0   0  20   0\n",
            "    1   0   1   3   0]\n",
            " [  2   0   1  35   0   1   2   0   0   0   0   0   0   0   1   0   0   0\n",
            "    0   0   0   2   0   0   0   0   0   2   0   2   0   0   1   1   0   0\n",
            "    0   0   0   0   2]\n",
            " [  0   2   3   0  31   1   1   7   4   0   1   3   0   2   0   2   2   0\n",
            "    4   0   0   0   3   0   0   0   1   0   0   0   0   2   2   0   1   0\n",
            "    2   0   1   1   0]\n",
            " [  1   0   0   1   3  61   0  11   0   0   1   0   6   0   0   5   3   0\n",
            "    1   1   1   2   0   0   0   0   4   0   0   0   0   1   0   0   8   0\n",
            "    1   0   0   1   0]\n",
            " [  5   6   0   0   1   0  61   1   1   0   0   0   0   0   2   0   0   0\n",
            "    0   2   0   6   4   0   1   0   0  14   1   1   1   0   2   3   0   0\n",
            "    0   4   0   0   0]\n",
            " [  1   2   4   0   4   5   0  72   2   2   1   2   5   0   0   2   1   0\n",
            "    0   0   0   1   1   0   0   1   2   0   0   0   0   0   0   0   3   0\n",
            "    2   0   0   4   0]\n",
            " [  0   1   3   0   4   1   0   2  53   0   0   0   0   0   1   0   0   0\n",
            "    1   0   0   1   2   1   1   0   2   0   0   0   0   0   0   0   1   2\n",
            "    1   0   0   2   0]\n",
            " [  1   0   2   0   3   1   0   2   0  30   2   0   0   0   0   2   1   0\n",
            "    1   0   8   0   0   1   0   0   3   0   0   0   0   1   0   0   4   0\n",
            "    0   1   0   0   0]\n",
            " [  0   0   3   0   0   3   1   1   1   5  65   1   0   0   0   3   1   4\n",
            "    2   0   0   0   1   0   0   0   1   0   0   0   0   0   0   0   4   0\n",
            "    2   0   0   1   0]\n",
            " [  1   0   1   0   6   0   0   6   0   2   2  42   0   0   0   0   0   0\n",
            "    2   0   0   0   0   0   0   0   0   0   0   0   0   1   0   0   2   0\n",
            "    0   0   0   4   0]\n",
            " [  0   2   2   0   0   4   0   9   2   0   0   1  17   0   1   0   1   0\n",
            "    0   1   4   1   1   2   0   0   0   0   0   0   0   0   0   0   3   0\n",
            "    1   0   1   1   0]\n",
            " [  0   2   1   0   1   0   1   1   0   0   0   0   1 117   2   0   0   0\n",
            "    0   0   0   3   3   1   0   0   0   0   4   0   6   0   2   0   0   0\n",
            "    0   1   0   1   0]\n",
            " [  1   3   0   0   0   0   5   1   1   0   0   0   1   6 100   1   0   0\n",
            "    0   0   0   2  11   0   0   0   0   0   1   2   4   0   1   0   0   3\n",
            "    0   2   0   0   0]\n",
            " [  0   0   2   0   3   4   0   6   0   6   4   3   0   0   0  16   4   4\n",
            "    1   1   4   0   0   0   1   0   1   0   0   0   0   0   1   0   5   0\n",
            "    3   0   0   0   0]\n",
            " [  0   1   8   0   2  10   0   9   0   1   1   0   1   0   0   6  84   2\n",
            "    2   0   1   0   1   0   0   0   3   0   1   0   0   2   0   0   9   0\n",
            "    0   0   0   1   0]\n",
            " [  0   2   2   0   2   3   1   0   0   4   3   0   0   0   0   1   7  57\n",
            "    2   0   5   0   0   0   0   0   4   0   0   0   0   0   0   0   8   0\n",
            "    2   1   0   0   0]\n",
            " [  2   1   1   0   6   4   0   3   1   4   1   0   0   0   0   2   0   2\n",
            "   22   0   0   0   0   0   1   0   2   0   0   0   0   0   1   0   3   0\n",
            "    0   0   0   0   0]\n",
            " [  1   4   0   2   2   0   7   0   0   0   0   0   0   0   1   0   0   0\n",
            "    0  48   2   0   1   0   1   0   0   1   2   0   0   0   0   0   0   1\n",
            "    0   0   5   0   0]\n",
            " [  0   0   4   0   2   1   0   1   0   4   8   0   2   0   1   0   8   1\n",
            "    1   0  84   0   1   0   1   1   2   0   0   0   0   0   0   0  10   0\n",
            "    1   0   0   0   0]\n",
            " [  3   4   0   1   1   1   8   3   0   0   0   0   2   3   0   0   0   0\n",
            "    0   1   0  33   4   1   0   2   0   1   0   1   0   1   0   1   0   0\n",
            "    0   1   5   0   0]\n",
            " [  0  11   0   2   0   0   3   0   0   0   0   0   0   4  13   0   0   0\n",
            "    0   0   0   0 152   1   0   1   0   0   1   0   2   0   1   0   0   3\n",
            "    0   3   0   0   0]\n",
            " [  0   6   1   6   2   5   5   2   3   0   2   1   1   1   4   0   0   0\n",
            "    0   0   0   0   5  41   0   0   0   5   1   0   0   0   3   4   0   1\n",
            "    1   1   2   1   0]\n",
            " [  1   5   0   1   0   1   2   0   5   0   0   0   0   0   3   0   0   1\n",
            "    0   9   1   0   0   0  34   1   0   2   1   0   0   2   0   0   2   0\n",
            "    0   4   0   0   2]\n",
            " [  1   0   0   1   0   1   3   0   0   0   0   0   0   3   2   0   0   0\n",
            "    0   0   0   2   8   1   0  20   0   1   2   1   0   0   1   0   1   0\n",
            "    0   1   0   0   0]\n",
            " [  0   3  11   0   3  12   1   6   1   6   4   0   0   0   0   1   5   2\n",
            "    1   1   2   0   0   0   1   0  50   1   0   0   0   3   0   0   9   0\n",
            "    1   0   2   0   0]\n",
            " [  7  12   3   1   2   2   6   3   0   0   0   0   1   1   2   0   0   0\n",
            "    2   5   1   2   2   3   3   1   1  62   2   0   1   0   2   0   1   0\n",
            "    1   5   0   0   0]\n",
            " [  0   5   0   1   1   0   0   0   2   0   0   1   2  11   6   0   0   0\n",
            "    0   1   0   0   1   0   0   1   0   0  41   0   4   0   1   0   0  11\n",
            "    0   1   0   0   0]\n",
            " [  1   0   0   0   2   0   3   1   2   0   0   1   0   1   0   0   0   0\n",
            "    0   0   0   3   5   0   1   4   0   3   0  17   1   0   3   0   1   0\n",
            "    0   0   1   0   0]\n",
            " [  0   0   0   0   2   2   2   1   1   0   0   1   0  15   0   0   1   0\n",
            "    0   0   0   3   3   0   0   0   0   2   4   1  23   0   1   3   1   1\n",
            "    0   0   1   1   0]\n",
            " [  0   0   2   0  12   0   0   1   3   0   0   1   0   0   0   0   2   0\n",
            "    1   0   0   0   0   0   0   0   0   0   0   0   0  35   0   0   0   0\n",
            "    2   0   2   1   0]\n",
            " [  6  11   2   0   4   1   3   1   0   0   0   2   1   6   4   1   1   0\n",
            "    0   3   0   6   0   4   1   2   2   3   5   2   4   1  50   0   3   1\n",
            "    1   9   3   0   0]\n",
            " [  1   0   0   3   0   0   1   0   0   0   0   0   0   0   0   0   0   0\n",
            "    0   0   0   0   0   1   0   0   0   1   0   0   0   0   0 106   0   0\n",
            "    0   2   1   0   0]\n",
            " [  0   1  10   0   4   3   0   3   0   2   2   0   0   0   0   4  14   3\n",
            "    0   0   7   0   0   0   0   2   2   0   1   0   0   0   1   0 129   0\n",
            "    3   1   0   0   0]\n",
            " [  2   4   0   0   1   0   0   0   2   0   0   0   0   3   7   0   0   0\n",
            "    0   1   0   1  12   4   0   1   0   3   2   0   0   1   1   2   0  39\n",
            "    0   6   0   1   0]\n",
            " [  0   0   5   0   2   0   1   5   0   1   2   2   1   0   2   1   2   0\n",
            "    2   0   0   3   0   0   0   1   0   1   1   0   0   0   0   0  11   0\n",
            "   35   0   0   6   0]\n",
            " [  3   3   0   0   3   0   3   1   0   0   0   0   0   5   9   0   1   0\n",
            "    1   0   0   3   8   4   1   3   0   0   3   1   2   0   1  10   0   2\n",
            "    0  84   9   0   1]\n",
            " [  4   4   0   2   1   0   2   0   2   0   0   0   1   1   4   0   0   0\n",
            "    0   1   0   3   7   0   1   0   0   3   0   1   0   1   2   1   2   1\n",
            "    0   9  32   0   1]\n",
            " [  0   2   3   0   4   3   0   7   7   1   0   1   2   0   0   0   0   0\n",
            "    1   0   0   0   0   0   0   0   0   0   1   0   0   2   1   0   0   0\n",
            "    1   0   0  25   0]\n",
            " [  1   0   0   2   0   0   0   0   0   0   0   0   0   0   0   0   0   0\n",
            "    0   2   1   0   0   0   1   0   0   0   0   0   0   0   1   1   0   1\n",
            "    0   0   0   0  27]]\n",
            "              precision    recall  f1-score   support\n",
            "\n",
            "           1       0.48      0.55      0.51        75\n",
            "           2       0.69      0.88      0.78       263\n",
            "           3       0.46      0.36      0.40       172\n",
            "           4       0.58      0.67      0.63        52\n",
            "           5       0.26      0.41      0.32        76\n",
            "           6       0.44      0.54      0.49       112\n",
            "           7       0.45      0.53      0.48       116\n",
            "           8       0.42      0.62      0.50       117\n",
            "           9       0.57      0.67      0.62        79\n",
            "          10       0.43      0.48      0.45        63\n",
            "          11       0.61      0.66      0.63        99\n",
            "          12       0.65      0.61      0.63        69\n",
            "          13       0.36      0.31      0.34        54\n",
            "          14       0.64      0.80      0.71       147\n",
            "          15       0.58      0.69      0.63       145\n",
            "          16       0.33      0.23      0.27        69\n",
            "          17       0.53      0.58      0.55       145\n",
            "          18       0.70      0.55      0.61       104\n",
            "          19       0.40      0.39      0.40        56\n",
            "          20       0.61      0.62      0.61        78\n",
            "          21       0.67      0.63      0.65       133\n",
            "          22       0.41      0.43      0.42        77\n",
            "          23       0.62      0.77      0.69       197\n",
            "          24       0.61      0.39      0.48       104\n",
            "          25       0.64      0.44      0.52        77\n",
            "          26       0.48      0.41      0.44        49\n",
            "          27       0.58      0.40      0.47       126\n",
            "          28       0.56      0.46      0.51       134\n",
            "          29       0.55      0.46      0.50        90\n",
            "          30       0.59      0.34      0.43        50\n",
            "          31       0.46      0.33      0.39        69\n",
            "          32       0.66      0.56      0.61        62\n",
            "          33       0.62      0.35      0.45       143\n",
            "          34       0.80      0.91      0.85       116\n",
            "          35       0.54      0.67      0.60       192\n",
            "          36       0.58      0.42      0.49        93\n",
            "          37       0.57      0.42      0.48        84\n",
            "          38       0.61      0.52      0.56       161\n",
            "          39       0.48      0.37      0.42        86\n",
            "          40       0.46      0.41      0.43        61\n",
            "          41       0.82      0.73      0.77        37\n",
            "\n",
            "    accuracy                           0.56      4232\n",
            "   macro avg       0.55      0.53      0.53      4232\n",
            "weighted avg       0.56      0.56      0.55      4232\n",
            "\n"
          ],
          "name": "stdout"
        }
      ]
    },
    {
      "cell_type": "code",
      "metadata": {
        "id": "WbG4gx7egt0L"
      },
      "source": [
        "#PCA of 2 decreased the accuracy\n",
        "#should try increasing the pca values"
      ],
      "execution_count": 302,
      "outputs": []
    },
    {
      "cell_type": "code",
      "metadata": {
        "colab": {
          "base_uri": "https://localhost:8080/"
        },
        "id": "vv3-cr-AguAY",
        "outputId": "eac1ba73-78cd-4c99-e90b-f2aee8131d63"
      },
      "source": [
        "#prints the entire confusion matrix\n",
        "#however, it doesnn't fit the entire row and loops around\n",
        "np.set_printoptions(threshold=sys.maxsize)\n",
        "resultCM = (confusion_matrix(y_test, y_pred))\n",
        "print(resultCM)"
      ],
      "execution_count": 303,
      "outputs": [
        {
          "output_type": "stream",
          "text": [
            "[[ 41   3   0   1   1   0   9   0   0   0   0   0   0   2   2   0   0   0\n",
            "    0   2   0   2   2   1   3   0   0   2   0   0   2   0   0   0   0   1\n",
            "    0   1   0   0   0]\n",
            " [  0 232   0   0   0   1   4   3   0   0   0   0   3   1   4   0   0   0\n",
            "    0   0   0   1   6   1   1   1   0   2   1   0   0   0   2   0   0   0\n",
            "    0   0   0   0   0]\n",
            " [  0   2  62   1   5   8   1   4   0   2   7   3   0   2   0   2  22   6\n",
            "    8   0   5   0   0   0   0   0   6   1   0   0   0   0   0   0  20   0\n",
            "    1   0   1   3   0]\n",
            " [  2   0   1  35   0   1   2   0   0   0   0   0   0   0   1   0   0   0\n",
            "    0   0   0   2   0   0   0   0   0   2   0   2   0   0   1   1   0   0\n",
            "    0   0   0   0   2]\n",
            " [  0   2   3   0  31   1   1   7   4   0   1   3   0   2   0   2   2   0\n",
            "    4   0   0   0   3   0   0   0   1   0   0   0   0   2   2   0   1   0\n",
            "    2   0   1   1   0]\n",
            " [  1   0   0   1   3  61   0  11   0   0   1   0   6   0   0   5   3   0\n",
            "    1   1   1   2   0   0   0   0   4   0   0   0   0   1   0   0   8   0\n",
            "    1   0   0   1   0]\n",
            " [  5   6   0   0   1   0  61   1   1   0   0   0   0   0   2   0   0   0\n",
            "    0   2   0   6   4   0   1   0   0  14   1   1   1   0   2   3   0   0\n",
            "    0   4   0   0   0]\n",
            " [  1   2   4   0   4   5   0  72   2   2   1   2   5   0   0   2   1   0\n",
            "    0   0   0   1   1   0   0   1   2   0   0   0   0   0   0   0   3   0\n",
            "    2   0   0   4   0]\n",
            " [  0   1   3   0   4   1   0   2  53   0   0   0   0   0   1   0   0   0\n",
            "    1   0   0   1   2   1   1   0   2   0   0   0   0   0   0   0   1   2\n",
            "    1   0   0   2   0]\n",
            " [  1   0   2   0   3   1   0   2   0  30   2   0   0   0   0   2   1   0\n",
            "    1   0   8   0   0   1   0   0   3   0   0   0   0   1   0   0   4   0\n",
            "    0   1   0   0   0]\n",
            " [  0   0   3   0   0   3   1   1   1   5  65   1   0   0   0   3   1   4\n",
            "    2   0   0   0   1   0   0   0   1   0   0   0   0   0   0   0   4   0\n",
            "    2   0   0   1   0]\n",
            " [  1   0   1   0   6   0   0   6   0   2   2  42   0   0   0   0   0   0\n",
            "    2   0   0   0   0   0   0   0   0   0   0   0   0   1   0   0   2   0\n",
            "    0   0   0   4   0]\n",
            " [  0   2   2   0   0   4   0   9   2   0   0   1  17   0   1   0   1   0\n",
            "    0   1   4   1   1   2   0   0   0   0   0   0   0   0   0   0   3   0\n",
            "    1   0   1   1   0]\n",
            " [  0   2   1   0   1   0   1   1   0   0   0   0   1 117   2   0   0   0\n",
            "    0   0   0   3   3   1   0   0   0   0   4   0   6   0   2   0   0   0\n",
            "    0   1   0   1   0]\n",
            " [  1   3   0   0   0   0   5   1   1   0   0   0   1   6 100   1   0   0\n",
            "    0   0   0   2  11   0   0   0   0   0   1   2   4   0   1   0   0   3\n",
            "    0   2   0   0   0]\n",
            " [  0   0   2   0   3   4   0   6   0   6   4   3   0   0   0  16   4   4\n",
            "    1   1   4   0   0   0   1   0   1   0   0   0   0   0   1   0   5   0\n",
            "    3   0   0   0   0]\n",
            " [  0   1   8   0   2  10   0   9   0   1   1   0   1   0   0   6  84   2\n",
            "    2   0   1   0   1   0   0   0   3   0   1   0   0   2   0   0   9   0\n",
            "    0   0   0   1   0]\n",
            " [  0   2   2   0   2   3   1   0   0   4   3   0   0   0   0   1   7  57\n",
            "    2   0   5   0   0   0   0   0   4   0   0   0   0   0   0   0   8   0\n",
            "    2   1   0   0   0]\n",
            " [  2   1   1   0   6   4   0   3   1   4   1   0   0   0   0   2   0   2\n",
            "   22   0   0   0   0   0   1   0   2   0   0   0   0   0   1   0   3   0\n",
            "    0   0   0   0   0]\n",
            " [  1   4   0   2   2   0   7   0   0   0   0   0   0   0   1   0   0   0\n",
            "    0  48   2   0   1   0   1   0   0   1   2   0   0   0   0   0   0   1\n",
            "    0   0   5   0   0]\n",
            " [  0   0   4   0   2   1   0   1   0   4   8   0   2   0   1   0   8   1\n",
            "    1   0  84   0   1   0   1   1   2   0   0   0   0   0   0   0  10   0\n",
            "    1   0   0   0   0]\n",
            " [  3   4   0   1   1   1   8   3   0   0   0   0   2   3   0   0   0   0\n",
            "    0   1   0  33   4   1   0   2   0   1   0   1   0   1   0   1   0   0\n",
            "    0   1   5   0   0]\n",
            " [  0  11   0   2   0   0   3   0   0   0   0   0   0   4  13   0   0   0\n",
            "    0   0   0   0 152   1   0   1   0   0   1   0   2   0   1   0   0   3\n",
            "    0   3   0   0   0]\n",
            " [  0   6   1   6   2   5   5   2   3   0   2   1   1   1   4   0   0   0\n",
            "    0   0   0   0   5  41   0   0   0   5   1   0   0   0   3   4   0   1\n",
            "    1   1   2   1   0]\n",
            " [  1   5   0   1   0   1   2   0   5   0   0   0   0   0   3   0   0   1\n",
            "    0   9   1   0   0   0  34   1   0   2   1   0   0   2   0   0   2   0\n",
            "    0   4   0   0   2]\n",
            " [  1   0   0   1   0   1   3   0   0   0   0   0   0   3   2   0   0   0\n",
            "    0   0   0   2   8   1   0  20   0   1   2   1   0   0   1   0   1   0\n",
            "    0   1   0   0   0]\n",
            " [  0   3  11   0   3  12   1   6   1   6   4   0   0   0   0   1   5   2\n",
            "    1   1   2   0   0   0   1   0  50   1   0   0   0   3   0   0   9   0\n",
            "    1   0   2   0   0]\n",
            " [  7  12   3   1   2   2   6   3   0   0   0   0   1   1   2   0   0   0\n",
            "    2   5   1   2   2   3   3   1   1  62   2   0   1   0   2   0   1   0\n",
            "    1   5   0   0   0]\n",
            " [  0   5   0   1   1   0   0   0   2   0   0   1   2  11   6   0   0   0\n",
            "    0   1   0   0   1   0   0   1   0   0  41   0   4   0   1   0   0  11\n",
            "    0   1   0   0   0]\n",
            " [  1   0   0   0   2   0   3   1   2   0   0   1   0   1   0   0   0   0\n",
            "    0   0   0   3   5   0   1   4   0   3   0  17   1   0   3   0   1   0\n",
            "    0   0   1   0   0]\n",
            " [  0   0   0   0   2   2   2   1   1   0   0   1   0  15   0   0   1   0\n",
            "    0   0   0   3   3   0   0   0   0   2   4   1  23   0   1   3   1   1\n",
            "    0   0   1   1   0]\n",
            " [  0   0   2   0  12   0   0   1   3   0   0   1   0   0   0   0   2   0\n",
            "    1   0   0   0   0   0   0   0   0   0   0   0   0  35   0   0   0   0\n",
            "    2   0   2   1   0]\n",
            " [  6  11   2   0   4   1   3   1   0   0   0   2   1   6   4   1   1   0\n",
            "    0   3   0   6   0   4   1   2   2   3   5   2   4   1  50   0   3   1\n",
            "    1   9   3   0   0]\n",
            " [  1   0   0   3   0   0   1   0   0   0   0   0   0   0   0   0   0   0\n",
            "    0   0   0   0   0   1   0   0   0   1   0   0   0   0   0 106   0   0\n",
            "    0   2   1   0   0]\n",
            " [  0   1  10   0   4   3   0   3   0   2   2   0   0   0   0   4  14   3\n",
            "    0   0   7   0   0   0   0   2   2   0   1   0   0   0   1   0 129   0\n",
            "    3   1   0   0   0]\n",
            " [  2   4   0   0   1   0   0   0   2   0   0   0   0   3   7   0   0   0\n",
            "    0   1   0   1  12   4   0   1   0   3   2   0   0   1   1   2   0  39\n",
            "    0   6   0   1   0]\n",
            " [  0   0   5   0   2   0   1   5   0   1   2   2   1   0   2   1   2   0\n",
            "    2   0   0   3   0   0   0   1   0   1   1   0   0   0   0   0  11   0\n",
            "   35   0   0   6   0]\n",
            " [  3   3   0   0   3   0   3   1   0   0   0   0   0   5   9   0   1   0\n",
            "    1   0   0   3   8   4   1   3   0   0   3   1   2   0   1  10   0   2\n",
            "    0  84   9   0   1]\n",
            " [  4   4   0   2   1   0   2   0   2   0   0   0   1   1   4   0   0   0\n",
            "    0   1   0   3   7   0   1   0   0   3   0   1   0   1   2   1   2   1\n",
            "    0   9  32   0   1]\n",
            " [  0   2   3   0   4   3   0   7   7   1   0   1   2   0   0   0   0   0\n",
            "    1   0   0   0   0   0   0   0   0   0   1   0   0   2   1   0   0   0\n",
            "    1   0   0  25   0]\n",
            " [  1   0   0   2   0   0   0   0   0   0   0   0   0   0   0   0   0   0\n",
            "    0   2   1   0   0   0   1   0   0   0   0   0   0   0   1   1   0   1\n",
            "    0   0   0   0  27]]\n"
          ],
          "name": "stdout"
        }
      ]
    },
    {
      "cell_type": "code",
      "metadata": {
        "colab": {
          "base_uri": "https://localhost:8080/"
        },
        "id": "l5107fIAguJQ",
        "outputId": "a0a19970-1d18-4aa9-e78c-b43e9422fce3"
      },
      "source": [
        "resultCR = (classification_report(y_test, y_pred))\n",
        "print(resultCR)"
      ],
      "execution_count": 304,
      "outputs": [
        {
          "output_type": "stream",
          "text": [
            "              precision    recall  f1-score   support\n",
            "\n",
            "           1       0.48      0.55      0.51        75\n",
            "           2       0.69      0.88      0.78       263\n",
            "           3       0.46      0.36      0.40       172\n",
            "           4       0.58      0.67      0.63        52\n",
            "           5       0.26      0.41      0.32        76\n",
            "           6       0.44      0.54      0.49       112\n",
            "           7       0.45      0.53      0.48       116\n",
            "           8       0.42      0.62      0.50       117\n",
            "           9       0.57      0.67      0.62        79\n",
            "          10       0.43      0.48      0.45        63\n",
            "          11       0.61      0.66      0.63        99\n",
            "          12       0.65      0.61      0.63        69\n",
            "          13       0.36      0.31      0.34        54\n",
            "          14       0.64      0.80      0.71       147\n",
            "          15       0.58      0.69      0.63       145\n",
            "          16       0.33      0.23      0.27        69\n",
            "          17       0.53      0.58      0.55       145\n",
            "          18       0.70      0.55      0.61       104\n",
            "          19       0.40      0.39      0.40        56\n",
            "          20       0.61      0.62      0.61        78\n",
            "          21       0.67      0.63      0.65       133\n",
            "          22       0.41      0.43      0.42        77\n",
            "          23       0.62      0.77      0.69       197\n",
            "          24       0.61      0.39      0.48       104\n",
            "          25       0.64      0.44      0.52        77\n",
            "          26       0.48      0.41      0.44        49\n",
            "          27       0.58      0.40      0.47       126\n",
            "          28       0.56      0.46      0.51       134\n",
            "          29       0.55      0.46      0.50        90\n",
            "          30       0.59      0.34      0.43        50\n",
            "          31       0.46      0.33      0.39        69\n",
            "          32       0.66      0.56      0.61        62\n",
            "          33       0.62      0.35      0.45       143\n",
            "          34       0.80      0.91      0.85       116\n",
            "          35       0.54      0.67      0.60       192\n",
            "          36       0.58      0.42      0.49        93\n",
            "          37       0.57      0.42      0.48        84\n",
            "          38       0.61      0.52      0.56       161\n",
            "          39       0.48      0.37      0.42        86\n",
            "          40       0.46      0.41      0.43        61\n",
            "          41       0.82      0.73      0.77        37\n",
            "\n",
            "    accuracy                           0.56      4232\n",
            "   macro avg       0.55      0.53      0.53      4232\n",
            "weighted avg       0.56      0.56      0.55      4232\n",
            "\n"
          ],
          "name": "stdout"
        }
      ]
    },
    {
      "cell_type": "code",
      "metadata": {
        "id": "9YfWgq5DguQ7"
      },
      "source": [
        "# all parameters not specified are set to their defaults\n",
        "logisticRegr = LogisticRegression()"
      ],
      "execution_count": 305,
      "outputs": []
    },
    {
      "cell_type": "code",
      "metadata": {
        "colab": {
          "base_uri": "https://localhost:8080/"
        },
        "id": "7RVc24yrguYk",
        "outputId": "e4aa497b-7085-4382-9e06-7cb5b678a16a"
      },
      "source": [
        "logisticRegr.fit(X_train, y_train)"
      ],
      "execution_count": 306,
      "outputs": [
        {
          "output_type": "stream",
          "text": [
            "/usr/local/lib/python3.6/dist-packages/sklearn/linear_model/_logistic.py:940: ConvergenceWarning: lbfgs failed to converge (status=1):\n",
            "STOP: TOTAL NO. of ITERATIONS REACHED LIMIT.\n",
            "\n",
            "Increase the number of iterations (max_iter) or scale the data as shown in:\n",
            "    https://scikit-learn.org/stable/modules/preprocessing.html\n",
            "Please also refer to the documentation for alternative solver options:\n",
            "    https://scikit-learn.org/stable/modules/linear_model.html#logistic-regression\n",
            "  extra_warning_msg=_LOGISTIC_SOLVER_CONVERGENCE_MSG)\n"
          ],
          "name": "stderr"
        },
        {
          "output_type": "execute_result",
          "data": {
            "text/plain": [
              "LogisticRegression(C=1.0, class_weight=None, dual=False, fit_intercept=True,\n",
              "                   intercept_scaling=1, l1_ratio=None, max_iter=100,\n",
              "                   multi_class='auto', n_jobs=None, penalty='l2',\n",
              "                   random_state=None, solver='lbfgs', tol=0.0001, verbose=0,\n",
              "                   warm_start=False)"
            ]
          },
          "metadata": {
            "tags": []
          },
          "execution_count": 306
        }
      ]
    },
    {
      "cell_type": "code",
      "metadata": {
        "colab": {
          "base_uri": "https://localhost:8080/"
        },
        "id": "HIaH2BKNhljB",
        "outputId": "ff2afc8e-7a60-430d-8d65-0736285c6e0b"
      },
      "source": [
        "# Returns a NumPy Array\n",
        "# Predict for One Observation (image)\n",
        "logisticRegr.predict(X_test[0].reshape(1,-1))"
      ],
      "execution_count": 307,
      "outputs": [
        {
          "output_type": "execute_result",
          "data": {
            "text/plain": [
              "array([23])"
            ]
          },
          "metadata": {
            "tags": []
          },
          "execution_count": 307
        }
      ]
    },
    {
      "cell_type": "code",
      "metadata": {
        "colab": {
          "base_uri": "https://localhost:8080/"
        },
        "id": "5vCA17zMhlm6",
        "outputId": "a7704dac-3948-421e-aa95-b6023b1af2b5"
      },
      "source": [
        "logisticRegr.predict(X_test[0:10])"
      ],
      "execution_count": 308,
      "outputs": [
        {
          "output_type": "execute_result",
          "data": {
            "text/plain": [
              "array([23, 11, 33, 32, 21,  2, 23, 39, 21, 35])"
            ]
          },
          "metadata": {
            "tags": []
          },
          "execution_count": 308
        }
      ]
    },
    {
      "cell_type": "code",
      "metadata": {
        "id": "iGs-kuJUhlrO"
      },
      "source": [
        "predictions = logisticRegr.predict(X_test)"
      ],
      "execution_count": 309,
      "outputs": []
    },
    {
      "cell_type": "code",
      "metadata": {
        "colab": {
          "base_uri": "https://localhost:8080/"
        },
        "id": "BYy_bIuRhlvB",
        "outputId": "1bbce849-cacb-493c-a168-a10333b8e0de"
      },
      "source": [
        "# Use score method to get accuracy of model\n",
        "score = logisticRegr.score(X_test, y_test)\n",
        "print(score)"
      ],
      "execution_count": 310,
      "outputs": [
        {
          "output_type": "stream",
          "text": [
            "0.27859168241965976\n"
          ],
          "name": "stdout"
        }
      ]
    },
    {
      "cell_type": "code",
      "metadata": {
        "colab": {
          "base_uri": "https://localhost:8080/"
        },
        "id": "8jcR-cXshl1V",
        "outputId": "8d38dd0b-59a0-4f8c-88f0-5b903df5ebd9"
      },
      "source": [
        "cm = metrics.confusion_matrix(y_test, predictions)\n",
        "print(cm)"
      ],
      "execution_count": 311,
      "outputs": [
        {
          "output_type": "stream",
          "text": [
            "[[ 20   5   0   3   0   0   2   0   0   0   2   0   0   2   0   0   0   0\n",
            "    0   2   0   4   4   0   3   0   1   6   0   0   0   0  13   0   0   0\n",
            "    0   4   2   0   2]\n",
            " [  0 160   0   0   0   0   2   7   3   0   0   0   0   0   3   0   3   0\n",
            "    0   0   2   2  22   0   0   0   0   8   0   0   0   0   5  40   2   0\n",
            "    0   4   0   0   0]\n",
            " [  0   5  12   0   0   4   1   6   4   4  12   0   0   0   0   5  24   2\n",
            "    4   0   4   0   1   0   0   0   7   5   0   0   0   3   0   0  64   1\n",
            "    2   1   1   0   0]\n",
            " [  1   3   0  13   0   0   0   0   0   0   0   0   0   1   1   0   1   2\n",
            "    1   1   0   3   0   0   2   0   4   2   0   0   0   0   0   2   1   0\n",
            "    0   1   5   0   8]\n",
            " [  0   4   5   0   2   0   0   2  11   1   1   1   0   1   0   2   4   0\n",
            "    1   0   1   0   3   0   0   0   0   2   2   0   0  12   9   0   4   1\n",
            "    3   0   2   2   0]\n",
            " [  0   2   2   0   0   4   1  13   9   5   3   0   0   0   2  10   4   1\n",
            "    1   0   4   0   1   0   0   0   6   0   1   0   0   0   3   0  36   1\n",
            "    0   1   0   1   1]\n",
            " [  7  16   0   2   0   0  12   1   0   0   0   0   0   1   1   0   0   1\n",
            "    0   3   0   5   5   0   7   0   0   9   0   0   0   0  10  15   0   0\n",
            "    0  14   5   0   2]\n",
            " [  0   2   9   0   5   2   1  34   7   1   0   4   0   0   3   1   4   0\n",
            "    3   0   1   0   0   0   0   0   0   0   0   0   0   5   4   0  18   4\n",
            "    3   0   0   6   0]\n",
            " [  0   7   0   0   0   0   0   4  16   0   0   0   0   1   1   3   3   0\n",
            "    3   0   0   0   6   0   0   0   0   1   1   0   0  21   0   0   1   2\n",
            "    1   2   1   5   0]\n",
            " [  0   0   1   0   0   3   0   3   0   6   4   0   0   0   0   6   0   0\n",
            "   13   3   7   0   0   0   0   0   4   1   0   0   0   4   1   0   6   0\n",
            "    0   1   0   0   0]\n",
            " [  0   1   2   0   0   1   0   1   0   2  38   0   1   0   0   2  10   6\n",
            "    4   1  15   0   0   0   0   0   5   1   0   0   0   0   1   0   4   0\n",
            "    4   0   0   0   0]\n",
            " [  0   4   3   0   1   4   0   0   3   2   4  11   0   1   0   0   0   0\n",
            "    0   0   0   0   0   0   0   0  13   0   0   0   0   1  10   0   4   2\n",
            "    2   1   0   3   0]\n",
            " [  0   0   4   0   0   0   0  11   4   2   1   0   0   3   1   0   4   0\n",
            "    0   0   3   0   6   0   0   0   1   0   1   0   0   0   1   0   7   0\n",
            "    4   0   0   1   0]\n",
            " [  1   3   0   0   3   0   1   4  14   0   0   0   0  31   4   0   1   0\n",
            "    0   0   0   1  37   0   0   0   0   0   8   0   0   1   5   0   0   3\n",
            "    2  27   0   1   0]\n",
            " [  0   0   0   0   0   0   3   3   4   0   0   0   0   3  20   0   1   0\n",
            "    0   0   0   4  58   0   3   0   2   0   2   0   0   1   2   3   0   5\n",
            "    1  27   3   0   0]\n",
            " [  0   1   6   0   0   4   1   3   1   0  15   4   0   0   0   5   0   2\n",
            "    2   0   4   0   0   0   0   0   6   1   1   0   0   3   1   0   5   0\n",
            "    3   0   0   1   0]\n",
            " [  0   0   9   0   0   4   0  12   2   2   4   1   0   2   1   2  43   0\n",
            "    0   0   0   0   0   0   0   0   7   1   0   0   0   3   2   0  43   3\n",
            "    0   3   0   1   0]\n",
            " [  0   0   3   0   0   0   0   0   0   1  10   1   0   1   0   4   8  21\n",
            "    3   0  33   0   1   0   0   0   3   0   0   0   0   0   1   0  11   0\n",
            "    3   0   0   0   0]\n",
            " [  0   1   1   0   0   0   0   2   0   4   8   1   0   0   2   3   0   0\n",
            "   16   0   3   0   0   0   0   0   0   0   0   0   0   3   0   0   6   1\n",
            "    1   2   0   2   0]\n",
            " [  0   0   0   1   0   0   7   0   0   1   0   0   0   0   9   0   0   2\n",
            "    0  32   6   2   6   0   0   0   0   2   1   0   0   0   0   0   0   0\n",
            "    0   0   9   0   0]\n",
            " [  0   0   7   0   0   0   0   0   0   0   7   0   0   0   0   0  10   4\n",
            "    2   0  64   0   1   0   0   0   2   1   0   0   0   3   0   1  31   0\n",
            "    0   0   0   0   0]\n",
            " [  2   0   1   0   0   0   2   8   0   0   0   0   0   7   2   0   0   0\n",
            "    0   3   0  20  10   0   4   0   0   0   3   1   0   0   2   3   0   3\n",
            "    1   1   3   0   1]\n",
            " [  0   4   0   0   0   0   1   0   1   0   0   0   0   1   4   0   0   0\n",
            "    1   0   0   1 163   0   4   0   0   0   2   0   0   0   3   0   1   1\n",
            "    1   8   0   1   0]\n",
            " [  1  12   4   5   1   1   8   8   7   0   1   0   0   1   0   1   1   2\n",
            "    0   3   1   2  11   0   0   0   1   3   0   0   0   0   9  17   0   0\n",
            "    1   2   0   0   1]\n",
            " [  1   7   0   0   0   0   0   0   1   0   0   0   0  14   1   0   0   1\n",
            "    1  17   1   0   9   0   4   0   1   2   1   0   0   1   1   4   3   0\n",
            "    0   0   2   0   5]\n",
            " [  0   3   0   2   0   0   0   0   0   0   0   0   0   1   3   0   0   0\n",
            "    0   0   0   2  13   0   0   3   0   0   7   6   0   0   2   0   1   0\n",
            "    0   5   1   0   0]\n",
            " [  0   6   7   0   0   4   1   6   0   5   7   4   0   0   1   4   2   1\n",
            "    0   5   8   0   0   0   0   0  28   1   0   0   0   8   0   0  27   0\n",
            "    0   0   1   0   0]\n",
            " [  5  29   0   0   0   1   3   4   3   2   0   0   0   2   0   0   0   0\n",
            "    1  10   4   2   1   0   2   0   2  33   1   0   0   0   9   5   7   0\n",
            "    0   7   1   0   0]\n",
            " [  0   1   0   0   1   0   1   0   3   0   0   0   0   4  11   0   1   0\n",
            "    0   0   0   0  34   0   0   0   0   0  20   0   0   0   1   0   0   4\n",
            "    3   1   2   3   0]\n",
            " [  1   1   0   3   0   0   1   1   1   0   0   0   0   1   2   1   0   0\n",
            "    1   0   0   4  10   0   5   1   0   1   1   2   0   2   0   0   3   2\n",
            "    0   3   3   0   0]\n",
            " [  2   2   0   0   2   0   0   3   2   0   0   0   0  12   0   0   0   0\n",
            "    0   0   0   2  11   0   9   0   0   0   4   0   0   0   6   2   1   2\n",
            "    1   7   1   0   0]\n",
            " [  0   0   0   0   1   0   0   3   3   5   0   0   0   0   1   0   0   0\n",
            "    0   3   0   0   0   0   0   0   0   1   0   0   0  40   0   0   1   0\n",
            "    0   0   0   4   0]\n",
            " [  2  23   0   0   1   0   6   4   4   0   0   2   0   6   8   0   2   0\n",
            "    0   0   0   6  13   0   5   0   5   5   4   1   0   0  15   2   5   2\n",
            "    4   9   9   0   0]\n",
            " [  0   4   0   0   0   0   1   0   0   0   0   0   0   0   0   0   1   0\n",
            "    0   1   0   0   0   0   0   0   0   0   0   0   0   0   0 104   1   0\n",
            "    0   3   0   0   1]\n",
            " [  0   1   8   0   0   5   0   0   2   2   4   0   0   0   0   4   4   4\n",
            "    2   0  21   0   0   0   0   0   0   0   0   0   0   0   1   1 118   1\n",
            "   13   1   0   0   0]\n",
            " [  0   7   0   0   0   0   1   0   7   0   0   1   0   4   0   0   1   0\n",
            "    0   0   0   0  41   0   0   0   0  10   4   0   0   4   0   4   0   2\n",
            "    0   7   0   0   0]\n",
            " [  1   0   9   0   7   3   0   5   4   1   0   0   0   5   0   0   9   0\n",
            "    0   0   0   0   5   0   0   0   0   0   2   0   0   2   0   1   8   2\n",
            "   12   0   0   8   0]\n",
            " [  1  22   0   0   0   0   1   2   3   0   0   0   0  14   2   0   3   0\n",
            "    0   0   0   1  30   0   2   0   0   0   3   0   0   2   3  31   1   8\n",
            "    0  26   6   0   0]\n",
            " [  1   0   0   1   1   0   1   4   1   0   0   0   0   1   0   0   1   0\n",
            "    0   5   0   3  10   0   3   2   0   1   2   0   0   1   2   7   3   4\n",
            "    1  18  12   0   1]\n",
            " [  0   0   0   0   0   0   0   5   4   0   0   1   0   0   0   0   3   0\n",
            "    1   0   0   0   3   0   0   0   0   0   1   0   0  12   0   0  17   0\n",
            "    3   1   0  10   0]\n",
            " [  0   2   0   4   0   0   0   0   0   3   0   0   0   0   0   0   0   2\n",
            "    0   4   0   0   2   0   0   1   4   0   0   0   0   0   0   6   0   0\n",
            "    0   1   1   0   7]]\n"
          ],
          "name": "stdout"
        }
      ]
    },
    {
      "cell_type": "code",
      "metadata": {
        "colab": {
          "base_uri": "https://localhost:8080/",
          "height": 526
        },
        "id": "Tyzm_EE9hl4q",
        "outputId": "34db5909-5efe-477d-9036-9dd1bac16c56"
      },
      "source": [
        "plt.figure(figsize=(9,9))\n",
        "sns.heatmap(cm, annot=True, fmt=\".3f\", linewidths=.5, square = True, cmap = 'Blues_r');\n",
        "plt.ylabel('Actual label');\n",
        "plt.xlabel('Predicted label');\n",
        "all_sample_title = 'Accuracy Score: {0}'.format(score)\n",
        "plt.title(all_sample_title, size = 15);"
      ],
      "execution_count": 312,
      "outputs": [
        {
          "output_type": "display_data",
          "data": {
            "image/png": "[encoded data removed]",
            "text/plain": [
              "<Figure size 648x648 with 2 Axes>"
            ]
          },
          "metadata": {
            "tags": []
          }
        }
      ]
    },
    {
      "cell_type": "code",
      "metadata": {
        "colab": {
          "base_uri": "https://localhost:8080/",
          "height": 657
        },
        "id": "KTxcOA9ihl8c",
        "outputId": "d5025a60-b2b6-4f4e-9857-d53b60e30de7"
      },
      "source": [
        "plt.figure(figsize=(9,9))\n",
        "plt.imshow(cm, interpolation='nearest', cmap='Pastel1')\n",
        "plt.title('Confusion matrix', size = 15)\n",
        "plt.colorbar()\n",
        "tick_marks = np.arange(10)\n",
        "plt.xticks(tick_marks, [\"0\", \"1\", \"2\", \"3\", \"4\", \"5\", \"6\", \"7\", \"8\", \"9\"], rotation=45, size = 10)\n",
        "plt.yticks(tick_marks, [\"0\", \"1\", \"2\", \"3\", \"4\", \"5\", \"6\", \"7\", \"8\", \"9\"], size = 10)\n",
        "plt.tight_layout()\n",
        "plt.ylabel('Actual label', size = 15)\n",
        "plt.xlabel('Predicted label', size = 15)\n",
        "width, height = cm.shape\n",
        "for x in range(width):\n",
        " for y in range(height):\n",
        "  plt.annotate(str(cm[x][y]), xy=(y, x), \n",
        "  horizontalalignment='center',\n",
        "  verticalalignment='center')"
      ],
      "execution_count": 313,
      "outputs": [
        {
          "output_type": "display_data",
          "data": {
            "image/png": "[encoded data removed]",
            "text/plain": [
              "<Figure size 648x648 with 2 Axes>"
            ]
          },
          "metadata": {
            "tags": []
          }
        }
      ]
    },
    {
      "cell_type": "code",
      "metadata": {
        "id": "WpQrWNPihmK-",
        "colab": {
          "base_uri": "https://localhost:8080/"
        },
        "outputId": "470e3fac-1a41-4e5b-88ce-5d02ccde46d4"
      },
      "source": [
        "train = pd.read_csv(r\"featMatVersion0.csv\")\r\n",
        "\r\n",
        "np.any(np.isnan(train))\r\n",
        "\r\n",
        "np.all(np.isfinite(train))\r\n",
        "\r\n",
        "#print out the columns\r\n",
        "train.columns\r\n",
        "\r\n",
        "\r\n",
        "#prints the amount of users in 'User_ID'\r\n",
        "#train['User_ID'].value_counts()\r\n",
        "\r\n",
        "\r\n",
        "#surveys_df.year == 2002\r\n",
        "#train[train.User_ID == 5 or train.User_ID == 4].value_counts()\r\n",
        "\r\n",
        "train[train.User_ID == 5].value_counts()\r\n",
        "\r\n",
        "\r\n",
        "#surveys_df[0:3]\r\n",
        "\r\n",
        "#How to get both and then compare?\r\n",
        "\r\n",
        "#Using only 1 works \r\n",
        "\r\n",
        "# why does it give me more than just the row numbers?\r\n",
        "\r\n",
        "\r\n",
        "#How to check for a certain ID?\r\n",
        "\r\n",
        "#myInt = 0\r\n",
        "#mySum = 0\r\n",
        "\r\n",
        "#for x in range(1,41): \r\n",
        " # for y in range(x+1,42): \r\n",
        "    #myInt = myInt +1\r\n",
        "\r\n",
        "\r\n",
        "#print(myInt)"
      ],
      "execution_count": 314,
      "outputs": [
        {
          "output_type": "execute_result",
          "data": {
            "text/plain": [
              "User_ID  Doc_ID  Inter-Stroke time  Stroke Duration  Start X  Start Y  Stop X   Stop Y   Direct end-to-end Distance  Mean resulant length  WSAD Flag  Direction of end-to-end Time  Phone_ID  20 per pairwise velocity  50 per pairwise velocity  80 per pairwise velocity  20 per pairwise acc  50 per pairwise acc  80 per pairwise acc  Median velocity at last 3pts  Largest deviation from end-to-end line  20 per dev line  50 per dev line  80 per dev line  Average Direction  Length of Trajectory  Ratio dist and length of trajectory  Average velocity  Median acceleration at first 5 pts  Mid-Stroke pressure  Mid-Stroke area covered  Mid-Stroke finger orientation  Change of finger orientation  Phone orientation\n",
              "5        7       7.505              0.144            5.3421   -42.132  29.7340  -40.015  24.484                      0.99587               2           0.08656                      3         94.1740                   206.720                   212.370                   -13229.00            -478.750             74910.0              199.680                       -0.67843                                -0.560920        -2.174300e-01    -4.440900e-16     0.110790          24.538                0.99780                              170.400           -204.110                            0.510                0.044444                 0.0                            0                             1                    1\n",
              "         3       0.931              0.608            27.7180  -37.999  27.8190  -15.522  22.477                      0.90413               3           1.56630                      3         17.4230                   33.598                    60.544                    -1429.40             -29.174              1960.0               13.458                        -0.43119                                -0.309650        -1.220400e-01    -6.201200e-02     1.546100          22.666                0.99169                              37.279            -15.885                             0.340                0.044444                 0.0                            0                             1                    1\n",
              "                 0.705              0.400            25.5010  -38.402  25.4000  -19.756  18.647                      0.88363               3           1.57620                      3         17.2880                   49.514                    110.660                   -2425.50             -389.810             11283.0              14.327                        -1.17190                                -1.003900        -5.159500e-01    -1.016100e-01     1.621500          19.010                0.98092                              47.525             1935.300                           0.400                0.044444                 0.0                            0                             1                    1\n",
              "                 0.729              0.370            20.8640  -37.495  22.4770  -15.724  21.831                      0.89739               3           1.49690                      3         17.6140                   62.004                    101.060                   -3380.80             -416.800             2860.6               13.045                        -1.47050                                -1.266200        -4.430200e-01    -2.941100e-02     1.287700          22.163                0.98505                              59.899            -1329.500                           0.455                0.044444                 0.0                            0                             1                    1\n",
              "                 0.731              0.489            21.0660  -32.153  17.8400  -49.187  17.337                      0.59612               1          -1.75790                      3         13.1030                   46.176                    91.848                    -3574.50             -436.750             11181.0              30.097                         0.78290                                 0.063640         1.766800e-01     6.040500e-01    -1.608900          20.536                0.84422                              41.996            -1007.400                           0.500                0.044444                 0.0                            0                             1                    1\n",
              "                                                                                                                                                                                                                                                                                                                                                                                                                                                                                                                                                                                                                                                                                                                                       ..\n",
              "         5       0.434              0.169            4.8381   -30.440  23.4850  -33.665  18.924                      0.99698               2          -0.17128                      3         5.6696                    60.848                    107.990                   -11304.00            -308.470             4428.0               79.572                        -0.33393                                -0.221560        -1.154200e-02     0.000000e+00    -0.080418          18.949                0.99868                              112.120            824.400                            0.290                0.044444                 0.0                            0                             1                    1\n",
              "                 0.444              0.237            7.4587   -33.665  30.9440  -37.193  23.748                      0.89995               2          -0.14910                      3         10.2770                   100.070                   140.550                   -948.71               795.480             2419.1               122.710                       -1.16960                                -0.236700         4.440900e-16     2.067100e-01    -0.334920          24.054                0.98730                              101.490            1809.700                           0.305                0.044444                 0.0                            0                             1                    1\n",
              "                 0.449              0.106            24.3920  -31.448  13.5060  -29.633  11.036                      0.60161               4           2.97640                      3         35.6980                   91.424                    253.250                   -36262.00            -7688.900            45160.0              133.240                       -0.23199                                -0.150790        -4.971100e-02    -1.554300e-16     2.961500          11.048                0.99893                              104.220           -7688.900                           0.270                0.044444                 0.0                            0                             1                    1\n",
              "                 0.452              0.166            23.5860  -27.416  9.0714   -27.416  14.514                      0.67889               4           3.14160                      3         14.4890                   76.218                    120.480                   -3917.70             -1107.900            2119.3               46.158                        -1.00790                                -0.786190        -1.511900e-01     0.000000e+00    -3.132100          14.793                0.98118                              89.113            -553.000                            0.300                0.044444                 0.0                            0                             1                    1\n",
              "         1       0.503              0.230            19.9570  -41.426  21.4690  -23.687  17.804                      0.91818               3           1.48580                      3         17.5490                   69.780                    107.700                   -2206.80             -74.607              1859.5               33.856                         0.17975                                -0.062483         0.000000e+00     1.073900e-01     1.406500          17.820                0.99912                              77.477             1109.600                           0.410                0.044444                 0.0                            0                             1                    1\n",
              "Length: 413, dtype: int64"
            ]
          },
          "metadata": {
            "tags": []
          },
          "execution_count": 314
        }
      ]
    },
    {
      "cell_type": "code",
      "metadata": {
        "id": "GcZW8emChmJZ"
      },
      "source": [
        "#Choosing the columns for X\r\n",
        "#Not using 'User_ID', 'Doc_ID', or 'Phone_ID'\r\n",
        "X = train[['Inter-Stroke time', 'Stroke Duration', 'Start X', 'Start Y', 'Stop X', 'Stop Y', 'Direct end-to-end Distance',\r\n",
        "        'Mean resulant length', 'WSAD Flag', 'Direction of end-to-end Time', '20 per pairwise velocity', \r\n",
        "        '50 per pairwise velocity', '80 per pairwise velocity', '20 per pairwise acc', '50 per pairwise acc', \r\n",
        "        '80 per pairwise acc', 'Median velocity at last 3pts', 'Largest deviation from end-to-end line', '20 per dev line',\r\n",
        "        '50 per dev line', '80 per dev line', 'Average Direction', 'Length of Trajectory', \r\n",
        "        'Ratio dist and length of trajectory', 'Average velocity', 'Median acceleration at first 5 pts',\r\n",
        "        'Mid-Stroke pressure', 'Mid-Stroke area covered', 'Mid-Stroke finger orientation', 'Change of finger orientation',\r\n",
        "        'Phone orientation']].values"
      ],
      "execution_count": 315,
      "outputs": []
    },
    {
      "cell_type": "code",
      "metadata": {
        "id": "5U81m3xEhmDD"
      },
      "source": [
        "#Choosing the lables for y\r\n",
        "y = train['User_ID'].values\r\n",
        "\r\n",
        "# How to select only for a certain user ID?"
      ],
      "execution_count": 316,
      "outputs": []
    },
    {
      "cell_type": "code",
      "metadata": {
        "id": "08LEZiSJhmAE"
      },
      "source": [
        "#Train and test split\r\n",
        "#80% train, 20% test\r\n",
        "#splitting the data into test and train dataset\r\n",
        "\r\n",
        "from sklearn.model_selection import train_test_split\r\n",
        "X_train, X_test, y_train, y_test = train_test_split(X, y, test_size=0.20)\r\n",
        "\r\n",
        "#should probably randomize data better"
      ],
      "execution_count": 317,
      "outputs": []
    },
    {
      "cell_type": "code",
      "metadata": {
        "id": "5Hp-vp9lhlyc"
      },
      "source": [
        "#Feature Scaling\r\n",
        "from sklearn.preprocessing import StandardScaler\r\n",
        "scaler = StandardScaler()\r\n",
        "scaler.fit(X_train)\r\n",
        "\r\n",
        "X_train = scaler.transform(X_train)\r\n",
        "X_test = scaler.transform(X_test)"
      ],
      "execution_count": 318,
      "outputs": []
    },
    {
      "cell_type": "code",
      "metadata": {
        "colab": {
          "base_uri": "https://localhost:8080/"
        },
        "id": "y5alf8D34r9y",
        "outputId": "1aaff6b0-7bb5-4299-bbe0-a934e7e438e9"
      },
      "source": [
        "#Training and Prediction\r\n",
        "from sklearn.neighbors import KNeighborsClassifier\r\n",
        "classifier = KNeighborsClassifier(n_neighbors=5)         #value for k\r\n",
        "classifier.fit(X_train, y_train)\r\n",
        "\r\n",
        "#Sometimes gets an error for no reason \r\n",
        "#Run again to fix\r\n",
        "\r\n",
        "#The k value is guessed at first and then changed depending on the data\r\n",
        "#5 is used by convention but is usually a guess\r\n",
        "#Might want to change to 7 as when I did for K values up to 100 7 seemed smaller\r\n",
        "#on the smaller graph though 5 seems to be the best answer\r\n",
        "#The graph fluctuates with each run\r\n",
        "# 6 and 5 seem to be good choices\r\n",
        "\r\n",
        "\r\n",
        "#For the 0 and 1 dataset the better k values are 4, 7 and 9\r\n",
        "#Might want to make 2 seperate files\r\n"
      ],
      "execution_count": 319,
      "outputs": [
        {
          "output_type": "execute_result",
          "data": {
            "text/plain": [
              "KNeighborsClassifier(algorithm='auto', leaf_size=30, metric='minkowski',\n",
              "                     metric_params=None, n_jobs=None, n_neighbors=5, p=2,\n",
              "                     weights='uniform')"
            ]
          },
          "metadata": {
            "tags": []
          },
          "execution_count": 319
        }
      ]
    },
    {
      "cell_type": "code",
      "metadata": {
        "id": "a9ICgnCU4sHu"
      },
      "source": [
        "#Make prediction on the test data\r\n",
        "y_pred = classifier.predict(X_test)"
      ],
      "execution_count": 320,
      "outputs": []
    },
    {
      "cell_type": "code",
      "metadata": {
        "id": "JubuEpcO4sL0"
      },
      "source": [
        "resultCR = (classification_report(y_test, y_pred))\r\n",
        "#Need to store this result in an array\r\n",
        "#then we can get the average\r\n",
        "\r\n",
        "#Get the weighted average or accuracy score\r\n",
        "\r\n",
        "#mySum = mySum + weightedAverafe\r\n",
        "\r\n",
        "# or can add to a running sum and then divide by the total number of runs\r\n",
        "\r\n",
        "#total number of runs is 820"
      ],
      "execution_count": 321,
      "outputs": []
    },
    {
      "cell_type": "code",
      "metadata": {
        "id": "SKKE8YV-4sPw"
      },
      "source": [
        "#surveys_df[0:3]\r\n",
        "\r\n",
        "# How to select the first 3 rows\r\n",
        "\r\n",
        "#surveys_df[surveys_df.year == 2002]\r\n",
        "#selecting ones with a specific year"
      ],
      "execution_count": 322,
      "outputs": []
    },
    {
      "cell_type": "code",
      "metadata": {
        "id": "0uWoezT94sTH"
      },
      "source": [
        ""
      ],
      "execution_count": 322,
      "outputs": []
    },
    {
      "cell_type": "code",
      "metadata": {
        "id": "oT0-AYV44sWN"
      },
      "source": [
        ""
      ],
      "execution_count": 322,
      "outputs": []
    },
    {
      "cell_type": "code",
      "metadata": {
        "id": "zS2suikA4sZs"
      },
      "source": [
        ""
      ],
      "execution_count": 322,
      "outputs": []
    },
    {
      "cell_type": "code",
      "metadata": {
        "id": "acrHT4Nn4scx"
      },
      "source": [
        ""
      ],
      "execution_count": 322,
      "outputs": []
    },
    {
      "cell_type": "code",
      "metadata": {
        "id": "ElbjLquB4sgA"
      },
      "source": [
        ""
      ],
      "execution_count": 322,
      "outputs": []
    },
    {
      "cell_type": "code",
      "metadata": {
        "id": "DNgHj7bu4skF"
      },
      "source": [
        ""
      ],
      "execution_count": 322,
      "outputs": []
    },
    {
      "cell_type": "code",
      "metadata": {
        "id": "nTJrPzg44sni"
      },
      "source": [
        ""
      ],
      "execution_count": 322,
      "outputs": []
    }
  ]
}