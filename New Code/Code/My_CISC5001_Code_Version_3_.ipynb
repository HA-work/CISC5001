{
  "nbformat": 4,
  "nbformat_minor": 0,
  "metadata": {
    "kernelspec": {
      "display_name": "Python 3",
      "language": "python",
      "name": "python3"
    },
    "language_info": {
      "codemirror_mode": {
        "name": "ipython",
        "version": 3
      },
      "file_extension": ".py",
      "mimetype": "text/x-python",
      "name": "python",
      "nbconvert_exporter": "python",
      "pygments_lexer": "ipython3",
      "version": "3.8.3"
    },
    "colab": {
      "name": "My CISC5001 Code Version 3 .ipynb",
      "provenance": []
    }
  },
  "cells": [
    {
      "cell_type": "code",
      "metadata": {
        "id": "NLJjkG-qsQ_A",
        "colab": {
          "base_uri": "https://localhost:8080/"
        },
        "outputId": "7a02462b-00fe-413e-ee76-43a4eb85f373"
      },
      "source": [
        "import numpy as np # linear algebra\n",
        "import pandas as pd # data processing, CSV file I/O (e.g. pd.read_csv)\n",
        "import tensorflow as tf\n",
        "\n",
        "import matplotlib.pyplot as plt\n",
        "import matplotlib\n",
        "\n",
        "%matplotlib inline\n",
        "matplotlib.style.use('ggplot') \n",
        "\n",
        "from sklearn import datasets\n",
        "from sklearn import preprocessing\n",
        "from sklearn.model_selection import train_test_split\n",
        "from sklearn.decomposition import PCA\n",
        "from sklearn.neighbors import KNeighborsClassifier\n",
        "from sklearn.datasets import load_digits\n",
        "from sklearn.linear_model import LogisticRegression\n",
        "from sklearn.preprocessing import StandardScaler\n",
        "from sklearn.linear_model import LinearRegression\n",
        "\n",
        "\n",
        "\n",
        "import sys\n",
        "\n",
        "import seaborn as sns\n",
        "from sklearn import metrics\n",
        "\n",
        "#Based on Eddie Lam's code\n",
        "\n",
        "'''\n",
        "Reusing code:\n",
        "https://stackabuse.com/k-nearest-neighbors-algorithm-in-python-and-scikit-learn/\n",
        "\n",
        "Explaining result:\n",
        "https://datascience.stackexchange.com/questions/65839/macro-average-and-weighted-average-meaning-in-classification-report\n",
        "\n",
        "\n",
        "Test_fearMat_Clean: 4168\n",
        "    Before edit: 4231 rows × 34 columns\n",
        "    After edit: 4168 rows × 34 columns\n",
        "    \n",
        "    #removed 6 to 7\n",
        "    total = 3749         (20% = 750; 80% = 2,999)\n",
        "    \n",
        "\n",
        "Train_fearMat_Clean: 16680\n",
        "    Before edit: 16927 rows × 34 columns\n",
        "    After edit: 16680 rows × 34 columns\n",
        "    \n",
        "    #removed 6 to 7\n",
        "    total = 15045         (20% = 3,009; 80% = 12,036)\n",
        "\n",
        "'''\n",
        "\n",
        "import os\n",
        "\n",
        "\n",
        "print(os.listdir(r\".\"))         #print out what's in the file/directory\n",
        "#train = pd.read_csv(r\"featMatVersion0.csv\")\n",
        "#This is the unedited file from Eddie\n",
        "\n",
        "#train = pd.read_csv(r\"featMatVersion1.csv\")\n",
        "\n",
        "#train = pd.read_csv(r\"featMatVersion2.csv\")\n",
        "\n",
        "\n",
        "#/content/featMatVersion2.csv\n",
        "\n",
        "#train = pd.read_csv(r\"featMatVersion3.csv\")\n",
        "\n",
        "#train = pd.read_csv(r\"featMatVersion4.csv\")\n",
        "#Same as original but no comunns 2 and 13\n",
        "\n",
        "\n",
        "#train = pd.read_csv(r\"featMatVersion5.csv\")\n",
        "#Same as version1 but no comunns 2 and 13\n",
        "\n",
        "\n",
        "#train = pd.read_csv(r\"featMatVersion6.csv\")\n",
        "#Same as version2 but no comunns 2 and 13\n",
        "\n",
        "\n",
        "#train = pd.read_csv(r\"featMatVersion7.csv\")\n",
        "#Same as version3 but no comunns 2 and 13\n",
        "\n",
        "\n",
        "\n",
        "\n",
        "\n",
        "train = pd.read_csv(r\"featMatVersion8.csv\")\n",
        "#Same as version0 but only 2 users\n",
        "#has only 2 users\n",
        "#Uses 1 and 2\n",
        "#still sizable difference between users\n",
        "#need to find 2 users w\n",
        "\n",
        "\n",
        "\n",
        "\n",
        "\n",
        "\n",
        "#Find out how to randomize dataset\n",
        "\n",
        "#Version Orginal is the unmodified dataset from Eddie\n",
        "\n",
        "# This Version1 uses one authentic user with a class ID of 1\n",
        "# The rest have a class ID of 0\n",
        "\n",
        "#Version 2 has sessions 6 and 7 removed\n",
        "\n",
        "#Version 3 has sessions 6 and 7 removed and authentic user with class 1 and rest 0\n",
        "\n",
        "#clean up the negative values for interstroke?\n",
        "\n",
        "#compare only 2 people?\n",
        "\n",
        "#remove columns 2 and 13?\n",
        "\n",
        "#Make a second code for the ones with the removed columns\n",
        "\n",
        "#Too much data to clean up\n",
        "\n",
        "#Should try randomizing\n",
        "\n",
        "#upload the csv to google colab\n",
        "#for some reason need to do this each time\n",
        "#need to find a way to store and acces from drive\n",
        "\n",
        "#pd.read_csv('/My Drive/Collab Notebooks/featMatVersionOriginal.csv')\n",
        "\n",
        "#Try to get data from google drive instead of manually importing it\n",
        "\n",
        "#Maybe try removing sessions 6 and 7\n",
        "\n",
        "\n",
        "\n",
        "\n",
        "\n",
        "#Create a file that has only 2 users\n",
        "\n",
        "\n"
      ],
      "execution_count": 755,
      "outputs": [
        {
          "output_type": "stream",
          "text": [
            "['.config', 'featMatVersion8.csv', 'sample_data']\n"
          ],
          "name": "stdout"
        }
      ]
    },
    {
      "cell_type": "code",
      "metadata": {
        "id": "ea2c4gqwsQ_I",
        "colab": {
          "base_uri": "https://localhost:8080/",
          "height": 292
        },
        "outputId": "243ee6a2-ac7e-4dae-8600-42db0b8d3040"
      },
      "source": [
        "#print\n",
        "train.head()"
      ],
      "execution_count": 756,
      "outputs": [
        {
          "output_type": "execute_result",
          "data": {
            "text/html": [
              "<div>\n",
              "<style scoped>\n",
              "    .dataframe tbody tr th:only-of-type {\n",
              "        vertical-align: middle;\n",
              "    }\n",
              "\n",
              "    .dataframe tbody tr th {\n",
              "        vertical-align: top;\n",
              "    }\n",
              "\n",
              "    .dataframe thead th {\n",
              "        text-align: right;\n",
              "    }\n",
              "</style>\n",
              "<table border=\"1\" class=\"dataframe\">\n",
              "  <thead>\n",
              "    <tr style=\"text-align: right;\">\n",
              "      <th></th>\n",
              "      <th>User_ID</th>\n",
              "      <th>Doc_ID</th>\n",
              "      <th>Inter-Stroke time</th>\n",
              "      <th>Stroke Duration</th>\n",
              "      <th>Start X</th>\n",
              "      <th>Start Y</th>\n",
              "      <th>Stop X</th>\n",
              "      <th>Stop Y</th>\n",
              "      <th>Direct end-to-end Distance</th>\n",
              "      <th>Mean resulant length</th>\n",
              "      <th>WSAD Flag</th>\n",
              "      <th>Direction of end-to-end Time</th>\n",
              "      <th>Phone_ID</th>\n",
              "      <th>20 per pairwise velocity</th>\n",
              "      <th>50 per pairwise velocity</th>\n",
              "      <th>80 per pairwise velocity</th>\n",
              "      <th>20 per pairwise acc</th>\n",
              "      <th>50 per pairwise acc</th>\n",
              "      <th>80 per pairwise acc</th>\n",
              "      <th>Median velocity at last 3pts</th>\n",
              "      <th>Largest deviation from end-to-end line</th>\n",
              "      <th>20 per dev line</th>\n",
              "      <th>50 per dev line</th>\n",
              "      <th>80 per dev line</th>\n",
              "      <th>Average Direction</th>\n",
              "      <th>Length of Trajectory</th>\n",
              "      <th>Ratio dist and length of trajectory</th>\n",
              "      <th>Average velocity</th>\n",
              "      <th>Median acceleration at first 5 pts</th>\n",
              "      <th>Mid-Stroke pressure</th>\n",
              "      <th>Mid-Stroke area covered</th>\n",
              "      <th>Mid-Stroke finger orientation</th>\n",
              "      <th>Change of finger orientation</th>\n",
              "      <th>Phone orientation</th>\n",
              "    </tr>\n",
              "  </thead>\n",
              "  <tbody>\n",
              "    <tr>\n",
              "      <th>0</th>\n",
              "      <td>1</td>\n",
              "      <td>4</td>\n",
              "      <td>0.913</td>\n",
              "      <td>0.320</td>\n",
              "      <td>27.7980</td>\n",
              "      <td>-35.647</td>\n",
              "      <td>5.8867</td>\n",
              "      <td>-36.737</td>\n",
              "      <td>21.939</td>\n",
              "      <td>0.83553</td>\n",
              "      <td>4</td>\n",
              "      <td>-3.09190</td>\n",
              "      <td>2</td>\n",
              "      <td>14.450</td>\n",
              "      <td>72.675</td>\n",
              "      <td>133.45</td>\n",
              "      <td>-12.047</td>\n",
              "      <td>497.89</td>\n",
              "      <td>1902.9</td>\n",
              "      <td>139.310</td>\n",
              "      <td>1.5963</td>\n",
              "      <td>-1.550000e-16</td>\n",
              "      <td>0.043064</td>\n",
              "      <td>1.135900e+00</td>\n",
              "      <td>-3.07500</td>\n",
              "      <td>22.310</td>\n",
              "      <td>0.98337</td>\n",
              "      <td>69.718</td>\n",
              "      <td>456.16</td>\n",
              "      <td>0.64</td>\n",
              "      <td>0.17778</td>\n",
              "      <td>0</td>\n",
              "      <td>0</td>\n",
              "      <td>1</td>\n",
              "    </tr>\n",
              "    <tr>\n",
              "      <th>1</th>\n",
              "      <td>1</td>\n",
              "      <td>4</td>\n",
              "      <td>10.818</td>\n",
              "      <td>0.172</td>\n",
              "      <td>27.5800</td>\n",
              "      <td>-31.069</td>\n",
              "      <td>4.5785</td>\n",
              "      <td>-36.737</td>\n",
              "      <td>23.690</td>\n",
              "      <td>0.77926</td>\n",
              "      <td>4</td>\n",
              "      <td>-2.90000</td>\n",
              "      <td>2</td>\n",
              "      <td>115.810</td>\n",
              "      <td>178.320</td>\n",
              "      <td>425.83</td>\n",
              "      <td>-26537.000</td>\n",
              "      <td>-1302.30</td>\n",
              "      <td>203310.0</td>\n",
              "      <td>113.500</td>\n",
              "      <td>2.5032</td>\n",
              "      <td>0.000000e+00</td>\n",
              "      <td>1.392300</td>\n",
              "      <td>2.028100e+00</td>\n",
              "      <td>-2.83590</td>\n",
              "      <td>24.629</td>\n",
              "      <td>0.96188</td>\n",
              "      <td>143.190</td>\n",
              "      <td>747.36</td>\n",
              "      <td>0.66</td>\n",
              "      <td>0.22222</td>\n",
              "      <td>0</td>\n",
              "      <td>0</td>\n",
              "      <td>1</td>\n",
              "    </tr>\n",
              "    <tr>\n",
              "      <th>2</th>\n",
              "      <td>1</td>\n",
              "      <td>4</td>\n",
              "      <td>0.759</td>\n",
              "      <td>0.277</td>\n",
              "      <td>5.0146</td>\n",
              "      <td>-40.553</td>\n",
              "      <td>34.4480</td>\n",
              "      <td>-32.486</td>\n",
              "      <td>30.519</td>\n",
              "      <td>0.91959</td>\n",
              "      <td>2</td>\n",
              "      <td>0.26751</td>\n",
              "      <td>2</td>\n",
              "      <td>36.830</td>\n",
              "      <td>78.611</td>\n",
              "      <td>188.46</td>\n",
              "      <td>-2217.900</td>\n",
              "      <td>1548.70</td>\n",
              "      <td>2539.3</td>\n",
              "      <td>197.020</td>\n",
              "      <td>-2.7546</td>\n",
              "      <td>-2.294100e+00</td>\n",
              "      <td>-1.119900</td>\n",
              "      <td>8.880000e-17</td>\n",
              "      <td>0.51158</td>\n",
              "      <td>31.574</td>\n",
              "      <td>0.96657</td>\n",
              "      <td>113.990</td>\n",
              "      <td>1965.30</td>\n",
              "      <td>0.65</td>\n",
              "      <td>0.22222</td>\n",
              "      <td>0</td>\n",
              "      <td>0</td>\n",
              "      <td>1</td>\n",
              "    </tr>\n",
              "    <tr>\n",
              "      <th>3</th>\n",
              "      <td>1</td>\n",
              "      <td>4</td>\n",
              "      <td>1.143</td>\n",
              "      <td>0.250</td>\n",
              "      <td>3.5974</td>\n",
              "      <td>-37.391</td>\n",
              "      <td>34.5570</td>\n",
              "      <td>-30.415</td>\n",
              "      <td>31.736</td>\n",
              "      <td>0.96025</td>\n",
              "      <td>2</td>\n",
              "      <td>0.22165</td>\n",
              "      <td>2</td>\n",
              "      <td>26.554</td>\n",
              "      <td>168.690</td>\n",
              "      <td>239.42</td>\n",
              "      <td>-2601.800</td>\n",
              "      <td>-1169.10</td>\n",
              "      <td>8637.7</td>\n",
              "      <td>114.770</td>\n",
              "      <td>-1.4514</td>\n",
              "      <td>-1.050000e+00</td>\n",
              "      <td>-0.492790</td>\n",
              "      <td>0.000000e+00</td>\n",
              "      <td>0.25501</td>\n",
              "      <td>32.084</td>\n",
              "      <td>0.98916</td>\n",
              "      <td>128.340</td>\n",
              "      <td>-788.47</td>\n",
              "      <td>0.77</td>\n",
              "      <td>0.24444</td>\n",
              "      <td>0</td>\n",
              "      <td>0</td>\n",
              "      <td>1</td>\n",
              "    </tr>\n",
              "    <tr>\n",
              "      <th>4</th>\n",
              "      <td>1</td>\n",
              "      <td>4</td>\n",
              "      <td>0.528</td>\n",
              "      <td>0.261</td>\n",
              "      <td>31.0690</td>\n",
              "      <td>-29.215</td>\n",
              "      <td>3.8155</td>\n",
              "      <td>-38.045</td>\n",
              "      <td>28.648</td>\n",
              "      <td>0.62760</td>\n",
              "      <td>4</td>\n",
              "      <td>-2.82830</td>\n",
              "      <td>2</td>\n",
              "      <td>34.637</td>\n",
              "      <td>85.099</td>\n",
              "      <td>228.20</td>\n",
              "      <td>-4750.100</td>\n",
              "      <td>-889.77</td>\n",
              "      <td>8633.5</td>\n",
              "      <td>33.615</td>\n",
              "      <td>4.9177</td>\n",
              "      <td>2.137200e-01</td>\n",
              "      <td>2.240700</td>\n",
              "      <td>3.798200e+00</td>\n",
              "      <td>-2.34940</td>\n",
              "      <td>32.598</td>\n",
              "      <td>0.87881</td>\n",
              "      <td>124.900</td>\n",
              "      <td>1384.20</td>\n",
              "      <td>0.70</td>\n",
              "      <td>0.28889</td>\n",
              "      <td>0</td>\n",
              "      <td>0</td>\n",
              "      <td>1</td>\n",
              "    </tr>\n",
              "  </tbody>\n",
              "</table>\n",
              "</div>"
            ],
            "text/plain": [
              "   User_ID  Doc_ID  ...  Change of finger orientation  Phone orientation\n",
              "0        1       4  ...                             0                  1\n",
              "1        1       4  ...                             0                  1\n",
              "2        1       4  ...                             0                  1\n",
              "3        1       4  ...                             0                  1\n",
              "4        1       4  ...                             0                  1\n",
              "\n",
              "[5 rows x 34 columns]"
            ]
          },
          "metadata": {
            "tags": []
          },
          "execution_count": 756
        }
      ]
    },
    {
      "cell_type": "code",
      "metadata": {
        "id": "N_7dnDX4sQ_U",
        "colab": {
          "base_uri": "https://localhost:8080/"
        },
        "outputId": "8453ddb9-054f-4752-832d-87196ae73ed4"
      },
      "source": [
        "np.any(np.isnan(train))"
      ],
      "execution_count": 757,
      "outputs": [
        {
          "output_type": "execute_result",
          "data": {
            "text/plain": [
              "False"
            ]
          },
          "metadata": {
            "tags": []
          },
          "execution_count": 757
        }
      ]
    },
    {
      "cell_type": "code",
      "metadata": {
        "id": "iTCHhsEtsQ_m",
        "colab": {
          "base_uri": "https://localhost:8080/"
        },
        "outputId": "db4965f9-01e1-4ea4-93df-c49bbbbbe159"
      },
      "source": [
        "np.all(np.isfinite(train))"
      ],
      "execution_count": 758,
      "outputs": [
        {
          "output_type": "execute_result",
          "data": {
            "text/plain": [
              "True"
            ]
          },
          "metadata": {
            "tags": []
          },
          "execution_count": 758
        }
      ]
    },
    {
      "cell_type": "code",
      "metadata": {
        "id": "SEotZNcssQ_1",
        "colab": {
          "base_uri": "https://localhost:8080/"
        },
        "outputId": "e5604ec2-7ea3-421a-c27c-49f0443c7827"
      },
      "source": [
        "#print out the columns\n",
        "train.columns"
      ],
      "execution_count": 759,
      "outputs": [
        {
          "output_type": "execute_result",
          "data": {
            "text/plain": [
              "Index(['User_ID', 'Doc_ID', 'Inter-Stroke time', 'Stroke Duration', 'Start X',\n",
              "       'Start Y', 'Stop X', 'Stop Y', 'Direct end-to-end Distance',\n",
              "       'Mean resulant length', 'WSAD Flag', 'Direction of end-to-end Time',\n",
              "       'Phone_ID', '20 per pairwise velocity', '50 per pairwise velocity',\n",
              "       '80 per pairwise velocity', '20 per pairwise acc',\n",
              "       '50 per pairwise acc', '80 per pairwise acc',\n",
              "       'Median velocity at last 3pts',\n",
              "       'Largest deviation from end-to-end line', '20 per dev line',\n",
              "       '50 per dev line', '80 per dev line', 'Average Direction',\n",
              "       'Length of Trajectory', 'Ratio dist and length of trajectory',\n",
              "       'Average velocity', 'Median acceleration at first 5 pts',\n",
              "       'Mid-Stroke pressure', 'Mid-Stroke area covered',\n",
              "       'Mid-Stroke finger orientation', 'Change of finger orientation',\n",
              "       'Phone orientation'],\n",
              "      dtype='object')"
            ]
          },
          "metadata": {
            "tags": []
          },
          "execution_count": 759
        }
      ]
    },
    {
      "cell_type": "code",
      "metadata": {
        "id": "DfpEDfbasQ_4",
        "colab": {
          "base_uri": "https://localhost:8080/"
        },
        "outputId": "02ca4894-a1a2-4597-ea03-a32fdbd0ae94"
      },
      "source": [
        "#prints the amount of users in 'User_ID'\n",
        "train['User_ID'].value_counts()"
      ],
      "execution_count": 760,
      "outputs": [
        {
          "output_type": "execute_result",
          "data": {
            "text/plain": [
              "1    401\n",
              "0    401\n",
              "Name: User_ID, dtype: int64"
            ]
          },
          "metadata": {
            "tags": []
          },
          "execution_count": 760
        }
      ]
    },
    {
      "cell_type": "code",
      "metadata": {
        "id": "Uxa7-b7TsQ_8"
      },
      "source": [
        "#Choosing the columns for X\n",
        "#Not using 'User_ID', 'Doc_ID', or 'Phone_ID'\n",
        "X = train[['Inter-Stroke time', 'Stroke Duration', 'Start X', 'Start Y', 'Stop X', 'Stop Y', 'Direct end-to-end Distance',\n",
        "        'Mean resulant length', 'WSAD Flag', 'Direction of end-to-end Time', '20 per pairwise velocity', \n",
        "        '50 per pairwise velocity', '80 per pairwise velocity', '20 per pairwise acc', '50 per pairwise acc', \n",
        "        '80 per pairwise acc', 'Median velocity at last 3pts', 'Largest deviation from end-to-end line', '20 per dev line',\n",
        "        '50 per dev line', '80 per dev line', 'Average Direction', 'Length of Trajectory', \n",
        "        'Ratio dist and length of trajectory', 'Average velocity', 'Median acceleration at first 5 pts',\n",
        "        'Mid-Stroke pressure', 'Mid-Stroke area covered', 'Mid-Stroke finger orientation', 'Change of finger orientation',\n",
        "        'Phone orientation']].values"
      ],
      "execution_count": 761,
      "outputs": []
    },
    {
      "cell_type": "code",
      "metadata": {
        "id": "5beQNhkvsRAA"
      },
      "source": [
        "#Choosing the lables for y\n",
        "y = train['User_ID'].values"
      ],
      "execution_count": 762,
      "outputs": []
    },
    {
      "cell_type": "code",
      "metadata": {
        "id": "ui3CfitGsRAE"
      },
      "source": [
        "#Train and test split\n",
        "#80% train, 20% test\n",
        "#splitting the data into test and train dataset\n",
        "\n",
        "from sklearn.model_selection import train_test_split\n",
        "X_train, X_test, y_train, y_test = train_test_split(X, y, test_size=0.20)\n",
        "\n",
        "#should probably randomize data better"
      ],
      "execution_count": 763,
      "outputs": []
    },
    {
      "cell_type": "code",
      "metadata": {
        "id": "vprauDHCsRAG"
      },
      "source": [
        "#Feature Scaling\n",
        "from sklearn.preprocessing import StandardScaler\n",
        "scaler = StandardScaler()\n",
        "scaler.fit(X_train)\n",
        "\n",
        "X_train = scaler.transform(X_train)\n",
        "X_test = scaler.transform(X_test)"
      ],
      "execution_count": 764,
      "outputs": []
    },
    {
      "cell_type": "code",
      "metadata": {
        "id": "kLjdCUPPsRAI",
        "colab": {
          "base_uri": "https://localhost:8080/"
        },
        "outputId": "02b72d7f-536d-4102-ee1c-21d78c802c09"
      },
      "source": [
        "#Training and Prediction\n",
        "from sklearn.neighbors import KNeighborsClassifier\n",
        "classifier = KNeighborsClassifier(n_neighbors=5)         #value for k\n",
        "classifier.fit(X_train, y_train)\n",
        "\n",
        "#Sometimes gets an error for no reason \n",
        "#Run again to fix\n",
        "\n",
        "#The k value is guessed at first and then changed depending on the data\n",
        "#5 is used by convention but is usually a guess\n",
        "#Might want to change to 7 as when I did for K values up to 100 7 seemed smaller\n",
        "#on the smaller graph though 5 seems to be the best answer\n",
        "#The graph fluctuates with each run\n",
        "# 6 and 5 seem to be good choices\n",
        "\n",
        "\n",
        "#For the 0 and 1 dataset the better k values are 4, 7 and 9\n",
        "#Might want to make 2 seperate files\n",
        "\n"
      ],
      "execution_count": 765,
      "outputs": [
        {
          "output_type": "execute_result",
          "data": {
            "text/plain": [
              "KNeighborsClassifier(algorithm='auto', leaf_size=30, metric='minkowski',\n",
              "                     metric_params=None, n_jobs=None, n_neighbors=5, p=2,\n",
              "                     weights='uniform')"
            ]
          },
          "metadata": {
            "tags": []
          },
          "execution_count": 765
        }
      ]
    },
    {
      "cell_type": "code",
      "metadata": {
        "id": "S4b_wAWWsRAL"
      },
      "source": [
        "#Make prediction on the test data\n",
        "y_pred = classifier.predict(X_test)"
      ],
      "execution_count": 766,
      "outputs": []
    },
    {
      "cell_type": "code",
      "metadata": {
        "id": "n3wPzHvLsRAN",
        "colab": {
          "base_uri": "https://localhost:8080/"
        },
        "outputId": "8c863498-e70b-48ab-d558-7f9ee50deebe"
      },
      "source": [
        "#Evaluating the Algorithm\n",
        "from sklearn.metrics import classification_report, confusion_matrix\n",
        "print(confusion_matrix(y_test, y_pred))\n",
        "print(classification_report(y_test, y_pred))"
      ],
      "execution_count": 767,
      "outputs": [
        {
          "output_type": "stream",
          "text": [
            "[[80  1]\n",
            " [ 1 79]]\n",
            "              precision    recall  f1-score   support\n",
            "\n",
            "           0       0.99      0.99      0.99        81\n",
            "           1       0.99      0.99      0.99        80\n",
            "\n",
            "    accuracy                           0.99       161\n",
            "   macro avg       0.99      0.99      0.99       161\n",
            "weighted avg       0.99      0.99      0.99       161\n",
            "\n"
          ],
          "name": "stdout"
        }
      ]
    },
    {
      "cell_type": "code",
      "metadata": {
        "id": "AfTYQwOosRAP",
        "colab": {
          "base_uri": "https://localhost:8080/"
        },
        "outputId": "480d6660-8c7a-4998-8b78-f669268021b1"
      },
      "source": [
        "#prints the entire confusion matrix\n",
        "#however, it doesnn't fit the entire row and loops around\n",
        "np.set_printoptions(threshold=sys.maxsize)\n",
        "resultCM = (confusion_matrix(y_test, y_pred))\n",
        "print(resultCM)"
      ],
      "execution_count": 768,
      "outputs": [
        {
          "output_type": "stream",
          "text": [
            "[[80  1]\n",
            " [ 1 79]]\n"
          ],
          "name": "stdout"
        }
      ]
    },
    {
      "cell_type": "code",
      "metadata": {
        "id": "TR-wa43BsRAS",
        "colab": {
          "base_uri": "https://localhost:8080/"
        },
        "outputId": "a586cf70-1a3e-42a2-c4dd-15b3966b1003"
      },
      "source": [
        "resultCR = (classification_report(y_test, y_pred))\n",
        "print(resultCR)"
      ],
      "execution_count": 769,
      "outputs": [
        {
          "output_type": "stream",
          "text": [
            "              precision    recall  f1-score   support\n",
            "\n",
            "           0       0.99      0.99      0.99        81\n",
            "           1       0.99      0.99      0.99        80\n",
            "\n",
            "    accuracy                           0.99       161\n",
            "   macro avg       0.99      0.99      0.99       161\n",
            "weighted avg       0.99      0.99      0.99       161\n",
            "\n"
          ],
          "name": "stdout"
        }
      ]
    },
    {
      "cell_type": "code",
      "metadata": {
        "id": "HmAaWoGyDQrX"
      },
      "source": [
        "#error = []\n",
        "\n",
        "# Calculating error for K values between 1 and 40\n",
        "#Takes a long time to load\n",
        "# Commented out as it takes a long time\n",
        "\n",
        "#for i in range(1, 40):\n",
        " #   knn = KNeighborsClassifier(n_neighbors=i)\n",
        "  #  knn.fit(X_train, y_train)\n",
        "   # pred_i = knn.predict(X_test)\n",
        "    #error.append(np.mean(pred_i != y_test))"
      ],
      "execution_count": 770,
      "outputs": []
    },
    {
      "cell_type": "code",
      "metadata": {
        "id": "vrf9-TYADgK7"
      },
      "source": [
        "#Commented out as it relies on the above\n",
        "\n",
        "#plt.figure(figsize=(12, 6))\n",
        "#plt.plot(range(1, 40), error, color='red', linestyle='dashed', marker='o',\n",
        " #        markerfacecolor='blue', markersize=10)\n",
        "#plt.title('Error Rate K Value')\n",
        "#plt.xlabel('K Value')\n",
        "#plt.ylabel('Mean Error')"
      ],
      "execution_count": 771,
      "outputs": []
    },
    {
      "cell_type": "code",
      "metadata": {
        "id": "OLX_hpdCuiOL"
      },
      "source": [
        "# all parameters not specified are set to their defaults\n",
        "logisticRegr = LogisticRegression()"
      ],
      "execution_count": 772,
      "outputs": []
    },
    {
      "cell_type": "code",
      "metadata": {
        "id": "vFPRZBY-umir",
        "colab": {
          "base_uri": "https://localhost:8080/"
        },
        "outputId": "ebb5dab7-55fe-440d-a8ca-8b7cd326d450"
      },
      "source": [
        "logisticRegr.fit(X_train, y_train)"
      ],
      "execution_count": 773,
      "outputs": [
        {
          "output_type": "execute_result",
          "data": {
            "text/plain": [
              "LogisticRegression(C=1.0, class_weight=None, dual=False, fit_intercept=True,\n",
              "                   intercept_scaling=1, l1_ratio=None, max_iter=100,\n",
              "                   multi_class='auto', n_jobs=None, penalty='l2',\n",
              "                   random_state=None, solver='lbfgs', tol=0.0001, verbose=0,\n",
              "                   warm_start=False)"
            ]
          },
          "metadata": {
            "tags": []
          },
          "execution_count": 773
        }
      ]
    },
    {
      "cell_type": "code",
      "metadata": {
        "id": "sWq3z1jtuuJ6",
        "colab": {
          "base_uri": "https://localhost:8080/"
        },
        "outputId": "9a8ae042-5698-4c33-8c73-3558d21a238a"
      },
      "source": [
        "# Returns a NumPy Array\n",
        "# Predict for One Observation (image)\n",
        "logisticRegr.predict(X_test[0].reshape(1,-1))"
      ],
      "execution_count": 774,
      "outputs": [
        {
          "output_type": "execute_result",
          "data": {
            "text/plain": [
              "array([1])"
            ]
          },
          "metadata": {
            "tags": []
          },
          "execution_count": 774
        }
      ]
    },
    {
      "cell_type": "code",
      "metadata": {
        "id": "8AhBvTIDvegm",
        "colab": {
          "base_uri": "https://localhost:8080/"
        },
        "outputId": "64a07bcd-046b-4a1b-f567-4f8d2af7e327"
      },
      "source": [
        "logisticRegr.predict(X_test[0:10])"
      ],
      "execution_count": 775,
      "outputs": [
        {
          "output_type": "execute_result",
          "data": {
            "text/plain": [
              "array([1, 1, 0, 0, 0, 0, 1, 1, 0, 1])"
            ]
          },
          "metadata": {
            "tags": []
          },
          "execution_count": 775
        }
      ]
    },
    {
      "cell_type": "code",
      "metadata": {
        "id": "derkWsE_vlKR"
      },
      "source": [
        "predictions = logisticRegr.predict(X_test)"
      ],
      "execution_count": 776,
      "outputs": []
    },
    {
      "cell_type": "code",
      "metadata": {
        "id": "gPEUOg_3vrVA",
        "colab": {
          "base_uri": "https://localhost:8080/"
        },
        "outputId": "b6eb25b3-78b3-414d-ce7b-288822be9606"
      },
      "source": [
        "# Use score method to get accuracy of model\n",
        "score = logisticRegr.score(X_test, y_test)\n",
        "print(score)"
      ],
      "execution_count": 777,
      "outputs": [
        {
          "output_type": "stream",
          "text": [
            "0.968944099378882\n"
          ],
          "name": "stdout"
        }
      ]
    },
    {
      "cell_type": "code",
      "metadata": {
        "id": "lHVNc64-vvws",
        "colab": {
          "base_uri": "https://localhost:8080/"
        },
        "outputId": "d880c309-8f61-41dd-a809-5376984b1ff6"
      },
      "source": [
        "cm = metrics.confusion_matrix(y_test, predictions)\n",
        "print(cm)"
      ],
      "execution_count": 778,
      "outputs": [
        {
          "output_type": "stream",
          "text": [
            "[[78  3]\n",
            " [ 2 78]]\n"
          ],
          "name": "stdout"
        }
      ]
    },
    {
      "cell_type": "code",
      "metadata": {
        "id": "_2FbDXtSwBRB",
        "colab": {
          "base_uri": "https://localhost:8080/",
          "height": 520
        },
        "outputId": "575e8799-9876-4fed-b258-1e53f3121a44"
      },
      "source": [
        "plt.figure(figsize=(9,9))\n",
        "sns.heatmap(cm, annot=True, fmt=\".3f\", linewidths=.5, square = True, cmap = 'Blues_r');\n",
        "plt.ylabel('Actual label');\n",
        "plt.xlabel('Predicted label');\n",
        "all_sample_title = 'Accuracy Score: {0}'.format(score)\n",
        "plt.title(all_sample_title, size = 15);"
      ],
      "execution_count": 779,
      "outputs": [
        {
          "output_type": "display_data",
          "data": {
            "image/png": "[encoded data removed]",
            "text/plain": [
              "<Figure size 648x648 with 2 Axes>"
            ]
          },
          "metadata": {
            "tags": []
          }
        }
      ]
    },
    {
      "cell_type": "code",
      "metadata": {
        "id": "ymDm0grfwEHG",
        "colab": {
          "base_uri": "https://localhost:8080/",
          "height": 657
        },
        "outputId": "4cef83a6-8837-4d5f-dfe5-62f16c6d1d51"
      },
      "source": [
        "plt.figure(figsize=(9,9))\n",
        "plt.imshow(cm, interpolation='nearest', cmap='Pastel1')\n",
        "plt.title('Confusion matrix', size = 15)\n",
        "plt.colorbar()\n",
        "tick_marks = np.arange(10)\n",
        "plt.xticks(tick_marks, [\"0\", \"1\", \"2\", \"3\", \"4\", \"5\", \"6\", \"7\", \"8\", \"9\"], rotation=45, size = 10)\n",
        "plt.yticks(tick_marks, [\"0\", \"1\", \"2\", \"3\", \"4\", \"5\", \"6\", \"7\", \"8\", \"9\"], size = 10)\n",
        "plt.tight_layout()\n",
        "plt.ylabel('Actual label', size = 15)\n",
        "plt.xlabel('Predicted label', size = 15)\n",
        "width, height = cm.shape\n",
        "for x in range(width):\n",
        " for y in range(height):\n",
        "  plt.annotate(str(cm[x][y]), xy=(y, x), \n",
        "  horizontalalignment='center',\n",
        "  verticalalignment='center')"
      ],
      "execution_count": 780,
      "outputs": [
        {
          "output_type": "display_data",
          "data": {
            "image/png": "[encoded data removed]",
            "text/plain": [
              "<Figure size 648x648 with 2 Axes>"
            ]
          },
          "metadata": {
            "tags": []
          }
        }
      ]
    },
    {
      "cell_type": "code",
      "metadata": {
        "id": "omdM-22lx8s6"
      },
      "source": [
        "scaler = preprocessing.MinMaxScaler()\n",
        "X = scaler.fit_transform(X)"
      ],
      "execution_count": 781,
      "outputs": []
    },
    {
      "cell_type": "code",
      "metadata": {
        "id": "mevvLu4byjNt",
        "colab": {
          "base_uri": "https://localhost:8080/"
        },
        "outputId": "08ad2cb7-b0fc-4d93-d11d-cb21923f834f"
      },
      "source": [
        "pca_model = PCA(n_components=2)\n",
        "pca_model.fit(X_train)\n",
        "X_train = pca_model.transform(X_train)\n",
        "X_test = pca_model.transform(X_test)\n",
        "\n",
        "#try changing this pca\n",
        "\n",
        "# go between 1 and 31\n",
        "\n",
        "#plotting becomes an issue\n",
        "\n",
        "# 2-Dimensions\n",
        "X_train[:5]"
      ],
      "execution_count": 782,
      "outputs": [
        {
          "output_type": "execute_result",
          "data": {
            "text/plain": [
              "array([[-1.12719086, -1.59936656],\n",
              "       [-1.76701049,  2.89517119],\n",
              "       [-1.23315417, -1.15499088],\n",
              "       [ 0.94885577, -2.8707096 ],\n",
              "       [-0.77689944, -2.20606108]])"
            ]
          },
          "metadata": {
            "tags": []
          },
          "execution_count": 782
        }
      ]
    },
    {
      "cell_type": "code",
      "metadata": {
        "id": "1gFbH4NazCig"
      },
      "source": [
        "knn_model = KNeighborsClassifier(n_neighbors=5)\n",
        "knn_model.fit(X_train, y_train) \n",
        "k = 5"
      ],
      "execution_count": 783,
      "outputs": []
    },
    {
      "cell_type": "code",
      "metadata": {
        "id": "xJmmD3lmzOlU",
        "colab": {
          "base_uri": "https://localhost:8080/"
        },
        "outputId": "ea9ff859-35e9-46a3-dbd0-0267354691e2"
      },
      "source": [
        "y_predict = knn_model.predict(X_test)\n",
        "y_predict\n"
      ],
      "execution_count": 784,
      "outputs": [
        {
          "output_type": "execute_result",
          "data": {
            "text/plain": [
              "array([1, 1, 0, 0, 0, 0, 1, 1, 1, 1, 0, 0, 1, 1, 1, 1, 0, 1, 0, 0, 1, 0,\n",
              "       1, 1, 1, 1, 1, 1, 1, 0, 0, 0, 0, 1, 0, 1, 1, 1, 0, 0, 0, 1, 1, 0,\n",
              "       1, 0, 1, 0, 0, 0, 0, 0, 0, 1, 1, 1, 1, 1, 0, 0, 0, 1, 0, 0, 1, 0,\n",
              "       1, 1, 1, 1, 0, 1, 0, 1, 1, 1, 0, 1, 1, 0, 0, 0, 0, 0, 0, 1, 1, 0,\n",
              "       0, 1, 0, 0, 1, 1, 0, 1, 0, 1, 1, 1, 0, 0, 1, 1, 0, 0, 1, 1, 1, 0,\n",
              "       1, 0, 0, 0, 0, 0, 0, 1, 1, 0, 0, 0, 1, 0, 1, 1, 1, 1, 1, 0, 0, 0,\n",
              "       0, 0, 1, 1, 1, 0, 1, 1, 1, 1, 1, 1, 1, 1, 0, 0, 1, 1, 1, 0, 0, 1,\n",
              "       1, 1, 1, 1, 0, 0, 0])"
            ]
          },
          "metadata": {
            "tags": []
          },
          "execution_count": 784
        }
      ]
    },
    {
      "cell_type": "code",
      "metadata": {
        "id": "uWmwHY0yzdax",
        "colab": {
          "base_uri": "https://localhost:8080/",
          "height": 391
        },
        "outputId": "e676a51e-cb73-490c-c35f-4979428f9af8"
      },
      "source": [
        "fig = plt.figure(figsize=(8, 6))\n",
        "ax = fig.add_subplot(111)\n",
        "padding = 0.1\n",
        "resolution = 0.1\n",
        "\n",
        "colors = {0: 'red', 1: 'blue'}  #, 3: 'white'\n",
        "x_min, x_max = X_train[:, 0].min(), X_train[:, 0].max()\n",
        "y_min, y_max = X_train[:, 1].min(), X_train[:, 1].max()\n",
        "x_range = x_max - x_min\n",
        "y_range = y_max - y_min\n",
        "x_min -= x_range * padding\n",
        "y_min -= y_range * padding\n",
        "x_max += x_range * padding\n",
        "y_max += y_range * padding\n",
        "\n",
        "# Get decision boundaries from model\n",
        "xx, yy = np.meshgrid(np.arange(x_min, x_max, resolution),\n",
        "                     np.arange(y_min, y_max, resolution))\n",
        "\n",
        "Z = knn_model.predict(np.c_[xx.ravel(), yy.ravel()])\n",
        "Z = Z.reshape(xx.shape)\n",
        "\n",
        "# Plot the contour map\n",
        "plt.contourf(xx, yy, Z, cmap=plt.cm.PRGn)\n",
        "plt.axis('tight')\n",
        "\n",
        "# Plot your testing points as wel\n",
        "for label in np.unique(y_test):\n",
        "    indices = np.where(y_test == label)\n",
        "    plt.scatter(X_test[indices, 0], X_test[indices, 1], c=colors[label], alpha=0.8, \n",
        "                label='User ID {}'.format(label))\n",
        "\n",
        "plt.legend(loc='lower right')\n",
        "plt.title('K = {}'.format(k))\n",
        "plt.show()"
      ],
      "execution_count": 785,
      "outputs": [
        {
          "output_type": "display_data",
          "data": {
            "image/png": "[encoded data removed]",
            "text/plain": [
              "<Figure size 576x432 with 1 Axes>"
            ]
          },
          "metadata": {
            "tags": []
          }
        }
      ]
    },
    {
      "cell_type": "code",
      "metadata": {
        "id": "qAsLRC4l0xJW"
      },
      "source": [
        "# Read in csv file\n",
        "# File: https://github.com/mGalarnyk/Python_Tutorials/blob/master/Python_Basics/Linear_Regression/linear.csv\n",
        "\n",
        "\n",
        "#raw_data= pd.read_csv(r\"featMatVersion0.csv\")\n",
        "#This is the unedited file from Eddie\n",
        "\n",
        "#raw_data = pd.read_csv(r\"featMatVersion1.csv\")\n",
        "\n",
        "#raw_data = pd.read_csv(r\"featMatVersion2.csv\")\n",
        "\n",
        "\n",
        "#/content/featMatVersion2.csv\n",
        "\n",
        "#raw_data = pd.read_csv(r\"featMatVersion3.csv\")\n",
        "\n",
        "#raw_data = pd.read_csv(r\"featMatVersion4.csv\")\n",
        "#Same as original but no comunns 2 and 13\n",
        "\n",
        "\n",
        "#raw_data= pd.read_csv(r\"featMatVersion5.csv\")\n",
        "#Same as version1 but no comunns 2 and 13\n",
        "\n",
        "\n",
        "#raw_data = pd.read_csv(r\"featMatVersion6.csv\")\n",
        "#Same as version2 but no comunns 2 and 13\n",
        "\n",
        "\n",
        "#raw_data = pd.read_csv(r\"featMatVersion7.csv\")\n",
        "#Same as version3 but no comunns 2 and 13\n",
        "\n",
        "\n",
        "raw_data = pd.read_csv(r\"featMatVersion8.csv\")\n",
        "#Same as version0 but only 2 users\n",
        "#has only 2 users\n",
        "\n",
        "\n",
        "\n",
        "\n"
      ],
      "execution_count": 786,
      "outputs": []
    },
    {
      "cell_type": "code",
      "metadata": {
        "id": "CvEII4Qt-i30",
        "colab": {
          "base_uri": "https://localhost:8080/",
          "height": 292
        },
        "outputId": "30d4663b-acb7-4f00-c313-8685f872dec5"
      },
      "source": [
        "raw_data.head()"
      ],
      "execution_count": 787,
      "outputs": [
        {
          "output_type": "execute_result",
          "data": {
            "text/html": [
              "<div>\n",
              "<style scoped>\n",
              "    .dataframe tbody tr th:only-of-type {\n",
              "        vertical-align: middle;\n",
              "    }\n",
              "\n",
              "    .dataframe tbody tr th {\n",
              "        vertical-align: top;\n",
              "    }\n",
              "\n",
              "    .dataframe thead th {\n",
              "        text-align: right;\n",
              "    }\n",
              "</style>\n",
              "<table border=\"1\" class=\"dataframe\">\n",
              "  <thead>\n",
              "    <tr style=\"text-align: right;\">\n",
              "      <th></th>\n",
              "      <th>User_ID</th>\n",
              "      <th>Doc_ID</th>\n",
              "      <th>Inter-Stroke time</th>\n",
              "      <th>Stroke Duration</th>\n",
              "      <th>Start X</th>\n",
              "      <th>Start Y</th>\n",
              "      <th>Stop X</th>\n",
              "      <th>Stop Y</th>\n",
              "      <th>Direct end-to-end Distance</th>\n",
              "      <th>Mean resulant length</th>\n",
              "      <th>WSAD Flag</th>\n",
              "      <th>Direction of end-to-end Time</th>\n",
              "      <th>Phone_ID</th>\n",
              "      <th>20 per pairwise velocity</th>\n",
              "      <th>50 per pairwise velocity</th>\n",
              "      <th>80 per pairwise velocity</th>\n",
              "      <th>20 per pairwise acc</th>\n",
              "      <th>50 per pairwise acc</th>\n",
              "      <th>80 per pairwise acc</th>\n",
              "      <th>Median velocity at last 3pts</th>\n",
              "      <th>Largest deviation from end-to-end line</th>\n",
              "      <th>20 per dev line</th>\n",
              "      <th>50 per dev line</th>\n",
              "      <th>80 per dev line</th>\n",
              "      <th>Average Direction</th>\n",
              "      <th>Length of Trajectory</th>\n",
              "      <th>Ratio dist and length of trajectory</th>\n",
              "      <th>Average velocity</th>\n",
              "      <th>Median acceleration at first 5 pts</th>\n",
              "      <th>Mid-Stroke pressure</th>\n",
              "      <th>Mid-Stroke area covered</th>\n",
              "      <th>Mid-Stroke finger orientation</th>\n",
              "      <th>Change of finger orientation</th>\n",
              "      <th>Phone orientation</th>\n",
              "    </tr>\n",
              "  </thead>\n",
              "  <tbody>\n",
              "    <tr>\n",
              "      <th>0</th>\n",
              "      <td>1</td>\n",
              "      <td>4</td>\n",
              "      <td>0.913</td>\n",
              "      <td>0.320</td>\n",
              "      <td>27.7980</td>\n",
              "      <td>-35.647</td>\n",
              "      <td>5.8867</td>\n",
              "      <td>-36.737</td>\n",
              "      <td>21.939</td>\n",
              "      <td>0.83553</td>\n",
              "      <td>4</td>\n",
              "      <td>-3.09190</td>\n",
              "      <td>2</td>\n",
              "      <td>14.450</td>\n",
              "      <td>72.675</td>\n",
              "      <td>133.45</td>\n",
              "      <td>-12.047</td>\n",
              "      <td>497.89</td>\n",
              "      <td>1902.9</td>\n",
              "      <td>139.310</td>\n",
              "      <td>1.5963</td>\n",
              "      <td>-1.550000e-16</td>\n",
              "      <td>0.043064</td>\n",
              "      <td>1.135900e+00</td>\n",
              "      <td>-3.07500</td>\n",
              "      <td>22.310</td>\n",
              "      <td>0.98337</td>\n",
              "      <td>69.718</td>\n",
              "      <td>456.16</td>\n",
              "      <td>0.64</td>\n",
              "      <td>0.17778</td>\n",
              "      <td>0</td>\n",
              "      <td>0</td>\n",
              "      <td>1</td>\n",
              "    </tr>\n",
              "    <tr>\n",
              "      <th>1</th>\n",
              "      <td>1</td>\n",
              "      <td>4</td>\n",
              "      <td>10.818</td>\n",
              "      <td>0.172</td>\n",
              "      <td>27.5800</td>\n",
              "      <td>-31.069</td>\n",
              "      <td>4.5785</td>\n",
              "      <td>-36.737</td>\n",
              "      <td>23.690</td>\n",
              "      <td>0.77926</td>\n",
              "      <td>4</td>\n",
              "      <td>-2.90000</td>\n",
              "      <td>2</td>\n",
              "      <td>115.810</td>\n",
              "      <td>178.320</td>\n",
              "      <td>425.83</td>\n",
              "      <td>-26537.000</td>\n",
              "      <td>-1302.30</td>\n",
              "      <td>203310.0</td>\n",
              "      <td>113.500</td>\n",
              "      <td>2.5032</td>\n",
              "      <td>0.000000e+00</td>\n",
              "      <td>1.392300</td>\n",
              "      <td>2.028100e+00</td>\n",
              "      <td>-2.83590</td>\n",
              "      <td>24.629</td>\n",
              "      <td>0.96188</td>\n",
              "      <td>143.190</td>\n",
              "      <td>747.36</td>\n",
              "      <td>0.66</td>\n",
              "      <td>0.22222</td>\n",
              "      <td>0</td>\n",
              "      <td>0</td>\n",
              "      <td>1</td>\n",
              "    </tr>\n",
              "    <tr>\n",
              "      <th>2</th>\n",
              "      <td>1</td>\n",
              "      <td>4</td>\n",
              "      <td>0.759</td>\n",
              "      <td>0.277</td>\n",
              "      <td>5.0146</td>\n",
              "      <td>-40.553</td>\n",
              "      <td>34.4480</td>\n",
              "      <td>-32.486</td>\n",
              "      <td>30.519</td>\n",
              "      <td>0.91959</td>\n",
              "      <td>2</td>\n",
              "      <td>0.26751</td>\n",
              "      <td>2</td>\n",
              "      <td>36.830</td>\n",
              "      <td>78.611</td>\n",
              "      <td>188.46</td>\n",
              "      <td>-2217.900</td>\n",
              "      <td>1548.70</td>\n",
              "      <td>2539.3</td>\n",
              "      <td>197.020</td>\n",
              "      <td>-2.7546</td>\n",
              "      <td>-2.294100e+00</td>\n",
              "      <td>-1.119900</td>\n",
              "      <td>8.880000e-17</td>\n",
              "      <td>0.51158</td>\n",
              "      <td>31.574</td>\n",
              "      <td>0.96657</td>\n",
              "      <td>113.990</td>\n",
              "      <td>1965.30</td>\n",
              "      <td>0.65</td>\n",
              "      <td>0.22222</td>\n",
              "      <td>0</td>\n",
              "      <td>0</td>\n",
              "      <td>1</td>\n",
              "    </tr>\n",
              "    <tr>\n",
              "      <th>3</th>\n",
              "      <td>1</td>\n",
              "      <td>4</td>\n",
              "      <td>1.143</td>\n",
              "      <td>0.250</td>\n",
              "      <td>3.5974</td>\n",
              "      <td>-37.391</td>\n",
              "      <td>34.5570</td>\n",
              "      <td>-30.415</td>\n",
              "      <td>31.736</td>\n",
              "      <td>0.96025</td>\n",
              "      <td>2</td>\n",
              "      <td>0.22165</td>\n",
              "      <td>2</td>\n",
              "      <td>26.554</td>\n",
              "      <td>168.690</td>\n",
              "      <td>239.42</td>\n",
              "      <td>-2601.800</td>\n",
              "      <td>-1169.10</td>\n",
              "      <td>8637.7</td>\n",
              "      <td>114.770</td>\n",
              "      <td>-1.4514</td>\n",
              "      <td>-1.050000e+00</td>\n",
              "      <td>-0.492790</td>\n",
              "      <td>0.000000e+00</td>\n",
              "      <td>0.25501</td>\n",
              "      <td>32.084</td>\n",
              "      <td>0.98916</td>\n",
              "      <td>128.340</td>\n",
              "      <td>-788.47</td>\n",
              "      <td>0.77</td>\n",
              "      <td>0.24444</td>\n",
              "      <td>0</td>\n",
              "      <td>0</td>\n",
              "      <td>1</td>\n",
              "    </tr>\n",
              "    <tr>\n",
              "      <th>4</th>\n",
              "      <td>1</td>\n",
              "      <td>4</td>\n",
              "      <td>0.528</td>\n",
              "      <td>0.261</td>\n",
              "      <td>31.0690</td>\n",
              "      <td>-29.215</td>\n",
              "      <td>3.8155</td>\n",
              "      <td>-38.045</td>\n",
              "      <td>28.648</td>\n",
              "      <td>0.62760</td>\n",
              "      <td>4</td>\n",
              "      <td>-2.82830</td>\n",
              "      <td>2</td>\n",
              "      <td>34.637</td>\n",
              "      <td>85.099</td>\n",
              "      <td>228.20</td>\n",
              "      <td>-4750.100</td>\n",
              "      <td>-889.77</td>\n",
              "      <td>8633.5</td>\n",
              "      <td>33.615</td>\n",
              "      <td>4.9177</td>\n",
              "      <td>2.137200e-01</td>\n",
              "      <td>2.240700</td>\n",
              "      <td>3.798200e+00</td>\n",
              "      <td>-2.34940</td>\n",
              "      <td>32.598</td>\n",
              "      <td>0.87881</td>\n",
              "      <td>124.900</td>\n",
              "      <td>1384.20</td>\n",
              "      <td>0.70</td>\n",
              "      <td>0.28889</td>\n",
              "      <td>0</td>\n",
              "      <td>0</td>\n",
              "      <td>1</td>\n",
              "    </tr>\n",
              "  </tbody>\n",
              "</table>\n",
              "</div>"
            ],
            "text/plain": [
              "   User_ID  Doc_ID  ...  Change of finger orientation  Phone orientation\n",
              "0        1       4  ...                             0                  1\n",
              "1        1       4  ...                             0                  1\n",
              "2        1       4  ...                             0                  1\n",
              "3        1       4  ...                             0                  1\n",
              "4        1       4  ...                             0                  1\n",
              "\n",
              "[5 rows x 34 columns]"
            ]
          },
          "metadata": {
            "tags": []
          },
          "execution_count": 787
        }
      ]
    },
    {
      "cell_type": "code",
      "metadata": {
        "id": "CZ-ukd0s9r_R",
        "colab": {
          "base_uri": "https://localhost:8080/",
          "height": 292
        },
        "outputId": "1482e9d5-955d-4834-8517-985d6ca1f119"
      },
      "source": [
        "\n",
        "\n",
        "\n",
        "# Removes rows with NaN in them\n",
        "filtered_data = raw_data[~np.isnan(raw_data)] \n",
        "\n",
        "# how to clean up data?\n",
        "\n",
        "x_y = np.array(filtered_data)\n",
        "x, y = x_y[:,0], x_y[:,1]\n",
        "\n",
        "# Reshaping\n",
        "x, y = x.reshape(-1,1), y.reshape(-1, 1)\n",
        "\n",
        "filtered_data.head()\n",
        "\n"
      ],
      "execution_count": 788,
      "outputs": [
        {
          "output_type": "execute_result",
          "data": {
            "text/html": [
              "<div>\n",
              "<style scoped>\n",
              "    .dataframe tbody tr th:only-of-type {\n",
              "        vertical-align: middle;\n",
              "    }\n",
              "\n",
              "    .dataframe tbody tr th {\n",
              "        vertical-align: top;\n",
              "    }\n",
              "\n",
              "    .dataframe thead th {\n",
              "        text-align: right;\n",
              "    }\n",
              "</style>\n",
              "<table border=\"1\" class=\"dataframe\">\n",
              "  <thead>\n",
              "    <tr style=\"text-align: right;\">\n",
              "      <th></th>\n",
              "      <th>User_ID</th>\n",
              "      <th>Doc_ID</th>\n",
              "      <th>Inter-Stroke time</th>\n",
              "      <th>Stroke Duration</th>\n",
              "      <th>Start X</th>\n",
              "      <th>Start Y</th>\n",
              "      <th>Stop X</th>\n",
              "      <th>Stop Y</th>\n",
              "      <th>Direct end-to-end Distance</th>\n",
              "      <th>Mean resulant length</th>\n",
              "      <th>WSAD Flag</th>\n",
              "      <th>Direction of end-to-end Time</th>\n",
              "      <th>Phone_ID</th>\n",
              "      <th>20 per pairwise velocity</th>\n",
              "      <th>50 per pairwise velocity</th>\n",
              "      <th>80 per pairwise velocity</th>\n",
              "      <th>20 per pairwise acc</th>\n",
              "      <th>50 per pairwise acc</th>\n",
              "      <th>80 per pairwise acc</th>\n",
              "      <th>Median velocity at last 3pts</th>\n",
              "      <th>Largest deviation from end-to-end line</th>\n",
              "      <th>20 per dev line</th>\n",
              "      <th>50 per dev line</th>\n",
              "      <th>80 per dev line</th>\n",
              "      <th>Average Direction</th>\n",
              "      <th>Length of Trajectory</th>\n",
              "      <th>Ratio dist and length of trajectory</th>\n",
              "      <th>Average velocity</th>\n",
              "      <th>Median acceleration at first 5 pts</th>\n",
              "      <th>Mid-Stroke pressure</th>\n",
              "      <th>Mid-Stroke area covered</th>\n",
              "      <th>Mid-Stroke finger orientation</th>\n",
              "      <th>Change of finger orientation</th>\n",
              "      <th>Phone orientation</th>\n",
              "    </tr>\n",
              "  </thead>\n",
              "  <tbody>\n",
              "    <tr>\n",
              "      <th>0</th>\n",
              "      <td>1</td>\n",
              "      <td>4</td>\n",
              "      <td>0.913</td>\n",
              "      <td>0.320</td>\n",
              "      <td>27.7980</td>\n",
              "      <td>-35.647</td>\n",
              "      <td>5.8867</td>\n",
              "      <td>-36.737</td>\n",
              "      <td>21.939</td>\n",
              "      <td>0.83553</td>\n",
              "      <td>4</td>\n",
              "      <td>-3.09190</td>\n",
              "      <td>2</td>\n",
              "      <td>14.450</td>\n",
              "      <td>72.675</td>\n",
              "      <td>133.45</td>\n",
              "      <td>-12.047</td>\n",
              "      <td>497.89</td>\n",
              "      <td>1902.9</td>\n",
              "      <td>139.310</td>\n",
              "      <td>1.5963</td>\n",
              "      <td>-1.550000e-16</td>\n",
              "      <td>0.043064</td>\n",
              "      <td>1.135900e+00</td>\n",
              "      <td>-3.07500</td>\n",
              "      <td>22.310</td>\n",
              "      <td>0.98337</td>\n",
              "      <td>69.718</td>\n",
              "      <td>456.16</td>\n",
              "      <td>0.64</td>\n",
              "      <td>0.17778</td>\n",
              "      <td>0</td>\n",
              "      <td>0</td>\n",
              "      <td>1</td>\n",
              "    </tr>\n",
              "    <tr>\n",
              "      <th>1</th>\n",
              "      <td>1</td>\n",
              "      <td>4</td>\n",
              "      <td>10.818</td>\n",
              "      <td>0.172</td>\n",
              "      <td>27.5800</td>\n",
              "      <td>-31.069</td>\n",
              "      <td>4.5785</td>\n",
              "      <td>-36.737</td>\n",
              "      <td>23.690</td>\n",
              "      <td>0.77926</td>\n",
              "      <td>4</td>\n",
              "      <td>-2.90000</td>\n",
              "      <td>2</td>\n",
              "      <td>115.810</td>\n",
              "      <td>178.320</td>\n",
              "      <td>425.83</td>\n",
              "      <td>-26537.000</td>\n",
              "      <td>-1302.30</td>\n",
              "      <td>203310.0</td>\n",
              "      <td>113.500</td>\n",
              "      <td>2.5032</td>\n",
              "      <td>0.000000e+00</td>\n",
              "      <td>1.392300</td>\n",
              "      <td>2.028100e+00</td>\n",
              "      <td>-2.83590</td>\n",
              "      <td>24.629</td>\n",
              "      <td>0.96188</td>\n",
              "      <td>143.190</td>\n",
              "      <td>747.36</td>\n",
              "      <td>0.66</td>\n",
              "      <td>0.22222</td>\n",
              "      <td>0</td>\n",
              "      <td>0</td>\n",
              "      <td>1</td>\n",
              "    </tr>\n",
              "    <tr>\n",
              "      <th>2</th>\n",
              "      <td>1</td>\n",
              "      <td>4</td>\n",
              "      <td>0.759</td>\n",
              "      <td>0.277</td>\n",
              "      <td>5.0146</td>\n",
              "      <td>-40.553</td>\n",
              "      <td>34.4480</td>\n",
              "      <td>-32.486</td>\n",
              "      <td>30.519</td>\n",
              "      <td>0.91959</td>\n",
              "      <td>2</td>\n",
              "      <td>0.26751</td>\n",
              "      <td>2</td>\n",
              "      <td>36.830</td>\n",
              "      <td>78.611</td>\n",
              "      <td>188.46</td>\n",
              "      <td>-2217.900</td>\n",
              "      <td>1548.70</td>\n",
              "      <td>2539.3</td>\n",
              "      <td>197.020</td>\n",
              "      <td>-2.7546</td>\n",
              "      <td>-2.294100e+00</td>\n",
              "      <td>-1.119900</td>\n",
              "      <td>8.880000e-17</td>\n",
              "      <td>0.51158</td>\n",
              "      <td>31.574</td>\n",
              "      <td>0.96657</td>\n",
              "      <td>113.990</td>\n",
              "      <td>1965.30</td>\n",
              "      <td>0.65</td>\n",
              "      <td>0.22222</td>\n",
              "      <td>0</td>\n",
              "      <td>0</td>\n",
              "      <td>1</td>\n",
              "    </tr>\n",
              "    <tr>\n",
              "      <th>3</th>\n",
              "      <td>1</td>\n",
              "      <td>4</td>\n",
              "      <td>1.143</td>\n",
              "      <td>0.250</td>\n",
              "      <td>3.5974</td>\n",
              "      <td>-37.391</td>\n",
              "      <td>34.5570</td>\n",
              "      <td>-30.415</td>\n",
              "      <td>31.736</td>\n",
              "      <td>0.96025</td>\n",
              "      <td>2</td>\n",
              "      <td>0.22165</td>\n",
              "      <td>2</td>\n",
              "      <td>26.554</td>\n",
              "      <td>168.690</td>\n",
              "      <td>239.42</td>\n",
              "      <td>-2601.800</td>\n",
              "      <td>-1169.10</td>\n",
              "      <td>8637.7</td>\n",
              "      <td>114.770</td>\n",
              "      <td>-1.4514</td>\n",
              "      <td>-1.050000e+00</td>\n",
              "      <td>-0.492790</td>\n",
              "      <td>0.000000e+00</td>\n",
              "      <td>0.25501</td>\n",
              "      <td>32.084</td>\n",
              "      <td>0.98916</td>\n",
              "      <td>128.340</td>\n",
              "      <td>-788.47</td>\n",
              "      <td>0.77</td>\n",
              "      <td>0.24444</td>\n",
              "      <td>0</td>\n",
              "      <td>0</td>\n",
              "      <td>1</td>\n",
              "    </tr>\n",
              "    <tr>\n",
              "      <th>4</th>\n",
              "      <td>1</td>\n",
              "      <td>4</td>\n",
              "      <td>0.528</td>\n",
              "      <td>0.261</td>\n",
              "      <td>31.0690</td>\n",
              "      <td>-29.215</td>\n",
              "      <td>3.8155</td>\n",
              "      <td>-38.045</td>\n",
              "      <td>28.648</td>\n",
              "      <td>0.62760</td>\n",
              "      <td>4</td>\n",
              "      <td>-2.82830</td>\n",
              "      <td>2</td>\n",
              "      <td>34.637</td>\n",
              "      <td>85.099</td>\n",
              "      <td>228.20</td>\n",
              "      <td>-4750.100</td>\n",
              "      <td>-889.77</td>\n",
              "      <td>8633.5</td>\n",
              "      <td>33.615</td>\n",
              "      <td>4.9177</td>\n",
              "      <td>2.137200e-01</td>\n",
              "      <td>2.240700</td>\n",
              "      <td>3.798200e+00</td>\n",
              "      <td>-2.34940</td>\n",
              "      <td>32.598</td>\n",
              "      <td>0.87881</td>\n",
              "      <td>124.900</td>\n",
              "      <td>1384.20</td>\n",
              "      <td>0.70</td>\n",
              "      <td>0.28889</td>\n",
              "      <td>0</td>\n",
              "      <td>0</td>\n",
              "      <td>1</td>\n",
              "    </tr>\n",
              "  </tbody>\n",
              "</table>\n",
              "</div>"
            ],
            "text/plain": [
              "   User_ID  Doc_ID  ...  Change of finger orientation  Phone orientation\n",
              "0        1       4  ...                             0                  1\n",
              "1        1       4  ...                             0                  1\n",
              "2        1       4  ...                             0                  1\n",
              "3        1       4  ...                             0                  1\n",
              "4        1       4  ...                             0                  1\n",
              "\n",
              "[5 rows x 34 columns]"
            ]
          },
          "metadata": {
            "tags": []
          },
          "execution_count": 788
        }
      ]
    },
    {
      "cell_type": "code",
      "metadata": {
        "id": "r3-R9fDV-J_L",
        "colab": {
          "base_uri": "https://localhost:8080/",
          "height": 282
        },
        "outputId": "4a36ce3d-3c37-4564-fb8a-dea6dcc9016f"
      },
      "source": [
        "# Linear Regression Object \n",
        "lin_regression = LinearRegression()\n",
        "\n",
        "# Fitting linear model to the data\n",
        "lin_regression.fit(x,y)\n",
        "\n",
        "# Get slope of fitted line\n",
        "m = lin_regression.coef_\n",
        "\n",
        "# Get y-Intercept of the Line\n",
        "b = lin_regression.intercept_\n",
        "\n",
        "# Get Predictions for original x values\n",
        "# you can also get predictions for new data\n",
        "predictions = lin_regression.predict(x)\n",
        "\n",
        "# following slope intercept form \n",
        "print ( \"formula: y = {0}x + {1}\".format(m, b) )\n",
        "\n",
        "# Plot the Original Model (Black) and Predictions (Blue)\n",
        "plt.scatter(x, y,  color='black')\n",
        "plt.plot(x, predictions, color='blue',linewidth=3)\n",
        "plt.show()"
      ],
      "execution_count": 789,
      "outputs": [
        {
          "output_type": "stream",
          "text": [
            "formula: y = [[0.69326683]]x + [2.21446384]\n"
          ],
          "name": "stdout"
        },
        {
          "output_type": "display_data",
          "data": {
            "image/png": "[encoded data removed]",
            "text/plain": [
              "<Figure size 432x288 with 1 Axes>"
            ]
          },
          "metadata": {
            "tags": []
          }
        }
      ]
    },
    {
      "cell_type": "code",
      "metadata": {
        "id": "vpuTy24tA9VT",
        "colab": {
          "base_uri": "https://localhost:8080/",
          "height": 292
        },
        "outputId": "947894fc-1589-4e73-ab5d-8852ca590607"
      },
      "source": [
        "#df = pd.read_csv(url, names=['sepal length','sepal width','petal length','petal width','target'])\n",
        "#train = pd.read_csv(r\"featMatVersion0.csv\")\n",
        "#This is the unedited file from Eddie\n",
        "\n",
        "#df = pd.read_csv(r\"featMatVersion1.csv\")\n",
        "\n",
        "#df = pd.read_csv(r\"featMatVersion2.csv\")\n",
        "\n",
        "\n",
        "#/content/featMatVersion2.csv\n",
        "\n",
        "#df = pd.read_csv(r\"featMatVersion3.csv\")\n",
        "\n",
        "#df = pd.read_csv(r\"featMatVersion4.csv\")\n",
        "#Same as original but no comunns 2 and 13\n",
        "\n",
        "\n",
        "#df = pd.read_csv(r\"featMatVersion5.csv\")\n",
        "#Same as version1 but no comunns 2 and 13\n",
        "\n",
        "\n",
        "#df = pd.read_csv(r\"featMatVersion6.csv\")\n",
        "#Same as version2 but no comunns 2 and 13\n",
        "\n",
        "#df = pd.read_csv(r\"featMatVersion7.csv\")\n",
        "\n",
        "\n",
        "df = pd.read_csv(r\"featMatVersion8.csv\")\n",
        "#Same as version0 but only 2 users\n",
        "#has only 2 users\n",
        "\n",
        "\n",
        "\n",
        "#df = pd.read_csv(r\"featMatVersion7.csv\",names=['User_ID', 'Inter-Stroke time', 'Stroke Duration', 'Start X', 'Start Y',\n",
        " #      'Stop X', 'Stop Y', 'Direct end-to-end Distance',\n",
        "  #     'Mean resulant length', 'WSAD Flag', 'Direction of end-to-end Time',\n",
        "   #    '20 per pairwise velocity', '50 per pairwise velocity',\n",
        "    #   '80 per pairwise velocity', '20 per pairwise acc',\n",
        "     #  '50 per pairwise acc', '80 per pairwise acc',\n",
        "      # 'Median velocity at last 3pts',\n",
        "       #'Largest deviation from end-to-end line', '20 per dev line',\n",
        "       #'50 per dev line', '80 per dev line', 'Average Direction',\n",
        "       #'Length of Trajectory', 'Ratio dist and length of trajectory',\n",
        "       #'Average velocity', 'Median acceleration at first 5 pts',\n",
        "       #'Mid-Stroke pressure', 'Mid-Stroke area covered',\n",
        "       #'Mid-Stroke finger orientation', 'Change of finger orientation',\n",
        "       #'Phone orientation'] )\n",
        "#Same as version3 but no comunns 2 and 13\n",
        "\n",
        "\n",
        "df.head()\n"
      ],
      "execution_count": 790,
      "outputs": [
        {
          "output_type": "execute_result",
          "data": {
            "text/html": [
              "<div>\n",
              "<style scoped>\n",
              "    .dataframe tbody tr th:only-of-type {\n",
              "        vertical-align: middle;\n",
              "    }\n",
              "\n",
              "    .dataframe tbody tr th {\n",
              "        vertical-align: top;\n",
              "    }\n",
              "\n",
              "    .dataframe thead th {\n",
              "        text-align: right;\n",
              "    }\n",
              "</style>\n",
              "<table border=\"1\" class=\"dataframe\">\n",
              "  <thead>\n",
              "    <tr style=\"text-align: right;\">\n",
              "      <th></th>\n",
              "      <th>User_ID</th>\n",
              "      <th>Doc_ID</th>\n",
              "      <th>Inter-Stroke time</th>\n",
              "      <th>Stroke Duration</th>\n",
              "      <th>Start X</th>\n",
              "      <th>Start Y</th>\n",
              "      <th>Stop X</th>\n",
              "      <th>Stop Y</th>\n",
              "      <th>Direct end-to-end Distance</th>\n",
              "      <th>Mean resulant length</th>\n",
              "      <th>WSAD Flag</th>\n",
              "      <th>Direction of end-to-end Time</th>\n",
              "      <th>Phone_ID</th>\n",
              "      <th>20 per pairwise velocity</th>\n",
              "      <th>50 per pairwise velocity</th>\n",
              "      <th>80 per pairwise velocity</th>\n",
              "      <th>20 per pairwise acc</th>\n",
              "      <th>50 per pairwise acc</th>\n",
              "      <th>80 per pairwise acc</th>\n",
              "      <th>Median velocity at last 3pts</th>\n",
              "      <th>Largest deviation from end-to-end line</th>\n",
              "      <th>20 per dev line</th>\n",
              "      <th>50 per dev line</th>\n",
              "      <th>80 per dev line</th>\n",
              "      <th>Average Direction</th>\n",
              "      <th>Length of Trajectory</th>\n",
              "      <th>Ratio dist and length of trajectory</th>\n",
              "      <th>Average velocity</th>\n",
              "      <th>Median acceleration at first 5 pts</th>\n",
              "      <th>Mid-Stroke pressure</th>\n",
              "      <th>Mid-Stroke area covered</th>\n",
              "      <th>Mid-Stroke finger orientation</th>\n",
              "      <th>Change of finger orientation</th>\n",
              "      <th>Phone orientation</th>\n",
              "    </tr>\n",
              "  </thead>\n",
              "  <tbody>\n",
              "    <tr>\n",
              "      <th>0</th>\n",
              "      <td>1</td>\n",
              "      <td>4</td>\n",
              "      <td>0.913</td>\n",
              "      <td>0.320</td>\n",
              "      <td>27.7980</td>\n",
              "      <td>-35.647</td>\n",
              "      <td>5.8867</td>\n",
              "      <td>-36.737</td>\n",
              "      <td>21.939</td>\n",
              "      <td>0.83553</td>\n",
              "      <td>4</td>\n",
              "      <td>-3.09190</td>\n",
              "      <td>2</td>\n",
              "      <td>14.450</td>\n",
              "      <td>72.675</td>\n",
              "      <td>133.45</td>\n",
              "      <td>-12.047</td>\n",
              "      <td>497.89</td>\n",
              "      <td>1902.9</td>\n",
              "      <td>139.310</td>\n",
              "      <td>1.5963</td>\n",
              "      <td>-1.550000e-16</td>\n",
              "      <td>0.043064</td>\n",
              "      <td>1.135900e+00</td>\n",
              "      <td>-3.07500</td>\n",
              "      <td>22.310</td>\n",
              "      <td>0.98337</td>\n",
              "      <td>69.718</td>\n",
              "      <td>456.16</td>\n",
              "      <td>0.64</td>\n",
              "      <td>0.17778</td>\n",
              "      <td>0</td>\n",
              "      <td>0</td>\n",
              "      <td>1</td>\n",
              "    </tr>\n",
              "    <tr>\n",
              "      <th>1</th>\n",
              "      <td>1</td>\n",
              "      <td>4</td>\n",
              "      <td>10.818</td>\n",
              "      <td>0.172</td>\n",
              "      <td>27.5800</td>\n",
              "      <td>-31.069</td>\n",
              "      <td>4.5785</td>\n",
              "      <td>-36.737</td>\n",
              "      <td>23.690</td>\n",
              "      <td>0.77926</td>\n",
              "      <td>4</td>\n",
              "      <td>-2.90000</td>\n",
              "      <td>2</td>\n",
              "      <td>115.810</td>\n",
              "      <td>178.320</td>\n",
              "      <td>425.83</td>\n",
              "      <td>-26537.000</td>\n",
              "      <td>-1302.30</td>\n",
              "      <td>203310.0</td>\n",
              "      <td>113.500</td>\n",
              "      <td>2.5032</td>\n",
              "      <td>0.000000e+00</td>\n",
              "      <td>1.392300</td>\n",
              "      <td>2.028100e+00</td>\n",
              "      <td>-2.83590</td>\n",
              "      <td>24.629</td>\n",
              "      <td>0.96188</td>\n",
              "      <td>143.190</td>\n",
              "      <td>747.36</td>\n",
              "      <td>0.66</td>\n",
              "      <td>0.22222</td>\n",
              "      <td>0</td>\n",
              "      <td>0</td>\n",
              "      <td>1</td>\n",
              "    </tr>\n",
              "    <tr>\n",
              "      <th>2</th>\n",
              "      <td>1</td>\n",
              "      <td>4</td>\n",
              "      <td>0.759</td>\n",
              "      <td>0.277</td>\n",
              "      <td>5.0146</td>\n",
              "      <td>-40.553</td>\n",
              "      <td>34.4480</td>\n",
              "      <td>-32.486</td>\n",
              "      <td>30.519</td>\n",
              "      <td>0.91959</td>\n",
              "      <td>2</td>\n",
              "      <td>0.26751</td>\n",
              "      <td>2</td>\n",
              "      <td>36.830</td>\n",
              "      <td>78.611</td>\n",
              "      <td>188.46</td>\n",
              "      <td>-2217.900</td>\n",
              "      <td>1548.70</td>\n",
              "      <td>2539.3</td>\n",
              "      <td>197.020</td>\n",
              "      <td>-2.7546</td>\n",
              "      <td>-2.294100e+00</td>\n",
              "      <td>-1.119900</td>\n",
              "      <td>8.880000e-17</td>\n",
              "      <td>0.51158</td>\n",
              "      <td>31.574</td>\n",
              "      <td>0.96657</td>\n",
              "      <td>113.990</td>\n",
              "      <td>1965.30</td>\n",
              "      <td>0.65</td>\n",
              "      <td>0.22222</td>\n",
              "      <td>0</td>\n",
              "      <td>0</td>\n",
              "      <td>1</td>\n",
              "    </tr>\n",
              "    <tr>\n",
              "      <th>3</th>\n",
              "      <td>1</td>\n",
              "      <td>4</td>\n",
              "      <td>1.143</td>\n",
              "      <td>0.250</td>\n",
              "      <td>3.5974</td>\n",
              "      <td>-37.391</td>\n",
              "      <td>34.5570</td>\n",
              "      <td>-30.415</td>\n",
              "      <td>31.736</td>\n",
              "      <td>0.96025</td>\n",
              "      <td>2</td>\n",
              "      <td>0.22165</td>\n",
              "      <td>2</td>\n",
              "      <td>26.554</td>\n",
              "      <td>168.690</td>\n",
              "      <td>239.42</td>\n",
              "      <td>-2601.800</td>\n",
              "      <td>-1169.10</td>\n",
              "      <td>8637.7</td>\n",
              "      <td>114.770</td>\n",
              "      <td>-1.4514</td>\n",
              "      <td>-1.050000e+00</td>\n",
              "      <td>-0.492790</td>\n",
              "      <td>0.000000e+00</td>\n",
              "      <td>0.25501</td>\n",
              "      <td>32.084</td>\n",
              "      <td>0.98916</td>\n",
              "      <td>128.340</td>\n",
              "      <td>-788.47</td>\n",
              "      <td>0.77</td>\n",
              "      <td>0.24444</td>\n",
              "      <td>0</td>\n",
              "      <td>0</td>\n",
              "      <td>1</td>\n",
              "    </tr>\n",
              "    <tr>\n",
              "      <th>4</th>\n",
              "      <td>1</td>\n",
              "      <td>4</td>\n",
              "      <td>0.528</td>\n",
              "      <td>0.261</td>\n",
              "      <td>31.0690</td>\n",
              "      <td>-29.215</td>\n",
              "      <td>3.8155</td>\n",
              "      <td>-38.045</td>\n",
              "      <td>28.648</td>\n",
              "      <td>0.62760</td>\n",
              "      <td>4</td>\n",
              "      <td>-2.82830</td>\n",
              "      <td>2</td>\n",
              "      <td>34.637</td>\n",
              "      <td>85.099</td>\n",
              "      <td>228.20</td>\n",
              "      <td>-4750.100</td>\n",
              "      <td>-889.77</td>\n",
              "      <td>8633.5</td>\n",
              "      <td>33.615</td>\n",
              "      <td>4.9177</td>\n",
              "      <td>2.137200e-01</td>\n",
              "      <td>2.240700</td>\n",
              "      <td>3.798200e+00</td>\n",
              "      <td>-2.34940</td>\n",
              "      <td>32.598</td>\n",
              "      <td>0.87881</td>\n",
              "      <td>124.900</td>\n",
              "      <td>1384.20</td>\n",
              "      <td>0.70</td>\n",
              "      <td>0.28889</td>\n",
              "      <td>0</td>\n",
              "      <td>0</td>\n",
              "      <td>1</td>\n",
              "    </tr>\n",
              "  </tbody>\n",
              "</table>\n",
              "</div>"
            ],
            "text/plain": [
              "   User_ID  Doc_ID  ...  Change of finger orientation  Phone orientation\n",
              "0        1       4  ...                             0                  1\n",
              "1        1       4  ...                             0                  1\n",
              "2        1       4  ...                             0                  1\n",
              "3        1       4  ...                             0                  1\n",
              "4        1       4  ...                             0                  1\n",
              "\n",
              "[5 rows x 34 columns]"
            ]
          },
          "metadata": {
            "tags": []
          },
          "execution_count": 790
        }
      ]
    },
    {
      "cell_type": "code",
      "metadata": {
        "id": "4dr1ExyJAuFY"
      },
      "source": [
        "\n",
        "\n",
        "features=[ 'Inter-Stroke time', 'Stroke Duration', 'Start X', 'Start Y',\n",
        "       'Stop X', 'Stop Y', 'Direct end-to-end Distance',\n",
        "       'Mean resulant length', 'WSAD Flag', 'Direction of end-to-end Time',\n",
        "       '20 per pairwise velocity', '50 per pairwise velocity',\n",
        "       '80 per pairwise velocity', '20 per pairwise acc',\n",
        "       '50 per pairwise acc', '80 per pairwise acc',\n",
        "       'Median velocity at last 3pts',\n",
        "       'Largest deviation from end-to-end line', '20 per dev line',\n",
        "       '50 per dev line', '80 per dev line', 'Average Direction',\n",
        "       'Length of Trajectory', 'Ratio dist and length of trajectory',\n",
        "       'Average velocity', 'Median acceleration at first 5 pts',\n",
        "       'Mid-Stroke pressure', 'Mid-Stroke area covered',\n",
        "       'Mid-Stroke finger orientation', 'Change of finger orientation',\n",
        "       'Phone orientation']\n",
        "\n"
      ],
      "execution_count": 791,
      "outputs": []
    },
    {
      "cell_type": "code",
      "metadata": {
        "id": "OqeNut1lCiAf"
      },
      "source": [
        "\n",
        "# Separating out the features\n",
        "x = df.loc[:, features].values\n",
        "# Separating out the target\n",
        "y = df.loc[:,['User_ID']].values\n",
        "# Standardizing the features\n",
        "x = StandardScaler().fit_transform(x)\n",
        "\n"
      ],
      "execution_count": 792,
      "outputs": []
    },
    {
      "cell_type": "code",
      "metadata": {
        "id": "TIHqgPNEGDXC",
        "colab": {
          "base_uri": "https://localhost:8080/",
          "height": 204
        },
        "outputId": "2692c182-6ab0-4348-87d5-720463fa8605"
      },
      "source": [
        "pca = PCA(n_components=2)\n",
        "principalComponents = pca.fit_transform(x)\n",
        "# a way to loop and make column names?\n",
        "\n",
        "principalDf = pd.DataFrame(data = principalComponents\n",
        "             , columns = ['principal component 1', 'principal component 2'])\n",
        "\n",
        "principalDf.head()"
      ],
      "execution_count": 793,
      "outputs": [
        {
          "output_type": "execute_result",
          "data": {
            "text/html": [
              "<div>\n",
              "<style scoped>\n",
              "    .dataframe tbody tr th:only-of-type {\n",
              "        vertical-align: middle;\n",
              "    }\n",
              "\n",
              "    .dataframe tbody tr th {\n",
              "        vertical-align: top;\n",
              "    }\n",
              "\n",
              "    .dataframe thead th {\n",
              "        text-align: right;\n",
              "    }\n",
              "</style>\n",
              "<table border=\"1\" class=\"dataframe\">\n",
              "  <thead>\n",
              "    <tr style=\"text-align: right;\">\n",
              "      <th></th>\n",
              "      <th>principal component 1</th>\n",
              "      <th>principal component 2</th>\n",
              "    </tr>\n",
              "  </thead>\n",
              "  <tbody>\n",
              "    <tr>\n",
              "      <th>0</th>\n",
              "      <td>3.444470</td>\n",
              "      <td>1.011339</td>\n",
              "    </tr>\n",
              "    <tr>\n",
              "      <th>1</th>\n",
              "      <td>6.104657</td>\n",
              "      <td>1.837333</td>\n",
              "    </tr>\n",
              "    <tr>\n",
              "      <th>2</th>\n",
              "      <td>2.992949</td>\n",
              "      <td>-3.957357</td>\n",
              "    </tr>\n",
              "    <tr>\n",
              "      <th>3</th>\n",
              "      <td>3.382927</td>\n",
              "      <td>-3.275446</td>\n",
              "    </tr>\n",
              "    <tr>\n",
              "      <th>4</th>\n",
              "      <td>4.900001</td>\n",
              "      <td>2.805449</td>\n",
              "    </tr>\n",
              "  </tbody>\n",
              "</table>\n",
              "</div>"
            ],
            "text/plain": [
              "   principal component 1  principal component 2\n",
              "0               3.444470               1.011339\n",
              "1               6.104657               1.837333\n",
              "2               2.992949              -3.957357\n",
              "3               3.382927              -3.275446\n",
              "4               4.900001               2.805449"
            ]
          },
          "metadata": {
            "tags": []
          },
          "execution_count": 793
        }
      ]
    },
    {
      "cell_type": "code",
      "metadata": {
        "id": "49ojIcOKGR0L",
        "colab": {
          "base_uri": "https://localhost:8080/",
          "height": 204
        },
        "outputId": "c4d3d47b-0fc1-4a08-cec5-7f650c94b541"
      },
      "source": [
        "finalDf = pd.concat([principalDf, df[['User_ID']]], axis = 1)\n",
        "\n",
        "finalDf.head()\n"
      ],
      "execution_count": 794,
      "outputs": [
        {
          "output_type": "execute_result",
          "data": {
            "text/html": [
              "<div>\n",
              "<style scoped>\n",
              "    .dataframe tbody tr th:only-of-type {\n",
              "        vertical-align: middle;\n",
              "    }\n",
              "\n",
              "    .dataframe tbody tr th {\n",
              "        vertical-align: top;\n",
              "    }\n",
              "\n",
              "    .dataframe thead th {\n",
              "        text-align: right;\n",
              "    }\n",
              "</style>\n",
              "<table border=\"1\" class=\"dataframe\">\n",
              "  <thead>\n",
              "    <tr style=\"text-align: right;\">\n",
              "      <th></th>\n",
              "      <th>principal component 1</th>\n",
              "      <th>principal component 2</th>\n",
              "      <th>User_ID</th>\n",
              "    </tr>\n",
              "  </thead>\n",
              "  <tbody>\n",
              "    <tr>\n",
              "      <th>0</th>\n",
              "      <td>3.444470</td>\n",
              "      <td>1.011339</td>\n",
              "      <td>1</td>\n",
              "    </tr>\n",
              "    <tr>\n",
              "      <th>1</th>\n",
              "      <td>6.104657</td>\n",
              "      <td>1.837333</td>\n",
              "      <td>1</td>\n",
              "    </tr>\n",
              "    <tr>\n",
              "      <th>2</th>\n",
              "      <td>2.992949</td>\n",
              "      <td>-3.957357</td>\n",
              "      <td>1</td>\n",
              "    </tr>\n",
              "    <tr>\n",
              "      <th>3</th>\n",
              "      <td>3.382927</td>\n",
              "      <td>-3.275446</td>\n",
              "      <td>1</td>\n",
              "    </tr>\n",
              "    <tr>\n",
              "      <th>4</th>\n",
              "      <td>4.900001</td>\n",
              "      <td>2.805449</td>\n",
              "      <td>1</td>\n",
              "    </tr>\n",
              "  </tbody>\n",
              "</table>\n",
              "</div>"
            ],
            "text/plain": [
              "   principal component 1  principal component 2  User_ID\n",
              "0               3.444470               1.011339        1\n",
              "1               6.104657               1.837333        1\n",
              "2               2.992949              -3.957357        1\n",
              "3               3.382927              -3.275446        1\n",
              "4               4.900001               2.805449        1"
            ]
          },
          "metadata": {
            "tags": []
          },
          "execution_count": 794
        }
      ]
    },
    {
      "cell_type": "code",
      "metadata": {
        "id": "qJCpOMvMGbZU",
        "colab": {
          "base_uri": "https://localhost:8080/",
          "height": 523
        },
        "outputId": "1b50c8cf-0a36-4de7-9629-9973caba4901"
      },
      "source": [
        "fig = plt.figure(figsize = (8,8))\n",
        "ax = fig.add_subplot(1,1,1) \n",
        "ax.set_xlabel('Principal Component 1', fontsize = 15)\n",
        "ax.set_ylabel('Principal Component 2', fontsize = 15)\n",
        "ax.set_title('2 component PCA', fontsize = 20)\n",
        "targets = [0, 1]\n",
        "colors = ['r', 'g']\n",
        "for target, color in zip(targets,colors):\n",
        "    indicesToKeep = finalDf['User_ID'] == target\n",
        "    ax.scatter(finalDf.loc[indicesToKeep, 'principal component 1']\n",
        "               , finalDf.loc[indicesToKeep, 'principal component 2']\n",
        "               , c = color\n",
        "               , s = 50)\n",
        "ax.legend(targets)\n",
        "ax.grid()\n",
        "\n",
        "#is not plotting anything?"
      ],
      "execution_count": 795,
      "outputs": [
        {
          "output_type": "display_data",
          "data": {
            "image/png": "[encoded data removed]",
            "text/plain": [
              "<Figure size 576x576 with 1 Axes>"
            ]
          },
          "metadata": {
            "tags": []
          }
        }
      ]
    },
    {
      "cell_type": "code",
      "metadata": {
        "id": "0jxN8JaUI8_7",
        "colab": {
          "base_uri": "https://localhost:8080/"
        },
        "outputId": "aaa261d9-fedd-4a69-bacf-d4b185c43871"
      },
      "source": [
        "pca.explained_variance_ratio_"
      ],
      "execution_count": 796,
      "outputs": [
        {
          "output_type": "execute_result",
          "data": {
            "text/plain": [
              "array([0.24338383, 0.16856221])"
            ]
          },
          "metadata": {
            "tags": []
          },
          "execution_count": 796
        }
      ]
    },
    {
      "cell_type": "code",
      "metadata": {
        "id": "T-uuuUVYA4iE",
        "colab": {
          "base_uri": "https://localhost:8080/"
        },
        "outputId": "09b2791a-8ef3-43f4-cc7c-aef7f629d24d"
      },
      "source": [
        "print (pca.components_)"
      ],
      "execution_count": 797,
      "outputs": [
        {
          "output_type": "stream",
          "text": [
            "[[-0.00709554 -0.12891924  0.12131469  0.07106331  0.08349405 -0.04016871\n",
            "   0.27639404  0.03657303  0.04709338 -0.28140126  0.29941039  0.33113042\n",
            "   0.28365449 -0.13035656  0.12682233  0.22185605  0.32192639  0.0724278\n",
            "  -0.03707816  0.0291123   0.12561234 -0.27142113  0.25642681  0.10329357\n",
            "   0.34449379  0.13183522  0.10838104  0.09492781  0.          0.\n",
            "   0.        ]\n",
            " [ 0.01314972 -0.14461077 -0.19318982 -0.23776544 -0.32416609 -0.31266848\n",
            "  -0.13776101 -0.08637641  0.11271516 -0.12446044  0.00133874  0.01061055\n",
            "   0.02839453 -0.0479525   0.00827865  0.0243596   0.00195855  0.35118161\n",
            "   0.34456478  0.34526294  0.29711132 -0.12677031 -0.15772628  0.02183486\n",
            "   0.01905792  0.01110231 -0.27025915 -0.24332773  0.          0.\n",
            "   0.        ]]\n"
          ],
          "name": "stdout"
        }
      ]
    },
    {
      "cell_type": "code",
      "metadata": {
        "id": "joadxTiIBF9b"
      },
      "source": [
        "pca2 = PCA(.95)"
      ],
      "execution_count": 798,
      "outputs": []
    },
    {
      "cell_type": "code",
      "metadata": {
        "id": "c73RtdHNBy3h",
        "colab": {
          "base_uri": "https://localhost:8080/"
        },
        "outputId": "a694657d-c567-416c-b50f-7cae842d65ad"
      },
      "source": [
        "pca2.fit(X_train)"
      ],
      "execution_count": 799,
      "outputs": [
        {
          "output_type": "execute_result",
          "data": {
            "text/plain": [
              "PCA(copy=True, iterated_power='auto', n_components=0.95, random_state=None,\n",
              "    svd_solver='auto', tol=0.0, whiten=False)"
            ]
          },
          "metadata": {
            "tags": []
          },
          "execution_count": 799
        }
      ]
    },
    {
      "cell_type": "code",
      "metadata": {
        "id": "HJsLz70bCaie"
      },
      "source": [
        "X_train = pca2.transform(X_train)\n",
        "X_test = pca2.transform(X_test)"
      ],
      "execution_count": 800,
      "outputs": []
    },
    {
      "cell_type": "code",
      "metadata": {
        "id": "pwfgLlnjDhn3"
      },
      "source": [
        "logisticRegr = LogisticRegression(solver = 'lbfgs')"
      ],
      "execution_count": 801,
      "outputs": []
    },
    {
      "cell_type": "code",
      "metadata": {
        "id": "YV-uUkhGDrQW",
        "colab": {
          "base_uri": "https://localhost:8080/"
        },
        "outputId": "ff1e3d78-6cc7-40f0-c645-b28eef76f7b6"
      },
      "source": [
        "logisticRegr.fit(X_train, y_train)"
      ],
      "execution_count": 802,
      "outputs": [
        {
          "output_type": "execute_result",
          "data": {
            "text/plain": [
              "LogisticRegression(C=1.0, class_weight=None, dual=False, fit_intercept=True,\n",
              "                   intercept_scaling=1, l1_ratio=None, max_iter=100,\n",
              "                   multi_class='auto', n_jobs=None, penalty='l2',\n",
              "                   random_state=None, solver='lbfgs', tol=0.0001, verbose=0,\n",
              "                   warm_start=False)"
            ]
          },
          "metadata": {
            "tags": []
          },
          "execution_count": 802
        }
      ]
    },
    {
      "cell_type": "code",
      "metadata": {
        "id": "dNde6AJWEBdT",
        "colab": {
          "base_uri": "https://localhost:8080/"
        },
        "outputId": "c64b40b5-6a59-46a5-f6f5-6875e9067c51"
      },
      "source": [
        "logisticRegr.predict(X_test[0].reshape(1,-1))"
      ],
      "execution_count": 803,
      "outputs": [
        {
          "output_type": "execute_result",
          "data": {
            "text/plain": [
              "array([1])"
            ]
          },
          "metadata": {
            "tags": []
          },
          "execution_count": 803
        }
      ]
    },
    {
      "cell_type": "code",
      "metadata": {
        "id": "VfgMPMVxEKRN",
        "colab": {
          "base_uri": "https://localhost:8080/"
        },
        "outputId": "9af1f126-1e31-4ec9-8c61-c0c3bebf4161"
      },
      "source": [
        "logisticRegr.predict(X_test[0:10])"
      ],
      "execution_count": 804,
      "outputs": [
        {
          "output_type": "execute_result",
          "data": {
            "text/plain": [
              "array([1, 1, 0, 0, 0, 0, 1, 1, 1, 1])"
            ]
          },
          "metadata": {
            "tags": []
          },
          "execution_count": 804
        }
      ]
    },
    {
      "cell_type": "code",
      "metadata": {
        "id": "RsstPFZDEc3r"
      },
      "source": [
        "#logisticRegr.score(X_test, y_train)\n",
        "#error inconsistent number of samples\n",
        "#try making more consistent\n",
        "#Not sure how to fix"
      ],
      "execution_count": 805,
      "outputs": []
    },
    {
      "cell_type": "code",
      "metadata": {
        "id": "e2AuvK-Te8pT"
      },
      "source": [
        "# try knn on the pca"
      ],
      "execution_count": 806,
      "outputs": []
    },
    {
      "cell_type": "code",
      "metadata": {
        "colab": {
          "base_uri": "https://localhost:8080/"
        },
        "id": "ORkrsCJFfK2l",
        "outputId": "2a7b228b-879f-4fd5-afb3-f145e4dfd981"
      },
      "source": [
        "np.any(np.isnan(finalDf))"
      ],
      "execution_count": 807,
      "outputs": [
        {
          "output_type": "execute_result",
          "data": {
            "text/plain": [
              "False"
            ]
          },
          "metadata": {
            "tags": []
          },
          "execution_count": 807
        }
      ]
    },
    {
      "cell_type": "code",
      "metadata": {
        "colab": {
          "base_uri": "https://localhost:8080/"
        },
        "id": "mYacGSusfSkF",
        "outputId": "d4e73bb8-a75a-488c-ccba-a8daf86871da"
      },
      "source": [
        "np.all(np.isfinite(finalDf))"
      ],
      "execution_count": 808,
      "outputs": [
        {
          "output_type": "execute_result",
          "data": {
            "text/plain": [
              "True"
            ]
          },
          "metadata": {
            "tags": []
          },
          "execution_count": 808
        }
      ]
    },
    {
      "cell_type": "code",
      "metadata": {
        "colab": {
          "base_uri": "https://localhost:8080/"
        },
        "id": "S6_aVOmrfStD",
        "outputId": "d23c6253-d161-480d-ede6-7b3fb1d78431"
      },
      "source": [
        "finalDf.columns"
      ],
      "execution_count": 809,
      "outputs": [
        {
          "output_type": "execute_result",
          "data": {
            "text/plain": [
              "Index(['principal component 1', 'principal component 2', 'User_ID'], dtype='object')"
            ]
          },
          "metadata": {
            "tags": []
          },
          "execution_count": 809
        }
      ]
    },
    {
      "cell_type": "code",
      "metadata": {
        "colab": {
          "base_uri": "https://localhost:8080/"
        },
        "id": "vC5bIhFrfSwx",
        "outputId": "a37478ce-a3c6-4d78-942e-10e229d1b645"
      },
      "source": [
        "finalDf['User_ID'].value_counts()"
      ],
      "execution_count": 810,
      "outputs": [
        {
          "output_type": "execute_result",
          "data": {
            "text/plain": [
              "1    401\n",
              "0    401\n",
              "Name: User_ID, dtype: int64"
            ]
          },
          "metadata": {
            "tags": []
          },
          "execution_count": 810
        }
      ]
    },
    {
      "cell_type": "code",
      "metadata": {
        "id": "hmf4LGvNfSz_"
      },
      "source": [
        "#Choosing the columns for X\n",
        "#Not using 'User_ID'\n",
        "#technically reusing variables\n",
        "#should be fine though\n",
        "#could add numbers\n",
        "\n",
        "X = finalDf[['principal component 1', 'principal component 2']].values"
      ],
      "execution_count": 811,
      "outputs": []
    },
    {
      "cell_type": "code",
      "metadata": {
        "id": "m8J4M2OjfS3M"
      },
      "source": [
        "#Choosing the lables for y\n",
        "y = finalDf['User_ID'].values"
      ],
      "execution_count": 812,
      "outputs": []
    },
    {
      "cell_type": "code",
      "metadata": {
        "id": "9Al8RikEfS6v"
      },
      "source": [
        "#Train and test split\n",
        "#80% train, 20% test\n",
        "#splitting the data into test and train dataset\n",
        "\n",
        "from sklearn.model_selection import train_test_split\n",
        "X_train, X_test, y_train, y_test = train_test_split(X, y, test_size=0.20)"
      ],
      "execution_count": 813,
      "outputs": []
    },
    {
      "cell_type": "code",
      "metadata": {
        "id": "kIc1V0wEgcdn"
      },
      "source": [
        "#Feature Scaling\n",
        "from sklearn.preprocessing import StandardScaler\n",
        "scaler = StandardScaler()\n",
        "scaler.fit(X_train)\n",
        "\n",
        "X_train = scaler.transform(X_train)\n",
        "X_test = scaler.transform(X_test)"
      ],
      "execution_count": 814,
      "outputs": []
    },
    {
      "cell_type": "code",
      "metadata": {
        "colab": {
          "base_uri": "https://localhost:8080/"
        },
        "id": "bUOV3uq0gcoh",
        "outputId": "a12c4153-98ca-4924-a2ab-78adb74e1f91"
      },
      "source": [
        "#Training and Prediction\n",
        "from sklearn.neighbors import KNeighborsClassifier\n",
        "classifier = KNeighborsClassifier(n_neighbors=5)         #value for k\n",
        "classifier.fit(X_train, y_train)"
      ],
      "execution_count": 815,
      "outputs": [
        {
          "output_type": "execute_result",
          "data": {
            "text/plain": [
              "KNeighborsClassifier(algorithm='auto', leaf_size=30, metric='minkowski',\n",
              "                     metric_params=None, n_jobs=None, n_neighbors=5, p=2,\n",
              "                     weights='uniform')"
            ]
          },
          "metadata": {
            "tags": []
          },
          "execution_count": 815
        }
      ]
    },
    {
      "cell_type": "code",
      "metadata": {
        "id": "r9oAd7R_gcxn"
      },
      "source": [
        "#Make prediction on the test data\n",
        "y_pred = classifier.predict(X_test)"
      ],
      "execution_count": 816,
      "outputs": []
    },
    {
      "cell_type": "code",
      "metadata": {
        "colab": {
          "base_uri": "https://localhost:8080/"
        },
        "id": "IxwCX5_Ggc6Q",
        "outputId": "79ea30a7-ee94-49b9-f371-6f5303dcc325"
      },
      "source": [
        "#Evaluating the Algorithm\n",
        "from sklearn.metrics import classification_report, confusion_matrix\n",
        "print(confusion_matrix(y_test, y_pred))\n",
        "print(classification_report(y_test, y_pred))"
      ],
      "execution_count": 817,
      "outputs": [
        {
          "output_type": "stream",
          "text": [
            "[[62 13]\n",
            " [ 6 80]]\n",
            "              precision    recall  f1-score   support\n",
            "\n",
            "           0       0.91      0.83      0.87        75\n",
            "           1       0.86      0.93      0.89        86\n",
            "\n",
            "    accuracy                           0.88       161\n",
            "   macro avg       0.89      0.88      0.88       161\n",
            "weighted avg       0.88      0.88      0.88       161\n",
            "\n"
          ],
          "name": "stdout"
        }
      ]
    },
    {
      "cell_type": "code",
      "metadata": {
        "id": "WbG4gx7egt0L"
      },
      "source": [
        "#PCA of 2 decreased the accuracy\n",
        "#should try increasing the pca values"
      ],
      "execution_count": 818,
      "outputs": []
    },
    {
      "cell_type": "code",
      "metadata": {
        "colab": {
          "base_uri": "https://localhost:8080/"
        },
        "id": "vv3-cr-AguAY",
        "outputId": "a1db181c-9e8b-4eab-97df-40884417500f"
      },
      "source": [
        "#prints the entire confusion matrix\n",
        "#however, it doesnn't fit the entire row and loops around\n",
        "np.set_printoptions(threshold=sys.maxsize)\n",
        "resultCM = (confusion_matrix(y_test, y_pred))\n",
        "print(resultCM)"
      ],
      "execution_count": 819,
      "outputs": [
        {
          "output_type": "stream",
          "text": [
            "[[62 13]\n",
            " [ 6 80]]\n"
          ],
          "name": "stdout"
        }
      ]
    },
    {
      "cell_type": "code",
      "metadata": {
        "colab": {
          "base_uri": "https://localhost:8080/"
        },
        "id": "l5107fIAguJQ",
        "outputId": "e14735d4-5c0b-44a7-a643-c9debf5ecb0e"
      },
      "source": [
        "resultCR = (classification_report(y_test, y_pred))\n",
        "print(resultCR)"
      ],
      "execution_count": 820,
      "outputs": [
        {
          "output_type": "stream",
          "text": [
            "              precision    recall  f1-score   support\n",
            "\n",
            "           0       0.91      0.83      0.87        75\n",
            "           1       0.86      0.93      0.89        86\n",
            "\n",
            "    accuracy                           0.88       161\n",
            "   macro avg       0.89      0.88      0.88       161\n",
            "weighted avg       0.88      0.88      0.88       161\n",
            "\n"
          ],
          "name": "stdout"
        }
      ]
    },
    {
      "cell_type": "code",
      "metadata": {
        "id": "9YfWgq5DguQ7"
      },
      "source": [
        "# all parameters not specified are set to their defaults\n",
        "logisticRegr = LogisticRegression()"
      ],
      "execution_count": 821,
      "outputs": []
    },
    {
      "cell_type": "code",
      "metadata": {
        "colab": {
          "base_uri": "https://localhost:8080/"
        },
        "id": "7RVc24yrguYk",
        "outputId": "d658ddab-0776-4c48-8888-a0e269c2385d"
      },
      "source": [
        "logisticRegr.fit(X_train, y_train)"
      ],
      "execution_count": 822,
      "outputs": [
        {
          "output_type": "execute_result",
          "data": {
            "text/plain": [
              "LogisticRegression(C=1.0, class_weight=None, dual=False, fit_intercept=True,\n",
              "                   intercept_scaling=1, l1_ratio=None, max_iter=100,\n",
              "                   multi_class='auto', n_jobs=None, penalty='l2',\n",
              "                   random_state=None, solver='lbfgs', tol=0.0001, verbose=0,\n",
              "                   warm_start=False)"
            ]
          },
          "metadata": {
            "tags": []
          },
          "execution_count": 822
        }
      ]
    },
    {
      "cell_type": "code",
      "metadata": {
        "colab": {
          "base_uri": "https://localhost:8080/"
        },
        "id": "HIaH2BKNhljB",
        "outputId": "dcd6fd35-2f9b-470d-e9a2-5490bd9d6b01"
      },
      "source": [
        "# Returns a NumPy Array\n",
        "# Predict for One Observation (image)\n",
        "logisticRegr.predict(X_test[0].reshape(1,-1))"
      ],
      "execution_count": 823,
      "outputs": [
        {
          "output_type": "execute_result",
          "data": {
            "text/plain": [
              "array([1])"
            ]
          },
          "metadata": {
            "tags": []
          },
          "execution_count": 823
        }
      ]
    },
    {
      "cell_type": "code",
      "metadata": {
        "colab": {
          "base_uri": "https://localhost:8080/"
        },
        "id": "5vCA17zMhlm6",
        "outputId": "4cd7d031-d62f-4339-e34a-6917ef6c8467"
      },
      "source": [
        "logisticRegr.predict(X_test[0:10])"
      ],
      "execution_count": 824,
      "outputs": [
        {
          "output_type": "execute_result",
          "data": {
            "text/plain": [
              "array([1, 1, 0, 1, 0, 1, 0, 1, 0, 1])"
            ]
          },
          "metadata": {
            "tags": []
          },
          "execution_count": 824
        }
      ]
    },
    {
      "cell_type": "code",
      "metadata": {
        "id": "iGs-kuJUhlrO"
      },
      "source": [
        "predictions = logisticRegr.predict(X_test)"
      ],
      "execution_count": 825,
      "outputs": []
    },
    {
      "cell_type": "code",
      "metadata": {
        "colab": {
          "base_uri": "https://localhost:8080/"
        },
        "id": "BYy_bIuRhlvB",
        "outputId": "363b9cf5-3370-4eb8-baa0-6018268dad4a"
      },
      "source": [
        "# Use score method to get accuracy of model\n",
        "score = logisticRegr.score(X_test, y_test)\n",
        "print(score)"
      ],
      "execution_count": 826,
      "outputs": [
        {
          "output_type": "stream",
          "text": [
            "0.8695652173913043\n"
          ],
          "name": "stdout"
        }
      ]
    },
    {
      "cell_type": "code",
      "metadata": {
        "colab": {
          "base_uri": "https://localhost:8080/"
        },
        "id": "8jcR-cXshl1V",
        "outputId": "5ce83c59-3d47-44ce-8083-97741a0e5331"
      },
      "source": [
        "cm = metrics.confusion_matrix(y_test, predictions)\n",
        "print(cm)"
      ],
      "execution_count": 827,
      "outputs": [
        {
          "output_type": "stream",
          "text": [
            "[[64 11]\n",
            " [10 76]]\n"
          ],
          "name": "stdout"
        }
      ]
    },
    {
      "cell_type": "code",
      "metadata": {
        "colab": {
          "base_uri": "https://localhost:8080/",
          "height": 526
        },
        "id": "Tyzm_EE9hl4q",
        "outputId": "498b6039-05d3-44bc-b6c1-96819833c7ff"
      },
      "source": [
        "plt.figure(figsize=(9,9))\n",
        "sns.heatmap(cm, annot=True, fmt=\".3f\", linewidths=.5, square = True, cmap = 'Blues_r');\n",
        "plt.ylabel('Actual label');\n",
        "plt.xlabel('Predicted label');\n",
        "all_sample_title = 'Accuracy Score: {0}'.format(score)\n",
        "plt.title(all_sample_title, size = 15);"
      ],
      "execution_count": 828,
      "outputs": [
        {
          "output_type": "display_data",
          "data": {
            "image/png": "[encoded data removed]",
            "text/plain": [
              "<Figure size 648x648 with 2 Axes>"
            ]
          },
          "metadata": {
            "tags": []
          }
        }
      ]
    },
    {
      "cell_type": "code",
      "metadata": {
        "colab": {
          "base_uri": "https://localhost:8080/",
          "height": 657
        },
        "id": "KTxcOA9ihl8c",
        "outputId": "b4654062-fd16-4e6b-d970-652a158f4f48"
      },
      "source": [
        "plt.figure(figsize=(9,9))\n",
        "plt.imshow(cm, interpolation='nearest', cmap='Pastel1')\n",
        "plt.title('Confusion matrix', size = 15)\n",
        "plt.colorbar()\n",
        "tick_marks = np.arange(10)\n",
        "plt.xticks(tick_marks, [\"0\", \"1\", \"2\", \"3\", \"4\", \"5\", \"6\", \"7\", \"8\", \"9\"], rotation=45, size = 10)\n",
        "plt.yticks(tick_marks, [\"0\", \"1\", \"2\", \"3\", \"4\", \"5\", \"6\", \"7\", \"8\", \"9\"], size = 10)\n",
        "plt.tight_layout()\n",
        "plt.ylabel('Actual label', size = 15)\n",
        "plt.xlabel('Predicted label', size = 15)\n",
        "width, height = cm.shape\n",
        "for x in range(width):\n",
        " for y in range(height):\n",
        "  plt.annotate(str(cm[x][y]), xy=(y, x), \n",
        "  horizontalalignment='center',\n",
        "  verticalalignment='center')"
      ],
      "execution_count": 829,
      "outputs": [
        {
          "output_type": "display_data",
          "data": {
            "image/png": "[encoded data removed]",
            "text/plain": [
              "<Figure size 648x648 with 2 Axes>"
            ]
          },
          "metadata": {
            "tags": []
          }
        }
      ]
    },
    {
      "cell_type": "code",
      "metadata": {
        "id": "WpQrWNPihmK-"
      },
      "source": [
        ""
      ],
      "execution_count": 829,
      "outputs": []
    },
    {
      "cell_type": "code",
      "metadata": {
        "id": "GcZW8emChmJZ"
      },
      "source": [
        ""
      ],
      "execution_count": 829,
      "outputs": []
    },
    {
      "cell_type": "code",
      "metadata": {
        "id": "5U81m3xEhmDD"
      },
      "source": [
        ""
      ],
      "execution_count": 829,
      "outputs": []
    },
    {
      "cell_type": "code",
      "metadata": {
        "id": "08LEZiSJhmAE"
      },
      "source": [
        ""
      ],
      "execution_count": 829,
      "outputs": []
    },
    {
      "cell_type": "code",
      "metadata": {
        "id": "5Hp-vp9lhlyc"
      },
      "source": [
        ""
      ],
      "execution_count": 829,
      "outputs": []
    }
  ]
}