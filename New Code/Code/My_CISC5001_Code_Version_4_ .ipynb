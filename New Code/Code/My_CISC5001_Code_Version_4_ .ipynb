{
  "nbformat": 4,
  "nbformat_minor": 0,
  "metadata": {
    "kernelspec": {
      "display_name": "Python 3",
      "language": "python",
      "name": "python3"
    },
    "language_info": {
      "codemirror_mode": {
        "name": "ipython",
        "version": 3
      },
      "file_extension": ".py",
      "mimetype": "text/x-python",
      "name": "python",
      "nbconvert_exporter": "python",
      "pygments_lexer": "ipython3",
      "version": "3.8.3"
    },
    "colab": {
      "name": "My_CISC5001_Code_Version_4_.ipynb",
      "provenance": []
    }
  },
  "cells": [
    {
      "cell_type": "code",
      "metadata": {
        "id": "NLJjkG-qsQ_A",
        "colab": {
          "base_uri": "https://localhost:8080/"
        },
        "outputId": "7dc45c41-241d-456e-8d1d-9b4bd89ac214"
      },
      "source": [
        "import numpy as np # linear algebra\n",
        "import pandas as pd # data processing, CSV file I/O (e.g. pd.read_csv)\n",
        "import tensorflow as tf\n",
        "\n",
        "import matplotlib.pyplot as plt\n",
        "import matplotlib\n",
        "\n",
        "%matplotlib inline\n",
        "matplotlib.style.use('ggplot') \n",
        "\n",
        "from sklearn import datasets\n",
        "from sklearn import preprocessing\n",
        "from sklearn.model_selection import train_test_split\n",
        "from sklearn.decomposition import PCA\n",
        "from sklearn.neighbors import KNeighborsClassifier\n",
        "from sklearn.datasets import load_digits\n",
        "from sklearn.linear_model import LogisticRegression\n",
        "from sklearn.preprocessing import StandardScaler\n",
        "from sklearn.linear_model import LinearRegression\n",
        "\n",
        "\n",
        "\n",
        "import sys\n",
        "\n",
        "import seaborn as sns\n",
        "from sklearn import metrics\n",
        "\n",
        "#Based on Eddie Lam's code\n",
        "\n",
        "'''\n",
        "Reusing code:\n",
        "https://stackabuse.com/k-nearest-neighbors-algorithm-in-python-and-scikit-learn/\n",
        "\n",
        "Explaining result:\n",
        "https://datascience.stackexchange.com/questions/65839/macro-average-and-weighted-average-meaning-in-classification-report\n",
        "\n",
        "\n",
        "Test_fearMat_Clean: 4168\n",
        "    Before edit: 4231 rows × 34 columns\n",
        "    After edit: 4168 rows × 34 columns\n",
        "    \n",
        "    #removed 6 to 7\n",
        "    total = 3749         (20% = 750; 80% = 2,999)\n",
        "    \n",
        "\n",
        "Train_fearMat_Clean: 16680\n",
        "    Before edit: 16927 rows × 34 columns\n",
        "    After edit: 16680 rows × 34 columns\n",
        "    \n",
        "    #removed 6 to 7\n",
        "    total = 15045         (20% = 3,009; 80% = 12,036)\n",
        "\n",
        "'''\n",
        "\n",
        "import os\n",
        "\n",
        "\n",
        "print(os.listdir(r\".\"))         #print out what's in the file/directory\n",
        "#train = pd.read_csv(r\"featMatVersion0.csv\")\n",
        "#This is the unedited file from Eddie\n",
        "\n",
        "#train = pd.read_csv(r\"featMatVersion1.csv\")\n",
        "\n",
        "#train = pd.read_csv(r\"featMatVersion2.csv\")\n",
        "\n",
        "\n",
        "#/content/featMatVersion2.csv\n",
        "\n",
        "#train = pd.read_csv(r\"featMatVersion3.csv\")\n",
        "\n",
        "#train = pd.read_csv(r\"featMatVersion4.csv\")\n",
        "#Same as original but no comunns 2 and 13\n",
        "\n",
        "\n",
        "#train = pd.read_csv(r\"featMatVersion5.csv\")\n",
        "#Same as version1 but no comunns 2 and 13\n",
        "\n",
        "\n",
        "#train = pd.read_csv(r\"featMatVersion6.csv\")\n",
        "#Same as version2 but no comunns 2 and 13\n",
        "\n",
        "\n",
        "#train = pd.read_csv(r\"featMatVersion7.csv\")\n",
        "#Same as version3 but no comunns 2 and 13\n",
        "\n",
        "\n",
        "\n",
        "\n",
        "\n",
        "train = pd.read_csv(r\"featMatVersion8.csv\")\n",
        "#Same as version0 but only 2 users\n",
        "#has only 2 users\n",
        "#Uses 1 and 2\n",
        "#still sizable difference between users\n",
        "#need to find 2 users w\n",
        "\n",
        "\n",
        "\n",
        "\n",
        "\n",
        "\n",
        "#Find out how to randomize dataset\n",
        "\n",
        "#Version Orginal is the unmodified dataset from Eddie\n",
        "\n",
        "# This Version1 uses one authentic user with a class ID of 1\n",
        "# The rest have a class ID of 0\n",
        "\n",
        "#Version 2 has sessions 6 and 7 removed\n",
        "\n",
        "#Version 3 has sessions 6 and 7 removed and authentic user with class 1 and rest 0\n",
        "\n",
        "#clean up the negative values for interstroke?\n",
        "\n",
        "#compare only 2 people?\n",
        "\n",
        "#remove columns 2 and 13?\n",
        "\n",
        "#Make a second code for the ones with the removed columns\n",
        "\n",
        "#Too much data to clean up\n",
        "\n",
        "#Should try randomizing\n",
        "\n",
        "#upload the csv to google colab\n",
        "#for some reason need to do this each time\n",
        "#need to find a way to store and acces from drive\n",
        "\n",
        "#pd.read_csv('/My Drive/Collab Notebooks/featMatVersionOriginal.csv')\n",
        "\n",
        "#Try to get data from google drive instead of manually importing it\n",
        "\n",
        "#Maybe try removing sessions 6 and 7\n",
        "\n",
        "\n",
        "\n",
        "\n",
        "\n",
        "#Create a file that has only 2 users\n",
        "\n",
        "\n"
      ],
      "execution_count": 507,
      "outputs": [
        {
          "output_type": "stream",
          "text": [
            "['.config', 'featMatVersion8.csv', 'sample_data']\n"
          ],
          "name": "stdout"
        }
      ]
    },
    {
      "cell_type": "code",
      "metadata": {
        "id": "ea2c4gqwsQ_I",
        "colab": {
          "base_uri": "https://localhost:8080/",
          "height": 292
        },
        "outputId": "bf2619e7-52a3-498b-d7f8-c5d77f5c7627"
      },
      "source": [
        "#print\n",
        "train.head()"
      ],
      "execution_count": 508,
      "outputs": [
        {
          "output_type": "execute_result",
          "data": {
            "text/html": [
              "<div>\n",
              "<style scoped>\n",
              "    .dataframe tbody tr th:only-of-type {\n",
              "        vertical-align: middle;\n",
              "    }\n",
              "\n",
              "    .dataframe tbody tr th {\n",
              "        vertical-align: top;\n",
              "    }\n",
              "\n",
              "    .dataframe thead th {\n",
              "        text-align: right;\n",
              "    }\n",
              "</style>\n",
              "<table border=\"1\" class=\"dataframe\">\n",
              "  <thead>\n",
              "    <tr style=\"text-align: right;\">\n",
              "      <th></th>\n",
              "      <th>User_ID</th>\n",
              "      <th>Doc_ID</th>\n",
              "      <th>Inter-Stroke time</th>\n",
              "      <th>Stroke Duration</th>\n",
              "      <th>Start X</th>\n",
              "      <th>Start Y</th>\n",
              "      <th>Stop X</th>\n",
              "      <th>Stop Y</th>\n",
              "      <th>Direct end-to-end Distance</th>\n",
              "      <th>Mean resulant length</th>\n",
              "      <th>WSAD Flag</th>\n",
              "      <th>Direction of end-to-end Time</th>\n",
              "      <th>Phone_ID</th>\n",
              "      <th>20 per pairwise velocity</th>\n",
              "      <th>50 per pairwise velocity</th>\n",
              "      <th>80 per pairwise velocity</th>\n",
              "      <th>20 per pairwise acc</th>\n",
              "      <th>50 per pairwise acc</th>\n",
              "      <th>80 per pairwise acc</th>\n",
              "      <th>Median velocity at last 3pts</th>\n",
              "      <th>Largest deviation from end-to-end line</th>\n",
              "      <th>20 per dev line</th>\n",
              "      <th>50 per dev line</th>\n",
              "      <th>80 per dev line</th>\n",
              "      <th>Average Direction</th>\n",
              "      <th>Length of Trajectory</th>\n",
              "      <th>Ratio dist and length of trajectory</th>\n",
              "      <th>Average velocity</th>\n",
              "      <th>Median acceleration at first 5 pts</th>\n",
              "      <th>Mid-Stroke pressure</th>\n",
              "      <th>Mid-Stroke area covered</th>\n",
              "      <th>Mid-Stroke finger orientation</th>\n",
              "      <th>Change of finger orientation</th>\n",
              "      <th>Phone orientation</th>\n",
              "    </tr>\n",
              "  </thead>\n",
              "  <tbody>\n",
              "    <tr>\n",
              "      <th>0</th>\n",
              "      <td>1</td>\n",
              "      <td>4</td>\n",
              "      <td>0.913</td>\n",
              "      <td>0.320</td>\n",
              "      <td>27.7980</td>\n",
              "      <td>-35.647</td>\n",
              "      <td>5.8867</td>\n",
              "      <td>-36.737</td>\n",
              "      <td>21.939</td>\n",
              "      <td>0.83553</td>\n",
              "      <td>4</td>\n",
              "      <td>-3.09190</td>\n",
              "      <td>2</td>\n",
              "      <td>14.450</td>\n",
              "      <td>72.675</td>\n",
              "      <td>133.45</td>\n",
              "      <td>-12.047</td>\n",
              "      <td>497.89</td>\n",
              "      <td>1902.9</td>\n",
              "      <td>139.310</td>\n",
              "      <td>1.5963</td>\n",
              "      <td>-1.550000e-16</td>\n",
              "      <td>0.043064</td>\n",
              "      <td>1.135900e+00</td>\n",
              "      <td>-3.07500</td>\n",
              "      <td>22.310</td>\n",
              "      <td>0.98337</td>\n",
              "      <td>69.718</td>\n",
              "      <td>456.16</td>\n",
              "      <td>0.64</td>\n",
              "      <td>0.17778</td>\n",
              "      <td>0</td>\n",
              "      <td>0</td>\n",
              "      <td>1</td>\n",
              "    </tr>\n",
              "    <tr>\n",
              "      <th>1</th>\n",
              "      <td>1</td>\n",
              "      <td>4</td>\n",
              "      <td>10.818</td>\n",
              "      <td>0.172</td>\n",
              "      <td>27.5800</td>\n",
              "      <td>-31.069</td>\n",
              "      <td>4.5785</td>\n",
              "      <td>-36.737</td>\n",
              "      <td>23.690</td>\n",
              "      <td>0.77926</td>\n",
              "      <td>4</td>\n",
              "      <td>-2.90000</td>\n",
              "      <td>2</td>\n",
              "      <td>115.810</td>\n",
              "      <td>178.320</td>\n",
              "      <td>425.83</td>\n",
              "      <td>-26537.000</td>\n",
              "      <td>-1302.30</td>\n",
              "      <td>203310.0</td>\n",
              "      <td>113.500</td>\n",
              "      <td>2.5032</td>\n",
              "      <td>0.000000e+00</td>\n",
              "      <td>1.392300</td>\n",
              "      <td>2.028100e+00</td>\n",
              "      <td>-2.83590</td>\n",
              "      <td>24.629</td>\n",
              "      <td>0.96188</td>\n",
              "      <td>143.190</td>\n",
              "      <td>747.36</td>\n",
              "      <td>0.66</td>\n",
              "      <td>0.22222</td>\n",
              "      <td>0</td>\n",
              "      <td>0</td>\n",
              "      <td>1</td>\n",
              "    </tr>\n",
              "    <tr>\n",
              "      <th>2</th>\n",
              "      <td>1</td>\n",
              "      <td>4</td>\n",
              "      <td>0.759</td>\n",
              "      <td>0.277</td>\n",
              "      <td>5.0146</td>\n",
              "      <td>-40.553</td>\n",
              "      <td>34.4480</td>\n",
              "      <td>-32.486</td>\n",
              "      <td>30.519</td>\n",
              "      <td>0.91959</td>\n",
              "      <td>2</td>\n",
              "      <td>0.26751</td>\n",
              "      <td>2</td>\n",
              "      <td>36.830</td>\n",
              "      <td>78.611</td>\n",
              "      <td>188.46</td>\n",
              "      <td>-2217.900</td>\n",
              "      <td>1548.70</td>\n",
              "      <td>2539.3</td>\n",
              "      <td>197.020</td>\n",
              "      <td>-2.7546</td>\n",
              "      <td>-2.294100e+00</td>\n",
              "      <td>-1.119900</td>\n",
              "      <td>8.880000e-17</td>\n",
              "      <td>0.51158</td>\n",
              "      <td>31.574</td>\n",
              "      <td>0.96657</td>\n",
              "      <td>113.990</td>\n",
              "      <td>1965.30</td>\n",
              "      <td>0.65</td>\n",
              "      <td>0.22222</td>\n",
              "      <td>0</td>\n",
              "      <td>0</td>\n",
              "      <td>1</td>\n",
              "    </tr>\n",
              "    <tr>\n",
              "      <th>3</th>\n",
              "      <td>1</td>\n",
              "      <td>4</td>\n",
              "      <td>1.143</td>\n",
              "      <td>0.250</td>\n",
              "      <td>3.5974</td>\n",
              "      <td>-37.391</td>\n",
              "      <td>34.5570</td>\n",
              "      <td>-30.415</td>\n",
              "      <td>31.736</td>\n",
              "      <td>0.96025</td>\n",
              "      <td>2</td>\n",
              "      <td>0.22165</td>\n",
              "      <td>2</td>\n",
              "      <td>26.554</td>\n",
              "      <td>168.690</td>\n",
              "      <td>239.42</td>\n",
              "      <td>-2601.800</td>\n",
              "      <td>-1169.10</td>\n",
              "      <td>8637.7</td>\n",
              "      <td>114.770</td>\n",
              "      <td>-1.4514</td>\n",
              "      <td>-1.050000e+00</td>\n",
              "      <td>-0.492790</td>\n",
              "      <td>0.000000e+00</td>\n",
              "      <td>0.25501</td>\n",
              "      <td>32.084</td>\n",
              "      <td>0.98916</td>\n",
              "      <td>128.340</td>\n",
              "      <td>-788.47</td>\n",
              "      <td>0.77</td>\n",
              "      <td>0.24444</td>\n",
              "      <td>0</td>\n",
              "      <td>0</td>\n",
              "      <td>1</td>\n",
              "    </tr>\n",
              "    <tr>\n",
              "      <th>4</th>\n",
              "      <td>1</td>\n",
              "      <td>4</td>\n",
              "      <td>0.528</td>\n",
              "      <td>0.261</td>\n",
              "      <td>31.0690</td>\n",
              "      <td>-29.215</td>\n",
              "      <td>3.8155</td>\n",
              "      <td>-38.045</td>\n",
              "      <td>28.648</td>\n",
              "      <td>0.62760</td>\n",
              "      <td>4</td>\n",
              "      <td>-2.82830</td>\n",
              "      <td>2</td>\n",
              "      <td>34.637</td>\n",
              "      <td>85.099</td>\n",
              "      <td>228.20</td>\n",
              "      <td>-4750.100</td>\n",
              "      <td>-889.77</td>\n",
              "      <td>8633.5</td>\n",
              "      <td>33.615</td>\n",
              "      <td>4.9177</td>\n",
              "      <td>2.137200e-01</td>\n",
              "      <td>2.240700</td>\n",
              "      <td>3.798200e+00</td>\n",
              "      <td>-2.34940</td>\n",
              "      <td>32.598</td>\n",
              "      <td>0.87881</td>\n",
              "      <td>124.900</td>\n",
              "      <td>1384.20</td>\n",
              "      <td>0.70</td>\n",
              "      <td>0.28889</td>\n",
              "      <td>0</td>\n",
              "      <td>0</td>\n",
              "      <td>1</td>\n",
              "    </tr>\n",
              "  </tbody>\n",
              "</table>\n",
              "</div>"
            ],
            "text/plain": [
              "   User_ID  Doc_ID  ...  Change of finger orientation  Phone orientation\n",
              "0        1       4  ...                             0                  1\n",
              "1        1       4  ...                             0                  1\n",
              "2        1       4  ...                             0                  1\n",
              "3        1       4  ...                             0                  1\n",
              "4        1       4  ...                             0                  1\n",
              "\n",
              "[5 rows x 34 columns]"
            ]
          },
          "metadata": {
            "tags": []
          },
          "execution_count": 508
        }
      ]
    },
    {
      "cell_type": "code",
      "metadata": {
        "id": "N_7dnDX4sQ_U",
        "colab": {
          "base_uri": "https://localhost:8080/"
        },
        "outputId": "a46b4dc1-58c8-4c7f-bd8e-b853ce717c72"
      },
      "source": [
        "np.any(np.isnan(train))"
      ],
      "execution_count": 509,
      "outputs": [
        {
          "output_type": "execute_result",
          "data": {
            "text/plain": [
              "False"
            ]
          },
          "metadata": {
            "tags": []
          },
          "execution_count": 509
        }
      ]
    },
    {
      "cell_type": "code",
      "metadata": {
        "id": "iTCHhsEtsQ_m",
        "colab": {
          "base_uri": "https://localhost:8080/"
        },
        "outputId": "fac1c6aa-688e-4bf1-ada3-bdc4f96049f2"
      },
      "source": [
        "np.all(np.isfinite(train))"
      ],
      "execution_count": 510,
      "outputs": [
        {
          "output_type": "execute_result",
          "data": {
            "text/plain": [
              "True"
            ]
          },
          "metadata": {
            "tags": []
          },
          "execution_count": 510
        }
      ]
    },
    {
      "cell_type": "code",
      "metadata": {
        "id": "SEotZNcssQ_1",
        "colab": {
          "base_uri": "https://localhost:8080/"
        },
        "outputId": "341bec93-0ce0-4fed-e69e-3101465381ad"
      },
      "source": [
        "#print out the columns\n",
        "train.columns"
      ],
      "execution_count": 511,
      "outputs": [
        {
          "output_type": "execute_result",
          "data": {
            "text/plain": [
              "Index(['User_ID', 'Doc_ID', 'Inter-Stroke time', 'Stroke Duration', 'Start X',\n",
              "       'Start Y', 'Stop X', 'Stop Y', 'Direct end-to-end Distance',\n",
              "       'Mean resulant length', 'WSAD Flag', 'Direction of end-to-end Time',\n",
              "       'Phone_ID', '20 per pairwise velocity', '50 per pairwise velocity',\n",
              "       '80 per pairwise velocity', '20 per pairwise acc',\n",
              "       '50 per pairwise acc', '80 per pairwise acc',\n",
              "       'Median velocity at last 3pts',\n",
              "       'Largest deviation from end-to-end line', '20 per dev line',\n",
              "       '50 per dev line', '80 per dev line', 'Average Direction',\n",
              "       'Length of Trajectory', 'Ratio dist and length of trajectory',\n",
              "       'Average velocity', 'Median acceleration at first 5 pts',\n",
              "       'Mid-Stroke pressure', 'Mid-Stroke area covered',\n",
              "       'Mid-Stroke finger orientation', 'Change of finger orientation',\n",
              "       'Phone orientation'],\n",
              "      dtype='object')"
            ]
          },
          "metadata": {
            "tags": []
          },
          "execution_count": 511
        }
      ]
    },
    {
      "cell_type": "code",
      "metadata": {
        "id": "DfpEDfbasQ_4",
        "colab": {
          "base_uri": "https://localhost:8080/"
        },
        "outputId": "611abfa8-a295-4635-f85c-d417e59998e3"
      },
      "source": [
        "#prints the amount of users in 'User_ID'\n",
        "train['User_ID'].value_counts()"
      ],
      "execution_count": 512,
      "outputs": [
        {
          "output_type": "execute_result",
          "data": {
            "text/plain": [
              "1    401\n",
              "0    401\n",
              "Name: User_ID, dtype: int64"
            ]
          },
          "metadata": {
            "tags": []
          },
          "execution_count": 512
        }
      ]
    },
    {
      "cell_type": "code",
      "metadata": {
        "id": "Uxa7-b7TsQ_8"
      },
      "source": [
        "#Choosing the columns for X\n",
        "#Not using 'User_ID', 'Doc_ID', or 'Phone_ID'\n",
        "X = train[['Inter-Stroke time', 'Stroke Duration', 'Start X', 'Start Y', 'Stop X', 'Stop Y', 'Direct end-to-end Distance',\n",
        "        'Mean resulant length', 'WSAD Flag', 'Direction of end-to-end Time', '20 per pairwise velocity', \n",
        "        '50 per pairwise velocity', '80 per pairwise velocity', '20 per pairwise acc', '50 per pairwise acc', \n",
        "        '80 per pairwise acc', 'Median velocity at last 3pts', 'Largest deviation from end-to-end line', '20 per dev line',\n",
        "        '50 per dev line', '80 per dev line', 'Average Direction', 'Length of Trajectory', \n",
        "        'Ratio dist and length of trajectory', 'Average velocity', 'Median acceleration at first 5 pts',\n",
        "        'Mid-Stroke pressure', 'Mid-Stroke area covered', 'Mid-Stroke finger orientation', 'Change of finger orientation',\n",
        "        'Phone orientation']].values"
      ],
      "execution_count": 513,
      "outputs": []
    },
    {
      "cell_type": "code",
      "metadata": {
        "id": "5beQNhkvsRAA"
      },
      "source": [
        "#Choosing the lables for y\n",
        "y = train['User_ID'].values"
      ],
      "execution_count": 514,
      "outputs": []
    },
    {
      "cell_type": "code",
      "metadata": {
        "id": "ui3CfitGsRAE"
      },
      "source": [
        "#Train and test split\n",
        "#80% train, 20% test\n",
        "#splitting the data into test and train dataset\n",
        "\n",
        "from sklearn.model_selection import train_test_split\n",
        "X_train, X_test, y_train, y_test = train_test_split(X, y, test_size=0.20)\n",
        "\n",
        "#should probably randomize data better"
      ],
      "execution_count": 515,
      "outputs": []
    },
    {
      "cell_type": "code",
      "metadata": {
        "id": "vprauDHCsRAG"
      },
      "source": [
        "#Feature Scaling\n",
        "from sklearn.preprocessing import StandardScaler\n",
        "scaler = StandardScaler()\n",
        "scaler.fit(X_train)\n",
        "\n",
        "X_train = scaler.transform(X_train)\n",
        "X_test = scaler.transform(X_test)"
      ],
      "execution_count": 516,
      "outputs": []
    },
    {
      "cell_type": "code",
      "metadata": {
        "id": "kLjdCUPPsRAI",
        "colab": {
          "base_uri": "https://localhost:8080/"
        },
        "outputId": "fe3fcba9-bf2e-47ec-9747-1d02102ef56a"
      },
      "source": [
        "#Training and Prediction\n",
        "from sklearn.neighbors import KNeighborsClassifier\n",
        "classifier = KNeighborsClassifier(n_neighbors=5)         #value for k\n",
        "classifier.fit(X_train, y_train)\n",
        "\n",
        "#Sometimes gets an error for no reason \n",
        "#Run again to fix\n",
        "\n",
        "#The k value is guessed at first and then changed depending on the data\n",
        "#5 is used by convention but is usually a guess\n",
        "#Might want to change to 7 as when I did for K values up to 100 7 seemed smaller\n",
        "#on the smaller graph though 5 seems to be the best answer\n",
        "#The graph fluctuates with each run\n",
        "# 6 and 5 seem to be good choices\n",
        "\n",
        "\n",
        "#For the 0 and 1 dataset the better k values are 4, 7 and 9\n",
        "#Might want to make 2 seperate files\n",
        "\n"
      ],
      "execution_count": 517,
      "outputs": [
        {
          "output_type": "execute_result",
          "data": {
            "text/plain": [
              "KNeighborsClassifier(algorithm='auto', leaf_size=30, metric='minkowski',\n",
              "                     metric_params=None, n_jobs=None, n_neighbors=5, p=2,\n",
              "                     weights='uniform')"
            ]
          },
          "metadata": {
            "tags": []
          },
          "execution_count": 517
        }
      ]
    },
    {
      "cell_type": "code",
      "metadata": {
        "id": "S4b_wAWWsRAL"
      },
      "source": [
        "#Make prediction on the test data\n",
        "y_pred = classifier.predict(X_test)"
      ],
      "execution_count": 518,
      "outputs": []
    },
    {
      "cell_type": "code",
      "metadata": {
        "id": "n3wPzHvLsRAN",
        "colab": {
          "base_uri": "https://localhost:8080/"
        },
        "outputId": "00292e08-43d9-429a-b71a-bcde34239fa7"
      },
      "source": [
        "#Evaluating the Algorithm\n",
        "from sklearn.metrics import classification_report, confusion_matrix\n",
        "print(confusion_matrix(y_test, y_pred))\n",
        "print(classification_report(y_test, y_pred))"
      ],
      "execution_count": 519,
      "outputs": [
        {
          "output_type": "stream",
          "text": [
            "[[83  0]\n",
            " [ 0 78]]\n",
            "              precision    recall  f1-score   support\n",
            "\n",
            "           0       1.00      1.00      1.00        83\n",
            "           1       1.00      1.00      1.00        78\n",
            "\n",
            "    accuracy                           1.00       161\n",
            "   macro avg       1.00      1.00      1.00       161\n",
            "weighted avg       1.00      1.00      1.00       161\n",
            "\n"
          ],
          "name": "stdout"
        }
      ]
    },
    {
      "cell_type": "code",
      "metadata": {
        "id": "AfTYQwOosRAP",
        "colab": {
          "base_uri": "https://localhost:8080/"
        },
        "outputId": "a729c091-7bed-4676-95d1-f52a63e33b53"
      },
      "source": [
        "#prints the entire confusion matrix\n",
        "#however, it doesnn't fit the entire row and loops around\n",
        "np.set_printoptions(threshold=sys.maxsize)\n",
        "resultCM = (confusion_matrix(y_test, y_pred))\n",
        "print(resultCM)"
      ],
      "execution_count": 520,
      "outputs": [
        {
          "output_type": "stream",
          "text": [
            "[[83  0]\n",
            " [ 0 78]]\n"
          ],
          "name": "stdout"
        }
      ]
    },
    {
      "cell_type": "code",
      "metadata": {
        "id": "TR-wa43BsRAS",
        "colab": {
          "base_uri": "https://localhost:8080/"
        },
        "outputId": "03effb15-9c98-4eb8-ca03-e7236b306894"
      },
      "source": [
        "resultCR = (classification_report(y_test, y_pred))\n",
        "print(resultCR)"
      ],
      "execution_count": 521,
      "outputs": [
        {
          "output_type": "stream",
          "text": [
            "              precision    recall  f1-score   support\n",
            "\n",
            "           0       1.00      1.00      1.00        83\n",
            "           1       1.00      1.00      1.00        78\n",
            "\n",
            "    accuracy                           1.00       161\n",
            "   macro avg       1.00      1.00      1.00       161\n",
            "weighted avg       1.00      1.00      1.00       161\n",
            "\n"
          ],
          "name": "stdout"
        }
      ]
    },
    {
      "cell_type": "code",
      "metadata": {
        "id": "OLX_hpdCuiOL"
      },
      "source": [
        "# all parameters not specified are set to their defaults\n",
        "logisticRegr = LogisticRegression()"
      ],
      "execution_count": 522,
      "outputs": []
    },
    {
      "cell_type": "code",
      "metadata": {
        "id": "vFPRZBY-umir",
        "colab": {
          "base_uri": "https://localhost:8080/"
        },
        "outputId": "610e8840-ad71-4cf9-fc35-e5559bf5f26f"
      },
      "source": [
        "logisticRegr.fit(X_train, y_train)"
      ],
      "execution_count": 523,
      "outputs": [
        {
          "output_type": "execute_result",
          "data": {
            "text/plain": [
              "LogisticRegression(C=1.0, class_weight=None, dual=False, fit_intercept=True,\n",
              "                   intercept_scaling=1, l1_ratio=None, max_iter=100,\n",
              "                   multi_class='auto', n_jobs=None, penalty='l2',\n",
              "                   random_state=None, solver='lbfgs', tol=0.0001, verbose=0,\n",
              "                   warm_start=False)"
            ]
          },
          "metadata": {
            "tags": []
          },
          "execution_count": 523
        }
      ]
    },
    {
      "cell_type": "code",
      "metadata": {
        "id": "sWq3z1jtuuJ6",
        "colab": {
          "base_uri": "https://localhost:8080/"
        },
        "outputId": "49bc4cb0-f542-44ad-c991-d9c8c442d772"
      },
      "source": [
        "# Returns a NumPy Array\n",
        "# Predict for One Observation (image)\n",
        "logisticRegr.predict(X_test[0].reshape(1,-1))"
      ],
      "execution_count": 524,
      "outputs": [
        {
          "output_type": "execute_result",
          "data": {
            "text/plain": [
              "array([0])"
            ]
          },
          "metadata": {
            "tags": []
          },
          "execution_count": 524
        }
      ]
    },
    {
      "cell_type": "code",
      "metadata": {
        "id": "8AhBvTIDvegm",
        "colab": {
          "base_uri": "https://localhost:8080/"
        },
        "outputId": "643c8709-e360-4e18-94de-25963b3a7b44"
      },
      "source": [
        "logisticRegr.predict(X_test[0:10])"
      ],
      "execution_count": 525,
      "outputs": [
        {
          "output_type": "execute_result",
          "data": {
            "text/plain": [
              "array([0, 0, 1, 0, 1, 1, 1, 1, 1, 0])"
            ]
          },
          "metadata": {
            "tags": []
          },
          "execution_count": 525
        }
      ]
    },
    {
      "cell_type": "code",
      "metadata": {
        "id": "derkWsE_vlKR"
      },
      "source": [
        "predictions = logisticRegr.predict(X_test)"
      ],
      "execution_count": 526,
      "outputs": []
    },
    {
      "cell_type": "code",
      "metadata": {
        "id": "gPEUOg_3vrVA",
        "colab": {
          "base_uri": "https://localhost:8080/"
        },
        "outputId": "7337d98e-12c4-4e27-82bf-8bdc7e3282c1"
      },
      "source": [
        "# Use score method to get accuracy of model\n",
        "score = logisticRegr.score(X_test, y_test)\n",
        "print(score)"
      ],
      "execution_count": 527,
      "outputs": [
        {
          "output_type": "stream",
          "text": [
            "0.9813664596273292\n"
          ],
          "name": "stdout"
        }
      ]
    },
    {
      "cell_type": "code",
      "metadata": {
        "id": "lHVNc64-vvws",
        "colab": {
          "base_uri": "https://localhost:8080/"
        },
        "outputId": "9533a9b6-f8cf-413d-8118-bac1f5551dd4"
      },
      "source": [
        "cm = metrics.confusion_matrix(y_test, predictions)\n",
        "print(cm)"
      ],
      "execution_count": 528,
      "outputs": [
        {
          "output_type": "stream",
          "text": [
            "[[82  1]\n",
            " [ 2 76]]\n"
          ],
          "name": "stdout"
        }
      ]
    },
    {
      "cell_type": "code",
      "metadata": {
        "id": "_2FbDXtSwBRB",
        "colab": {
          "base_uri": "https://localhost:8080/",
          "height": 520
        },
        "outputId": "460314b3-fe4b-415f-e949-361b7d0568e9"
      },
      "source": [
        "plt.figure(figsize=(9,9))\n",
        "sns.heatmap(cm, annot=True, fmt=\".3f\", linewidths=.5, square = True, cmap = 'Blues_r');\n",
        "plt.ylabel('Actual label');\n",
        "plt.xlabel('Predicted label');\n",
        "all_sample_title = 'Accuracy Score: {0}'.format(score)\n",
        "plt.title(all_sample_title, size = 15);"
      ],
      "execution_count": 529,
      "outputs": [
        {
          "output_type": "display_data",
          "data": {
            "image/png": "[encoded data removed]",
            "text/plain": [
              "<Figure size 648x648 with 2 Axes>"
            ]
          },
          "metadata": {
            "tags": []
          }
        }
      ]
    },
    {
      "cell_type": "code",
      "metadata": {
        "id": "ymDm0grfwEHG",
        "colab": {
          "base_uri": "https://localhost:8080/",
          "height": 657
        },
        "outputId": "e03ae274-c66d-4a29-f67f-20e15871085c"
      },
      "source": [
        "plt.figure(figsize=(9,9))\n",
        "plt.imshow(cm, interpolation='nearest', cmap='Pastel1')\n",
        "plt.title('Confusion matrix', size = 15)\n",
        "plt.colorbar()\n",
        "tick_marks = np.arange(10)\n",
        "plt.xticks(tick_marks, [\"0\", \"1\", \"2\", \"3\", \"4\", \"5\", \"6\", \"7\", \"8\", \"9\"], rotation=45, size = 10)\n",
        "plt.yticks(tick_marks, [\"0\", \"1\", \"2\", \"3\", \"4\", \"5\", \"6\", \"7\", \"8\", \"9\"], size = 10)\n",
        "plt.tight_layout()\n",
        "plt.ylabel('Actual label', size = 15)\n",
        "plt.xlabel('Predicted label', size = 15)\n",
        "width, height = cm.shape\n",
        "for x in range(width):\n",
        " for y in range(height):\n",
        "  plt.annotate(str(cm[x][y]), xy=(y, x), \n",
        "  horizontalalignment='center',\n",
        "  verticalalignment='center')"
      ],
      "execution_count": 530,
      "outputs": [
        {
          "output_type": "display_data",
          "data": {
            "image/png": "[encoded data removed]",
            "text/plain": [
              "<Figure size 648x648 with 2 Axes>"
            ]
          },
          "metadata": {
            "tags": []
          }
        }
      ]
    },
    {
      "cell_type": "code",
      "metadata": {
        "id": "qAsLRC4l0xJW"
      },
      "source": [
        "# Read in csv file\n",
        "# File: https://github.com/mGalarnyk/Python_Tutorials/blob/master/Python_Basics/Linear_Regression/linear.csv\n",
        "\n",
        "\n",
        "#raw_data= pd.read_csv(r\"featMatVersion0.csv\")\n",
        "#This is the unedited file from Eddie\n",
        "\n",
        "#raw_data = pd.read_csv(r\"featMatVersion1.csv\")\n",
        "\n",
        "#raw_data = pd.read_csv(r\"featMatVersion2.csv\")\n",
        "\n",
        "\n",
        "#/content/featMatVersion2.csv\n",
        "\n",
        "#raw_data = pd.read_csv(r\"featMatVersion3.csv\")\n",
        "\n",
        "#raw_data = pd.read_csv(r\"featMatVersion4.csv\")\n",
        "#Same as original but no comunns 2 and 13\n",
        "\n",
        "\n",
        "#raw_data= pd.read_csv(r\"featMatVersion5.csv\")\n",
        "#Same as version1 but no comunns 2 and 13\n",
        "\n",
        "\n",
        "#raw_data = pd.read_csv(r\"featMatVersion6.csv\")\n",
        "#Same as version2 but no comunns 2 and 13\n",
        "\n",
        "\n",
        "#raw_data = pd.read_csv(r\"featMatVersion7.csv\")\n",
        "#Same as version3 but no comunns 2 and 13\n",
        "\n",
        "\n",
        "raw_data = pd.read_csv(r\"featMatVersion8.csv\")\n",
        "#Same as version0 but only 2 users\n",
        "#has only 2 users\n",
        "\n",
        "\n",
        "\n",
        "\n"
      ],
      "execution_count": 531,
      "outputs": []
    },
    {
      "cell_type": "code",
      "metadata": {
        "id": "CvEII4Qt-i30",
        "colab": {
          "base_uri": "https://localhost:8080/",
          "height": 292
        },
        "outputId": "1f6729cc-c31c-482f-b93d-0d0fa3265ce5"
      },
      "source": [
        "raw_data.head()"
      ],
      "execution_count": 532,
      "outputs": [
        {
          "output_type": "execute_result",
          "data": {
            "text/html": [
              "<div>\n",
              "<style scoped>\n",
              "    .dataframe tbody tr th:only-of-type {\n",
              "        vertical-align: middle;\n",
              "    }\n",
              "\n",
              "    .dataframe tbody tr th {\n",
              "        vertical-align: top;\n",
              "    }\n",
              "\n",
              "    .dataframe thead th {\n",
              "        text-align: right;\n",
              "    }\n",
              "</style>\n",
              "<table border=\"1\" class=\"dataframe\">\n",
              "  <thead>\n",
              "    <tr style=\"text-align: right;\">\n",
              "      <th></th>\n",
              "      <th>User_ID</th>\n",
              "      <th>Doc_ID</th>\n",
              "      <th>Inter-Stroke time</th>\n",
              "      <th>Stroke Duration</th>\n",
              "      <th>Start X</th>\n",
              "      <th>Start Y</th>\n",
              "      <th>Stop X</th>\n",
              "      <th>Stop Y</th>\n",
              "      <th>Direct end-to-end Distance</th>\n",
              "      <th>Mean resulant length</th>\n",
              "      <th>WSAD Flag</th>\n",
              "      <th>Direction of end-to-end Time</th>\n",
              "      <th>Phone_ID</th>\n",
              "      <th>20 per pairwise velocity</th>\n",
              "      <th>50 per pairwise velocity</th>\n",
              "      <th>80 per pairwise velocity</th>\n",
              "      <th>20 per pairwise acc</th>\n",
              "      <th>50 per pairwise acc</th>\n",
              "      <th>80 per pairwise acc</th>\n",
              "      <th>Median velocity at last 3pts</th>\n",
              "      <th>Largest deviation from end-to-end line</th>\n",
              "      <th>20 per dev line</th>\n",
              "      <th>50 per dev line</th>\n",
              "      <th>80 per dev line</th>\n",
              "      <th>Average Direction</th>\n",
              "      <th>Length of Trajectory</th>\n",
              "      <th>Ratio dist and length of trajectory</th>\n",
              "      <th>Average velocity</th>\n",
              "      <th>Median acceleration at first 5 pts</th>\n",
              "      <th>Mid-Stroke pressure</th>\n",
              "      <th>Mid-Stroke area covered</th>\n",
              "      <th>Mid-Stroke finger orientation</th>\n",
              "      <th>Change of finger orientation</th>\n",
              "      <th>Phone orientation</th>\n",
              "    </tr>\n",
              "  </thead>\n",
              "  <tbody>\n",
              "    <tr>\n",
              "      <th>0</th>\n",
              "      <td>1</td>\n",
              "      <td>4</td>\n",
              "      <td>0.913</td>\n",
              "      <td>0.320</td>\n",
              "      <td>27.7980</td>\n",
              "      <td>-35.647</td>\n",
              "      <td>5.8867</td>\n",
              "      <td>-36.737</td>\n",
              "      <td>21.939</td>\n",
              "      <td>0.83553</td>\n",
              "      <td>4</td>\n",
              "      <td>-3.09190</td>\n",
              "      <td>2</td>\n",
              "      <td>14.450</td>\n",
              "      <td>72.675</td>\n",
              "      <td>133.45</td>\n",
              "      <td>-12.047</td>\n",
              "      <td>497.89</td>\n",
              "      <td>1902.9</td>\n",
              "      <td>139.310</td>\n",
              "      <td>1.5963</td>\n",
              "      <td>-1.550000e-16</td>\n",
              "      <td>0.043064</td>\n",
              "      <td>1.135900e+00</td>\n",
              "      <td>-3.07500</td>\n",
              "      <td>22.310</td>\n",
              "      <td>0.98337</td>\n",
              "      <td>69.718</td>\n",
              "      <td>456.16</td>\n",
              "      <td>0.64</td>\n",
              "      <td>0.17778</td>\n",
              "      <td>0</td>\n",
              "      <td>0</td>\n",
              "      <td>1</td>\n",
              "    </tr>\n",
              "    <tr>\n",
              "      <th>1</th>\n",
              "      <td>1</td>\n",
              "      <td>4</td>\n",
              "      <td>10.818</td>\n",
              "      <td>0.172</td>\n",
              "      <td>27.5800</td>\n",
              "      <td>-31.069</td>\n",
              "      <td>4.5785</td>\n",
              "      <td>-36.737</td>\n",
              "      <td>23.690</td>\n",
              "      <td>0.77926</td>\n",
              "      <td>4</td>\n",
              "      <td>-2.90000</td>\n",
              "      <td>2</td>\n",
              "      <td>115.810</td>\n",
              "      <td>178.320</td>\n",
              "      <td>425.83</td>\n",
              "      <td>-26537.000</td>\n",
              "      <td>-1302.30</td>\n",
              "      <td>203310.0</td>\n",
              "      <td>113.500</td>\n",
              "      <td>2.5032</td>\n",
              "      <td>0.000000e+00</td>\n",
              "      <td>1.392300</td>\n",
              "      <td>2.028100e+00</td>\n",
              "      <td>-2.83590</td>\n",
              "      <td>24.629</td>\n",
              "      <td>0.96188</td>\n",
              "      <td>143.190</td>\n",
              "      <td>747.36</td>\n",
              "      <td>0.66</td>\n",
              "      <td>0.22222</td>\n",
              "      <td>0</td>\n",
              "      <td>0</td>\n",
              "      <td>1</td>\n",
              "    </tr>\n",
              "    <tr>\n",
              "      <th>2</th>\n",
              "      <td>1</td>\n",
              "      <td>4</td>\n",
              "      <td>0.759</td>\n",
              "      <td>0.277</td>\n",
              "      <td>5.0146</td>\n",
              "      <td>-40.553</td>\n",
              "      <td>34.4480</td>\n",
              "      <td>-32.486</td>\n",
              "      <td>30.519</td>\n",
              "      <td>0.91959</td>\n",
              "      <td>2</td>\n",
              "      <td>0.26751</td>\n",
              "      <td>2</td>\n",
              "      <td>36.830</td>\n",
              "      <td>78.611</td>\n",
              "      <td>188.46</td>\n",
              "      <td>-2217.900</td>\n",
              "      <td>1548.70</td>\n",
              "      <td>2539.3</td>\n",
              "      <td>197.020</td>\n",
              "      <td>-2.7546</td>\n",
              "      <td>-2.294100e+00</td>\n",
              "      <td>-1.119900</td>\n",
              "      <td>8.880000e-17</td>\n",
              "      <td>0.51158</td>\n",
              "      <td>31.574</td>\n",
              "      <td>0.96657</td>\n",
              "      <td>113.990</td>\n",
              "      <td>1965.30</td>\n",
              "      <td>0.65</td>\n",
              "      <td>0.22222</td>\n",
              "      <td>0</td>\n",
              "      <td>0</td>\n",
              "      <td>1</td>\n",
              "    </tr>\n",
              "    <tr>\n",
              "      <th>3</th>\n",
              "      <td>1</td>\n",
              "      <td>4</td>\n",
              "      <td>1.143</td>\n",
              "      <td>0.250</td>\n",
              "      <td>3.5974</td>\n",
              "      <td>-37.391</td>\n",
              "      <td>34.5570</td>\n",
              "      <td>-30.415</td>\n",
              "      <td>31.736</td>\n",
              "      <td>0.96025</td>\n",
              "      <td>2</td>\n",
              "      <td>0.22165</td>\n",
              "      <td>2</td>\n",
              "      <td>26.554</td>\n",
              "      <td>168.690</td>\n",
              "      <td>239.42</td>\n",
              "      <td>-2601.800</td>\n",
              "      <td>-1169.10</td>\n",
              "      <td>8637.7</td>\n",
              "      <td>114.770</td>\n",
              "      <td>-1.4514</td>\n",
              "      <td>-1.050000e+00</td>\n",
              "      <td>-0.492790</td>\n",
              "      <td>0.000000e+00</td>\n",
              "      <td>0.25501</td>\n",
              "      <td>32.084</td>\n",
              "      <td>0.98916</td>\n",
              "      <td>128.340</td>\n",
              "      <td>-788.47</td>\n",
              "      <td>0.77</td>\n",
              "      <td>0.24444</td>\n",
              "      <td>0</td>\n",
              "      <td>0</td>\n",
              "      <td>1</td>\n",
              "    </tr>\n",
              "    <tr>\n",
              "      <th>4</th>\n",
              "      <td>1</td>\n",
              "      <td>4</td>\n",
              "      <td>0.528</td>\n",
              "      <td>0.261</td>\n",
              "      <td>31.0690</td>\n",
              "      <td>-29.215</td>\n",
              "      <td>3.8155</td>\n",
              "      <td>-38.045</td>\n",
              "      <td>28.648</td>\n",
              "      <td>0.62760</td>\n",
              "      <td>4</td>\n",
              "      <td>-2.82830</td>\n",
              "      <td>2</td>\n",
              "      <td>34.637</td>\n",
              "      <td>85.099</td>\n",
              "      <td>228.20</td>\n",
              "      <td>-4750.100</td>\n",
              "      <td>-889.77</td>\n",
              "      <td>8633.5</td>\n",
              "      <td>33.615</td>\n",
              "      <td>4.9177</td>\n",
              "      <td>2.137200e-01</td>\n",
              "      <td>2.240700</td>\n",
              "      <td>3.798200e+00</td>\n",
              "      <td>-2.34940</td>\n",
              "      <td>32.598</td>\n",
              "      <td>0.87881</td>\n",
              "      <td>124.900</td>\n",
              "      <td>1384.20</td>\n",
              "      <td>0.70</td>\n",
              "      <td>0.28889</td>\n",
              "      <td>0</td>\n",
              "      <td>0</td>\n",
              "      <td>1</td>\n",
              "    </tr>\n",
              "  </tbody>\n",
              "</table>\n",
              "</div>"
            ],
            "text/plain": [
              "   User_ID  Doc_ID  ...  Change of finger orientation  Phone orientation\n",
              "0        1       4  ...                             0                  1\n",
              "1        1       4  ...                             0                  1\n",
              "2        1       4  ...                             0                  1\n",
              "3        1       4  ...                             0                  1\n",
              "4        1       4  ...                             0                  1\n",
              "\n",
              "[5 rows x 34 columns]"
            ]
          },
          "metadata": {
            "tags": []
          },
          "execution_count": 532
        }
      ]
    },
    {
      "cell_type": "code",
      "metadata": {
        "id": "CZ-ukd0s9r_R",
        "colab": {
          "base_uri": "https://localhost:8080/",
          "height": 292
        },
        "outputId": "11bf8192-f098-456c-f71d-8fa62bf47d08"
      },
      "source": [
        "\n",
        "\n",
        "\n",
        "# Removes rows with NaN in them\n",
        "filtered_data = raw_data[~np.isnan(raw_data)] \n",
        "\n",
        "# how to clean up data?\n",
        "\n",
        "x_y = np.array(filtered_data)\n",
        "x, y = x_y[:,0], x_y[:,1]\n",
        "\n",
        "# Reshaping\n",
        "x, y = x.reshape(-1,1), y.reshape(-1, 1)\n",
        "\n",
        "filtered_data.head()\n",
        "\n"
      ],
      "execution_count": 533,
      "outputs": [
        {
          "output_type": "execute_result",
          "data": {
            "text/html": [
              "<div>\n",
              "<style scoped>\n",
              "    .dataframe tbody tr th:only-of-type {\n",
              "        vertical-align: middle;\n",
              "    }\n",
              "\n",
              "    .dataframe tbody tr th {\n",
              "        vertical-align: top;\n",
              "    }\n",
              "\n",
              "    .dataframe thead th {\n",
              "        text-align: right;\n",
              "    }\n",
              "</style>\n",
              "<table border=\"1\" class=\"dataframe\">\n",
              "  <thead>\n",
              "    <tr style=\"text-align: right;\">\n",
              "      <th></th>\n",
              "      <th>User_ID</th>\n",
              "      <th>Doc_ID</th>\n",
              "      <th>Inter-Stroke time</th>\n",
              "      <th>Stroke Duration</th>\n",
              "      <th>Start X</th>\n",
              "      <th>Start Y</th>\n",
              "      <th>Stop X</th>\n",
              "      <th>Stop Y</th>\n",
              "      <th>Direct end-to-end Distance</th>\n",
              "      <th>Mean resulant length</th>\n",
              "      <th>WSAD Flag</th>\n",
              "      <th>Direction of end-to-end Time</th>\n",
              "      <th>Phone_ID</th>\n",
              "      <th>20 per pairwise velocity</th>\n",
              "      <th>50 per pairwise velocity</th>\n",
              "      <th>80 per pairwise velocity</th>\n",
              "      <th>20 per pairwise acc</th>\n",
              "      <th>50 per pairwise acc</th>\n",
              "      <th>80 per pairwise acc</th>\n",
              "      <th>Median velocity at last 3pts</th>\n",
              "      <th>Largest deviation from end-to-end line</th>\n",
              "      <th>20 per dev line</th>\n",
              "      <th>50 per dev line</th>\n",
              "      <th>80 per dev line</th>\n",
              "      <th>Average Direction</th>\n",
              "      <th>Length of Trajectory</th>\n",
              "      <th>Ratio dist and length of trajectory</th>\n",
              "      <th>Average velocity</th>\n",
              "      <th>Median acceleration at first 5 pts</th>\n",
              "      <th>Mid-Stroke pressure</th>\n",
              "      <th>Mid-Stroke area covered</th>\n",
              "      <th>Mid-Stroke finger orientation</th>\n",
              "      <th>Change of finger orientation</th>\n",
              "      <th>Phone orientation</th>\n",
              "    </tr>\n",
              "  </thead>\n",
              "  <tbody>\n",
              "    <tr>\n",
              "      <th>0</th>\n",
              "      <td>1</td>\n",
              "      <td>4</td>\n",
              "      <td>0.913</td>\n",
              "      <td>0.320</td>\n",
              "      <td>27.7980</td>\n",
              "      <td>-35.647</td>\n",
              "      <td>5.8867</td>\n",
              "      <td>-36.737</td>\n",
              "      <td>21.939</td>\n",
              "      <td>0.83553</td>\n",
              "      <td>4</td>\n",
              "      <td>-3.09190</td>\n",
              "      <td>2</td>\n",
              "      <td>14.450</td>\n",
              "      <td>72.675</td>\n",
              "      <td>133.45</td>\n",
              "      <td>-12.047</td>\n",
              "      <td>497.89</td>\n",
              "      <td>1902.9</td>\n",
              "      <td>139.310</td>\n",
              "      <td>1.5963</td>\n",
              "      <td>-1.550000e-16</td>\n",
              "      <td>0.043064</td>\n",
              "      <td>1.135900e+00</td>\n",
              "      <td>-3.07500</td>\n",
              "      <td>22.310</td>\n",
              "      <td>0.98337</td>\n",
              "      <td>69.718</td>\n",
              "      <td>456.16</td>\n",
              "      <td>0.64</td>\n",
              "      <td>0.17778</td>\n",
              "      <td>0</td>\n",
              "      <td>0</td>\n",
              "      <td>1</td>\n",
              "    </tr>\n",
              "    <tr>\n",
              "      <th>1</th>\n",
              "      <td>1</td>\n",
              "      <td>4</td>\n",
              "      <td>10.818</td>\n",
              "      <td>0.172</td>\n",
              "      <td>27.5800</td>\n",
              "      <td>-31.069</td>\n",
              "      <td>4.5785</td>\n",
              "      <td>-36.737</td>\n",
              "      <td>23.690</td>\n",
              "      <td>0.77926</td>\n",
              "      <td>4</td>\n",
              "      <td>-2.90000</td>\n",
              "      <td>2</td>\n",
              "      <td>115.810</td>\n",
              "      <td>178.320</td>\n",
              "      <td>425.83</td>\n",
              "      <td>-26537.000</td>\n",
              "      <td>-1302.30</td>\n",
              "      <td>203310.0</td>\n",
              "      <td>113.500</td>\n",
              "      <td>2.5032</td>\n",
              "      <td>0.000000e+00</td>\n",
              "      <td>1.392300</td>\n",
              "      <td>2.028100e+00</td>\n",
              "      <td>-2.83590</td>\n",
              "      <td>24.629</td>\n",
              "      <td>0.96188</td>\n",
              "      <td>143.190</td>\n",
              "      <td>747.36</td>\n",
              "      <td>0.66</td>\n",
              "      <td>0.22222</td>\n",
              "      <td>0</td>\n",
              "      <td>0</td>\n",
              "      <td>1</td>\n",
              "    </tr>\n",
              "    <tr>\n",
              "      <th>2</th>\n",
              "      <td>1</td>\n",
              "      <td>4</td>\n",
              "      <td>0.759</td>\n",
              "      <td>0.277</td>\n",
              "      <td>5.0146</td>\n",
              "      <td>-40.553</td>\n",
              "      <td>34.4480</td>\n",
              "      <td>-32.486</td>\n",
              "      <td>30.519</td>\n",
              "      <td>0.91959</td>\n",
              "      <td>2</td>\n",
              "      <td>0.26751</td>\n",
              "      <td>2</td>\n",
              "      <td>36.830</td>\n",
              "      <td>78.611</td>\n",
              "      <td>188.46</td>\n",
              "      <td>-2217.900</td>\n",
              "      <td>1548.70</td>\n",
              "      <td>2539.3</td>\n",
              "      <td>197.020</td>\n",
              "      <td>-2.7546</td>\n",
              "      <td>-2.294100e+00</td>\n",
              "      <td>-1.119900</td>\n",
              "      <td>8.880000e-17</td>\n",
              "      <td>0.51158</td>\n",
              "      <td>31.574</td>\n",
              "      <td>0.96657</td>\n",
              "      <td>113.990</td>\n",
              "      <td>1965.30</td>\n",
              "      <td>0.65</td>\n",
              "      <td>0.22222</td>\n",
              "      <td>0</td>\n",
              "      <td>0</td>\n",
              "      <td>1</td>\n",
              "    </tr>\n",
              "    <tr>\n",
              "      <th>3</th>\n",
              "      <td>1</td>\n",
              "      <td>4</td>\n",
              "      <td>1.143</td>\n",
              "      <td>0.250</td>\n",
              "      <td>3.5974</td>\n",
              "      <td>-37.391</td>\n",
              "      <td>34.5570</td>\n",
              "      <td>-30.415</td>\n",
              "      <td>31.736</td>\n",
              "      <td>0.96025</td>\n",
              "      <td>2</td>\n",
              "      <td>0.22165</td>\n",
              "      <td>2</td>\n",
              "      <td>26.554</td>\n",
              "      <td>168.690</td>\n",
              "      <td>239.42</td>\n",
              "      <td>-2601.800</td>\n",
              "      <td>-1169.10</td>\n",
              "      <td>8637.7</td>\n",
              "      <td>114.770</td>\n",
              "      <td>-1.4514</td>\n",
              "      <td>-1.050000e+00</td>\n",
              "      <td>-0.492790</td>\n",
              "      <td>0.000000e+00</td>\n",
              "      <td>0.25501</td>\n",
              "      <td>32.084</td>\n",
              "      <td>0.98916</td>\n",
              "      <td>128.340</td>\n",
              "      <td>-788.47</td>\n",
              "      <td>0.77</td>\n",
              "      <td>0.24444</td>\n",
              "      <td>0</td>\n",
              "      <td>0</td>\n",
              "      <td>1</td>\n",
              "    </tr>\n",
              "    <tr>\n",
              "      <th>4</th>\n",
              "      <td>1</td>\n",
              "      <td>4</td>\n",
              "      <td>0.528</td>\n",
              "      <td>0.261</td>\n",
              "      <td>31.0690</td>\n",
              "      <td>-29.215</td>\n",
              "      <td>3.8155</td>\n",
              "      <td>-38.045</td>\n",
              "      <td>28.648</td>\n",
              "      <td>0.62760</td>\n",
              "      <td>4</td>\n",
              "      <td>-2.82830</td>\n",
              "      <td>2</td>\n",
              "      <td>34.637</td>\n",
              "      <td>85.099</td>\n",
              "      <td>228.20</td>\n",
              "      <td>-4750.100</td>\n",
              "      <td>-889.77</td>\n",
              "      <td>8633.5</td>\n",
              "      <td>33.615</td>\n",
              "      <td>4.9177</td>\n",
              "      <td>2.137200e-01</td>\n",
              "      <td>2.240700</td>\n",
              "      <td>3.798200e+00</td>\n",
              "      <td>-2.34940</td>\n",
              "      <td>32.598</td>\n",
              "      <td>0.87881</td>\n",
              "      <td>124.900</td>\n",
              "      <td>1384.20</td>\n",
              "      <td>0.70</td>\n",
              "      <td>0.28889</td>\n",
              "      <td>0</td>\n",
              "      <td>0</td>\n",
              "      <td>1</td>\n",
              "    </tr>\n",
              "  </tbody>\n",
              "</table>\n",
              "</div>"
            ],
            "text/plain": [
              "   User_ID  Doc_ID  ...  Change of finger orientation  Phone orientation\n",
              "0        1       4  ...                             0                  1\n",
              "1        1       4  ...                             0                  1\n",
              "2        1       4  ...                             0                  1\n",
              "3        1       4  ...                             0                  1\n",
              "4        1       4  ...                             0                  1\n",
              "\n",
              "[5 rows x 34 columns]"
            ]
          },
          "metadata": {
            "tags": []
          },
          "execution_count": 533
        }
      ]
    },
    {
      "cell_type": "code",
      "metadata": {
        "id": "r3-R9fDV-J_L",
        "colab": {
          "base_uri": "https://localhost:8080/",
          "height": 282
        },
        "outputId": "006869e5-99ae-41d9-e56e-d02f3e95c865"
      },
      "source": [
        "# Linear Regression Object \n",
        "lin_regression = LinearRegression()\n",
        "\n",
        "# Fitting linear model to the data\n",
        "lin_regression.fit(x,y)\n",
        "\n",
        "# Get slope of fitted line\n",
        "m = lin_regression.coef_\n",
        "\n",
        "# Get y-Intercept of the Line\n",
        "b = lin_regression.intercept_\n",
        "\n",
        "# Get Predictions for original x values\n",
        "# you can also get predictions for new data\n",
        "predictions = lin_regression.predict(x)\n",
        "\n",
        "# following slope intercept form \n",
        "print ( \"formula: y = {0}x + {1}\".format(m, b) )\n",
        "\n",
        "# Plot the Original Model (Black) and Predictions (Blue)\n",
        "plt.scatter(x, y,  color='black')\n",
        "plt.plot(x, predictions, color='blue',linewidth=3)\n",
        "plt.show()"
      ],
      "execution_count": 534,
      "outputs": [
        {
          "output_type": "stream",
          "text": [
            "formula: y = [[0.69326683]]x + [2.21446384]\n"
          ],
          "name": "stdout"
        },
        {
          "output_type": "display_data",
          "data": {
            "image/png": "[encoded data removed]",
            "text/plain": [
              "<Figure size 432x288 with 1 Axes>"
            ]
          },
          "metadata": {
            "tags": []
          }
        }
      ]
    },
    {
      "cell_type": "code",
      "metadata": {
        "id": "vpuTy24tA9VT",
        "colab": {
          "base_uri": "https://localhost:8080/",
          "height": 292
        },
        "outputId": "0b166b4f-24a4-4d45-99fe-992613be4505"
      },
      "source": [
        "#df = pd.read_csv(url, names=['sepal length','sepal width','petal length','petal width','target'])\n",
        "#train = pd.read_csv(r\"featMatVersion0.csv\")\n",
        "#This is the unedited file from Eddie\n",
        "\n",
        "#df = pd.read_csv(r\"featMatVersion1.csv\")\n",
        "\n",
        "#df = pd.read_csv(r\"featMatVersion2.csv\")\n",
        "\n",
        "\n",
        "#/content/featMatVersion2.csv\n",
        "\n",
        "#df = pd.read_csv(r\"featMatVersion3.csv\")\n",
        "\n",
        "#df = pd.read_csv(r\"featMatVersion4.csv\")\n",
        "#Same as original but no comunns 2 and 13\n",
        "\n",
        "\n",
        "#df = pd.read_csv(r\"featMatVersion5.csv\")\n",
        "#Same as version1 but no comunns 2 and 13\n",
        "\n",
        "\n",
        "#df = pd.read_csv(r\"featMatVersion6.csv\")\n",
        "#Same as version2 but no comunns 2 and 13\n",
        "\n",
        "#df = pd.read_csv(r\"featMatVersion7.csv\")\n",
        "\n",
        "\n",
        "df = pd.read_csv(r\"featMatVersion8.csv\")\n",
        "#Same as version0 but only 2 users\n",
        "#has only 2 users\n",
        "\n",
        "\n",
        "\n",
        "#df = pd.read_csv(r\"featMatVersion7.csv\",names=['User_ID', 'Inter-Stroke time', 'Stroke Duration', 'Start X', 'Start Y',\n",
        " #      'Stop X', 'Stop Y', 'Direct end-to-end Distance',\n",
        "  #     'Mean resulant length', 'WSAD Flag', 'Direction of end-to-end Time',\n",
        "   #    '20 per pairwise velocity', '50 per pairwise velocity',\n",
        "    #   '80 per pairwise velocity', '20 per pairwise acc',\n",
        "     #  '50 per pairwise acc', '80 per pairwise acc',\n",
        "      # 'Median velocity at last 3pts',\n",
        "       #'Largest deviation from end-to-end line', '20 per dev line',\n",
        "       #'50 per dev line', '80 per dev line', 'Average Direction',\n",
        "       #'Length of Trajectory', 'Ratio dist and length of trajectory',\n",
        "       #'Average velocity', 'Median acceleration at first 5 pts',\n",
        "       #'Mid-Stroke pressure', 'Mid-Stroke area covered',\n",
        "       #'Mid-Stroke finger orientation', 'Change of finger orientation',\n",
        "       #'Phone orientation'] )\n",
        "#Same as version3 but no comunns 2 and 13\n",
        "\n",
        "\n",
        "df.head()\n"
      ],
      "execution_count": 535,
      "outputs": [
        {
          "output_type": "execute_result",
          "data": {
            "text/html": [
              "<div>\n",
              "<style scoped>\n",
              "    .dataframe tbody tr th:only-of-type {\n",
              "        vertical-align: middle;\n",
              "    }\n",
              "\n",
              "    .dataframe tbody tr th {\n",
              "        vertical-align: top;\n",
              "    }\n",
              "\n",
              "    .dataframe thead th {\n",
              "        text-align: right;\n",
              "    }\n",
              "</style>\n",
              "<table border=\"1\" class=\"dataframe\">\n",
              "  <thead>\n",
              "    <tr style=\"text-align: right;\">\n",
              "      <th></th>\n",
              "      <th>User_ID</th>\n",
              "      <th>Doc_ID</th>\n",
              "      <th>Inter-Stroke time</th>\n",
              "      <th>Stroke Duration</th>\n",
              "      <th>Start X</th>\n",
              "      <th>Start Y</th>\n",
              "      <th>Stop X</th>\n",
              "      <th>Stop Y</th>\n",
              "      <th>Direct end-to-end Distance</th>\n",
              "      <th>Mean resulant length</th>\n",
              "      <th>WSAD Flag</th>\n",
              "      <th>Direction of end-to-end Time</th>\n",
              "      <th>Phone_ID</th>\n",
              "      <th>20 per pairwise velocity</th>\n",
              "      <th>50 per pairwise velocity</th>\n",
              "      <th>80 per pairwise velocity</th>\n",
              "      <th>20 per pairwise acc</th>\n",
              "      <th>50 per pairwise acc</th>\n",
              "      <th>80 per pairwise acc</th>\n",
              "      <th>Median velocity at last 3pts</th>\n",
              "      <th>Largest deviation from end-to-end line</th>\n",
              "      <th>20 per dev line</th>\n",
              "      <th>50 per dev line</th>\n",
              "      <th>80 per dev line</th>\n",
              "      <th>Average Direction</th>\n",
              "      <th>Length of Trajectory</th>\n",
              "      <th>Ratio dist and length of trajectory</th>\n",
              "      <th>Average velocity</th>\n",
              "      <th>Median acceleration at first 5 pts</th>\n",
              "      <th>Mid-Stroke pressure</th>\n",
              "      <th>Mid-Stroke area covered</th>\n",
              "      <th>Mid-Stroke finger orientation</th>\n",
              "      <th>Change of finger orientation</th>\n",
              "      <th>Phone orientation</th>\n",
              "    </tr>\n",
              "  </thead>\n",
              "  <tbody>\n",
              "    <tr>\n",
              "      <th>0</th>\n",
              "      <td>1</td>\n",
              "      <td>4</td>\n",
              "      <td>0.913</td>\n",
              "      <td>0.320</td>\n",
              "      <td>27.7980</td>\n",
              "      <td>-35.647</td>\n",
              "      <td>5.8867</td>\n",
              "      <td>-36.737</td>\n",
              "      <td>21.939</td>\n",
              "      <td>0.83553</td>\n",
              "      <td>4</td>\n",
              "      <td>-3.09190</td>\n",
              "      <td>2</td>\n",
              "      <td>14.450</td>\n",
              "      <td>72.675</td>\n",
              "      <td>133.45</td>\n",
              "      <td>-12.047</td>\n",
              "      <td>497.89</td>\n",
              "      <td>1902.9</td>\n",
              "      <td>139.310</td>\n",
              "      <td>1.5963</td>\n",
              "      <td>-1.550000e-16</td>\n",
              "      <td>0.043064</td>\n",
              "      <td>1.135900e+00</td>\n",
              "      <td>-3.07500</td>\n",
              "      <td>22.310</td>\n",
              "      <td>0.98337</td>\n",
              "      <td>69.718</td>\n",
              "      <td>456.16</td>\n",
              "      <td>0.64</td>\n",
              "      <td>0.17778</td>\n",
              "      <td>0</td>\n",
              "      <td>0</td>\n",
              "      <td>1</td>\n",
              "    </tr>\n",
              "    <tr>\n",
              "      <th>1</th>\n",
              "      <td>1</td>\n",
              "      <td>4</td>\n",
              "      <td>10.818</td>\n",
              "      <td>0.172</td>\n",
              "      <td>27.5800</td>\n",
              "      <td>-31.069</td>\n",
              "      <td>4.5785</td>\n",
              "      <td>-36.737</td>\n",
              "      <td>23.690</td>\n",
              "      <td>0.77926</td>\n",
              "      <td>4</td>\n",
              "      <td>-2.90000</td>\n",
              "      <td>2</td>\n",
              "      <td>115.810</td>\n",
              "      <td>178.320</td>\n",
              "      <td>425.83</td>\n",
              "      <td>-26537.000</td>\n",
              "      <td>-1302.30</td>\n",
              "      <td>203310.0</td>\n",
              "      <td>113.500</td>\n",
              "      <td>2.5032</td>\n",
              "      <td>0.000000e+00</td>\n",
              "      <td>1.392300</td>\n",
              "      <td>2.028100e+00</td>\n",
              "      <td>-2.83590</td>\n",
              "      <td>24.629</td>\n",
              "      <td>0.96188</td>\n",
              "      <td>143.190</td>\n",
              "      <td>747.36</td>\n",
              "      <td>0.66</td>\n",
              "      <td>0.22222</td>\n",
              "      <td>0</td>\n",
              "      <td>0</td>\n",
              "      <td>1</td>\n",
              "    </tr>\n",
              "    <tr>\n",
              "      <th>2</th>\n",
              "      <td>1</td>\n",
              "      <td>4</td>\n",
              "      <td>0.759</td>\n",
              "      <td>0.277</td>\n",
              "      <td>5.0146</td>\n",
              "      <td>-40.553</td>\n",
              "      <td>34.4480</td>\n",
              "      <td>-32.486</td>\n",
              "      <td>30.519</td>\n",
              "      <td>0.91959</td>\n",
              "      <td>2</td>\n",
              "      <td>0.26751</td>\n",
              "      <td>2</td>\n",
              "      <td>36.830</td>\n",
              "      <td>78.611</td>\n",
              "      <td>188.46</td>\n",
              "      <td>-2217.900</td>\n",
              "      <td>1548.70</td>\n",
              "      <td>2539.3</td>\n",
              "      <td>197.020</td>\n",
              "      <td>-2.7546</td>\n",
              "      <td>-2.294100e+00</td>\n",
              "      <td>-1.119900</td>\n",
              "      <td>8.880000e-17</td>\n",
              "      <td>0.51158</td>\n",
              "      <td>31.574</td>\n",
              "      <td>0.96657</td>\n",
              "      <td>113.990</td>\n",
              "      <td>1965.30</td>\n",
              "      <td>0.65</td>\n",
              "      <td>0.22222</td>\n",
              "      <td>0</td>\n",
              "      <td>0</td>\n",
              "      <td>1</td>\n",
              "    </tr>\n",
              "    <tr>\n",
              "      <th>3</th>\n",
              "      <td>1</td>\n",
              "      <td>4</td>\n",
              "      <td>1.143</td>\n",
              "      <td>0.250</td>\n",
              "      <td>3.5974</td>\n",
              "      <td>-37.391</td>\n",
              "      <td>34.5570</td>\n",
              "      <td>-30.415</td>\n",
              "      <td>31.736</td>\n",
              "      <td>0.96025</td>\n",
              "      <td>2</td>\n",
              "      <td>0.22165</td>\n",
              "      <td>2</td>\n",
              "      <td>26.554</td>\n",
              "      <td>168.690</td>\n",
              "      <td>239.42</td>\n",
              "      <td>-2601.800</td>\n",
              "      <td>-1169.10</td>\n",
              "      <td>8637.7</td>\n",
              "      <td>114.770</td>\n",
              "      <td>-1.4514</td>\n",
              "      <td>-1.050000e+00</td>\n",
              "      <td>-0.492790</td>\n",
              "      <td>0.000000e+00</td>\n",
              "      <td>0.25501</td>\n",
              "      <td>32.084</td>\n",
              "      <td>0.98916</td>\n",
              "      <td>128.340</td>\n",
              "      <td>-788.47</td>\n",
              "      <td>0.77</td>\n",
              "      <td>0.24444</td>\n",
              "      <td>0</td>\n",
              "      <td>0</td>\n",
              "      <td>1</td>\n",
              "    </tr>\n",
              "    <tr>\n",
              "      <th>4</th>\n",
              "      <td>1</td>\n",
              "      <td>4</td>\n",
              "      <td>0.528</td>\n",
              "      <td>0.261</td>\n",
              "      <td>31.0690</td>\n",
              "      <td>-29.215</td>\n",
              "      <td>3.8155</td>\n",
              "      <td>-38.045</td>\n",
              "      <td>28.648</td>\n",
              "      <td>0.62760</td>\n",
              "      <td>4</td>\n",
              "      <td>-2.82830</td>\n",
              "      <td>2</td>\n",
              "      <td>34.637</td>\n",
              "      <td>85.099</td>\n",
              "      <td>228.20</td>\n",
              "      <td>-4750.100</td>\n",
              "      <td>-889.77</td>\n",
              "      <td>8633.5</td>\n",
              "      <td>33.615</td>\n",
              "      <td>4.9177</td>\n",
              "      <td>2.137200e-01</td>\n",
              "      <td>2.240700</td>\n",
              "      <td>3.798200e+00</td>\n",
              "      <td>-2.34940</td>\n",
              "      <td>32.598</td>\n",
              "      <td>0.87881</td>\n",
              "      <td>124.900</td>\n",
              "      <td>1384.20</td>\n",
              "      <td>0.70</td>\n",
              "      <td>0.28889</td>\n",
              "      <td>0</td>\n",
              "      <td>0</td>\n",
              "      <td>1</td>\n",
              "    </tr>\n",
              "  </tbody>\n",
              "</table>\n",
              "</div>"
            ],
            "text/plain": [
              "   User_ID  Doc_ID  ...  Change of finger orientation  Phone orientation\n",
              "0        1       4  ...                             0                  1\n",
              "1        1       4  ...                             0                  1\n",
              "2        1       4  ...                             0                  1\n",
              "3        1       4  ...                             0                  1\n",
              "4        1       4  ...                             0                  1\n",
              "\n",
              "[5 rows x 34 columns]"
            ]
          },
          "metadata": {
            "tags": []
          },
          "execution_count": 535
        }
      ]
    },
    {
      "cell_type": "code",
      "metadata": {
        "id": "4dr1ExyJAuFY"
      },
      "source": [
        "\n",
        "\n",
        "features=[ 'Inter-Stroke time', 'Stroke Duration', 'Start X', 'Start Y',\n",
        "       'Stop X', 'Stop Y', 'Direct end-to-end Distance',\n",
        "       'Mean resulant length', 'WSAD Flag', 'Direction of end-to-end Time',\n",
        "       '20 per pairwise velocity', '50 per pairwise velocity',\n",
        "       '80 per pairwise velocity', '20 per pairwise acc',\n",
        "       '50 per pairwise acc', '80 per pairwise acc',\n",
        "       'Median velocity at last 3pts',\n",
        "       'Largest deviation from end-to-end line', '20 per dev line',\n",
        "       '50 per dev line', '80 per dev line', 'Average Direction',\n",
        "       'Length of Trajectory', 'Ratio dist and length of trajectory',\n",
        "       'Average velocity', 'Median acceleration at first 5 pts',\n",
        "       'Mid-Stroke pressure', 'Mid-Stroke area covered',\n",
        "       'Mid-Stroke finger orientation', 'Change of finger orientation',\n",
        "       'Phone orientation']\n",
        "\n"
      ],
      "execution_count": 536,
      "outputs": []
    },
    {
      "cell_type": "code",
      "metadata": {
        "id": "OqeNut1lCiAf"
      },
      "source": [
        "\n",
        "# Separating out the features\n",
        "x = df.loc[:, features].values\n",
        "# Separating out the target\n",
        "y = df.loc[:,['User_ID']].values\n",
        "# Standardizing the features\n",
        "x = StandardScaler().fit_transform(x)\n",
        "\n"
      ],
      "execution_count": 537,
      "outputs": []
    },
    {
      "cell_type": "code",
      "metadata": {
        "id": "TIHqgPNEGDXC",
        "colab": {
          "base_uri": "https://localhost:8080/",
          "height": 238
        },
        "outputId": "510c3597-e77e-4ba1-9f81-ea63faf723c8"
      },
      "source": [
        "pca = PCA(n_components=10)\n",
        "principalComponents = pca.fit_transform(x)\n",
        "# a way to loop and make column names?\n",
        "#Change from 1 to 31\n",
        "\n",
        "#1 is worse\n",
        "#2 is worse than using all\n",
        "#3 is better than 2\n",
        "\n",
        "#More seems to be more accurate\n",
        "#How to compare all PCA values in an easy way?\n",
        "\n",
        "principalDf = pd.DataFrame(data = principalComponents\n",
        "             , columns = ['principal component 1', 'principal component 2', 'principal component 3',\n",
        "                           'principal component 4', 'principal component 5', 'principal component 6',\n",
        "                           'principal component 7', 'principal component 8' , 'principal component 9',\n",
        "                           'principal component 10'])\n",
        "\n",
        "\n",
        "#, 'principal component 2'\n",
        "\n",
        "principalDf.head()"
      ],
      "execution_count": 538,
      "outputs": [
        {
          "output_type": "execute_result",
          "data": {
            "text/html": [
              "<div>\n",
              "<style scoped>\n",
              "    .dataframe tbody tr th:only-of-type {\n",
              "        vertical-align: middle;\n",
              "    }\n",
              "\n",
              "    .dataframe tbody tr th {\n",
              "        vertical-align: top;\n",
              "    }\n",
              "\n",
              "    .dataframe thead th {\n",
              "        text-align: right;\n",
              "    }\n",
              "</style>\n",
              "<table border=\"1\" class=\"dataframe\">\n",
              "  <thead>\n",
              "    <tr style=\"text-align: right;\">\n",
              "      <th></th>\n",
              "      <th>principal component 1</th>\n",
              "      <th>principal component 2</th>\n",
              "      <th>principal component 3</th>\n",
              "      <th>principal component 4</th>\n",
              "      <th>principal component 5</th>\n",
              "      <th>principal component 6</th>\n",
              "      <th>principal component 7</th>\n",
              "      <th>principal component 8</th>\n",
              "      <th>principal component 9</th>\n",
              "      <th>principal component 10</th>\n",
              "    </tr>\n",
              "  </thead>\n",
              "  <tbody>\n",
              "    <tr>\n",
              "      <th>0</th>\n",
              "      <td>3.444470</td>\n",
              "      <td>1.011339</td>\n",
              "      <td>2.078522</td>\n",
              "      <td>-0.526091</td>\n",
              "      <td>1.074555</td>\n",
              "      <td>1.066958</td>\n",
              "      <td>-0.730109</td>\n",
              "      <td>-1.547997</td>\n",
              "      <td>0.078282</td>\n",
              "      <td>1.496705</td>\n",
              "    </tr>\n",
              "    <tr>\n",
              "      <th>1</th>\n",
              "      <td>6.104657</td>\n",
              "      <td>1.837333</td>\n",
              "      <td>3.310439</td>\n",
              "      <td>-0.801727</td>\n",
              "      <td>1.028295</td>\n",
              "      <td>0.350752</td>\n",
              "      <td>-0.305149</td>\n",
              "      <td>-1.161724</td>\n",
              "      <td>0.106889</td>\n",
              "      <td>0.344843</td>\n",
              "    </tr>\n",
              "    <tr>\n",
              "      <th>2</th>\n",
              "      <td>2.992949</td>\n",
              "      <td>-3.957357</td>\n",
              "      <td>-1.221998</td>\n",
              "      <td>-2.646784</td>\n",
              "      <td>0.940336</td>\n",
              "      <td>-2.090720</td>\n",
              "      <td>0.708102</td>\n",
              "      <td>-0.042915</td>\n",
              "      <td>-0.036266</td>\n",
              "      <td>0.710323</td>\n",
              "    </tr>\n",
              "    <tr>\n",
              "      <th>3</th>\n",
              "      <td>3.382927</td>\n",
              "      <td>-3.275446</td>\n",
              "      <td>-0.079905</td>\n",
              "      <td>-2.262077</td>\n",
              "      <td>-0.001473</td>\n",
              "      <td>-2.549547</td>\n",
              "      <td>0.739521</td>\n",
              "      <td>0.069624</td>\n",
              "      <td>-0.134669</td>\n",
              "      <td>0.856025</td>\n",
              "    </tr>\n",
              "    <tr>\n",
              "      <th>4</th>\n",
              "      <td>4.900001</td>\n",
              "      <td>2.805449</td>\n",
              "      <td>6.015542</td>\n",
              "      <td>0.746695</td>\n",
              "      <td>1.531648</td>\n",
              "      <td>-0.341583</td>\n",
              "      <td>0.529588</td>\n",
              "      <td>-0.776317</td>\n",
              "      <td>0.056026</td>\n",
              "      <td>1.602935</td>\n",
              "    </tr>\n",
              "  </tbody>\n",
              "</table>\n",
              "</div>"
            ],
            "text/plain": [
              "   principal component 1  ...  principal component 10\n",
              "0               3.444470  ...                1.496705\n",
              "1               6.104657  ...                0.344843\n",
              "2               2.992949  ...                0.710323\n",
              "3               3.382927  ...                0.856025\n",
              "4               4.900001  ...                1.602935\n",
              "\n",
              "[5 rows x 10 columns]"
            ]
          },
          "metadata": {
            "tags": []
          },
          "execution_count": 538
        }
      ]
    },
    {
      "cell_type": "code",
      "metadata": {
        "id": "49ojIcOKGR0L",
        "colab": {
          "base_uri": "https://localhost:8080/",
          "height": 238
        },
        "outputId": "217ce170-545d-4f55-bd83-6525cef95c51"
      },
      "source": [
        "finalDf = pd.concat([principalDf, df[['User_ID']]], axis = 1)\n",
        "\n",
        "finalDf.head()\n"
      ],
      "execution_count": 539,
      "outputs": [
        {
          "output_type": "execute_result",
          "data": {
            "text/html": [
              "<div>\n",
              "<style scoped>\n",
              "    .dataframe tbody tr th:only-of-type {\n",
              "        vertical-align: middle;\n",
              "    }\n",
              "\n",
              "    .dataframe tbody tr th {\n",
              "        vertical-align: top;\n",
              "    }\n",
              "\n",
              "    .dataframe thead th {\n",
              "        text-align: right;\n",
              "    }\n",
              "</style>\n",
              "<table border=\"1\" class=\"dataframe\">\n",
              "  <thead>\n",
              "    <tr style=\"text-align: right;\">\n",
              "      <th></th>\n",
              "      <th>principal component 1</th>\n",
              "      <th>principal component 2</th>\n",
              "      <th>principal component 3</th>\n",
              "      <th>principal component 4</th>\n",
              "      <th>principal component 5</th>\n",
              "      <th>principal component 6</th>\n",
              "      <th>principal component 7</th>\n",
              "      <th>principal component 8</th>\n",
              "      <th>principal component 9</th>\n",
              "      <th>principal component 10</th>\n",
              "      <th>User_ID</th>\n",
              "    </tr>\n",
              "  </thead>\n",
              "  <tbody>\n",
              "    <tr>\n",
              "      <th>0</th>\n",
              "      <td>3.444470</td>\n",
              "      <td>1.011339</td>\n",
              "      <td>2.078522</td>\n",
              "      <td>-0.526091</td>\n",
              "      <td>1.074555</td>\n",
              "      <td>1.066958</td>\n",
              "      <td>-0.730109</td>\n",
              "      <td>-1.547997</td>\n",
              "      <td>0.078282</td>\n",
              "      <td>1.496705</td>\n",
              "      <td>1</td>\n",
              "    </tr>\n",
              "    <tr>\n",
              "      <th>1</th>\n",
              "      <td>6.104657</td>\n",
              "      <td>1.837333</td>\n",
              "      <td>3.310439</td>\n",
              "      <td>-0.801727</td>\n",
              "      <td>1.028295</td>\n",
              "      <td>0.350752</td>\n",
              "      <td>-0.305149</td>\n",
              "      <td>-1.161724</td>\n",
              "      <td>0.106889</td>\n",
              "      <td>0.344843</td>\n",
              "      <td>1</td>\n",
              "    </tr>\n",
              "    <tr>\n",
              "      <th>2</th>\n",
              "      <td>2.992949</td>\n",
              "      <td>-3.957357</td>\n",
              "      <td>-1.221998</td>\n",
              "      <td>-2.646784</td>\n",
              "      <td>0.940336</td>\n",
              "      <td>-2.090720</td>\n",
              "      <td>0.708102</td>\n",
              "      <td>-0.042915</td>\n",
              "      <td>-0.036266</td>\n",
              "      <td>0.710323</td>\n",
              "      <td>1</td>\n",
              "    </tr>\n",
              "    <tr>\n",
              "      <th>3</th>\n",
              "      <td>3.382927</td>\n",
              "      <td>-3.275446</td>\n",
              "      <td>-0.079905</td>\n",
              "      <td>-2.262077</td>\n",
              "      <td>-0.001473</td>\n",
              "      <td>-2.549547</td>\n",
              "      <td>0.739521</td>\n",
              "      <td>0.069624</td>\n",
              "      <td>-0.134669</td>\n",
              "      <td>0.856025</td>\n",
              "      <td>1</td>\n",
              "    </tr>\n",
              "    <tr>\n",
              "      <th>4</th>\n",
              "      <td>4.900001</td>\n",
              "      <td>2.805449</td>\n",
              "      <td>6.015542</td>\n",
              "      <td>0.746695</td>\n",
              "      <td>1.531648</td>\n",
              "      <td>-0.341583</td>\n",
              "      <td>0.529588</td>\n",
              "      <td>-0.776317</td>\n",
              "      <td>0.056026</td>\n",
              "      <td>1.602935</td>\n",
              "      <td>1</td>\n",
              "    </tr>\n",
              "  </tbody>\n",
              "</table>\n",
              "</div>"
            ],
            "text/plain": [
              "   principal component 1  ...  User_ID\n",
              "0               3.444470  ...        1\n",
              "1               6.104657  ...        1\n",
              "2               2.992949  ...        1\n",
              "3               3.382927  ...        1\n",
              "4               4.900001  ...        1\n",
              "\n",
              "[5 rows x 11 columns]"
            ]
          },
          "metadata": {
            "tags": []
          },
          "execution_count": 539
        }
      ]
    },
    {
      "cell_type": "code",
      "metadata": {
        "id": "0jxN8JaUI8_7",
        "colab": {
          "base_uri": "https://localhost:8080/"
        },
        "outputId": "62903bab-1383-4842-860a-04a979c25c61"
      },
      "source": [
        "pca.explained_variance_ratio_"
      ],
      "execution_count": 540,
      "outputs": [
        {
          "output_type": "execute_result",
          "data": {
            "text/plain": [
              "array([0.24338383, 0.16856221, 0.10878472, 0.09506603, 0.07360869,\n",
              "       0.05155831, 0.03874568, 0.03710972, 0.03561516, 0.02928562])"
            ]
          },
          "metadata": {
            "tags": []
          },
          "execution_count": 540
        }
      ]
    },
    {
      "cell_type": "code",
      "metadata": {
        "id": "T-uuuUVYA4iE",
        "colab": {
          "base_uri": "https://localhost:8080/"
        },
        "outputId": "e0950c60-0fab-472e-8b0f-a8852e06d5cc"
      },
      "source": [
        "print (pca.components_)"
      ],
      "execution_count": 541,
      "outputs": [
        {
          "output_type": "stream",
          "text": [
            "[[-7.09554283e-03 -1.28919237e-01  1.21314688e-01  7.10633077e-02\n",
            "   8.34940479e-02 -4.01687149e-02  2.76394045e-01  3.65730309e-02\n",
            "   4.70933834e-02 -2.81401257e-01  2.99410385e-01  3.31130420e-01\n",
            "   2.83654489e-01 -1.30356562e-01  1.26822332e-01  2.21856053e-01\n",
            "   3.21926390e-01  7.24278028e-02 -3.70781650e-02  2.91123009e-02\n",
            "   1.25612339e-01 -2.71421129e-01  2.56426809e-01  1.03293569e-01\n",
            "   3.44493789e-01  1.31835222e-01  1.08381044e-01  9.49278092e-02\n",
            "  -0.00000000e+00 -0.00000000e+00 -0.00000000e+00]\n",
            " [ 1.31497166e-02 -1.44610767e-01 -1.93189822e-01 -2.37765442e-01\n",
            "  -3.24166085e-01 -3.12668486e-01 -1.37761013e-01 -8.63764115e-02\n",
            "   1.12715162e-01 -1.24460438e-01  1.33874265e-03  1.06105450e-02\n",
            "   2.83945260e-02 -4.79524957e-02  8.27864959e-03  2.43596037e-02\n",
            "   1.95854526e-03  3.51181610e-01  3.44564776e-01  3.45262935e-01\n",
            "   2.97111315e-01 -1.26770311e-01 -1.57726281e-01  2.18348568e-02\n",
            "   1.90579233e-02  1.11023069e-02 -2.70259152e-01 -2.43327729e-01\n",
            "   0.00000000e+00  0.00000000e+00  0.00000000e+00]\n",
            " [ 2.84777412e-03  1.62632088e-01  2.62478154e-01  1.90598821e-01\n",
            "   2.29509940e-02  2.10540175e-01  1.82713616e-01 -8.24667016e-02\n",
            "   2.41040875e-01 -2.64365539e-02  6.27654782e-02 -9.15152836e-02\n",
            "  -2.33430642e-01  1.18648127e-01 -2.26676340e-01 -2.22958884e-01\n",
            "  -1.16816229e-01  2.97830642e-01  1.89798594e-01  2.75498738e-01\n",
            "   3.28854221e-01 -3.19323825e-02  1.87622427e-01 -4.52575477e-02\n",
            "  -4.16652629e-02 -2.20076204e-01  2.72393826e-01  2.39690519e-01\n",
            "   0.00000000e+00  0.00000000e+00  0.00000000e+00]\n",
            " [-5.62684407e-04  1.94769357e-01  1.39801423e-01  1.46138781e-01\n",
            "  -5.10035060e-02  1.83060673e-01 -1.20193333e-01 -2.54237959e-01\n",
            "   2.05261244e-01  9.70326007e-02 -2.06944040e-01 -1.14524554e-01\n",
            "   2.76168246e-01 -1.20773447e-01  4.44372020e-01  2.84101558e-01\n",
            "  -8.27140440e-02  9.81175665e-02  1.04634781e-01  8.55728489e-02\n",
            "   6.68079278e-02  7.33943146e-02 -9.22417396e-02 -1.41718165e-01\n",
            "  -1.67088928e-01  4.42472427e-01  1.45237728e-01  1.07080119e-01\n",
            "   0.00000000e+00  0.00000000e+00  0.00000000e+00]\n",
            " [-2.86293067e-02  1.97215693e-01 -1.17469851e-01 -2.42610575e-01\n",
            "  -2.93852288e-01 -2.73242120e-01  3.72000429e-02 -4.85639822e-01\n",
            "   2.10009789e-01 -1.23911350e-01  3.80741605e-02 -1.71709043e-02\n",
            "  -4.83690387e-02 -2.92844705e-02 -7.13482515e-02 -5.79063392e-02\n",
            "  -2.83416969e-03 -1.35348852e-01 -3.07419147e-01 -2.07967891e-01\n",
            "  -1.92868890e-02 -1.69102793e-01  1.58972379e-01 -4.10014306e-01\n",
            "   2.08840071e-02 -6.89273284e-02  8.54084822e-02  1.60079861e-01\n",
            "   0.00000000e+00  0.00000000e+00  0.00000000e+00]\n",
            " [-7.21533351e-02 -1.10338838e-01  4.03595365e-01  3.89631562e-01\n",
            "   9.66684336e-02  1.23629258e-01 -2.59527730e-01 -2.29660387e-01\n",
            "   1.15090073e-01 -3.09125493e-01 -5.23350366e-02  3.34483918e-03\n",
            "  -5.39974685e-02 -1.31212793e-01 -1.18318204e-01 -5.35707254e-02\n",
            "  -2.00701405e-02 -4.28518969e-02 -6.77768142e-02 -1.13619939e-01\n",
            "  -8.54910732e-02 -3.32543240e-01 -2.25881985e-01 -8.92033529e-02\n",
            "   7.61784001e-03 -1.11543947e-01 -2.36296855e-01 -3.31182061e-01\n",
            "  -0.00000000e+00 -0.00000000e+00 -0.00000000e+00]\n",
            " [-6.11532616e-02  1.34673605e-01 -9.63894193e-02  1.41759041e-01\n",
            "   1.84770138e-01 -9.09807423e-04 -2.40582197e-02 -1.95028861e-02\n",
            "  -5.33418177e-01 -9.12328139e-02  2.59219473e-02  6.33178664e-02\n",
            "  -5.55291326e-02  4.24851518e-01  1.73427993e-01 -1.08994533e-01\n",
            "   2.24077887e-02 -1.29420008e-02  4.02734074e-02  1.49912738e-01\n",
            "   1.86389128e-01 -1.19108996e-01  1.24329382e-01 -4.95014495e-01\n",
            "   2.63188070e-02  1.70911011e-01 -9.30252475e-02 -1.33456257e-01\n",
            "  -0.00000000e+00 -0.00000000e+00 -0.00000000e+00]\n",
            " [ 4.59558682e-02  2.19363774e-01 -7.54827252e-02  7.64770399e-03\n",
            "   1.76739684e-01  3.65210524e-02 -6.78632350e-02 -1.07576018e-02\n",
            "  -2.69618364e-01  1.25697201e-01 -9.70362524e-02  1.96332854e-02\n",
            "   1.40310707e-01 -5.87729441e-01 -2.98678850e-01  2.69041963e-01\n",
            "   1.86808324e-01  1.14813109e-02  1.09936378e-01  1.26576585e-01\n",
            "   9.84429998e-02  1.10988115e-01  1.38139274e-02 -3.16504356e-01\n",
            "   4.87113588e-03 -3.09421715e-01  1.79993020e-02 -1.08220229e-02\n",
            "   0.00000000e+00  0.00000000e+00  0.00000000e+00]\n",
            " [ 9.92049252e-01 -2.91021330e-02  2.01615941e-02  4.67775212e-02\n",
            "  -1.52278970e-02  2.03729175e-02 -1.39626744e-02 -1.41803138e-02\n",
            "   8.14599983e-03 -2.60589557e-02  1.50558882e-02  6.34908148e-03\n",
            "  -9.37708069e-03  4.16523527e-02  1.42539951e-02 -1.97487291e-02\n",
            "  -6.19664810e-03 -1.73493853e-02 -3.27179007e-02 -1.55203619e-02\n",
            "   5.29288417e-03 -2.65154769e-02  8.03079811e-03 -5.97684916e-02\n",
            "   8.19052732e-03  1.49212824e-02 -2.58230411e-02 -3.08242181e-02\n",
            "   0.00000000e+00  0.00000000e+00  0.00000000e+00]\n",
            " [ 1.66539376e-02 -5.40668469e-02  1.79770813e-03 -3.84193856e-02\n",
            "  -3.26949728e-02 -1.43488243e-01  1.18872361e-01  2.60777826e-01\n",
            "  -3.02837470e-01 -3.75214610e-01 -1.51554050e-01 -3.79581374e-01\n",
            "  -3.29280759e-02 -3.47189028e-01  8.73347480e-02 -5.41933811e-02\n",
            "  -3.60824379e-01  6.46054044e-03 -5.90456533e-02  5.01820947e-03\n",
            "   2.06207031e-02 -3.41589071e-01  1.12519709e-01  8.69249104e-02\n",
            "  -1.91406191e-01  1.00337198e-01  1.02047240e-01  1.77765709e-01\n",
            "  -0.00000000e+00 -0.00000000e+00 -0.00000000e+00]]\n"
          ],
          "name": "stdout"
        }
      ]
    },
    {
      "cell_type": "code",
      "metadata": {
        "id": "joadxTiIBF9b"
      },
      "source": [
        "pca2 = PCA(.95)"
      ],
      "execution_count": 542,
      "outputs": []
    },
    {
      "cell_type": "code",
      "metadata": {
        "id": "c73RtdHNBy3h",
        "colab": {
          "base_uri": "https://localhost:8080/"
        },
        "outputId": "711abcaa-45c4-4735-c31e-8d1820fdd5c4"
      },
      "source": [
        "pca2.fit(X_train)"
      ],
      "execution_count": 543,
      "outputs": [
        {
          "output_type": "execute_result",
          "data": {
            "text/plain": [
              "PCA(copy=True, iterated_power='auto', n_components=0.95, random_state=None,\n",
              "    svd_solver='auto', tol=0.0, whiten=False)"
            ]
          },
          "metadata": {
            "tags": []
          },
          "execution_count": 543
        }
      ]
    },
    {
      "cell_type": "code",
      "metadata": {
        "id": "HJsLz70bCaie"
      },
      "source": [
        "X_train = pca2.transform(X_train)\n",
        "X_test = pca2.transform(X_test)"
      ],
      "execution_count": 544,
      "outputs": []
    },
    {
      "cell_type": "code",
      "metadata": {
        "id": "pwfgLlnjDhn3"
      },
      "source": [
        "logisticRegr = LogisticRegression(solver = 'lbfgs')"
      ],
      "execution_count": 545,
      "outputs": []
    },
    {
      "cell_type": "code",
      "metadata": {
        "id": "YV-uUkhGDrQW",
        "colab": {
          "base_uri": "https://localhost:8080/"
        },
        "outputId": "a570825c-0d89-44b0-ad45-0872462fe031"
      },
      "source": [
        "logisticRegr.fit(X_train, y_train)"
      ],
      "execution_count": 546,
      "outputs": [
        {
          "output_type": "execute_result",
          "data": {
            "text/plain": [
              "LogisticRegression(C=1.0, class_weight=None, dual=False, fit_intercept=True,\n",
              "                   intercept_scaling=1, l1_ratio=None, max_iter=100,\n",
              "                   multi_class='auto', n_jobs=None, penalty='l2',\n",
              "                   random_state=None, solver='lbfgs', tol=0.0001, verbose=0,\n",
              "                   warm_start=False)"
            ]
          },
          "metadata": {
            "tags": []
          },
          "execution_count": 546
        }
      ]
    },
    {
      "cell_type": "code",
      "metadata": {
        "id": "dNde6AJWEBdT",
        "colab": {
          "base_uri": "https://localhost:8080/"
        },
        "outputId": "8dd4a1e2-3073-4421-e2e9-2d5b5658071a"
      },
      "source": [
        "logisticRegr.predict(X_test[0].reshape(1,-1))"
      ],
      "execution_count": 547,
      "outputs": [
        {
          "output_type": "execute_result",
          "data": {
            "text/plain": [
              "array([0])"
            ]
          },
          "metadata": {
            "tags": []
          },
          "execution_count": 547
        }
      ]
    },
    {
      "cell_type": "code",
      "metadata": {
        "id": "VfgMPMVxEKRN",
        "colab": {
          "base_uri": "https://localhost:8080/"
        },
        "outputId": "6f031664-3a39-430d-e526-17e3274808bf"
      },
      "source": [
        "logisticRegr.predict(X_test[0:10])"
      ],
      "execution_count": 548,
      "outputs": [
        {
          "output_type": "execute_result",
          "data": {
            "text/plain": [
              "array([0, 0, 1, 0, 1, 0, 1, 1, 1, 0])"
            ]
          },
          "metadata": {
            "tags": []
          },
          "execution_count": 548
        }
      ]
    },
    {
      "cell_type": "code",
      "metadata": {
        "id": "RsstPFZDEc3r"
      },
      "source": [
        "#logisticRegr.score(X_test, y_train)\n",
        "#error inconsistent number of samples\n",
        "#try making more consistent\n",
        "#Not sure how to fix"
      ],
      "execution_count": 549,
      "outputs": []
    },
    {
      "cell_type": "code",
      "metadata": {
        "id": "e2AuvK-Te8pT"
      },
      "source": [
        "# try knn on the pca"
      ],
      "execution_count": 550,
      "outputs": []
    },
    {
      "cell_type": "code",
      "metadata": {
        "colab": {
          "base_uri": "https://localhost:8080/"
        },
        "id": "ORkrsCJFfK2l",
        "outputId": "68394c2e-c89c-4bff-9c99-7cf6d1b6afc0"
      },
      "source": [
        "np.any(np.isnan(finalDf))"
      ],
      "execution_count": 551,
      "outputs": [
        {
          "output_type": "execute_result",
          "data": {
            "text/plain": [
              "False"
            ]
          },
          "metadata": {
            "tags": []
          },
          "execution_count": 551
        }
      ]
    },
    {
      "cell_type": "code",
      "metadata": {
        "colab": {
          "base_uri": "https://localhost:8080/"
        },
        "id": "mYacGSusfSkF",
        "outputId": "3060cfa4-020c-483e-bff4-819f766e58a2"
      },
      "source": [
        "np.all(np.isfinite(finalDf))"
      ],
      "execution_count": 552,
      "outputs": [
        {
          "output_type": "execute_result",
          "data": {
            "text/plain": [
              "True"
            ]
          },
          "metadata": {
            "tags": []
          },
          "execution_count": 552
        }
      ]
    },
    {
      "cell_type": "code",
      "metadata": {
        "colab": {
          "base_uri": "https://localhost:8080/"
        },
        "id": "S6_aVOmrfStD",
        "outputId": "890be147-19dd-45af-cabe-d31b0e8c7090"
      },
      "source": [
        "finalDf.columns"
      ],
      "execution_count": 553,
      "outputs": [
        {
          "output_type": "execute_result",
          "data": {
            "text/plain": [
              "Index(['principal component 1', 'principal component 2',\n",
              "       'principal component 3', 'principal component 4',\n",
              "       'principal component 5', 'principal component 6',\n",
              "       'principal component 7', 'principal component 8',\n",
              "       'principal component 9', 'principal component 10', 'User_ID'],\n",
              "      dtype='object')"
            ]
          },
          "metadata": {
            "tags": []
          },
          "execution_count": 553
        }
      ]
    },
    {
      "cell_type": "code",
      "metadata": {
        "colab": {
          "base_uri": "https://localhost:8080/"
        },
        "id": "vC5bIhFrfSwx",
        "outputId": "27b9e97c-a6c9-41e1-91b4-357841297229"
      },
      "source": [
        "finalDf['User_ID'].value_counts()"
      ],
      "execution_count": 554,
      "outputs": [
        {
          "output_type": "execute_result",
          "data": {
            "text/plain": [
              "1    401\n",
              "0    401\n",
              "Name: User_ID, dtype: int64"
            ]
          },
          "metadata": {
            "tags": []
          },
          "execution_count": 554
        }
      ]
    },
    {
      "cell_type": "code",
      "metadata": {
        "id": "hmf4LGvNfSz_"
      },
      "source": [
        "#Choosing the columns for X\n",
        "#Not using 'User_ID'\n",
        "#technically reusing variables\n",
        "#should be fine though\n",
        "#could add numbers\n",
        "\n",
        "X = finalDf[['principal component 1', 'principal component 2', 'principal component 3',# ]].values\n",
        "\n",
        "\n",
        "#columns = ['principal component 1', 'principal component 2', 'principal component 3',\n",
        "                           'principal component 4', 'principal component 5', 'principal component 6',\n",
        "                           'principal component 7', 'principal component 8' , 'principal component 9',\n",
        "                           'principal component 10']].values\n",
        "\n",
        "#, 'principal component 2'\n",
        "\n",
        "# need to change here"
      ],
      "execution_count": 555,
      "outputs": []
    },
    {
      "cell_type": "code",
      "metadata": {
        "id": "m8J4M2OjfS3M"
      },
      "source": [
        "#Choosing the lables for y\n",
        "y = finalDf['User_ID'].values"
      ],
      "execution_count": 556,
      "outputs": []
    },
    {
      "cell_type": "code",
      "metadata": {
        "id": "9Al8RikEfS6v"
      },
      "source": [
        "#Train and test split\n",
        "#80% train, 20% test\n",
        "#splitting the data into test and train dataset\n",
        "\n",
        "from sklearn.model_selection import train_test_split\n",
        "X_train, X_test, y_train, y_test = train_test_split(X, y, test_size=0.20)"
      ],
      "execution_count": 557,
      "outputs": []
    },
    {
      "cell_type": "code",
      "metadata": {
        "id": "kIc1V0wEgcdn"
      },
      "source": [
        "#Feature Scaling\n",
        "from sklearn.preprocessing import StandardScaler\n",
        "scaler = StandardScaler()\n",
        "scaler.fit(X_train)\n",
        "\n",
        "X_train = scaler.transform(X_train)\n",
        "X_test = scaler.transform(X_test)"
      ],
      "execution_count": 558,
      "outputs": []
    },
    {
      "cell_type": "code",
      "metadata": {
        "colab": {
          "base_uri": "https://localhost:8080/"
        },
        "id": "bUOV3uq0gcoh",
        "outputId": "cc5a72f3-c7e4-4a75-a17b-7a50487ffd81"
      },
      "source": [
        "#Training and Prediction\n",
        "from sklearn.neighbors import KNeighborsClassifier\n",
        "classifier = KNeighborsClassifier(n_neighbors=5)         #value for k\n",
        "classifier.fit(X_train, y_train)"
      ],
      "execution_count": 559,
      "outputs": [
        {
          "output_type": "execute_result",
          "data": {
            "text/plain": [
              "KNeighborsClassifier(algorithm='auto', leaf_size=30, metric='minkowski',\n",
              "                     metric_params=None, n_jobs=None, n_neighbors=5, p=2,\n",
              "                     weights='uniform')"
            ]
          },
          "metadata": {
            "tags": []
          },
          "execution_count": 559
        }
      ]
    },
    {
      "cell_type": "code",
      "metadata": {
        "id": "r9oAd7R_gcxn"
      },
      "source": [
        "#Make prediction on the test data\n",
        "y_pred = classifier.predict(X_test)"
      ],
      "execution_count": 560,
      "outputs": []
    },
    {
      "cell_type": "code",
      "metadata": {
        "colab": {
          "base_uri": "https://localhost:8080/"
        },
        "id": "IxwCX5_Ggc6Q",
        "outputId": "d4fe280d-3b83-4e8d-e567-6696197d2e28"
      },
      "source": [
        "#Evaluating the Algorithm\n",
        "from sklearn.metrics import classification_report, confusion_matrix\n",
        "print(confusion_matrix(y_test, y_pred))\n",
        "print(classification_report(y_test, y_pred))"
      ],
      "execution_count": 561,
      "outputs": [
        {
          "output_type": "stream",
          "text": [
            "[[74  3]\n",
            " [ 5 79]]\n",
            "              precision    recall  f1-score   support\n",
            "\n",
            "           0       0.94      0.96      0.95        77\n",
            "           1       0.96      0.94      0.95        84\n",
            "\n",
            "    accuracy                           0.95       161\n",
            "   macro avg       0.95      0.95      0.95       161\n",
            "weighted avg       0.95      0.95      0.95       161\n",
            "\n"
          ],
          "name": "stdout"
        }
      ]
    },
    {
      "cell_type": "code",
      "metadata": {
        "id": "WbG4gx7egt0L"
      },
      "source": [
        "#PCA of 2 decreased the accuracy\n",
        "#should try increasing the pca values"
      ],
      "execution_count": 562,
      "outputs": []
    },
    {
      "cell_type": "code",
      "metadata": {
        "colab": {
          "base_uri": "https://localhost:8080/"
        },
        "id": "vv3-cr-AguAY",
        "outputId": "166e3dcd-63bd-4e5d-b253-e1c408fe1e12"
      },
      "source": [
        "#prints the entire confusion matrix\n",
        "#however, it doesnn't fit the entire row and loops around\n",
        "np.set_printoptions(threshold=sys.maxsize)\n",
        "resultCM = (confusion_matrix(y_test, y_pred))\n",
        "print(resultCM)"
      ],
      "execution_count": 563,
      "outputs": [
        {
          "output_type": "stream",
          "text": [
            "[[74  3]\n",
            " [ 5 79]]\n"
          ],
          "name": "stdout"
        }
      ]
    },
    {
      "cell_type": "code",
      "metadata": {
        "colab": {
          "base_uri": "https://localhost:8080/"
        },
        "id": "l5107fIAguJQ",
        "outputId": "c049a526-0be2-4ccf-c5da-5a99938feca8"
      },
      "source": [
        "resultCR = (classification_report(y_test, y_pred))\n",
        "print(resultCR)"
      ],
      "execution_count": 564,
      "outputs": [
        {
          "output_type": "stream",
          "text": [
            "              precision    recall  f1-score   support\n",
            "\n",
            "           0       0.94      0.96      0.95        77\n",
            "           1       0.96      0.94      0.95        84\n",
            "\n",
            "    accuracy                           0.95       161\n",
            "   macro avg       0.95      0.95      0.95       161\n",
            "weighted avg       0.95      0.95      0.95       161\n",
            "\n"
          ],
          "name": "stdout"
        }
      ]
    },
    {
      "cell_type": "code",
      "metadata": {
        "id": "9YfWgq5DguQ7"
      },
      "source": [
        "# all parameters not specified are set to their defaults\n",
        "logisticRegr = LogisticRegression()"
      ],
      "execution_count": 565,
      "outputs": []
    },
    {
      "cell_type": "code",
      "metadata": {
        "colab": {
          "base_uri": "https://localhost:8080/"
        },
        "id": "7RVc24yrguYk",
        "outputId": "5b685f13-f9d5-4cdd-f8fb-b2e22e52bc5a"
      },
      "source": [
        "logisticRegr.fit(X_train, y_train)"
      ],
      "execution_count": 566,
      "outputs": [
        {
          "output_type": "execute_result",
          "data": {
            "text/plain": [
              "LogisticRegression(C=1.0, class_weight=None, dual=False, fit_intercept=True,\n",
              "                   intercept_scaling=1, l1_ratio=None, max_iter=100,\n",
              "                   multi_class='auto', n_jobs=None, penalty='l2',\n",
              "                   random_state=None, solver='lbfgs', tol=0.0001, verbose=0,\n",
              "                   warm_start=False)"
            ]
          },
          "metadata": {
            "tags": []
          },
          "execution_count": 566
        }
      ]
    },
    {
      "cell_type": "code",
      "metadata": {
        "colab": {
          "base_uri": "https://localhost:8080/"
        },
        "id": "HIaH2BKNhljB",
        "outputId": "04062ddc-cadc-4edb-ee6f-ca443ffd2145"
      },
      "source": [
        "# Returns a NumPy Array\n",
        "# Predict for One Observation (image)\n",
        "logisticRegr.predict(X_test[0].reshape(1,-1))"
      ],
      "execution_count": 567,
      "outputs": [
        {
          "output_type": "execute_result",
          "data": {
            "text/plain": [
              "array([0])"
            ]
          },
          "metadata": {
            "tags": []
          },
          "execution_count": 567
        }
      ]
    },
    {
      "cell_type": "code",
      "metadata": {
        "colab": {
          "base_uri": "https://localhost:8080/"
        },
        "id": "5vCA17zMhlm6",
        "outputId": "56ccf7ad-e2c4-47be-ad04-ec39c0ef2b66"
      },
      "source": [
        "logisticRegr.predict(X_test[0:10])"
      ],
      "execution_count": 568,
      "outputs": [
        {
          "output_type": "execute_result",
          "data": {
            "text/plain": [
              "array([0, 1, 1, 0, 0, 1, 1, 1, 1, 1])"
            ]
          },
          "metadata": {
            "tags": []
          },
          "execution_count": 568
        }
      ]
    },
    {
      "cell_type": "code",
      "metadata": {
        "id": "iGs-kuJUhlrO"
      },
      "source": [
        "predictions = logisticRegr.predict(X_test)"
      ],
      "execution_count": 569,
      "outputs": []
    },
    {
      "cell_type": "code",
      "metadata": {
        "colab": {
          "base_uri": "https://localhost:8080/"
        },
        "id": "BYy_bIuRhlvB",
        "outputId": "f7eec748-fa37-428b-f3f4-d21d5213a76c"
      },
      "source": [
        "# Use score method to get accuracy of model\n",
        "score = logisticRegr.score(X_test, y_test)\n",
        "print(score)"
      ],
      "execution_count": 570,
      "outputs": [
        {
          "output_type": "stream",
          "text": [
            "0.906832298136646\n"
          ],
          "name": "stdout"
        }
      ]
    },
    {
      "cell_type": "code",
      "metadata": {
        "colab": {
          "base_uri": "https://localhost:8080/"
        },
        "id": "8jcR-cXshl1V",
        "outputId": "fce54e92-23e8-4592-944b-501554baf861"
      },
      "source": [
        "cm = metrics.confusion_matrix(y_test, predictions)\n",
        "print(cm)"
      ],
      "execution_count": 571,
      "outputs": [
        {
          "output_type": "stream",
          "text": [
            "[[71  6]\n",
            " [ 9 75]]\n"
          ],
          "name": "stdout"
        }
      ]
    },
    {
      "cell_type": "code",
      "metadata": {
        "colab": {
          "base_uri": "https://localhost:8080/",
          "height": 520
        },
        "id": "Tyzm_EE9hl4q",
        "outputId": "420f993a-cc74-4ea3-ba5c-43cbad49dcce"
      },
      "source": [
        "plt.figure(figsize=(9,9))\n",
        "sns.heatmap(cm, annot=True, fmt=\".3f\", linewidths=.5, square = True, cmap = 'Blues_r');\n",
        "plt.ylabel('Actual label');\n",
        "plt.xlabel('Predicted label');\n",
        "all_sample_title = 'Accuracy Score: {0}'.format(score)\n",
        "plt.title(all_sample_title, size = 15);"
      ],
      "execution_count": 572,
      "outputs": [
        {
          "output_type": "display_data",
          "data": {
            "image/png": "[encoded data removed]",
            "text/plain": [
              "<Figure size 648x648 with 2 Axes>"
            ]
          },
          "metadata": {
            "tags": []
          }
        }
      ]
    },
    {
      "cell_type": "code",
      "metadata": {
        "colab": {
          "base_uri": "https://localhost:8080/",
          "height": 657
        },
        "id": "KTxcOA9ihl8c",
        "outputId": "ab370284-8863-4375-fc29-fe5b0386063c"
      },
      "source": [
        "plt.figure(figsize=(9,9))\n",
        "plt.imshow(cm, interpolation='nearest', cmap='Pastel1')\n",
        "plt.title('Confusion matrix', size = 15)\n",
        "plt.colorbar()\n",
        "tick_marks = np.arange(10)\n",
        "plt.xticks(tick_marks, [\"0\", \"1\", \"2\", \"3\", \"4\", \"5\", \"6\", \"7\", \"8\", \"9\"], rotation=45, size = 10)\n",
        "plt.yticks(tick_marks, [\"0\", \"1\", \"2\", \"3\", \"4\", \"5\", \"6\", \"7\", \"8\", \"9\"], size = 10)\n",
        "plt.tight_layout()\n",
        "plt.ylabel('Actual label', size = 15)\n",
        "plt.xlabel('Predicted label', size = 15)\n",
        "width, height = cm.shape\n",
        "for x in range(width):\n",
        " for y in range(height):\n",
        "  plt.annotate(str(cm[x][y]), xy=(y, x), \n",
        "  horizontalalignment='center',\n",
        "  verticalalignment='center')"
      ],
      "execution_count": 573,
      "outputs": [
        {
          "output_type": "display_data",
          "data": {
            "image/png": "[encoded data removed]",
            "text/plain": [
              "<Figure size 648x648 with 2 Axes>"
            ]
          },
          "metadata": {
            "tags": []
          }
        }
      ]
    },
    {
      "cell_type": "code",
      "metadata": {
        "id": "WpQrWNPihmK-"
      },
      "source": [
        ""
      ],
      "execution_count": 573,
      "outputs": []
    },
    {
      "cell_type": "code",
      "metadata": {
        "id": "GcZW8emChmJZ"
      },
      "source": [
        ""
      ],
      "execution_count": 573,
      "outputs": []
    },
    {
      "cell_type": "code",
      "metadata": {
        "id": "5U81m3xEhmDD"
      },
      "source": [
        ""
      ],
      "execution_count": 573,
      "outputs": []
    },
    {
      "cell_type": "code",
      "metadata": {
        "id": "08LEZiSJhmAE"
      },
      "source": [
        ""
      ],
      "execution_count": 573,
      "outputs": []
    },
    {
      "cell_type": "code",
      "metadata": {
        "id": "5Hp-vp9lhlyc"
      },
      "source": [
        ""
      ],
      "execution_count": 573,
      "outputs": []
    }
  ]
}