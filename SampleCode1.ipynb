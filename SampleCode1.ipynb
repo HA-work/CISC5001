{
  "nbformat": 4,
  "nbformat_minor": 0,
  "metadata": {
    "colab": {
      "name": "SampleCode1.ipynb",
      "provenance": []
    },
    "kernelspec": {
      "name": "python3",
      "display_name": "Python 3"
    }
  },
  "cells": [
    {
      "cell_type": "code",
      "metadata": {
        "id": "EoU2t5FXoZX-"
      },
      "source": [
        "\n",
        "import tensorflow as tf"
      ],
      "execution_count": null,
      "outputs": []
    },
    {
      "cell_type": "code",
      "metadata": {
        "id": "gxj5KIZxpPEb",
        "outputId": "62f6f7a4-ea87-46a1-b3bc-39b9ec372cc1",
        "colab": {
          "base_uri": "https://localhost:8080/"
        }
      },
      "source": [
        "# Create a Tensor.\n",
        "hello = tf.constant(\"hello world\")\n",
        "print(hello)"
      ],
      "execution_count": null,
      "outputs": [
        {
          "output_type": "stream",
          "text": [
            "tf.Tensor(b'hello world', shape=(), dtype=string)\n"
          ],
          "name": "stdout"
        }
      ]
    },
    {
      "cell_type": "markdown",
      "metadata": {
        "id": "Khuon9CRpjfy"
      },
      "source": [
        "why is b printed?"
      ]
    },
    {
      "cell_type": "code",
      "metadata": {
        "id": "Two1QTv3pU6d",
        "outputId": "ebb0e1d2-69ad-4ca3-ff76-c4558b158733",
        "colab": {
          "base_uri": "https://localhost:8080/"
        }
      },
      "source": [
        "# To access a Tensor value, call numpy().\n",
        "print(hello.numpy())"
      ],
      "execution_count": null,
      "outputs": [
        {
          "output_type": "stream",
          "text": [
            "b'hello world'\n"
          ],
          "name": "stdout"
        }
      ]
    }
  ]
}