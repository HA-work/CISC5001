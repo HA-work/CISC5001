{
 "cells": [
  {
   "cell_type": "code",
   "execution_count": 1,
   "metadata": {},
   "outputs": [
    {
     "name": "stdout",
     "output_type": "stream",
     "text": [
      "['Project Code 2 Part 1.ipynb', 'Untitled10.ipynb', 'Untitled7.ipynb', 'EditingDataset_V3.java', 'Untitled12.ipynb', 'Untitled5.ipynb', 'Untitled1.ipynb', 'Untitled16.ipynb', '.DS_Store', 'CodeVersion3b.py', 'previous', 'Untitled3.ipynb', 'JNCode1.py', 'Untitled14.ipynb', 'Untitled.ipynb', 'ClassificationReport_2R.txt', 'Untitled4.ipynb', 'Untitled13.ipynb', 'Project Code 2 Part 2.ipynb', 'Untitled6.ipynb', 'DataSet_V4.csv', 'Untitled11.ipynb', 'Old Code', 'ConfusionMatrix_1R.csv', 'Untitled15.ipynb', 'Untitled2.ipynb', '__pycache__', 'Untitled17.ipynb', 'Script', 'README.md', 'Untitled19.ipynb', 'featMatVersion2_10.csv', 'CodeVersion2', 'Untitled20.ipynb', 'ConfusionMatrix_2R.csv', 'Untitled8.ipynb', 'ClassificationReport_1R.txt', 'Sample Code', '.ipynb_checkpoints', 'Untitled18.ipynb', '.git', 'CodeVersion3.py', 'Data', 'Untitled9.ipynb', 'Untitled21.ipynb']\n"
     ]
    }
   ],
   "source": [
    "import numpy as np # linear algebra\n",
    "import pandas as pd # data processing, CSV file I/O (e.g. pd.read_csv)\n",
    "import tensorflow as tf\n",
    "\n",
    "import sys\n",
    "\n",
    "'''\n",
    "Combined 2 rows into 1 by taking the previous one.\n",
    "Made sure that both rows are from the same users.\n",
    "\n",
    "User_ID1,Doc_ID1,Inter-Stroke time1,Stroke Duration1,Start X1,Start Y1,Stop X1,Stop Y1,Direct end-to-end Distance1,\n",
    "Mean resulant length1,WSAD Flag1,Direction of end-to-end Time1,Phone_ID1,20 per pairwise velocity1,50 per pairwise velocity1,\n",
    "80 per pairwise velocity1,20 per pairwise acc1,50 per pairwise acc1,80 per pairwise acc1,Median velocity at last 3pts1,\n",
    "Largest deviation from end-to-end line1,20 per dev line1,50 per dev line1,80 per dev line1,Average Direction1,\n",
    "Length of Trajectory1,Ratio dist and length of trajectory1,Average velocity1,Median acceleration at first 5 pts1,\n",
    "Mid-Stroke pressure1,Mid-Stroke area covered1,Mid-Stroke finger orientation1,Change of finger orientation1,\n",
    "Phone orientation1\n",
    "\n",
    "User_ID2,Doc_ID2,Inter-Stroke time2,Stroke Duration2,Start X2,Start Y2,Stop X2,Stop Y2,Direct end-to-end Distance2,\n",
    "Mean resulant length2,WSAD Flag2,Direction of end-to-end Time2,Phone_ID2,20 per pairwise velocity2,50 per pairwise velocity2,\n",
    "80 per pairwise velocity2,20 per pairwise acc2,50 per pairwise acc2,80 per pairwise acc2,Median velocity at last 3pts2,\n",
    "Largest deviation from end-to-end line2,20 per dev line2,50 per dev line2,80 per dev line2,Average Direction2,\n",
    "Length of Trajectory2,Ratio dist and length of trajectory2,Average velocity2,Median acceleration at first 5 pts2,\n",
    "Mid-Stroke pressure2,Mid-Stroke area covered2,Mid-Stroke finger orientation2,Change of finger orientation2,\n",
    "Phone orientation2\n",
    "'''\n",
    "\n",
    "import os\n",
    "#print(os.listdir(r\"C:\\Users\\eddie\\OneDrive\\Desktop\\CISC 4900\"))         #print out what's in the file/directory\n",
    "#train = pd.read_csv(r\"C:\\Users\\eddie\\OneDrive\\Desktop\\CISC 4900\\Dataset_V4.csv\")         #using the combined dataset\n",
    "\n",
    "print(os.listdir(r\".\"))         #print out what's in the file/directory\n",
    "train = pd.read_csv(r\"Dataset_V4.csv\")         #using test"
   ]
  },
  {
   "cell_type": "code",
   "execution_count": 2,
   "metadata": {},
   "outputs": [
    {
     "data": {
      "text/plain": [
       "2     1229\n",
       "35    1062\n",
       "23     968\n",
       "38     785\n",
       "3      758\n",
       "15     718\n",
       "33     711\n",
       "28     709\n",
       "17     705\n",
       "21     701\n",
       "14     650\n",
       "8      617\n",
       "34     612\n",
       "27     608\n",
       "7      590\n",
       "6      561\n",
       "36     499\n",
       "18     460\n",
       "9      452\n",
       "11     444\n",
       "29     438\n",
       "39     435\n",
       "24     434\n",
       "25     431\n",
       "37     423\n",
       "5      412\n",
       "1      400\n",
       "10     386\n",
       "16     381\n",
       "22     373\n",
       "31     369\n",
       "20     355\n",
       "12     341\n",
       "40     311\n",
       "13     304\n",
       "32     303\n",
       "19     292\n",
       "26     241\n",
       "4      240\n",
       "30     224\n",
       "41     185\n",
       "Name: User_ID1, dtype: int64"
      ]
     },
     "execution_count": 2,
     "metadata": {},
     "output_type": "execute_result"
    }
   ],
   "source": [
    "#prints the amount of users in 'User_ID'\n",
    "train['User_ID1'].value_counts()"
   ]
  },
  {
   "cell_type": "code",
   "execution_count": 3,
   "metadata": {},
   "outputs": [
    {
     "data": {
      "text/plain": [
       "\"\\n 'Direct end-to-end Distance1', 'Largest deviation from end-to-end line1', 'Average Direction1', \\n 'Median acceleration at first 5 pts1', 'Mid-Stroke finger orientation1', '20 per pairwise acc1', \\n \\n 'Direct end-to-end Distance2', 'Largest deviation from end-to-end line2', 'Average Direction2', \\n 'Median acceleration at first 5 pts2', 'Mid-Stroke finger orientation2', '20 per pairwise acc2', \\n\""
      ]
     },
     "execution_count": 3,
     "metadata": {},
     "output_type": "execute_result"
    }
   ],
   "source": [
    "#Choosing the columns for X\n",
    "#Not using 'User_ID', 'Doc_ID', or 'Phone_ID'\n",
    "X = train[['Inter-Stroke time1', 'Stroke Duration1', 'Start X1', 'Start Y1', 'Stop X1', 'Stop Y1', 'Mean resulant length1',\n",
    "           'WSAD Flag1', 'Direction of end-to-end Time1', '20 per pairwise velocity1', '50 per pairwise velocity1', \n",
    "           '80 per pairwise velocity1', '50 per pairwise acc1', '80 per pairwise acc1',\n",
    "           'Median velocity at last 3pts1', '20 per dev line1', '50 per dev line1', '80 per dev line1', \n",
    "           'Length of Trajectory1', 'Ratio dist and length of trajectory1', 'Average velocity1', 'Mid-Stroke pressure1', \n",
    "           'Mid-Stroke area covered1', 'Change of finger orientation1', 'Phone orientation1',\n",
    "           \n",
    "           'Inter-Stroke time2', 'Stroke Duration2', 'Start X2', 'Start Y2', 'Stop X2', 'Stop Y2', 'Mean resulant length2', \n",
    "           'WSAD Flag2', 'Direction of end-to-end Time2', '20 per pairwise velocity2', '50 per pairwise velocity2', \n",
    "           '80 per pairwise velocity2', '50 per pairwise acc2', '80 per pairwise acc2', \n",
    "           'Median velocity at last 3pts2', '20 per dev line2', '50 per dev line2', '80 per dev line2', \n",
    "           'Length of Trajectory2', 'Ratio dist and length of trajectory2', 'Average velocity2', 'Mid-Stroke pressure2', \n",
    "           'Mid-Stroke area covered2', 'Change of finger orientation2', 'Phone orientation2']].values\n",
    "\n",
    "#can't use some of them\n",
    "'''\n",
    " 'Direct end-to-end Distance1', 'Largest deviation from end-to-end line1', 'Average Direction1', \n",
    " 'Median acceleration at first 5 pts1', 'Mid-Stroke finger orientation1', '20 per pairwise acc1', \n",
    " \n",
    " 'Direct end-to-end Distance2', 'Largest deviation from end-to-end line2', 'Average Direction2', \n",
    " 'Median acceleration at first 5 pts2', 'Mid-Stroke finger orientation2', '20 per pairwise acc2', \n",
    "'''"
   ]
  },
  {
   "cell_type": "code",
   "execution_count": 4,
   "metadata": {},
   "outputs": [],
   "source": [
    "#Choosing the lables for y\n",
    "y = train['User_ID1'].values"
   ]
  },
  {
   "cell_type": "code",
   "execution_count": 5,
   "metadata": {},
   "outputs": [],
   "source": [
    "#Train and test split\n",
    "#80% train, 20% test\n",
    "#splitting the data into test and train dataset\n",
    "\n",
    "from sklearn.model_selection import train_test_split\n",
    "X_train, X_test, y_train, y_test = train_test_split(X, y, test_size=0.20)"
   ]
  },
  {
   "cell_type": "code",
   "execution_count": 6,
   "metadata": {},
   "outputs": [],
   "source": [
    "#Feature Scaling\n",
    "from sklearn.preprocessing import StandardScaler\n",
    "scaler = StandardScaler()\n",
    "scaler.fit(X_train)\n",
    "\n",
    "X_train = scaler.transform(X_train)\n",
    "X_test = scaler.transform(X_test)"
   ]
  },
  {
   "cell_type": "code",
   "execution_count": 7,
   "metadata": {},
   "outputs": [
    {
     "data": {
      "text/plain": [
       "KNeighborsClassifier(algorithm='auto', leaf_size=30, metric='minkowski',\n",
       "                     metric_params=None, n_jobs=None, n_neighbors=5, p=2,\n",
       "                     weights='uniform')"
      ]
     },
     "execution_count": 7,
     "metadata": {},
     "output_type": "execute_result"
    }
   ],
   "source": [
    "#Training and Prediction\n",
    "from sklearn.neighbors import KNeighborsClassifier\n",
    "classifier = KNeighborsClassifier(n_neighbors=5)         #value for k\n",
    "classifier.fit(X_train, y_train)"
   ]
  },
  {
   "cell_type": "code",
   "execution_count": 8,
   "metadata": {},
   "outputs": [],
   "source": [
    "#Make prediction on the test data\n",
    "y_pred = classifier.predict(X_test)"
   ]
  },
  {
   "cell_type": "code",
   "execution_count": 9,
   "metadata": {},
   "outputs": [
    {
     "name": "stdout",
     "output_type": "stream",
     "text": [
      "[[ 55   1   0 ...   0   0   1]\n",
      " [  1 204   0 ...   0   2   0]\n",
      " [  0   0  53 ...   0   0   0]\n",
      " ...\n",
      " [  0   3   2 ...  44   0   0]\n",
      " [  0   0   1 ...   0  34   0]\n",
      " [  2   0   0 ...   0   0  28]]\n",
      "              precision    recall  f1-score   support\n",
      "\n",
      "           1       0.65      0.70      0.67        79\n",
      "           2       0.75      0.85      0.80       240\n",
      "           3       0.43      0.37      0.40       143\n",
      "           4       0.68      0.66      0.67        41\n",
      "           5       0.37      0.57      0.45        81\n",
      "           6       0.62      0.66      0.64       129\n",
      "           7       0.65      0.61      0.63       121\n",
      "           8       0.55      0.72      0.62       129\n",
      "           9       0.74      0.82      0.77       105\n",
      "          10       0.55      0.51      0.53        63\n",
      "          11       0.59      0.83      0.69        78\n",
      "          12       0.71      0.74      0.73        66\n",
      "          13       0.45      0.45      0.45        56\n",
      "          14       0.59      0.88      0.70       137\n",
      "          15       0.57      0.66      0.61       128\n",
      "          16       0.53      0.56      0.55        91\n",
      "          17       0.63      0.70      0.66       137\n",
      "          18       0.75      0.75      0.75        64\n",
      "          19       0.58      0.68      0.62        50\n",
      "          20       0.67      0.74      0.70        76\n",
      "          21       0.76      0.76      0.76       142\n",
      "          22       0.60      0.51      0.55        79\n",
      "          23       0.72      0.83      0.77       216\n",
      "          24       0.58      0.53      0.56        86\n",
      "          25       0.81      0.51      0.62        85\n",
      "          26       0.55      0.36      0.43        50\n",
      "          27       0.69      0.39      0.50       108\n",
      "          28       0.66      0.59      0.62       132\n",
      "          29       0.75      0.63      0.68        99\n",
      "          30       0.55      0.25      0.34        44\n",
      "          31       0.70      0.56      0.62        71\n",
      "          32       0.76      0.69      0.73        59\n",
      "          33       0.92      0.54      0.69       134\n",
      "          34       0.87      0.94      0.90       130\n",
      "          35       0.70      0.75      0.72       221\n",
      "          36       0.81      0.59      0.68        99\n",
      "          37       0.74      0.65      0.69       104\n",
      "          38       0.61      0.59      0.60       143\n",
      "          39       0.56      0.44      0.49        99\n",
      "          40       0.64      0.47      0.54        72\n",
      "          41       0.85      0.76      0.80        37\n",
      "\n",
      "    accuracy                           0.66      4224\n",
      "   macro avg       0.66      0.63      0.63      4224\n",
      "weighted avg       0.66      0.66      0.65      4224\n",
      "\n"
     ]
    }
   ],
   "source": [
    "#Evaluating the Algorithm\n",
    "from sklearn.metrics import classification_report, confusion_matrix\n",
    "print(confusion_matrix(y_test, y_pred))\n",
    "print(classification_report(y_test, y_pred))"
   ]
  },
  {
   "cell_type": "code",
   "execution_count": 10,
   "metadata": {},
   "outputs": [
    {
     "name": "stdout",
     "output_type": "stream",
     "text": [
      "[[ 55   1   0   1   1   0   2   0   0   0   0   0   0   0   1   0   0   0\n",
      "    0   1   0   3   0   0   1   1   0   7   1   0   0   0   0   3   0   0\n",
      "    0   0   0   0   1]\n",
      " [  1 204   0   0   1   1   1   2   0   2   0   0   0   1   2   0   0   0\n",
      "    0   3   0   0   7   2   1   1   0   0   1   0   0   0   0   0   1   0\n",
      "    0   7   0   2   0]\n",
      " [  0   0  53   0  10   7   0   2   1   5   3   4   0   0   0   5  21   3\n",
      "    3   0   4   0   0   1   0   0   1   0   0   0   0   0   0   0  15   1\n",
      "    4   0   0   0   0]\n",
      " [  4   0   0  27   0   0   0   0   0   0   1   0   0   0   0   0   0   0\n",
      "    0   2   0   0   0   0   1   1   0   1   0   1   0   0   0   2   0   0\n",
      "    0   0   1   0   0]\n",
      " [  0   0   8   0  46   1   0   6   2   2   1   2   0   0   0   0   1   1\n",
      "    3   0   0   0   0   1   0   0   1   1   0   1   0   2   0   0   0   0\n",
      "    2   0   0   0   0]\n",
      " [  0   2   3   0   0  85   0   3   0   1   0   0   5   0   0   4   9   0\n",
      "    2   0   0   0   1   1   0   1   2   0   0   0   0   0   0   0   5   0\n",
      "    3   1   0   1   0]\n",
      " [  5   3   1   1   1   0  74   1   0   0   0   0   0   0   3   0   0   0\n",
      "    0   3   0   4   2   1   0   0   0   8   0   2   0   0   0   6   0   0\n",
      "    0   3   3   0   0]\n",
      " [  0   4   4   0   5   3   0  93   0   0   1   1   2   0   1   2   2   0\n",
      "    2   0   0   0   1   0   0   0   0   0   0   0   0   0   0   0   1   0\n",
      "    1   0   0   6   0]\n",
      " [  0   2   1   0   5   0   0   5  86   0   0   0   0   0   0   0   0   0\n",
      "    0   0   0   0   1   0   0   0   1   0   0   0   0   0   0   0   0   0\n",
      "    0   3   0   1   0]\n",
      " [  0   0   0   0   3   1   1   3   0  32   7   0   1   0   0   3   2   1\n",
      "    2   0   4   0   0   0   0   0   0   0   0   0   0   0   0   0   2   0\n",
      "    0   1   0   0   0]\n",
      " [  0   0   3   0   2   0   1   0   0   1  65   0   0   0   0   1   0   3\n",
      "    0   0   0   0   0   0   0   0   0   0   0   0   0   0   0   0   1   0\n",
      "    0   0   0   1   0]\n",
      " [  0   1   0   0   5   1   0   5   0   1   0  49   0   1   0   0   0   0\n",
      "    0   0   0   0   0   0   0   0   0   0   0   0   0   1   0   0   1   0\n",
      "    1   0   0   0   0]\n",
      " [  0   1   0   0   2   6   0   2   1   1   1   1  25   0   1   1   2   1\n",
      "    0   0   4   0   0   1   0   0   1   0   0   0   0   0   0   0   1   0\n",
      "    1   0   1   2   0]\n",
      " [  0   1   0   0   0   1   0   1   0   0   0   1   0 120   4   0   0   0\n",
      "    0   0   0   0   3   0   0   0   0   0   1   0   4   0   1   0   0   0\n",
      "    0   0   0   0   0]\n",
      " [  0   3   0   0   1   1   2   2   0   0   0   0   2   7  84   0   0   0\n",
      "    0   0   0   1  14   0   0   0   0   1   0   0   3   0   0   0   0   3\n",
      "    0   2   2   0   0]\n",
      " [  0   0   4   0   3   1   0   2   0   1   7   1   1   0   0  51   0   1\n",
      "    5   0   2   0   0   0   0   0   1   2   2   0   0   2   0   0   3   0\n",
      "    2   0   0   0   0]\n",
      " [  0   0   4   0   1   4   0   2   1   0   0   0   4   0   0   9  96   1\n",
      "    1   0   1   0   0   0   0   0   1   0   0   0   0   0   0   0  10   0\n",
      "    1   0   0   1   0]\n",
      " [  0   0   0   0   0   0   1   0   0   0   2   0   1   0   0   2   3  48\n",
      "    0   0   2   0   0   0   0   0   2   0   0   0   0   0   0   0   0   0\n",
      "    0   0   1   2   0]\n",
      " [  0   0   3   0   3   1   0   1   0   2   0   0   1   0   0   1   0   2\n",
      "   34   0   0   0   0   0   0   0   0   0   0   0   0   0   0   0   1   0\n",
      "    0   0   0   1   0]\n",
      " [  0   2   0   0   0   1   2   0   0   1   0   0   0   1   2   0   0   0\n",
      "    1  56   1   1   0   0   0   0   0   5   0   0   0   0   0   0   0   0\n",
      "    0   0   2   0   1]\n",
      " [  0   0   5   0   0   2   0   0   0   1  10   0   2   0   0   3   3   1\n",
      "    0   0 108   0   0   0   0   0   0   0   0   0   0   0   0   0   7   0\n",
      "    0   0   0   0   0]\n",
      " [  1   3   0   2   1   2  10   2   0   1   1   0   0   0   2   0   0   0\n",
      "    0   2   0  40   0   2   0   1   0   2   0   2   0   0   0   1   1   0\n",
      "    0   1   2   0   0]\n",
      " [  0   4   1   0   0   0   0   0   1   0   1   0   0   8  17   0   0   0\n",
      "    1   0   0   0 180   2   1   0   0   0   0   0   0   0   0   0   0   0\n",
      "    0   0   0   0   0]\n",
      " [  1   7   0   0   0   0   3   1   0   0   0   3   0   1   1   0   0   1\n",
      "    0   0   0   0  11  46   0   1   0   4   0   0   0   0   0   1   1   0\n",
      "    1   3   0   0   0]\n",
      " [  2   8   0   0   3   0   1   0   1   0   0   0   2   0   1   0   0   0\n",
      "    1   5   3   0   2   0  43   1   0   2   0   1   0   0   0   0   1   1\n",
      "    0   3   3   0   1]\n",
      " [  0   0   1   2   0   0   2   0   0   0   0   0   1   0   2   0   0   0\n",
      "    0   1   0   3   1   4   0  18   0   0   1   2   0   1   0   0   1   1\n",
      "    0   5   2   0   2]\n",
      " [  0   1   7   0   3   8   0  10   2   1   2   0   2   0   0   8   6   0\n",
      "    0   0   3   1   0   0   1   0  42   0   0   0   0   3   0   0   6   0\n",
      "    1   1   0   0   0]\n",
      " [  6  14   1   3   0   1   1   0   1   1   0   0   0   1   1   0   0   0\n",
      "    0   2   0   1   1   7   1   0   0  78   0   0   0   0   2   1   0   0\n",
      "    0   7   2   0   0]\n",
      " [  0   0   0   0   4   0   0   1   1   0   0   0   0  23   0   0   0   0\n",
      "    0   0   0   0   2   0   0   0   0   1  62   0   0   0   2   0   0   3\n",
      "    0   0   0   0   0]\n",
      " [  1   1   0   1   5   0   4   0   0   0   0   0   0   0   0   0   0   0\n",
      "    1   1   0   4   0   0   0   4   1   3   0  11   0   0   1   0   0   1\n",
      "    1   0   4   0   0]\n",
      " [  0   1   0   0   2   0   0   2   0   0   0   0   0  22   2   0   0   0\n",
      "    0   0   0   0   1   0   0   0   0   0   1   0  40   0   0   0   0   0\n",
      "    0   0   0   0   0]\n",
      " [  0   0   5   0   4   0   0   0   2   1   0   0   0   0   0   1   0   0\n",
      "    1   0   0   0   0   1   0   0   2   0   0   0   0  41   0   0   0   0\n",
      "    0   0   1   0   0]\n",
      " [  1   1   0   0   2   0   2   3   0   0   0   0   0  14   8   0   0   0\n",
      "    0   0   0   1   2   0   0   0   0   1  11   0  10   0  73   0   0   3\n",
      "    0   0   2   0   0]\n",
      " [  1   0   1   0   0   0   0   1   0   0   0   0   0   0   0   0   0   0\n",
      "    0   0   0   0   0   0   0   0   1   0   0   0   0   0   0 122   0   0\n",
      "    0   3   1   0   0]\n",
      " [  0   1   5   2   1   5   0   2   1   4   8   2   2   0   0   2   5   1\n",
      "    0   0   8   0   0   0   0   0   2   0   0   0   0   0   0   0 165   0\n",
      "    4   0   0   1   0]\n",
      " [  0   1   2   0   3   0   0   1   4   0   0   0   0   5   7   0   0   0\n",
      "    0   0   0   0  10   2   0   0   0   1   3   0   0   0   0   0   0  58\n",
      "    0   2   0   0   0]\n",
      " [  0   0   6   0   4   4   0   2   1   0   0   3   2   0   0   2   0   0\n",
      "    0   0   1   0   0   0   0   0   3   0   0   0   0   2   0   0   5   0\n",
      "   68   0   0   1   0]\n",
      " [  4   4   2   1   0   0   1   0   3   0   0   0   0   0   6   0   0   0\n",
      "    1   0   0   3   6   5   3   3   0   2   0   0   0   0   0   4   1   1\n",
      "    0  85   8   0   0]\n",
      " [  0   3   2   0   0   0   6   1   3   0   0   0   1   0   2   1   0   0\n",
      "    0   4   0   5   4   3   1   0   0   0   0   0   0   0   0   0   5   0\n",
      "    1  13  44   0   0]\n",
      " [  0   0   1   0   2   1   0  14   6   0   0   2   2   1   0   0   2   0\n",
      "    1   0   0   0   1   0   0   0   0   0   0   0   0   2   0   0   2   0\n",
      "    1   0   0  34   0]\n",
      " [  2   0   0   0   1   0   0   0   0   0   0   0   0   0   0   0   0   0\n",
      "    0   3   1   0   0   0   0   1   0   0   0   0   0   0   0   1   0   0\n",
      "    0   0   0   0  28]]\n"
     ]
    }
   ],
   "source": [
    "#prints the entire confusion matrix\n",
    "#however, it doesnn't fit the entire row and loops around\n",
    "np.set_printoptions(threshold=sys.maxsize)\n",
    "resultCM = (confusion_matrix(y_test, y_pred))\n",
    "print(resultCM)"
   ]
  },
  {
   "cell_type": "code",
   "execution_count": 11,
   "metadata": {},
   "outputs": [
    {
     "name": "stdout",
     "output_type": "stream",
     "text": [
      "              precision    recall  f1-score   support\n",
      "\n",
      "           1       0.65      0.70      0.67        79\n",
      "           2       0.75      0.85      0.80       240\n",
      "           3       0.43      0.37      0.40       143\n",
      "           4       0.68      0.66      0.67        41\n",
      "           5       0.37      0.57      0.45        81\n",
      "           6       0.62      0.66      0.64       129\n",
      "           7       0.65      0.61      0.63       121\n",
      "           8       0.55      0.72      0.62       129\n",
      "           9       0.74      0.82      0.77       105\n",
      "          10       0.55      0.51      0.53        63\n",
      "          11       0.59      0.83      0.69        78\n",
      "          12       0.71      0.74      0.73        66\n",
      "          13       0.45      0.45      0.45        56\n",
      "          14       0.59      0.88      0.70       137\n",
      "          15       0.57      0.66      0.61       128\n",
      "          16       0.53      0.56      0.55        91\n",
      "          17       0.63      0.70      0.66       137\n",
      "          18       0.75      0.75      0.75        64\n",
      "          19       0.58      0.68      0.62        50\n",
      "          20       0.67      0.74      0.70        76\n",
      "          21       0.76      0.76      0.76       142\n",
      "          22       0.60      0.51      0.55        79\n",
      "          23       0.72      0.83      0.77       216\n",
      "          24       0.58      0.53      0.56        86\n",
      "          25       0.81      0.51      0.62        85\n",
      "          26       0.55      0.36      0.43        50\n",
      "          27       0.69      0.39      0.50       108\n",
      "          28       0.66      0.59      0.62       132\n",
      "          29       0.75      0.63      0.68        99\n",
      "          30       0.55      0.25      0.34        44\n",
      "          31       0.70      0.56      0.62        71\n",
      "          32       0.76      0.69      0.73        59\n",
      "          33       0.92      0.54      0.69       134\n",
      "          34       0.87      0.94      0.90       130\n",
      "          35       0.70      0.75      0.72       221\n",
      "          36       0.81      0.59      0.68        99\n",
      "          37       0.74      0.65      0.69       104\n",
      "          38       0.61      0.59      0.60       143\n",
      "          39       0.56      0.44      0.49        99\n",
      "          40       0.64      0.47      0.54        72\n",
      "          41       0.85      0.76      0.80        37\n",
      "\n",
      "    accuracy                           0.66      4224\n",
      "   macro avg       0.66      0.63      0.63      4224\n",
      "weighted avg       0.66      0.66      0.65      4224\n",
      "\n"
     ]
    }
   ],
   "source": [
    "resultCR = (classification_report(y_test, y_pred))\n",
    "print(resultCR)"
   ]
  },
  {
   "cell_type": "code",
   "execution_count": null,
   "metadata": {},
   "outputs": [],
   "source": []
  },
  {
   "cell_type": "code",
   "execution_count": null,
   "metadata": {},
   "outputs": [],
   "source": []
  },
  {
   "cell_type": "code",
   "execution_count": null,
   "metadata": {},
   "outputs": [],
   "source": []
  }
 ],
 "metadata": {
  "kernelspec": {
   "display_name": "Python 3",
   "language": "python",
   "name": "python3"
  },
  "language_info": {
   "codemirror_mode": {
    "name": "ipython",
    "version": 3
   },
   "file_extension": ".py",
   "mimetype": "text/x-python",
   "name": "python",
   "nbconvert_exporter": "python",
   "pygments_lexer": "ipython3",
   "version": "3.6.7"
  }
 },
 "nbformat": 4,
 "nbformat_minor": 4
}
