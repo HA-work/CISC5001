{
 "cells": [
  {
   "cell_type": "code",
   "execution_count": null,
   "metadata": {},
   "outputs": [
    {
     "name": "stdout",
     "output_type": "stream",
     "text": [
      "--Call--\n",
      "> /Library/Frameworks/Python.framework/Versions/3.6/lib/python3.6/site-packages/IPython/core/displayhook.py(252)__call__()\n",
      "-> def __call__(self, result=None):\n",
      "(Pdb) import CodeVersion3\n",
      "['Untitled10.ipynb', 'Untitled7.ipynb', 'SampleCode2', 'JN Code 1', 'SampleCode5', 'Untitled12.ipynb', 'Untitled5.ipynb', 'Untitled1.ipynb', '.DS_Store', 'previous', 'Untitled3.ipynb', 'JNCode1.py', 'Untitled14.ipynb', 'Untitled.ipynb', 'Untitled4.ipynb', 'Untitled13.ipynb', 'Untitled6.ipynb', 'Untitled11.ipynb', 'Code', 'Untitled2.ipynb', 'Train_featMat.csv', '__pycache__', 'README.md', 'RS_featMat.csv', 'SampleCode1', 'CodeVersion2', 'Untitled8.ipynb', '.ipynb_checkpoints', '.git', 'CodeVersion3.py', 'Code Version 3', 'featMatVersion2_5.csv', 'Untitled9.ipynb']\n",
      "test\n",
      "KNeighborsClassifier(algorithm='auto', leaf_size=30, metric='minkowski',\n",
      "                     metric_params=None, n_jobs=None, n_neighbors=5, p=2,\n",
      "                     weights='uniform')\n"
     ]
    }
   ],
   "source": [
    "import pdb; pdb.set_trace()"
   ]
  },
  {
   "cell_type": "code",
   "execution_count": null,
   "metadata": {},
   "outputs": [],
   "source": []
  }
 ],
 "metadata": {
  "kernelspec": {
   "display_name": "Python 3",
   "language": "python",
   "name": "python3"
  },
  "language_info": {
   "codemirror_mode": {
    "name": "ipython",
    "version": 3
   },
   "file_extension": ".py",
   "mimetype": "text/x-python",
   "name": "python",
   "nbconvert_exporter": "python",
   "pygments_lexer": "ipython3",
   "version": "3.6.7"
  }
 },
 "nbformat": 4,
 "nbformat_minor": 4
}
