{
 "cells": [
  {
   "cell_type": "code",
   "execution_count": 1,
   "metadata": {},
   "outputs": [
    {
     "name": "stdout",
     "output_type": "stream",
     "text": [
      "['Untitled7.ipynb', 'SampleCode2', 'JN Code 1', 'SampleCode5', 'Untitled5.ipynb', 'Untitled1.ipynb', '.DS_Store', 'previous', 'Untitled3.ipynb', 'JNCode1.py', 'Untitled.ipynb', 'Untitled4.ipynb', 'Untitled6.ipynb', 'Code', 'Untitled2.ipynb', 'Train_featMat.csv', '__pycache__', 'README.md', 'RS_featMat.csv', 'SampleCode1', 'CodeVersion2', 'Untitled8.ipynb', '.ipynb_checkpoints', '.git', 'CodeVersion3.py', 'Code Version 3', 'featMatVersion2_5.csv']\n",
      "test\n"
     ]
    }
   ],
   "source": [
    "import CodeVersion3"
   ]
  },
  {
   "cell_type": "code",
   "execution_count": null,
   "metadata": {},
   "outputs": [],
   "source": []
  }
 ],
 "metadata": {
  "kernelspec": {
   "display_name": "Python 3",
   "language": "python",
   "name": "python3"
  },
  "language_info": {
   "codemirror_mode": {
    "name": "ipython",
    "version": 3
   },
   "file_extension": ".py",
   "mimetype": "text/x-python",
   "name": "python",
   "nbconvert_exporter": "python",
   "pygments_lexer": "ipython3",
   "version": "3.6.7"
  }
 },
 "nbformat": 4,
 "nbformat_minor": 4
}
