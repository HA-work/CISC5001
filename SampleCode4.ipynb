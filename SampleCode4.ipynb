{
  "nbformat": 4,
  "nbformat_minor": 0,
  "metadata": {
    "colab": {
      "name": "SampleCode4.ipynb",
      "provenance": []
    },
    "kernelspec": {
      "name": "python3",
      "display_name": "Python 3"
    }
  },
  "cells": [
    {
      "cell_type": "code",
      "metadata": {
        "id": "DfxZWeR8qeAQ",
        "outputId": "28981b76-407e-4919-f232-9acc0fcbb617",
        "colab": {
          "base_uri": "https://localhost:8080/",
          "height": 1000
        }
      },
      "source": [
        "#RF version 2.1\n",
        "%tensorflow_version 2.x\n",
        "import tensorflow as tf\n",
        "tf.__version__\n",
        "\n",
        "import tensorflow as tf\n",
        "from tensorflow import keras\n",
        "import numpy as np\n",
        "import matplotlib.pyplot as plt\n",
        "\n",
        "# Download Fashion MNIST dataset\n",
        "fashion_mnist = keras.datasets.fashion_mnist\n",
        "(trImages, trLabels), (tImages, tLabels) = fashion_mnist.load_data()\n",
        "\n",
        "\n",
        "#print some information\n",
        "# Download Fashion MNIST dataset\n",
        "fashion_mnist = keras.datasets.fashion_mnist\n",
        "(trImages, trLabels), (tImages, tLabels) = fashion_mnist.load_data()\n",
        "\n",
        "\n",
        "#print out pictures, but it works\n",
        "paramk = 11 # parameter k of k-nearest neighbors\n",
        "numTrainImages = np.shape(trLabels)[0] # so many train images\n",
        "numTestImages = np.shape(tLabels)[0] # so many test images\n",
        "\n",
        "arrayKNNLabels = np.array([])\n",
        "for iTeI in range(1,numTestImages):\n",
        "  arrayL2Norm = np.array([]) # store distance of a test image from all train images\n",
        "  for jTrI in range(numTrainImages):  \n",
        "    l2norm = np.sum(((trImages[jTrI]-tImages[iTeI])/255.0)**2)**(0.5) # distance between two images; 255 is max. pixel value ==> normalization   \n",
        "    arrayL2Norm = np.append(arrayL2Norm, l2norm)\n",
        "    \n",
        "  sIndex = np.argsort(arrayL2Norm) # sorting distance and returning indices that achieves sort\n",
        "  \n",
        "  kLabels = trLabels[sIndex[0:paramk]] # choose first k labels  \n",
        "  (values, counts) = np.unique(kLabels, return_counts=True) # find unique labels and their counts\n",
        "  arrayKNNLabels = np.append(arrayKNNLabels, values[np.argmax(counts)])\n",
        "  print(arrayL2Norm[sIndex[0]], kLabels, arrayKNNLabels[-1], tLabels[iTeI])\n",
        "  \n",
        "  if arrayKNNLabels[-1] != tLabels[iTeI]:\n",
        "\n",
        "    plt.figure(1)\n",
        "    plt.imshow(tImages[iTeI])\n",
        "    plt.draw()\n",
        "    \n",
        "    for i in range(numTrainImages):\n",
        "      if trLabels[i] == arrayKNNLabels[-1]:\n",
        "        plt.figure(2)\n",
        "        plt.imshow(trImages[i])\n",
        "        plt.draw()\n",
        "        break\n",
        "  \n",
        "    plt.show()\n",
        "    \n",
        "    \n",
        "    \n",
        "#last two code does not work, maybe Tensorflow version need to be change\n",
        "'''\n",
        "first code don't work\n",
        "'''\n",
        "paramk = 11 # parameter k of k-nearest neighbors\n",
        "numTrainImages = np.shape(trLabels)[0] # so many train images\n",
        "numTestImages = np.shape(tLabels)[0] # so many test images\n",
        "\n",
        "arrayKNNLabels = np.array([])\n",
        "numErrs = 0\n",
        "for iTeI in range(0,numTestImages):\n",
        "  arrayL2Norm = np.array([]) # store distance of a test image from all train images\n",
        "  \n",
        "  tmpTImage = np.copy(tImages[iTeI])\n",
        "  tmpTImage[tmpTImage > 0] = 1\n",
        "  \n",
        "  for jTrI in range(numTrainImages):\n",
        "    tmpTrImage = np.copy(trImages[jTrI])\n",
        "    tmpTrImage[tmpTrImage>0] = 1\n",
        "    \n",
        "    \n",
        "    l2norm = np.sum(((tmpTrImage-tmpTImage)**2)**(0.5)) # distance between two images; 255 is max. pixel value ==> normalization \n",
        "    if jTrI == 0:\n",
        "      with tf.Session() as sess:\n",
        "        print(tf.count_nonzero(tmpTrImage-tmpTImage, axis=[0,1]).eval())      \n",
        "      print(iTeI, jTrI, l2norm)\n",
        "    arrayL2Norm = np.append(arrayL2Norm, l2norm)\n",
        "    \n",
        "  sIndex = np.argsort(arrayL2Norm) # sorting distance and returning indices that achieves sort\n",
        "  \n",
        "  kLabels = trLabels[sIndex[0:paramk]] # choose first k labels  \n",
        "  (values, counts) = np.unique(kLabels, return_counts=True) # find unique labels and their counts\n",
        "  arrayKNNLabels = np.append(arrayKNNLabels, values[np.argmax(counts)])\n",
        "   \n",
        "  if arrayKNNLabels[-1] != tLabels[iTeI]:\n",
        "    numErrs += 1\n",
        "    print(numErrs,\"/\",iTeI)\n",
        "print(\"# Classification Errors= \", numErrs, \"% accuracy= \", 100.*(numTestImages-numErrs)/numTestImages)\n",
        "\n",
        "\n",
        "'''\n",
        "second code don't work\n",
        "'''\n",
        "paramk = 11 # parameter k of K-nearest neighbors\n",
        "\n",
        "# Defining KNN Graph with L0 Norm\n",
        "x = tf.placeholder(trImages.dtype, shape=trImages.shape) # all train images, i.e., 60000 x 28 x 28\n",
        "y = tf.placeholder(tImages.dtype, shape=tImages.shape[1:]) # a test image, 28 x 28\n",
        "\n",
        "xThresholded = tf.clip_by_value(tf.cast(x, tf.int32), 0, 1) # x is int8 which is not supported in many tf functions, hence typecast\n",
        "yThresholded = tf.clip_by_value(tf.cast(y, tf.int32), 0, 1) # clip_by_value converts dataset to tensors of 0 and 1, i.e., 1 where tensor is non-zero\n",
        "computeL0Dist = tf.count_nonzero(xThresholded - yThresholded, axis=[1,2]) # Computing L0 Norm by reducing along axes\n",
        "findKClosestTrImages = tf.contrib.framework.argsort(computeL0Dist, direction='ASCENDING') # sorting (image) indices in order of ascending metrics, pick first k in the next step\n",
        "findLabelsKClosestTrImages = tf.gather(trLabels, findKClosestTrImages[0:paramk]) # doing trLabels[findKClosestTrImages[0:paramk]] throws error, hence this workaround\n",
        "findULabels, findIdex, findCounts = tf.unique_with_counts(findLabelsKClosestTrImages) # examine labels of k closest Train images\n",
        "findPredictedLabel = tf.gather(findULabels, tf.argmax(findCounts)) # assign label to test image based on most occurring labels among k closest Train images\n",
        "\n",
        "# Let's run the graph\n",
        "numErrs = 0\n",
        "numTestImages = np.shape(tLabels)[0]\n",
        "numTrainImages = np.shape(trLabels)[0] # so many train images\n",
        "\n",
        "with tf.Session() as sess:\n",
        "  for iTeI in range(0,numTestImages): # iterate each image in test set\n",
        "    predictedLabel = sess.run([findPredictedLabel], feed_dict={x:trImages, y:tImages[iTeI]})   \n",
        "\n",
        "    if predictedLabel == tLabels[iTeI]:\n",
        "      numErrs += 1\n",
        "      print(numErrs,\"/\",iTeI)\n",
        "      print(\"\\t\\t\", predictedLabel[0], \"\\t\\t\\t\\t\", tLabels[iTeI])\n",
        "      \n",
        "      if (1):\n",
        "        plt.figure(1)\n",
        "        plt.subplot(1,2,1)\n",
        "        plt.imshow(tImages[iTeI])\n",
        "        plt.title('Test Image has label %i' %(predictedLabel[0]))\n",
        "        \n",
        "        for i in range(numTrainImages):\n",
        "          if trLabels[i] == predictedLabel:\n",
        "            plt.subplot(1,2,2)\n",
        "            plt.imshow(trImages[i])\n",
        "            plt.title('Correctly Labeled as %i' %(tLabels[iTeI]))\n",
        "            plt.draw()\n",
        "            break\n",
        "        plt.show()\n",
        "\n",
        "print(\"# Classification Errors= \", numErrs, \"% accuracy= \", 100.*(numTestImages-numErrs)/numTestImages)\n"
      ],
      "execution_count": null,
      "outputs": [
        {
          "output_type": "stream",
          "text": [
            "7.484982273252969 [3 6 0 0 0 0 0 0 3 4 6] 0.0 2\n"
          ],
          "name": "stdout"
        },
        {
          "output_type": "display_data",
          "data": {
            "image/png": "[encoded data removed]",
            "text/plain": [
              "<Figure size 432x288 with 1 Axes>"
            ]
          },
          "metadata": {
            "tags": [],
            "needs_background": "light"
          }
        },
        {
          "output_type": "display_data",
          "data": {
            "image/png": "[encoded data removed]",
            "text/plain": [
              "<Figure size 432x288 with 1 Axes>"
            ]
          },
          "metadata": {
            "tags": [],
            "needs_background": "light"
          }
        },
        {
          "output_type": "stream",
          "text": [
            "5.890825271217032 [6 6 0 5 5 6 4 4 6 2 0] 6.0 1\n"
          ],
          "name": "stdout"
        },
        {
          "output_type": "display_data",
          "data": {
            "image/png": "[encoded data removed]",
            "text/plain": [
              "<Figure size 432x288 with 1 Axes>"
            ]
          },
          "metadata": {
            "tags": [],
            "needs_background": "light"
          }
        },
        {
          "output_type": "display_data",
          "data": {
            "image/png": "[encoded data removed]",
            "text/plain": [
              "<Figure size 432x288 with 1 Axes>"
            ]
          },
          "metadata": {
            "tags": [],
            "needs_background": "light"
          }
        },
        {
          "output_type": "stream",
          "text": [
            "6.285295876266343 [1 1 1 1 1 1 1 1 1 1 1] 1.0 1\n",
            "8.289753637997967 [0 6 0 6 0 0 0 0 0 0 0] 0.0 6\n"
          ],
          "name": "stdout"
        },
        {
          "output_type": "display_data",
          "data": {
            "image/png": "[encoded data removed]",
            "text/plain": [
              "<Figure size 432x288 with 1 Axes>"
            ]
          },
          "metadata": {
            "tags": [],
            "needs_background": "light"
          }
        },
        {
          "output_type": "display_data",
          "data": {
            "image/png": "[encoded data removed]",
            "text/plain": [
              "<Figure size 432x288 with 1 Axes>"
            ]
          },
          "metadata": {
            "tags": [],
            "needs_background": "light"
          }
        },
        {
          "output_type": "stream",
          "text": [
            "6.448711681641627 [1 5 0 1 5 5 5 1 1 0 5] 5.0 1\n"
          ],
          "name": "stdout"
        },
        {
          "output_type": "display_data",
          "data": {
            "image/png": "[encoded data removed]",
            "text/plain": [
              "<Figure size 432x288 with 1 Axes>"
            ]
          },
          "metadata": {
            "tags": [],
            "needs_background": "light"
          }
        },
        {
          "output_type": "display_data",
          "data": {
            "image/png": "[encoded data removed]",
            "text/plain": [
              "<Figure size 432x288 with 1 Axes>"
            ]
          },
          "metadata": {
            "tags": [],
            "needs_background": "light"
          }
        },
        {
          "output_type": "stream",
          "text": [
            "8.154917754535433 [2 4 2 6 4 2 6 2 4 2 6] 2.0 4\n"
          ],
          "name": "stdout"
        },
        {
          "output_type": "display_data",
          "data": {
            "image/png": "[encoded data removed]",
            "text/plain": [
              "<Figure size 432x288 with 1 Axes>"
            ]
          },
          "metadata": {
            "tags": [],
            "needs_background": "light"
          }
        },
        {
          "output_type": "display_data",
          "data": {
            "image/png": "[encoded data removed]",
            "text/plain": [
              "<Figure size 432x288 with 1 Axes>"
            ]
          },
          "metadata": {
            "tags": [],
            "needs_background": "light"
          }
        }
      ]
    },
    {
      "cell_type": "code",
      "metadata": {
        "id": "yBltZtCWrrro"
      },
      "source": [
        ""
      ],
      "execution_count": null,
      "outputs": []
    },
    {
      "cell_type": "code",
      "metadata": {
        "id": "VmxOzbnNqiGG"
      },
      "source": [
        ""
      ],
      "execution_count": null,
      "outputs": []
    },
    {
      "cell_type": "code",
      "metadata": {
        "id": "izWXcdKcqiIm"
      },
      "source": [
        ""
      ],
      "execution_count": null,
      "outputs": []
    },
    {
      "cell_type": "code",
      "metadata": {
        "id": "PH2a517MqiLU"
      },
      "source": [
        ""
      ],
      "execution_count": null,
      "outputs": []
    },
    {
      "cell_type": "code",
      "metadata": {
        "id": "6-Jg7ZNQqiOm"
      },
      "source": [
        ""
      ],
      "execution_count": null,
      "outputs": []
    },
    {
      "cell_type": "code",
      "metadata": {
        "id": "csSx3ImFqiRE"
      },
      "source": [
        ""
      ],
      "execution_count": null,
      "outputs": []
    },
    {
      "cell_type": "code",
      "metadata": {
        "id": "Vf2fdItZqiT3"
      },
      "source": [
        ""
      ],
      "execution_count": null,
      "outputs": []
    },
    {
      "cell_type": "code",
      "metadata": {
        "id": "lCFPsa63qiWl"
      },
      "source": [
        ""
      ],
      "execution_count": null,
      "outputs": []
    }
  ]
}