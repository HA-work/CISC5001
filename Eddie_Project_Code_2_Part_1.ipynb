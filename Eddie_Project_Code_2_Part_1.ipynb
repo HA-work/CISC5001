{
  "nbformat": 4,
  "nbformat_minor": 0,
  "metadata": {
    "kernelspec": {
      "display_name": "Python 3",
      "language": "python",
      "name": "python3"
    },
    "language_info": {
      "codemirror_mode": {
        "name": "ipython",
        "version": 3
      },
      "file_extension": ".py",
      "mimetype": "text/x-python",
      "name": "python",
      "nbconvert_exporter": "python",
      "pygments_lexer": "ipython3",
      "version": "3.8.3"
    },
    "colab": {
      "name": "New Project Code 2 Part 1.ipynb",
      "provenance": []
    }
  },
  "cells": [
    {
      "cell_type": "code",
      "metadata": {
        "id": "NLJjkG-qsQ_A",
        "outputId": "ab81f474-8a9a-42d8-c736-5a0042e3ed72",
        "colab": {
          "base_uri": "https://localhost:8080/"
        }
      },
      "source": [
        "import numpy as np # linear algebra\n",
        "import pandas as pd # data processing, CSV file I/O (e.g. pd.read_csv)\n",
        "import tensorflow as tf\n",
        "\n",
        "import sys\n",
        "\n",
        "'''\n",
        "Reusing code:\n",
        "https://stackabuse.com/k-nearest-neighbors-algorithm-in-python-and-scikit-learn/\n",
        "\n",
        "Explaining result:\n",
        "https://datascience.stackexchange.com/questions/65839/macro-average-and-weighted-average-meaning-in-classification-report\n",
        "\n",
        "\n",
        "Test_fearMat_Clean: 4168\n",
        "    Before edit: 4231 rows × 34 columns\n",
        "    After edit: 4168 rows × 34 columns\n",
        "    \n",
        "    #removed 6 to 7\n",
        "    total = 3749         (20% = 750; 80% = 2,999)\n",
        "    \n",
        "\n",
        "Train_fearMat_Clean: 16680\n",
        "    Before edit: 16927 rows × 34 columns\n",
        "    After edit: 16680 rows × 34 columns\n",
        "    \n",
        "    #removed 6 to 7\n",
        "    total = 15045         (20% = 3,009; 80% = 12,036)\n",
        "\n",
        "'''\n",
        "\n",
        "import os\n",
        "#print(os.listdir(r\"C:\\Users\\eddie\\OneDrive\\Desktop\\CISC 4900\"))         #print out what's in the file/directory\n",
        "\n",
        "#train = pd.read_csv(r\"C:\\Users\\eddie\\OneDrive\\Desktop\\CISC 4900\\featMatVersion2_10.csv\")         #using test\n",
        "\n",
        "\n",
        "print(os.listdir(r\".\"))         #print out what's in the file/directory\n",
        "train = pd.read_csv(r\"featMatVersion2_10.csv\")\n",
        "\n",
        "#upload the csv to google colab\n",
        "#for some reason need to do this each time\n",
        "#need to find a way to store and acces from drive\n",
        "\n",
        "#pd.read_csv('/My Drive/Collab Notebooks/featMatVersion2_10.csv')\n",
        "\n",
        "\n",
        "#train = pd.read_csv(r\"Test_dataset.csv\")         #using test\n",
        "#test = pd.read_csv(r\"C:\\Users\\eddie\\OneDrive\\Desktop\\CISC 4900\\Train_dataset.csv\")"
      ],
      "execution_count": null,
      "outputs": [
        {
          "output_type": "stream",
          "text": [
            "['.config', 'featMatVersion2_10.csv', 'sample_data']\n"
          ],
          "name": "stdout"
        }
      ]
    },
    {
      "cell_type": "code",
      "metadata": {
        "id": "ea2c4gqwsQ_I",
        "outputId": "d0ce7990-1af9-4230-a0b3-c56891175ff1",
        "colab": {
          "base_uri": "https://localhost:8080/",
          "height": 292
        }
      },
      "source": [
        "#print\n",
        "train.head()"
      ],
      "execution_count": null,
      "outputs": [
        {
          "output_type": "execute_result",
          "data": {
            "text/html": [
              "<div>\n",
              "<style scoped>\n",
              "    .dataframe tbody tr th:only-of-type {\n",
              "        vertical-align: middle;\n",
              "    }\n",
              "\n",
              "    .dataframe tbody tr th {\n",
              "        vertical-align: top;\n",
              "    }\n",
              "\n",
              "    .dataframe thead th {\n",
              "        text-align: right;\n",
              "    }\n",
              "</style>\n",
              "<table border=\"1\" class=\"dataframe\">\n",
              "  <thead>\n",
              "    <tr style=\"text-align: right;\">\n",
              "      <th></th>\n",
              "      <th>User_ID</th>\n",
              "      <th>Doc_ID</th>\n",
              "      <th>Inter-Stroke time</th>\n",
              "      <th>Stroke Duration</th>\n",
              "      <th>Start X</th>\n",
              "      <th>Start Y</th>\n",
              "      <th>Stop X</th>\n",
              "      <th>Stop Y</th>\n",
              "      <th>Direct end-to-end Distance</th>\n",
              "      <th>Mean resulant length</th>\n",
              "      <th>WSAD Flag</th>\n",
              "      <th>Direction of end-to-end Time</th>\n",
              "      <th>Phone_ID</th>\n",
              "      <th>20 per pairwise velocity</th>\n",
              "      <th>50 per pairwise velocity</th>\n",
              "      <th>80 per pairwise velocity</th>\n",
              "      <th>20 per pairwise acc</th>\n",
              "      <th>50 per pairwise acc</th>\n",
              "      <th>80 per pairwise acc</th>\n",
              "      <th>Median velocity at last 3pts</th>\n",
              "      <th>Largest deviation from end-to-end line</th>\n",
              "      <th>20 per dev line</th>\n",
              "      <th>50 per dev line</th>\n",
              "      <th>80 per dev line</th>\n",
              "      <th>Average Direction</th>\n",
              "      <th>Length of Trajectory</th>\n",
              "      <th>Ratio dist and length of trajectory</th>\n",
              "      <th>Average velocity</th>\n",
              "      <th>Median acceleration at first 5 pts</th>\n",
              "      <th>Mid-Stroke pressure</th>\n",
              "      <th>Mid-Stroke area covered</th>\n",
              "      <th>Mid-Stroke finger orientation</th>\n",
              "      <th>Change of finger orientation</th>\n",
              "      <th>Phone orientation</th>\n",
              "    </tr>\n",
              "  </thead>\n",
              "  <tbody>\n",
              "    <tr>\n",
              "      <th>0</th>\n",
              "      <td>37</td>\n",
              "      <td>4</td>\n",
              "      <td>0.341</td>\n",
              "      <td>0.256</td>\n",
              "      <td>27.416</td>\n",
              "      <td>-27.113</td>\n",
              "      <td>12.3980</td>\n",
              "      <td>-32.960</td>\n",
              "      <td>16.1160</td>\n",
              "      <td>0.35736</td>\n",
              "      <td>4</td>\n",
              "      <td>-2.770400</td>\n",
              "      <td>1</td>\n",
              "      <td>0.41784</td>\n",
              "      <td>4.1784</td>\n",
              "      <td>2719.20</td>\n",
              "      <td>-604180.0</td>\n",
              "      <td>-432.24</td>\n",
              "      <td>603320.0</td>\n",
              "      <td>4.1784</td>\n",
              "      <td>0.17777</td>\n",
              "      <td>0.000000</td>\n",
              "      <td>0.00000</td>\n",
              "      <td>0.124440</td>\n",
              "      <td>-2.581200</td>\n",
              "      <td>16.1320</td>\n",
              "      <td>0.99898</td>\n",
              "      <td>63.018</td>\n",
              "      <td>-432.24</td>\n",
              "      <td>0.32</td>\n",
              "      <td>0.044444</td>\n",
              "      <td>0.0</td>\n",
              "      <td>0</td>\n",
              "      <td>1</td>\n",
              "    </tr>\n",
              "    <tr>\n",
              "      <th>1</th>\n",
              "      <td>37</td>\n",
              "      <td>4</td>\n",
              "      <td>0.913</td>\n",
              "      <td>0.086</td>\n",
              "      <td>21.771</td>\n",
              "      <td>-30.037</td>\n",
              "      <td>9.8778</td>\n",
              "      <td>-33.867</td>\n",
              "      <td>12.4950</td>\n",
              "      <td>0.26504</td>\n",
              "      <td>4</td>\n",
              "      <td>-2.830000</td>\n",
              "      <td>1</td>\n",
              "      <td>0.00000</td>\n",
              "      <td>156.7900</td>\n",
              "      <td>502.37</td>\n",
              "      <td>-26083.0</td>\n",
              "      <td>5117.70</td>\n",
              "      <td>116600.0</td>\n",
              "      <td>265.1400</td>\n",
              "      <td>0.78867</td>\n",
              "      <td>0.000000</td>\n",
              "      <td>0.00000</td>\n",
              "      <td>0.406210</td>\n",
              "      <td>-2.199400</td>\n",
              "      <td>12.5960</td>\n",
              "      <td>0.99197</td>\n",
              "      <td>146.470</td>\n",
              "      <td>5117.70</td>\n",
              "      <td>0.60</td>\n",
              "      <td>0.088889</td>\n",
              "      <td>0.0</td>\n",
              "      <td>0</td>\n",
              "      <td>1</td>\n",
              "    </tr>\n",
              "    <tr>\n",
              "      <th>2</th>\n",
              "      <td>37</td>\n",
              "      <td>4</td>\n",
              "      <td>0.733</td>\n",
              "      <td>0.111</td>\n",
              "      <td>10.886</td>\n",
              "      <td>-34.169</td>\n",
              "      <td>26.9120</td>\n",
              "      <td>-34.673</td>\n",
              "      <td>16.0340</td>\n",
              "      <td>0.99118</td>\n",
              "      <td>2</td>\n",
              "      <td>-0.031436</td>\n",
              "      <td>1</td>\n",
              "      <td>32.12200</td>\n",
              "      <td>143.8500</td>\n",
              "      <td>263.58</td>\n",
              "      <td>-52140.0</td>\n",
              "      <td>-3563.50</td>\n",
              "      <td>26382.0</td>\n",
              "      <td>188.8200</td>\n",
              "      <td>-1.06510</td>\n",
              "      <td>-0.802530</td>\n",
              "      <td>-0.11658</td>\n",
              "      <td>0.000000</td>\n",
              "      <td>0.086288</td>\n",
              "      <td>16.2030</td>\n",
              "      <td>0.98959</td>\n",
              "      <td>145.970</td>\n",
              "      <td>-3563.50</td>\n",
              "      <td>0.48</td>\n",
              "      <td>0.044444</td>\n",
              "      <td>0.0</td>\n",
              "      <td>0</td>\n",
              "      <td>1</td>\n",
              "    </tr>\n",
              "    <tr>\n",
              "      <th>3</th>\n",
              "      <td>37</td>\n",
              "      <td>4</td>\n",
              "      <td>0.448</td>\n",
              "      <td>0.094</td>\n",
              "      <td>19.151</td>\n",
              "      <td>-34.572</td>\n",
              "      <td>12.7000</td>\n",
              "      <td>-36.790</td>\n",
              "      <td>6.8213</td>\n",
              "      <td>0.59647</td>\n",
              "      <td>4</td>\n",
              "      <td>-2.810500</td>\n",
              "      <td>1</td>\n",
              "      <td>17.36000</td>\n",
              "      <td>76.6380</td>\n",
              "      <td>230.62</td>\n",
              "      <td>-10012.0</td>\n",
              "      <td>-4604.10</td>\n",
              "      <td>25874.0</td>\n",
              "      <td>95.8570</td>\n",
              "      <td>0.60170</td>\n",
              "      <td>0.000000</td>\n",
              "      <td>0.10128</td>\n",
              "      <td>0.570430</td>\n",
              "      <td>-2.723100</td>\n",
              "      <td>6.9674</td>\n",
              "      <td>0.97902</td>\n",
              "      <td>74.122</td>\n",
              "      <td>-4604.10</td>\n",
              "      <td>0.40</td>\n",
              "      <td>0.044444</td>\n",
              "      <td>0.0</td>\n",
              "      <td>0</td>\n",
              "      <td>1</td>\n",
              "    </tr>\n",
              "    <tr>\n",
              "      <th>4</th>\n",
              "      <td>37</td>\n",
              "      <td>4</td>\n",
              "      <td>0.519</td>\n",
              "      <td>0.056</td>\n",
              "      <td>27.718</td>\n",
              "      <td>-32.758</td>\n",
              "      <td>14.6150</td>\n",
              "      <td>-37.294</td>\n",
              "      <td>13.8660</td>\n",
              "      <td>0.67819</td>\n",
              "      <td>4</td>\n",
              "      <td>-2.808300</td>\n",
              "      <td>1</td>\n",
              "      <td>74.82100</td>\n",
              "      <td>275.5700</td>\n",
              "      <td>993.21</td>\n",
              "      <td>-126180.0</td>\n",
              "      <td>-21377.00</td>\n",
              "      <td>217040.0</td>\n",
              "      <td>244.6800</td>\n",
              "      <td>-0.10990</td>\n",
              "      <td>-0.096714</td>\n",
              "      <td>0.00000</td>\n",
              "      <td>0.001099</td>\n",
              "      <td>-2.717000</td>\n",
              "      <td>13.8710</td>\n",
              "      <td>0.99965</td>\n",
              "      <td>247.690</td>\n",
              "      <td>-21377.00</td>\n",
              "      <td>0.44</td>\n",
              "      <td>0.044444</td>\n",
              "      <td>0.0</td>\n",
              "      <td>0</td>\n",
              "      <td>1</td>\n",
              "    </tr>\n",
              "  </tbody>\n",
              "</table>\n",
              "</div>"
            ],
            "text/plain": [
              "   User_ID  Doc_ID  ...  Change of finger orientation  Phone orientation\n",
              "0       37       4  ...                             0                  1\n",
              "1       37       4  ...                             0                  1\n",
              "2       37       4  ...                             0                  1\n",
              "3       37       4  ...                             0                  1\n",
              "4       37       4  ...                             0                  1\n",
              "\n",
              "[5 rows x 34 columns]"
            ]
          },
          "metadata": {
            "tags": []
          },
          "execution_count": 9
        }
      ]
    },
    {
      "cell_type": "code",
      "metadata": {
        "id": "N_7dnDX4sQ_U",
        "outputId": "622bacee-182f-4e99-8c74-a5ab5e41d6f1",
        "colab": {
          "base_uri": "https://localhost:8080/"
        }
      },
      "source": [
        "np.any(np.isnan(train))"
      ],
      "execution_count": null,
      "outputs": [
        {
          "output_type": "execute_result",
          "data": {
            "text/plain": [
              "False"
            ]
          },
          "metadata": {
            "tags": []
          },
          "execution_count": 10
        }
      ]
    },
    {
      "cell_type": "code",
      "metadata": {
        "id": "iTCHhsEtsQ_m",
        "outputId": "5bb4b84a-88eb-4196-d18d-fdccdb0509ec",
        "colab": {
          "base_uri": "https://localhost:8080/"
        }
      },
      "source": [
        "np.all(np.isfinite(train))"
      ],
      "execution_count": null,
      "outputs": [
        {
          "output_type": "execute_result",
          "data": {
            "text/plain": [
              "True"
            ]
          },
          "metadata": {
            "tags": []
          },
          "execution_count": 11
        }
      ]
    },
    {
      "cell_type": "code",
      "metadata": {
        "id": "SEotZNcssQ_1",
        "outputId": "0f368208-688a-4377-e34e-8520a3b10c2f",
        "colab": {
          "base_uri": "https://localhost:8080/"
        }
      },
      "source": [
        "#print out the columns\n",
        "train.columns"
      ],
      "execution_count": null,
      "outputs": [
        {
          "output_type": "execute_result",
          "data": {
            "text/plain": [
              "Index(['User_ID', 'Doc_ID', 'Inter-Stroke time', 'Stroke Duration', 'Start X',\n",
              "       'Start Y', 'Stop X', 'Stop Y', 'Direct end-to-end Distance',\n",
              "       'Mean resulant length', 'WSAD Flag', 'Direction of end-to-end Time',\n",
              "       'Phone_ID', '20 per pairwise velocity', '50 per pairwise velocity',\n",
              "       '80 per pairwise velocity', '20 per pairwise acc',\n",
              "       '50 per pairwise acc', '80 per pairwise acc',\n",
              "       'Median velocity at last 3pts',\n",
              "       'Largest deviation from end-to-end line', '20 per dev line',\n",
              "       '50 per dev line', '80 per dev line', 'Average Direction',\n",
              "       'Length of Trajectory', 'Ratio dist and length of trajectory',\n",
              "       'Average velocity', 'Median acceleration at first 5 pts',\n",
              "       'Mid-Stroke pressure', 'Mid-Stroke area covered',\n",
              "       'Mid-Stroke finger orientation', 'Change of finger orientation',\n",
              "       'Phone orientation'],\n",
              "      dtype='object')"
            ]
          },
          "metadata": {
            "tags": []
          },
          "execution_count": 12
        }
      ]
    },
    {
      "cell_type": "code",
      "metadata": {
        "id": "DfpEDfbasQ_4",
        "outputId": "1cf61f36-3b28-4c5d-b811-403cb9518069",
        "colab": {
          "base_uri": "https://localhost:8080/"
        }
      },
      "source": [
        "#prints the amount of users in 'User_ID'\n",
        "train['User_ID'].value_counts()"
      ],
      "execution_count": null,
      "outputs": [
        {
          "output_type": "execute_result",
          "data": {
            "text/plain": [
              "2     1230\n",
              "35    1063\n",
              "23     969\n",
              "38     786\n",
              "3      759\n",
              "15     719\n",
              "33     712\n",
              "28     710\n",
              "17     706\n",
              "21     702\n",
              "14     651\n",
              "8      618\n",
              "34     613\n",
              "27     609\n",
              "7      591\n",
              "6      562\n",
              "36     500\n",
              "18     461\n",
              "9      453\n",
              "11     445\n",
              "29     439\n",
              "39     436\n",
              "24     435\n",
              "25     432\n",
              "37     424\n",
              "5      413\n",
              "1      401\n",
              "10     387\n",
              "16     382\n",
              "22     374\n",
              "31     370\n",
              "20     356\n",
              "12     342\n",
              "40     312\n",
              "13     305\n",
              "32     304\n",
              "19     293\n",
              "26     242\n",
              "4      241\n",
              "30     225\n",
              "41     186\n",
              "Name: User_ID, dtype: int64"
            ]
          },
          "metadata": {
            "tags": []
          },
          "execution_count": 13
        }
      ]
    },
    {
      "cell_type": "code",
      "metadata": {
        "id": "Uxa7-b7TsQ_8"
      },
      "source": [
        "#Choosing the columns for X\n",
        "#Not using 'User_ID', 'Doc_ID', or 'Phone_ID'\n",
        "X = train[['Inter-Stroke time', 'Stroke Duration', 'Start X', 'Start Y', 'Stop X', 'Stop Y', 'Direct end-to-end Distance',\n",
        "        'Mean resulant length', 'WSAD Flag', 'Direction of end-to-end Time', '20 per pairwise velocity', \n",
        "        '50 per pairwise velocity', '80 per pairwise velocity', '20 per pairwise acc', '50 per pairwise acc', \n",
        "        '80 per pairwise acc', 'Median velocity at last 3pts', 'Largest deviation from end-to-end line', '20 per dev line',\n",
        "        '50 per dev line', '80 per dev line', 'Average Direction', 'Length of Trajectory', \n",
        "        'Ratio dist and length of trajectory', 'Average velocity', 'Median acceleration at first 5 pts',\n",
        "        'Mid-Stroke pressure', 'Mid-Stroke area covered', 'Mid-Stroke finger orientation', 'Change of finger orientation',\n",
        "        'Phone orientation']].values"
      ],
      "execution_count": null,
      "outputs": []
    },
    {
      "cell_type": "code",
      "metadata": {
        "id": "5beQNhkvsRAA"
      },
      "source": [
        "#Choosing the lables for y\n",
        "y = train['User_ID'].values"
      ],
      "execution_count": null,
      "outputs": []
    },
    {
      "cell_type": "code",
      "metadata": {
        "id": "ui3CfitGsRAE"
      },
      "source": [
        "#Train and test split\n",
        "#80% train, 20% test\n",
        "#splitting the data into test and train dataset\n",
        "\n",
        "from sklearn.model_selection import train_test_split\n",
        "X_train, X_test, y_train, y_test = train_test_split(X, y, test_size=0.20)"
      ],
      "execution_count": null,
      "outputs": []
    },
    {
      "cell_type": "code",
      "metadata": {
        "id": "vprauDHCsRAG"
      },
      "source": [
        "#Feature Scaling\n",
        "from sklearn.preprocessing import StandardScaler\n",
        "scaler = StandardScaler()\n",
        "scaler.fit(X_train)\n",
        "\n",
        "X_train = scaler.transform(X_train)\n",
        "X_test = scaler.transform(X_test)"
      ],
      "execution_count": null,
      "outputs": []
    },
    {
      "cell_type": "code",
      "metadata": {
        "id": "kLjdCUPPsRAI",
        "outputId": "f93dd311-5676-4b22-c8a6-1e8535a28e4b",
        "colab": {
          "base_uri": "https://localhost:8080/"
        }
      },
      "source": [
        "#Training and Prediction\n",
        "from sklearn.neighbors import KNeighborsClassifier\n",
        "classifier = KNeighborsClassifier(n_neighbors=5)         #value for k\n",
        "classifier.fit(X_train, y_train)"
      ],
      "execution_count": null,
      "outputs": [
        {
          "output_type": "execute_result",
          "data": {
            "text/plain": [
              "KNeighborsClassifier(algorithm='auto', leaf_size=30, metric='minkowski',\n",
              "                     metric_params=None, n_jobs=None, n_neighbors=5, p=2,\n",
              "                     weights='uniform')"
            ]
          },
          "metadata": {
            "tags": []
          },
          "execution_count": 18
        }
      ]
    },
    {
      "cell_type": "code",
      "metadata": {
        "id": "S4b_wAWWsRAL"
      },
      "source": [
        "#Make prediction on the test data\n",
        "y_pred = classifier.predict(X_test)"
      ],
      "execution_count": null,
      "outputs": []
    },
    {
      "cell_type": "code",
      "metadata": {
        "id": "n3wPzHvLsRAN",
        "outputId": "a1910766-cc3e-4039-f844-c8bb9f042a11",
        "colab": {
          "base_uri": "https://localhost:8080/"
        }
      },
      "source": [
        "#Evaluating the Algorithm\n",
        "from sklearn.metrics import classification_report, confusion_matrix\n",
        "print(confusion_matrix(y_test, y_pred))\n",
        "print(classification_report(y_test, y_pred))"
      ],
      "execution_count": null,
      "outputs": [
        {
          "output_type": "stream",
          "text": [
            "[[ 43   0   0 ...   0   0   1]\n",
            " [  0 221   0 ...   2   3   0]\n",
            " [  0   1  83 ...   0   1   0]\n",
            " ...\n",
            " [  0   2   2 ...  42   0   0]\n",
            " [  0   1   4 ...   0  26   0]\n",
            " [  1   0   0 ...   0   0  26]]\n",
            "              precision    recall  f1-score   support\n",
            "\n",
            "           1       0.61      0.65      0.63        66\n",
            "           2       0.76      0.87      0.81       253\n",
            "           3       0.54      0.47      0.50       178\n",
            "           4       0.62      0.70      0.66        43\n",
            "           5       0.40      0.45      0.42        77\n",
            "           6       0.60      0.67      0.64       113\n",
            "           7       0.61      0.51      0.56       119\n",
            "           8       0.49      0.60      0.54       120\n",
            "           9       0.72      0.77      0.75        97\n",
            "          10       0.59      0.57      0.58        82\n",
            "          11       0.56      0.70      0.62        86\n",
            "          12       0.74      0.80      0.77        71\n",
            "          13       0.45      0.37      0.41        65\n",
            "          14       0.61      0.81      0.70       134\n",
            "          15       0.61      0.71      0.65       130\n",
            "          16       0.38      0.48      0.42        71\n",
            "          17       0.63      0.62      0.62       151\n",
            "          18       0.77      0.70      0.73        98\n",
            "          19       0.54      0.53      0.53        59\n",
            "          20       0.62      0.59      0.61        73\n",
            "          21       0.72      0.77      0.74       132\n",
            "          22       0.55      0.60      0.57        77\n",
            "          23       0.65      0.82      0.73       193\n",
            "          24       0.79      0.62      0.69        95\n",
            "          25       0.75      0.55      0.63        77\n",
            "          26       0.62      0.49      0.55        53\n",
            "          27       0.68      0.44      0.54       113\n",
            "          28       0.67      0.58      0.62       139\n",
            "          29       0.73      0.67      0.69        99\n",
            "          30       0.68      0.33      0.45        45\n",
            "          31       0.66      0.51      0.57        79\n",
            "          32       0.75      0.75      0.75        65\n",
            "          33       0.77      0.59      0.67       145\n",
            "          34       0.92      0.92      0.92       123\n",
            "          35       0.63      0.74      0.68       207\n",
            "          36       0.75      0.61      0.68        85\n",
            "          37       0.72      0.58      0.64        92\n",
            "          38       0.72      0.68      0.70       160\n",
            "          39       0.54      0.54      0.54        78\n",
            "          40       0.46      0.47      0.46        55\n",
            "          41       0.90      0.76      0.83        34\n",
            "\n",
            "    accuracy                           0.65      4232\n",
            "   macro avg       0.65      0.62      0.63      4232\n",
            "weighted avg       0.65      0.65      0.65      4232\n",
            "\n"
          ],
          "name": "stdout"
        }
      ]
    },
    {
      "cell_type": "code",
      "metadata": {
        "id": "AfTYQwOosRAP",
        "outputId": "2a5f5378-91ec-4129-9879-f7f1d68c6982",
        "colab": {
          "base_uri": "https://localhost:8080/"
        }
      },
      "source": [
        "#prints the entire confusion matrix\n",
        "#however, it doesnn't fit the entire row and loops around\n",
        "np.set_printoptions(threshold=sys.maxsize)\n",
        "resultCM = (confusion_matrix(y_test, y_pred))\n",
        "print(resultCM)"
      ],
      "execution_count": null,
      "outputs": [
        {
          "output_type": "stream",
          "text": [
            "[[ 43   0   0   2   0   0   6   1   0   0   0   0   0   0   0   0   0   0\n",
            "    0   1   0   2   2   0   0   1   0   4   0   0   0   0   0   2   0   1\n",
            "    0   0   0   0   1]\n",
            " [  0 221   0   0   0   0   0   1   4   1   0   0   1   0   5   0   0   0\n",
            "    0   0   0   0   6   2   1   0   0   2   1   0   0   0   0   0   0   1\n",
            "    1   1   2   3   0]\n",
            " [  0   1  83   1   4   3   0   6   0   2   6   2   1   1   0   2  23   3\n",
            "    4   0   5   0   0   0   1   0   9   0   0   0   0   2   1   0  14   0\n",
            "    3   0   0   1   0]\n",
            " [  3   1   0  30   0   0   1   0   0   0   0   0   0   1   0   0   0   0\n",
            "    0   0   0   1   1   0   0   0   0   1   0   1   0   0   0   1   0   0\n",
            "    0   0   1   0   1]\n",
            " [  0   2   5   0  35   2   0   7   6   1   0   4   0   0   0   2   0   0\n",
            "    4   0   0   0   1   0   0   0   0   0   0   0   0   1   1   0   1   1\n",
            "    0   0   0   4   0]\n",
            " [  0   0   4   0   2  76   0   5   0   1   2   1   2   1   0   6   3   0\n",
            "    0   0   2   0   0   1   0   0   2   0   0   0   0   0   0   0   3   0\n",
            "    0   2   0   0   0]\n",
            " [  7   8   0   2   1   1  61   1   0   0   1   0   0   0   4   0   0   0\n",
            "    0   2   0  16   3   0   0   1   0   4   1   0   0   0   0   2   0   0\n",
            "    0   2   2   0   0]\n",
            " [  0   3   6   0   5   6   0  72   0   0   0   2   1   0   2   3   0   0\n",
            "    2   0   0   0   4   0   0   0   2   0   0   0   0   1   0   0   0   0\n",
            "    3   0   0   8   0]\n",
            " [  0   1   1   0   3   1   0   0  75   0   1   0   0   1   0   0   0   0\n",
            "    0   0   0   0   6   1   0   0   0   0   1   0   0   0   0   0   0   0\n",
            "    1   0   0   5   0]\n",
            " [  0   0   6   0   0   0   0   2   0  47   7   0   0   1   0   3   2   1\n",
            "    2   0   4   0   0   0   0   0   0   0   0   0   0   0   0   0   6   0\n",
            "    0   0   0   1   0]\n",
            " [  0   0   1   0   0   0   0   3   0   3  60   1   1   0   0   1   1   5\n",
            "    3   0   4   0   0   0   0   0   0   0   0   0   0   0   0   0   2   0\n",
            "    0   0   0   1   0]\n",
            " [  0   0   1   0   2   0   0   3   0   2   0  57   0   0   0   0   0   0\n",
            "    0   0   0   0   0   0   0   0   0   0   0   0   0   1   0   0   4   1\n",
            "    0   0   0   0   0]\n",
            " [  0   1   2   0   1   6   0   7   0   0   0   0  24   0   1   3   3   0\n",
            "    0   1   1   0   0   0   1   0   0   1   0   0   1   1   0   0   6   0\n",
            "    2   0   1   2   0]\n",
            " [  0   0   1   0   0   1   0   1   0   0   0   0   0 108   4   0   0   0\n",
            "    0   0   0   0   6   0   0   0   0   0   3   0   5   0   5   0   0   0\n",
            "    0   0   0   0   0]\n",
            " [  0   3   0   0   0   1   0   0   0   0   0   0   1   4  92   0   0   0\n",
            "    0   0   0   3  12   0   0   0   0   2   3   0   1   0   5   0   0   2\n",
            "    0   1   0   0   0]\n",
            " [  0   0   4   0   1   3   0   2   1   5   2   1   0   1   0  34   4   0\n",
            "    4   0   1   0   0   0   1   0   0   0   1   0   0   0   0   0   5   0\n",
            "    0   1   0   0   0]\n",
            " [  0   0   4   0   0   5   1   1   2   1   1   0   4   2   0   9  94   3\n",
            "    0   0   1   0   0   0   0   0   1   0   0   0   0   3   0   0  16   0\n",
            "    1   0   0   2   0]\n",
            " [  0   0   0   1   0   4   0   0   0   4   6   0   1   0   0   2   2  69\n",
            "    2   0   3   0   0   0   0   0   1   0   0   0   0   0   0   0   3   0\n",
            "    0   0   0   0   0]\n",
            " [  0   1   1   0   4   0   0   2   0   2   2   0   0   0   1   2   3   3\n",
            "   31   0   2   0   0   0   0   0   1   0   0   0   0   0   0   0   2   0\n",
            "    0   1   0   1   0]\n",
            " [  1   7   0   1   1   0   0   0   0   0   1   0   1   0   2   0   0   0\n",
            "    0  43   1   1   0   0   1   1   0   7   0   0   0   0   0   0   1   0\n",
            "    0   0   4   0   0]\n",
            " [  1   0   2   0   0   2   0   0   0   1   9   1   1   0   0   1   1   0\n",
            "    1   1 101   0   0   0   1   0   2   0   1   0   0   0   0   0   6   0\n",
            "    0   0   0   0   0]\n",
            " [  4   6   0   0   0   0   9   0   0   0   0   0   1   0   1   0   0   0\n",
            "    0   3   0  46   0   0   0   1   0   1   0   2   0   0   0   1   0   0\n",
            "    0   1   1   0   0]\n",
            " [  1   3   0   0   0   0   0   0   0   0   0   0   1   4  17   0   0   0\n",
            "    0   0   0   0 158   1   0   0   0   0   1   0   0   0   3   0   0   2\n",
            "    0   2   0   0   0]\n",
            " [  0   3   1   0   1   0   2   0   1   0   0   0   2   0   3   0   1   0\n",
            "    0   0   0   0  10  59   0   0   0   3   0   0   0   0   0   0   0   1\n",
            "    1   5   2   0   0]\n",
            " [  1   9   1   1   0   0   0   0   0   2   0   0   2   0   0   0   0   1\n",
            "    0   7   1   0   1   0  42   2   0   0   0   1   0   0   1   0   0   0\n",
            "    0   2   2   0   1]\n",
            " [  0   1   1   3   0   1   5   1   1   0   0   0   0   0   1   0   0   1\n",
            "    0   0   0   2   1   0   0  26   0   2   0   1   0   0   0   0   0   2\n",
            "    0   3   1   0   0]\n",
            " [  0   1   6   0   5   4   0   7   1   1   3   1   0   0   0  10   6   2\n",
            "    1   0   4   0   0   0   0   0  50   0   0   0   0   2   0   0   6   0\n",
            "    1   0   2   0   0]\n",
            " [  5  13   2   0   2   2   7   1   0   2   1   0   1   0   1   1   0   0\n",
            "    0   2   0   1   2   6   1   1   0  80   0   0   1   0   0   0   0   1\n",
            "    0   5   1   0   0]\n",
            " [  0   1   0   0   1   0   0   0   0   0   0   1   1  14   0   0   0   0\n",
            "    0   0   0   1   3   0   0   0   0   0  66   0   2   0   3   0   0   4\n",
            "    1   1   0   0   0]\n",
            " [  1   0   0   2   5   1   6   0   1   0   1   0   0   0   0   0   0   0\n",
            "    0   1   0   0   1   0   0   4   1   1   0  15   0   0   0   0   1   0\n",
            "    0   1   3   0   0]\n",
            " [  1   0   0   0   0   0   0   2   0   0   0   0   0  18   4   0   0   0\n",
            "    0   0   0   1   2   0   0   0   0   2   4   0  40   0   5   0   0   0\n",
            "    0   0   0   0   0]\n",
            " [  0   0   1   0   3   0   0   2   2   1   0   2   1   0   0   0   0   0\n",
            "    1   0   0   0   1   0   0   0   0   0   0   0   0  49   0   0   0   0\n",
            "    1   0   1   0   0]\n",
            " [  0   1   0   1   3   2   0   2   0   0   0   2   2  15   3   0   0   0\n",
            "    0   1   0   0   4   1   1   0   0   0   7   0  10   0  86   1   0   1\n",
            "    0   0   2   0   0]\n",
            " [  1   0   0   1   0   0   0   0   0   0   0   0   0   0   1   0   0   0\n",
            "    0   0   0   0   0   0   0   1   0   1   0   0   0   0   0 113   0   0\n",
            "    0   5   0   0   0]\n",
            " [  0   0   7   1   2   3   0   3   0   3   3   1   0   0   0   9   5   2\n",
            "    2   0   7   0   0   0   0   0   2   1   0   0   0   0   0   0 153   0\n",
            "    2   0   0   1   0]\n",
            " [  0   0   0   0   0   0   0   0   4   0   0   0   0   4   6   0   0   0\n",
            "    0   0   0   0  10   0   0   0   1   1   2   0   0   0   1   0   0  52\n",
            "    1   3   0   0   0]\n",
            " [  0   0   6   0   0   1   0   4   2   1   1   1   3   0   0   1   1   0\n",
            "    0   0   1   1   0   0   0   0   1   0   0   0   0   3   0   0  11   0\n",
            "   53   0   0   1   0]\n",
            " [  0   1   1   1   2   0   2   0   1   0   0   0   0   0   3   0   0   0\n",
            "    0   1   0   4   6   3   4   1   0   4   0   1   0   0   1   3   0   0\n",
            "    0 109  11   1   0]\n",
            " [  0   2   2   1   1   0   0   0   1   0   0   0   0   0   0   1   1   0\n",
            "    0   2   0   5   2   1   1   2   0   2   0   1   1   0   0   0   1   0\n",
            "    2   7  42   0   0]\n",
            " [  0   1   4   0   3   1   0  10   2   0   0   0   1   1   0   0   0   0\n",
            "    0   0   2   0   0   0   0   0   0   0   0   0   0   2   0   0   1   0\n",
            "    1   0   0  26   0]\n",
            " [  1   0   0   0   1   0   0   0   0   0   0   0   0   0   0   0   0   0\n",
            "    0   4   0   0   0   0   1   1   0   0   0   0   0   0   0   0   0   0\n",
            "    0   0   0   0  26]]\n"
          ],
          "name": "stdout"
        }
      ]
    },
    {
      "cell_type": "code",
      "metadata": {
        "id": "TR-wa43BsRAS",
        "outputId": "a2dedadc-12e3-49e9-edb7-c22b7d74f826",
        "colab": {
          "base_uri": "https://localhost:8080/"
        }
      },
      "source": [
        "resultCR = (classification_report(y_test, y_pred))\n",
        "print(resultCR)"
      ],
      "execution_count": null,
      "outputs": [
        {
          "output_type": "stream",
          "text": [
            "              precision    recall  f1-score   support\n",
            "\n",
            "           1       0.61      0.65      0.63        66\n",
            "           2       0.76      0.87      0.81       253\n",
            "           3       0.54      0.47      0.50       178\n",
            "           4       0.62      0.70      0.66        43\n",
            "           5       0.40      0.45      0.42        77\n",
            "           6       0.60      0.67      0.64       113\n",
            "           7       0.61      0.51      0.56       119\n",
            "           8       0.49      0.60      0.54       120\n",
            "           9       0.72      0.77      0.75        97\n",
            "          10       0.59      0.57      0.58        82\n",
            "          11       0.56      0.70      0.62        86\n",
            "          12       0.74      0.80      0.77        71\n",
            "          13       0.45      0.37      0.41        65\n",
            "          14       0.61      0.81      0.70       134\n",
            "          15       0.61      0.71      0.65       130\n",
            "          16       0.38      0.48      0.42        71\n",
            "          17       0.63      0.62      0.62       151\n",
            "          18       0.77      0.70      0.73        98\n",
            "          19       0.54      0.53      0.53        59\n",
            "          20       0.62      0.59      0.61        73\n",
            "          21       0.72      0.77      0.74       132\n",
            "          22       0.55      0.60      0.57        77\n",
            "          23       0.65      0.82      0.73       193\n",
            "          24       0.79      0.62      0.69        95\n",
            "          25       0.75      0.55      0.63        77\n",
            "          26       0.62      0.49      0.55        53\n",
            "          27       0.68      0.44      0.54       113\n",
            "          28       0.67      0.58      0.62       139\n",
            "          29       0.73      0.67      0.69        99\n",
            "          30       0.68      0.33      0.45        45\n",
            "          31       0.66      0.51      0.57        79\n",
            "          32       0.75      0.75      0.75        65\n",
            "          33       0.77      0.59      0.67       145\n",
            "          34       0.92      0.92      0.92       123\n",
            "          35       0.63      0.74      0.68       207\n",
            "          36       0.75      0.61      0.68        85\n",
            "          37       0.72      0.58      0.64        92\n",
            "          38       0.72      0.68      0.70       160\n",
            "          39       0.54      0.54      0.54        78\n",
            "          40       0.46      0.47      0.46        55\n",
            "          41       0.90      0.76      0.83        34\n",
            "\n",
            "    accuracy                           0.65      4232\n",
            "   macro avg       0.65      0.62      0.63      4232\n",
            "weighted avg       0.65      0.65      0.65      4232\n",
            "\n"
          ],
          "name": "stdout"
        }
      ]
    },
    {
      "cell_type": "code",
      "metadata": {
        "id": "nyj8BL3jsRAU",
        "outputId": "6ab02e74-e28a-40fd-fdc1-274bcd77b289",
        "colab": {
          "base_uri": "https://localhost:8080/",
          "height": 86
        }
      },
      "source": [
        "'''\n",
        "'macro':\n",
        " Calculate metrics for each label, and find their unweighted mean. This does not take label imbalance into account.\n",
        "\n",
        "'weighted':\n",
        " Calculate metrics for each label, and find their average weighted by support (the number of true instances for each label).\n",
        " This alters ‘macro’ to account for label imbalance; it can result in an F-score that is not between precision and recall.\n",
        "'''"
      ],
      "execution_count": null,
      "outputs": [
        {
          "output_type": "execute_result",
          "data": {
            "application/vnd.google.colaboratory.intrinsic+json": {
              "type": "string"
            },
            "text/plain": [
              "\"\\n'macro':\\n Calculate metrics for each label, and find their unweighted mean. This does not take label imbalance into account.\\n\\n'weighted':\\n Calculate metrics for each label, and find their average weighted by support (the number of true instances for each label).\\n This alters ‘macro’ to account for label imbalance; it can result in an F-score that is not between precision and recall.\\n\""
            ]
          },
          "metadata": {
            "tags": []
          },
          "execution_count": 23
        }
      ]
    },
    {
      "cell_type": "code",
      "metadata": {
        "id": "ocaGXYNtsRAX"
      },
      "source": [
        "#Code had to be modify a little to be compatable with my current Tensorflow\n",
        "#Convert Tensorflow2 to Tensorflow1 to run some part of the code\n",
        "#There was still an issue with one part of the code but everything else seems fine\n",
        "\n",
        "'''\n",
        "https://www.kaggle.com/nihalbey/knn-with-tensorflow/notebook\n",
        "'''\n",
        "\n",
        "\n",
        "# This Python 3 environment comes with many helpful analytics libraries installed\n",
        "# It is defined by the kaggle/python docker image: https://github.com/kaggle/docker-python\n",
        "# For example, here's several helpful packages to load in \n",
        "\n",
        "import numpy as np # linear algebra\n",
        "import pandas as pd # data processing, CSV file I/O (e.g. pd.read_csv)\n",
        "import tensorflow.compat.v1 as tf\n",
        "# Input data files are available in the \"../input/\" directory.\n",
        "# For example, running this (by clicking run or pressing Shift+Enter) will list the files in the input directory"
      ],
      "execution_count": null,
      "outputs": []
    },
    {
      "cell_type": "code",
      "metadata": {
        "id": "reK3M8PDsRAZ"
      },
      "source": [
        "import tensorflow.compat.v1 as tf"
      ],
      "execution_count": null,
      "outputs": []
    },
    {
      "cell_type": "code",
      "metadata": {
        "id": "tN8mlVm4sRAc"
      },
      "source": [
        ""
      ],
      "execution_count": null,
      "outputs": []
    }
  ]
}
